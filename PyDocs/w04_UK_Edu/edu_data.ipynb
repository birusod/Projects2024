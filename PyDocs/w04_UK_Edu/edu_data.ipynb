{
 "cells": [
  {
   "cell_type": "markdown",
   "metadata": {},
   "source": [
    "# Educational in English Towns"
   ]
  },
  {
   "cell_type": "markdown",
   "metadata": {},
   "source": [
    "## Setup: Libraries and Data  "
   ]
  },
  {
   "cell_type": "code",
   "execution_count": 1,
   "metadata": {},
   "outputs": [],
   "source": [
    "import numpy as  np\n",
    "import pandas as pd\n",
    "import plotly.express as px\n"
   ]
  },
  {
   "cell_type": "markdown",
   "metadata": {},
   "source": [
    "###   Raw data"
   ]
  },
  {
   "cell_type": "code",
   "execution_count": 4,
   "metadata": {},
   "outputs": [
    {
     "name": "stdout",
     "output_type": "stream",
     "text": [
      "<class 'pandas.core.frame.DataFrame'>\n",
      "RangeIndex: 1104 entries, 0 to 1103\n",
      "Data columns (total 31 columns):\n",
      " #   Column                                                             Non-Null Count  Dtype  \n",
      "---  ------                                                             --------------  -----  \n",
      " 0   town11cd                                                           1100 non-null   object \n",
      " 1   town11nm                                                           1104 non-null   object \n",
      " 2   population_2011                                                    1100 non-null   float64\n",
      " 3   size_flag                                                          1104 non-null   object \n",
      " 4   rgn11nm                                                            1102 non-null   object \n",
      " 5   coastal                                                            1100 non-null   object \n",
      " 6   coastal_detailed                                                   1100 non-null   object \n",
      " 7   ttwa11cd                                                           1100 non-null   object \n",
      " 8   ttwa11nm                                                           1100 non-null   object \n",
      " 9   ttwa_classification                                                1100 non-null   object \n",
      " 10  job_density_flag                                                   1100 non-null   object \n",
      " 11  income_flag                                                        1100 non-null   object \n",
      " 12  university_flag                                                    1100 non-null   object \n",
      " 13  level4qual_residents35_64_2011                                     1100 non-null   object \n",
      " 14  ks4_2012_2013_counts                                               1104 non-null   int64  \n",
      " 15  key_stage_2_attainment_school_year_2007_to_2008                    1104 non-null   float64\n",
      " 16  key_stage_4_attainment_school_year_2012_to_2013                    1104 non-null   float64\n",
      " 17  level_2_at_age_18                                                  1104 non-null   float64\n",
      " 18  level_3_at_age_18                                                  1104 non-null   float64\n",
      " 19  activity_at_age_19_full_time_higher_education                      1103 non-null   float64\n",
      " 20  activity_at_age_19_sustained_further_education                     1046 non-null   float64\n",
      " 21  activity_at_age_19_appprenticeships                                909 non-null    float64\n",
      " 22  activity_at_age_19_employment_with_earnings_above_0                1103 non-null   float64\n",
      " 23  activity_at_age_19_employment_with_earnings_above_10_000           1077 non-null   float64\n",
      " 24  activity_at_age_19_out_of_work                                     642 non-null    float64\n",
      " 25  highest_level_qualification_achieved_by_age_22_less_than_level_1   245 non-null    float64\n",
      " 26  highest_level_qualification_achieved_by_age_22_level_1_to_level_2  1056 non-null   float64\n",
      " 27  highest_level_qualification_achieved_by_age_22_level_3_to_level_5  1103 non-null   float64\n",
      " 28  highest_level_qualification_achieved_by_age_22_level_6_or_above    873 non-null    float64\n",
      " 29  highest_level_qualification_achieved_b_age_22_average_score        1104 non-null   float64\n",
      " 30  education_score                                                    1104 non-null   float64\n",
      "dtypes: float64(17), int64(1), object(13)\n",
      "memory usage: 267.5+ KB\n"
     ]
    }
   ],
   "source": [
    "durl = \"https://raw.githubusercontent.com/rfordatascience/tidytuesday/master/data/2024/2024-01-23/english_education.csv\"\n",
    "dfr = pd.read_csv(durl);\n",
    "dfr.info()"
   ]
  },
  {
   "cell_type": "markdown",
   "metadata": {},
   "source": [
    "### Columns Selection: dfs"
   ]
  },
  {
   "cell_type": "code",
   "execution_count": 106,
   "metadata": {},
   "outputs": [],
   "source": [
    "dfs = dfr.loc[:, ('town11nm', 'population_2011', 'size_flag', 'rgn11nm', 'coastal', 'job_density_flag', 'income_flag', \n",
    "     'level4qual_residents35_64_2011', 'education_score', 'activity_at_age_19_employment_with_earnings_above_10_000')]"
   ]
  },
  {
   "cell_type": "code",
   "execution_count": 107,
   "metadata": {},
   "outputs": [
    {
     "data": {
      "text/plain": [
       "town11cd                                                               4\n",
       "town11nm                                                               0\n",
       "population_2011                                                        4\n",
       "size_flag                                                              0\n",
       "rgn11nm                                                                2\n",
       "coastal                                                                4\n",
       "coastal_detailed                                                       4\n",
       "ttwa11cd                                                               4\n",
       "ttwa11nm                                                               4\n",
       "ttwa_classification                                                    4\n",
       "job_density_flag                                                       4\n",
       "income_flag                                                            4\n",
       "university_flag                                                        4\n",
       "level4qual_residents35_64_2011                                         4\n",
       "ks4_2012_2013_counts                                                   0\n",
       "key_stage_2_attainment_school_year_2007_to_2008                        0\n",
       "key_stage_4_attainment_school_year_2012_to_2013                        0\n",
       "level_2_at_age_18                                                      0\n",
       "level_3_at_age_18                                                      0\n",
       "activity_at_age_19_full_time_higher_education                          1\n",
       "activity_at_age_19_sustained_further_education                        58\n",
       "activity_at_age_19_appprenticeships                                  195\n",
       "activity_at_age_19_employment_with_earnings_above_0                    1\n",
       "activity_at_age_19_employment_with_earnings_above_10_000              27\n",
       "activity_at_age_19_out_of_work                                       462\n",
       "highest_level_qualification_achieved_by_age_22_less_than_level_1     859\n",
       "highest_level_qualification_achieved_by_age_22_level_1_to_level_2     48\n",
       "highest_level_qualification_achieved_by_age_22_level_3_to_level_5      1\n",
       "highest_level_qualification_achieved_by_age_22_level_6_or_above      231\n",
       "highest_level_qualification_achieved_b_age_22_average_score            0\n",
       "education_score                                                        0\n",
       "dtype: int64"
      ]
     },
     "execution_count": 107,
     "metadata": {},
     "output_type": "execute_result"
    }
   ],
   "source": [
    "dfr.isnull().sum()"
   ]
  },
  {
   "cell_type": "markdown",
   "metadata": {},
   "source": [
    "### Columns Renaming"
   ]
  },
  {
   "cell_type": "code",
   "execution_count": 150,
   "metadata": {},
   "outputs": [
    {
     "data": {
      "text/html": [
       "<div>\n",
       "<style scoped>\n",
       "    .dataframe tbody tr th:only-of-type {\n",
       "        vertical-align: middle;\n",
       "    }\n",
       "\n",
       "    .dataframe tbody tr th {\n",
       "        vertical-align: top;\n",
       "    }\n",
       "\n",
       "    .dataframe thead th {\n",
       "        text-align: right;\n",
       "    }\n",
       "</style>\n",
       "<table border=\"1\" class=\"dataframe\">\n",
       "  <thead>\n",
       "    <tr style=\"text-align: right;\">\n",
       "      <th></th>\n",
       "      <th>code</th>\n",
       "      <th>pop2011</th>\n",
       "      <th>size</th>\n",
       "      <th>region</th>\n",
       "      <th>coastal</th>\n",
       "      <th>jobcat</th>\n",
       "      <th>income</th>\n",
       "      <th>resid_3564_q4</th>\n",
       "      <th>score</th>\n",
       "      <th>earning</th>\n",
       "    </tr>\n",
       "  </thead>\n",
       "  <tbody>\n",
       "    <tr>\n",
       "      <th>0</th>\n",
       "      <td>Carlton in Lindrick BUA</td>\n",
       "      <td>5456.0</td>\n",
       "      <td>Small Towns</td>\n",
       "      <td>East Midlands</td>\n",
       "      <td>Non-coastal</td>\n",
       "      <td>Residential</td>\n",
       "      <td>Higher deprivation towns</td>\n",
       "      <td>Low</td>\n",
       "      <td>-0.533750</td>\n",
       "      <td>36.923077</td>\n",
       "    </tr>\n",
       "    <tr>\n",
       "      <th>1</th>\n",
       "      <td>Dorchester (West Dorset) BUA</td>\n",
       "      <td>19060.0</td>\n",
       "      <td>Small Towns</td>\n",
       "      <td>South West</td>\n",
       "      <td>Non-coastal</td>\n",
       "      <td>Working</td>\n",
       "      <td>Mid deprivation towns</td>\n",
       "      <td>Medium</td>\n",
       "      <td>1.952019</td>\n",
       "      <td>24.686192</td>\n",
       "    </tr>\n",
       "  </tbody>\n",
       "</table>\n",
       "</div>"
      ],
      "text/plain": [
       "                           code  pop2011         size         region  \\\n",
       "0       Carlton in Lindrick BUA   5456.0  Small Towns  East Midlands   \n",
       "1  Dorchester (West Dorset) BUA  19060.0  Small Towns     South West   \n",
       "\n",
       "       coastal       jobcat                    income resid_3564_q4     score  \\\n",
       "0  Non-coastal  Residential  Higher deprivation towns           Low -0.533750   \n",
       "1  Non-coastal      Working     Mid deprivation towns        Medium  1.952019   \n",
       "\n",
       "     earning  \n",
       "0  36.923077  \n",
       "1  24.686192  "
      ]
     },
     "execution_count": 150,
     "metadata": {},
     "output_type": "execute_result"
    }
   ],
   "source": [
    "#df.columns = df.columns.str.replace(\"old\", \"new\")\n",
    "#df.rename(columns={\"old1\": \"new1\", \"old2\": \"new2\"}, inplace=True)\n",
    "#df.set_axis([\"new1\", \"new2\"], axis=\"columns\", inplace=True)\n",
    "dfs.columns = [\"code\", \"pop2011\", \"size\", \"region\", \"coastal\", \"jobcat\", \"income\", \"resid_3564_q4\", \"score\", \"earning\"]\n",
    "dfs.head(2)"
   ]
  },
  {
   "cell_type": "code",
   "execution_count": 151,
   "metadata": {},
   "outputs": [],
   "source": [
    "dfs.rename(columns={'resid_3564_q4' : 'propL4Q'}, inplace=True)"
   ]
  },
  {
   "cell_type": "markdown",
   "metadata": {},
   "source": [
    "##  Data Wrangling & Analysis"
   ]
  },
  {
   "cell_type": "code",
   "execution_count": 109,
   "metadata": {},
   "outputs": [
    {
     "data": {
      "text/html": [
       "<div>\n",
       "<style scoped>\n",
       "    .dataframe tbody tr th:only-of-type {\n",
       "        vertical-align: middle;\n",
       "    }\n",
       "\n",
       "    .dataframe tbody tr th {\n",
       "        vertical-align: top;\n",
       "    }\n",
       "\n",
       "    .dataframe thead th {\n",
       "        text-align: right;\n",
       "    }\n",
       "</style>\n",
       "<table border=\"1\" class=\"dataframe\">\n",
       "  <thead>\n",
       "    <tr style=\"text-align: right;\">\n",
       "      <th></th>\n",
       "      <th>pop2011</th>\n",
       "      <th>score</th>\n",
       "      <th>earning</th>\n",
       "    </tr>\n",
       "  </thead>\n",
       "  <tbody>\n",
       "    <tr>\n",
       "      <th>count</th>\n",
       "      <td>1.100000e+03</td>\n",
       "      <td>1.104000e+03</td>\n",
       "      <td>1077.000000</td>\n",
       "    </tr>\n",
       "    <tr>\n",
       "      <th>mean</th>\n",
       "      <td>3.334663e+04</td>\n",
       "      <td>1.358692e-11</td>\n",
       "      <td>24.264085</td>\n",
       "    </tr>\n",
       "    <tr>\n",
       "      <th>std</th>\n",
       "      <td>6.249984e+04</td>\n",
       "      <td>3.610558e+00</td>\n",
       "      <td>6.186254</td>\n",
       "    </tr>\n",
       "    <tr>\n",
       "      <th>min</th>\n",
       "      <td>5.003000e+03</td>\n",
       "      <td>-1.002802e+01</td>\n",
       "      <td>7.062147</td>\n",
       "    </tr>\n",
       "    <tr>\n",
       "      <th>25%</th>\n",
       "      <td>8.076000e+03</td>\n",
       "      <td>-2.570677e+00</td>\n",
       "      <td>20.000000</td>\n",
       "    </tr>\n",
       "    <tr>\n",
       "      <th>50%</th>\n",
       "      <td>1.543600e+04</td>\n",
       "      <td>-2.823641e-01</td>\n",
       "      <td>23.943662</td>\n",
       "    </tr>\n",
       "    <tr>\n",
       "      <th>75%</th>\n",
       "      <td>3.272175e+04</td>\n",
       "      <td>2.226506e+00</td>\n",
       "      <td>28.070175</td>\n",
       "    </tr>\n",
       "    <tr>\n",
       "      <th>max</th>\n",
       "      <td>1.085810e+06</td>\n",
       "      <td>1.187151e+01</td>\n",
       "      <td>48.979592</td>\n",
       "    </tr>\n",
       "  </tbody>\n",
       "</table>\n",
       "</div>"
      ],
      "text/plain": [
       "            pop2011         score      earning\n",
       "count  1.100000e+03  1.104000e+03  1077.000000\n",
       "mean   3.334663e+04  1.358692e-11    24.264085\n",
       "std    6.249984e+04  3.610558e+00     6.186254\n",
       "min    5.003000e+03 -1.002802e+01     7.062147\n",
       "25%    8.076000e+03 -2.570677e+00    20.000000\n",
       "50%    1.543600e+04 -2.823641e-01    23.943662\n",
       "75%    3.272175e+04  2.226506e+00    28.070175\n",
       "max    1.085810e+06  1.187151e+01    48.979592"
      ]
     },
     "execution_count": 109,
     "metadata": {},
     "output_type": "execute_result"
    }
   ],
   "source": [
    "dfs.describe()"
   ]
  },
  {
   "cell_type": "markdown",
   "metadata": {},
   "source": [
    "### Drop Rows with NAs"
   ]
  },
  {
   "cell_type": "code",
   "execution_count": 110,
   "metadata": {},
   "outputs": [
    {
     "data": {
      "text/plain": [
       "code              0\n",
       "pop2011           4\n",
       "size              0\n",
       "region            2\n",
       "coastal           4\n",
       "jobcat            4\n",
       "income            4\n",
       "resid_3564_q4     4\n",
       "score             0\n",
       "earning          27\n",
       "dtype: int64"
      ]
     },
     "execution_count": 110,
     "metadata": {},
     "output_type": "execute_result"
    }
   ],
   "source": [
    "dfs.isnull().sum()"
   ]
  },
  {
   "cell_type": "code",
   "execution_count": 152,
   "metadata": {},
   "outputs": [],
   "source": [
    "dff = dfs.dropna()"
   ]
  },
  {
   "cell_type": "code",
   "execution_count": 153,
   "metadata": {},
   "outputs": [
    {
     "data": {
      "text/plain": [
       "code       0\n",
       "pop2011    0\n",
       "size       0\n",
       "region     0\n",
       "coastal    0\n",
       "jobcat     0\n",
       "income     0\n",
       "propL4Q    0\n",
       "score      0\n",
       "earning    0\n",
       "dtype: int64"
      ]
     },
     "execution_count": 153,
     "metadata": {},
     "output_type": "execute_result"
    }
   ],
   "source": [
    "dff.isnull().sum()\n"
   ]
  },
  {
   "cell_type": "markdown",
   "metadata": {},
   "source": [
    "###  Score and  Earning Distribution"
   ]
  },
  {
   "cell_type": "code",
   "execution_count": 154,
   "metadata": {},
   "outputs": [
    {
     "data": {
      "text/html": [
       "<div>\n",
       "<style scoped>\n",
       "    .dataframe tbody tr th:only-of-type {\n",
       "        vertical-align: middle;\n",
       "    }\n",
       "\n",
       "    .dataframe tbody tr th {\n",
       "        vertical-align: top;\n",
       "    }\n",
       "\n",
       "    .dataframe thead th {\n",
       "        text-align: right;\n",
       "    }\n",
       "</style>\n",
       "<table border=\"1\" class=\"dataframe\">\n",
       "  <thead>\n",
       "    <tr style=\"text-align: right;\">\n",
       "      <th></th>\n",
       "      <th>score</th>\n",
       "      <th>earning</th>\n",
       "    </tr>\n",
       "  </thead>\n",
       "  <tbody>\n",
       "    <tr>\n",
       "      <th>count</th>\n",
       "      <td>1073.000000</td>\n",
       "      <td>1073.000000</td>\n",
       "    </tr>\n",
       "    <tr>\n",
       "      <th>mean</th>\n",
       "      <td>-0.070469</td>\n",
       "      <td>24.286434</td>\n",
       "    </tr>\n",
       "    <tr>\n",
       "      <th>std</th>\n",
       "      <td>3.529369</td>\n",
       "      <td>6.176829</td>\n",
       "    </tr>\n",
       "    <tr>\n",
       "      <th>min</th>\n",
       "      <td>-10.028015</td>\n",
       "      <td>7.062147</td>\n",
       "    </tr>\n",
       "    <tr>\n",
       "      <th>25%</th>\n",
       "      <td>-2.585602</td>\n",
       "      <td>20.021882</td>\n",
       "    </tr>\n",
       "    <tr>\n",
       "      <th>50%</th>\n",
       "      <td>-0.309564</td>\n",
       "      <td>23.943662</td>\n",
       "    </tr>\n",
       "    <tr>\n",
       "      <th>75%</th>\n",
       "      <td>2.179427</td>\n",
       "      <td>28.125000</td>\n",
       "    </tr>\n",
       "    <tr>\n",
       "      <th>max</th>\n",
       "      <td>11.032791</td>\n",
       "      <td>48.979592</td>\n",
       "    </tr>\n",
       "  </tbody>\n",
       "</table>\n",
       "</div>"
      ],
      "text/plain": [
       "             score      earning\n",
       "count  1073.000000  1073.000000\n",
       "mean     -0.070469    24.286434\n",
       "std       3.529369     6.176829\n",
       "min     -10.028015     7.062147\n",
       "25%      -2.585602    20.021882\n",
       "50%      -0.309564    23.943662\n",
       "75%       2.179427    28.125000\n",
       "max      11.032791    48.979592"
      ]
     },
     "execution_count": 154,
     "metadata": {},
     "output_type": "execute_result"
    }
   ],
   "source": [
    "dff[['score', 'earning']].describe()"
   ]
  },
  {
   "cell_type": "code",
   "execution_count": 114,
   "metadata": {},
   "outputs": [
    {
     "data": {
      "text/plain": [
       "Text(0.5, 1.0, 'Education Score')"
      ]
     },
     "execution_count": 114,
     "metadata": {},
     "output_type": "execute_result"
    },
    {
     "data": {
      "image/png": "[encoded data removed]",
      "text/plain": [
       "<Figure size 640x480 with 1 Axes>"
      ]
     },
     "metadata": {},
     "output_type": "display_data"
    }
   ],
   "source": [
    "ax = dff['score'].hist()\n",
    "ax.set_title(\"Education Score\")"
   ]
  },
  {
   "cell_type": "code",
   "execution_count": 115,
   "metadata": {},
   "outputs": [
    {
     "data": {
      "text/plain": [
       "array([[<Axes: title={'center': 'score'}>,\n",
       "        <Axes: title={'center': 'earning'}>]], dtype=object)"
      ]
     },
     "execution_count": 115,
     "metadata": {},
     "output_type": "execute_result"
    },
    {
     "data": {
      "image/png": "[encoded data removed]",
      "text/plain": [
       "<Figure size 640x480 with 2 Axes>"
      ]
     },
     "metadata": {},
     "output_type": "display_data"
    }
   ],
   "source": [
    "dff[['score', 'earning']].hist()"
   ]
  },
  {
   "cell_type": "code",
   "execution_count": 117,
   "metadata": {},
   "outputs": [
    {
     "data": {
      "application/vnd.plotly.v1+json": {
       "config": {
        "plotlyServerURL": "https://plot.ly"
       },
       "data": [
        {
         "alignmentgroup": "True",
         "bingroup": "x",
         "hovertemplate": "score=%{x}<br>count=%{y}<extra></extra>",
         "legendgroup": "",
         "marker": {
          "color": "#636efa",
          "pattern": {
           "shape": ""
          }
         },
         "name": "",
         "offsetgroup": "",
         "orientation": "v",
         "showlegend": false,
         "type": "histogram",
         "x": [
          -0.533750422,
          1.952018749,
          -1.044127985,
          -1.249261949,
          -1.169078452,
          0.84513109,
          -3.717919688,
          -2.171307159,
          6.437661398,
          0.29540337,
          4.304494117,
          -4.001866891,
          -5.023115005,
          -1.26838592,
          -1.264372252,
          -0.718396082,
          -4.061010691,
          0.742113567,
          0.263105429,
          1.608629917,
          -3.9569896,
          -7.090910923,
          1.381818433,
          0.183946279,
          -3.813706933,
          -0.309563755,
          -0.955169026,
          3.999734957,
          -6.163408673,
          -4.268131254,
          3.860304863,
          -0.241286848,
          2.763057391,
          -2.564226331,
          -0.513536679,
          -6.01236232,
          -0.164720472,
          -3.325032651,
          6.357287162,
          -1.812283999,
          3.362878498,
          -1.970367969,
          5.804185058,
          -2.847094207,
          -3.297142446,
          5.628841984,
          -3.141037157,
          -1.985380107,
          -2.899667069,
          3.507476118,
          3.418697624,
          -0.550202426,
          -3.92266164,
          6.657041755,
          3.806320645,
          9.95812099,
          0.193445297,
          1.220084116,
          1.573747159,
          2.12673052,
          -1.853352661,
          3.747497559,
          2.319207046,
          3.299333602,
          1.190595416,
          -2.147693195,
          -2.829698506,
          1.749858286,
          -2.967170753,
          4.608072865,
          -1.469337199,
          3.528191799,
          -4.105393361,
          4.578194903,
          3.808250711,
          7.015299545,
          -2.941145442,
          -0.068426354,
          1.187961052,
          1.241814934,
          3.11249282,
          -0.715392574,
          1.067191916,
          1.792829385,
          5.494822908,
          -2.936731906,
          2.148885342,
          2.840554708,
          1.13237635,
          2.288312691,
          -0.320502188,
          4.63527406,
          -1.4375767,
          -0.357764516,
          -2.483771314,
          1.589070877,
          -0.8318962,
          -6.040882817,
          2.976086637,
          -5.454821634,
          3.951416094,
          1.821911821,
          2.542777863,
          5.867008254,
          8.266077082,
          -4.036973003,
          4.983969265,
          1.30782494,
          0.094829376,
          -2.346464836,
          2.198211806,
          -0.775947056,
          0.866802687,
          7.657705361,
          4.100819556,
          1.29274296,
          -0.393862219,
          -2.585601614,
          -3.049247235,
          -3.532408517,
          -4.033132508,
          -4.980575217,
          5.056930313,
          -3.336777929,
          2.036418475,
          0.045950752,
          -1.362611073,
          -0.372545744,
          3.287213662,
          2.742343958,
          -4.090837485,
          -4.708610354,
          -3.130722094,
          5.98289748,
          6.668239188,
          -9.79178081,
          0.005535486,
          -2.510765203,
          4.545060749,
          4.080634357,
          0.040913958,
          -5.341426577,
          -2.329007892,
          -1.183723077,
          -3.329351471,
          -0.056459409,
          -0.543272318,
          0.274798841,
          6.420747235,
          7.796484011,
          0.082611978,
          6.56252782,
          -2.055701844,
          -4.694684002,
          1.715773536,
          1.230205901,
          -3.326532717,
          0.645531654,
          2.955442566,
          -4.46402942,
          -0.124779673,
          -1.519621899,
          -2.566804564,
          2.191094304,
          -2.411504279,
          -0.980249672,
          -0.334002038,
          -5.084834842,
          0.537506979,
          6.233039216,
          -6.357467729,
          -1.749072267,
          4.403636341,
          -0.800938807,
          -2.660956487,
          -0.038425825,
          4.609741018,
          2.879243467,
          -6.207951854,
          -0.421589109,
          -6.653926141,
          6.774061908,
          2.179427199,
          1.457590086,
          -6.915157397,
          -1.764391177,
          -4.352786938,
          -4.05910281,
          -4.049786694,
          3.181615951,
          -6.711417914,
          -2.805766898,
          1.023815376,
          1.321650638,
          0.701730546,
          5.649712778,
          0.599919251,
          10.74972706,
          2.585660421,
          2.021652879,
          -3.750785762,
          3.951955622,
          3.730134,
          3.283891891,
          -1.06055732,
          2.456561847,
          -4.474723195,
          0.559264105,
          -0.395280266,
          -3.147683679,
          -1.482598265,
          -9.622821465,
          -2.13977095,
          -4.418054903,
          -2.725592731,
          2.153188205,
          1.709309858,
          2.174353696,
          1.821299858,
          -3.872906722,
          -0.383765608,
          8.134159931,
          -4.173643774,
          0.574837261,
          3.081454678,
          3.790062821,
          8.279432291,
          -2.606345723,
          2.545779792,
          2.03595631,
          0.650819418,
          -1.702726769,
          -6.794033365,
          7.11604934,
          -1.359109482,
          -0.295070798,
          -0.632590012,
          2.400008357,
          0.01403388,
          -4.450589183,
          4.888089933,
          1.12736806,
          -1.868861258,
          -4.391985684,
          -3.828427778,
          2.081328337,
          -2.251562259,
          -0.110993506,
          -3.048500521,
          -2.599414593,
          0.242248857,
          1.129926322,
          0.998725151,
          -1.054967497,
          -3.735958141,
          5.915880633,
          4.118350123,
          5.522860023,
          3.980502734,
          4.051929603,
          0.223261118,
          -4.910679677,
          -0.53407729,
          5.529242273,
          -0.216811374,
          -1.107627457,
          -0.485494354,
          -2.223980389,
          -1.155313769,
          -0.613976223,
          2.739689191,
          -2.741101517,
          -4.617306675,
          2.255576163,
          3.667706727,
          1.536195874,
          0.96055605,
          4.239730507,
          -0.055451779,
          -3.177517481,
          -3.879778293,
          -0.950998707,
          4.828025815,
          -0.73465615,
          11.03279063,
          -5.326206889,
          -3.009828323,
          6.540699064,
          -0.687678695,
          1.21344731,
          4.370325265,
          -5.129770739,
          -2.660142264,
          3.50519266,
          -9.394098568,
          -0.665013634,
          -5.142988334,
          -5.847621161,
          1.769499553,
          0.667754595,
          -4.193792492,
          -4.441538623,
          0.232283025,
          1.924015748,
          2.140563927,
          2.579924913,
          -4.129847271,
          -0.606301025,
          -0.017333666,
          3.076387757,
          -2.615492732,
          4.055957263,
          1.06965726,
          2.282558794,
          3.230994333,
          -2.828181774,
          -6.375848442,
          4.512009379,
          -6.492351722,
          2.222929796,
          3.321137101,
          2.892892434,
          2.669953734,
          0.783062857,
          -5.664436036,
          0.490617302,
          0.701047898,
          2.825355496,
          2.469207502,
          -3.707811845,
          -1.827642336,
          0.159995512,
          -5.590413957,
          -0.951042944,
          -6.093760141,
          0.504834046,
          -1.9293064,
          0.573618012,
          -3.940363044,
          4.36478605,
          -0.854759647,
          5.567106097,
          4.530230361,
          0.503225122,
          0.559958632,
          5.843868109,
          5.24101226,
          0.136307029,
          0.824917989,
          -3.787594963,
          0.52174457,
          -3.796327098,
          1.141650348,
          -3.25314731,
          3.147476943,
          2.20853634,
          0.964040705,
          -0.523466773,
          1.742323459,
          6.595780993,
          2.778396148,
          -4.086555371,
          5.512185046,
          -1.992542149,
          -1.991447299,
          -7.177692659,
          4.499138003,
          1.607305372,
          2.203421596,
          -4.583039557,
          -4.619211514,
          -1.784102991,
          -1.566982084,
          -0.755044037,
          -0.819387943,
          -0.057763175,
          -3.686982506,
          -1.886243775,
          0.373393758,
          -0.390506169,
          -2.762929262,
          -2.993949093,
          -1.026951308,
          3.390375305,
          -0.337939563,
          -5.880445314,
          1.727992942,
          8.187997104,
          -3.176983917,
          3.192052251,
          -4.150583568,
          8.0385394,
          3.260302957,
          -1.204139772,
          -1.00595494,
          -0.246186213,
          1.121771906,
          -4.759452482,
          1.113331627,
          -2.933743211,
          0.506789648,
          -3.294958102,
          2.093625537,
          -4.510351252,
          3.10267164,
          -4.50551239,
          -4.920193481,
          -5.030709544,
          0.580825095,
          1.296418602,
          -1.693781118,
          3.296634679,
          -1.496422044,
          3.61707852,
          3.664639326,
          -0.263818577,
          4.165594223,
          3.85144957,
          -1.289171902,
          -4.688911753,
          6.977287881,
          7.226617063,
          -2.518701836,
          2.64463959,
          -2.213822897,
          -0.144563264,
          1.619693343,
          1.577351621,
          5.29425431,
          0.210796382,
          -2.093097462,
          -3.138242326,
          0.668924889,
          -0.20031761,
          2.76260053,
          -2.030138243,
          6.078762266,
          4.724757799,
          4.543595327,
          -3.782613636,
          -1.389753081,
          -2.582295807,
          -6.402588954,
          -0.003561658,
          0.34501103,
          1.418465375,
          3.266720159,
          6.310770217,
          0.516037835,
          -1.224758485,
          9.278331945,
          0.543713177,
          7.639190791,
          -0.934462623,
          0.579966036,
          -2.439171484,
          -1.713020244,
          0.956416398,
          -5.396252285,
          8.212058793,
          -1.646120303,
          0.137847463,
          -2.198733131,
          -2.359283201,
          3.256692068,
          0.007992804,
          -2.06492402,
          2.22129998,
          0.274278812,
          -0.062317391,
          4.216899186,
          4.588403915,
          -2.084542454,
          -2.554599143,
          1.494028346,
          4.329882844,
          2.961247974,
          9.436415769,
          9.481922058,
          -0.64520719,
          -1.572479804,
          0.297788337,
          -1.360599159,
          -5.914195291,
          -1.012782303,
          3.101443415,
          1.676588847,
          -0.639161991,
          -4.213214985,
          -2.782262982,
          -0.137521472,
          -2.122974794,
          1.302890147,
          2.580287156,
          -0.338993657,
          -0.986711753,
          -1.656571902,
          -1.085901732,
          -2.156351207,
          -1.206411528,
          3.840141386,
          -1.811253124,
          -1.425647801,
          -2.180692894,
          8.063923033,
          6.056482702,
          0.879268136,
          -3.973907614,
          3.16352695,
          4.068887671,
          6.779463444,
          0.284171701,
          2.878987054,
          -3.240896417,
          -2.756130842,
          0.666461582,
          6.029443478,
          -3.974575654,
          1.762950972,
          -1.577901901,
          1.73714735,
          2.397830523,
          -0.62557946,
          2.727162075,
          -3.209162913,
          -0.300604437,
          -5.195221651,
          -3.054432815,
          -0.16735383,
          -0.396774338,
          -4.369479427,
          -2.491062456,
          -0.711623244,
          8.023612449,
          -0.02223226,
          -2.256889066,
          5.793173582,
          -6.351488055,
          5.065109445,
          3.95902288,
          1.543776057,
          6.903651622,
          -2.824429521,
          2.382700835,
          3.926932387,
          -1.355545101,
          -0.572072407,
          -1.978006498,
          -0.496324682,
          2.405694248,
          -0.13571104,
          -6.356277691,
          -1.851598092,
          -3.76077978,
          -1.342192217,
          2.110547111,
          4.080223424,
          -2.189665402,
          -1.008837714,
          -3.29543406,
          -1.245036256,
          -2.798036346,
          1.889118975,
          -2.003480579,
          1.627297372,
          4.45905833,
          -1.788450725,
          -4.017804063,
          -4.166607118,
          -1.471898725,
          3.184527723,
          0.944128339,
          -3.006915502,
          -2.474376394,
          -9.285628136,
          -3.625104199,
          2.696693887,
          2.106567892,
          2.972648349,
          8.083936642,
          -2.019440204,
          -4.610811628,
          -2.361691643,
          -1.57866511,
          -0.507146946,
          6.676941382,
          -3.537825076,
          4.159398797,
          -0.659305957,
          -0.240877993,
          2.057541141,
          0.732661067,
          0.735865707,
          6.372935408,
          -1.781852104,
          0.925170267,
          2.52457092,
          -4.738558725,
          -4.684084881,
          -3.595444977,
          -1.33631924,
          -0.032310942,
          3.32526577,
          3.94853063,
          0.918000858,
          2.577659281,
          -6.160463498,
          -0.535595687,
          -2.212082553,
          -6.952849356,
          -3.835224167,
          5.573030387,
          3.527385471,
          -0.433249073,
          3.387639399,
          -1.30866886,
          3.211539844,
          -0.025326314,
          8.094803358,
          -0.206075117,
          3.689730382,
          0.174191612,
          -6.484121394,
          -1.308650056,
          -4.869807195,
          -0.256715434,
          1.35443212,
          -0.181175569,
          1.698740678,
          0.566863572,
          1.918291585,
          0.974698793,
          1.96719143,
          -5.126676349,
          -2.452282148,
          -3.174883143,
          -1.599978013,
          2.161715842,
          -0.488017488,
          -1.950557637,
          -3.772493901,
          -0.16783077,
          2.649834534,
          0.549953241,
          -0.080421657,
          2.820617446,
          -2.286163498,
          -2.281555604,
          -0.761057801,
          3.173359701,
          -4.082898176,
          1.117383847,
          -0.854982582,
          5.397228742,
          -5.903708401,
          3.194589501,
          -2.174272293,
          -0.686227177,
          -3.370296135,
          5.470582132,
          3.950217044,
          -10.02801511,
          -5.934594888,
          -3.830908388,
          -6.855157827,
          -3.409339525,
          -4.748883703,
          -7.692514402,
          0.400143569,
          2.11672004,
          -0.779019226,
          -1.490068056,
          3.8292772,
          -4.099446778,
          -1.276549602,
          -0.125421126,
          2.928140371,
          2.678125793,
          -4.221030255,
          0.25079604,
          -1.049645206,
          -3.310271828,
          -3.291930369,
          7.195924607,
          4.420683682,
          0.334593472,
          -3.697009155,
          0.653551126,
          0.643969199,
          2.574817445,
          -4.902350613,
          0.313167691,
          -0.471521633,
          1.489914038,
          0.885540404,
          -1.876031408,
          -1.388698309,
          -1.529208741,
          -2.716984223,
          0.891824158,
          7.634311709,
          -0.604691758,
          0.877554795,
          0.26763157,
          -3.408960683,
          5.501626941,
          0.669429645,
          -1.195164287,
          -4.380328788,
          -3.41080653,
          0.498256597,
          -1.237611184,
          4.850637616,
          -7.571466876,
          5.682268239,
          1.928356753,
          0.608627229,
          5.469808967,
          -0.644104316,
          -4.96851575,
          -2.476689795,
          -3.599286966,
          -3.565065023,
          -4.449183084,
          -5.351157001,
          0.48103356,
          1.900294948,
          -2.001725366,
          -0.295645761,
          1.00135873,
          5.531986486,
          8.629809538,
          -3.639792553,
          6.147536078,
          4.536482226,
          -2.284995953,
          -4.851302162,
          2.375010926,
          -5.317624146,
          4.323864549,
          -3.008213363,
          -2.650602856,
          -1.979964028,
          7.854161076,
          0.000210947,
          -1.60944439,
          3.655602055,
          -3.268292547,
          -3.242825753,
          -2.90361017,
          0.379043714,
          -3.220951054,
          1.211313826,
          -0.270585313,
          -1.473308801,
          0.000845898,
          3.311754688,
          -0.730642322,
          4.42155333,
          -0.004594232,
          -1.346962322,
          3.307546809,
          -7.603865176,
          1.245370201,
          0.083500519,
          1.710624166,
          -6.328261488,
          4.262292065,
          -2.61960053,
          -0.694710135,
          1.786845764,
          -3.545088644,
          -0.267530379,
          0.962156076,
          -0.018603517,
          -0.591112362,
          1.065133309,
          -2.97809053,
          -3.51396738,
          -0.350180645,
          3.578455606,
          5.137389166,
          -2.290606339,
          -3.02572797,
          -3.931229503,
          0.857448327,
          -1.4383569,
          -6.323355662,
          3.921401314,
          -3.027883777,
          -5.199863605,
          -7.990272297,
          -2.139068773,
          -1.904359509,
          -3.202404945,
          -7.115271286,
          0.991929859,
          -0.386972774,
          2.818999959,
          -3.421269258,
          -2.967645079,
          -0.616120391,
          -0.946619749,
          2.611989787,
          -1.615392673,
          -4.049889397,
          -2.963099327,
          3.491721847,
          6.982570241,
          -2.800825142,
          -0.963323673,
          1.800207789,
          2.385815574,
          0.201122502,
          4.995673342,
          -4.069808241,
          3.26125954,
          -0.978485426,
          0.070505385,
          -3.483361212,
          1.231928342,
          2.237234508,
          8.473642984,
          -0.649945761,
          -4.920676695,
          -1.458694426,
          -1.178336473,
          -5.449297195,
          -0.392386733,
          0.665368332,
          5.584874286,
          2.073259572,
          -1.443434467,
          -1.847393715,
          0.032916434,
          -3.411047708,
          -3.205253713,
          5.155674387,
          -1.908467207,
          5.195171433,
          0.916562557,
          -0.395418516,
          5.8087493,
          -0.461972757,
          1.890288135,
          1.703262001,
          -2.625444358,
          -0.145896397,
          -1.835384484,
          -3.251116087,
          0.038020156,
          -1.693627963,
          -1.391006749,
          6.202010294,
          -0.315461471,
          1.949313365,
          -2.333315523,
          -3.37095575,
          0.420375669,
          -1.278183798,
          5.694851601,
          2.101644111,
          -3.503505917,
          1.179483614,
          -0.044013779,
          -4.063383026,
          -1.695798977,
          3.419350142,
          4.482291861,
          -1.907327933,
          0.795862772,
          5.864021688,
          -1.21953945,
          2.607961881,
          -4.196862089,
          -1.678143653,
          -7.104299744,
          -2.864618092,
          -3.105063727,
          -0.113529264,
          5.539858751,
          -6.037043767,
          -0.807955472,
          -2.868483853,
          -2.362019947,
          -0.337151444,
          9.301347301,
          -1.399291373,
          -1.167026008,
          -5.403816227,
          3.797861349,
          -0.014243504,
          -1.551539762,
          3.708287406,
          -2.178895241,
          -4.05106543,
          -4.836415788,
          -3.005746412,
          -1.843068303,
          -1.499777889,
          -2.833260415,
          -1.845804349,
          -3.311315437,
          -5.304883474,
          2.956932707,
          -0.607509386,
          -2.380949821,
          -4.524893803,
          0.87953903,
          -0.019761952,
          6.194485959,
          -1.69002387,
          6.08208782,
          -2.933200988,
          2.260009885,
          3.867275387,
          -5.41965103,
          1.754186025,
          1.42390104,
          0.94857465,
          8.401826191,
          -4.430811734,
          -2.772802761,
          -7.275898747,
          2.051194602,
          4.063559848,
          3.941592707,
          0.812772287,
          2.864376637,
          1.810213402,
          -3.075401189,
          -0.192779991,
          -3.134681857,
          -2.608572746,
          1.184695615,
          0.707683043,
          -4.509175593,
          -0.921340992,
          0.939761686,
          -4.248263303,
          -4.513907919,
          -1.370497847,
          -4.230230033,
          4.226679705,
          -1.649922599,
          1.863838366,
          1.848750453,
          0.105832143,
          0.269932299,
          -1.622388812,
          -2.558529299,
          -0.307191378,
          -3.030755738,
          -2.974283833,
          -3.775531531,
          -3.510452167,
          1.845068827,
          -1.80935831,
          3.478766662,
          1.887360609,
          -0.646814835,
          -2.725442527,
          5.85280724,
          -2.735907801,
          5.578225985,
          1.590340639,
          1.065438284,
          -0.422807617,
          -3.910234467,
          -0.347520473,
          -2.106119887,
          2.520143131,
          0.535576067,
          -6.719105219,
          -0.572707818,
          -0.730646543,
          -2.719940087,
          1.662574397,
          4.536116811,
          3.382407391,
          -4.122655533,
          6.131528057,
          8.608192498,
          -1.69358297,
          1.641847199,
          0.54457022,
          -4.786682178,
          -8.709049788,
          -2.322986391,
          -0.181586177,
          0.495638768,
          1.415224113,
          -2.221002178,
          -4.322467679,
          0.79431068,
          5.236373241,
          -5.232152906,
          -1.450462853,
          -2.138374166,
          -1.598266913,
          -2.499399669,
          -1.889132946,
          0.625556623,
          -5.607341942,
          1.211654963,
          -2.026479746,
          6.106349368,
          1.695496391,
          0.670209623,
          -0.814707483,
          1.270060363,
          -2.006579212,
          8.137930036,
          -0.911150371,
          5.360138644,
          4.140431579,
          7.06093098,
          -7.336425751,
          -2.294227405,
          -0.237026997,
          -3.027107029,
          5.606123897,
          -1.216291898,
          1.087110993,
          -2.140764342,
          -0.934913142,
          -2.146896435,
          -3.907574596,
          -1.750225905,
          -4.396909731,
          -0.892601732,
          -0.301092555,
          -3.678350423,
          -0.246790008,
          -2.008851089,
          -0.801266586,
          0.39812194,
          -3.653296949,
          -3.594334095,
          4.813053992,
          1.163167949,
          -0.88303807,
          0.671596851,
          -1.30671782,
          -3.688235156,
          -2.214736577,
          5.203911561,
          -2.089855549,
          0.435286387,
          -4.220376739,
          4.453122958,
          -2.41757272,
          -4.095912481,
          -3.782993531,
          -2.169529438,
          -0.734586109,
          3.357512952,
          -3.484130585,
          5.319393171,
          -2.359151642,
          -4.984540922,
          -1.510543843,
          -1.920184466,
          -2.501696064,
          4.452360301,
          9.860231636,
          0.399812927,
          2.486984227,
          1.564259381,
          1.266553731,
          0.341824042,
          -0.29414288,
          -0.81093526
         ],
         "xaxis": "x",
         "yaxis": "y"
        }
       ],
       "layout": {
        "barmode": "relative",
        "height": 400,
        "legend": {
         "tracegroupgap": 0
        },
        "template": {
         "data": {
          "bar": [
           {
            "error_x": {
             "color": "#2a3f5f"
            },
            "error_y": {
             "color": "#2a3f5f"
            },
            "marker": {
             "line": {
              "color": "#E5ECF6",
              "width": 0.5
             },
             "pattern": {
              "fillmode": "overlay",
              "size": 10,
              "solidity": 0.2
             }
            },
            "type": "bar"
           }
          ],
          "barpolar": [
           {
            "marker": {
             "line": {
              "color": "#E5ECF6",
              "width": 0.5
             },
             "pattern": {
              "fillmode": "overlay",
              "size": 10,
              "solidity": 0.2
             }
            },
            "type": "barpolar"
           }
          ],
          "carpet": [
           {
            "aaxis": {
             "endlinecolor": "#2a3f5f",
             "gridcolor": "white",
             "linecolor": "white",
             "minorgridcolor": "white",
             "startlinecolor": "#2a3f5f"
            },
            "baxis": {
             "endlinecolor": "#2a3f5f",
             "gridcolor": "white",
             "linecolor": "white",
             "minorgridcolor": "white",
             "startlinecolor": "#2a3f5f"
            },
            "type": "carpet"
           }
          ],
          "choropleth": [
           {
            "colorbar": {
             "outlinewidth": 0,
             "ticks": ""
            },
            "type": "choropleth"
           }
          ],
          "contour": [
           {
            "colorbar": {
             "outlinewidth": 0,
             "ticks": ""
            },
            "colorscale": [
             [
              0,
              "#0d0887"
             ],
             [
              0.1111111111111111,
              "#46039f"
             ],
             [
              0.2222222222222222,
              "#7201a8"
             ],
             [
              0.3333333333333333,
              "#9c179e"
             ],
             [
              0.4444444444444444,
              "#bd3786"
             ],
             [
              0.5555555555555556,
              "#d8576b"
             ],
             [
              0.6666666666666666,
              "#ed7953"
             ],
             [
              0.7777777777777778,
              "#fb9f3a"
             ],
             [
              0.8888888888888888,
              "#fdca26"
             ],
             [
              1,
              "#f0f921"
             ]
            ],
            "type": "contour"
           }
          ],
          "contourcarpet": [
           {
            "colorbar": {
             "outlinewidth": 0,
             "ticks": ""
            },
            "type": "contourcarpet"
           }
          ],
          "heatmap": [
           {
            "colorbar": {
             "outlinewidth": 0,
             "ticks": ""
            },
            "colorscale": [
             [
              0,
              "#0d0887"
             ],
             [
              0.1111111111111111,
              "#46039f"
             ],
             [
              0.2222222222222222,
              "#7201a8"
             ],
             [
              0.3333333333333333,
              "#9c179e"
             ],
             [
              0.4444444444444444,
              "#bd3786"
             ],
             [
              0.5555555555555556,
              "#d8576b"
             ],
             [
              0.6666666666666666,
              "#ed7953"
             ],
             [
              0.7777777777777778,
              "#fb9f3a"
             ],
             [
              0.8888888888888888,
              "#fdca26"
             ],
             [
              1,
              "#f0f921"
             ]
            ],
            "type": "heatmap"
           }
          ],
          "heatmapgl": [
           {
            "colorbar": {
             "outlinewidth": 0,
             "ticks": ""
            },
            "colorscale": [
             [
              0,
              "#0d0887"
             ],
             [
              0.1111111111111111,
              "#46039f"
             ],
             [
              0.2222222222222222,
              "#7201a8"
             ],
             [
              0.3333333333333333,
              "#9c179e"
             ],
             [
              0.4444444444444444,
              "#bd3786"
             ],
             [
              0.5555555555555556,
              "#d8576b"
             ],
             [
              0.6666666666666666,
              "#ed7953"
             ],
             [
              0.7777777777777778,
              "#fb9f3a"
             ],
             [
              0.8888888888888888,
              "#fdca26"
             ],
             [
              1,
              "#f0f921"
             ]
            ],
            "type": "heatmapgl"
           }
          ],
          "histogram": [
           {
            "marker": {
             "pattern": {
              "fillmode": "overlay",
              "size": 10,
              "solidity": 0.2
             }
            },
            "type": "histogram"
           }
          ],
          "histogram2d": [
           {
            "colorbar": {
             "outlinewidth": 0,
             "ticks": ""
            },
            "colorscale": [
             [
              0,
              "#0d0887"
             ],
             [
              0.1111111111111111,
              "#46039f"
             ],
             [
              0.2222222222222222,
              "#7201a8"
             ],
             [
              0.3333333333333333,
              "#9c179e"
             ],
             [
              0.4444444444444444,
              "#bd3786"
             ],
             [
              0.5555555555555556,
              "#d8576b"
             ],
             [
              0.6666666666666666,
              "#ed7953"
             ],
             [
              0.7777777777777778,
              "#fb9f3a"
             ],
             [
              0.8888888888888888,
              "#fdca26"
             ],
             [
              1,
              "#f0f921"
             ]
            ],
            "type": "histogram2d"
           }
          ],
          "histogram2dcontour": [
           {
            "colorbar": {
             "outlinewidth": 0,
             "ticks": ""
            },
            "colorscale": [
             [
              0,
              "#0d0887"
             ],
             [
              0.1111111111111111,
              "#46039f"
             ],
             [
              0.2222222222222222,
              "#7201a8"
             ],
             [
              0.3333333333333333,
              "#9c179e"
             ],
             [
              0.4444444444444444,
              "#bd3786"
             ],
             [
              0.5555555555555556,
              "#d8576b"
             ],
             [
              0.6666666666666666,
              "#ed7953"
             ],
             [
              0.7777777777777778,
              "#fb9f3a"
             ],
             [
              0.8888888888888888,
              "#fdca26"
             ],
             [
              1,
              "#f0f921"
             ]
            ],
            "type": "histogram2dcontour"
           }
          ],
          "mesh3d": [
           {
            "colorbar": {
             "outlinewidth": 0,
             "ticks": ""
            },
            "type": "mesh3d"
           }
          ],
          "parcoords": [
           {
            "line": {
             "colorbar": {
              "outlinewidth": 0,
              "ticks": ""
             }
            },
            "type": "parcoords"
           }
          ],
          "pie": [
           {
            "automargin": true,
            "type": "pie"
           }
          ],
          "scatter": [
           {
            "fillpattern": {
             "fillmode": "overlay",
             "size": 10,
             "solidity": 0.2
            },
            "type": "scatter"
           }
          ],
          "scatter3d": [
           {
            "line": {
             "colorbar": {
              "outlinewidth": 0,
              "ticks": ""
             }
            },
            "marker": {
             "colorbar": {
              "outlinewidth": 0,
              "ticks": ""
             }
            },
            "type": "scatter3d"
           }
          ],
          "scattercarpet": [
           {
            "marker": {
             "colorbar": {
              "outlinewidth": 0,
              "ticks": ""
             }
            },
            "type": "scattercarpet"
           }
          ],
          "scattergeo": [
           {
            "marker": {
             "colorbar": {
              "outlinewidth": 0,
              "ticks": ""
             }
            },
            "type": "scattergeo"
           }
          ],
          "scattergl": [
           {
            "marker": {
             "colorbar": {
              "outlinewidth": 0,
              "ticks": ""
             }
            },
            "type": "scattergl"
           }
          ],
          "scattermapbox": [
           {
            "marker": {
             "colorbar": {
              "outlinewidth": 0,
              "ticks": ""
             }
            },
            "type": "scattermapbox"
           }
          ],
          "scatterpolar": [
           {
            "marker": {
             "colorbar": {
              "outlinewidth": 0,
              "ticks": ""
             }
            },
            "type": "scatterpolar"
           }
          ],
          "scatterpolargl": [
           {
            "marker": {
             "colorbar": {
              "outlinewidth": 0,
              "ticks": ""
             }
            },
            "type": "scatterpolargl"
           }
          ],
          "scatterternary": [
           {
            "marker": {
             "colorbar": {
              "outlinewidth": 0,
              "ticks": ""
             }
            },
            "type": "scatterternary"
           }
          ],
          "surface": [
           {
            "colorbar": {
             "outlinewidth": 0,
             "ticks": ""
            },
            "colorscale": [
             [
              0,
              "#0d0887"
             ],
             [
              0.1111111111111111,
              "#46039f"
             ],
             [
              0.2222222222222222,
              "#7201a8"
             ],
             [
              0.3333333333333333,
              "#9c179e"
             ],
             [
              0.4444444444444444,
              "#bd3786"
             ],
             [
              0.5555555555555556,
              "#d8576b"
             ],
             [
              0.6666666666666666,
              "#ed7953"
             ],
             [
              0.7777777777777778,
              "#fb9f3a"
             ],
             [
              0.8888888888888888,
              "#fdca26"
             ],
             [
              1,
              "#f0f921"
             ]
            ],
            "type": "surface"
           }
          ],
          "table": [
           {
            "cells": {
             "fill": {
              "color": "#EBF0F8"
             },
             "line": {
              "color": "white"
             }
            },
            "header": {
             "fill": {
              "color": "#C8D4E3"
             },
             "line": {
              "color": "white"
             }
            },
            "type": "table"
           }
          ]
         },
         "layout": {
          "annotationdefaults": {
           "arrowcolor": "#2a3f5f",
           "arrowhead": 0,
           "arrowwidth": 1
          },
          "autotypenumbers": "strict",
          "coloraxis": {
           "colorbar": {
            "outlinewidth": 0,
            "ticks": ""
           }
          },
          "colorscale": {
           "diverging": [
            [
             0,
             "#8e0152"
            ],
            [
             0.1,
             "#c51b7d"
            ],
            [
             0.2,
             "#de77ae"
            ],
            [
             0.3,
             "#f1b6da"
            ],
            [
             0.4,
             "#fde0ef"
            ],
            [
             0.5,
             "#f7f7f7"
            ],
            [
             0.6,
             "#e6f5d0"
            ],
            [
             0.7,
             "#b8e186"
            ],
            [
             0.8,
             "#7fbc41"
            ],
            [
             0.9,
             "#4d9221"
            ],
            [
             1,
             "#276419"
            ]
           ],
           "sequential": [
            [
             0,
             "#0d0887"
            ],
            [
             0.1111111111111111,
             "#46039f"
            ],
            [
             0.2222222222222222,
             "#7201a8"
            ],
            [
             0.3333333333333333,
             "#9c179e"
            ],
            [
             0.4444444444444444,
             "#bd3786"
            ],
            [
             0.5555555555555556,
             "#d8576b"
            ],
            [
             0.6666666666666666,
             "#ed7953"
            ],
            [
             0.7777777777777778,
             "#fb9f3a"
            ],
            [
             0.8888888888888888,
             "#fdca26"
            ],
            [
             1,
             "#f0f921"
            ]
           ],
           "sequentialminus": [
            [
             0,
             "#0d0887"
            ],
            [
             0.1111111111111111,
             "#46039f"
            ],
            [
             0.2222222222222222,
             "#7201a8"
            ],
            [
             0.3333333333333333,
             "#9c179e"
            ],
            [
             0.4444444444444444,
             "#bd3786"
            ],
            [
             0.5555555555555556,
             "#d8576b"
            ],
            [
             0.6666666666666666,
             "#ed7953"
            ],
            [
             0.7777777777777778,
             "#fb9f3a"
            ],
            [
             0.8888888888888888,
             "#fdca26"
            ],
            [
             1,
             "#f0f921"
            ]
           ]
          },
          "colorway": [
           "#636efa",
           "#EF553B",
           "#00cc96",
           "#ab63fa",
           "#FFA15A",
           "#19d3f3",
           "#FF6692",
           "#B6E880",
           "#FF97FF",
           "#FECB52"
          ],
          "font": {
           "color": "#2a3f5f"
          },
          "geo": {
           "bgcolor": "white",
           "lakecolor": "white",
           "landcolor": "#E5ECF6",
           "showlakes": true,
           "showland": true,
           "subunitcolor": "white"
          },
          "hoverlabel": {
           "align": "left"
          },
          "hovermode": "closest",
          "mapbox": {
           "style": "light"
          },
          "paper_bgcolor": "white",
          "plot_bgcolor": "#E5ECF6",
          "polar": {
           "angularaxis": {
            "gridcolor": "white",
            "linecolor": "white",
            "ticks": ""
           },
           "bgcolor": "#E5ECF6",
           "radialaxis": {
            "gridcolor": "white",
            "linecolor": "white",
            "ticks": ""
           }
          },
          "scene": {
           "xaxis": {
            "backgroundcolor": "#E5ECF6",
            "gridcolor": "white",
            "gridwidth": 2,
            "linecolor": "white",
            "showbackground": true,
            "ticks": "",
            "zerolinecolor": "white"
           },
           "yaxis": {
            "backgroundcolor": "#E5ECF6",
            "gridcolor": "white",
            "gridwidth": 2,
            "linecolor": "white",
            "showbackground": true,
            "ticks": "",
            "zerolinecolor": "white"
           },
           "zaxis": {
            "backgroundcolor": "#E5ECF6",
            "gridcolor": "white",
            "gridwidth": 2,
            "linecolor": "white",
            "showbackground": true,
            "ticks": "",
            "zerolinecolor": "white"
           }
          },
          "shapedefaults": {
           "line": {
            "color": "#2a3f5f"
           }
          },
          "ternary": {
           "aaxis": {
            "gridcolor": "white",
            "linecolor": "white",
            "ticks": ""
           },
           "baxis": {
            "gridcolor": "white",
            "linecolor": "white",
            "ticks": ""
           },
           "bgcolor": "#E5ECF6",
           "caxis": {
            "gridcolor": "white",
            "linecolor": "white",
            "ticks": ""
           }
          },
          "title": {
           "x": 0.05
          },
          "xaxis": {
           "automargin": true,
           "gridcolor": "white",
           "linecolor": "white",
           "ticks": "",
           "title": {
            "standoff": 15
           },
           "zerolinecolor": "white",
           "zerolinewidth": 2
          },
          "yaxis": {
           "automargin": true,
           "gridcolor": "white",
           "linecolor": "white",
           "ticks": "",
           "title": {
            "standoff": 15
           },
           "zerolinecolor": "white",
           "zerolinewidth": 2
          }
         }
        },
        "title": {
         "text": "Education Score"
        },
        "width": 600,
        "xaxis": {
         "anchor": "y",
         "domain": [
          0,
          1
         ],
         "title": {
          "text": "score"
         }
        },
        "yaxis": {
         "anchor": "x",
         "domain": [
          0,
          1
         ],
         "title": {
          "text": "count"
         }
        }
       }
      }
     },
     "metadata": {},
     "output_type": "display_data"
    }
   ],
   "source": [
    "fig = px.histogram(dff, x=\"score\", title=\"Education Score\", )\n",
    "fig.update_layout(width=600, height = 400)\n",
    "fig.show()"
   ]
  },
  {
   "cell_type": "code",
   "execution_count": 118,
   "metadata": {},
   "outputs": [
    {
     "data": {
      "application/vnd.plotly.v1+json": {
       "config": {
        "plotlyServerURL": "https://plot.ly"
       },
       "data": [
        {
         "alignmentgroup": "True",
         "bingroup": "x",
         "hovertemplate": "variable=score<br>value=%{x}<br>count=%{y}<extra></extra>",
         "legendgroup": "score",
         "marker": {
          "color": "#636efa",
          "pattern": {
           "shape": ""
          }
         },
         "name": "score",
         "offsetgroup": "score",
         "orientation": "v",
         "showlegend": true,
         "type": "histogram",
         "x": [
          -0.533750422,
          1.952018749,
          -1.044127985,
          -1.249261949,
          -1.169078452,
          0.84513109,
          -3.717919688,
          -2.171307159,
          6.437661398,
          0.29540337,
          4.304494117,
          -4.001866891,
          -5.023115005,
          -1.26838592,
          -1.264372252,
          -0.718396082,
          -4.061010691,
          0.742113567,
          0.263105429,
          1.608629917,
          -3.9569896,
          -7.090910923,
          1.381818433,
          0.183946279,
          -3.813706933,
          -0.309563755,
          -0.955169026,
          3.999734957,
          -6.163408673,
          -4.268131254,
          3.860304863,
          -0.241286848,
          2.763057391,
          -2.564226331,
          -0.513536679,
          -6.01236232,
          -0.164720472,
          -3.325032651,
          6.357287162,
          -1.812283999,
          3.362878498,
          -1.970367969,
          5.804185058,
          -2.847094207,
          -3.297142446,
          5.628841984,
          -3.141037157,
          -1.985380107,
          -2.899667069,
          3.507476118,
          3.418697624,
          -0.550202426,
          -3.92266164,
          6.657041755,
          3.806320645,
          9.95812099,
          0.193445297,
          1.220084116,
          1.573747159,
          2.12673052,
          -1.853352661,
          3.747497559,
          2.319207046,
          3.299333602,
          1.190595416,
          -2.147693195,
          -2.829698506,
          1.749858286,
          -2.967170753,
          4.608072865,
          -1.469337199,
          3.528191799,
          -4.105393361,
          4.578194903,
          3.808250711,
          7.015299545,
          -2.941145442,
          -0.068426354,
          1.187961052,
          1.241814934,
          3.11249282,
          -0.715392574,
          1.067191916,
          1.792829385,
          5.494822908,
          -2.936731906,
          2.148885342,
          2.840554708,
          1.13237635,
          2.288312691,
          -0.320502188,
          4.63527406,
          -1.4375767,
          -0.357764516,
          -2.483771314,
          1.589070877,
          -0.8318962,
          -6.040882817,
          2.976086637,
          -5.454821634,
          3.951416094,
          1.821911821,
          2.542777863,
          5.867008254,
          8.266077082,
          -4.036973003,
          4.983969265,
          1.30782494,
          0.094829376,
          -2.346464836,
          2.198211806,
          -0.775947056,
          0.866802687,
          7.657705361,
          4.100819556,
          1.29274296,
          -0.393862219,
          -2.585601614,
          -3.049247235,
          -3.532408517,
          -4.033132508,
          -4.980575217,
          5.056930313,
          -3.336777929,
          2.036418475,
          0.045950752,
          -1.362611073,
          -0.372545744,
          3.287213662,
          2.742343958,
          -4.090837485,
          -4.708610354,
          -3.130722094,
          5.98289748,
          6.668239188,
          -9.79178081,
          0.005535486,
          -2.510765203,
          4.545060749,
          4.080634357,
          0.040913958,
          -5.341426577,
          -2.329007892,
          -1.183723077,
          -3.329351471,
          -0.056459409,
          -0.543272318,
          0.274798841,
          6.420747235,
          7.796484011,
          0.082611978,
          6.56252782,
          -2.055701844,
          -4.694684002,
          1.715773536,
          1.230205901,
          -3.326532717,
          0.645531654,
          2.955442566,
          -4.46402942,
          -0.124779673,
          -1.519621899,
          -2.566804564,
          2.191094304,
          -2.411504279,
          -0.980249672,
          -0.334002038,
          -5.084834842,
          0.537506979,
          6.233039216,
          -6.357467729,
          -1.749072267,
          4.403636341,
          -0.800938807,
          -2.660956487,
          -0.038425825,
          4.609741018,
          2.879243467,
          -6.207951854,
          -0.421589109,
          -6.653926141,
          6.774061908,
          2.179427199,
          1.457590086,
          -6.915157397,
          -1.764391177,
          -4.352786938,
          -4.05910281,
          -4.049786694,
          3.181615951,
          -6.711417914,
          -2.805766898,
          1.023815376,
          1.321650638,
          0.701730546,
          5.649712778,
          0.599919251,
          10.74972706,
          2.585660421,
          2.021652879,
          -3.750785762,
          3.951955622,
          3.730134,
          3.283891891,
          -1.06055732,
          2.456561847,
          -4.474723195,
          0.559264105,
          -0.395280266,
          -3.147683679,
          -1.482598265,
          -9.622821465,
          -2.13977095,
          -4.418054903,
          -2.725592731,
          2.153188205,
          1.709309858,
          2.174353696,
          1.821299858,
          -3.872906722,
          -0.383765608,
          8.134159931,
          -4.173643774,
          0.574837261,
          3.081454678,
          3.790062821,
          8.279432291,
          -2.606345723,
          2.545779792,
          2.03595631,
          0.650819418,
          -1.702726769,
          -6.794033365,
          7.11604934,
          -1.359109482,
          -0.295070798,
          -0.632590012,
          2.400008357,
          0.01403388,
          -4.450589183,
          4.888089933,
          1.12736806,
          -1.868861258,
          -4.391985684,
          -3.828427778,
          2.081328337,
          -2.251562259,
          -0.110993506,
          -3.048500521,
          -2.599414593,
          0.242248857,
          1.129926322,
          0.998725151,
          -1.054967497,
          -3.735958141,
          5.915880633,
          4.118350123,
          5.522860023,
          3.980502734,
          4.051929603,
          0.223261118,
          -4.910679677,
          -0.53407729,
          5.529242273,
          -0.216811374,
          -1.107627457,
          -0.485494354,
          -2.223980389,
          -1.155313769,
          -0.613976223,
          2.739689191,
          -2.741101517,
          -4.617306675,
          2.255576163,
          3.667706727,
          1.536195874,
          0.96055605,
          4.239730507,
          -0.055451779,
          -3.177517481,
          -3.879778293,
          -0.950998707,
          4.828025815,
          -0.73465615,
          11.03279063,
          -5.326206889,
          -3.009828323,
          6.540699064,
          -0.687678695,
          1.21344731,
          4.370325265,
          -5.129770739,
          -2.660142264,
          3.50519266,
          -9.394098568,
          -0.665013634,
          -5.142988334,
          -5.847621161,
          1.769499553,
          0.667754595,
          -4.193792492,
          -4.441538623,
          0.232283025,
          1.924015748,
          2.140563927,
          2.579924913,
          -4.129847271,
          -0.606301025,
          -0.017333666,
          3.076387757,
          -2.615492732,
          4.055957263,
          1.06965726,
          2.282558794,
          3.230994333,
          -2.828181774,
          -6.375848442,
          4.512009379,
          -6.492351722,
          2.222929796,
          3.321137101,
          2.892892434,
          2.669953734,
          0.783062857,
          -5.664436036,
          0.490617302,
          0.701047898,
          2.825355496,
          2.469207502,
          -3.707811845,
          -1.827642336,
          0.159995512,
          -5.590413957,
          -0.951042944,
          -6.093760141,
          0.504834046,
          -1.9293064,
          0.573618012,
          -3.940363044,
          4.36478605,
          -0.854759647,
          5.567106097,
          4.530230361,
          0.503225122,
          0.559958632,
          5.843868109,
          5.24101226,
          0.136307029,
          0.824917989,
          -3.787594963,
          0.52174457,
          -3.796327098,
          1.141650348,
          -3.25314731,
          3.147476943,
          2.20853634,
          0.964040705,
          -0.523466773,
          1.742323459,
          6.595780993,
          2.778396148,
          -4.086555371,
          5.512185046,
          -1.992542149,
          -1.991447299,
          -7.177692659,
          4.499138003,
          1.607305372,
          2.203421596,
          -4.583039557,
          -4.619211514,
          -1.784102991,
          -1.566982084,
          -0.755044037,
          -0.819387943,
          -0.057763175,
          -3.686982506,
          -1.886243775,
          0.373393758,
          -0.390506169,
          -2.762929262,
          -2.993949093,
          -1.026951308,
          3.390375305,
          -0.337939563,
          -5.880445314,
          1.727992942,
          8.187997104,
          -3.176983917,
          3.192052251,
          -4.150583568,
          8.0385394,
          3.260302957,
          -1.204139772,
          -1.00595494,
          -0.246186213,
          1.121771906,
          -4.759452482,
          1.113331627,
          -2.933743211,
          0.506789648,
          -3.294958102,
          2.093625537,
          -4.510351252,
          3.10267164,
          -4.50551239,
          -4.920193481,
          -5.030709544,
          0.580825095,
          1.296418602,
          -1.693781118,
          3.296634679,
          -1.496422044,
          3.61707852,
          3.664639326,
          -0.263818577,
          4.165594223,
          3.85144957,
          -1.289171902,
          -4.688911753,
          6.977287881,
          7.226617063,
          -2.518701836,
          2.64463959,
          -2.213822897,
          -0.144563264,
          1.619693343,
          1.577351621,
          5.29425431,
          0.210796382,
          -2.093097462,
          -3.138242326,
          0.668924889,
          -0.20031761,
          2.76260053,
          -2.030138243,
          6.078762266,
          4.724757799,
          4.543595327,
          -3.782613636,
          -1.389753081,
          -2.582295807,
          -6.402588954,
          -0.003561658,
          0.34501103,
          1.418465375,
          3.266720159,
          6.310770217,
          0.516037835,
          -1.224758485,
          9.278331945,
          0.543713177,
          7.639190791,
          -0.934462623,
          0.579966036,
          -2.439171484,
          -1.713020244,
          0.956416398,
          -5.396252285,
          8.212058793,
          -1.646120303,
          0.137847463,
          -2.198733131,
          -2.359283201,
          3.256692068,
          0.007992804,
          -2.06492402,
          2.22129998,
          0.274278812,
          -0.062317391,
          4.216899186,
          4.588403915,
          -2.084542454,
          -2.554599143,
          1.494028346,
          4.329882844,
          2.961247974,
          9.436415769,
          9.481922058,
          -0.64520719,
          -1.572479804,
          0.297788337,
          -1.360599159,
          -5.914195291,
          -1.012782303,
          3.101443415,
          1.676588847,
          -0.639161991,
          -4.213214985,
          -2.782262982,
          -0.137521472,
          -2.122974794,
          1.302890147,
          2.580287156,
          -0.338993657,
          -0.986711753,
          -1.656571902,
          -1.085901732,
          -2.156351207,
          -1.206411528,
          3.840141386,
          -1.811253124,
          -1.425647801,
          -2.180692894,
          8.063923033,
          6.056482702,
          0.879268136,
          -3.973907614,
          3.16352695,
          4.068887671,
          6.779463444,
          0.284171701,
          2.878987054,
          -3.240896417,
          -2.756130842,
          0.666461582,
          6.029443478,
          -3.974575654,
          1.762950972,
          -1.577901901,
          1.73714735,
          2.397830523,
          -0.62557946,
          2.727162075,
          -3.209162913,
          -0.300604437,
          -5.195221651,
          -3.054432815,
          -0.16735383,
          -0.396774338,
          -4.369479427,
          -2.491062456,
          -0.711623244,
          8.023612449,
          -0.02223226,
          -2.256889066,
          5.793173582,
          -6.351488055,
          5.065109445,
          3.95902288,
          1.543776057,
          6.903651622,
          -2.824429521,
          2.382700835,
          3.926932387,
          -1.355545101,
          -0.572072407,
          -1.978006498,
          -0.496324682,
          2.405694248,
          -0.13571104,
          -6.356277691,
          -1.851598092,
          -3.76077978,
          -1.342192217,
          2.110547111,
          4.080223424,
          -2.189665402,
          -1.008837714,
          -3.29543406,
          -1.245036256,
          -2.798036346,
          1.889118975,
          -2.003480579,
          1.627297372,
          4.45905833,
          -1.788450725,
          -4.017804063,
          -4.166607118,
          -1.471898725,
          3.184527723,
          0.944128339,
          -3.006915502,
          -2.474376394,
          -9.285628136,
          -3.625104199,
          2.696693887,
          2.106567892,
          2.972648349,
          8.083936642,
          -2.019440204,
          -4.610811628,
          -2.361691643,
          -1.57866511,
          -0.507146946,
          6.676941382,
          -3.537825076,
          4.159398797,
          -0.659305957,
          -0.240877993,
          2.057541141,
          0.732661067,
          0.735865707,
          6.372935408,
          -1.781852104,
          0.925170267,
          2.52457092,
          -4.738558725,
          -4.684084881,
          -3.595444977,
          -1.33631924,
          -0.032310942,
          3.32526577,
          3.94853063,
          0.918000858,
          2.577659281,
          -6.160463498,
          -0.535595687,
          -2.212082553,
          -6.952849356,
          -3.835224167,
          5.573030387,
          3.527385471,
          -0.433249073,
          3.387639399,
          -1.30866886,
          3.211539844,
          -0.025326314,
          8.094803358,
          -0.206075117,
          3.689730382,
          0.174191612,
          -6.484121394,
          -1.308650056,
          -4.869807195,
          -0.256715434,
          1.35443212,
          -0.181175569,
          1.698740678,
          0.566863572,
          1.918291585,
          0.974698793,
          1.96719143,
          -5.126676349,
          -2.452282148,
          -3.174883143,
          -1.599978013,
          2.161715842,
          -0.488017488,
          -1.950557637,
          -3.772493901,
          -0.16783077,
          2.649834534,
          0.549953241,
          -0.080421657,
          2.820617446,
          -2.286163498,
          -2.281555604,
          -0.761057801,
          3.173359701,
          -4.082898176,
          1.117383847,
          -0.854982582,
          5.397228742,
          -5.903708401,
          3.194589501,
          -2.174272293,
          -0.686227177,
          -3.370296135,
          5.470582132,
          3.950217044,
          -10.02801511,
          -5.934594888,
          -3.830908388,
          -6.855157827,
          -3.409339525,
          -4.748883703,
          -7.692514402,
          0.400143569,
          2.11672004,
          -0.779019226,
          -1.490068056,
          3.8292772,
          -4.099446778,
          -1.276549602,
          -0.125421126,
          2.928140371,
          2.678125793,
          -4.221030255,
          0.25079604,
          -1.049645206,
          -3.310271828,
          -3.291930369,
          7.195924607,
          4.420683682,
          0.334593472,
          -3.697009155,
          0.653551126,
          0.643969199,
          2.574817445,
          -4.902350613,
          0.313167691,
          -0.471521633,
          1.489914038,
          0.885540404,
          -1.876031408,
          -1.388698309,
          -1.529208741,
          -2.716984223,
          0.891824158,
          7.634311709,
          -0.604691758,
          0.877554795,
          0.26763157,
          -3.408960683,
          5.501626941,
          0.669429645,
          -1.195164287,
          -4.380328788,
          -3.41080653,
          0.498256597,
          -1.237611184,
          4.850637616,
          -7.571466876,
          5.682268239,
          1.928356753,
          0.608627229,
          5.469808967,
          -0.644104316,
          -4.96851575,
          -2.476689795,
          -3.599286966,
          -3.565065023,
          -4.449183084,
          -5.351157001,
          0.48103356,
          1.900294948,
          -2.001725366,
          -0.295645761,
          1.00135873,
          5.531986486,
          8.629809538,
          -3.639792553,
          6.147536078,
          4.536482226,
          -2.284995953,
          -4.851302162,
          2.375010926,
          -5.317624146,
          4.323864549,
          -3.008213363,
          -2.650602856,
          -1.979964028,
          7.854161076,
          0.000210947,
          -1.60944439,
          3.655602055,
          -3.268292547,
          -3.242825753,
          -2.90361017,
          0.379043714,
          -3.220951054,
          1.211313826,
          -0.270585313,
          -1.473308801,
          0.000845898,
          3.311754688,
          -0.730642322,
          4.42155333,
          -0.004594232,
          -1.346962322,
          3.307546809,
          -7.603865176,
          1.245370201,
          0.083500519,
          1.710624166,
          -6.328261488,
          4.262292065,
          -2.61960053,
          -0.694710135,
          1.786845764,
          -3.545088644,
          -0.267530379,
          0.962156076,
          -0.018603517,
          -0.591112362,
          1.065133309,
          -2.97809053,
          -3.51396738,
          -0.350180645,
          3.578455606,
          5.137389166,
          -2.290606339,
          -3.02572797,
          -3.931229503,
          0.857448327,
          -1.4383569,
          -6.323355662,
          3.921401314,
          -3.027883777,
          -5.199863605,
          -7.990272297,
          -2.139068773,
          -1.904359509,
          -3.202404945,
          -7.115271286,
          0.991929859,
          -0.386972774,
          2.818999959,
          -3.421269258,
          -2.967645079,
          -0.616120391,
          -0.946619749,
          2.611989787,
          -1.615392673,
          -4.049889397,
          -2.963099327,
          3.491721847,
          6.982570241,
          -2.800825142,
          -0.963323673,
          1.800207789,
          2.385815574,
          0.201122502,
          4.995673342,
          -4.069808241,
          3.26125954,
          -0.978485426,
          0.070505385,
          -3.483361212,
          1.231928342,
          2.237234508,
          8.473642984,
          -0.649945761,
          -4.920676695,
          -1.458694426,
          -1.178336473,
          -5.449297195,
          -0.392386733,
          0.665368332,
          5.584874286,
          2.073259572,
          -1.443434467,
          -1.847393715,
          0.032916434,
          -3.411047708,
          -3.205253713,
          5.155674387,
          -1.908467207,
          5.195171433,
          0.916562557,
          -0.395418516,
          5.8087493,
          -0.461972757,
          1.890288135,
          1.703262001,
          -2.625444358,
          -0.145896397,
          -1.835384484,
          -3.251116087,
          0.038020156,
          -1.693627963,
          -1.391006749,
          6.202010294,
          -0.315461471,
          1.949313365,
          -2.333315523,
          -3.37095575,
          0.420375669,
          -1.278183798,
          5.694851601,
          2.101644111,
          -3.503505917,
          1.179483614,
          -0.044013779,
          -4.063383026,
          -1.695798977,
          3.419350142,
          4.482291861,
          -1.907327933,
          0.795862772,
          5.864021688,
          -1.21953945,
          2.607961881,
          -4.196862089,
          -1.678143653,
          -7.104299744,
          -2.864618092,
          -3.105063727,
          -0.113529264,
          5.539858751,
          -6.037043767,
          -0.807955472,
          -2.868483853,
          -2.362019947,
          -0.337151444,
          9.301347301,
          -1.399291373,
          -1.167026008,
          -5.403816227,
          3.797861349,
          -0.014243504,
          -1.551539762,
          3.708287406,
          -2.178895241,
          -4.05106543,
          -4.836415788,
          -3.005746412,
          -1.843068303,
          -1.499777889,
          -2.833260415,
          -1.845804349,
          -3.311315437,
          -5.304883474,
          2.956932707,
          -0.607509386,
          -2.380949821,
          -4.524893803,
          0.87953903,
          -0.019761952,
          6.194485959,
          -1.69002387,
          6.08208782,
          -2.933200988,
          2.260009885,
          3.867275387,
          -5.41965103,
          1.754186025,
          1.42390104,
          0.94857465,
          8.401826191,
          -4.430811734,
          -2.772802761,
          -7.275898747,
          2.051194602,
          4.063559848,
          3.941592707,
          0.812772287,
          2.864376637,
          1.810213402,
          -3.075401189,
          -0.192779991,
          -3.134681857,
          -2.608572746,
          1.184695615,
          0.707683043,
          -4.509175593,
          -0.921340992,
          0.939761686,
          -4.248263303,
          -4.513907919,
          -1.370497847,
          -4.230230033,
          4.226679705,
          -1.649922599,
          1.863838366,
          1.848750453,
          0.105832143,
          0.269932299,
          -1.622388812,
          -2.558529299,
          -0.307191378,
          -3.030755738,
          -2.974283833,
          -3.775531531,
          -3.510452167,
          1.845068827,
          -1.80935831,
          3.478766662,
          1.887360609,
          -0.646814835,
          -2.725442527,
          5.85280724,
          -2.735907801,
          5.578225985,
          1.590340639,
          1.065438284,
          -0.422807617,
          -3.910234467,
          -0.347520473,
          -2.106119887,
          2.520143131,
          0.535576067,
          -6.719105219,
          -0.572707818,
          -0.730646543,
          -2.719940087,
          1.662574397,
          4.536116811,
          3.382407391,
          -4.122655533,
          6.131528057,
          8.608192498,
          -1.69358297,
          1.641847199,
          0.54457022,
          -4.786682178,
          -8.709049788,
          -2.322986391,
          -0.181586177,
          0.495638768,
          1.415224113,
          -2.221002178,
          -4.322467679,
          0.79431068,
          5.236373241,
          -5.232152906,
          -1.450462853,
          -2.138374166,
          -1.598266913,
          -2.499399669,
          -1.889132946,
          0.625556623,
          -5.607341942,
          1.211654963,
          -2.026479746,
          6.106349368,
          1.695496391,
          0.670209623,
          -0.814707483,
          1.270060363,
          -2.006579212,
          8.137930036,
          -0.911150371,
          5.360138644,
          4.140431579,
          7.06093098,
          -7.336425751,
          -2.294227405,
          -0.237026997,
          -3.027107029,
          5.606123897,
          -1.216291898,
          1.087110993,
          -2.140764342,
          -0.934913142,
          -2.146896435,
          -3.907574596,
          -1.750225905,
          -4.396909731,
          -0.892601732,
          -0.301092555,
          -3.678350423,
          -0.246790008,
          -2.008851089,
          -0.801266586,
          0.39812194,
          -3.653296949,
          -3.594334095,
          4.813053992,
          1.163167949,
          -0.88303807,
          0.671596851,
          -1.30671782,
          -3.688235156,
          -2.214736577,
          5.203911561,
          -2.089855549,
          0.435286387,
          -4.220376739,
          4.453122958,
          -2.41757272,
          -4.095912481,
          -3.782993531,
          -2.169529438,
          -0.734586109,
          3.357512952,
          -3.484130585,
          5.319393171,
          -2.359151642,
          -4.984540922,
          -1.510543843,
          -1.920184466,
          -2.501696064,
          4.452360301,
          9.860231636,
          0.399812927,
          2.486984227,
          1.564259381,
          1.266553731,
          0.341824042,
          -0.29414288,
          -0.81093526
         ],
         "xaxis": "x",
         "yaxis": "y"
        },
        {
         "alignmentgroup": "True",
         "bingroup": "x",
         "hovertemplate": "variable=earning<br>value=%{x}<br>count=%{y}<extra></extra>",
         "legendgroup": "earning",
         "marker": {
          "color": "#EF553B",
          "pattern": {
           "shape": ""
          }
         },
         "name": "earning",
         "offsetgroup": "earning",
         "orientation": "v",
         "showlegend": true,
         "type": "histogram",
         "x": [
          36.92307692307693,
          24.686192468619247,
          27.741935483870968,
          31.03448275862069,
          30.107526881720432,
          37.34177215189873,
          26.27118644067797,
          26.80851063829787,
          25,
          39.05325443786983,
          20.77922077922078,
          27.173913043478255,
          30.985915492957744,
          31.782945736434108,
          31.57894736842105,
          32.142857142857146,
          23.943661971830984,
          17.741935483870968,
          22.070844686648503,
          19.047619047619047,
          29.166666666666668,
          20.28985507246377,
          14.285714285714285,
          25.56053811659193,
          23.214285714285715,
          36.84210526315789,
          29.48717948717949,
          16.666666666666664,
          29.166666666666668,
          29.518072289156628,
          23,
          33.33333333333333,
          19.00584795321637,
          34.47204968944099,
          30.58823529411765,
          28.57142857142857,
          24.324324324324326,
          23.13624678663239,
          17.142857142857142,
          23.404255319148938,
          24,
          32.800000000000004,
          20.61855670103093,
          23.423423423423426,
          30.15873015873016,
          23.943661971830984,
          20.57142857142857,
          33.47639484978541,
          35.95505617977528,
          27.41935483870968,
          23.28767123287671,
          14.606741573033707,
          34.07407407407408,
          24.65753424657534,
          23.88059701492537,
          10.569105691056912,
          23.93162393162393,
          29.36802973977695,
          18.367346938775512,
          17.142857142857142,
          22.7364185110664,
          18.09210526315789,
          14.527363184079602,
          26.875,
          24.65753424657534,
          19.718309859154928,
          22.492401215805472,
          30.434782608695656,
          17.59259259259259,
          20.77922077922078,
          16.842105263157894,
          36.53846153846153,
          28.07017543859649,
          21.951219512195124,
          20.3125,
          26.785714285714285,
          14.000000000000002,
          29.230769230769237,
          27.27272727272727,
          20.5607476635514,
          25.925925925925924,
          16.049382716049383,
          26.53061224489796,
          34.44444444444444,
          18.181818181818183,
          28.57142857142857,
          31.25,
          16.57142857142857,
          16.27906976744186,
          23.59550561797753,
          40.2439024390244,
          24.836601307189543,
          27.485380116959064,
          30.985915492957744,
          24.761904761904763,
          28.57142857142857,
          11.428571428571429,
          23.5,
          19.8019801980198,
          24.087591240875916,
          25.58139534883721,
          26.76056338028169,
          21.666666666666668,
          22.67441860465116,
          12.5,
          27.43362831858407,
          23.943661971830984,
          26.845637583892614,
          26.31578947368421,
          36.47058823529412,
          36.231884057971016,
          25.984251968503933,
          22.666666666666664,
          19.54022988505747,
          27.27272727272727,
          32.91139240506329,
          22.22222222222222,
          37.93103448275862,
          19.65811965811966,
          21.428571428571427,
          27.08333333333333,
          21.52317880794702,
          13.513513513513514,
          24.675324675324678,
          17.708333333333336,
          14.705882352941178,
          21.73913043478261,
          26.38888888888889,
          18.29268292682927,
          22.75862068965517,
          19.565217391304348,
          17.81609195402299,
          38.853503184713375,
          19.318181818181817,
          14.285714285714285,
          18.75,
          22,
          22.127659574468083,
          21.91780821917808,
          23.33333333333333,
          24.719101123595504,
          25.663716814159294,
          26.229508196721312,
          26.666666666666668,
          27.27272727272727,
          26.666666666666668,
          29.82456140350877,
          20.786516853932586,
          18.580375782881003,
          14.049586776859504,
          38.775510204081634,
          21.428571428571427,
          17.17171717171717,
          17.82178217821782,
          28.31858407079646,
          25,
          27.86259541984733,
          25.675675675675677,
          24.24242424242424,
          24.050632911392405,
          21.978021978021975,
          38.71866295264624,
          32.86219081272085,
          32.20338983050847,
          39.50617283950617,
          20,
          29.577464788732392,
          22.666666666666664,
          17.59259259259259,
          12.669683257918551,
          22.12389380530973,
          26.666666666666668,
          28.767123287671232,
          22.48803827751196,
          25,
          19.642857142857142,
          35.18518518518518,
          48.97959183673469,
          22.5,
          16.822429906542055,
          26.31578947368421,
          17.1875,
          16.049382716049383,
          31.76470588235294,
          28.75,
          33.65384615384615,
          30.844155844155846,
          28.346456692913385,
          31.76470588235294,
          27.380952380952383,
          24.193548387096776,
          28.14814814814815,
          27.02169625246548,
          35,
          22.388059701492537,
          17.02127659574468,
          12.935323383084576,
          15.942028985507244,
          20,
          26.08695652173913,
          35.273972602739725,
          24.71264367816092,
          21.705426356589147,
          20.689655172413797,
          27.47747747747748,
          31.818181818181817,
          27.027027027027028,
          18.79699248120301,
          18.055555555555557,
          20.75471698113208,
          22.153846153846157,
          23.61111111111111,
          17.1875,
          36.55913978494624,
          37.25490196078432,
          35.91836734693877,
          25,
          19.53125,
          26.13636363636364,
          32.098765432098766,
          23.893805309734518,
          11.564625850340136,
          29.257641921397383,
          21.98581560283688,
          18.9873417721519,
          21.379310344827587,
          15.873015873015872,
          25.465838509316768,
          32.926829268292686,
          30,
          29.069767441860467,
          23.00884955752212,
          40.22988505747127,
          27.142857142857142,
          20.967741935483872,
          20.833333333333336,
          26.229508196721312,
          27.68361581920904,
          22.566371681415927,
          25.13368983957219,
          24.489795918367346,
          24.050632911392405,
          24.166666666666668,
          21.26436781609195,
          30.275229357798167,
          18.34862385321101,
          21.09375,
          40.2439024390244,
          26.5625,
          23.07692307692308,
          18.91891891891892,
          19.148936170212767,
          23.728813559322035,
          34.285714285714285,
          30.18867924528302,
          23.00884955752212,
          14.210526315789473,
          41.30434782608695,
          23.863636363636363,
          19.51219512195122,
          28.57142857142857,
          30.8641975308642,
          20,
          24.489795918367346,
          24.24242424242424,
          22.5,
          26.85185185185185,
          27.55102040816326,
          28.57142857142857,
          28.947368421052637,
          24.786324786324787,
          32.075471698113205,
          34.66666666666667,
          22.857142857142858,
          20.710059171597635,
          32.075471698113205,
          33.94495412844037,
          21.34831460674157,
          32.25806451612903,
          17.77777777777778,
          28.695652173913043,
          25.86206896551724,
          25,
          24.35897435897436,
          7.062146892655368,
          34.54545454545455,
          34.42622950819672,
          20.909090909090907,
          28.865979381443296,
          28.32618025751073,
          27.142857142857142,
          30,
          24,
          15.11627906976744,
          30.70866141732284,
          33.14917127071823,
          27.55102040816326,
          33.093525179856115,
          26.08695652173913,
          29.629629629629623,
          32.83582089552239,
          24.22680412371134,
          19.230769230769237,
          27.72277227722773,
          20.37209302325581,
          22.81368821292776,
          20.48192771084337,
          14.615384615384617,
          21.568627450980397,
          25,
          21.07843137254902,
          24.267782426778243,
          26.570048309178745,
          14.917127071823206,
          28.26086956521739,
          29.069767441860467,
          32.17391304347826,
          24.277456647398843,
          29.03225806451613,
          18.27956989247312,
          24.015748031496063,
          30.666666666666664,
          27.751196172248804,
          34.24657534246575,
          25.37313432835821,
          36.0655737704918,
          18.045112781954884,
          27.192982456140356,
          25,
          27.08333333333333,
          24.79740680713128,
          26.96629213483146,
          32.69230769230769,
          32.075471698113205,
          30.584192439862544,
          23.943661971830984,
          19.642857142857142,
          24.444444444444443,
          26.2015503875969,
          26.13636363636364,
          29.629629629629623,
          28.205128205128204,
          28.205128205128204,
          15,
          26.15740740740741,
          15.168539325842698,
          20.23809523809524,
          25.86206896551724,
          18.75,
          22.608695652173918,
          29.328621908127207,
          39.285714285714285,
          28.35820895522388,
          17.1875,
          18.57707509881423,
          20.77922077922078,
          30.20833333333333,
          24.464831804281346,
          29.69924812030075,
          15.873015873015872,
          23.49397590361446,
          40.95238095238095,
          11.1731843575419,
          38.88888888888889,
          25.95419847328244,
          34.93975903614458,
          24.75822050290136,
          24.832214765100677,
          25.31645569620253,
          29.761904761904763,
          21.875,
          19.047619047619047,
          27.27272727272727,
          28.48837209302325,
          23.28767123287671,
          33.23353293413174,
          20.714285714285715,
          21.1864406779661,
          27.459016393442624,
          16.666666666666664,
          23.91304347826087,
          27.70137524557957,
          19.072164948453608,
          19.480519480519483,
          23.214285714285715,
          23.28931572629052,
          33.72093023255814,
          9.395973154362416,
          19.140625,
          25.352112676056336,
          25.779967159277504,
          13.043478260869565,
          19.55555555555556,
          21.666666666666668,
          18.62745098039216,
          40.42553191489361,
          24.115755627009648,
          32.55813953488372,
          23.8,
          33.80281690140845,
          17.857142857142858,
          17.942583732057415,
          30.543933054393307,
          25.29880478087649,
          21.283783783783782,
          27.560521415270017,
          21.85185185185185,
          24.236252545824847,
          22.34982332155477,
          20.081967213114755,
          22.64957264957265,
          22.794117647058822,
          28.703703703703702,
          25.136612021857925,
          26.666666666666668,
          20.149253731343283,
          18.461538461538463,
          15.714285714285714,
          32.38095238095238,
          44.70588235294118,
          24,
          13.541666666666666,
          22.137404580152676,
          26.31578947368421,
          36.099585062240656,
          32.608695652173914,
          21.929824561403507,
          30.069930069930063,
          13.375796178343949,
          24.050632911392405,
          17.078189300411523,
          22.88961038961039,
          17.429193899782135,
          24.87804878048781,
          18.93732970027248,
          25.918944392082945,
          21.978021978021975,
          14.453125,
          21.875,
          26.08695652173913,
          21.895424836601308,
          27.125506072874494,
          28.125,
          18.157894736842103,
          23.58490566037736,
          22.36842105263158,
          25.63025210084033,
          21.26436781609195,
          27.11462450592885,
          24.91582491582492,
          14.285714285714285,
          28.04878048780488,
          19.84126984126984,
          32.758620689655174,
          21.69014084507042,
          24.087591240875916,
          20.2020202020202,
          34.54545454545455,
          24.738675958188157,
          25.203252032520325,
          19.379844961240316,
          25.352112676056336,
          20.60606060606061,
          16.666666666666664,
          24.644549763033176,
          23.52941176470588,
          29.89985693848355,
          25.6198347107438,
          18.37270341207349,
          22.95514511873351,
          28.46153846153846,
          22.30769230769231,
          29.25835370823146,
          34.35897435897436,
          20,
          16.363636363636363,
          30.76923076923077,
          12.5,
          18.51851851851852,
          24.705882352941178,
          23.2078853046595,
          17.894736842105264,
          26.150121065375306,
          26.5625,
          22.424242424242426,
          23.17460317460317,
          18.14345991561181,
          21.957671957671955,
          25,
          17.84841075794621,
          19.083969465648856,
          15.757575757575756,
          29.850746268656717,
          28.88888888888889,
          22.843450479233223,
          25.25773195876289,
          29.51907131011609,
          30.11049723756906,
          36.507936507936506,
          30,
          29.064039408866996,
          24.458204334365323,
          34.17085427135678,
          21.518987341772156,
          19.1358024691358,
          16.57940663176265,
          27.55102040816326,
          19.498607242339837,
          17.741935483870968,
          21.93211488250653,
          19.54022988505747,
          25.82938388625593,
          23.07692307692308,
          30.82706766917293,
          34.26183844011142,
          13.006274957216204,
          18.55670103092784,
          23.03370786516854,
          17.391304347826086,
          18.75,
          19.649122807017545,
          33.60655737704918,
          19.708029197080293,
          23.88888888888889,
          20.079129574678536,
          25.64102564102564,
          26.89655172413793,
          26.76056338028169,
          22.5,
          38.775510204081634,
          27.2189349112426,
          21.663019693654267,
          16.43835616438356,
          22.07792207792208,
          21.12299465240642,
          23.943661971830984,
          19.282511210762333,
          18.95973154362416,
          27.77777777777778,
          20.37037037037037,
          28.57142857142857,
          17.431192660550458,
          20.48192771084337,
          24.305555555555557,
          29.347826086956523,
          16.666666666666664,
          18.421052631578945,
          23.7721021611002,
          22.443181818181817,
          26.785714285714285,
          25.396825396825395,
          25,
          11.532625189681337,
          29.85971943887776,
          28.187919463087248,
          19.2,
          29.87012987012987,
          21.68141592920354,
          20.191846522781777,
          19.22077922077922,
          15.90594744121715,
          23.96694214876033,
          26.74772036474164,
          15.617433414043584,
          17.333333333333336,
          25.11415525114155,
          29.29292929292929,
          25.666460012399256,
          34.04255319148936,
          38.372093023255815,
          15.2327221438646,
          25.418060200668897,
          26.93877551020408,
          38.18615751789976,
          16.049382716049383,
          34.62897526501767,
          20.60606060606061,
          34.78260869565217,
          23.703703703703702,
          20,
          29.023255813953487,
          29.32098765432099,
          21.239837398373982,
          26.970954356846477,
          22.54901960784314,
          15.789473684210526,
          14.473684210526317,
          20.161290322580644,
          20.56338028169014,
          32.20338983050847,
          19.806763285024157,
          28.021978021978025,
          31.439393939393938,
          19.43755169561621,
          12.594458438287154,
          25.31645569620253,
          24.166666666666668,
          29.411764705882355,
          19.11330049261084,
          30.097087378640776,
          24.014336917562723,
          27.314814814814813,
          21.7948717948718,
          16.826923076923077,
          32.94117647058823,
          13.485113835376533,
          17.197452229299362,
          21.71052631578948,
          28.524590163934427,
          26.573426573426573,
          17.12538226299694,
          16.455696202531644,
          32.30769230769231,
          21.91780821917808,
          27.86885245901639,
          28.31050228310502,
          25,
          17.91530944625407,
          18.571428571428573,
          16.51376146788991,
          23.28767123287671,
          20.577617328519857,
          30.275229357798167,
          22.31947483588621,
          33.46938775510204,
          16.666666666666664,
          21.645021645021643,
          33.532934131736525,
          22.317596566523605,
          23.577235772357724,
          21.990369181380416,
          22.10144927536232,
          22.27488151658768,
          10.756972111553784,
          33.64485981308411,
          27.200000000000003,
          12.213740458015266,
          18.30985915492958,
          21.9672131147541,
          26.40449438202247,
          24.35897435897436,
          29.119638826185103,
          24.083769633507853,
          22.608695652173918,
          30.83832335329341,
          16.417910447761194,
          35.32934131736527,
          21.723834652594547,
          22.11838006230529,
          28.18181818181818,
          37.71760154738878,
          23.495145631067963,
          29.577464788732392,
          24.75049900199601,
          15.483870967741936,
          30.569948186528496,
          25.87991718426501,
          22.88135593220339,
          18.39464882943144,
          13.125,
          26.94300518134715,
          28.225806451612907,
          33.07692307692307,
          32.245222929936304,
          19.82758620689655,
          24.09240924092409,
          25.40983606557377,
          18.93491124260355,
          29.310344827586203,
          17.293233082706767,
          28.30188679245283,
          31.746031746031743,
          21.755027422303478,
          19.607843137254903,
          23.52941176470588,
          26.75,
          22.34042553191489,
          20,
          22.950819672131143,
          15.068493150684931,
          23.79421221864952,
          25.95419847328244,
          29.944547134935306,
          17.48878923766816,
          14.925373134328357,
          14.597093791281374,
          22,
          30.21978021978022,
          27.67295597484277,
          21.89189189189189,
          13.4185303514377,
          20.642201834862387,
          21.32701421800948,
          20.531400966183572,
          34.355828220858896,
          21.428571428571427,
          26.485568760611205,
          19.92818671454219,
          26.666666666666668,
          22.5,
          21.518987341772156,
          26.17896009673519,
          34.92063492063492,
          22,
          33.14447592067989,
          22.22222222222222,
          22.14765100671141,
          27.9926335174954,
          22.4,
          17.405063291139243,
          26.774847870182555,
          17.47919143876338,
          20.199501246882797,
          24.5360824742268,
          18.6046511627907,
          27.536231884057973,
          27.40384615384616,
          19.73684210526316,
          33.94495412844037,
          27.86885245901639,
          22.321428571428573,
          30.337078651685395,
          40.95744680851064,
          24.444444444444443,
          19.230769230769237,
          25.83732057416268,
          23.976608187134502,
          22.25063938618926,
          25.358851674641148,
          29.268292682926827,
          21.771217712177123,
          12.340425531914894,
          29.85436893203883,
          22.22222222222222,
          28.80434782608696,
          19.448946515397083,
          27.027027027027028,
          22.916666666666664,
          21.14624505928854,
          25.49019607843137,
          31.03448275862069,
          12.935323383084576,
          18.231834566495923,
          20.76923076923077,
          24.55621301775148,
          26.53562653562653,
          21.818181818181817,
          19.073083778966133,
          21.008403361344534,
          17.62295081967213,
          24.46043165467626,
          20.212765957446805,
          20,
          18.314176245210728,
          19.069767441860467,
          25.53191489361702,
          21.100917431192663,
          36.25730994152047,
          22.027027027027028,
          24.848484848484848,
          29.71014492753623,
          15.94634873323398,
          24.09638554216868,
          28.947368421052637,
          27.628361858190708,
          16.666666666666664,
          30.681818181818183,
          18.413597733711047,
          28.368794326241137,
          24.669603524229075,
          16.25615763546798,
          24.22680412371134,
          18.90660592255125,
          27.427597955706982,
          26.729559748427672,
          23.547400611620795,
          16.56441717791411,
          18.91891891891892,
          27.835051546391757,
          21.15942028985507,
          31.950207468879665,
          24.35897435897436,
          23.12703583061889,
          25.060240963855424,
          19.587628865979383,
          15.178571428571429,
          36.66666666666666,
          17.02127659574468,
          33.54037267080746,
          27.906976744186046,
          27.10843373493976,
          31.868131868131865,
          18.79699248120301,
          23.37662337662337,
          43.29896907216495,
          30.111524163568777,
          19.18819188191882,
          36.03448275862069,
          14.705882352941178,
          28.90995260663507,
          18.181818181818183,
          23.684210526315788,
          22.22222222222222,
          11.320754716981131,
          24.25531914893617,
          35.07692307692308,
          24.90118577075099,
          25.471698113207548,
          8.823529411764707,
          19.745222929936308,
          28.703703703703702,
          20.952380952380956,
          23.61111111111111,
          26.380368098159508,
          21.951219512195124,
          26.60944206008584,
          32,
          23.475046210720887,
          24.637681159420293,
          22.50879249706917,
          23.776223776223777,
          25.2851711026616,
          15.151515151515152,
          16.083916083916083,
          25.44378698224852,
          34.21052631578947,
          21.58908507223114,
          27.77777777777778,
          16.563330380868024,
          32.50620347394541,
          14.935064935064934,
          25.847457627118644,
          14.52338129496403,
          23.07692307692308,
          27.819548872180448,
          18.181818181818183,
          40.19607843137255,
          21.153846153846157,
          17.40176423416199,
          18.25613079019073,
          28.402366863905325,
          13.652357494722024,
          14.68110709987966,
          35.22727272727273,
          26.08695652173913,
          29.508196721311474,
          11.989100817438691,
          25.390625,
          19.565217391304348,
          28.759894459102902,
          28.929384965831435,
          21.05803800719055,
          30.582524271844655,
          15.93625498007968,
          15.418309242225142,
          23.101777059773827,
          23.91489361702128,
          30.100334448160535,
          22.22222222222222,
          35.526315789473685,
          21.11111111111111,
          19.76923076923077,
          13.737421015679852,
          25.938566552901023,
          27.947598253275107,
          37.06896551724138,
          24.116930572472597,
          23.52941176470588,
          17.041800643086816,
          30.973451327433622,
          26.666666666666668,
          20.588235294117645,
          22.96849087893864,
          36.19631901840491,
          29.1866028708134,
          21.21212121212121,
          22.988505747126435,
          20.634920634920636,
          38.18181818181819,
          20.97457627118644,
          24.09638554216868,
          29.596412556053814,
          21.16104868913857,
          25.05289885738468,
          27.789473684210524,
          27.602905569007262,
          8.783783783783784,
          23.65217391304348,
          29.044585987261147,
          34.35114503816794,
          22.448979591836736,
          28.971962616822427,
          27.77777777777778,
          17.692307692307693,
          22.12962962962963,
          12.265512265512266,
          32.47863247863248,
          22.90862290862291,
          20.043572984749456,
          20.0218818380744,
          21.975308641975307,
          28.642714570858285,
          26.306413301662708,
          27.39130434782609,
          21.50537634408602,
          26.41509433962264,
          20.610687022900763,
          22.393822393822397,
          21.583986074847694,
          24.09033877038896,
          12.337662337662335,
          26.108374384236456,
          20.21783526208305,
          27.203551046290425,
          28.365384615384613,
          13.675213675213676,
          26.98535080956053,
          27.08757637474542,
          22.69503546099291,
          23.505654281098547,
          18.81188118811881,
          39.325842696629216,
          35.07625272331155,
          38.297872340425535,
          35.80246913580247,
          32.72727272727273,
          22.47524752475248,
          22.692307692307693,
          25.115207373271893,
          24.742268041237114,
          21.48148148148148,
          23.796791443850267,
          22.77227722772277,
          25.124792013311147,
          29.80132450331126,
          29.468599033816425,
          25.44353093898745,
          13.790255986787775,
          33.33333333333333,
          20.518358531317496,
          16.5014164305949,
          19.473684210526315,
          17.67485822306238,
          31.428571428571427,
          23.88059701492537,
          20.087336244541483,
          25.19083969465649,
          33.12597200622084,
          24.13793103448276,
          24,
          20.379839298758217,
          23.1404958677686,
          18.802345058626464,
          22.19730941704036,
          21.779548472775563,
          29.87012987012987,
          21.76360225140713,
          26.666666666666668,
          15.151515151515152,
          21.22093023255814,
          17.611336032388664,
          28.66043613707165,
          21.00456621004566,
          27.47603833865815,
          20.40816326530612,
          27.24867724867725,
          19.15236051502146,
          20.23121387283237,
          29.259259259259256,
          24.840255591054312,
          25.02596053997923,
          25.161290322580644,
          31.63265306122449,
          18.146718146718147,
          27.36156351791531,
          21.223709369024856,
          21.993127147766323,
          24.269662921348317,
          27.43362831858407,
          17.51824817518248,
          23.4375,
          27.027027027027028,
          13.6,
          20.4292311871774,
          30.06081668114683,
          21.81515403830141,
          27.192982456140356,
          28.767123287671232,
          15.497630331753554,
          30.76923076923077,
          18.43003412969283,
          19.17808219178082,
          18.956336528221517,
          26.76962676962677,
          16.377171215880892,
          17.177914110429448,
          20.52238805970149,
          20.14218009478673,
          21.79067865903516,
          15.709104790990647,
          20.79646017699115,
          19.67545638945233,
          18.293395675043836,
          22.666666666666664,
          18.47599164926931,
          20.09132420091324,
          20.48780487804878,
          20.967741935483872,
          35.91269841269841,
          22.797927461139896,
          19.27846674182638,
          32.314410480349345,
          12.109375,
          30.76923076923077,
          16.39344262295082,
          25.15723270440252,
          11.494252873563218,
          22.857142857142858,
          19.056603773584907,
          26.32850241545894,
          26.785714285714285,
          23.046875,
          31.03448275862069,
          23.933649289099527,
          28.78859857482185,
          8.71165644171779,
          19.8943661971831,
          28.958333333333336,
          20.66115702479339,
          24.170616113744074,
          27.504393673110723,
          8.73015873015873,
          21.369294605809127,
          23.96535129932628,
          23.404255319148938,
          26.35933806146572,
          23.5480464625132,
          27.58620689655172,
          18.766756032171585,
          24.418604651162788,
          19.76744186046512,
          35.78947368421053,
          26.126126126126124,
          35.18518518518518,
          36.5,
          14.875755540631296,
          18.30985915492958,
          18.65373645179692,
          21.68141592920354,
          24.90170380078637,
          34.42622950819672,
          19.305019305019304,
          21.011673151750973,
          18.248175182481752,
          20.042643923240934,
          42.10526315789473,
          22.981366459627328,
          16.3265306122449,
          14.769975786924938,
          35.13513513513514,
          25,
          31.818181818181817,
          18.72,
          13.593256059009484,
          14.058355437665782,
          14.117647058823527,
          24.83281319661168,
          35.50488599348534,
          25,
          28.57142857142857,
          21.225071225071225,
          22.962226640159045,
          18.26792963464141
         ],
         "xaxis": "x",
         "yaxis": "y"
        }
       ],
       "layout": {
        "barmode": "relative",
        "height": 400,
        "legend": {
         "title": {
          "text": "variable"
         },
         "tracegroupgap": 0
        },
        "template": {
         "data": {
          "bar": [
           {
            "error_x": {
             "color": "#2a3f5f"
            },
            "error_y": {
             "color": "#2a3f5f"
            },
            "marker": {
             "line": {
              "color": "#E5ECF6",
              "width": 0.5
             },
             "pattern": {
              "fillmode": "overlay",
              "size": 10,
              "solidity": 0.2
             }
            },
            "type": "bar"
           }
          ],
          "barpolar": [
           {
            "marker": {
             "line": {
              "color": "#E5ECF6",
              "width": 0.5
             },
             "pattern": {
              "fillmode": "overlay",
              "size": 10,
              "solidity": 0.2
             }
            },
            "type": "barpolar"
           }
          ],
          "carpet": [
           {
            "aaxis": {
             "endlinecolor": "#2a3f5f",
             "gridcolor": "white",
             "linecolor": "white",
             "minorgridcolor": "white",
             "startlinecolor": "#2a3f5f"
            },
            "baxis": {
             "endlinecolor": "#2a3f5f",
             "gridcolor": "white",
             "linecolor": "white",
             "minorgridcolor": "white",
             "startlinecolor": "#2a3f5f"
            },
            "type": "carpet"
           }
          ],
          "choropleth": [
           {
            "colorbar": {
             "outlinewidth": 0,
             "ticks": ""
            },
            "type": "choropleth"
           }
          ],
          "contour": [
           {
            "colorbar": {
             "outlinewidth": 0,
             "ticks": ""
            },
            "colorscale": [
             [
              0,
              "#0d0887"
             ],
             [
              0.1111111111111111,
              "#46039f"
             ],
             [
              0.2222222222222222,
              "#7201a8"
             ],
             [
              0.3333333333333333,
              "#9c179e"
             ],
             [
              0.4444444444444444,
              "#bd3786"
             ],
             [
              0.5555555555555556,
              "#d8576b"
             ],
             [
              0.6666666666666666,
              "#ed7953"
             ],
             [
              0.7777777777777778,
              "#fb9f3a"
             ],
             [
              0.8888888888888888,
              "#fdca26"
             ],
             [
              1,
              "#f0f921"
             ]
            ],
            "type": "contour"
           }
          ],
          "contourcarpet": [
           {
            "colorbar": {
             "outlinewidth": 0,
             "ticks": ""
            },
            "type": "contourcarpet"
           }
          ],
          "heatmap": [
           {
            "colorbar": {
             "outlinewidth": 0,
             "ticks": ""
            },
            "colorscale": [
             [
              0,
              "#0d0887"
             ],
             [
              0.1111111111111111,
              "#46039f"
             ],
             [
              0.2222222222222222,
              "#7201a8"
             ],
             [
              0.3333333333333333,
              "#9c179e"
             ],
             [
              0.4444444444444444,
              "#bd3786"
             ],
             [
              0.5555555555555556,
              "#d8576b"
             ],
             [
              0.6666666666666666,
              "#ed7953"
             ],
             [
              0.7777777777777778,
              "#fb9f3a"
             ],
             [
              0.8888888888888888,
              "#fdca26"
             ],
             [
              1,
              "#f0f921"
             ]
            ],
            "type": "heatmap"
           }
          ],
          "heatmapgl": [
           {
            "colorbar": {
             "outlinewidth": 0,
             "ticks": ""
            },
            "colorscale": [
             [
              0,
              "#0d0887"
             ],
             [
              0.1111111111111111,
              "#46039f"
             ],
             [
              0.2222222222222222,
              "#7201a8"
             ],
             [
              0.3333333333333333,
              "#9c179e"
             ],
             [
              0.4444444444444444,
              "#bd3786"
             ],
             [
              0.5555555555555556,
              "#d8576b"
             ],
             [
              0.6666666666666666,
              "#ed7953"
             ],
             [
              0.7777777777777778,
              "#fb9f3a"
             ],
             [
              0.8888888888888888,
              "#fdca26"
             ],
             [
              1,
              "#f0f921"
             ]
            ],
            "type": "heatmapgl"
           }
          ],
          "histogram": [
           {
            "marker": {
             "pattern": {
              "fillmode": "overlay",
              "size": 10,
              "solidity": 0.2
             }
            },
            "type": "histogram"
           }
          ],
          "histogram2d": [
           {
            "colorbar": {
             "outlinewidth": 0,
             "ticks": ""
            },
            "colorscale": [
             [
              0,
              "#0d0887"
             ],
             [
              0.1111111111111111,
              "#46039f"
             ],
             [
              0.2222222222222222,
              "#7201a8"
             ],
             [
              0.3333333333333333,
              "#9c179e"
             ],
             [
              0.4444444444444444,
              "#bd3786"
             ],
             [
              0.5555555555555556,
              "#d8576b"
             ],
             [
              0.6666666666666666,
              "#ed7953"
             ],
             [
              0.7777777777777778,
              "#fb9f3a"
             ],
             [
              0.8888888888888888,
              "#fdca26"
             ],
             [
              1,
              "#f0f921"
             ]
            ],
            "type": "histogram2d"
           }
          ],
          "histogram2dcontour": [
           {
            "colorbar": {
             "outlinewidth": 0,
             "ticks": ""
            },
            "colorscale": [
             [
              0,
              "#0d0887"
             ],
             [
              0.1111111111111111,
              "#46039f"
             ],
             [
              0.2222222222222222,
              "#7201a8"
             ],
             [
              0.3333333333333333,
              "#9c179e"
             ],
             [
              0.4444444444444444,
              "#bd3786"
             ],
             [
              0.5555555555555556,
              "#d8576b"
             ],
             [
              0.6666666666666666,
              "#ed7953"
             ],
             [
              0.7777777777777778,
              "#fb9f3a"
             ],
             [
              0.8888888888888888,
              "#fdca26"
             ],
             [
              1,
              "#f0f921"
             ]
            ],
            "type": "histogram2dcontour"
           }
          ],
          "mesh3d": [
           {
            "colorbar": {
             "outlinewidth": 0,
             "ticks": ""
            },
            "type": "mesh3d"
           }
          ],
          "parcoords": [
           {
            "line": {
             "colorbar": {
              "outlinewidth": 0,
              "ticks": ""
             }
            },
            "type": "parcoords"
           }
          ],
          "pie": [
           {
            "automargin": true,
            "type": "pie"
           }
          ],
          "scatter": [
           {
            "fillpattern": {
             "fillmode": "overlay",
             "size": 10,
             "solidity": 0.2
            },
            "type": "scatter"
           }
          ],
          "scatter3d": [
           {
            "line": {
             "colorbar": {
              "outlinewidth": 0,
              "ticks": ""
             }
            },
            "marker": {
             "colorbar": {
              "outlinewidth": 0,
              "ticks": ""
             }
            },
            "type": "scatter3d"
           }
          ],
          "scattercarpet": [
           {
            "marker": {
             "colorbar": {
              "outlinewidth": 0,
              "ticks": ""
             }
            },
            "type": "scattercarpet"
           }
          ],
          "scattergeo": [
           {
            "marker": {
             "colorbar": {
              "outlinewidth": 0,
              "ticks": ""
             }
            },
            "type": "scattergeo"
           }
          ],
          "scattergl": [
           {
            "marker": {
             "colorbar": {
              "outlinewidth": 0,
              "ticks": ""
             }
            },
            "type": "scattergl"
           }
          ],
          "scattermapbox": [
           {
            "marker": {
             "colorbar": {
              "outlinewidth": 0,
              "ticks": ""
             }
            },
            "type": "scattermapbox"
           }
          ],
          "scatterpolar": [
           {
            "marker": {
             "colorbar": {
              "outlinewidth": 0,
              "ticks": ""
             }
            },
            "type": "scatterpolar"
           }
          ],
          "scatterpolargl": [
           {
            "marker": {
             "colorbar": {
              "outlinewidth": 0,
              "ticks": ""
             }
            },
            "type": "scatterpolargl"
           }
          ],
          "scatterternary": [
           {
            "marker": {
             "colorbar": {
              "outlinewidth": 0,
              "ticks": ""
             }
            },
            "type": "scatterternary"
           }
          ],
          "surface": [
           {
            "colorbar": {
             "outlinewidth": 0,
             "ticks": ""
            },
            "colorscale": [
             [
              0,
              "#0d0887"
             ],
             [
              0.1111111111111111,
              "#46039f"
             ],
             [
              0.2222222222222222,
              "#7201a8"
             ],
             [
              0.3333333333333333,
              "#9c179e"
             ],
             [
              0.4444444444444444,
              "#bd3786"
             ],
             [
              0.5555555555555556,
              "#d8576b"
             ],
             [
              0.6666666666666666,
              "#ed7953"
             ],
             [
              0.7777777777777778,
              "#fb9f3a"
             ],
             [
              0.8888888888888888,
              "#fdca26"
             ],
             [
              1,
              "#f0f921"
             ]
            ],
            "type": "surface"
           }
          ],
          "table": [
           {
            "cells": {
             "fill": {
              "color": "#EBF0F8"
             },
             "line": {
              "color": "white"
             }
            },
            "header": {
             "fill": {
              "color": "#C8D4E3"
             },
             "line": {
              "color": "white"
             }
            },
            "type": "table"
           }
          ]
         },
         "layout": {
          "annotationdefaults": {
           "arrowcolor": "#2a3f5f",
           "arrowhead": 0,
           "arrowwidth": 1
          },
          "autotypenumbers": "strict",
          "coloraxis": {
           "colorbar": {
            "outlinewidth": 0,
            "ticks": ""
           }
          },
          "colorscale": {
           "diverging": [
            [
             0,
             "#8e0152"
            ],
            [
             0.1,
             "#c51b7d"
            ],
            [
             0.2,
             "#de77ae"
            ],
            [
             0.3,
             "#f1b6da"
            ],
            [
             0.4,
             "#fde0ef"
            ],
            [
             0.5,
             "#f7f7f7"
            ],
            [
             0.6,
             "#e6f5d0"
            ],
            [
             0.7,
             "#b8e186"
            ],
            [
             0.8,
             "#7fbc41"
            ],
            [
             0.9,
             "#4d9221"
            ],
            [
             1,
             "#276419"
            ]
           ],
           "sequential": [
            [
             0,
             "#0d0887"
            ],
            [
             0.1111111111111111,
             "#46039f"
            ],
            [
             0.2222222222222222,
             "#7201a8"
            ],
            [
             0.3333333333333333,
             "#9c179e"
            ],
            [
             0.4444444444444444,
             "#bd3786"
            ],
            [
             0.5555555555555556,
             "#d8576b"
            ],
            [
             0.6666666666666666,
             "#ed7953"
            ],
            [
             0.7777777777777778,
             "#fb9f3a"
            ],
            [
             0.8888888888888888,
             "#fdca26"
            ],
            [
             1,
             "#f0f921"
            ]
           ],
           "sequentialminus": [
            [
             0,
             "#0d0887"
            ],
            [
             0.1111111111111111,
             "#46039f"
            ],
            [
             0.2222222222222222,
             "#7201a8"
            ],
            [
             0.3333333333333333,
             "#9c179e"
            ],
            [
             0.4444444444444444,
             "#bd3786"
            ],
            [
             0.5555555555555556,
             "#d8576b"
            ],
            [
             0.6666666666666666,
             "#ed7953"
            ],
            [
             0.7777777777777778,
             "#fb9f3a"
            ],
            [
             0.8888888888888888,
             "#fdca26"
            ],
            [
             1,
             "#f0f921"
            ]
           ]
          },
          "colorway": [
           "#636efa",
           "#EF553B",
           "#00cc96",
           "#ab63fa",
           "#FFA15A",
           "#19d3f3",
           "#FF6692",
           "#B6E880",
           "#FF97FF",
           "#FECB52"
          ],
          "font": {
           "color": "#2a3f5f"
          },
          "geo": {
           "bgcolor": "white",
           "lakecolor": "white",
           "landcolor": "#E5ECF6",
           "showlakes": true,
           "showland": true,
           "subunitcolor": "white"
          },
          "hoverlabel": {
           "align": "left"
          },
          "hovermode": "closest",
          "mapbox": {
           "style": "light"
          },
          "paper_bgcolor": "white",
          "plot_bgcolor": "#E5ECF6",
          "polar": {
           "angularaxis": {
            "gridcolor": "white",
            "linecolor": "white",
            "ticks": ""
           },
           "bgcolor": "#E5ECF6",
           "radialaxis": {
            "gridcolor": "white",
            "linecolor": "white",
            "ticks": ""
           }
          },
          "scene": {
           "xaxis": {
            "backgroundcolor": "#E5ECF6",
            "gridcolor": "white",
            "gridwidth": 2,
            "linecolor": "white",
            "showbackground": true,
            "ticks": "",
            "zerolinecolor": "white"
           },
           "yaxis": {
            "backgroundcolor": "#E5ECF6",
            "gridcolor": "white",
            "gridwidth": 2,
            "linecolor": "white",
            "showbackground": true,
            "ticks": "",
            "zerolinecolor": "white"
           },
           "zaxis": {
            "backgroundcolor": "#E5ECF6",
            "gridcolor": "white",
            "gridwidth": 2,
            "linecolor": "white",
            "showbackground": true,
            "ticks": "",
            "zerolinecolor": "white"
           }
          },
          "shapedefaults": {
           "line": {
            "color": "#2a3f5f"
           }
          },
          "ternary": {
           "aaxis": {
            "gridcolor": "white",
            "linecolor": "white",
            "ticks": ""
           },
           "baxis": {
            "gridcolor": "white",
            "linecolor": "white",
            "ticks": ""
           },
           "bgcolor": "#E5ECF6",
           "caxis": {
            "gridcolor": "white",
            "linecolor": "white",
            "ticks": ""
           }
          },
          "title": {
           "x": 0.05
          },
          "xaxis": {
           "automargin": true,
           "gridcolor": "white",
           "linecolor": "white",
           "ticks": "",
           "title": {
            "standoff": 15
           },
           "zerolinecolor": "white",
           "zerolinewidth": 2
          },
          "yaxis": {
           "automargin": true,
           "gridcolor": "white",
           "linecolor": "white",
           "ticks": "",
           "title": {
            "standoff": 15
           },
           "zerolinecolor": "white",
           "zerolinewidth": 2
          }
         }
        },
        "title": {
         "text": "Education Score and Earning"
        },
        "width": 600,
        "xaxis": {
         "anchor": "y",
         "domain": [
          0,
          1
         ],
         "title": {
          "text": "value"
         }
        },
        "yaxis": {
         "anchor": "x",
         "domain": [
          0,
          1
         ],
         "title": {
          "text": "count"
         }
        }
       }
      }
     },
     "metadata": {},
     "output_type": "display_data"
    }
   ],
   "source": [
    "fig = px.histogram(dff, x=[\"score\", \"earning\"], title=\"Education Score and Earning\", )\n",
    "fig.update_layout(width=600, height = 400)\n",
    "fig.show()"
   ]
  },
  {
   "cell_type": "code",
   "execution_count": 119,
   "metadata": {},
   "outputs": [
    {
     "data": {
      "text/plain": [
       "product  region\n",
       "A        North     100.0\n",
       "         South     400.0\n",
       "B        North     200.0\n",
       "         South     500.0\n",
       "C        North     300.0\n",
       "         South     600.0\n",
       "Name: sales, dtype: float64"
      ]
     },
     "execution_count": 119,
     "metadata": {},
     "output_type": "execute_result"
    }
   ],
   "source": [
    "sdf  = pd.DataFrame({\n",
    "    'product': ['A', 'B', 'C', 'A', 'B', 'C'],\n",
    "    'region': ['North', 'North', 'North', 'South', 'South', 'South'],\n",
    "    'sales': [100, 200, 300, 400, 500, 600]\n",
    "})\n",
    "sdf.groupby(['product', 'region'])['sales'].mean()"
   ]
  },
  {
   "cell_type": "code",
   "execution_count": 143,
   "metadata": {},
   "outputs": [
    {
     "data": {
      "text/plain": [
       "<Axes: title={'center': 'Earning By Region'}>"
      ]
     },
     "execution_count": 143,
     "metadata": {},
     "output_type": "execute_result"
    },
    {
     "data": {
      "image/png": "[encoded data removed]",
      "text/plain": [
       "<Figure size 640x480 with 1 Axes>"
      ]
     },
     "metadata": {},
     "output_type": "display_data"
    }
   ],
   "source": [
    "rgn_earning = dff.groupby('region')['earning'].mean().reset_index().sort_values('earning')\n",
    "rgn_earning.plot.barh(\n",
    "    x  = 'region', y = 'earning', ylabel = '', legend = '', title  = 'Earning By Region'\n",
    "    )"
   ]
  },
  {
   "cell_type": "code",
   "execution_count": 146,
   "metadata": {},
   "outputs": [
    {
     "data": {
      "text/plain": [
       "Text(0.5, 1.0, 'Earning By Region')"
      ]
     },
     "execution_count": 146,
     "metadata": {},
     "output_type": "execute_result"
    },
    {
     "data": {
      "image/png": "[encoded data removed]",
      "text/plain": [
       "<Figure size 640x480 with 1 Axes>"
      ]
     },
     "metadata": {},
     "output_type": "display_data"
    }
   ],
   "source": [
    "ax = rgn_earning.plot.barh(\n",
    "    x  = 'region', y = 'earning', ylabel = '', legend = ''\n",
    "    )\n",
    "ax.set_title('Earning By Region', fontsize=15, color= 'dodgerblue', fontweight='bold')"
   ]
  },
  {
   "cell_type": "code",
   "execution_count": 166,
   "metadata": {},
   "outputs": [
    {
     "data": {
      "image/png": "[encoded data removed]",
      "text/plain": [
       "<Figure size 640x480 with 1 Axes>"
      ]
     },
     "metadata": {},
     "output_type": "display_data"
    }
   ],
   "source": [
    "avg_pop = dff.groupby('jobcat')['pop2011'].mean().reset_index().sort_values('pop2011', ascending=False)\n",
    "ax = avg_pop.plot(\n",
    "    kind='bar',\n",
    "    x  = 'jobcat', y = 'pop2011',  xlabel = '', legend = '', alpha=0.75, rot=0, color =['#5cb85c', '#5bc0de',  '#d9534f']\n",
    ").set_title('Average Pop By Town Type', fontsize=15, color= 'navy', fontweight='bold')"
   ]
  },
  {
   "cell_type": "code",
   "execution_count": 185,
   "metadata": {},
   "outputs": [
    {
     "data": {
      "application/vnd.plotly.v1+json": {
       "config": {
        "plotlyServerURL": "https://plot.ly"
       },
       "data": [
        {
         "alignmentgroup": "True",
         "hovertemplate": "earning=%{x}<br>region=%{y}<extra></extra>",
         "legendgroup": "",
         "marker": {
          "color": "#636efa",
          "pattern": {
           "shape": ""
          }
         },
         "name": "",
         "offsetgroup": "",
         "orientation": "h",
         "showlegend": false,
         "textposition": "auto",
         "type": "bar",
         "x": [
          20.281734689294787,
          21.678868635346376,
          22.705968746236998,
          23.596497968415377,
          25.0993379554092,
          25.586347669600386,
          26.048114448422545,
          26.802530830673764
         ],
         "xaxis": "x",
         "y": [
          "North East",
          "North West",
          "West Midlands",
          "Yorkshire and The Humber",
          "South East",
          "South West",
          "East Midlands",
          "East of England"
         ],
         "yaxis": "y"
        }
       ],
       "layout": {
        "barmode": "relative",
        "height": 400,
        "legend": {
         "tracegroupgap": 0
        },
        "margin": {
         "t": 60
        },
        "template": {
         "data": {
          "bar": [
           {
            "error_x": {
             "color": "#2a3f5f"
            },
            "error_y": {
             "color": "#2a3f5f"
            },
            "marker": {
             "line": {
              "color": "#E5ECF6",
              "width": 0.5
             },
             "pattern": {
              "fillmode": "overlay",
              "size": 10,
              "solidity": 0.2
             }
            },
            "type": "bar"
           }
          ],
          "barpolar": [
           {
            "marker": {
             "line": {
              "color": "#E5ECF6",
              "width": 0.5
             },
             "pattern": {
              "fillmode": "overlay",
              "size": 10,
              "solidity": 0.2
             }
            },
            "type": "barpolar"
           }
          ],
          "carpet": [
           {
            "aaxis": {
             "endlinecolor": "#2a3f5f",
             "gridcolor": "white",
             "linecolor": "white",
             "minorgridcolor": "white",
             "startlinecolor": "#2a3f5f"
            },
            "baxis": {
             "endlinecolor": "#2a3f5f",
             "gridcolor": "white",
             "linecolor": "white",
             "minorgridcolor": "white",
             "startlinecolor": "#2a3f5f"
            },
            "type": "carpet"
           }
          ],
          "choropleth": [
           {
            "colorbar": {
             "outlinewidth": 0,
             "ticks": ""
            },
            "type": "choropleth"
           }
          ],
          "contour": [
           {
            "colorbar": {
             "outlinewidth": 0,
             "ticks": ""
            },
            "colorscale": [
             [
              0,
              "#0d0887"
             ],
             [
              0.1111111111111111,
              "#46039f"
             ],
             [
              0.2222222222222222,
              "#7201a8"
             ],
             [
              0.3333333333333333,
              "#9c179e"
             ],
             [
              0.4444444444444444,
              "#bd3786"
             ],
             [
              0.5555555555555556,
              "#d8576b"
             ],
             [
              0.6666666666666666,
              "#ed7953"
             ],
             [
              0.7777777777777778,
              "#fb9f3a"
             ],
             [
              0.8888888888888888,
              "#fdca26"
             ],
             [
              1,
              "#f0f921"
             ]
            ],
            "type": "contour"
           }
          ],
          "contourcarpet": [
           {
            "colorbar": {
             "outlinewidth": 0,
             "ticks": ""
            },
            "type": "contourcarpet"
           }
          ],
          "heatmap": [
           {
            "colorbar": {
             "outlinewidth": 0,
             "ticks": ""
            },
            "colorscale": [
             [
              0,
              "#0d0887"
             ],
             [
              0.1111111111111111,
              "#46039f"
             ],
             [
              0.2222222222222222,
              "#7201a8"
             ],
             [
              0.3333333333333333,
              "#9c179e"
             ],
             [
              0.4444444444444444,
              "#bd3786"
             ],
             [
              0.5555555555555556,
              "#d8576b"
             ],
             [
              0.6666666666666666,
              "#ed7953"
             ],
             [
              0.7777777777777778,
              "#fb9f3a"
             ],
             [
              0.8888888888888888,
              "#fdca26"
             ],
             [
              1,
              "#f0f921"
             ]
            ],
            "type": "heatmap"
           }
          ],
          "heatmapgl": [
           {
            "colorbar": {
             "outlinewidth": 0,
             "ticks": ""
            },
            "colorscale": [
             [
              0,
              "#0d0887"
             ],
             [
              0.1111111111111111,
              "#46039f"
             ],
             [
              0.2222222222222222,
              "#7201a8"
             ],
             [
              0.3333333333333333,
              "#9c179e"
             ],
             [
              0.4444444444444444,
              "#bd3786"
             ],
             [
              0.5555555555555556,
              "#d8576b"
             ],
             [
              0.6666666666666666,
              "#ed7953"
             ],
             [
              0.7777777777777778,
              "#fb9f3a"
             ],
             [
              0.8888888888888888,
              "#fdca26"
             ],
             [
              1,
              "#f0f921"
             ]
            ],
            "type": "heatmapgl"
           }
          ],
          "histogram": [
           {
            "marker": {
             "pattern": {
              "fillmode": "overlay",
              "size": 10,
              "solidity": 0.2
             }
            },
            "type": "histogram"
           }
          ],
          "histogram2d": [
           {
            "colorbar": {
             "outlinewidth": 0,
             "ticks": ""
            },
            "colorscale": [
             [
              0,
              "#0d0887"
             ],
             [
              0.1111111111111111,
              "#46039f"
             ],
             [
              0.2222222222222222,
              "#7201a8"
             ],
             [
              0.3333333333333333,
              "#9c179e"
             ],
             [
              0.4444444444444444,
              "#bd3786"
             ],
             [
              0.5555555555555556,
              "#d8576b"
             ],
             [
              0.6666666666666666,
              "#ed7953"
             ],
             [
              0.7777777777777778,
              "#fb9f3a"
             ],
             [
              0.8888888888888888,
              "#fdca26"
             ],
             [
              1,
              "#f0f921"
             ]
            ],
            "type": "histogram2d"
           }
          ],
          "histogram2dcontour": [
           {
            "colorbar": {
             "outlinewidth": 0,
             "ticks": ""
            },
            "colorscale": [
             [
              0,
              "#0d0887"
             ],
             [
              0.1111111111111111,
              "#46039f"
             ],
             [
              0.2222222222222222,
              "#7201a8"
             ],
             [
              0.3333333333333333,
              "#9c179e"
             ],
             [
              0.4444444444444444,
              "#bd3786"
             ],
             [
              0.5555555555555556,
              "#d8576b"
             ],
             [
              0.6666666666666666,
              "#ed7953"
             ],
             [
              0.7777777777777778,
              "#fb9f3a"
             ],
             [
              0.8888888888888888,
              "#fdca26"
             ],
             [
              1,
              "#f0f921"
             ]
            ],
            "type": "histogram2dcontour"
           }
          ],
          "mesh3d": [
           {
            "colorbar": {
             "outlinewidth": 0,
             "ticks": ""
            },
            "type": "mesh3d"
           }
          ],
          "parcoords": [
           {
            "line": {
             "colorbar": {
              "outlinewidth": 0,
              "ticks": ""
             }
            },
            "type": "parcoords"
           }
          ],
          "pie": [
           {
            "automargin": true,
            "type": "pie"
           }
          ],
          "scatter": [
           {
            "fillpattern": {
             "fillmode": "overlay",
             "size": 10,
             "solidity": 0.2
            },
            "type": "scatter"
           }
          ],
          "scatter3d": [
           {
            "line": {
             "colorbar": {
              "outlinewidth": 0,
              "ticks": ""
             }
            },
            "marker": {
             "colorbar": {
              "outlinewidth": 0,
              "ticks": ""
             }
            },
            "type": "scatter3d"
           }
          ],
          "scattercarpet": [
           {
            "marker": {
             "colorbar": {
              "outlinewidth": 0,
              "ticks": ""
             }
            },
            "type": "scattercarpet"
           }
          ],
          "scattergeo": [
           {
            "marker": {
             "colorbar": {
              "outlinewidth": 0,
              "ticks": ""
             }
            },
            "type": "scattergeo"
           }
          ],
          "scattergl": [
           {
            "marker": {
             "colorbar": {
              "outlinewidth": 0,
              "ticks": ""
             }
            },
            "type": "scattergl"
           }
          ],
          "scattermapbox": [
           {
            "marker": {
             "colorbar": {
              "outlinewidth": 0,
              "ticks": ""
             }
            },
            "type": "scattermapbox"
           }
          ],
          "scatterpolar": [
           {
            "marker": {
             "colorbar": {
              "outlinewidth": 0,
              "ticks": ""
             }
            },
            "type": "scatterpolar"
           }
          ],
          "scatterpolargl": [
           {
            "marker": {
             "colorbar": {
              "outlinewidth": 0,
              "ticks": ""
             }
            },
            "type": "scatterpolargl"
           }
          ],
          "scatterternary": [
           {
            "marker": {
             "colorbar": {
              "outlinewidth": 0,
              "ticks": ""
             }
            },
            "type": "scatterternary"
           }
          ],
          "surface": [
           {
            "colorbar": {
             "outlinewidth": 0,
             "ticks": ""
            },
            "colorscale": [
             [
              0,
              "#0d0887"
             ],
             [
              0.1111111111111111,
              "#46039f"
             ],
             [
              0.2222222222222222,
              "#7201a8"
             ],
             [
              0.3333333333333333,
              "#9c179e"
             ],
             [
              0.4444444444444444,
              "#bd3786"
             ],
             [
              0.5555555555555556,
              "#d8576b"
             ],
             [
              0.6666666666666666,
              "#ed7953"
             ],
             [
              0.7777777777777778,
              "#fb9f3a"
             ],
             [
              0.8888888888888888,
              "#fdca26"
             ],
             [
              1,
              "#f0f921"
             ]
            ],
            "type": "surface"
           }
          ],
          "table": [
           {
            "cells": {
             "fill": {
              "color": "#EBF0F8"
             },
             "line": {
              "color": "white"
             }
            },
            "header": {
             "fill": {
              "color": "#C8D4E3"
             },
             "line": {
              "color": "white"
             }
            },
            "type": "table"
           }
          ]
         },
         "layout": {
          "annotationdefaults": {
           "arrowcolor": "#2a3f5f",
           "arrowhead": 0,
           "arrowwidth": 1
          },
          "autotypenumbers": "strict",
          "coloraxis": {
           "colorbar": {
            "outlinewidth": 0,
            "ticks": ""
           }
          },
          "colorscale": {
           "diverging": [
            [
             0,
             "#8e0152"
            ],
            [
             0.1,
             "#c51b7d"
            ],
            [
             0.2,
             "#de77ae"
            ],
            [
             0.3,
             "#f1b6da"
            ],
            [
             0.4,
             "#fde0ef"
            ],
            [
             0.5,
             "#f7f7f7"
            ],
            [
             0.6,
             "#e6f5d0"
            ],
            [
             0.7,
             "#b8e186"
            ],
            [
             0.8,
             "#7fbc41"
            ],
            [
             0.9,
             "#4d9221"
            ],
            [
             1,
             "#276419"
            ]
           ],
           "sequential": [
            [
             0,
             "#0d0887"
            ],
            [
             0.1111111111111111,
             "#46039f"
            ],
            [
             0.2222222222222222,
             "#7201a8"
            ],
            [
             0.3333333333333333,
             "#9c179e"
            ],
            [
             0.4444444444444444,
             "#bd3786"
            ],
            [
             0.5555555555555556,
             "#d8576b"
            ],
            [
             0.6666666666666666,
             "#ed7953"
            ],
            [
             0.7777777777777778,
             "#fb9f3a"
            ],
            [
             0.8888888888888888,
             "#fdca26"
            ],
            [
             1,
             "#f0f921"
            ]
           ],
           "sequentialminus": [
            [
             0,
             "#0d0887"
            ],
            [
             0.1111111111111111,
             "#46039f"
            ],
            [
             0.2222222222222222,
             "#7201a8"
            ],
            [
             0.3333333333333333,
             "#9c179e"
            ],
            [
             0.4444444444444444,
             "#bd3786"
            ],
            [
             0.5555555555555556,
             "#d8576b"
            ],
            [
             0.6666666666666666,
             "#ed7953"
            ],
            [
             0.7777777777777778,
             "#fb9f3a"
            ],
            [
             0.8888888888888888,
             "#fdca26"
            ],
            [
             1,
             "#f0f921"
            ]
           ]
          },
          "colorway": [
           "#636efa",
           "#EF553B",
           "#00cc96",
           "#ab63fa",
           "#FFA15A",
           "#19d3f3",
           "#FF6692",
           "#B6E880",
           "#FF97FF",
           "#FECB52"
          ],
          "font": {
           "color": "#2a3f5f"
          },
          "geo": {
           "bgcolor": "white",
           "lakecolor": "white",
           "landcolor": "#E5ECF6",
           "showlakes": true,
           "showland": true,
           "subunitcolor": "white"
          },
          "hoverlabel": {
           "align": "left"
          },
          "hovermode": "closest",
          "mapbox": {
           "style": "light"
          },
          "paper_bgcolor": "white",
          "plot_bgcolor": "#E5ECF6",
          "polar": {
           "angularaxis": {
            "gridcolor": "white",
            "linecolor": "white",
            "ticks": ""
           },
           "bgcolor": "#E5ECF6",
           "radialaxis": {
            "gridcolor": "white",
            "linecolor": "white",
            "ticks": ""
           }
          },
          "scene": {
           "xaxis": {
            "backgroundcolor": "#E5ECF6",
            "gridcolor": "white",
            "gridwidth": 2,
            "linecolor": "white",
            "showbackground": true,
            "ticks": "",
            "zerolinecolor": "white"
           },
           "yaxis": {
            "backgroundcolor": "#E5ECF6",
            "gridcolor": "white",
            "gridwidth": 2,
            "linecolor": "white",
            "showbackground": true,
            "ticks": "",
            "zerolinecolor": "white"
           },
           "zaxis": {
            "backgroundcolor": "#E5ECF6",
            "gridcolor": "white",
            "gridwidth": 2,
            "linecolor": "white",
            "showbackground": true,
            "ticks": "",
            "zerolinecolor": "white"
           }
          },
          "shapedefaults": {
           "line": {
            "color": "#2a3f5f"
           }
          },
          "ternary": {
           "aaxis": {
            "gridcolor": "white",
            "linecolor": "white",
            "ticks": ""
           },
           "baxis": {
            "gridcolor": "white",
            "linecolor": "white",
            "ticks": ""
           },
           "bgcolor": "#E5ECF6",
           "caxis": {
            "gridcolor": "white",
            "linecolor": "white",
            "ticks": ""
           }
          },
          "title": {
           "x": 0.05
          },
          "xaxis": {
           "automargin": true,
           "gridcolor": "white",
           "linecolor": "white",
           "ticks": "",
           "title": {
            "standoff": 15
           },
           "zerolinecolor": "white",
           "zerolinewidth": 2
          },
          "yaxis": {
           "automargin": true,
           "gridcolor": "white",
           "linecolor": "white",
           "ticks": "",
           "title": {
            "standoff": 15
           },
           "zerolinecolor": "white",
           "zerolinewidth": 2
          }
         }
        },
        "title": {
         "font": {
          "color": "#5bc0de",
          "family": "Arial, sans-serif",
          "size": 24
         },
         "text": "<b>Average Earning By Region</b>"
        },
        "width": 600,
        "xaxis": {
         "anchor": "y",
         "domain": [
          0,
          1
         ],
         "title": {
          "text": "earning"
         }
        },
        "yaxis": {
         "anchor": "x",
         "domain": [
          0,
          1
         ],
         "title": {}
        }
       }
      }
     },
     "metadata": {},
     "output_type": "display_data"
    }
   ],
   "source": [
    "fig = px.bar(rgn_earning, y = 'region', x = 'earning', )\n",
    "#fig.update_yaxes(visible=False) # #showticklabels=False\n",
    "fig.update_layout(\n",
    "    title=\"<b>Average Earning By Region</b>\", \n",
    "    width=600, height = 400, yaxis_title=None,\n",
    "    titlefont_size =24, titlefont_color='#5bc0de', titlefont_family='Arial, sans-serif')\n",
    "fig.show()\n"
   ]
  },
  {
   "cell_type": "markdown",
   "metadata": {},
   "source": [
    "**Plotly Colors and Template**"
   ]
  },
  {
   "cell_type": "markdown",
   "metadata": {},
   "source": [
    "[\"plotly\", \"plotly_white\", \"plotly_dark\", \"ggplot2\", \"seaborn\", \"simple_white\", \"none\"]"
   ]
  },
  {
   "cell_type": "code",
   "execution_count": 195,
   "metadata": {},
   "outputs": [],
   "source": [
    "#color_continuous_scale=px.colors.sequential.Viridis\n",
    "#fig = px.colors.qualitative.swatches()\n",
    "#fig.show()"
   ]
  },
  {
   "cell_type": "code",
   "execution_count": 205,
   "metadata": {},
   "outputs": [
    {
     "data": {
      "application/vnd.plotly.v1+json": {
       "config": {
        "plotlyServerURL": "https://plot.ly"
       },
       "data": [
        {
         "alignmentgroup": "True",
         "hovertemplate": "jobcat=%{x}<br>pop2011=%{y}<extra></extra>",
         "legendgroup": "Working",
         "marker": {
          "color": "#3366CC",
          "pattern": {
           "shape": ""
          }
         },
         "name": "Working",
         "offsetgroup": "Working",
         "orientation": "v",
         "showlegend": true,
         "textposition": "auto",
         "type": "bar",
         "x": [
          "Working"
         ],
         "xaxis": "x",
         "y": [
          52138.14410480349
         ],
         "yaxis": "y"
        },
        {
         "alignmentgroup": "True",
         "hovertemplate": "jobcat=%{x}<br>pop2011=%{y}<extra></extra>",
         "legendgroup": "Mixed",
         "marker": {
          "color": "#DC3912",
          "pattern": {
           "shape": ""
          }
         },
         "name": "Mixed",
         "offsetgroup": "Mixed",
         "orientation": "v",
         "showlegend": true,
         "textposition": "auto",
         "type": "bar",
         "x": [
          "Mixed"
         ],
         "xaxis": "x",
         "y": [
          30596.76056338028
         ],
         "yaxis": "y"
        },
        {
         "alignmentgroup": "True",
         "hovertemplate": "jobcat=%{x}<br>pop2011=%{y}<extra></extra>",
         "legendgroup": "Residential",
         "marker": {
          "color": "#FF9900",
          "pattern": {
           "shape": ""
          }
         },
         "name": "Residential",
         "offsetgroup": "Residential",
         "orientation": "v",
         "showlegend": true,
         "textposition": "auto",
         "type": "bar",
         "x": [
          "Residential"
         ],
         "xaxis": "x",
         "y": [
          15234.211442786069
         ],
         "yaxis": "y"
        }
       ],
       "layout": {
        "barmode": "relative",
        "height": 400,
        "legend": {
         "title": {
          "text": "jobcat"
         },
         "tracegroupgap": 0
        },
        "margin": {
         "t": 60
        },
        "showlegend": false,
        "template": {
         "data": {
          "bar": [
           {
            "error_x": {
             "color": "#f2f5fa"
            },
            "error_y": {
             "color": "#f2f5fa"
            },
            "marker": {
             "line": {
              "color": "rgb(17,17,17)",
              "width": 0.5
             },
             "pattern": {
              "fillmode": "overlay",
              "size": 10,
              "solidity": 0.2
             }
            },
            "type": "bar"
           }
          ],
          "barpolar": [
           {
            "marker": {
             "line": {
              "color": "rgb(17,17,17)",
              "width": 0.5
             },
             "pattern": {
              "fillmode": "overlay",
              "size": 10,
              "solidity": 0.2
             }
            },
            "type": "barpolar"
           }
          ],
          "carpet": [
           {
            "aaxis": {
             "endlinecolor": "#A2B1C6",
             "gridcolor": "#506784",
             "linecolor": "#506784",
             "minorgridcolor": "#506784",
             "startlinecolor": "#A2B1C6"
            },
            "baxis": {
             "endlinecolor": "#A2B1C6",
             "gridcolor": "#506784",
             "linecolor": "#506784",
             "minorgridcolor": "#506784",
             "startlinecolor": "#A2B1C6"
            },
            "type": "carpet"
           }
          ],
          "choropleth": [
           {
            "colorbar": {
             "outlinewidth": 0,
             "ticks": ""
            },
            "type": "choropleth"
           }
          ],
          "contour": [
           {
            "colorbar": {
             "outlinewidth": 0,
             "ticks": ""
            },
            "colorscale": [
             [
              0,
              "#0d0887"
             ],
             [
              0.1111111111111111,
              "#46039f"
             ],
             [
              0.2222222222222222,
              "#7201a8"
             ],
             [
              0.3333333333333333,
              "#9c179e"
             ],
             [
              0.4444444444444444,
              "#bd3786"
             ],
             [
              0.5555555555555556,
              "#d8576b"
             ],
             [
              0.6666666666666666,
              "#ed7953"
             ],
             [
              0.7777777777777778,
              "#fb9f3a"
             ],
             [
              0.8888888888888888,
              "#fdca26"
             ],
             [
              1,
              "#f0f921"
             ]
            ],
            "type": "contour"
           }
          ],
          "contourcarpet": [
           {
            "colorbar": {
             "outlinewidth": 0,
             "ticks": ""
            },
            "type": "contourcarpet"
           }
          ],
          "heatmap": [
           {
            "colorbar": {
             "outlinewidth": 0,
             "ticks": ""
            },
            "colorscale": [
             [
              0,
              "#0d0887"
             ],
             [
              0.1111111111111111,
              "#46039f"
             ],
             [
              0.2222222222222222,
              "#7201a8"
             ],
             [
              0.3333333333333333,
              "#9c179e"
             ],
             [
              0.4444444444444444,
              "#bd3786"
             ],
             [
              0.5555555555555556,
              "#d8576b"
             ],
             [
              0.6666666666666666,
              "#ed7953"
             ],
             [
              0.7777777777777778,
              "#fb9f3a"
             ],
             [
              0.8888888888888888,
              "#fdca26"
             ],
             [
              1,
              "#f0f921"
             ]
            ],
            "type": "heatmap"
           }
          ],
          "heatmapgl": [
           {
            "colorbar": {
             "outlinewidth": 0,
             "ticks": ""
            },
            "colorscale": [
             [
              0,
              "#0d0887"
             ],
             [
              0.1111111111111111,
              "#46039f"
             ],
             [
              0.2222222222222222,
              "#7201a8"
             ],
             [
              0.3333333333333333,
              "#9c179e"
             ],
             [
              0.4444444444444444,
              "#bd3786"
             ],
             [
              0.5555555555555556,
              "#d8576b"
             ],
             [
              0.6666666666666666,
              "#ed7953"
             ],
             [
              0.7777777777777778,
              "#fb9f3a"
             ],
             [
              0.8888888888888888,
              "#fdca26"
             ],
             [
              1,
              "#f0f921"
             ]
            ],
            "type": "heatmapgl"
           }
          ],
          "histogram": [
           {
            "marker": {
             "pattern": {
              "fillmode": "overlay",
              "size": 10,
              "solidity": 0.2
             }
            },
            "type": "histogram"
           }
          ],
          "histogram2d": [
           {
            "colorbar": {
             "outlinewidth": 0,
             "ticks": ""
            },
            "colorscale": [
             [
              0,
              "#0d0887"
             ],
             [
              0.1111111111111111,
              "#46039f"
             ],
             [
              0.2222222222222222,
              "#7201a8"
             ],
             [
              0.3333333333333333,
              "#9c179e"
             ],
             [
              0.4444444444444444,
              "#bd3786"
             ],
             [
              0.5555555555555556,
              "#d8576b"
             ],
             [
              0.6666666666666666,
              "#ed7953"
             ],
             [
              0.7777777777777778,
              "#fb9f3a"
             ],
             [
              0.8888888888888888,
              "#fdca26"
             ],
             [
              1,
              "#f0f921"
             ]
            ],
            "type": "histogram2d"
           }
          ],
          "histogram2dcontour": [
           {
            "colorbar": {
             "outlinewidth": 0,
             "ticks": ""
            },
            "colorscale": [
             [
              0,
              "#0d0887"
             ],
             [
              0.1111111111111111,
              "#46039f"
             ],
             [
              0.2222222222222222,
              "#7201a8"
             ],
             [
              0.3333333333333333,
              "#9c179e"
             ],
             [
              0.4444444444444444,
              "#bd3786"
             ],
             [
              0.5555555555555556,
              "#d8576b"
             ],
             [
              0.6666666666666666,
              "#ed7953"
             ],
             [
              0.7777777777777778,
              "#fb9f3a"
             ],
             [
              0.8888888888888888,
              "#fdca26"
             ],
             [
              1,
              "#f0f921"
             ]
            ],
            "type": "histogram2dcontour"
           }
          ],
          "mesh3d": [
           {
            "colorbar": {
             "outlinewidth": 0,
             "ticks": ""
            },
            "type": "mesh3d"
           }
          ],
          "parcoords": [
           {
            "line": {
             "colorbar": {
              "outlinewidth": 0,
              "ticks": ""
             }
            },
            "type": "parcoords"
           }
          ],
          "pie": [
           {
            "automargin": true,
            "type": "pie"
           }
          ],
          "scatter": [
           {
            "marker": {
             "line": {
              "color": "#283442"
             }
            },
            "type": "scatter"
           }
          ],
          "scatter3d": [
           {
            "line": {
             "colorbar": {
              "outlinewidth": 0,
              "ticks": ""
             }
            },
            "marker": {
             "colorbar": {
              "outlinewidth": 0,
              "ticks": ""
             }
            },
            "type": "scatter3d"
           }
          ],
          "scattercarpet": [
           {
            "marker": {
             "colorbar": {
              "outlinewidth": 0,
              "ticks": ""
             }
            },
            "type": "scattercarpet"
           }
          ],
          "scattergeo": [
           {
            "marker": {
             "colorbar": {
              "outlinewidth": 0,
              "ticks": ""
             }
            },
            "type": "scattergeo"
           }
          ],
          "scattergl": [
           {
            "marker": {
             "line": {
              "color": "#283442"
             }
            },
            "type": "scattergl"
           }
          ],
          "scattermapbox": [
           {
            "marker": {
             "colorbar": {
              "outlinewidth": 0,
              "ticks": ""
             }
            },
            "type": "scattermapbox"
           }
          ],
          "scatterpolar": [
           {
            "marker": {
             "colorbar": {
              "outlinewidth": 0,
              "ticks": ""
             }
            },
            "type": "scatterpolar"
           }
          ],
          "scatterpolargl": [
           {
            "marker": {
             "colorbar": {
              "outlinewidth": 0,
              "ticks": ""
             }
            },
            "type": "scatterpolargl"
           }
          ],
          "scatterternary": [
           {
            "marker": {
             "colorbar": {
              "outlinewidth": 0,
              "ticks": ""
             }
            },
            "type": "scatterternary"
           }
          ],
          "surface": [
           {
            "colorbar": {
             "outlinewidth": 0,
             "ticks": ""
            },
            "colorscale": [
             [
              0,
              "#0d0887"
             ],
             [
              0.1111111111111111,
              "#46039f"
             ],
             [
              0.2222222222222222,
              "#7201a8"
             ],
             [
              0.3333333333333333,
              "#9c179e"
             ],
             [
              0.4444444444444444,
              "#bd3786"
             ],
             [
              0.5555555555555556,
              "#d8576b"
             ],
             [
              0.6666666666666666,
              "#ed7953"
             ],
             [
              0.7777777777777778,
              "#fb9f3a"
             ],
             [
              0.8888888888888888,
              "#fdca26"
             ],
             [
              1,
              "#f0f921"
             ]
            ],
            "type": "surface"
           }
          ],
          "table": [
           {
            "cells": {
             "fill": {
              "color": "#506784"
             },
             "line": {
              "color": "rgb(17,17,17)"
             }
            },
            "header": {
             "fill": {
              "color": "#2a3f5f"
             },
             "line": {
              "color": "rgb(17,17,17)"
             }
            },
            "type": "table"
           }
          ]
         },
         "layout": {
          "annotationdefaults": {
           "arrowcolor": "#f2f5fa",
           "arrowhead": 0,
           "arrowwidth": 1
          },
          "autotypenumbers": "strict",
          "coloraxis": {
           "colorbar": {
            "outlinewidth": 0,
            "ticks": ""
           }
          },
          "colorscale": {
           "diverging": [
            [
             0,
             "#8e0152"
            ],
            [
             0.1,
             "#c51b7d"
            ],
            [
             0.2,
             "#de77ae"
            ],
            [
             0.3,
             "#f1b6da"
            ],
            [
             0.4,
             "#fde0ef"
            ],
            [
             0.5,
             "#f7f7f7"
            ],
            [
             0.6,
             "#e6f5d0"
            ],
            [
             0.7,
             "#b8e186"
            ],
            [
             0.8,
             "#7fbc41"
            ],
            [
             0.9,
             "#4d9221"
            ],
            [
             1,
             "#276419"
            ]
           ],
           "sequential": [
            [
             0,
             "#0d0887"
            ],
            [
             0.1111111111111111,
             "#46039f"
            ],
            [
             0.2222222222222222,
             "#7201a8"
            ],
            [
             0.3333333333333333,
             "#9c179e"
            ],
            [
             0.4444444444444444,
             "#bd3786"
            ],
            [
             0.5555555555555556,
             "#d8576b"
            ],
            [
             0.6666666666666666,
             "#ed7953"
            ],
            [
             0.7777777777777778,
             "#fb9f3a"
            ],
            [
             0.8888888888888888,
             "#fdca26"
            ],
            [
             1,
             "#f0f921"
            ]
           ],
           "sequentialminus": [
            [
             0,
             "#0d0887"
            ],
            [
             0.1111111111111111,
             "#46039f"
            ],
            [
             0.2222222222222222,
             "#7201a8"
            ],
            [
             0.3333333333333333,
             "#9c179e"
            ],
            [
             0.4444444444444444,
             "#bd3786"
            ],
            [
             0.5555555555555556,
             "#d8576b"
            ],
            [
             0.6666666666666666,
             "#ed7953"
            ],
            [
             0.7777777777777778,
             "#fb9f3a"
            ],
            [
             0.8888888888888888,
             "#fdca26"
            ],
            [
             1,
             "#f0f921"
            ]
           ]
          },
          "colorway": [
           "#636efa",
           "#EF553B",
           "#00cc96",
           "#ab63fa",
           "#FFA15A",
           "#19d3f3",
           "#FF6692",
           "#B6E880",
           "#FF97FF",
           "#FECB52"
          ],
          "font": {
           "color": "#f2f5fa"
          },
          "geo": {
           "bgcolor": "rgb(17,17,17)",
           "lakecolor": "rgb(17,17,17)",
           "landcolor": "rgb(17,17,17)",
           "showlakes": true,
           "showland": true,
           "subunitcolor": "#506784"
          },
          "hoverlabel": {
           "align": "left"
          },
          "hovermode": "closest",
          "mapbox": {
           "style": "dark"
          },
          "paper_bgcolor": "rgb(17,17,17)",
          "plot_bgcolor": "rgb(17,17,17)",
          "polar": {
           "angularaxis": {
            "gridcolor": "#506784",
            "linecolor": "#506784",
            "ticks": ""
           },
           "bgcolor": "rgb(17,17,17)",
           "radialaxis": {
            "gridcolor": "#506784",
            "linecolor": "#506784",
            "ticks": ""
           }
          },
          "scene": {
           "xaxis": {
            "backgroundcolor": "rgb(17,17,17)",
            "gridcolor": "#506784",
            "gridwidth": 2,
            "linecolor": "#506784",
            "showbackground": true,
            "ticks": "",
            "zerolinecolor": "#C8D4E3"
           },
           "yaxis": {
            "backgroundcolor": "rgb(17,17,17)",
            "gridcolor": "#506784",
            "gridwidth": 2,
            "linecolor": "#506784",
            "showbackground": true,
            "ticks": "",
            "zerolinecolor": "#C8D4E3"
           },
           "zaxis": {
            "backgroundcolor": "rgb(17,17,17)",
            "gridcolor": "#506784",
            "gridwidth": 2,
            "linecolor": "#506784",
            "showbackground": true,
            "ticks": "",
            "zerolinecolor": "#C8D4E3"
           }
          },
          "shapedefaults": {
           "line": {
            "color": "#f2f5fa"
           }
          },
          "sliderdefaults": {
           "bgcolor": "#C8D4E3",
           "bordercolor": "rgb(17,17,17)",
           "borderwidth": 1,
           "tickwidth": 0
          },
          "ternary": {
           "aaxis": {
            "gridcolor": "#506784",
            "linecolor": "#506784",
            "ticks": ""
           },
           "baxis": {
            "gridcolor": "#506784",
            "linecolor": "#506784",
            "ticks": ""
           },
           "bgcolor": "rgb(17,17,17)",
           "caxis": {
            "gridcolor": "#506784",
            "linecolor": "#506784",
            "ticks": ""
           }
          },
          "title": {
           "x": 0.05
          },
          "updatemenudefaults": {
           "bgcolor": "#506784",
           "borderwidth": 0
          },
          "xaxis": {
           "automargin": true,
           "gridcolor": "#283442",
           "linecolor": "#506784",
           "ticks": "",
           "title": {
            "standoff": 15
           },
           "zerolinecolor": "#283442",
           "zerolinewidth": 2
          },
          "yaxis": {
           "automargin": true,
           "gridcolor": "#283442",
           "linecolor": "#506784",
           "ticks": "",
           "title": {
            "standoff": 15
           },
           "zerolinecolor": "#283442",
           "zerolinewidth": 2
          }
         }
        },
        "title": {
         "font": {
          "color": "#5bc0de",
          "family": "Arial",
          "size": 20
         },
         "text": "<b>Average Pop By Town Type</b>"
        },
        "width": 600,
        "xaxis": {
         "anchor": "y",
         "categoryarray": [
          "Working",
          "Mixed",
          "Residential"
         ],
         "categoryorder": "array",
         "domain": [
          0,
          1
         ],
         "title": {}
        },
        "yaxis": {
         "anchor": "x",
         "domain": [
          0,
          1
         ],
         "title": {
          "text": "Average  Pop"
         }
        }
       }
      }
     },
     "metadata": {},
     "output_type": "display_data"
    }
   ],
   "source": [
    "fig = px.bar(\n",
    "    avg_pop, x = 'jobcat', y = 'pop2011', color = 'jobcat', \n",
    "     color_discrete_sequence=px.colors.qualitative.G10,\n",
    "     template= 'plotly_dark')\n",
    "fig.update_layout(\n",
    "    title=\"<b>Average Pop By Town Type</b>\", \n",
    "    showlegend=False,\n",
    "    width=600, height = 400, xaxis_title=None, yaxis_title='Average  Pop',\n",
    "    titlefont_size =20, titlefont_color='#5bc0de', titlefont_family='Arial')\n",
    "fig.show()"
   ]
  },
  {
   "cell_type": "code",
   "execution_count": 203,
   "metadata": {},
   "outputs": [
    {
     "data": {
      "application/vnd.plotly.v1+json": {
       "config": {
        "plotlyServerURL": "https://plot.ly"
       },
       "data": [
        {
         "alignmentgroup": "True",
         "hovertemplate": "Town Types=%{x}<br>Avg Pop=%{y}<extra></extra>",
         "legendgroup": "Working",
         "marker": {
          "color": "#3366CC",
          "pattern": {
           "shape": ""
          }
         },
         "name": "Working",
         "offsetgroup": "Working",
         "orientation": "v",
         "showlegend": true,
         "textposition": "auto",
         "type": "bar",
         "x": [
          "Working"
         ],
         "xaxis": "x",
         "y": [
          52138.14410480349
         ],
         "yaxis": "y"
        },
        {
         "alignmentgroup": "True",
         "hovertemplate": "Town Types=%{x}<br>Avg Pop=%{y}<extra></extra>",
         "legendgroup": "Mixed",
         "marker": {
          "color": "#DC3912",
          "pattern": {
           "shape": ""
          }
         },
         "name": "Mixed",
         "offsetgroup": "Mixed",
         "orientation": "v",
         "showlegend": true,
         "textposition": "auto",
         "type": "bar",
         "x": [
          "Mixed"
         ],
         "xaxis": "x",
         "y": [
          30596.76056338028
         ],
         "yaxis": "y"
        },
        {
         "alignmentgroup": "True",
         "hovertemplate": "Town Types=%{x}<br>Avg Pop=%{y}<extra></extra>",
         "legendgroup": "Residential",
         "marker": {
          "color": "#FF9900",
          "pattern": {
           "shape": ""
          }
         },
         "name": "Residential",
         "offsetgroup": "Residential",
         "orientation": "v",
         "showlegend": true,
         "textposition": "auto",
         "type": "bar",
         "x": [
          "Residential"
         ],
         "xaxis": "x",
         "y": [
          15234.211442786069
         ],
         "yaxis": "y"
        }
       ],
       "layout": {
        "barmode": "relative",
        "height": 400,
        "legend": {
         "title": {
          "text": "Town Types"
         },
         "tracegroupgap": 0
        },
        "margin": {
         "t": 60
        },
        "template": {
         "data": {
          "bar": [
           {
            "error_x": {
             "color": "#2a3f5f"
            },
            "error_y": {
             "color": "#2a3f5f"
            },
            "marker": {
             "line": {
              "color": "white",
              "width": 0.5
             },
             "pattern": {
              "fillmode": "overlay",
              "size": 10,
              "solidity": 0.2
             }
            },
            "type": "bar"
           }
          ],
          "barpolar": [
           {
            "marker": {
             "line": {
              "color": "white",
              "width": 0.5
             },
             "pattern": {
              "fillmode": "overlay",
              "size": 10,
              "solidity": 0.2
             }
            },
            "type": "barpolar"
           }
          ],
          "carpet": [
           {
            "aaxis": {
             "endlinecolor": "#2a3f5f",
             "gridcolor": "#C8D4E3",
             "linecolor": "#C8D4E3",
             "minorgridcolor": "#C8D4E3",
             "startlinecolor": "#2a3f5f"
            },
            "baxis": {
             "endlinecolor": "#2a3f5f",
             "gridcolor": "#C8D4E3",
             "linecolor": "#C8D4E3",
             "minorgridcolor": "#C8D4E3",
             "startlinecolor": "#2a3f5f"
            },
            "type": "carpet"
           }
          ],
          "choropleth": [
           {
            "colorbar": {
             "outlinewidth": 0,
             "ticks": ""
            },
            "type": "choropleth"
           }
          ],
          "contour": [
           {
            "colorbar": {
             "outlinewidth": 0,
             "ticks": ""
            },
            "colorscale": [
             [
              0,
              "#0d0887"
             ],
             [
              0.1111111111111111,
              "#46039f"
             ],
             [
              0.2222222222222222,
              "#7201a8"
             ],
             [
              0.3333333333333333,
              "#9c179e"
             ],
             [
              0.4444444444444444,
              "#bd3786"
             ],
             [
              0.5555555555555556,
              "#d8576b"
             ],
             [
              0.6666666666666666,
              "#ed7953"
             ],
             [
              0.7777777777777778,
              "#fb9f3a"
             ],
             [
              0.8888888888888888,
              "#fdca26"
             ],
             [
              1,
              "#f0f921"
             ]
            ],
            "type": "contour"
           }
          ],
          "contourcarpet": [
           {
            "colorbar": {
             "outlinewidth": 0,
             "ticks": ""
            },
            "type": "contourcarpet"
           }
          ],
          "heatmap": [
           {
            "colorbar": {
             "outlinewidth": 0,
             "ticks": ""
            },
            "colorscale": [
             [
              0,
              "#0d0887"
             ],
             [
              0.1111111111111111,
              "#46039f"
             ],
             [
              0.2222222222222222,
              "#7201a8"
             ],
             [
              0.3333333333333333,
              "#9c179e"
             ],
             [
              0.4444444444444444,
              "#bd3786"
             ],
             [
              0.5555555555555556,
              "#d8576b"
             ],
             [
              0.6666666666666666,
              "#ed7953"
             ],
             [
              0.7777777777777778,
              "#fb9f3a"
             ],
             [
              0.8888888888888888,
              "#fdca26"
             ],
             [
              1,
              "#f0f921"
             ]
            ],
            "type": "heatmap"
           }
          ],
          "heatmapgl": [
           {
            "colorbar": {
             "outlinewidth": 0,
             "ticks": ""
            },
            "colorscale": [
             [
              0,
              "#0d0887"
             ],
             [
              0.1111111111111111,
              "#46039f"
             ],
             [
              0.2222222222222222,
              "#7201a8"
             ],
             [
              0.3333333333333333,
              "#9c179e"
             ],
             [
              0.4444444444444444,
              "#bd3786"
             ],
             [
              0.5555555555555556,
              "#d8576b"
             ],
             [
              0.6666666666666666,
              "#ed7953"
             ],
             [
              0.7777777777777778,
              "#fb9f3a"
             ],
             [
              0.8888888888888888,
              "#fdca26"
             ],
             [
              1,
              "#f0f921"
             ]
            ],
            "type": "heatmapgl"
           }
          ],
          "histogram": [
           {
            "marker": {
             "pattern": {
              "fillmode": "overlay",
              "size": 10,
              "solidity": 0.2
             }
            },
            "type": "histogram"
           }
          ],
          "histogram2d": [
           {
            "colorbar": {
             "outlinewidth": 0,
             "ticks": ""
            },
            "colorscale": [
             [
              0,
              "#0d0887"
             ],
             [
              0.1111111111111111,
              "#46039f"
             ],
             [
              0.2222222222222222,
              "#7201a8"
             ],
             [
              0.3333333333333333,
              "#9c179e"
             ],
             [
              0.4444444444444444,
              "#bd3786"
             ],
             [
              0.5555555555555556,
              "#d8576b"
             ],
             [
              0.6666666666666666,
              "#ed7953"
             ],
             [
              0.7777777777777778,
              "#fb9f3a"
             ],
             [
              0.8888888888888888,
              "#fdca26"
             ],
             [
              1,
              "#f0f921"
             ]
            ],
            "type": "histogram2d"
           }
          ],
          "histogram2dcontour": [
           {
            "colorbar": {
             "outlinewidth": 0,
             "ticks": ""
            },
            "colorscale": [
             [
              0,
              "#0d0887"
             ],
             [
              0.1111111111111111,
              "#46039f"
             ],
             [
              0.2222222222222222,
              "#7201a8"
             ],
             [
              0.3333333333333333,
              "#9c179e"
             ],
             [
              0.4444444444444444,
              "#bd3786"
             ],
             [
              0.5555555555555556,
              "#d8576b"
             ],
             [
              0.6666666666666666,
              "#ed7953"
             ],
             [
              0.7777777777777778,
              "#fb9f3a"
             ],
             [
              0.8888888888888888,
              "#fdca26"
             ],
             [
              1,
              "#f0f921"
             ]
            ],
            "type": "histogram2dcontour"
           }
          ],
          "mesh3d": [
           {
            "colorbar": {
             "outlinewidth": 0,
             "ticks": ""
            },
            "type": "mesh3d"
           }
          ],
          "parcoords": [
           {
            "line": {
             "colorbar": {
              "outlinewidth": 0,
              "ticks": ""
             }
            },
            "type": "parcoords"
           }
          ],
          "pie": [
           {
            "automargin": true,
            "type": "pie"
           }
          ],
          "scatter": [
           {
            "fillpattern": {
             "fillmode": "overlay",
             "size": 10,
             "solidity": 0.2
            },
            "type": "scatter"
           }
          ],
          "scatter3d": [
           {
            "line": {
             "colorbar": {
              "outlinewidth": 0,
              "ticks": ""
             }
            },
            "marker": {
             "colorbar": {
              "outlinewidth": 0,
              "ticks": ""
             }
            },
            "type": "scatter3d"
           }
          ],
          "scattercarpet": [
           {
            "marker": {
             "colorbar": {
              "outlinewidth": 0,
              "ticks": ""
             }
            },
            "type": "scattercarpet"
           }
          ],
          "scattergeo": [
           {
            "marker": {
             "colorbar": {
              "outlinewidth": 0,
              "ticks": ""
             }
            },
            "type": "scattergeo"
           }
          ],
          "scattergl": [
           {
            "marker": {
             "colorbar": {
              "outlinewidth": 0,
              "ticks": ""
             }
            },
            "type": "scattergl"
           }
          ],
          "scattermapbox": [
           {
            "marker": {
             "colorbar": {
              "outlinewidth": 0,
              "ticks": ""
             }
            },
            "type": "scattermapbox"
           }
          ],
          "scatterpolar": [
           {
            "marker": {
             "colorbar": {
              "outlinewidth": 0,
              "ticks": ""
             }
            },
            "type": "scatterpolar"
           }
          ],
          "scatterpolargl": [
           {
            "marker": {
             "colorbar": {
              "outlinewidth": 0,
              "ticks": ""
             }
            },
            "type": "scatterpolargl"
           }
          ],
          "scatterternary": [
           {
            "marker": {
             "colorbar": {
              "outlinewidth": 0,
              "ticks": ""
             }
            },
            "type": "scatterternary"
           }
          ],
          "surface": [
           {
            "colorbar": {
             "outlinewidth": 0,
             "ticks": ""
            },
            "colorscale": [
             [
              0,
              "#0d0887"
             ],
             [
              0.1111111111111111,
              "#46039f"
             ],
             [
              0.2222222222222222,
              "#7201a8"
             ],
             [
              0.3333333333333333,
              "#9c179e"
             ],
             [
              0.4444444444444444,
              "#bd3786"
             ],
             [
              0.5555555555555556,
              "#d8576b"
             ],
             [
              0.6666666666666666,
              "#ed7953"
             ],
             [
              0.7777777777777778,
              "#fb9f3a"
             ],
             [
              0.8888888888888888,
              "#fdca26"
             ],
             [
              1,
              "#f0f921"
             ]
            ],
            "type": "surface"
           }
          ],
          "table": [
           {
            "cells": {
             "fill": {
              "color": "#EBF0F8"
             },
             "line": {
              "color": "white"
             }
            },
            "header": {
             "fill": {
              "color": "#C8D4E3"
             },
             "line": {
              "color": "white"
             }
            },
            "type": "table"
           }
          ]
         },
         "layout": {
          "annotationdefaults": {
           "arrowcolor": "#2a3f5f",
           "arrowhead": 0,
           "arrowwidth": 1
          },
          "autotypenumbers": "strict",
          "coloraxis": {
           "colorbar": {
            "outlinewidth": 0,
            "ticks": ""
           }
          },
          "colorscale": {
           "diverging": [
            [
             0,
             "#8e0152"
            ],
            [
             0.1,
             "#c51b7d"
            ],
            [
             0.2,
             "#de77ae"
            ],
            [
             0.3,
             "#f1b6da"
            ],
            [
             0.4,
             "#fde0ef"
            ],
            [
             0.5,
             "#f7f7f7"
            ],
            [
             0.6,
             "#e6f5d0"
            ],
            [
             0.7,
             "#b8e186"
            ],
            [
             0.8,
             "#7fbc41"
            ],
            [
             0.9,
             "#4d9221"
            ],
            [
             1,
             "#276419"
            ]
           ],
           "sequential": [
            [
             0,
             "#0d0887"
            ],
            [
             0.1111111111111111,
             "#46039f"
            ],
            [
             0.2222222222222222,
             "#7201a8"
            ],
            [
             0.3333333333333333,
             "#9c179e"
            ],
            [
             0.4444444444444444,
             "#bd3786"
            ],
            [
             0.5555555555555556,
             "#d8576b"
            ],
            [
             0.6666666666666666,
             "#ed7953"
            ],
            [
             0.7777777777777778,
             "#fb9f3a"
            ],
            [
             0.8888888888888888,
             "#fdca26"
            ],
            [
             1,
             "#f0f921"
            ]
           ],
           "sequentialminus": [
            [
             0,
             "#0d0887"
            ],
            [
             0.1111111111111111,
             "#46039f"
            ],
            [
             0.2222222222222222,
             "#7201a8"
            ],
            [
             0.3333333333333333,
             "#9c179e"
            ],
            [
             0.4444444444444444,
             "#bd3786"
            ],
            [
             0.5555555555555556,
             "#d8576b"
            ],
            [
             0.6666666666666666,
             "#ed7953"
            ],
            [
             0.7777777777777778,
             "#fb9f3a"
            ],
            [
             0.8888888888888888,
             "#fdca26"
            ],
            [
             1,
             "#f0f921"
            ]
           ]
          },
          "colorway": [
           "#636efa",
           "#EF553B",
           "#00cc96",
           "#ab63fa",
           "#FFA15A",
           "#19d3f3",
           "#FF6692",
           "#B6E880",
           "#FF97FF",
           "#FECB52"
          ],
          "font": {
           "color": "#2a3f5f"
          },
          "geo": {
           "bgcolor": "white",
           "lakecolor": "white",
           "landcolor": "white",
           "showlakes": true,
           "showland": true,
           "subunitcolor": "#C8D4E3"
          },
          "hoverlabel": {
           "align": "left"
          },
          "hovermode": "closest",
          "mapbox": {
           "style": "light"
          },
          "paper_bgcolor": "white",
          "plot_bgcolor": "white",
          "polar": {
           "angularaxis": {
            "gridcolor": "#EBF0F8",
            "linecolor": "#EBF0F8",
            "ticks": ""
           },
           "bgcolor": "white",
           "radialaxis": {
            "gridcolor": "#EBF0F8",
            "linecolor": "#EBF0F8",
            "ticks": ""
           }
          },
          "scene": {
           "xaxis": {
            "backgroundcolor": "white",
            "gridcolor": "#DFE8F3",
            "gridwidth": 2,
            "linecolor": "#EBF0F8",
            "showbackground": true,
            "ticks": "",
            "zerolinecolor": "#EBF0F8"
           },
           "yaxis": {
            "backgroundcolor": "white",
            "gridcolor": "#DFE8F3",
            "gridwidth": 2,
            "linecolor": "#EBF0F8",
            "showbackground": true,
            "ticks": "",
            "zerolinecolor": "#EBF0F8"
           },
           "zaxis": {
            "backgroundcolor": "white",
            "gridcolor": "#DFE8F3",
            "gridwidth": 2,
            "linecolor": "#EBF0F8",
            "showbackground": true,
            "ticks": "",
            "zerolinecolor": "#EBF0F8"
           }
          },
          "shapedefaults": {
           "line": {
            "color": "#2a3f5f"
           }
          },
          "ternary": {
           "aaxis": {
            "gridcolor": "#DFE8F3",
            "linecolor": "#A2B1C6",
            "ticks": ""
           },
           "baxis": {
            "gridcolor": "#DFE8F3",
            "linecolor": "#A2B1C6",
            "ticks": ""
           },
           "bgcolor": "white",
           "caxis": {
            "gridcolor": "#DFE8F3",
            "linecolor": "#A2B1C6",
            "ticks": ""
           }
          },
          "title": {
           "x": 0.05
          },
          "xaxis": {
           "automargin": true,
           "gridcolor": "#EBF0F8",
           "linecolor": "#EBF0F8",
           "ticks": "",
           "title": {
            "standoff": 15
           },
           "zerolinecolor": "#EBF0F8",
           "zerolinewidth": 2
          },
          "yaxis": {
           "automargin": true,
           "gridcolor": "#EBF0F8",
           "linecolor": "#EBF0F8",
           "ticks": "",
           "title": {
            "standoff": 15
           },
           "zerolinecolor": "#EBF0F8",
           "zerolinewidth": 2
          }
         }
        },
        "title": {
         "font": {
          "color": "#5bc0de",
          "family": "Arial",
          "size": 20
         },
         "text": "<b>Average Pop By Town Type</b>"
        },
        "width": 600,
        "xaxis": {
         "anchor": "y",
         "categoryarray": [
          "Working",
          "Mixed",
          "Residential"
         ],
         "categoryorder": "array",
         "domain": [
          0,
          1
         ],
         "title": {
          "text": "Town Types"
         }
        },
        "yaxis": {
         "anchor": "x",
         "domain": [
          0,
          1
         ],
         "title": {
          "text": "Avg Pop"
         }
        }
       }
      }
     },
     "metadata": {},
     "output_type": "display_data"
    }
   ],
   "source": [
    "fig = px.bar(\n",
    "    avg_pop, x = 'jobcat', y = 'pop2011', color = 'jobcat', \n",
    "     color_discrete_sequence=px.colors.qualitative.G10,\n",
    "     template= 'plotly_white',\n",
    "     labels={\n",
    "                     'jobcat': \"Town Types\",\n",
    "                     'pop2011': \"Avg Pop\"\n",
    "                 })\n",
    "fig.update_layout(\n",
    "    title=\"<b>Average Pop By Town Type</b>\", \n",
    "    width=600, height = 400, \n",
    "    titlefont_size =20, titlefont_color='#5bc0de', titlefont_family='Arial')\n",
    "fig.show()\n"
   ]
  },
  {
   "cell_type": "code",
   "execution_count": null,
   "metadata": {},
   "outputs": [],
   "source": []
  },
  {
   "cell_type": "code",
   "execution_count": 129,
   "metadata": {},
   "outputs": [
    {
     "data": {
      "text/plain": [
       "Index(['code', 'pop2011', 'size', 'region', 'coastal', 'jobcat ', 'income',\n",
       "       'propL4Q', 'score', 'earning'],\n",
       "      dtype='object')"
      ]
     },
     "execution_count": 129,
     "metadata": {},
     "output_type": "execute_result"
    }
   ],
   "source": [
    "dff.columns"
   ]
  },
  {
   "cell_type": "markdown",
   "metadata": {},
   "source": [
    "select(\n",
    "    code = town11nm,\n",
    "    pop = population_2011, \n",
    "    size = size_flag,\n",
    "    region = rgn11nm,\n",
    "    coastal,\n",
    "    jobcat = job_density_flag,\n",
    "    income = income_flag,\n",
    "    resid_3564_q4 = level4qual_residents35_64_2011,\n",
    "    score = education_score,\n",
    "    earning = activity_at_age_19_employment_with_earnings_above_10_000)"
   ]
  },
  {
   "cell_type": "code",
   "execution_count": 72,
   "metadata": {},
   "outputs": [
    {
     "data": {
      "text/html": [
       "<div>\n",
       "<style scoped>\n",
       "    .dataframe tbody tr th:only-of-type {\n",
       "        vertical-align: middle;\n",
       "    }\n",
       "\n",
       "    .dataframe tbody tr th {\n",
       "        vertical-align: top;\n",
       "    }\n",
       "\n",
       "    .dataframe thead th {\n",
       "        text-align: right;\n",
       "    }\n",
       "</style>\n",
       "<table border=\"1\" class=\"dataframe\">\n",
       "  <thead>\n",
       "    <tr style=\"text-align: right;\">\n",
       "      <th></th>\n",
       "      <th>code</th>\n",
       "      <th>pop2011</th>\n",
       "      <th>size</th>\n",
       "      <th>region</th>\n",
       "      <th>coastal</th>\n",
       "      <th>jobcat</th>\n",
       "      <th>income</th>\n",
       "      <th>propL4Q</th>\n",
       "      <th>score</th>\n",
       "      <th>earning</th>\n",
       "    </tr>\n",
       "  </thead>\n",
       "  <tbody>\n",
       "    <tr>\n",
       "      <th>0</th>\n",
       "      <td>Carlton in Lindrick BUA</td>\n",
       "      <td>5456.0</td>\n",
       "      <td>Small Towns</td>\n",
       "      <td>East Midlands</td>\n",
       "      <td>Non-coastal</td>\n",
       "      <td>Residential</td>\n",
       "      <td>Higher deprivation towns</td>\n",
       "      <td>Low</td>\n",
       "      <td>-0.533750</td>\n",
       "      <td>36.923077</td>\n",
       "    </tr>\n",
       "    <tr>\n",
       "      <th>1</th>\n",
       "      <td>Dorchester (West Dorset) BUA</td>\n",
       "      <td>19060.0</td>\n",
       "      <td>Small Towns</td>\n",
       "      <td>South West</td>\n",
       "      <td>Non-coastal</td>\n",
       "      <td>Working</td>\n",
       "      <td>Mid deprivation towns</td>\n",
       "      <td>Medium</td>\n",
       "      <td>1.952019</td>\n",
       "      <td>24.686192</td>\n",
       "    </tr>\n",
       "    <tr>\n",
       "      <th>2</th>\n",
       "      <td>Ely BUA</td>\n",
       "      <td>19090.0</td>\n",
       "      <td>Small Towns</td>\n",
       "      <td>East of England</td>\n",
       "      <td>Non-coastal</td>\n",
       "      <td>Working</td>\n",
       "      <td>Lower deprivation towns</td>\n",
       "      <td>Medium</td>\n",
       "      <td>-1.044128</td>\n",
       "      <td>27.741935</td>\n",
       "    </tr>\n",
       "    <tr>\n",
       "      <th>3</th>\n",
       "      <td>Market Weighton BUA</td>\n",
       "      <td>6429.0</td>\n",
       "      <td>Small Towns</td>\n",
       "      <td>Yorkshire and The Humber</td>\n",
       "      <td>Non-coastal</td>\n",
       "      <td>Residential</td>\n",
       "      <td>Lower deprivation towns</td>\n",
       "      <td>Medium</td>\n",
       "      <td>-1.249262</td>\n",
       "      <td>31.034483</td>\n",
       "    </tr>\n",
       "    <tr>\n",
       "      <th>4</th>\n",
       "      <td>Downham Market BUA</td>\n",
       "      <td>10884.0</td>\n",
       "      <td>Small Towns</td>\n",
       "      <td>East of England</td>\n",
       "      <td>Non-coastal</td>\n",
       "      <td>Mixed</td>\n",
       "      <td>Higher deprivation towns</td>\n",
       "      <td>Low</td>\n",
       "      <td>-1.169078</td>\n",
       "      <td>30.107527</td>\n",
       "    </tr>\n",
       "    <tr>\n",
       "      <th>...</th>\n",
       "      <td>...</td>\n",
       "      <td>...</td>\n",
       "      <td>...</td>\n",
       "      <td>...</td>\n",
       "      <td>...</td>\n",
       "      <td>...</td>\n",
       "      <td>...</td>\n",
       "      <td>...</td>\n",
       "      <td>...</td>\n",
       "      <td>...</td>\n",
       "    </tr>\n",
       "    <tr>\n",
       "      <th>1099</th>\n",
       "      <td>Chester BUASD</td>\n",
       "      <td>86011.0</td>\n",
       "      <td>Large Towns</td>\n",
       "      <td>North West</td>\n",
       "      <td>Non-coastal</td>\n",
       "      <td>Working</td>\n",
       "      <td>Higher deprivation towns</td>\n",
       "      <td>Medium</td>\n",
       "      <td>-0.810935</td>\n",
       "      <td>18.267930</td>\n",
       "    </tr>\n",
       "    <tr>\n",
       "      <th>1100</th>\n",
       "      <td>Inner London BUAs</td>\n",
       "      <td>NaN</td>\n",
       "      <td>Inner London BUA</td>\n",
       "      <td>London</td>\n",
       "      <td>NaN</td>\n",
       "      <td>NaN</td>\n",
       "      <td>NaN</td>\n",
       "      <td>NaN</td>\n",
       "      <td>0.067591</td>\n",
       "      <td>10.117743</td>\n",
       "    </tr>\n",
       "    <tr>\n",
       "      <th>1101</th>\n",
       "      <td>Outer london BUAs</td>\n",
       "      <td>NaN</td>\n",
       "      <td>Outer london BUA</td>\n",
       "      <td>London</td>\n",
       "      <td>NaN</td>\n",
       "      <td>NaN</td>\n",
       "      <td>NaN</td>\n",
       "      <td>NaN</td>\n",
       "      <td>1.262410</td>\n",
       "      <td>15.551530</td>\n",
       "    </tr>\n",
       "    <tr>\n",
       "      <th>1102</th>\n",
       "      <td>Other Small BUAs</td>\n",
       "      <td>NaN</td>\n",
       "      <td>Other Small BUAs</td>\n",
       "      <td>NaN</td>\n",
       "      <td>NaN</td>\n",
       "      <td>NaN</td>\n",
       "      <td>NaN</td>\n",
       "      <td>NaN</td>\n",
       "      <td>1.221877</td>\n",
       "      <td>24.337579</td>\n",
       "    </tr>\n",
       "    <tr>\n",
       "      <th>1103</th>\n",
       "      <td>Not BUA</td>\n",
       "      <td>NaN</td>\n",
       "      <td>Not BUA</td>\n",
       "      <td>NaN</td>\n",
       "      <td>NaN</td>\n",
       "      <td>NaN</td>\n",
       "      <td>NaN</td>\n",
       "      <td>NaN</td>\n",
       "      <td>1.802089</td>\n",
       "      <td>23.069148</td>\n",
       "    </tr>\n",
       "  </tbody>\n",
       "</table>\n",
       "<p>1104 rows × 10 columns</p>\n",
       "</div>"
      ],
      "text/plain": [
       "                              code  pop2011              size  \\\n",
       "0          Carlton in Lindrick BUA   5456.0       Small Towns   \n",
       "1     Dorchester (West Dorset) BUA  19060.0       Small Towns   \n",
       "2                          Ely BUA  19090.0       Small Towns   \n",
       "3              Market Weighton BUA   6429.0       Small Towns   \n",
       "4               Downham Market BUA  10884.0       Small Towns   \n",
       "...                            ...      ...               ...   \n",
       "1099                 Chester BUASD  86011.0       Large Towns   \n",
       "1100             Inner London BUAs      NaN  Inner London BUA   \n",
       "1101             Outer london BUAs      NaN  Outer london BUA   \n",
       "1102              Other Small BUAs      NaN  Other Small BUAs   \n",
       "1103                       Not BUA      NaN           Not BUA   \n",
       "\n",
       "                       region       coastal      jobcat   \\\n",
       "0                East Midlands  Non-coastal  Residential   \n",
       "1                   South West  Non-coastal      Working   \n",
       "2              East of England  Non-coastal      Working   \n",
       "3     Yorkshire and The Humber  Non-coastal  Residential   \n",
       "4              East of England  Non-coastal        Mixed   \n",
       "...                        ...          ...          ...   \n",
       "1099                North West  Non-coastal      Working   \n",
       "1100                    London          NaN          NaN   \n",
       "1101                    London          NaN          NaN   \n",
       "1102                       NaN          NaN          NaN   \n",
       "1103                       NaN          NaN          NaN   \n",
       "\n",
       "                        income propL4Q     score    earning  \n",
       "0     Higher deprivation towns     Low -0.533750  36.923077  \n",
       "1        Mid deprivation towns  Medium  1.952019  24.686192  \n",
       "2      Lower deprivation towns  Medium -1.044128  27.741935  \n",
       "3      Lower deprivation towns  Medium -1.249262  31.034483  \n",
       "4     Higher deprivation towns     Low -1.169078  30.107527  \n",
       "...                        ...     ...       ...        ...  \n",
       "1099  Higher deprivation towns  Medium -0.810935  18.267930  \n",
       "1100                       NaN     NaN  0.067591  10.117743  \n",
       "1101                       NaN     NaN  1.262410  15.551530  \n",
       "1102                       NaN     NaN  1.221877  24.337579  \n",
       "1103                       NaN     NaN  1.802089  23.069148  \n",
       "\n",
       "[1104 rows x 10 columns]"
      ]
     },
     "execution_count": 72,
     "metadata": {},
     "output_type": "execute_result"
    }
   ],
   "source": [
    "dfs"
   ]
  }
 ],
 "metadata": {
  "kernelspec": {
   "display_name": ".pvenv",
   "language": "python",
   "name": "python3"
  },
  "language_info": {
   "codemirror_mode": {
    "name": "ipython",
    "version": 3
   },
   "file_extension": ".py",
   "mimetype": "text/x-python",
   "name": "python",
   "nbconvert_exporter": "python",
   "pygments_lexer": "ipython3",
   "version": "3.11.4"
  }
 },
 "nbformat": 4,
 "nbformat_minor": 2
}
