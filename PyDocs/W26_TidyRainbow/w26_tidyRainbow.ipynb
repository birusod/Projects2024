{
 "cells": [
  {
   "cell_type": "markdown",
   "metadata": {},
   "source": [
    "# <span style=\"color:crimson\">TIDYRAINBOW DATA</span>\n",
    "<span style=\"color:dodgerblue\">**2024 Tidytuesday  Week 25** </span>"
   ]
  },
  {
   "cell_type": "markdown",
   "metadata": {},
   "source": [
    "## Setup"
   ]
  },
  {
   "cell_type": "markdown",
   "metadata": {},
   "source": [
    "### Libraries"
   ]
  },
  {
   "cell_type": "code",
   "execution_count": 4,
   "metadata": {},
   "outputs": [],
   "source": [
    "import pandas as pd\n",
    "import numpy as np\n",
    "import matplotlib.pyplot as plt\n",
    "import seaborn as sns\n",
    "import datetime as dt"
   ]
  },
  {
   "cell_type": "markdown",
   "metadata": {},
   "source": [
    "### Data"
   ]
  },
  {
   "cell_type": "code",
   "execution_count": 5,
   "metadata": {},
   "outputs": [],
   "source": [
    "url = \"https://raw.githubusercontent.com/rfordatascience/tidytuesday/master/data/2024/2024-06-25/lgbtq_movies.csv\"\n",
    "dfr = pd.read_csv(url)"
   ]
  },
  {
   "cell_type": "markdown",
   "metadata": {},
   "source": [
    "## EDA"
   ]
  },
  {
   "cell_type": "markdown",
   "metadata": {},
   "source": [
    "### Overview"
   ]
  },
  {
   "cell_type": "code",
   "execution_count": 6,
   "metadata": {},
   "outputs": [
    {
     "data": {
      "text/plain": [
       "(7165, 12)"
      ]
     },
     "execution_count": 6,
     "metadata": {},
     "output_type": "execute_result"
    }
   ],
   "source": [
    "dfr.shape"
   ]
  },
  {
   "cell_type": "code",
   "execution_count": 7,
   "metadata": {},
   "outputs": [
    {
     "data": {
      "text/plain": [
       "Index(['id', 'title', 'original_title', 'original_language', 'overview',\n",
       "       'release_date', 'popularity', 'vote_average', 'vote_count', 'adult',\n",
       "       'video', 'genre_ids'],\n",
       "      dtype='object')"
      ]
     },
     "execution_count": 7,
     "metadata": {},
     "output_type": "execute_result"
    }
   ],
   "source": [
    "dfr.columns"
   ]
  },
  {
   "cell_type": "code",
   "execution_count": 8,
   "metadata": {},
   "outputs": [
    {
     "data": {
      "text/html": [
       "<div>\n",
       "<style scoped>\n",
       "    .dataframe tbody tr th:only-of-type {\n",
       "        vertical-align: middle;\n",
       "    }\n",
       "\n",
       "    .dataframe tbody tr th {\n",
       "        vertical-align: top;\n",
       "    }\n",
       "\n",
       "    .dataframe thead th {\n",
       "        text-align: right;\n",
       "    }\n",
       "</style>\n",
       "<table border=\"1\" class=\"dataframe\">\n",
       "  <thead>\n",
       "    <tr style=\"text-align: right;\">\n",
       "      <th></th>\n",
       "      <th>id</th>\n",
       "      <th>title</th>\n",
       "      <th>original_title</th>\n",
       "      <th>original_language</th>\n",
       "      <th>overview</th>\n",
       "      <th>release_date</th>\n",
       "      <th>popularity</th>\n",
       "      <th>vote_average</th>\n",
       "      <th>vote_count</th>\n",
       "      <th>adult</th>\n",
       "      <th>video</th>\n",
       "      <th>genre_ids</th>\n",
       "    </tr>\n",
       "  </thead>\n",
       "  <tbody>\n",
       "    <tr>\n",
       "      <th>0</th>\n",
       "      <td>860159</td>\n",
       "      <td>Crush</td>\n",
       "      <td>Crush</td>\n",
       "      <td>en</td>\n",
       "      <td>When an aspiring young artist is forced to joi...</td>\n",
       "      <td>2022-04-29</td>\n",
       "      <td>321.755</td>\n",
       "      <td>7.5</td>\n",
       "      <td>120</td>\n",
       "      <td>False</td>\n",
       "      <td>False</td>\n",
       "      <td>[35, 10749]</td>\n",
       "    </tr>\n",
       "    <tr>\n",
       "      <th>1</th>\n",
       "      <td>719088</td>\n",
       "      <td>Yes, No, or Maybe Half?</td>\n",
       "      <td>イエスかノーか半分か</td>\n",
       "      <td>ja</td>\n",
       "      <td>Kunieda Kei is a popular, young TV announcer w...</td>\n",
       "      <td>2020-12-11</td>\n",
       "      <td>139.229</td>\n",
       "      <td>7.1</td>\n",
       "      <td>26</td>\n",
       "      <td>False</td>\n",
       "      <td>False</td>\n",
       "      <td>[16, 18, 10749]</td>\n",
       "    </tr>\n",
       "    <tr>\n",
       "      <th>2</th>\n",
       "      <td>632632</td>\n",
       "      <td>Given</td>\n",
       "      <td>映画 ギヴン</td>\n",
       "      <td>ja</td>\n",
       "      <td>The film centers on the love relationship amon...</td>\n",
       "      <td>2020-08-22</td>\n",
       "      <td>110.140</td>\n",
       "      <td>8.4</td>\n",
       "      <td>318</td>\n",
       "      <td>False</td>\n",
       "      <td>False</td>\n",
       "      <td>[16, 18, 10402, 10749]</td>\n",
       "    </tr>\n",
       "    <tr>\n",
       "      <th>3</th>\n",
       "      <td>929477</td>\n",
       "      <td>Heart Shot</td>\n",
       "      <td>Heart Shot</td>\n",
       "      <td>en</td>\n",
       "      <td>Teenagers Nikki and Sam are in love and planni...</td>\n",
       "      <td>2022-02-17</td>\n",
       "      <td>88.760</td>\n",
       "      <td>5.4</td>\n",
       "      <td>37</td>\n",
       "      <td>False</td>\n",
       "      <td>False</td>\n",
       "      <td>[10749, 80]</td>\n",
       "    </tr>\n",
       "  </tbody>\n",
       "</table>\n",
       "</div>"
      ],
      "text/plain": [
       "       id                    title original_title original_language  \\\n",
       "0  860159                    Crush          Crush                en   \n",
       "1  719088  Yes, No, or Maybe Half?     イエスかノーか半分か                ja   \n",
       "2  632632                    Given         映画 ギヴン                ja   \n",
       "3  929477               Heart Shot     Heart Shot                en   \n",
       "\n",
       "                                            overview release_date  popularity  \\\n",
       "0  When an aspiring young artist is forced to joi...   2022-04-29     321.755   \n",
       "1  Kunieda Kei is a popular, young TV announcer w...   2020-12-11     139.229   \n",
       "2  The film centers on the love relationship amon...   2020-08-22     110.140   \n",
       "3  Teenagers Nikki and Sam are in love and planni...   2022-02-17      88.760   \n",
       "\n",
       "   vote_average  vote_count  adult  video               genre_ids  \n",
       "0           7.5         120  False  False             [35, 10749]  \n",
       "1           7.1          26  False  False         [16, 18, 10749]  \n",
       "2           8.4         318  False  False  [16, 18, 10402, 10749]  \n",
       "3           5.4          37  False  False             [10749, 80]  "
      ]
     },
     "execution_count": 8,
     "metadata": {},
     "output_type": "execute_result"
    }
   ],
   "source": [
    "dfr.head(4)"
   ]
  },
  {
   "cell_type": "code",
   "execution_count": 9,
   "metadata": {},
   "outputs": [
    {
     "name": "stdout",
     "output_type": "stream",
     "text": [
      "<class 'pandas.core.frame.DataFrame'>\n",
      "RangeIndex: 7165 entries, 0 to 7164\n",
      "Data columns (total 12 columns):\n",
      " #   Column             Non-Null Count  Dtype  \n",
      "---  ------             --------------  -----  \n",
      " 0   id                 7165 non-null   int64  \n",
      " 1   title              7165 non-null   object \n",
      " 2   original_title     7165 non-null   object \n",
      " 3   original_language  7165 non-null   object \n",
      " 4   overview           7088 non-null   object \n",
      " 5   release_date       7075 non-null   object \n",
      " 6   popularity         7165 non-null   float64\n",
      " 7   vote_average       7165 non-null   float64\n",
      " 8   vote_count         7165 non-null   int64  \n",
      " 9   adult              7165 non-null   bool   \n",
      " 10  video              7165 non-null   bool   \n",
      " 11  genre_ids          7165 non-null   object \n",
      "dtypes: bool(2), float64(2), int64(2), object(6)\n",
      "memory usage: 573.9+ KB\n"
     ]
    }
   ],
   "source": [
    "dfr.info()"
   ]
  },
  {
   "cell_type": "code",
   "execution_count": 68,
   "metadata": {},
   "outputs": [],
   "source": [
    "df1 = dfr[['id', 'release_date', 'popularity', 'vote_average', 'vote_count', 'adult']].copy()\n"
   ]
  },
  {
   "cell_type": "code",
   "execution_count": 69,
   "metadata": {},
   "outputs": [],
   "source": [
    "df1.loc[:, 'date'] = pd.to_datetime(\n",
    "    df1.loc[:, 'release_date'],\n",
    "    format='%Y-%m-%d')\n",
    "\n",
    "df1 = df1.drop(columns=['release_date'])\n"
   ]
  },
  {
   "cell_type": "code",
   "execution_count": 89,
   "metadata": {},
   "outputs": [],
   "source": [
    "\n",
    "df = df1.loc[:, 'id':'date'].copy()\n",
    "df['month'] = df['date'].dt.month_name()\n",
    "df['month_abbr'] = df['date'].dt.strftime('%b')\n",
    "df['year'] = df['date'].dt.year\n",
    "df['decade'] = df['year'] // 10 * 10"
   ]
  },
  {
   "cell_type": "code",
   "execution_count": 90,
   "metadata": {},
   "outputs": [
    {
     "data": {
      "text/html": [
       "<div>\n",
       "<style scoped>\n",
       "    .dataframe tbody tr th:only-of-type {\n",
       "        vertical-align: middle;\n",
       "    }\n",
       "\n",
       "    .dataframe tbody tr th {\n",
       "        vertical-align: top;\n",
       "    }\n",
       "\n",
       "    .dataframe thead th {\n",
       "        text-align: right;\n",
       "    }\n",
       "</style>\n",
       "<table border=\"1\" class=\"dataframe\">\n",
       "  <thead>\n",
       "    <tr style=\"text-align: right;\">\n",
       "      <th></th>\n",
       "      <th>id</th>\n",
       "      <th>popularity</th>\n",
       "      <th>vote_average</th>\n",
       "      <th>vote_count</th>\n",
       "      <th>adult</th>\n",
       "      <th>date</th>\n",
       "      <th>month</th>\n",
       "      <th>month_abbr</th>\n",
       "      <th>year</th>\n",
       "      <th>decade</th>\n",
       "    </tr>\n",
       "  </thead>\n",
       "  <tbody>\n",
       "    <tr>\n",
       "      <th>0</th>\n",
       "      <td>860159</td>\n",
       "      <td>321.755</td>\n",
       "      <td>7.5</td>\n",
       "      <td>120</td>\n",
       "      <td>False</td>\n",
       "      <td>2022-04-29</td>\n",
       "      <td>April</td>\n",
       "      <td>Apr</td>\n",
       "      <td>2022.0</td>\n",
       "      <td>2020.0</td>\n",
       "    </tr>\n",
       "    <tr>\n",
       "      <th>1</th>\n",
       "      <td>719088</td>\n",
       "      <td>139.229</td>\n",
       "      <td>7.1</td>\n",
       "      <td>26</td>\n",
       "      <td>False</td>\n",
       "      <td>2020-12-11</td>\n",
       "      <td>December</td>\n",
       "      <td>Dec</td>\n",
       "      <td>2020.0</td>\n",
       "      <td>2020.0</td>\n",
       "    </tr>\n",
       "  </tbody>\n",
       "</table>\n",
       "</div>"
      ],
      "text/plain": [
       "       id  popularity  vote_average  vote_count  adult       date     month  \\\n",
       "0  860159     321.755           7.5         120  False 2022-04-29     April   \n",
       "1  719088     139.229           7.1          26  False 2020-12-11  December   \n",
       "\n",
       "  month_abbr    year  decade  \n",
       "0        Apr  2022.0  2020.0  \n",
       "1        Dec  2020.0  2020.0  "
      ]
     },
     "execution_count": 90,
     "metadata": {},
     "output_type": "execute_result"
    }
   ],
   "source": [
    "df.head(2)"
   ]
  },
  {
   "cell_type": "code",
   "execution_count": 18,
   "metadata": {},
   "outputs": [
    {
     "name": "stdout",
     "output_type": "stream",
     "text": [
      "<class 'pandas.core.frame.DataFrame'>\n",
      "RangeIndex: 7165 entries, 0 to 7164\n",
      "Data columns (total 8 columns):\n",
      " #   Column        Non-Null Count  Dtype         \n",
      "---  ------        --------------  -----         \n",
      " 0   id            7165 non-null   int64         \n",
      " 1   popularity    7165 non-null   float64       \n",
      " 2   vote_average  7165 non-null   float64       \n",
      " 3   vote_count    7165 non-null   int64         \n",
      " 4   adult         7165 non-null   bool          \n",
      " 5   date          7075 non-null   datetime64[ns]\n",
      " 6   month         7075 non-null   object        \n",
      " 7   year          7075 non-null   float64       \n",
      "dtypes: bool(1), datetime64[ns](1), float64(3), int64(2), object(1)\n",
      "memory usage: 399.0+ KB\n"
     ]
    }
   ],
   "source": [
    "df.info()"
   ]
  },
  {
   "cell_type": "code",
   "execution_count": 48,
   "metadata": {},
   "outputs": [
    {
     "data": {
      "text/html": [
       "<div>\n",
       "<style scoped>\n",
       "    .dataframe tbody tr th:only-of-type {\n",
       "        vertical-align: middle;\n",
       "    }\n",
       "\n",
       "    .dataframe tbody tr th {\n",
       "        vertical-align: top;\n",
       "    }\n",
       "\n",
       "    .dataframe thead th {\n",
       "        text-align: right;\n",
       "    }\n",
       "</style>\n",
       "<table border=\"1\" class=\"dataframe\">\n",
       "  <thead>\n",
       "    <tr style=\"text-align: right;\">\n",
       "      <th></th>\n",
       "      <th>id</th>\n",
       "      <th>popularity</th>\n",
       "      <th>vote_average</th>\n",
       "      <th>vote_count</th>\n",
       "      <th>adult</th>\n",
       "      <th>date</th>\n",
       "      <th>month</th>\n",
       "      <th>month_abbr</th>\n",
       "      <th>year</th>\n",
       "    </tr>\n",
       "  </thead>\n",
       "  <tbody>\n",
       "    <tr>\n",
       "      <th>0</th>\n",
       "      <td>860159</td>\n",
       "      <td>321.755</td>\n",
       "      <td>7.5</td>\n",
       "      <td>120</td>\n",
       "      <td>False</td>\n",
       "      <td>2022-04-29</td>\n",
       "      <td>April</td>\n",
       "      <td>Apr</td>\n",
       "      <td>2022.0</td>\n",
       "    </tr>\n",
       "    <tr>\n",
       "      <th>1</th>\n",
       "      <td>719088</td>\n",
       "      <td>139.229</td>\n",
       "      <td>7.1</td>\n",
       "      <td>26</td>\n",
       "      <td>False</td>\n",
       "      <td>2020-12-11</td>\n",
       "      <td>December</td>\n",
       "      <td>Dec</td>\n",
       "      <td>2020.0</td>\n",
       "    </tr>\n",
       "    <tr>\n",
       "      <th>2</th>\n",
       "      <td>632632</td>\n",
       "      <td>110.140</td>\n",
       "      <td>8.4</td>\n",
       "      <td>318</td>\n",
       "      <td>False</td>\n",
       "      <td>2020-08-22</td>\n",
       "      <td>August</td>\n",
       "      <td>Aug</td>\n",
       "      <td>2020.0</td>\n",
       "    </tr>\n",
       "    <tr>\n",
       "      <th>3</th>\n",
       "      <td>929477</td>\n",
       "      <td>88.760</td>\n",
       "      <td>5.4</td>\n",
       "      <td>37</td>\n",
       "      <td>False</td>\n",
       "      <td>2022-02-17</td>\n",
       "      <td>February</td>\n",
       "      <td>Feb</td>\n",
       "      <td>2022.0</td>\n",
       "    </tr>\n",
       "    <tr>\n",
       "      <th>4</th>\n",
       "      <td>197158</td>\n",
       "      <td>76.302</td>\n",
       "      <td>4.3</td>\n",
       "      <td>46</td>\n",
       "      <td>False</td>\n",
       "      <td>1981-01-01</td>\n",
       "      <td>January</td>\n",
       "      <td>Jan</td>\n",
       "      <td>1981.0</td>\n",
       "    </tr>\n",
       "    <tr>\n",
       "      <th>...</th>\n",
       "      <td>...</td>\n",
       "      <td>...</td>\n",
       "      <td>...</td>\n",
       "      <td>...</td>\n",
       "      <td>...</td>\n",
       "      <td>...</td>\n",
       "      <td>...</td>\n",
       "      <td>...</td>\n",
       "      <td>...</td>\n",
       "    </tr>\n",
       "    <tr>\n",
       "      <th>7160</th>\n",
       "      <td>37390</td>\n",
       "      <td>0.600</td>\n",
       "      <td>3.0</td>\n",
       "      <td>1</td>\n",
       "      <td>True</td>\n",
       "      <td>2010-02-17</td>\n",
       "      <td>February</td>\n",
       "      <td>Feb</td>\n",
       "      <td>2010.0</td>\n",
       "    </tr>\n",
       "    <tr>\n",
       "      <th>7161</th>\n",
       "      <td>983153</td>\n",
       "      <td>0.000</td>\n",
       "      <td>0.0</td>\n",
       "      <td>0</td>\n",
       "      <td>False</td>\n",
       "      <td>NaT</td>\n",
       "      <td>NaN</td>\n",
       "      <td>NaN</td>\n",
       "      <td>NaN</td>\n",
       "    </tr>\n",
       "    <tr>\n",
       "      <th>7162</th>\n",
       "      <td>983059</td>\n",
       "      <td>0.000</td>\n",
       "      <td>0.0</td>\n",
       "      <td>0</td>\n",
       "      <td>True</td>\n",
       "      <td>2001-01-01</td>\n",
       "      <td>January</td>\n",
       "      <td>Jan</td>\n",
       "      <td>2001.0</td>\n",
       "    </tr>\n",
       "    <tr>\n",
       "      <th>7163</th>\n",
       "      <td>983027</td>\n",
       "      <td>0.000</td>\n",
       "      <td>0.0</td>\n",
       "      <td>0</td>\n",
       "      <td>False</td>\n",
       "      <td>2022-06-05</td>\n",
       "      <td>June</td>\n",
       "      <td>Jun</td>\n",
       "      <td>2022.0</td>\n",
       "    </tr>\n",
       "    <tr>\n",
       "      <th>7164</th>\n",
       "      <td>982946</td>\n",
       "      <td>0.000</td>\n",
       "      <td>0.0</td>\n",
       "      <td>0</td>\n",
       "      <td>False</td>\n",
       "      <td>2022-04-14</td>\n",
       "      <td>April</td>\n",
       "      <td>Apr</td>\n",
       "      <td>2022.0</td>\n",
       "    </tr>\n",
       "  </tbody>\n",
       "</table>\n",
       "<p>7165 rows × 9 columns</p>\n",
       "</div>"
      ],
      "text/plain": [
       "          id  popularity  vote_average  vote_count  adult       date  \\\n",
       "0     860159     321.755           7.5         120  False 2022-04-29   \n",
       "1     719088     139.229           7.1          26  False 2020-12-11   \n",
       "2     632632     110.140           8.4         318  False 2020-08-22   \n",
       "3     929477      88.760           5.4          37  False 2022-02-17   \n",
       "4     197158      76.302           4.3          46  False 1981-01-01   \n",
       "...      ...         ...           ...         ...    ...        ...   \n",
       "7160   37390       0.600           3.0           1   True 2010-02-17   \n",
       "7161  983153       0.000           0.0           0  False        NaT   \n",
       "7162  983059       0.000           0.0           0   True 2001-01-01   \n",
       "7163  983027       0.000           0.0           0  False 2022-06-05   \n",
       "7164  982946       0.000           0.0           0  False 2022-04-14   \n",
       "\n",
       "         month month_abbr    year  \n",
       "0        April        Apr  2022.0  \n",
       "1     December        Dec  2020.0  \n",
       "2       August        Aug  2020.0  \n",
       "3     February        Feb  2022.0  \n",
       "4      January        Jan  1981.0  \n",
       "...        ...        ...     ...  \n",
       "7160  February        Feb  2010.0  \n",
       "7161       NaN        NaN     NaN  \n",
       "7162   January        Jan  2001.0  \n",
       "7163      June        Jun  2022.0  \n",
       "7164     April        Apr  2022.0  \n",
       "\n",
       "[7165 rows x 9 columns]"
      ]
     },
     "execution_count": 48,
     "metadata": {},
     "output_type": "execute_result"
    }
   ],
   "source": [
    "df"
   ]
  },
  {
   "cell_type": "markdown",
   "metadata": {},
   "source": [
    "### By decade/ year / month"
   ]
  },
  {
   "cell_type": "code",
   "execution_count": 75,
   "metadata": {},
   "outputs": [
    {
     "data": {
      "text/plain": [
       "decade\n",
       "1880.0    1\n",
       "1890.0    1\n",
       "1900.0    2\n",
       "1920.0    3\n",
       "1940.0    3\n",
       "Name: count, dtype: int64"
      ]
     },
     "execution_count": 75,
     "metadata": {},
     "output_type": "execute_result"
    }
   ],
   "source": [
    "\n",
    "by_year_df = df.value_counts('year')\n",
    "\n",
    "by_decade_df = df.value_counts('decade').sort_values()\n",
    "by_decade_df.head()"
   ]
  },
  {
   "cell_type": "code",
   "execution_count": 50,
   "metadata": {},
   "outputs": [
    {
     "data": {
      "text/plain": [
       "month_abbr\n",
       "Jan    938\n",
       "Feb    510\n",
       "Mar    587\n",
       "Apr    527\n",
       "May    557\n",
       "Jun    726\n",
       "Jul    499\n",
       "Aug    492\n",
       "Sep    607\n",
       "Oct    656\n",
       "Nov    558\n",
       "Dec    418\n",
       "Name: count, dtype: int64"
      ]
     },
     "execution_count": 50,
     "metadata": {},
     "output_type": "execute_result"
    }
   ],
   "source": [
    "by_month_df = df.value_counts('month_abbr')\n",
    "\n",
    "new_order_fullname = ['January', 'February', 'March', 'April', 'May', 'June', \n",
    "             'July', 'August', 'September', 'October', 'November', 'December']\n",
    "\n",
    "new_order_abbr = ['Jan', 'Feb', 'Mar', 'Apr', 'May', 'Jun', \n",
    "             'Jul', 'Aug', 'Sep', 'Oct', 'Nov', 'Dec']\n",
    "\n",
    "by_month_df = by_month_df.reindex(new_order_abbr, axis=0)\n",
    "\n",
    "by_month_df.head(12)"
   ]
  },
  {
   "cell_type": "markdown",
   "metadata": {},
   "source": [
    "## Viz"
   ]
  },
  {
   "cell_type": "markdown",
   "metadata": {},
   "source": [
    "### By year / month"
   ]
  },
  {
   "cell_type": "code",
   "execution_count": 78,
   "metadata": {},
   "outputs": [
    {
     "data": {
      "text/plain": [
       "<Axes: title={'center': 'MOVIES RELEASED BY DECADE'}>"
      ]
     },
     "execution_count": 78,
     "metadata": {},
     "output_type": "execute_result"
    },
    {
     "data": {
      "image/png": "[encoded data removed]",
      "text/plain": [
       "<Figure size 800x500 with 1 Axes>"
      ]
     },
     "metadata": {},
     "output_type": "display_data"
    }
   ],
   "source": [
    "by_decade_df.plot(\n",
    "    kind='bar', width = .9, figsize = (8, 5), rot=30,\n",
    "    xlabel = '',\n",
    "    title = 'MOVIES RELEASED BY DECADE')"
   ]
  },
  {
   "cell_type": "code",
   "execution_count": 62,
   "metadata": {},
   "outputs": [
    {
     "data": {
      "text/plain": [
       "<Axes: title={'center': 'MONTHLY MOVIES RELEASED'}>"
      ]
     },
     "execution_count": 62,
     "metadata": {},
     "output_type": "execute_result"
    },
    {
     "data": {
      "image/png": "[encoded data removed]",
      "text/plain": [
       "<Figure size 800x500 with 1 Axes>"
      ]
     },
     "metadata": {},
     "output_type": "display_data"
    }
   ],
   "source": [
    "by_month_df.plot(\n",
    "    kind='bar', width = .9, figsize = (8, 5), rot=0,\n",
    "    xlabel = '',\n",
    "    title = 'MONTHLY MOVIES RELEASED')"
   ]
  },
  {
   "cell_type": "code",
   "execution_count": null,
   "metadata": {},
   "outputs": [],
   "source": []
  }
 ],
 "metadata": {
  "kernelspec": {
   "display_name": ".pvenv",
   "language": "python",
   "name": "python3"
  },
  "language_info": {
   "codemirror_mode": {
    "name": "ipython",
    "version": 3
   },
   "file_extension": ".py",
   "mimetype": "text/x-python",
   "name": "python",
   "nbconvert_exporter": "python",
   "pygments_lexer": "ipython3",
   "version": "3.11.4"
  }
 },
 "nbformat": 4,
 "nbformat_minor": 2
}
