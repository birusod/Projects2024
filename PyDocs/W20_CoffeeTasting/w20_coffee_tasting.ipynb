{
 "cells": [
  {
   "cell_type": "markdown",
   "metadata": {},
   "source": [
    "#  <span style=\"color:#623C2B; font-family:roboto;\"><b>COFFEE TASTE TEST</b></span>\n",
    "<span style=\"color:#736849\"><i>**2024 Tidytuesday  Week 20**<i></span>"
   ]
  },
  {
   "cell_type": "markdown",
   "metadata": {},
   "source": [
    "The Great American Coffee Taste Test\n",
    "\"#623C2B\", \"#AF524E\", \"#736849\", \"#EBD188\""
   ]
  },
  {
   "cell_type": "markdown",
   "metadata": {},
   "source": [
    "## Setup"
   ]
  },
  {
   "cell_type": "markdown",
   "metadata": {},
   "source": [
    "### Libraries"
   ]
  },
  {
   "cell_type": "code",
   "execution_count": 1,
   "metadata": {},
   "outputs": [],
   "source": [
    "import pandas as pd\n",
    "import numpy as np\n",
    "import matplotlib.pyplot as plt\n",
    "import seaborn  as sns"
   ]
  },
  {
   "cell_type": "markdown",
   "metadata": {},
   "source": [
    "### Data"
   ]
  },
  {
   "cell_type": "code",
   "execution_count": 2,
   "metadata": {},
   "outputs": [],
   "source": [
    "tt_url = \"https://raw.githubusercontent.com/rfordatascience/tidytuesday/master/\"\n",
    "dat_url = \"data/2024/2024-05-14/coffee_survey.csv\"\n",
    "dfr = pd.read_csv(tt_url + dat_url)"
   ]
  },
  {
   "cell_type": "code",
   "execution_count": 3,
   "metadata": {},
   "outputs": [
    {
     "data": {
      "text/html": [
       "<div>\n",
       "<style scoped>\n",
       "    .dataframe tbody tr th:only-of-type {\n",
       "        vertical-align: middle;\n",
       "    }\n",
       "\n",
       "    .dataframe tbody tr th {\n",
       "        vertical-align: top;\n",
       "    }\n",
       "\n",
       "    .dataframe thead th {\n",
       "        text-align: right;\n",
       "    }\n",
       "</style>\n",
       "<table border=\"1\" class=\"dataframe\">\n",
       "  <thead>\n",
       "    <tr style=\"text-align: right;\">\n",
       "      <th></th>\n",
       "      <th>submission_id</th>\n",
       "      <th>age</th>\n",
       "      <th>cups</th>\n",
       "      <th>where_drink</th>\n",
       "      <th>brew</th>\n",
       "      <th>brew_other</th>\n",
       "      <th>purchase</th>\n",
       "      <th>purchase_other</th>\n",
       "      <th>favorite</th>\n",
       "      <th>favorite_specify</th>\n",
       "      <th>...</th>\n",
       "      <th>spent_equipment</th>\n",
       "      <th>value_equipment</th>\n",
       "      <th>gender</th>\n",
       "      <th>gender_specify</th>\n",
       "      <th>education_level</th>\n",
       "      <th>ethnicity_race</th>\n",
       "      <th>ethnicity_race_specify</th>\n",
       "      <th>employment_status</th>\n",
       "      <th>number_children</th>\n",
       "      <th>political_affiliation</th>\n",
       "    </tr>\n",
       "  </thead>\n",
       "  <tbody>\n",
       "    <tr>\n",
       "      <th>0</th>\n",
       "      <td>gMR29l</td>\n",
       "      <td>18-24 years old</td>\n",
       "      <td>NaN</td>\n",
       "      <td>NaN</td>\n",
       "      <td>NaN</td>\n",
       "      <td>NaN</td>\n",
       "      <td>NaN</td>\n",
       "      <td>NaN</td>\n",
       "      <td>Regular drip coffee</td>\n",
       "      <td>NaN</td>\n",
       "      <td>...</td>\n",
       "      <td>NaN</td>\n",
       "      <td>NaN</td>\n",
       "      <td>NaN</td>\n",
       "      <td>NaN</td>\n",
       "      <td>NaN</td>\n",
       "      <td>NaN</td>\n",
       "      <td>NaN</td>\n",
       "      <td>NaN</td>\n",
       "      <td>NaN</td>\n",
       "      <td>NaN</td>\n",
       "    </tr>\n",
       "    <tr>\n",
       "      <th>1</th>\n",
       "      <td>BkPN0e</td>\n",
       "      <td>25-34 years old</td>\n",
       "      <td>NaN</td>\n",
       "      <td>NaN</td>\n",
       "      <td>Pod/capsule machine (e.g. Keurig/Nespresso)</td>\n",
       "      <td>NaN</td>\n",
       "      <td>NaN</td>\n",
       "      <td>NaN</td>\n",
       "      <td>Iced coffee</td>\n",
       "      <td>NaN</td>\n",
       "      <td>...</td>\n",
       "      <td>NaN</td>\n",
       "      <td>NaN</td>\n",
       "      <td>NaN</td>\n",
       "      <td>NaN</td>\n",
       "      <td>NaN</td>\n",
       "      <td>NaN</td>\n",
       "      <td>NaN</td>\n",
       "      <td>NaN</td>\n",
       "      <td>NaN</td>\n",
       "      <td>NaN</td>\n",
       "    </tr>\n",
       "    <tr>\n",
       "      <th>2</th>\n",
       "      <td>W5G8jj</td>\n",
       "      <td>25-34 years old</td>\n",
       "      <td>NaN</td>\n",
       "      <td>NaN</td>\n",
       "      <td>Bean-to-cup machine</td>\n",
       "      <td>NaN</td>\n",
       "      <td>NaN</td>\n",
       "      <td>NaN</td>\n",
       "      <td>Regular drip coffee</td>\n",
       "      <td>NaN</td>\n",
       "      <td>...</td>\n",
       "      <td>NaN</td>\n",
       "      <td>NaN</td>\n",
       "      <td>NaN</td>\n",
       "      <td>NaN</td>\n",
       "      <td>NaN</td>\n",
       "      <td>NaN</td>\n",
       "      <td>NaN</td>\n",
       "      <td>NaN</td>\n",
       "      <td>NaN</td>\n",
       "      <td>NaN</td>\n",
       "    </tr>\n",
       "  </tbody>\n",
       "</table>\n",
       "<p>3 rows × 57 columns</p>\n",
       "</div>"
      ],
      "text/plain": [
       "  submission_id              age cups where_drink  \\\n",
       "0        gMR29l  18-24 years old  NaN         NaN   \n",
       "1        BkPN0e  25-34 years old  NaN         NaN   \n",
       "2        W5G8jj  25-34 years old  NaN         NaN   \n",
       "\n",
       "                                          brew brew_other purchase  \\\n",
       "0                                          NaN        NaN      NaN   \n",
       "1  Pod/capsule machine (e.g. Keurig/Nespresso)        NaN      NaN   \n",
       "2                          Bean-to-cup machine        NaN      NaN   \n",
       "\n",
       "  purchase_other             favorite favorite_specify  ... spent_equipment  \\\n",
       "0            NaN  Regular drip coffee              NaN  ...             NaN   \n",
       "1            NaN          Iced coffee              NaN  ...             NaN   \n",
       "2            NaN  Regular drip coffee              NaN  ...             NaN   \n",
       "\n",
       "  value_equipment gender gender_specify education_level ethnicity_race  \\\n",
       "0             NaN    NaN            NaN             NaN            NaN   \n",
       "1             NaN    NaN            NaN             NaN            NaN   \n",
       "2             NaN    NaN            NaN             NaN            NaN   \n",
       "\n",
       "  ethnicity_race_specify employment_status  number_children  \\\n",
       "0                    NaN               NaN              NaN   \n",
       "1                    NaN               NaN              NaN   \n",
       "2                    NaN               NaN              NaN   \n",
       "\n",
       "   political_affiliation  \n",
       "0                    NaN  \n",
       "1                    NaN  \n",
       "2                    NaN  \n",
       "\n",
       "[3 rows x 57 columns]"
      ]
     },
     "execution_count": 3,
     "metadata": {},
     "output_type": "execute_result"
    }
   ],
   "source": [
    "dfr.head(3)"
   ]
  },
  {
   "cell_type": "markdown",
   "metadata": {},
   "source": [
    "## EDA"
   ]
  },
  {
   "cell_type": "markdown",
   "metadata": {},
   "source": [
    "### Overview"
   ]
  },
  {
   "cell_type": "code",
   "execution_count": 10,
   "metadata": {},
   "outputs": [
    {
     "data": {
      "text/plain": [
       "(4042, 57)"
      ]
     },
     "execution_count": 10,
     "metadata": {},
     "output_type": "execute_result"
    }
   ],
   "source": [
    "dfr.shape"
   ]
  },
  {
   "cell_type": "code",
   "execution_count": 9,
   "metadata": {},
   "outputs": [
    {
     "data": {
      "text/plain": [
       "Index(['submission_id', 'age', 'cups', 'where_drink', 'brew', 'brew_other',\n",
       "       'purchase', 'purchase_other', 'favorite', 'favorite_specify',\n",
       "       'additions', 'additions_other', 'dairy', 'sweetener', 'style',\n",
       "       'strength', 'roast_level', 'caffeine', 'expertise',\n",
       "       'coffee_a_bitterness', 'coffee_a_acidity',\n",
       "       'coffee_a_personal_preference', 'coffee_a_notes', 'coffee_b_bitterness',\n",
       "       'coffee_b_acidity', 'coffee_b_personal_preference', 'coffee_b_notes',\n",
       "       'coffee_c_bitterness', 'coffee_c_acidity',\n",
       "       'coffee_c_personal_preference', 'coffee_c_notes', 'coffee_d_bitterness',\n",
       "       'coffee_d_acidity', 'coffee_d_personal_preference', 'coffee_d_notes',\n",
       "       'prefer_abc', 'prefer_ad', 'prefer_overall', 'wfh', 'total_spend',\n",
       "       'why_drink', 'why_drink_other', 'taste', 'know_source', 'most_paid',\n",
       "       'most_willing', 'value_cafe', 'spent_equipment', 'value_equipment',\n",
       "       'gender', 'gender_specify', 'education_level', 'ethnicity_race',\n",
       "       'ethnicity_race_specify', 'employment_status', 'number_children',\n",
       "       'political_affiliation'],\n",
       "      dtype='object')"
      ]
     },
     "execution_count": 9,
     "metadata": {},
     "output_type": "execute_result"
    }
   ],
   "source": [
    "dfr.columns"
   ]
  },
  {
   "cell_type": "code",
   "execution_count": 11,
   "metadata": {},
   "outputs": [
    {
     "name": "stdout",
     "output_type": "stream",
     "text": [
      "<class 'pandas.core.frame.DataFrame'>\n",
      "RangeIndex: 4042 entries, 0 to 4041\n",
      "Data columns (total 57 columns):\n",
      " #   Column                        Non-Null Count  Dtype  \n",
      "---  ------                        --------------  -----  \n",
      " 0   submission_id                 4042 non-null   object \n",
      " 1   age                           4011 non-null   object \n",
      " 2   cups                          3949 non-null   object \n",
      " 3   where_drink                   3972 non-null   object \n",
      " 4   brew                          3657 non-null   object \n",
      " 5   brew_other                    678 non-null    object \n",
      " 6   purchase                      710 non-null    object \n",
      " 7   purchase_other                31 non-null     object \n",
      " 8   favorite                      3980 non-null   object \n",
      " 9   favorite_specify              114 non-null    object \n",
      " 10  additions                     3959 non-null   object \n",
      " 11  additions_other               48 non-null     object \n",
      " 12  dairy                         1686 non-null   object \n",
      " 13  sweetener                     512 non-null    object \n",
      " 14  style                         3958 non-null   object \n",
      " 15  strength                      3916 non-null   object \n",
      " 16  roast_level                   3940 non-null   object \n",
      " 17  caffeine                      3917 non-null   object \n",
      " 18  expertise                     3938 non-null   float64\n",
      " 19  coffee_a_bitterness           3798 non-null   float64\n",
      " 20  coffee_a_acidity              3779 non-null   float64\n",
      " 21  coffee_a_personal_preference  3789 non-null   float64\n",
      " 22  coffee_a_notes                2578 non-null   object \n",
      " 23  coffee_b_bitterness           3780 non-null   float64\n",
      " 24  coffee_b_acidity              3767 non-null   float64\n",
      " 25  coffee_b_personal_preference  3773 non-null   float64\n",
      " 26  coffee_b_notes                2454 non-null   object \n",
      " 27  coffee_c_bitterness           3764 non-null   float64\n",
      " 28  coffee_c_acidity              3751 non-null   float64\n",
      " 29  coffee_c_personal_preference  3766 non-null   float64\n",
      " 30  coffee_c_notes                2382 non-null   object \n",
      " 31  coffee_d_bitterness           3767 non-null   float64\n",
      " 32  coffee_d_acidity              3765 non-null   float64\n",
      " 33  coffee_d_personal_preference  3764 non-null   float64\n",
      " 34  coffee_d_notes                2588 non-null   object \n",
      " 35  prefer_abc                    3772 non-null   object \n",
      " 36  prefer_ad                     3761 non-null   object \n",
      " 37  prefer_overall                3770 non-null   object \n",
      " 38  wfh                           3524 non-null   object \n",
      " 39  total_spend                   3511 non-null   object \n",
      " 40  why_drink                     3568 non-null   object \n",
      " 41  why_drink_other               167 non-null    object \n",
      " 42  taste                         3563 non-null   object \n",
      " 43  know_source                   3559 non-null   object \n",
      " 44  most_paid                     3527 non-null   object \n",
      " 45  most_willing                  3510 non-null   object \n",
      " 46  value_cafe                    3500 non-null   object \n",
      " 47  spent_equipment               3506 non-null   object \n",
      " 48  value_equipment               3494 non-null   object \n",
      " 49  gender                        3523 non-null   object \n",
      " 50  gender_specify                12 non-null     object \n",
      " 51  education_level               3438 non-null   object \n",
      " 52  ethnicity_race                3418 non-null   object \n",
      " 53  ethnicity_race_specify        105 non-null    object \n",
      " 54  employment_status             3419 non-null   object \n",
      " 55  number_children               856 non-null    object \n",
      " 56  political_affiliation         3289 non-null   object \n",
      "dtypes: float64(13), object(44)\n",
      "memory usage: 1.8+ MB\n"
     ]
    }
   ],
   "source": [
    "dfr.info()"
   ]
  },
  {
   "cell_type": "markdown",
   "metadata": {},
   "source": [
    "### Frequency by age group"
   ]
  },
  {
   "cell_type": "code",
   "execution_count": 4,
   "metadata": {},
   "outputs": [
    {
     "data": {
      "text/html": [
       "<div>\n",
       "<style scoped>\n",
       "    .dataframe tbody tr th:only-of-type {\n",
       "        vertical-align: middle;\n",
       "    }\n",
       "\n",
       "    .dataframe tbody tr th {\n",
       "        vertical-align: top;\n",
       "    }\n",
       "\n",
       "    .dataframe thead th {\n",
       "        text-align: right;\n",
       "    }\n",
       "</style>\n",
       "<table border=\"1\" class=\"dataframe\">\n",
       "  <thead>\n",
       "    <tr style=\"text-align: right;\">\n",
       "      <th></th>\n",
       "      <th>age</th>\n",
       "      <th>count</th>\n",
       "    </tr>\n",
       "  </thead>\n",
       "  <tbody>\n",
       "    <tr>\n",
       "      <th>0</th>\n",
       "      <td>25-34</td>\n",
       "      <td>1986</td>\n",
       "    </tr>\n",
       "    <tr>\n",
       "      <th>1</th>\n",
       "      <td>35-44</td>\n",
       "      <td>960</td>\n",
       "    </tr>\n",
       "    <tr>\n",
       "      <th>2</th>\n",
       "      <td>18-24</td>\n",
       "      <td>461</td>\n",
       "    </tr>\n",
       "    <tr>\n",
       "      <th>3</th>\n",
       "      <td>45-54</td>\n",
       "      <td>302</td>\n",
       "    </tr>\n",
       "    <tr>\n",
       "      <th>4</th>\n",
       "      <td>55-64</td>\n",
       "      <td>187</td>\n",
       "    </tr>\n",
       "    <tr>\n",
       "      <th>5</th>\n",
       "      <td>&gt;65</td>\n",
       "      <td>95</td>\n",
       "    </tr>\n",
       "    <tr>\n",
       "      <th>6</th>\n",
       "      <td>&lt;18</td>\n",
       "      <td>20</td>\n",
       "    </tr>\n",
       "  </tbody>\n",
       "</table>\n",
       "</div>"
      ],
      "text/plain": [
       "     age  count\n",
       "0  25-34   1986\n",
       "1  35-44    960\n",
       "2  18-24    461\n",
       "3  45-54    302\n",
       "4  55-64    187\n",
       "5    >65     95\n",
       "6    <18     20"
      ]
     },
     "execution_count": 4,
     "metadata": {},
     "output_type": "execute_result"
    }
   ],
   "source": [
    "age_df = dfr['age'].value_counts().reset_index()\n",
    "age_df.age = age_df.age.str.replace(' years old', '')\n",
    "age_df"
   ]
  },
  {
   "cell_type": "code",
   "execution_count": 5,
   "metadata": {},
   "outputs": [
    {
     "data": {
      "text/plain": [
       "array(['25-34', '35-44', '18-24', '45-54', '55-64', '>65', '<18'],\n",
       "      dtype=object)"
      ]
     },
     "execution_count": 5,
     "metadata": {},
     "output_type": "execute_result"
    }
   ],
   "source": [
    "np.array(age_df.age)"
   ]
  },
  {
   "cell_type": "code",
   "execution_count": 6,
   "metadata": {},
   "outputs": [
    {
     "name": "stdout",
     "output_type": "stream",
     "text": [
      "<class 'pandas.core.frame.DataFrame'>\n",
      "RangeIndex: 7 entries, 0 to 6\n",
      "Data columns (total 3 columns):\n",
      " #   Column  Non-Null Count  Dtype   \n",
      "---  ------  --------------  -----   \n",
      " 0   age     7 non-null      object  \n",
      " 1   count   7 non-null      int64   \n",
      " 2   age2    7 non-null      category\n",
      "dtypes: category(1), int64(1), object(1)\n",
      "memory usage: 607.0+ bytes\n"
     ]
    }
   ],
   "source": [
    "age_df['age2'] = pd.Categorical(\n",
    "    age_df.age, \n",
    "    categories=['<18', '25-34', '35-44', '18-24', '45-54', '55-64', '>65'],\n",
    "    ordered=True)\n",
    "age_df.info()"
   ]
  },
  {
   "cell_type": "code",
   "execution_count": 7,
   "metadata": {},
   "outputs": [
    {
     "data": {
      "image/png": "[encoded data removed]",
      "text/plain": [
       "<Figure size 640x480 with 1 Axes>"
      ]
     },
     "metadata": {},
     "output_type": "display_data"
    }
   ],
   "source": [
    "ax = sns.barplot(x = 'age', y = 'count', data = age_df)\n",
    "ax.set_title('The Great American Coffee Taste Test')\n",
    "plt.show()"
   ]
  },
  {
   "cell_type": "code",
   "execution_count": 8,
   "metadata": {},
   "outputs": [
    {
     "data": {
      "image/png": "[encoded data removed]",
      "text/plain": [
       "<Figure size 640x480 with 1 Axes>"
      ]
     },
     "metadata": {},
     "output_type": "display_data"
    }
   ],
   "source": [
    "ax = sns.barplot(x = 'age2', y = 'count', color = '#623C2B', data = age_df)\n",
    "ax.set_title('The Great American Coffee Taste Test', color = '#AF524E')\n",
    "plt.show()"
   ]
  },
  {
   "cell_type": "markdown",
   "metadata": {},
   "source": [
    "### Favorite coffee drink"
   ]
  },
  {
   "cell_type": "code",
   "execution_count": 10,
   "metadata": {},
   "outputs": [
    {
     "data": {
      "text/html": [
       "<div>\n",
       "<style scoped>\n",
       "    .dataframe tbody tr th:only-of-type {\n",
       "        vertical-align: middle;\n",
       "    }\n",
       "\n",
       "    .dataframe tbody tr th {\n",
       "        vertical-align: top;\n",
       "    }\n",
       "\n",
       "    .dataframe thead th {\n",
       "        text-align: right;\n",
       "    }\n",
       "</style>\n",
       "<table border=\"1\" class=\"dataframe\">\n",
       "  <thead>\n",
       "    <tr style=\"text-align: right;\">\n",
       "      <th></th>\n",
       "      <th>favorite</th>\n",
       "      <th>count</th>\n",
       "    </tr>\n",
       "  </thead>\n",
       "  <tbody>\n",
       "    <tr>\n",
       "      <th>0</th>\n",
       "      <td>Pourover</td>\n",
       "      <td>1084</td>\n",
       "    </tr>\n",
       "    <tr>\n",
       "      <th>1</th>\n",
       "      <td>Latte</td>\n",
       "      <td>680</td>\n",
       "    </tr>\n",
       "    <tr>\n",
       "      <th>2</th>\n",
       "      <td>Drip coffee</td>\n",
       "      <td>442</td>\n",
       "    </tr>\n",
       "    <tr>\n",
       "      <th>3</th>\n",
       "      <td>Cappuccino</td>\n",
       "      <td>341</td>\n",
       "    </tr>\n",
       "    <tr>\n",
       "      <th>4</th>\n",
       "      <td>Espresso</td>\n",
       "      <td>330</td>\n",
       "    </tr>\n",
       "    <tr>\n",
       "      <th>5</th>\n",
       "      <td>Cortado</td>\n",
       "      <td>312</td>\n",
       "    </tr>\n",
       "    <tr>\n",
       "      <th>6</th>\n",
       "      <td>Americano</td>\n",
       "      <td>249</td>\n",
       "    </tr>\n",
       "    <tr>\n",
       "      <th>7</th>\n",
       "      <td>Iced coffee</td>\n",
       "      <td>156</td>\n",
       "    </tr>\n",
       "    <tr>\n",
       "      <th>8</th>\n",
       "      <td>Mocha</td>\n",
       "      <td>118</td>\n",
       "    </tr>\n",
       "    <tr>\n",
       "      <th>10</th>\n",
       "      <td>Cold brew</td>\n",
       "      <td>109</td>\n",
       "    </tr>\n",
       "    <tr>\n",
       "      <th>11</th>\n",
       "      <td>Blended drink</td>\n",
       "      <td>45</td>\n",
       "    </tr>\n",
       "  </tbody>\n",
       "</table>\n",
       "</div>"
      ],
      "text/plain": [
       "         favorite  count\n",
       "0        Pourover   1084\n",
       "1           Latte    680\n",
       "2     Drip coffee    442\n",
       "3      Cappuccino    341\n",
       "4        Espresso    330\n",
       "5         Cortado    312\n",
       "6       Americano    249\n",
       "7     Iced coffee    156\n",
       "8           Mocha    118\n",
       "10      Cold brew    109\n",
       "11  Blended drink     45"
      ]
     },
     "execution_count": 10,
     "metadata": {},
     "output_type": "execute_result"
    }
   ],
   "source": [
    "fav_df = dfr['favorite'].value_counts().reset_index()\n",
    "\n",
    "fav_df = fav_df[fav_df.favorite != 'Other']\n",
    "\n",
    "fav_df['favorite'] = np.where(\n",
    "    fav_df['favorite'] == 'Regular drip coffee', \n",
    "    'Drip coffee',\n",
    "    np.where(\n",
    "        fav_df['favorite'] == 'Blended drink (e.g. Frappuccino)',\n",
    "        'Blended drink',\n",
    "        fav_df['favorite']))\n",
    "\n",
    "fav_df\n"
   ]
  },
  {
   "cell_type": "code",
   "execution_count": 20,
   "metadata": {},
   "outputs": [
    {
     "data": {
      "image/png": "[encoded data removed]",
      "text/plain": [
       "<Figure size 640x480 with 1 Axes>"
      ]
     },
     "metadata": {},
     "output_type": "display_data"
    }
   ],
   "source": [
    "ax = sns.barplot(x = 'count', y = 'favorite', color = \"#EBD188\", data = fav_df)\n",
    "ax.set_title(\n",
    "    'The Great American\\nCoffee Taste Test', \n",
    "    color = '#736849',\n",
    "    weight = 'bold',\n",
    "    size = 18)\n",
    "plt.show()"
   ]
  },
  {
   "cell_type": "code",
   "execution_count": null,
   "metadata": {},
   "outputs": [],
   "source": [
    "\"#736849\", \"#EBD188\""
   ]
  }
 ],
 "metadata": {
  "kernelspec": {
   "display_name": ".pvenv",
   "language": "python",
   "name": "python3"
  },
  "language_info": {
   "codemirror_mode": {
    "name": "ipython",
    "version": 3
   },
   "file_extension": ".py",
   "mimetype": "text/x-python",
   "name": "python",
   "nbconvert_exporter": "python",
   "pygments_lexer": "ipython3",
   "version": "3.11.4"
  }
 },
 "nbformat": 4,
 "nbformat_minor": 2
}
