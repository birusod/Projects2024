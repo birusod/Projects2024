{
 "cells": [
  {
   "cell_type": "markdown",
   "metadata": {},
   "source": [
    "#  <span style=\"color:seagreen\">WORLD'S FAIRS</span>\n",
    "<span style=\"color:crimson\">**2024 Tidytuesday  Week 33** </span>"
   ]
  },
  {
   "cell_type": "markdown",
   "metadata": {},
   "source": [
    "## Setup"
   ]
  },
  {
   "cell_type": "markdown",
   "metadata": {},
   "source": [
    "### Libraries"
   ]
  },
  {
   "cell_type": "code",
   "execution_count": 2,
   "metadata": {},
   "outputs": [],
   "source": [
    "import plotly.graph_objects as go\n",
    "import plotly.express as px\n",
    "import pandas as pd\n",
    "import numpy as np\n",
    "import math"
   ]
  },
  {
   "cell_type": "markdown",
   "metadata": {},
   "source": [
    "### Data"
   ]
  },
  {
   "cell_type": "code",
   "execution_count": 3,
   "metadata": {},
   "outputs": [
    {
     "data": {
      "text/plain": [
       "'/Users/birusod/Documents/DataScienceDocs/GitProjects/Projects2024/PyDocs/W33_WorldFairs'"
      ]
     },
     "execution_count": 3,
     "metadata": {},
     "output_type": "execute_result"
    }
   ],
   "source": [
    "pwd()"
   ]
  },
  {
   "cell_type": "code",
   "execution_count": 3,
   "metadata": {},
   "outputs": [],
   "source": [
    "tt = 'https://raw.githubusercontent.com/rfordatascience/tidytuesday/master/'\n",
    "dt = 'data/2024/2024-08-13/worlds_fairs.csv'\n",
    "dfr = pd.read_csv(tt + dt)"
   ]
  },
  {
   "cell_type": "markdown",
   "metadata": {},
   "source": [
    "## Data Wrangling"
   ]
  },
  {
   "cell_type": "code",
   "execution_count": 4,
   "metadata": {},
   "outputs": [
    {
     "data": {
      "text/html": [
       "<div>\n",
       "<style scoped>\n",
       "    .dataframe tbody tr th:only-of-type {\n",
       "        vertical-align: middle;\n",
       "    }\n",
       "\n",
       "    .dataframe tbody tr th {\n",
       "        vertical-align: top;\n",
       "    }\n",
       "\n",
       "    .dataframe thead th {\n",
       "        text-align: right;\n",
       "    }\n",
       "</style>\n",
       "<table border=\"1\" class=\"dataframe\">\n",
       "  <thead>\n",
       "    <tr style=\"text-align: right;\">\n",
       "      <th></th>\n",
       "      <th>start_month</th>\n",
       "      <th>start_year</th>\n",
       "      <th>end_month</th>\n",
       "      <th>end_year</th>\n",
       "      <th>name_of_exposition</th>\n",
       "      <th>country</th>\n",
       "      <th>city</th>\n",
       "      <th>category</th>\n",
       "      <th>theme</th>\n",
       "      <th>notables</th>\n",
       "      <th>visitors</th>\n",
       "      <th>cost</th>\n",
       "      <th>area</th>\n",
       "      <th>attending_countries</th>\n",
       "    </tr>\n",
       "  </thead>\n",
       "  <tbody>\n",
       "    <tr>\n",
       "      <th>0</th>\n",
       "      <td>4</td>\n",
       "      <td>1851</td>\n",
       "      <td>10</td>\n",
       "      <td>1851</td>\n",
       "      <td>The Great Exhibition</td>\n",
       "      <td>United Kingdom</td>\n",
       "      <td>London</td>\n",
       "      <td>World Expo</td>\n",
       "      <td>Industry of all Nations</td>\n",
       "      <td>The Crystal Palace</td>\n",
       "      <td>6.0</td>\n",
       "      <td>165.0</td>\n",
       "      <td>10.0</td>\n",
       "      <td>25.0</td>\n",
       "    </tr>\n",
       "    <tr>\n",
       "      <th>1</th>\n",
       "      <td>5</td>\n",
       "      <td>1855</td>\n",
       "      <td>11</td>\n",
       "      <td>1855</td>\n",
       "      <td>Exposition Universelle / Paris International</td>\n",
       "      <td>France</td>\n",
       "      <td>Paris</td>\n",
       "      <td>World Expo</td>\n",
       "      <td>Agriculture, Industry and Arts</td>\n",
       "      <td>Palais d'Industrie, Bordeaux Wine classification</td>\n",
       "      <td>5.0</td>\n",
       "      <td>2.0</td>\n",
       "      <td>15.0</td>\n",
       "      <td>25.0</td>\n",
       "    </tr>\n",
       "    <tr>\n",
       "      <th>2</th>\n",
       "      <td>5</td>\n",
       "      <td>1862</td>\n",
       "      <td>11</td>\n",
       "      <td>1862</td>\n",
       "      <td>International Exhibition</td>\n",
       "      <td>United Kingdom</td>\n",
       "      <td>London</td>\n",
       "      <td>World Expo</td>\n",
       "      <td>Industry and Arts</td>\n",
       "      <td>NaN</td>\n",
       "      <td>6.0</td>\n",
       "      <td>2.0</td>\n",
       "      <td>15.0</td>\n",
       "      <td>39.0</td>\n",
       "    </tr>\n",
       "    <tr>\n",
       "      <th>3</th>\n",
       "      <td>4</td>\n",
       "      <td>1867</td>\n",
       "      <td>11</td>\n",
       "      <td>1867</td>\n",
       "      <td>Exposition Universelle / Paris International</td>\n",
       "      <td>France</td>\n",
       "      <td>Paris</td>\n",
       "      <td>World Expo</td>\n",
       "      <td>Agriculture, Industry and Arts</td>\n",
       "      <td>Champ de Mars</td>\n",
       "      <td>15.0</td>\n",
       "      <td>45.0</td>\n",
       "      <td>69.0</td>\n",
       "      <td>42.0</td>\n",
       "    </tr>\n",
       "  </tbody>\n",
       "</table>\n",
       "</div>"
      ],
      "text/plain": [
       "   start_month  start_year  end_month  end_year  \\\n",
       "0            4        1851         10      1851   \n",
       "1            5        1855         11      1855   \n",
       "2            5        1862         11      1862   \n",
       "3            4        1867         11      1867   \n",
       "\n",
       "                             name_of_exposition         country    city  \\\n",
       "0                          The Great Exhibition  United Kingdom  London   \n",
       "1  Exposition Universelle / Paris International          France   Paris   \n",
       "2                      International Exhibition  United Kingdom  London   \n",
       "3  Exposition Universelle / Paris International          France   Paris   \n",
       "\n",
       "     category                           theme  \\\n",
       "0  World Expo         Industry of all Nations   \n",
       "1  World Expo  Agriculture, Industry and Arts   \n",
       "2  World Expo               Industry and Arts   \n",
       "3  World Expo  Agriculture, Industry and Arts   \n",
       "\n",
       "                                           notables  visitors   cost  area  \\\n",
       "0                                The Crystal Palace       6.0  165.0  10.0   \n",
       "1  Palais d'Industrie, Bordeaux Wine classification       5.0    2.0  15.0   \n",
       "2                                               NaN       6.0    2.0  15.0   \n",
       "3                                     Champ de Mars      15.0   45.0  69.0   \n",
       "\n",
       "   attending_countries  \n",
       "0                 25.0  \n",
       "1                 25.0  \n",
       "2                 39.0  \n",
       "3                 42.0  "
      ]
     },
     "execution_count": 4,
     "metadata": {},
     "output_type": "execute_result"
    }
   ],
   "source": [
    "dfr.head(4)"
   ]
  },
  {
   "cell_type": "code",
   "execution_count": 10,
   "metadata": {},
   "outputs": [
    {
     "name": "stdout",
     "output_type": "stream",
     "text": [
      "<class 'pandas.core.frame.DataFrame'>\n",
      "RangeIndex: 70 entries, 0 to 69\n",
      "Data columns (total 14 columns):\n",
      " #   Column               Non-Null Count  Dtype  \n",
      "---  ------               --------------  -----  \n",
      " 0   start_month          70 non-null     int64  \n",
      " 1   start_year           70 non-null     int64  \n",
      " 2   end_month            70 non-null     int64  \n",
      " 3   end_year             70 non-null     int64  \n",
      " 4   name_of_exposition   70 non-null     object \n",
      " 5   country              70 non-null     object \n",
      " 6   city                 70 non-null     object \n",
      " 7   category             70 non-null     object \n",
      " 8   theme                70 non-null     object \n",
      " 9   notables             59 non-null     object \n",
      " 10  visitors             56 non-null     float64\n",
      " 11  cost                 36 non-null     float64\n",
      " 12  area                 65 non-null     float64\n",
      " 13  attending_countries  65 non-null     float64\n",
      "dtypes: float64(4), int64(4), object(6)\n",
      "memory usage: 7.8+ KB\n"
     ]
    }
   ],
   "source": [
    "dfr.info()"
   ]
  },
  {
   "cell_type": "code",
   "execution_count": 5,
   "metadata": {},
   "outputs": [],
   "source": [
    "dd = dfr.loc[:, ['start_year', 'name_of_exposition', 'country', 'city', 'category', 'theme', 'visitors', 'cost']]"
   ]
  },
  {
   "cell_type": "code",
   "execution_count": 6,
   "metadata": {},
   "outputs": [],
   "source": [
    "dd.rename(\n",
    "    columns={'start_year' : 'year',\n",
    "             'name_of_exposition':'name'},\n",
    "    inplace=True\n",
    ")"
   ]
  },
  {
   "cell_type": "code",
   "execution_count": 32,
   "metadata": {},
   "outputs": [
    {
     "data": {
      "text/html": [
       "<div>\n",
       "<style scoped>\n",
       "    .dataframe tbody tr th:only-of-type {\n",
       "        vertical-align: middle;\n",
       "    }\n",
       "\n",
       "    .dataframe tbody tr th {\n",
       "        vertical-align: top;\n",
       "    }\n",
       "\n",
       "    .dataframe thead th {\n",
       "        text-align: right;\n",
       "    }\n",
       "</style>\n",
       "<table border=\"1\" class=\"dataframe\">\n",
       "  <thead>\n",
       "    <tr style=\"text-align: right;\">\n",
       "      <th></th>\n",
       "      <th>year</th>\n",
       "      <th>name</th>\n",
       "      <th>country</th>\n",
       "      <th>city</th>\n",
       "      <th>category</th>\n",
       "      <th>theme</th>\n",
       "      <th>visitors</th>\n",
       "      <th>cost</th>\n",
       "    </tr>\n",
       "  </thead>\n",
       "  <tbody>\n",
       "    <tr>\n",
       "      <th>0</th>\n",
       "      <td>1851</td>\n",
       "      <td>The Great Exhibition</td>\n",
       "      <td>United Kingdom</td>\n",
       "      <td>London</td>\n",
       "      <td>World Expo</td>\n",
       "      <td>Industry of all Nations</td>\n",
       "      <td>6.0</td>\n",
       "      <td>165.0</td>\n",
       "    </tr>\n",
       "    <tr>\n",
       "      <th>1</th>\n",
       "      <td>1855</td>\n",
       "      <td>Exposition Universelle / Paris International</td>\n",
       "      <td>France</td>\n",
       "      <td>Paris</td>\n",
       "      <td>World Expo</td>\n",
       "      <td>Agriculture, Industry and Arts</td>\n",
       "      <td>5.0</td>\n",
       "      <td>2.0</td>\n",
       "    </tr>\n",
       "    <tr>\n",
       "      <th>2</th>\n",
       "      <td>1862</td>\n",
       "      <td>International Exhibition</td>\n",
       "      <td>United Kingdom</td>\n",
       "      <td>London</td>\n",
       "      <td>World Expo</td>\n",
       "      <td>Industry and Arts</td>\n",
       "      <td>6.0</td>\n",
       "      <td>2.0</td>\n",
       "    </tr>\n",
       "  </tbody>\n",
       "</table>\n",
       "</div>"
      ],
      "text/plain": [
       "   year                                          name         country    city  \\\n",
       "0  1851                          The Great Exhibition  United Kingdom  London   \n",
       "1  1855  Exposition Universelle / Paris International          France   Paris   \n",
       "2  1862                      International Exhibition  United Kingdom  London   \n",
       "\n",
       "     category                           theme  visitors   cost  \n",
       "0  World Expo         Industry of all Nations       6.0  165.0  \n",
       "1  World Expo  Agriculture, Industry and Arts       5.0    2.0  \n",
       "2  World Expo               Industry and Arts       6.0    2.0  "
      ]
     },
     "execution_count": 32,
     "metadata": {},
     "output_type": "execute_result"
    }
   ],
   "source": [
    "dd.head(3)"
   ]
  },
  {
   "cell_type": "code",
   "execution_count": 38,
   "metadata": {},
   "outputs": [
    {
     "data": {
      "text/plain": [
       "country\n",
       "United States                 11\n",
       "France                         9\n",
       "Italy                          8\n",
       "Belgium                        7\n",
       "Spain                          4\n",
       "Japan                          4\n",
       "Bulgaria                       3\n",
       "Sweden                         3\n",
       "United Kingdom                 2\n",
       "South Korea                    2\n",
       "Canada                         2\n",
       "West Germany                   2\n",
       "Israel                         2\n",
       "Haiti                          1\n",
       "Finland                        1\n",
       "Hungary                        1\n",
       "Colony of Victoria             1\n",
       "Australia                      1\n",
       "Austria-Hungary                1\n",
       "Portugal                       1\n",
       "Germany                        1\n",
       "People's Republic of China     1\n",
       "Kazakhstan                     1\n",
       "United Arab Emirates           1\n",
       "Name: count, dtype: int64"
      ]
     },
     "execution_count": 38,
     "metadata": {},
     "output_type": "execute_result"
    }
   ],
   "source": [
    "dd['country'].value_counts()"
   ]
  },
  {
   "cell_type": "code",
   "execution_count": 7,
   "metadata": {},
   "outputs": [
    {
     "data": {
      "text/plain": [
       "country\n",
       "United States           11\n",
       "France                   9\n",
       "Italy                    8\n",
       "Belgium                  7\n",
       "Spain                    4\n",
       "Japan                    4\n",
       "Germany                  3\n",
       "Bulgaria                 3\n",
       "Sweden                   3\n",
       "United Kingdom           2\n",
       "South Korea              2\n",
       "Canada                   2\n",
       "Israel                   2\n",
       "Australia                2\n",
       "Haiti                    1\n",
       "Finland                  1\n",
       "Hungary                  1\n",
       "Austria                  1\n",
       "Portugal                 1\n",
       "China                    1\n",
       "Kazakhstan               1\n",
       "United Arab Emirates     1\n",
       "Name: count, dtype: int64"
      ]
     },
     "execution_count": 7,
     "metadata": {},
     "output_type": "execute_result"
    }
   ],
   "source": [
    "dd['country'] = dd['country'].str.replace(\"West Germany\", \"Germany\", regex=False)\n",
    "dd['country'] = dd['country'].str.replace(\"People's Republic of China\", \"China\", regex=False)\n",
    "dd['country'] = dd['country'].str.replace(\"Austria-Hungary\", \"Austria\", regex=False)\n",
    "dd['country'] = dd['country'].str.replace(\"Colony of Victoria\", \"Australia\", regex=False)\n",
    "\n",
    "dd['country'].value_counts()"
   ]
  },
  {
   "cell_type": "code",
   "execution_count": 8,
   "metadata": {},
   "outputs": [
    {
     "data": {
      "text/html": [
       "<div>\n",
       "<style scoped>\n",
       "    .dataframe tbody tr th:only-of-type {\n",
       "        vertical-align: middle;\n",
       "    }\n",
       "\n",
       "    .dataframe tbody tr th {\n",
       "        vertical-align: top;\n",
       "    }\n",
       "\n",
       "    .dataframe thead th {\n",
       "        text-align: right;\n",
       "    }\n",
       "</style>\n",
       "<table border=\"1\" class=\"dataframe\">\n",
       "  <thead>\n",
       "    <tr style=\"text-align: right;\">\n",
       "      <th></th>\n",
       "      <th>country</th>\n",
       "      <th>continent</th>\n",
       "    </tr>\n",
       "  </thead>\n",
       "  <tbody>\n",
       "    <tr>\n",
       "      <th>0</th>\n",
       "      <td>Afghanistan</td>\n",
       "      <td>Asia</td>\n",
       "    </tr>\n",
       "    <tr>\n",
       "      <th>12</th>\n",
       "      <td>Albania</td>\n",
       "      <td>Europe</td>\n",
       "    </tr>\n",
       "    <tr>\n",
       "      <th>24</th>\n",
       "      <td>Algeria</td>\n",
       "      <td>Africa</td>\n",
       "    </tr>\n",
       "    <tr>\n",
       "      <th>36</th>\n",
       "      <td>Angola</td>\n",
       "      <td>Africa</td>\n",
       "    </tr>\n",
       "    <tr>\n",
       "      <th>48</th>\n",
       "      <td>Argentina</td>\n",
       "      <td>Americas</td>\n",
       "    </tr>\n",
       "    <tr>\n",
       "      <th>...</th>\n",
       "      <td>...</td>\n",
       "      <td>...</td>\n",
       "    </tr>\n",
       "    <tr>\n",
       "      <th>1644</th>\n",
       "      <td>Vietnam</td>\n",
       "      <td>Asia</td>\n",
       "    </tr>\n",
       "    <tr>\n",
       "      <th>1656</th>\n",
       "      <td>West Bank and Gaza</td>\n",
       "      <td>Asia</td>\n",
       "    </tr>\n",
       "    <tr>\n",
       "      <th>1668</th>\n",
       "      <td>Yemen, Rep.</td>\n",
       "      <td>Asia</td>\n",
       "    </tr>\n",
       "    <tr>\n",
       "      <th>1680</th>\n",
       "      <td>Zambia</td>\n",
       "      <td>Africa</td>\n",
       "    </tr>\n",
       "    <tr>\n",
       "      <th>1692</th>\n",
       "      <td>Zimbabwe</td>\n",
       "      <td>Africa</td>\n",
       "    </tr>\n",
       "  </tbody>\n",
       "</table>\n",
       "<p>142 rows × 2 columns</p>\n",
       "</div>"
      ],
      "text/plain": [
       "                 country continent\n",
       "0            Afghanistan      Asia\n",
       "12               Albania    Europe\n",
       "24               Algeria    Africa\n",
       "36                Angola    Africa\n",
       "48             Argentina  Americas\n",
       "...                  ...       ...\n",
       "1644             Vietnam      Asia\n",
       "1656  West Bank and Gaza      Asia\n",
       "1668         Yemen, Rep.      Asia\n",
       "1680              Zambia    Africa\n",
       "1692            Zimbabwe    Africa\n",
       "\n",
       "[142 rows x 2 columns]"
      ]
     },
     "execution_count": 8,
     "metadata": {},
     "output_type": "execute_result"
    }
   ],
   "source": [
    "data = px.data.gapminder()\n",
    "continent_df = data.loc[:, ['country', 'continent']]\n",
    "dc = continent_df.drop_duplicates()\n",
    "dc"
   ]
  },
  {
   "cell_type": "markdown",
   "metadata": {},
   "source": [
    "#### Merging dd and dc"
   ]
  },
  {
   "cell_type": "code",
   "execution_count": 9,
   "metadata": {},
   "outputs": [
    {
     "data": {
      "text/html": [
       "<div>\n",
       "<style scoped>\n",
       "    .dataframe tbody tr th:only-of-type {\n",
       "        vertical-align: middle;\n",
       "    }\n",
       "\n",
       "    .dataframe tbody tr th {\n",
       "        vertical-align: top;\n",
       "    }\n",
       "\n",
       "    .dataframe thead th {\n",
       "        text-align: right;\n",
       "    }\n",
       "</style>\n",
       "<table border=\"1\" class=\"dataframe\">\n",
       "  <thead>\n",
       "    <tr style=\"text-align: right;\">\n",
       "      <th></th>\n",
       "      <th>year</th>\n",
       "      <th>name</th>\n",
       "      <th>country</th>\n",
       "      <th>city</th>\n",
       "      <th>category</th>\n",
       "      <th>theme</th>\n",
       "      <th>visitors</th>\n",
       "      <th>cost</th>\n",
       "      <th>continent</th>\n",
       "    </tr>\n",
       "  </thead>\n",
       "  <tbody>\n",
       "    <tr>\n",
       "      <th>60</th>\n",
       "      <td>1993</td>\n",
       "      <td>Expo '93</td>\n",
       "      <td>South Korea</td>\n",
       "      <td>Daejeon</td>\n",
       "      <td>Specialised Expo</td>\n",
       "      <td>The Challenge of a New Road of Development</td>\n",
       "      <td>14.500</td>\n",
       "      <td>NaN</td>\n",
       "      <td>NaN</td>\n",
       "    </tr>\n",
       "    <tr>\n",
       "      <th>66</th>\n",
       "      <td>2012</td>\n",
       "      <td>Expo 2012</td>\n",
       "      <td>South Korea</td>\n",
       "      <td>Yeosu</td>\n",
       "      <td>Specialised Expo</td>\n",
       "      <td>The Living Ocean and Coast</td>\n",
       "      <td>8.200</td>\n",
       "      <td>1769.0</td>\n",
       "      <td>NaN</td>\n",
       "    </tr>\n",
       "    <tr>\n",
       "      <th>68</th>\n",
       "      <td>2017</td>\n",
       "      <td>Expo 2017</td>\n",
       "      <td>Kazakhstan</td>\n",
       "      <td>Astana</td>\n",
       "      <td>Specialised Expo</td>\n",
       "      <td>Future Energy</td>\n",
       "      <td>4.100</td>\n",
       "      <td>NaN</td>\n",
       "      <td>NaN</td>\n",
       "    </tr>\n",
       "    <tr>\n",
       "      <th>69</th>\n",
       "      <td>2021</td>\n",
       "      <td>Expo 2020</td>\n",
       "      <td>United Arab Emirates</td>\n",
       "      <td>Dubai</td>\n",
       "      <td>World Expo</td>\n",
       "      <td>Connecting Minds, Creating the Future</td>\n",
       "      <td>24.103</td>\n",
       "      <td>NaN</td>\n",
       "      <td>NaN</td>\n",
       "    </tr>\n",
       "  </tbody>\n",
       "</table>\n",
       "</div>"
      ],
      "text/plain": [
       "    year       name               country     city          category  \\\n",
       "60  1993   Expo '93           South Korea  Daejeon  Specialised Expo   \n",
       "66  2012  Expo 2012           South Korea    Yeosu  Specialised Expo   \n",
       "68  2017  Expo 2017            Kazakhstan   Astana  Specialised Expo   \n",
       "69  2021  Expo 2020  United Arab Emirates    Dubai        World Expo   \n",
       "\n",
       "                                         theme  visitors    cost continent  \n",
       "60  The Challenge of a New Road of Development    14.500     NaN       NaN  \n",
       "66                  The Living Ocean and Coast     8.200  1769.0       NaN  \n",
       "68                               Future Energy     4.100     NaN       NaN  \n",
       "69       Connecting Minds, Creating the Future    24.103     NaN       NaN  "
      ]
     },
     "execution_count": 9,
     "metadata": {},
     "output_type": "execute_result"
    }
   ],
   "source": [
    "fd = dd.merge(dc, how='left', on = 'country')\n",
    "fd[fd.continent.isnull()]"
   ]
  },
  {
   "cell_type": "code",
   "execution_count": 10,
   "metadata": {},
   "outputs": [],
   "source": [
    "fd['continent'] = np.where(\n",
    "    fd.country == 'South Korea', 'Asia',\n",
    "    np.where(\n",
    "        fd.country == 'Kazakhstan', 'Asia',\n",
    "        np.where(\n",
    "            fd.country == 'Kazakhstan', 'Asia',\n",
    "            np.where(fd.country == 'United Arab Emirates', 'Asia', fd.continent)\n",
    "        )\n",
    "    )\n",
    ")"
   ]
  },
  {
   "cell_type": "code",
   "execution_count": 62,
   "metadata": {},
   "outputs": [
    {
     "data": {
      "text/html": [
       "<div>\n",
       "<style scoped>\n",
       "    .dataframe tbody tr th:only-of-type {\n",
       "        vertical-align: middle;\n",
       "    }\n",
       "\n",
       "    .dataframe tbody tr th {\n",
       "        vertical-align: top;\n",
       "    }\n",
       "\n",
       "    .dataframe thead th {\n",
       "        text-align: right;\n",
       "    }\n",
       "</style>\n",
       "<table border=\"1\" class=\"dataframe\">\n",
       "  <thead>\n",
       "    <tr style=\"text-align: right;\">\n",
       "      <th></th>\n",
       "      <th>year</th>\n",
       "      <th>name</th>\n",
       "      <th>country</th>\n",
       "      <th>city</th>\n",
       "      <th>category</th>\n",
       "      <th>theme</th>\n",
       "      <th>visitors</th>\n",
       "      <th>cost</th>\n",
       "      <th>continent</th>\n",
       "    </tr>\n",
       "  </thead>\n",
       "  <tbody>\n",
       "  </tbody>\n",
       "</table>\n",
       "</div>"
      ],
      "text/plain": [
       "Empty DataFrame\n",
       "Columns: [year, name, country, city, category, theme, visitors, cost, continent]\n",
       "Index: []"
      ]
     },
     "execution_count": 62,
     "metadata": {},
     "output_type": "execute_result"
    }
   ],
   "source": [
    "fd[fd.continent.isnull()]"
   ]
  },
  {
   "cell_type": "code",
   "execution_count": 74,
   "metadata": {},
   "outputs": [
    {
     "data": {
      "text/html": [
       "<div>\n",
       "<style scoped>\n",
       "    .dataframe tbody tr th:only-of-type {\n",
       "        vertical-align: middle;\n",
       "    }\n",
       "\n",
       "    .dataframe tbody tr th {\n",
       "        vertical-align: top;\n",
       "    }\n",
       "\n",
       "    .dataframe thead th {\n",
       "        text-align: right;\n",
       "    }\n",
       "</style>\n",
       "<table border=\"1\" class=\"dataframe\">\n",
       "  <thead>\n",
       "    <tr style=\"text-align: right;\">\n",
       "      <th></th>\n",
       "      <th>year</th>\n",
       "      <th>name</th>\n",
       "      <th>country</th>\n",
       "      <th>city</th>\n",
       "      <th>category</th>\n",
       "      <th>theme</th>\n",
       "      <th>visitors</th>\n",
       "      <th>cost</th>\n",
       "      <th>continent</th>\n",
       "    </tr>\n",
       "  </thead>\n",
       "  <tbody>\n",
       "    <tr>\n",
       "      <th>67</th>\n",
       "      <td>2015</td>\n",
       "      <td>Expo 2015</td>\n",
       "      <td>Italy</td>\n",
       "      <td>Milan</td>\n",
       "      <td>World Expo</td>\n",
       "      <td>Feeding the planet, Energy for life</td>\n",
       "      <td>21.500</td>\n",
       "      <td>NaN</td>\n",
       "      <td>Europe</td>\n",
       "    </tr>\n",
       "    <tr>\n",
       "      <th>68</th>\n",
       "      <td>2017</td>\n",
       "      <td>Expo 2017</td>\n",
       "      <td>Kazakhstan</td>\n",
       "      <td>Astana</td>\n",
       "      <td>Specialised Expo</td>\n",
       "      <td>Future Energy</td>\n",
       "      <td>4.100</td>\n",
       "      <td>NaN</td>\n",
       "      <td>Asia</td>\n",
       "    </tr>\n",
       "    <tr>\n",
       "      <th>69</th>\n",
       "      <td>2021</td>\n",
       "      <td>Expo 2020</td>\n",
       "      <td>United Arab Emirates</td>\n",
       "      <td>Dubai</td>\n",
       "      <td>World Expo</td>\n",
       "      <td>Connecting Minds, Creating the Future</td>\n",
       "      <td>24.103</td>\n",
       "      <td>NaN</td>\n",
       "      <td>Asia</td>\n",
       "    </tr>\n",
       "  </tbody>\n",
       "</table>\n",
       "</div>"
      ],
      "text/plain": [
       "    year       name               country    city          category  \\\n",
       "67  2015  Expo 2015                 Italy   Milan        World Expo   \n",
       "68  2017  Expo 2017            Kazakhstan  Astana  Specialised Expo   \n",
       "69  2021  Expo 2020  United Arab Emirates   Dubai        World Expo   \n",
       "\n",
       "                                    theme  visitors  cost continent  \n",
       "67    Feeding the planet, Energy for life    21.500   NaN    Europe  \n",
       "68                          Future Energy     4.100   NaN      Asia  \n",
       "69  Connecting Minds, Creating the Future    24.103   NaN      Asia  "
      ]
     },
     "execution_count": 74,
     "metadata": {},
     "output_type": "execute_result"
    }
   ],
   "source": [
    "fd.tail(3)"
   ]
  },
  {
   "cell_type": "markdown",
   "metadata": {},
   "source": [
    "## Data Viz"
   ]
  },
  {
   "cell_type": "code",
   "execution_count": 66,
   "metadata": {},
   "outputs": [
    {
     "name": "stdout",
     "output_type": "stream",
     "text": [
      "<class 'pandas.core.frame.DataFrame'>\n",
      "RangeIndex: 70 entries, 0 to 69\n",
      "Data columns (total 9 columns):\n",
      " #   Column     Non-Null Count  Dtype  \n",
      "---  ------     --------------  -----  \n",
      " 0   year       70 non-null     int64  \n",
      " 1   name       70 non-null     object \n",
      " 2   country    70 non-null     object \n",
      " 3   city       70 non-null     object \n",
      " 4   category   70 non-null     object \n",
      " 5   theme      70 non-null     object \n",
      " 6   visitors   56 non-null     float64\n",
      " 7   cost       36 non-null     float64\n",
      " 8   continent  70 non-null     object \n",
      "dtypes: float64(2), int64(1), object(6)\n",
      "memory usage: 5.1+ KB\n"
     ]
    }
   ],
   "source": [
    "fd.info()"
   ]
  },
  {
   "cell_type": "code",
   "execution_count": 11,
   "metadata": {},
   "outputs": [
    {
     "name": "stdout",
     "output_type": "stream",
     "text": [
      "<class 'pandas.core.frame.DataFrame'>\n",
      "Index: 56 entries, 0 to 69\n",
      "Data columns (total 9 columns):\n",
      " #   Column     Non-Null Count  Dtype  \n",
      "---  ------     --------------  -----  \n",
      " 0   year       56 non-null     int64  \n",
      " 1   name       56 non-null     object \n",
      " 2   country    56 non-null     object \n",
      " 3   city       56 non-null     object \n",
      " 4   category   56 non-null     object \n",
      " 5   theme      56 non-null     object \n",
      " 6   visitors   56 non-null     float64\n",
      " 7   cost       36 non-null     float64\n",
      " 8   continent  56 non-null     object \n",
      "dtypes: float64(2), int64(1), object(6)\n",
      "memory usage: 4.4+ KB\n"
     ]
    }
   ],
   "source": [
    "fdf = fd[-fd['visitors'].isna()]\n",
    "fdf.info()"
   ]
  },
  {
   "cell_type": "code",
   "execution_count": 51,
   "metadata": {},
   "outputs": [
    {
     "data": {
      "application/vnd.plotly.v1+json": {
       "config": {
        "plotlyServerURL": "https://plot.ly"
       },
       "data": [
        {
         "customdata": [
          [
           "The Great Exhibition",
           "United Kingdom",
           "London",
           "Industry of all Nations"
          ],
          [
           "Exposition Universelle / Paris International",
           "France",
           "Paris",
           "Agriculture, Industry and Arts"
          ],
          [
           "International Exhibition",
           "United Kingdom",
           "London",
           "Industry and Arts"
          ],
          [
           "Exposition Universelle / Paris International",
           "France",
           "Paris",
           "Agriculture, Industry and Arts"
          ],
          [
           "Weltausstellung 1873 Wien / Austrian International Exposition",
           "Austria",
           "Vienna",
           "Culture and Education"
          ],
          [
           "Exposition Universelle / Paris International Exposition",
           "France",
           "Paris",
           "New Technologies"
          ],
          [
           "Exposición Universal de Barcelona (1888)",
           "Spain",
           "Barcelona",
           "Fine and Industrial Art"
          ],
          [
           "Exposition Universelle / Paris International Exposition",
           "France",
           "Paris",
           "French Revolution"
          ],
          [
           "Brussels International Exposition",
           "Belgium",
           "Brussels",
           "Modern Life"
          ],
          [
           "Paris International",
           "France",
           "Paris",
           "19th Century: an overview"
          ],
          [
           "Liège International (1905)",
           "Belgium",
           "Liège",
           "Commemoration of the 75th anniversary of independence"
          ],
          [
           "Milan International",
           "Italy",
           "Milan",
           "Transport"
          ],
          [
           "Brussels International Exhibition",
           "Belgium",
           "Brussels",
           "Works of Art and Science, Agricultural and Industrial Products of All Nations"
          ],
          [
           "Esposizione internazionale dell'industria e del lavoro",
           "Italy",
           "Turin",
           "Exposition of Industry and Labor"
          ],
          [
           "Exposition universelle et international / Ghent International Exposition",
           "Belgium",
           "Ghent",
           "Peace, Industry and Arts"
          ],
          [
           "Barcelona International Exposition",
           "Spain",
           "Barcelona",
           "Arts, Industry and Sport"
          ],
          [
           "Brussels International Exposition",
           "Belgium",
           "Brussels",
           "Transports"
          ],
          [
           "Exposition Internationale des Arts et Techniques dans la Vie Moderne / Paris International Exposition",
           "France",
           "Paris",
           "Arts and Technology in modern life"
          ],
          [
           "The International Textile Exhibition",
           "France",
           "Lille",
           "Textile"
          ],
          [
           "EA 53",
           "Italy",
           "Rome",
           "Agriculture"
          ],
          [
           "Interbau",
           "Germany",
           "West Berlin",
           "Reconstruction of Hansa District"
          ],
          [
           "Brussels World's Fair",
           "Belgium",
           "Brussels",
           "A World View: A New Humanism"
          ],
          [
           "Expo 61",
           "Italy",
           "Turin",
           "Celebration of centennial of Italian unity"
          ],
          [
           "IVA 65",
           "Germany",
           "Munich",
           "Transport"
          ],
          [
           "Expo 71",
           "Hungary",
           "Budapest",
           "The Hunt through the World"
          ],
          [
           "Expo 85 (Plovdiv, Bulgaria)",
           "Bulgaria",
           "Plovdiv",
           "Inventions"
          ],
          [
           "Expo '92",
           "Spain",
           "Seville",
           "The Era of Discovery"
          ],
          [
           "Expo Colombo '92",
           "Italy",
           "Genoa",
           "Christopher Columbus, The Ship and the Sea"
          ],
          [
           "Expo '98",
           "Portugal",
           "Lisbon",
           "The Oceans: A Heritage for the Future"
          ],
          [
           "Expo 2000",
           "Germany",
           "Hanover",
           "Man, Nature, Technology"
          ],
          [
           "Expo 2008",
           "Spain",
           "Zaragoza",
           "Water and Sustainable development"
          ],
          [
           "Expo 2015",
           "Italy",
           "Milan",
           "Feeding the planet, Energy for life"
          ]
         ],
         "hovertemplate": "<b>%{customdata[0]}</b><br>Theme: %{customdata[3]}<br><br>Country: %{customdata[1]}<br>City: %{customdata[2]}<br><br>Year: %{x}<br>Visitors: %{y:.0f} Millions<br><extra></extra>",
         "legendgroup": "Europe",
         "marker": {
          "color": "#636efa",
          "size": [
           6,
           5,
           6,
           15,
           7.25,
           16,
           2.3,
           32,
           7.8,
           50.8,
           7,
           10,
           13,
           7,
           9.5,
           5.8,
           20,
           31,
           1.5,
           1.7,
           1,
           41,
           5,
           3.2,
           1.9,
           1,
           41.8,
           0.8,
           10.1,
           18.1,
           5.65,
           21.5
          ],
          "sizemode": "area",
          "sizeref": 0.1,
          "symbol": "circle"
         },
         "mode": "markers",
         "name": "Europe",
         "orientation": "v",
         "showlegend": true,
         "type": "scatter",
         "x": [
          1851,
          1855,
          1862,
          1867,
          1873,
          1878,
          1888,
          1889,
          1897,
          1900,
          1905,
          1906,
          1910,
          1911,
          1913,
          1929,
          1935,
          1937,
          1951,
          1953,
          1957,
          1958,
          1961,
          1965,
          1971,
          1985,
          1992,
          1992,
          1998,
          2000,
          2008,
          2015
         ],
         "xaxis": "x",
         "y": [
          6,
          5,
          6,
          15,
          7.25,
          16,
          2.3,
          32,
          7.8,
          50.8,
          7,
          10,
          13,
          7,
          9.5,
          5.8,
          20,
          31,
          1.5,
          1.7,
          1,
          41,
          5,
          3.2,
          1.9,
          1,
          41.8,
          0.8,
          10.1,
          18.1,
          5.65,
          21.5
         ],
         "yaxis": "y"
        },
        {
         "customdata": [
          [
           "Centennial Exposition",
           "United States",
           "Philadelphia",
           "Arts, Manufactures and Products of the Soil and Mine"
          ],
          [
           "World's Columbian Exposition",
           "United States",
           "Chicago",
           "Discovery of America"
          ],
          [
           "Louisiana Purchase",
           "United States",
           "St. Louis",
           "Louisiana Purchase"
          ],
          [
           "Panama–Pacific International Exposition",
           "United States",
           "San Francisco",
           "Inauguration of the Panama Canal"
          ],
          [
           "Century of Progress",
           "United States",
           "Chicago",
           "The interdependence among Industry and scientific research"
          ],
          [
           "New York World's Fair",
           "United States",
           "New York City",
           "Building The World of Tomorrow"
          ],
          [
           "Century 21 Exposition",
           "United States",
           "Seattle",
           "Man in the Space Age"
          ],
          [
           "Expo '67",
           "Canada",
           "Montreal",
           "Man and His World"
          ],
          [
           "HemisFair '68",
           "United States",
           "San Antonio",
           "Confluence of Civilizations in the Americas"
          ],
          [
           "Expo '74",
           "United States",
           "Spokane",
           "Celebrating Tomorrow's Fresh New Environment"
          ],
          [
           "1982 World's Fair",
           "United States",
           "Knoxville",
           "Energy Turns the World"
          ],
          [
           "1984 World's Fair",
           "United States",
           "New Orleans",
           "The World of Rivers– Fresh Water as a source of life"
          ],
          [
           "Expo '86",
           "Canada",
           "Vancouver",
           "Transportation and Communication: World in Motion - World in Touch"
          ]
         ],
         "hovertemplate": "<b>%{customdata[0]}</b><br>Theme: %{customdata[3]}<br><br>Country: %{customdata[1]}<br>City: %{customdata[2]}<br><br>Year: %{x}<br>Visitors: %{y:.0f} Millions<br><extra></extra>",
         "legendgroup": "Americas",
         "marker": {
          "color": "#EF553B",
          "size": [
           10,
           27.5,
           19.69,
           19,
           38.8,
           45,
           9.6,
           50.3,
           6.4,
           5.6,
           11,
           7.35,
           22.11
          ],
          "sizemode": "area",
          "sizeref": 0.1,
          "symbol": "circle"
         },
         "mode": "markers",
         "name": "Americas",
         "orientation": "v",
         "showlegend": true,
         "type": "scatter",
         "x": [
          1876,
          1893,
          1904,
          1915,
          1933,
          1939,
          1962,
          1967,
          1968,
          1974,
          1982,
          1984,
          1986
         ],
         "xaxis": "x",
         "y": [
          10,
          27.5,
          19.69,
          19,
          38.8,
          45,
          9.6,
          50.3,
          6.4,
          5.6,
          11,
          7.35,
          22.11
         ],
         "yaxis": "y"
        },
        {
         "customdata": [
          [
           "Melbourne International Exhibition",
           "Australia",
           "Melbourne",
           "Arts, Manufacturing, Agriculture and Industrial Products of all Nations"
          ],
          [
           "Expo '88",
           "Australia",
           "Brisbane",
           "Leisure in the Age of Technology"
          ]
         ],
         "hovertemplate": "<b>%{customdata[0]}</b><br>Theme: %{customdata[3]}<br><br>Country: %{customdata[1]}<br>City: %{customdata[2]}<br><br>Year: %{x}<br>Visitors: %{y:.0f} Millions<br><extra></extra>",
         "legendgroup": "Oceania",
         "marker": {
          "color": "#00cc96",
          "size": [
           1.3,
           18.5
          ],
          "sizemode": "area",
          "sizeref": 0.1,
          "symbol": "circle"
         },
         "mode": "markers",
         "name": "Oceania",
         "orientation": "v",
         "showlegend": true,
         "type": "scatter",
         "x": [
          1880,
          1988
         ],
         "xaxis": "x",
         "y": [
          1.3,
          18.5
         ],
         "yaxis": "y"
        },
        {
         "customdata": [
          [
           "Expo '70",
           "Japan",
           "Osaka",
           "Progress and Harmony for Mankind"
          ],
          [
           "Expo '75",
           "Japan",
           "Okinawa",
           "The Sea We would like to See"
          ],
          [
           "Expo 85 (Tsukuba, Japan)",
           "Japan",
           "Tsukuba",
           "Dwellings and Surroundings – Science and Technology for Man at Home"
          ],
          [
           "Expo '93",
           "South Korea",
           "Daejeon",
           "The Challenge of a New Road of Development"
          ],
          [
           "Expo 2005",
           "Japan",
           "Aichi",
           "Nature's Wisdom"
          ],
          [
           "Expo 2010",
           "China",
           "Shanghai",
           "Better City, Better Life"
          ],
          [
           "Expo 2012",
           "South Korea",
           "Yeosu",
           "The Living Ocean and Coast"
          ],
          [
           "Expo 2017",
           "Kazakhstan",
           "Astana",
           "Future Energy"
          ],
          [
           "Expo 2020",
           "United Arab Emirates",
           "Dubai",
           "Connecting Minds, Creating the Future"
          ]
         ],
         "hovertemplate": "<b>%{customdata[0]}</b><br>Theme: %{customdata[3]}<br><br>Country: %{customdata[1]}<br>City: %{customdata[2]}<br><br>Year: %{x}<br>Visitors: %{y:.0f} Millions<br><extra></extra>",
         "legendgroup": "Asia",
         "marker": {
          "color": "#ab63fa",
          "size": [
           64.2,
           3.48,
           20.3,
           14.5,
           22.04,
           73.08,
           8.2,
           4.1,
           24.103
          ],
          "sizemode": "area",
          "sizeref": 0.1,
          "symbol": "circle"
         },
         "mode": "markers",
         "name": "Asia",
         "orientation": "v",
         "showlegend": true,
         "type": "scatter",
         "x": [
          1970,
          1975,
          1985,
          1993,
          2005,
          2010,
          2012,
          2017,
          2021
         ],
         "xaxis": "x",
         "y": [
          64.2,
          3.48,
          20.3,
          14.5,
          22.04,
          73.08,
          8.2,
          4.1,
          24.103
         ],
         "yaxis": "y"
        }
       ],
       "layout": {
        "annotations": [
         {
          "align": "left",
          "font": {
           "size": 14
          },
          "showarrow": false,
          "text": "<sup><span style='color:grey'>A world's fair, also known as a universal exhibition or an expo, is a large global exhibition designed to showcase the achievements of nations. <br>These exhibitions vary in character and are held in different parts of the world at a specific site for a period of time, typically between three and six months.<span><sup><br>",
          "x": -0.02,
          "xref": "paper",
          "y": 1.15,
          "yref": "paper"
         }
        ],
        "legend": {
         "itemsizing": "constant",
         "title": {
          "text": "CONTINENT"
         },
         "tracegroupgap": 0
        },
        "template": {
         "data": {
          "bar": [
           {
            "error_x": {
             "color": "#f2f5fa"
            },
            "error_y": {
             "color": "#f2f5fa"
            },
            "marker": {
             "line": {
              "color": "rgb(17,17,17)",
              "width": 0.5
             },
             "pattern": {
              "fillmode": "overlay",
              "size": 10,
              "solidity": 0.2
             }
            },
            "type": "bar"
           }
          ],
          "barpolar": [
           {
            "marker": {
             "line": {
              "color": "rgb(17,17,17)",
              "width": 0.5
             },
             "pattern": {
              "fillmode": "overlay",
              "size": 10,
              "solidity": 0.2
             }
            },
            "type": "barpolar"
           }
          ],
          "carpet": [
           {
            "aaxis": {
             "endlinecolor": "#A2B1C6",
             "gridcolor": "#506784",
             "linecolor": "#506784",
             "minorgridcolor": "#506784",
             "startlinecolor": "#A2B1C6"
            },
            "baxis": {
             "endlinecolor": "#A2B1C6",
             "gridcolor": "#506784",
             "linecolor": "#506784",
             "minorgridcolor": "#506784",
             "startlinecolor": "#A2B1C6"
            },
            "type": "carpet"
           }
          ],
          "choropleth": [
           {
            "colorbar": {
             "outlinewidth": 0,
             "ticks": ""
            },
            "type": "choropleth"
           }
          ],
          "contour": [
           {
            "colorbar": {
             "outlinewidth": 0,
             "ticks": ""
            },
            "colorscale": [
             [
              0,
              "#0d0887"
             ],
             [
              0.1111111111111111,
              "#46039f"
             ],
             [
              0.2222222222222222,
              "#7201a8"
             ],
             [
              0.3333333333333333,
              "#9c179e"
             ],
             [
              0.4444444444444444,
              "#bd3786"
             ],
             [
              0.5555555555555556,
              "#d8576b"
             ],
             [
              0.6666666666666666,
              "#ed7953"
             ],
             [
              0.7777777777777778,
              "#fb9f3a"
             ],
             [
              0.8888888888888888,
              "#fdca26"
             ],
             [
              1,
              "#f0f921"
             ]
            ],
            "type": "contour"
           }
          ],
          "contourcarpet": [
           {
            "colorbar": {
             "outlinewidth": 0,
             "ticks": ""
            },
            "type": "contourcarpet"
           }
          ],
          "heatmap": [
           {
            "colorbar": {
             "outlinewidth": 0,
             "ticks": ""
            },
            "colorscale": [
             [
              0,
              "#0d0887"
             ],
             [
              0.1111111111111111,
              "#46039f"
             ],
             [
              0.2222222222222222,
              "#7201a8"
             ],
             [
              0.3333333333333333,
              "#9c179e"
             ],
             [
              0.4444444444444444,
              "#bd3786"
             ],
             [
              0.5555555555555556,
              "#d8576b"
             ],
             [
              0.6666666666666666,
              "#ed7953"
             ],
             [
              0.7777777777777778,
              "#fb9f3a"
             ],
             [
              0.8888888888888888,
              "#fdca26"
             ],
             [
              1,
              "#f0f921"
             ]
            ],
            "type": "heatmap"
           }
          ],
          "heatmapgl": [
           {
            "colorbar": {
             "outlinewidth": 0,
             "ticks": ""
            },
            "colorscale": [
             [
              0,
              "#0d0887"
             ],
             [
              0.1111111111111111,
              "#46039f"
             ],
             [
              0.2222222222222222,
              "#7201a8"
             ],
             [
              0.3333333333333333,
              "#9c179e"
             ],
             [
              0.4444444444444444,
              "#bd3786"
             ],
             [
              0.5555555555555556,
              "#d8576b"
             ],
             [
              0.6666666666666666,
              "#ed7953"
             ],
             [
              0.7777777777777778,
              "#fb9f3a"
             ],
             [
              0.8888888888888888,
              "#fdca26"
             ],
             [
              1,
              "#f0f921"
             ]
            ],
            "type": "heatmapgl"
           }
          ],
          "histogram": [
           {
            "marker": {
             "pattern": {
              "fillmode": "overlay",
              "size": 10,
              "solidity": 0.2
             }
            },
            "type": "histogram"
           }
          ],
          "histogram2d": [
           {
            "colorbar": {
             "outlinewidth": 0,
             "ticks": ""
            },
            "colorscale": [
             [
              0,
              "#0d0887"
             ],
             [
              0.1111111111111111,
              "#46039f"
             ],
             [
              0.2222222222222222,
              "#7201a8"
             ],
             [
              0.3333333333333333,
              "#9c179e"
             ],
             [
              0.4444444444444444,
              "#bd3786"
             ],
             [
              0.5555555555555556,
              "#d8576b"
             ],
             [
              0.6666666666666666,
              "#ed7953"
             ],
             [
              0.7777777777777778,
              "#fb9f3a"
             ],
             [
              0.8888888888888888,
              "#fdca26"
             ],
             [
              1,
              "#f0f921"
             ]
            ],
            "type": "histogram2d"
           }
          ],
          "histogram2dcontour": [
           {
            "colorbar": {
             "outlinewidth": 0,
             "ticks": ""
            },
            "colorscale": [
             [
              0,
              "#0d0887"
             ],
             [
              0.1111111111111111,
              "#46039f"
             ],
             [
              0.2222222222222222,
              "#7201a8"
             ],
             [
              0.3333333333333333,
              "#9c179e"
             ],
             [
              0.4444444444444444,
              "#bd3786"
             ],
             [
              0.5555555555555556,
              "#d8576b"
             ],
             [
              0.6666666666666666,
              "#ed7953"
             ],
             [
              0.7777777777777778,
              "#fb9f3a"
             ],
             [
              0.8888888888888888,
              "#fdca26"
             ],
             [
              1,
              "#f0f921"
             ]
            ],
            "type": "histogram2dcontour"
           }
          ],
          "mesh3d": [
           {
            "colorbar": {
             "outlinewidth": 0,
             "ticks": ""
            },
            "type": "mesh3d"
           }
          ],
          "parcoords": [
           {
            "line": {
             "colorbar": {
              "outlinewidth": 0,
              "ticks": ""
             }
            },
            "type": "parcoords"
           }
          ],
          "pie": [
           {
            "automargin": true,
            "type": "pie"
           }
          ],
          "scatter": [
           {
            "marker": {
             "line": {
              "color": "#283442"
             }
            },
            "type": "scatter"
           }
          ],
          "scatter3d": [
           {
            "line": {
             "colorbar": {
              "outlinewidth": 0,
              "ticks": ""
             }
            },
            "marker": {
             "colorbar": {
              "outlinewidth": 0,
              "ticks": ""
             }
            },
            "type": "scatter3d"
           }
          ],
          "scattercarpet": [
           {
            "marker": {
             "colorbar": {
              "outlinewidth": 0,
              "ticks": ""
             }
            },
            "type": "scattercarpet"
           }
          ],
          "scattergeo": [
           {
            "marker": {
             "colorbar": {
              "outlinewidth": 0,
              "ticks": ""
             }
            },
            "type": "scattergeo"
           }
          ],
          "scattergl": [
           {
            "marker": {
             "line": {
              "color": "#283442"
             }
            },
            "type": "scattergl"
           }
          ],
          "scattermapbox": [
           {
            "marker": {
             "colorbar": {
              "outlinewidth": 0,
              "ticks": ""
             }
            },
            "type": "scattermapbox"
           }
          ],
          "scatterpolar": [
           {
            "marker": {
             "colorbar": {
              "outlinewidth": 0,
              "ticks": ""
             }
            },
            "type": "scatterpolar"
           }
          ],
          "scatterpolargl": [
           {
            "marker": {
             "colorbar": {
              "outlinewidth": 0,
              "ticks": ""
             }
            },
            "type": "scatterpolargl"
           }
          ],
          "scatterternary": [
           {
            "marker": {
             "colorbar": {
              "outlinewidth": 0,
              "ticks": ""
             }
            },
            "type": "scatterternary"
           }
          ],
          "surface": [
           {
            "colorbar": {
             "outlinewidth": 0,
             "ticks": ""
            },
            "colorscale": [
             [
              0,
              "#0d0887"
             ],
             [
              0.1111111111111111,
              "#46039f"
             ],
             [
              0.2222222222222222,
              "#7201a8"
             ],
             [
              0.3333333333333333,
              "#9c179e"
             ],
             [
              0.4444444444444444,
              "#bd3786"
             ],
             [
              0.5555555555555556,
              "#d8576b"
             ],
             [
              0.6666666666666666,
              "#ed7953"
             ],
             [
              0.7777777777777778,
              "#fb9f3a"
             ],
             [
              0.8888888888888888,
              "#fdca26"
             ],
             [
              1,
              "#f0f921"
             ]
            ],
            "type": "surface"
           }
          ],
          "table": [
           {
            "cells": {
             "fill": {
              "color": "#506784"
             },
             "line": {
              "color": "rgb(17,17,17)"
             }
            },
            "header": {
             "fill": {
              "color": "#2a3f5f"
             },
             "line": {
              "color": "rgb(17,17,17)"
             }
            },
            "type": "table"
           }
          ]
         },
         "layout": {
          "annotationdefaults": {
           "arrowcolor": "#f2f5fa",
           "arrowhead": 0,
           "arrowwidth": 1
          },
          "autotypenumbers": "strict",
          "coloraxis": {
           "colorbar": {
            "outlinewidth": 0,
            "ticks": ""
           }
          },
          "colorscale": {
           "diverging": [
            [
             0,
             "#8e0152"
            ],
            [
             0.1,
             "#c51b7d"
            ],
            [
             0.2,
             "#de77ae"
            ],
            [
             0.3,
             "#f1b6da"
            ],
            [
             0.4,
             "#fde0ef"
            ],
            [
             0.5,
             "#f7f7f7"
            ],
            [
             0.6,
             "#e6f5d0"
            ],
            [
             0.7,
             "#b8e186"
            ],
            [
             0.8,
             "#7fbc41"
            ],
            [
             0.9,
             "#4d9221"
            ],
            [
             1,
             "#276419"
            ]
           ],
           "sequential": [
            [
             0,
             "#0d0887"
            ],
            [
             0.1111111111111111,
             "#46039f"
            ],
            [
             0.2222222222222222,
             "#7201a8"
            ],
            [
             0.3333333333333333,
             "#9c179e"
            ],
            [
             0.4444444444444444,
             "#bd3786"
            ],
            [
             0.5555555555555556,
             "#d8576b"
            ],
            [
             0.6666666666666666,
             "#ed7953"
            ],
            [
             0.7777777777777778,
             "#fb9f3a"
            ],
            [
             0.8888888888888888,
             "#fdca26"
            ],
            [
             1,
             "#f0f921"
            ]
           ],
           "sequentialminus": [
            [
             0,
             "#0d0887"
            ],
            [
             0.1111111111111111,
             "#46039f"
            ],
            [
             0.2222222222222222,
             "#7201a8"
            ],
            [
             0.3333333333333333,
             "#9c179e"
            ],
            [
             0.4444444444444444,
             "#bd3786"
            ],
            [
             0.5555555555555556,
             "#d8576b"
            ],
            [
             0.6666666666666666,
             "#ed7953"
            ],
            [
             0.7777777777777778,
             "#fb9f3a"
            ],
            [
             0.8888888888888888,
             "#fdca26"
            ],
            [
             1,
             "#f0f921"
            ]
           ]
          },
          "colorway": [
           "#636efa",
           "#EF553B",
           "#00cc96",
           "#ab63fa",
           "#FFA15A",
           "#19d3f3",
           "#FF6692",
           "#B6E880",
           "#FF97FF",
           "#FECB52"
          ],
          "font": {
           "color": "#f2f5fa"
          },
          "geo": {
           "bgcolor": "rgb(17,17,17)",
           "lakecolor": "rgb(17,17,17)",
           "landcolor": "rgb(17,17,17)",
           "showlakes": true,
           "showland": true,
           "subunitcolor": "#506784"
          },
          "hoverlabel": {
           "align": "left"
          },
          "hovermode": "closest",
          "mapbox": {
           "style": "dark"
          },
          "paper_bgcolor": "rgb(17,17,17)",
          "plot_bgcolor": "rgb(17,17,17)",
          "polar": {
           "angularaxis": {
            "gridcolor": "#506784",
            "linecolor": "#506784",
            "ticks": ""
           },
           "bgcolor": "rgb(17,17,17)",
           "radialaxis": {
            "gridcolor": "#506784",
            "linecolor": "#506784",
            "ticks": ""
           }
          },
          "scene": {
           "xaxis": {
            "backgroundcolor": "rgb(17,17,17)",
            "gridcolor": "#506784",
            "gridwidth": 2,
            "linecolor": "#506784",
            "showbackground": true,
            "ticks": "",
            "zerolinecolor": "#C8D4E3"
           },
           "yaxis": {
            "backgroundcolor": "rgb(17,17,17)",
            "gridcolor": "#506784",
            "gridwidth": 2,
            "linecolor": "#506784",
            "showbackground": true,
            "ticks": "",
            "zerolinecolor": "#C8D4E3"
           },
           "zaxis": {
            "backgroundcolor": "rgb(17,17,17)",
            "gridcolor": "#506784",
            "gridwidth": 2,
            "linecolor": "#506784",
            "showbackground": true,
            "ticks": "",
            "zerolinecolor": "#C8D4E3"
           }
          },
          "shapedefaults": {
           "line": {
            "color": "#f2f5fa"
           }
          },
          "sliderdefaults": {
           "bgcolor": "#C8D4E3",
           "bordercolor": "rgb(17,17,17)",
           "borderwidth": 1,
           "tickwidth": 0
          },
          "ternary": {
           "aaxis": {
            "gridcolor": "#506784",
            "linecolor": "#506784",
            "ticks": ""
           },
           "baxis": {
            "gridcolor": "#506784",
            "linecolor": "#506784",
            "ticks": ""
           },
           "bgcolor": "rgb(17,17,17)",
           "caxis": {
            "gridcolor": "#506784",
            "linecolor": "#506784",
            "ticks": ""
           }
          },
          "title": {
           "x": 0.05
          },
          "updatemenudefaults": {
           "bgcolor": "#506784",
           "borderwidth": 0
          },
          "xaxis": {
           "automargin": true,
           "gridcolor": "#283442",
           "linecolor": "#506784",
           "ticks": "",
           "title": {
            "standoff": 15
           },
           "zerolinecolor": "#283442",
           "zerolinewidth": 2
          },
          "yaxis": {
           "automargin": true,
           "gridcolor": "#283442",
           "linecolor": "#506784",
           "ticks": "",
           "title": {
            "standoff": 15
           },
           "zerolinecolor": "#283442",
           "zerolinewidth": 2
          }
         }
        },
        "title": {
         "text": "<b><span style='color:crimson'>WORLD'S EXPOSITIONS<span><b><br>"
        },
        "xaxis": {
         "anchor": "y",
         "domain": [
          0,
          1
         ],
         "title": {
          "text": ""
         }
        },
        "yaxis": {
         "anchor": "x",
         "domain": [
          0,
          1
         ],
         "title": {
          "text": "Visitors (Millions)"
         }
        }
       }
      }
     },
     "metadata": {},
     "output_type": "display_data"
    }
   ],
   "source": [
    "ptitle = \"<b><span style='color:crimson'>WORLD'S EXPOSITIONS<span><b><br>\"\n",
    "stitle = \"<sup><span style='color:grey'>A world's fair, also known as a universal exhibition or an expo, is a large global exhibition designed to showcase the achievements of nations. <br>These exhibitions vary in character and are held in different parts of the world at a specific site for a period of time, typically between three and six months.<span><sup><br>\"\n",
    "fig=px.scatter(fdf, \n",
    "               x='year',\n",
    "               y='visitors', \n",
    "               color='continent', \n",
    "               size=fdf['visitors'],           \n",
    "               custom_data=['name', 'country', 'city', 'theme'], \n",
    "               template = 'plotly_dark',\n",
    "               title = ptitle\n",
    ")\n",
    "\n",
    "\n",
    "fig.update_traces(\n",
    "    hovertemplate = \n",
    "                \"<b>%{customdata[0]}</b><br>\" +\n",
    "                \"Theme: %{customdata[3]}<br><br>\" +\n",
    "                \"Country: %{customdata[1]}<br>\" +\n",
    "                \"City: %{customdata[2]}<br><br>\" +\n",
    "                \n",
    "                \"Year: %{x}<br>\" + #Year: %{x:$,.0f\n",
    "                \"Visitors: %{y:.0f} Millions<br>\" +\n",
    "                \"<extra></extra>\",\n",
    "    mode='markers',\n",
    "    marker={'sizemode':'area',\n",
    "            'sizeref':.1},\n",
    ")\n",
    "\n",
    "fig.update_layout(\n",
    "    annotations=[\n",
    "        dict(\n",
    "            text=stitle,\n",
    "            x=-0.02,\n",
    "            y=1.15,\n",
    "            xref='paper',\n",
    "            yref='paper',\n",
    "            showarrow=False,\n",
    "            align=\"left\",\n",
    "            font=dict(size=14)\n",
    "        )\n",
    "    ],\n",
    "    xaxis_title='',\n",
    "    yaxis_title='Visitors (Millions)',\n",
    "    #margin=dict(l=5, r=5, t=40, b=5),\n",
    "    legend_title_text='CONTINENT',\n",
    ")\n",
    "\n",
    "\n",
    "\n",
    "fig.show()"
   ]
  },
  {
   "cell_type": "code",
   "execution_count": 33,
   "metadata": {},
   "outputs": [
    {
     "data": {
      "application/vnd.plotly.v1+json": {
       "config": {
        "plotlyServerURL": "https://plot.ly"
       },
       "data": [
        {
         "customdata": [
          [
           "Algeria",
           33333216
          ],
          [
           "Angola",
           12420476
          ],
          [
           "Benin",
           8078314
          ],
          [
           "Botswana",
           1639131
          ],
          [
           "Burkina Faso",
           14326203
          ],
          [
           "Burundi",
           8390505
          ],
          [
           "Cameroon",
           17696293
          ],
          [
           "Central African Republic",
           4369038
          ],
          [
           "Chad",
           10238807
          ],
          [
           "Comoros",
           710960
          ],
          [
           "Congo, Dem. Rep.",
           64606759
          ],
          [
           "Congo, Rep.",
           3800610
          ],
          [
           "Cote d'Ivoire",
           18013409
          ],
          [
           "Djibouti",
           496374
          ],
          [
           "Egypt",
           80264543
          ],
          [
           "Equatorial Guinea",
           551201
          ],
          [
           "Eritrea",
           4906585
          ],
          [
           "Ethiopia",
           76511887
          ],
          [
           "Gabon",
           1454867
          ],
          [
           "Gambia",
           1688359
          ],
          [
           "Ghana",
           22873338
          ],
          [
           "Guinea",
           9947814
          ],
          [
           "Guinea-Bissau",
           1472041
          ],
          [
           "Kenya",
           35610177
          ],
          [
           "Lesotho",
           2012649
          ],
          [
           "Liberia",
           3193942
          ],
          [
           "Libya",
           6036914
          ],
          [
           "Madagascar",
           19167654
          ],
          [
           "Malawi",
           13327079
          ],
          [
           "Mali",
           12031795
          ],
          [
           "Mauritania",
           3270065
          ],
          [
           "Mauritius",
           1250882
          ],
          [
           "Morocco",
           33757175
          ],
          [
           "Mozambique",
           19951656
          ],
          [
           "Namibia",
           2055080
          ],
          [
           "Niger",
           12894865
          ],
          [
           "Nigeria",
           135031164
          ],
          [
           "Reunion",
           798094
          ],
          [
           "Rwanda",
           8860588
          ],
          [
           "Sao Tome and Principe",
           199579
          ],
          [
           "Senegal",
           12267493
          ],
          [
           "Sierra Leone",
           6144562
          ],
          [
           "Somalia",
           9118773
          ],
          [
           "South Africa",
           43997828
          ],
          [
           "Sudan",
           42292929
          ],
          [
           "Swaziland",
           1133066
          ],
          [
           "Tanzania",
           38139640
          ],
          [
           "Togo",
           5701579
          ],
          [
           "Tunisia",
           10276158
          ],
          [
           "Uganda",
           29170398
          ],
          [
           "Zambia",
           11746035
          ],
          [
           "Zimbabwe",
           12311143
          ]
         ],
         "hovertemplate": "<b>%{customdata[0]}</b><br><b>%{customdata[1]}</b><br><br>GDP per Capita: %{x:$,.0f}<br>Life Expectancy: %{y:.0f}<br>Population: %{customdata[1]:,.0f}<extra></extra>",
         "marker": {
          "size": [
           5773.492530522578,
           3524.269569712283,
           2842.237498873027,
           1280.2855150317057,
           3784.9970937901658,
           2896.6368429611607,
           4206.696209616282,
           2090.2243898682264,
           3199.8135883204195,
           843.1844400841372,
           8037.832979105749,
           1949.5153243819348,
           4244.2206587311175,
           704.5381465896648,
           8959.048107918608,
           742.429121196091,
           2215.0812626176944,
           8747.107350433056,
           1206.1786766478672,
           1299.3686928658856,
           4782.607866007833,
           3154.015535789258,
           1213.276967555224,
           5967.426329666751,
           1418.678610538694,
           1787.160317375025,
           2457.013227477622,
           4378.0879388153,
           3650.627206385226,
           3468.687792234983,
           1808.3321044542674,
           1118.428361586025,
           5810.092512172246,
           4466.727661275086,
           1433.5550216158429,
           3590.9420769486105,
           11620.291046269022,
           893.3610692211744,
           2976.673982820423,
           446.74265522781684,
           3502.498108493422,
           2478.822704430472,
           3019.730617124647,
           6633.085858030182,
           6503.301392369878,
           1064.4557294692909,
           6175.729916374258,
           2387.7979395250345,
           3205.644708947016,
           5400.962691965202,
           3427.248896710013,
           3508.7238420827593
          ],
          "sizemode": "area",
          "sizeref": 10
         },
         "mode": "markers",
         "name": "Africa",
         "type": "scatter",
         "x": [
          6223.367465,
          4797.231267,
          1441.284873,
          12569.85177,
          1217.032994,
          430.0706916,
          2042.09524,
          706.016537,
          1704.063724,
          986.1478792,
          277.5518587,
          3632.557798,
          1544.750112,
          2082.4815670000007,
          5581.180998,
          12154.08975,
          641.3695236000002,
          690.8055759,
          13206.48452,
          752.7497265,
          1327.60891,
          942.6542111,
          579.2317429999998,
          1463.249282,
          1569.331442,
          414.5073415,
          12057.49928,
          1044.770126,
          759.3499101,
          1042.581557,
          1803.151496,
          10956.99112,
          3820.17523,
          823.6856205,
          4811.060429,
          619.6768923999998,
          2013.977305,
          7670.122558,
          863.0884639000002,
          1598.435089,
          1712.472136,
          862.5407561000002,
          926.1410683,
          9269.657808,
          2602.394995,
          4513.480643,
          1107.482182,
          882.9699437999999,
          7092.923025,
          1056.380121,
          1271.211593,
          469.70929810000007
         ],
         "y": [
          72.301,
          42.731,
          56.728,
          50.728,
          52.295,
          49.58,
          50.43,
          44.74100000000001,
          50.651,
          65.152,
          46.462,
          55.322,
          48.328,
          54.791,
          71.33800000000002,
          51.57899999999999,
          58.04,
          52.947,
          56.735,
          59.448,
          60.022,
          56.007,
          46.38800000000001,
          54.11,
          42.592,
          45.678,
          73.952,
          59.44300000000001,
          48.303,
          54.467,
          64.164,
          72.801,
          71.164,
          42.082,
          52.90600000000001,
          56.867,
          46.859,
          76.442,
          46.242,
          65.528,
          63.062,
          42.56800000000001,
          48.159,
          49.339,
          58.556,
          39.613,
          52.517,
          58.42,
          73.923,
          51.542,
          42.38399999999999,
          43.487
         ]
        },
        {
         "customdata": [
          [
           "Argentina",
           40301927
          ],
          [
           "Bolivia",
           9119152
          ],
          [
           "Brazil",
           190010647
          ],
          [
           "Canada",
           33390141
          ],
          [
           "Chile",
           16284741
          ],
          [
           "Colombia",
           44227550
          ],
          [
           "Costa Rica",
           4133884
          ],
          [
           "Cuba",
           11416987
          ],
          [
           "Dominican Republic",
           9319622
          ],
          [
           "Ecuador",
           13755680
          ],
          [
           "El Salvador",
           6939688
          ],
          [
           "Guatemala",
           12572928
          ],
          [
           "Haiti",
           8502814
          ],
          [
           "Honduras",
           7483763
          ],
          [
           "Jamaica",
           2780132
          ],
          [
           "Mexico",
           108700891
          ],
          [
           "Nicaragua",
           5675356
          ],
          [
           "Panama",
           3242173
          ],
          [
           "Paraguay",
           6667147
          ],
          [
           "Peru",
           28674757
          ],
          [
           "Puerto Rico",
           3942491
          ],
          [
           "Trinidad and Tobago",
           1056608
          ],
          [
           "United States",
           301139947
          ],
          [
           "Uruguay",
           3447496
          ],
          [
           "Venezuela",
           26084662
          ]
         ],
         "hovertemplate": "<b>%{customdata[0]}</b><br><b>%{customdata[1]}</b><br><br>GDP per Capita: %{x:$,.0f}<br>Life Expectancy: %{y:.0f}<br>Population: %{customdata[1]:,.0f}<extra></extra>",
         "marker": {
          "size": [
           6348.379872061848,
           3019.793370414605,
           13784.43495396166,
           5778.4202858566805,
           4035.4356642127254,
           6650.379688408775,
           2033.1955144550168,
           3378.9032244206105,
           3052.8055948586048,
           3708.8650555122654,
           2634.32875700813,
           3545.8324833528163,
           2915.958504505851,
           2735.646724268322,
           1667.3727837529316,
           10425.97194509941,
           2382.3005687780037,
           1800.6035099377098,
           2582.0819119462494,
           5354.881604666904,
           1985.5706988168415,
           1027.9143933227124,
           17353.384309695903,
           1856.7433856082537,
           5107.314558552273
          ],
          "sizemode": "area",
          "sizeref": 10
         },
         "mode": "markers",
         "name": "Americas",
         "type": "scatter",
         "x": [
          12779.37964,
          3822.137084,
          9065.800825,
          36319.23501,
          13171.63885,
          7006.580419,
          9645.06142,
          8948.102923,
          6025.3747520000015,
          6873.262326000001,
          5728.353514,
          5186.050003,
          1201.637154,
          3548.3308460000007,
          7320.8802620000015,
          11977.57496,
          2749.320965,
          9809.185636,
          4172.838464,
          7408.905561,
          19328.70901,
          18008.50924,
          42951.65309,
          10611.46299,
          11415.80569
         ],
         "y": [
          75.32,
          65.554,
          72.39,
          80.653,
          78.553,
          72.889,
          78.782,
          78.273,
          72.235,
          74.994,
          71.878,
          70.259,
          60.916,
          70.19800000000001,
          72.567,
          76.195,
          72.899,
          75.53699999999998,
          71.752,
          71.421,
          78.74600000000002,
          69.819,
          78.242,
          76.384,
          73.747
         ]
        },
        {
         "customdata": [
          [
           "Afghanistan",
           31889923
          ],
          [
           "Bahrain",
           708573
          ],
          [
           "Bangladesh",
           150448339
          ],
          [
           "Cambodia",
           14131858
          ],
          [
           "China",
           1318683096
          ],
          [
           "Hong Kong, China",
           6980412
          ],
          [
           "India",
           1110396331
          ],
          [
           "Indonesia",
           223547000
          ],
          [
           "Iran",
           69453570
          ],
          [
           "Iraq",
           27499638
          ],
          [
           "Israel",
           6426679
          ],
          [
           "Japan",
           127467972
          ],
          [
           "Jordan",
           6053193
          ],
          [
           "Korea, Dem. Rep.",
           23301725
          ],
          [
           "Korea, Rep.",
           49044790
          ],
          [
           "Kuwait",
           2505559
          ],
          [
           "Lebanon",
           3921278
          ],
          [
           "Malaysia",
           24821286
          ],
          [
           "Mongolia",
           2874127
          ],
          [
           "Myanmar",
           47761980
          ],
          [
           "Nepal",
           28901790
          ],
          [
           "Oman",
           3204897
          ],
          [
           "Pakistan",
           169270617
          ],
          [
           "Philippines",
           91077287
          ],
          [
           "Saudi Arabia",
           27601038
          ],
          [
           "Singapore",
           4553009
          ],
          [
           "Sri Lanka",
           20378239
          ],
          [
           "Syria",
           19314747
          ],
          [
           "Taiwan",
           23174294
          ],
          [
           "Thailand",
           65068149
          ],
          [
           "Vietnam",
           85262356
          ],
          [
           "West Bank and Gaza",
           4018332
          ],
          [
           "Yemen, Rep.",
           22211743
          ]
         ],
         "hovertemplate": "<b>%{customdata[0]}</b><br><b>%{customdata[1]}</b><br><br>GDP per Capita: %{x:$,.0f}<br>Life Expectancy: %{y:.0f}<br>Population: %{customdata[1]:,.0f}<extra></extra>",
         "marker": {
          "size": [
           5647.116343763426,
           841.7677827049453,
           12265.738420494707,
           3759.236358623916,
           36313.67643188996,
           2642.046933723926,
           33322.609906788515,
           14951.48822024082,
           8333.880848680283,
           5244.009725391439,
           2535.089544769573,
           11290.171477882875,
           2460.323759182925,
           4827.186033291031,
           7003.1985549461615,
           1582.8957640981923,
           1980.2217047593433,
           4982.096546635764,
           1695.3250425803308,
           6911.004268556054,
           5376.038504326397,
           1790.2226118558551,
           13010.404182806928,
           9543.442093919783,
           5253.6690036583,
           2133.778104677241,
           4514.226290296046,
           4394.854605103564,
           4813.968633051113,
           8066.483062648802,
           9233.761746980479,
           2004.5777610259972,
           4712.933587480307
          ],
          "sizemode": "area",
          "sizeref": 10
         },
         "mode": "markers",
         "name": "Asia",
         "type": "scatter",
         "x": [
          974.5803384,
          29796.04834,
          1391.253792,
          1713.778686,
          4959.114854,
          39724.97867,
          2452.210407,
          3540.651564,
          11605.71449,
          4471.061906,
          25523.2771,
          31656.06806,
          4519.461171,
          1593.06548,
          23348.139730000006,
          47306.98978,
          10461.05868,
          12451.6558,
          3095.7722710000007,
          944,
          1091.359778,
          22316.19287,
          2605.94758,
          3190.481016,
          21654.83194,
          47143.17964,
          3970.095407,
          4184.548089,
          28718.27684,
          7458.396326999998,
          2441.576404,
          3025.349798,
          2280.769906
         ],
         "y": [
          43.828,
          75.635,
          64.062,
          59.723,
          72.961,
          82.208,
          64.69800000000001,
          70.65,
          70.964,
          59.545,
          80.745,
          82.603,
          72.535,
          67.297,
          78.623,
          77.58800000000002,
          71.993,
          74.241,
          66.803,
          62.069,
          63.785,
          75.64,
          65.483,
          71.688,
          72.777,
          79.972,
          72.396,
          74.143,
          78.4,
          70.616,
          74.249,
          73.422,
          62.698
         ]
        },
        {
         "customdata": [
          [
           "Albania",
           3600523
          ],
          [
           "Austria",
           8199783
          ],
          [
           "Belgium",
           10392226
          ],
          [
           "Bosnia and Herzegovina",
           4552198
          ],
          [
           "Bulgaria",
           7322858
          ],
          [
           "Croatia",
           4493312
          ],
          [
           "Czech Republic",
           10228744
          ],
          [
           "Denmark",
           5468120
          ],
          [
           "Finland",
           5238460
          ],
          [
           "France",
           61083916
          ],
          [
           "Germany",
           82400996
          ],
          [
           "Greece",
           10706290
          ],
          [
           "Hungary",
           9956108
          ],
          [
           "Iceland",
           301931
          ],
          [
           "Ireland",
           4109086
          ],
          [
           "Italy",
           58147733
          ],
          [
           "Montenegro",
           684736
          ],
          [
           "Netherlands",
           16570613
          ],
          [
           "Norway",
           4627926
          ],
          [
           "Poland",
           38518241
          ],
          [
           "Portugal",
           10642836
          ],
          [
           "Romania",
           22276056
          ],
          [
           "Serbia",
           10150265
          ],
          [
           "Slovak Republic",
           5447502
          ],
          [
           "Slovenia",
           2009245
          ],
          [
           "Spain",
           40448191
          ],
          [
           "Sweden",
           9031088
          ],
          [
           "Switzerland",
           7554661
          ],
          [
           "Turkey",
           71158647
          ],
          [
           "United Kingdom",
           60776238
          ]
         ],
         "hovertemplate": "<b>%{customdata[0]}</b><br><b>%{customdata[1]}</b><br><br>GDP per Capita: %{x:$,.0f}<br>Life Expectancy: %{y:.0f}<br>Population: %{customdata[1]:,.0f}<extra></extra>",
         "marker": {
          "size": [
           1897.5044136971064,
           2863.5263225610483,
           3223.6975664599804,
           2133.5880577093603,
           2706.077973747246,
           2119.743380694937,
           3198.24076642144,
           2338.401163188216,
           2288.768227671819,
           7815.620000998001,
           9077.499435417223,
           3272.0467600570746,
           3155.330093666905,
           549.4824837972544,
           2027.0880592613632,
           7625.4660841157765,
           827.487764259992,
           4070.701782248363,
           2151.2614903818644,
           6206.30655059835,
           3262.3359728881387,
           4719.751688383617,
           3185.9480535627067,
           2333.9884318479385,
           1417.4783948970792,
           6359.8892285951015,
           3005.1768666752378,
           2748.574357735297,
           8435.55848773512,
           7795.911620843325
          ],
          "sizemode": "area",
          "sizeref": 10
         },
         "mode": "markers",
         "name": "Europe",
         "type": "scatter",
         "x": [
          5937.029525999998,
          36126.4927,
          33692.60508,
          7446.298803,
          10680.79282,
          14619.222719999998,
          22833.30851,
          35278.41874,
          33207.0844,
          30470.0167,
          32170.37442,
          27538.41188,
          18008.94444,
          36180.78919,
          40675.99635,
          28569.7197,
          9253.896111,
          36797.93332,
          49357.19017,
          15389.924680000002,
          20509.64777,
          10808.47561,
          9786.534714,
          18678.31435,
          25768.25759,
          28821.0637,
          33859.74835,
          37506.41907,
          8458.276384,
          33203.26128
         ],
         "y": [
          76.423,
          79.829,
          79.441,
          74.852,
          73.005,
          75.748,
          76.486,
          78.332,
          79.313,
          80.657,
          79.406,
          79.483,
          73.33800000000002,
          81.757,
          78.885,
          80.546,
          74.543,
          79.762,
          80.196,
          75.563,
          78.098,
          72.476,
          74.002,
          74.663,
          77.926,
          80.941,
          80.884,
          81.70100000000002,
          71.777,
          79.425
         ]
        },
        {
         "customdata": [
          [
           "Australia",
           20434176
          ],
          [
           "New Zealand",
           4115771
          ]
         ],
         "hovertemplate": "<b>%{customdata[0]}</b><br><b>%{customdata[1]}</b><br><br>GDP per Capita: %{x:$,.0f}<br>Life Expectancy: %{y:.0f}<br>Population: %{customdata[1]:,.0f}<extra></extra>",
         "marker": {
          "size": [
           4520.417679816766,
           2028.7363061768278
          ],
          "sizemode": "area",
          "sizeref": 10
         },
         "mode": "markers",
         "name": "Oceania",
         "type": "scatter",
         "x": [
          34435.367439999995,
          25185.00911
         ],
         "y": [
          81.235,
          80.204
         ]
        }
       ],
       "layout": {
        "template": {
         "data": {
          "bar": [
           {
            "error_x": {
             "color": "#2a3f5f"
            },
            "error_y": {
             "color": "#2a3f5f"
            },
            "marker": {
             "line": {
              "color": "#E5ECF6",
              "width": 0.5
             },
             "pattern": {
              "fillmode": "overlay",
              "size": 10,
              "solidity": 0.2
             }
            },
            "type": "bar"
           }
          ],
          "barpolar": [
           {
            "marker": {
             "line": {
              "color": "#E5ECF6",
              "width": 0.5
             },
             "pattern": {
              "fillmode": "overlay",
              "size": 10,
              "solidity": 0.2
             }
            },
            "type": "barpolar"
           }
          ],
          "carpet": [
           {
            "aaxis": {
             "endlinecolor": "#2a3f5f",
             "gridcolor": "white",
             "linecolor": "white",
             "minorgridcolor": "white",
             "startlinecolor": "#2a3f5f"
            },
            "baxis": {
             "endlinecolor": "#2a3f5f",
             "gridcolor": "white",
             "linecolor": "white",
             "minorgridcolor": "white",
             "startlinecolor": "#2a3f5f"
            },
            "type": "carpet"
           }
          ],
          "choropleth": [
           {
            "colorbar": {
             "outlinewidth": 0,
             "ticks": ""
            },
            "type": "choropleth"
           }
          ],
          "contour": [
           {
            "colorbar": {
             "outlinewidth": 0,
             "ticks": ""
            },
            "colorscale": [
             [
              0,
              "#0d0887"
             ],
             [
              0.1111111111111111,
              "#46039f"
             ],
             [
              0.2222222222222222,
              "#7201a8"
             ],
             [
              0.3333333333333333,
              "#9c179e"
             ],
             [
              0.4444444444444444,
              "#bd3786"
             ],
             [
              0.5555555555555556,
              "#d8576b"
             ],
             [
              0.6666666666666666,
              "#ed7953"
             ],
             [
              0.7777777777777778,
              "#fb9f3a"
             ],
             [
              0.8888888888888888,
              "#fdca26"
             ],
             [
              1,
              "#f0f921"
             ]
            ],
            "type": "contour"
           }
          ],
          "contourcarpet": [
           {
            "colorbar": {
             "outlinewidth": 0,
             "ticks": ""
            },
            "type": "contourcarpet"
           }
          ],
          "heatmap": [
           {
            "colorbar": {
             "outlinewidth": 0,
             "ticks": ""
            },
            "colorscale": [
             [
              0,
              "#0d0887"
             ],
             [
              0.1111111111111111,
              "#46039f"
             ],
             [
              0.2222222222222222,
              "#7201a8"
             ],
             [
              0.3333333333333333,
              "#9c179e"
             ],
             [
              0.4444444444444444,
              "#bd3786"
             ],
             [
              0.5555555555555556,
              "#d8576b"
             ],
             [
              0.6666666666666666,
              "#ed7953"
             ],
             [
              0.7777777777777778,
              "#fb9f3a"
             ],
             [
              0.8888888888888888,
              "#fdca26"
             ],
             [
              1,
              "#f0f921"
             ]
            ],
            "type": "heatmap"
           }
          ],
          "heatmapgl": [
           {
            "colorbar": {
             "outlinewidth": 0,
             "ticks": ""
            },
            "colorscale": [
             [
              0,
              "#0d0887"
             ],
             [
              0.1111111111111111,
              "#46039f"
             ],
             [
              0.2222222222222222,
              "#7201a8"
             ],
             [
              0.3333333333333333,
              "#9c179e"
             ],
             [
              0.4444444444444444,
              "#bd3786"
             ],
             [
              0.5555555555555556,
              "#d8576b"
             ],
             [
              0.6666666666666666,
              "#ed7953"
             ],
             [
              0.7777777777777778,
              "#fb9f3a"
             ],
             [
              0.8888888888888888,
              "#fdca26"
             ],
             [
              1,
              "#f0f921"
             ]
            ],
            "type": "heatmapgl"
           }
          ],
          "histogram": [
           {
            "marker": {
             "pattern": {
              "fillmode": "overlay",
              "size": 10,
              "solidity": 0.2
             }
            },
            "type": "histogram"
           }
          ],
          "histogram2d": [
           {
            "colorbar": {
             "outlinewidth": 0,
             "ticks": ""
            },
            "colorscale": [
             [
              0,
              "#0d0887"
             ],
             [
              0.1111111111111111,
              "#46039f"
             ],
             [
              0.2222222222222222,
              "#7201a8"
             ],
             [
              0.3333333333333333,
              "#9c179e"
             ],
             [
              0.4444444444444444,
              "#bd3786"
             ],
             [
              0.5555555555555556,
              "#d8576b"
             ],
             [
              0.6666666666666666,
              "#ed7953"
             ],
             [
              0.7777777777777778,
              "#fb9f3a"
             ],
             [
              0.8888888888888888,
              "#fdca26"
             ],
             [
              1,
              "#f0f921"
             ]
            ],
            "type": "histogram2d"
           }
          ],
          "histogram2dcontour": [
           {
            "colorbar": {
             "outlinewidth": 0,
             "ticks": ""
            },
            "colorscale": [
             [
              0,
              "#0d0887"
             ],
             [
              0.1111111111111111,
              "#46039f"
             ],
             [
              0.2222222222222222,
              "#7201a8"
             ],
             [
              0.3333333333333333,
              "#9c179e"
             ],
             [
              0.4444444444444444,
              "#bd3786"
             ],
             [
              0.5555555555555556,
              "#d8576b"
             ],
             [
              0.6666666666666666,
              "#ed7953"
             ],
             [
              0.7777777777777778,
              "#fb9f3a"
             ],
             [
              0.8888888888888888,
              "#fdca26"
             ],
             [
              1,
              "#f0f921"
             ]
            ],
            "type": "histogram2dcontour"
           }
          ],
          "mesh3d": [
           {
            "colorbar": {
             "outlinewidth": 0,
             "ticks": ""
            },
            "type": "mesh3d"
           }
          ],
          "parcoords": [
           {
            "line": {
             "colorbar": {
              "outlinewidth": 0,
              "ticks": ""
             }
            },
            "type": "parcoords"
           }
          ],
          "pie": [
           {
            "automargin": true,
            "type": "pie"
           }
          ],
          "scatter": [
           {
            "fillpattern": {
             "fillmode": "overlay",
             "size": 10,
             "solidity": 0.2
            },
            "type": "scatter"
           }
          ],
          "scatter3d": [
           {
            "line": {
             "colorbar": {
              "outlinewidth": 0,
              "ticks": ""
             }
            },
            "marker": {
             "colorbar": {
              "outlinewidth": 0,
              "ticks": ""
             }
            },
            "type": "scatter3d"
           }
          ],
          "scattercarpet": [
           {
            "marker": {
             "colorbar": {
              "outlinewidth": 0,
              "ticks": ""
             }
            },
            "type": "scattercarpet"
           }
          ],
          "scattergeo": [
           {
            "marker": {
             "colorbar": {
              "outlinewidth": 0,
              "ticks": ""
             }
            },
            "type": "scattergeo"
           }
          ],
          "scattergl": [
           {
            "marker": {
             "colorbar": {
              "outlinewidth": 0,
              "ticks": ""
             }
            },
            "type": "scattergl"
           }
          ],
          "scattermapbox": [
           {
            "marker": {
             "colorbar": {
              "outlinewidth": 0,
              "ticks": ""
             }
            },
            "type": "scattermapbox"
           }
          ],
          "scatterpolar": [
           {
            "marker": {
             "colorbar": {
              "outlinewidth": 0,
              "ticks": ""
             }
            },
            "type": "scatterpolar"
           }
          ],
          "scatterpolargl": [
           {
            "marker": {
             "colorbar": {
              "outlinewidth": 0,
              "ticks": ""
             }
            },
            "type": "scatterpolargl"
           }
          ],
          "scatterternary": [
           {
            "marker": {
             "colorbar": {
              "outlinewidth": 0,
              "ticks": ""
             }
            },
            "type": "scatterternary"
           }
          ],
          "surface": [
           {
            "colorbar": {
             "outlinewidth": 0,
             "ticks": ""
            },
            "colorscale": [
             [
              0,
              "#0d0887"
             ],
             [
              0.1111111111111111,
              "#46039f"
             ],
             [
              0.2222222222222222,
              "#7201a8"
             ],
             [
              0.3333333333333333,
              "#9c179e"
             ],
             [
              0.4444444444444444,
              "#bd3786"
             ],
             [
              0.5555555555555556,
              "#d8576b"
             ],
             [
              0.6666666666666666,
              "#ed7953"
             ],
             [
              0.7777777777777778,
              "#fb9f3a"
             ],
             [
              0.8888888888888888,
              "#fdca26"
             ],
             [
              1,
              "#f0f921"
             ]
            ],
            "type": "surface"
           }
          ],
          "table": [
           {
            "cells": {
             "fill": {
              "color": "#EBF0F8"
             },
             "line": {
              "color": "white"
             }
            },
            "header": {
             "fill": {
              "color": "#C8D4E3"
             },
             "line": {
              "color": "white"
             }
            },
            "type": "table"
           }
          ]
         },
         "layout": {
          "annotationdefaults": {
           "arrowcolor": "#2a3f5f",
           "arrowhead": 0,
           "arrowwidth": 1
          },
          "autotypenumbers": "strict",
          "coloraxis": {
           "colorbar": {
            "outlinewidth": 0,
            "ticks": ""
           }
          },
          "colorscale": {
           "diverging": [
            [
             0,
             "#8e0152"
            ],
            [
             0.1,
             "#c51b7d"
            ],
            [
             0.2,
             "#de77ae"
            ],
            [
             0.3,
             "#f1b6da"
            ],
            [
             0.4,
             "#fde0ef"
            ],
            [
             0.5,
             "#f7f7f7"
            ],
            [
             0.6,
             "#e6f5d0"
            ],
            [
             0.7,
             "#b8e186"
            ],
            [
             0.8,
             "#7fbc41"
            ],
            [
             0.9,
             "#4d9221"
            ],
            [
             1,
             "#276419"
            ]
           ],
           "sequential": [
            [
             0,
             "#0d0887"
            ],
            [
             0.1111111111111111,
             "#46039f"
            ],
            [
             0.2222222222222222,
             "#7201a8"
            ],
            [
             0.3333333333333333,
             "#9c179e"
            ],
            [
             0.4444444444444444,
             "#bd3786"
            ],
            [
             0.5555555555555556,
             "#d8576b"
            ],
            [
             0.6666666666666666,
             "#ed7953"
            ],
            [
             0.7777777777777778,
             "#fb9f3a"
            ],
            [
             0.8888888888888888,
             "#fdca26"
            ],
            [
             1,
             "#f0f921"
            ]
           ],
           "sequentialminus": [
            [
             0,
             "#0d0887"
            ],
            [
             0.1111111111111111,
             "#46039f"
            ],
            [
             0.2222222222222222,
             "#7201a8"
            ],
            [
             0.3333333333333333,
             "#9c179e"
            ],
            [
             0.4444444444444444,
             "#bd3786"
            ],
            [
             0.5555555555555556,
             "#d8576b"
            ],
            [
             0.6666666666666666,
             "#ed7953"
            ],
            [
             0.7777777777777778,
             "#fb9f3a"
            ],
            [
             0.8888888888888888,
             "#fdca26"
            ],
            [
             1,
             "#f0f921"
            ]
           ]
          },
          "colorway": [
           "#636efa",
           "#EF553B",
           "#00cc96",
           "#ab63fa",
           "#FFA15A",
           "#19d3f3",
           "#FF6692",
           "#B6E880",
           "#FF97FF",
           "#FECB52"
          ],
          "font": {
           "color": "#2a3f5f"
          },
          "geo": {
           "bgcolor": "white",
           "lakecolor": "white",
           "landcolor": "#E5ECF6",
           "showlakes": true,
           "showland": true,
           "subunitcolor": "white"
          },
          "hoverlabel": {
           "align": "left"
          },
          "hovermode": "closest",
          "mapbox": {
           "style": "light"
          },
          "paper_bgcolor": "white",
          "plot_bgcolor": "#E5ECF6",
          "polar": {
           "angularaxis": {
            "gridcolor": "white",
            "linecolor": "white",
            "ticks": ""
           },
           "bgcolor": "#E5ECF6",
           "radialaxis": {
            "gridcolor": "white",
            "linecolor": "white",
            "ticks": ""
           }
          },
          "scene": {
           "xaxis": {
            "backgroundcolor": "#E5ECF6",
            "gridcolor": "white",
            "gridwidth": 2,
            "linecolor": "white",
            "showbackground": true,
            "ticks": "",
            "zerolinecolor": "white"
           },
           "yaxis": {
            "backgroundcolor": "#E5ECF6",
            "gridcolor": "white",
            "gridwidth": 2,
            "linecolor": "white",
            "showbackground": true,
            "ticks": "",
            "zerolinecolor": "white"
           },
           "zaxis": {
            "backgroundcolor": "#E5ECF6",
            "gridcolor": "white",
            "gridwidth": 2,
            "linecolor": "white",
            "showbackground": true,
            "ticks": "",
            "zerolinecolor": "white"
           }
          },
          "shapedefaults": {
           "line": {
            "color": "#2a3f5f"
           }
          },
          "ternary": {
           "aaxis": {
            "gridcolor": "white",
            "linecolor": "white",
            "ticks": ""
           },
           "baxis": {
            "gridcolor": "white",
            "linecolor": "white",
            "ticks": ""
           },
           "bgcolor": "#E5ECF6",
           "caxis": {
            "gridcolor": "white",
            "linecolor": "white",
            "ticks": ""
           }
          },
          "title": {
           "x": 0.05
          },
          "xaxis": {
           "automargin": true,
           "gridcolor": "white",
           "linecolor": "white",
           "ticks": "",
           "title": {
            "standoff": 15
           },
           "zerolinecolor": "white",
           "zerolinewidth": 2
          },
          "yaxis": {
           "automargin": true,
           "gridcolor": "white",
           "linecolor": "white",
           "ticks": "",
           "title": {
            "standoff": 15
           },
           "zerolinecolor": "white",
           "zerolinewidth": 2
          }
         }
        },
        "xaxis": {
         "title": {
          "text": "GDP per capita"
         },
         "type": "log"
        },
        "yaxis": {
         "title": {
          "text": "Life Expectancy (years)"
         }
        }
       }
      }
     },
     "metadata": {},
     "output_type": "display_data"
    }
   ],
   "source": [
    "\n",
    "\n",
    "\n",
    "\n",
    "data = px.data.gapminder()\n",
    "df_2007 = data[data['year']==2007]\n",
    "df_2007 = df_2007.sort_values(['continent', 'country'])\n",
    "\n",
    "bubble_size = []\n",
    "\n",
    "for index, row in df_2007.iterrows():\n",
    "    bubble_size.append(math.sqrt(row['pop']))\n",
    "\n",
    "df_2007['size'] = bubble_size\n",
    "continent_names = ['Africa', 'Americas', 'Asia', 'Europe', 'Oceania']\n",
    "continent_data = {continent:df_2007.query(\"continent == '%s'\" %continent)\n",
    "                              for continent in continent_names}\n",
    "\n",
    "fig = go.Figure()\n",
    "\n",
    "for continent_name, df in continent_data.items():\n",
    "    fig.add_trace(\n",
    "        go.Scatter(\n",
    "            x=df['gdpPercap'],\n",
    "            y=df['lifeExp'],\n",
    "            marker_size=df['size'],\n",
    "            name=continent_name,\n",
    "\n",
    "            # The next three parameters specify the hover text\n",
    "            # Text supports just one customized field per trace \n",
    "            # and is implemented here with text=df['continent'],  \n",
    "            # Custom data supports multiple fields through numeric indices in the hovertemplate \n",
    "            # In we weren't using the text parameter in our example, \n",
    "            # we could instead add continent as a third customdata field.\n",
    "            customdata=df[['country','pop']],  \n",
    "            hovertemplate=\n",
    "                \"<b>%{customdata[0]}</b><br>\" +\n",
    "                \"<b>%{customdata[1]}</b><br><br>\" +\n",
    "                \"GDP per Capita: %{x:$,.0f}<br>\" +\n",
    "                \"Life Expectancy: %{y:.0f}<br>\" +\n",
    "                \"Population: %{customdata[1]:,.0f}\" +\n",
    "                \"<extra></extra>\",\n",
    "        ))\n",
    "\n",
    "\n",
    "fig.update_traces(\n",
    "    mode='markers',\n",
    "    marker={'sizemode':'area',\n",
    "            'sizeref':10})\n",
    "\n",
    "fig.update_layout(\n",
    "    xaxis={\n",
    "        'title':'GDP per capita',\n",
    "        'type':'log'},\n",
    "    yaxis={'title':'Life Expectancy (years)'})\n",
    "\n",
    "fig.show()"
   ]
  },
  {
   "cell_type": "code",
   "execution_count": 4,
   "metadata": {},
   "outputs": [
    {
     "data": {
      "application/vnd.plotly.v1+json": {
       "config": {
        "plotlyServerURL": "https://plot.ly"
       },
       "data": [
        {
         "customdata": [
          [
           "Algeria",
           "Africa",
           33333216
          ],
          [
           "Angola",
           "Africa",
           12420476
          ],
          [
           "Benin",
           "Africa",
           8078314
          ],
          [
           "Botswana",
           "Africa",
           1639131
          ],
          [
           "Burkina Faso",
           "Africa",
           14326203
          ],
          [
           "Burundi",
           "Africa",
           8390505
          ],
          [
           "Cameroon",
           "Africa",
           17696293
          ],
          [
           "Central African Republic",
           "Africa",
           4369038
          ],
          [
           "Chad",
           "Africa",
           10238807
          ],
          [
           "Comoros",
           "Africa",
           710960
          ],
          [
           "Congo, Dem. Rep.",
           "Africa",
           64606759
          ],
          [
           "Congo, Rep.",
           "Africa",
           3800610
          ],
          [
           "Cote d'Ivoire",
           "Africa",
           18013409
          ],
          [
           "Djibouti",
           "Africa",
           496374
          ],
          [
           "Egypt",
           "Africa",
           80264543
          ],
          [
           "Equatorial Guinea",
           "Africa",
           551201
          ],
          [
           "Eritrea",
           "Africa",
           4906585
          ],
          [
           "Ethiopia",
           "Africa",
           76511887
          ],
          [
           "Gabon",
           "Africa",
           1454867
          ],
          [
           "Gambia",
           "Africa",
           1688359
          ],
          [
           "Ghana",
           "Africa",
           22873338
          ],
          [
           "Guinea",
           "Africa",
           9947814
          ],
          [
           "Guinea-Bissau",
           "Africa",
           1472041
          ],
          [
           "Kenya",
           "Africa",
           35610177
          ],
          [
           "Lesotho",
           "Africa",
           2012649
          ],
          [
           "Liberia",
           "Africa",
           3193942
          ],
          [
           "Libya",
           "Africa",
           6036914
          ],
          [
           "Madagascar",
           "Africa",
           19167654
          ],
          [
           "Malawi",
           "Africa",
           13327079
          ],
          [
           "Mali",
           "Africa",
           12031795
          ],
          [
           "Mauritania",
           "Africa",
           3270065
          ],
          [
           "Mauritius",
           "Africa",
           1250882
          ],
          [
           "Morocco",
           "Africa",
           33757175
          ],
          [
           "Mozambique",
           "Africa",
           19951656
          ],
          [
           "Namibia",
           "Africa",
           2055080
          ],
          [
           "Niger",
           "Africa",
           12894865
          ],
          [
           "Nigeria",
           "Africa",
           135031164
          ],
          [
           "Reunion",
           "Africa",
           798094
          ],
          [
           "Rwanda",
           "Africa",
           8860588
          ],
          [
           "Sao Tome and Principe",
           "Africa",
           199579
          ],
          [
           "Senegal",
           "Africa",
           12267493
          ],
          [
           "Sierra Leone",
           "Africa",
           6144562
          ],
          [
           "Somalia",
           "Africa",
           9118773
          ],
          [
           "South Africa",
           "Africa",
           43997828
          ],
          [
           "Sudan",
           "Africa",
           42292929
          ],
          [
           "Swaziland",
           "Africa",
           1133066
          ],
          [
           "Tanzania",
           "Africa",
           38139640
          ],
          [
           "Togo",
           "Africa",
           5701579
          ],
          [
           "Tunisia",
           "Africa",
           10276158
          ],
          [
           "Uganda",
           "Africa",
           29170398
          ],
          [
           "Zambia",
           "Africa",
           11746035
          ],
          [
           "Zimbabwe",
           "Africa",
           12311143
          ]
         ],
         "hovertemplate": "<b>%{customdata[0]}</b><br><b>%{customdata[1]}</b><br><br>GDP per Capita: %{x:$,.0f}<br>Life Expectation: %{y:.0f}<br>Population: %{customdata[2]:,.0f}<extra></extra>",
         "legendgroup": "Africa",
         "marker": {
          "color": "#636efa",
          "size": [
           5773.492530522578,
           3524.269569712283,
           2842.237498873027,
           1280.2855150317057,
           3784.9970937901658,
           2896.6368429611607,
           4206.696209616282,
           2090.2243898682264,
           3199.8135883204195,
           843.1844400841372,
           8037.832979105749,
           1949.5153243819348,
           4244.2206587311175,
           704.5381465896648,
           8959.048107918608,
           742.429121196091,
           2215.0812626176944,
           8747.107350433056,
           1206.1786766478672,
           1299.3686928658856,
           4782.607866007833,
           3154.015535789258,
           1213.276967555224,
           5967.426329666751,
           1418.678610538694,
           1787.160317375025,
           2457.013227477622,
           4378.0879388153,
           3650.627206385226,
           3468.687792234983,
           1808.3321044542674,
           1118.428361586025,
           5810.092512172246,
           4466.727661275086,
           1433.5550216158429,
           3590.9420769486105,
           11620.291046269022,
           893.3610692211744,
           2976.673982820423,
           446.74265522781684,
           3502.498108493422,
           2478.822704430472,
           3019.730617124647,
           6633.085858030182,
           6503.301392369878,
           1064.4557294692909,
           6175.729916374258,
           2387.7979395250345,
           3205.644708947016,
           5400.962691965202,
           3427.248896710013,
           3508.7238420827593
          ],
          "sizemode": "area",
          "sizeref": 10,
          "symbol": "circle"
         },
         "mode": "markers",
         "name": "Africa",
         "orientation": "v",
         "showlegend": true,
         "type": "scatter",
         "x": [
          6223.367465,
          4797.231267,
          1441.284873,
          12569.85177,
          1217.032994,
          430.0706916,
          2042.09524,
          706.016537,
          1704.063724,
          986.1478792,
          277.5518587,
          3632.557798,
          1544.750112,
          2082.4815670000007,
          5581.180998,
          12154.08975,
          641.3695236000002,
          690.8055759,
          13206.48452,
          752.7497265,
          1327.60891,
          942.6542111,
          579.2317429999998,
          1463.249282,
          1569.331442,
          414.5073415,
          12057.49928,
          1044.770126,
          759.3499101,
          1042.581557,
          1803.151496,
          10956.99112,
          3820.17523,
          823.6856205,
          4811.060429,
          619.6768923999998,
          2013.977305,
          7670.122558,
          863.0884639000002,
          1598.435089,
          1712.472136,
          862.5407561000002,
          926.1410683,
          9269.657808,
          2602.394995,
          4513.480643,
          1107.482182,
          882.9699437999999,
          7092.923025,
          1056.380121,
          1271.211593,
          469.70929810000007
         ],
         "xaxis": "x",
         "y": [
          72.301,
          42.731,
          56.728,
          50.728,
          52.295,
          49.58,
          50.43,
          44.74100000000001,
          50.651,
          65.152,
          46.462,
          55.322,
          48.328,
          54.791,
          71.33800000000002,
          51.57899999999999,
          58.04,
          52.947,
          56.735,
          59.448,
          60.022,
          56.007,
          46.38800000000001,
          54.11,
          42.592,
          45.678,
          73.952,
          59.44300000000001,
          48.303,
          54.467,
          64.164,
          72.801,
          71.164,
          42.082,
          52.90600000000001,
          56.867,
          46.859,
          76.442,
          46.242,
          65.528,
          63.062,
          42.56800000000001,
          48.159,
          49.339,
          58.556,
          39.613,
          52.517,
          58.42,
          73.923,
          51.542,
          42.38399999999999,
          43.487
         ],
         "yaxis": "y"
        },
        {
         "customdata": [
          [
           "Argentina",
           "Americas",
           40301927
          ],
          [
           "Bolivia",
           "Americas",
           9119152
          ],
          [
           "Brazil",
           "Americas",
           190010647
          ],
          [
           "Canada",
           "Americas",
           33390141
          ],
          [
           "Chile",
           "Americas",
           16284741
          ],
          [
           "Colombia",
           "Americas",
           44227550
          ],
          [
           "Costa Rica",
           "Americas",
           4133884
          ],
          [
           "Cuba",
           "Americas",
           11416987
          ],
          [
           "Dominican Republic",
           "Americas",
           9319622
          ],
          [
           "Ecuador",
           "Americas",
           13755680
          ],
          [
           "El Salvador",
           "Americas",
           6939688
          ],
          [
           "Guatemala",
           "Americas",
           12572928
          ],
          [
           "Haiti",
           "Americas",
           8502814
          ],
          [
           "Honduras",
           "Americas",
           7483763
          ],
          [
           "Jamaica",
           "Americas",
           2780132
          ],
          [
           "Mexico",
           "Americas",
           108700891
          ],
          [
           "Nicaragua",
           "Americas",
           5675356
          ],
          [
           "Panama",
           "Americas",
           3242173
          ],
          [
           "Paraguay",
           "Americas",
           6667147
          ],
          [
           "Peru",
           "Americas",
           28674757
          ],
          [
           "Puerto Rico",
           "Americas",
           3942491
          ],
          [
           "Trinidad and Tobago",
           "Americas",
           1056608
          ],
          [
           "United States",
           "Americas",
           301139947
          ],
          [
           "Uruguay",
           "Americas",
           3447496
          ],
          [
           "Venezuela",
           "Americas",
           26084662
          ]
         ],
         "hovertemplate": "<b>%{customdata[0]}</b><br><b>%{customdata[1]}</b><br><br>GDP per Capita: %{x:$,.0f}<br>Life Expectation: %{y:.0f}<br>Population: %{customdata[2]:,.0f}<extra></extra>",
         "legendgroup": "Americas",
         "marker": {
          "color": "#EF553B",
          "size": [
           6348.379872061848,
           3019.793370414605,
           13784.43495396166,
           5778.4202858566805,
           4035.4356642127254,
           6650.379688408775,
           2033.1955144550168,
           3378.9032244206105,
           3052.8055948586048,
           3708.8650555122654,
           2634.32875700813,
           3545.8324833528163,
           2915.958504505851,
           2735.646724268322,
           1667.3727837529316,
           10425.97194509941,
           2382.3005687780037,
           1800.6035099377098,
           2582.0819119462494,
           5354.881604666904,
           1985.5706988168415,
           1027.9143933227124,
           17353.384309695903,
           1856.7433856082537,
           5107.314558552273
          ],
          "sizemode": "area",
          "sizeref": 10,
          "symbol": "circle"
         },
         "mode": "markers",
         "name": "Americas",
         "orientation": "v",
         "showlegend": true,
         "type": "scatter",
         "x": [
          12779.37964,
          3822.137084,
          9065.800825,
          36319.23501,
          13171.63885,
          7006.580419,
          9645.06142,
          8948.102923,
          6025.3747520000015,
          6873.262326000001,
          5728.353514,
          5186.050003,
          1201.637154,
          3548.3308460000007,
          7320.8802620000015,
          11977.57496,
          2749.320965,
          9809.185636,
          4172.838464,
          7408.905561,
          19328.70901,
          18008.50924,
          42951.65309,
          10611.46299,
          11415.80569
         ],
         "xaxis": "x",
         "y": [
          75.32,
          65.554,
          72.39,
          80.653,
          78.553,
          72.889,
          78.782,
          78.273,
          72.235,
          74.994,
          71.878,
          70.259,
          60.916,
          70.19800000000001,
          72.567,
          76.195,
          72.899,
          75.53699999999998,
          71.752,
          71.421,
          78.74600000000002,
          69.819,
          78.242,
          76.384,
          73.747
         ],
         "yaxis": "y"
        },
        {
         "customdata": [
          [
           "Afghanistan",
           "Asia",
           31889923
          ],
          [
           "Bahrain",
           "Asia",
           708573
          ],
          [
           "Bangladesh",
           "Asia",
           150448339
          ],
          [
           "Cambodia",
           "Asia",
           14131858
          ],
          [
           "China",
           "Asia",
           1318683096
          ],
          [
           "Hong Kong, China",
           "Asia",
           6980412
          ],
          [
           "India",
           "Asia",
           1110396331
          ],
          [
           "Indonesia",
           "Asia",
           223547000
          ],
          [
           "Iran",
           "Asia",
           69453570
          ],
          [
           "Iraq",
           "Asia",
           27499638
          ],
          [
           "Israel",
           "Asia",
           6426679
          ],
          [
           "Japan",
           "Asia",
           127467972
          ],
          [
           "Jordan",
           "Asia",
           6053193
          ],
          [
           "Korea, Dem. Rep.",
           "Asia",
           23301725
          ],
          [
           "Korea, Rep.",
           "Asia",
           49044790
          ],
          [
           "Kuwait",
           "Asia",
           2505559
          ],
          [
           "Lebanon",
           "Asia",
           3921278
          ],
          [
           "Malaysia",
           "Asia",
           24821286
          ],
          [
           "Mongolia",
           "Asia",
           2874127
          ],
          [
           "Myanmar",
           "Asia",
           47761980
          ],
          [
           "Nepal",
           "Asia",
           28901790
          ],
          [
           "Oman",
           "Asia",
           3204897
          ],
          [
           "Pakistan",
           "Asia",
           169270617
          ],
          [
           "Philippines",
           "Asia",
           91077287
          ],
          [
           "Saudi Arabia",
           "Asia",
           27601038
          ],
          [
           "Singapore",
           "Asia",
           4553009
          ],
          [
           "Sri Lanka",
           "Asia",
           20378239
          ],
          [
           "Syria",
           "Asia",
           19314747
          ],
          [
           "Taiwan",
           "Asia",
           23174294
          ],
          [
           "Thailand",
           "Asia",
           65068149
          ],
          [
           "Vietnam",
           "Asia",
           85262356
          ],
          [
           "West Bank and Gaza",
           "Asia",
           4018332
          ],
          [
           "Yemen, Rep.",
           "Asia",
           22211743
          ]
         ],
         "hovertemplate": "<b>%{customdata[0]}</b><br><b>%{customdata[1]}</b><br><br>GDP per Capita: %{x:$,.0f}<br>Life Expectation: %{y:.0f}<br>Population: %{customdata[2]:,.0f}<extra></extra>",
         "legendgroup": "Asia",
         "marker": {
          "color": "#00cc96",
          "size": [
           5647.116343763426,
           841.7677827049453,
           12265.738420494707,
           3759.236358623916,
           36313.67643188996,
           2642.046933723926,
           33322.609906788515,
           14951.48822024082,
           8333.880848680283,
           5244.009725391439,
           2535.089544769573,
           11290.171477882875,
           2460.323759182925,
           4827.186033291031,
           7003.1985549461615,
           1582.8957640981923,
           1980.2217047593433,
           4982.096546635764,
           1695.3250425803308,
           6911.004268556054,
           5376.038504326397,
           1790.2226118558551,
           13010.404182806928,
           9543.442093919783,
           5253.6690036583,
           2133.778104677241,
           4514.226290296046,
           4394.854605103564,
           4813.968633051113,
           8066.483062648802,
           9233.761746980479,
           2004.5777610259972,
           4712.933587480307
          ],
          "sizemode": "area",
          "sizeref": 10,
          "symbol": "circle"
         },
         "mode": "markers",
         "name": "Asia",
         "orientation": "v",
         "showlegend": true,
         "type": "scatter",
         "x": [
          974.5803384,
          29796.04834,
          1391.253792,
          1713.778686,
          4959.114854,
          39724.97867,
          2452.210407,
          3540.651564,
          11605.71449,
          4471.061906,
          25523.2771,
          31656.06806,
          4519.461171,
          1593.06548,
          23348.139730000006,
          47306.98978,
          10461.05868,
          12451.6558,
          3095.7722710000007,
          944,
          1091.359778,
          22316.19287,
          2605.94758,
          3190.481016,
          21654.83194,
          47143.17964,
          3970.095407,
          4184.548089,
          28718.27684,
          7458.396326999998,
          2441.576404,
          3025.349798,
          2280.769906
         ],
         "xaxis": "x",
         "y": [
          43.828,
          75.635,
          64.062,
          59.723,
          72.961,
          82.208,
          64.69800000000001,
          70.65,
          70.964,
          59.545,
          80.745,
          82.603,
          72.535,
          67.297,
          78.623,
          77.58800000000002,
          71.993,
          74.241,
          66.803,
          62.069,
          63.785,
          75.64,
          65.483,
          71.688,
          72.777,
          79.972,
          72.396,
          74.143,
          78.4,
          70.616,
          74.249,
          73.422,
          62.698
         ],
         "yaxis": "y"
        },
        {
         "customdata": [
          [
           "Albania",
           "Europe",
           3600523
          ],
          [
           "Austria",
           "Europe",
           8199783
          ],
          [
           "Belgium",
           "Europe",
           10392226
          ],
          [
           "Bosnia and Herzegovina",
           "Europe",
           4552198
          ],
          [
           "Bulgaria",
           "Europe",
           7322858
          ],
          [
           "Croatia",
           "Europe",
           4493312
          ],
          [
           "Czech Republic",
           "Europe",
           10228744
          ],
          [
           "Denmark",
           "Europe",
           5468120
          ],
          [
           "Finland",
           "Europe",
           5238460
          ],
          [
           "France",
           "Europe",
           61083916
          ],
          [
           "Germany",
           "Europe",
           82400996
          ],
          [
           "Greece",
           "Europe",
           10706290
          ],
          [
           "Hungary",
           "Europe",
           9956108
          ],
          [
           "Iceland",
           "Europe",
           301931
          ],
          [
           "Ireland",
           "Europe",
           4109086
          ],
          [
           "Italy",
           "Europe",
           58147733
          ],
          [
           "Montenegro",
           "Europe",
           684736
          ],
          [
           "Netherlands",
           "Europe",
           16570613
          ],
          [
           "Norway",
           "Europe",
           4627926
          ],
          [
           "Poland",
           "Europe",
           38518241
          ],
          [
           "Portugal",
           "Europe",
           10642836
          ],
          [
           "Romania",
           "Europe",
           22276056
          ],
          [
           "Serbia",
           "Europe",
           10150265
          ],
          [
           "Slovak Republic",
           "Europe",
           5447502
          ],
          [
           "Slovenia",
           "Europe",
           2009245
          ],
          [
           "Spain",
           "Europe",
           40448191
          ],
          [
           "Sweden",
           "Europe",
           9031088
          ],
          [
           "Switzerland",
           "Europe",
           7554661
          ],
          [
           "Turkey",
           "Europe",
           71158647
          ],
          [
           "United Kingdom",
           "Europe",
           60776238
          ]
         ],
         "hovertemplate": "<b>%{customdata[0]}</b><br><b>%{customdata[1]}</b><br><br>GDP per Capita: %{x:$,.0f}<br>Life Expectation: %{y:.0f}<br>Population: %{customdata[2]:,.0f}<extra></extra>",
         "legendgroup": "Europe",
         "marker": {
          "color": "#ab63fa",
          "size": [
           1897.5044136971064,
           2863.5263225610483,
           3223.6975664599804,
           2133.5880577093603,
           2706.077973747246,
           2119.743380694937,
           3198.24076642144,
           2338.401163188216,
           2288.768227671819,
           7815.620000998001,
           9077.499435417223,
           3272.0467600570746,
           3155.330093666905,
           549.4824837972544,
           2027.0880592613632,
           7625.4660841157765,
           827.487764259992,
           4070.701782248363,
           2151.2614903818644,
           6206.30655059835,
           3262.3359728881387,
           4719.751688383617,
           3185.9480535627067,
           2333.9884318479385,
           1417.4783948970792,
           6359.8892285951015,
           3005.1768666752378,
           2748.574357735297,
           8435.55848773512,
           7795.911620843325
          ],
          "sizemode": "area",
          "sizeref": 10,
          "symbol": "circle"
         },
         "mode": "markers",
         "name": "Europe",
         "orientation": "v",
         "showlegend": true,
         "type": "scatter",
         "x": [
          5937.029525999998,
          36126.4927,
          33692.60508,
          7446.298803,
          10680.79282,
          14619.222719999998,
          22833.30851,
          35278.41874,
          33207.0844,
          30470.0167,
          32170.37442,
          27538.41188,
          18008.94444,
          36180.78919,
          40675.99635,
          28569.7197,
          9253.896111,
          36797.93332,
          49357.19017,
          15389.924680000002,
          20509.64777,
          10808.47561,
          9786.534714,
          18678.31435,
          25768.25759,
          28821.0637,
          33859.74835,
          37506.41907,
          8458.276384,
          33203.26128
         ],
         "xaxis": "x",
         "y": [
          76.423,
          79.829,
          79.441,
          74.852,
          73.005,
          75.748,
          76.486,
          78.332,
          79.313,
          80.657,
          79.406,
          79.483,
          73.33800000000002,
          81.757,
          78.885,
          80.546,
          74.543,
          79.762,
          80.196,
          75.563,
          78.098,
          72.476,
          74.002,
          74.663,
          77.926,
          80.941,
          80.884,
          81.70100000000002,
          71.777,
          79.425
         ],
         "yaxis": "y"
        },
        {
         "customdata": [
          [
           "Australia",
           "Oceania",
           20434176
          ],
          [
           "New Zealand",
           "Oceania",
           4115771
          ]
         ],
         "hovertemplate": "<b>%{customdata[0]}</b><br><b>%{customdata[1]}</b><br><br>GDP per Capita: %{x:$,.0f}<br>Life Expectation: %{y:.0f}<br>Population: %{customdata[2]:,.0f}<extra></extra>",
         "legendgroup": "Oceania",
         "marker": {
          "color": "#FFA15A",
          "size": [
           4520.417679816766,
           2028.7363061768278
          ],
          "sizemode": "area",
          "sizeref": 10,
          "symbol": "circle"
         },
         "mode": "markers",
         "name": "Oceania",
         "orientation": "v",
         "showlegend": true,
         "type": "scatter",
         "x": [
          34435.367439999995,
          25185.00911
         ],
         "xaxis": "x",
         "y": [
          81.235,
          80.204
         ],
         "yaxis": "y"
        }
       ],
       "layout": {
        "legend": {
         "itemsizing": "constant",
         "title": {
          "text": "continent"
         },
         "tracegroupgap": 0
        },
        "margin": {
         "t": 60
        },
        "template": {
         "data": {
          "bar": [
           {
            "error_x": {
             "color": "#2a3f5f"
            },
            "error_y": {
             "color": "#2a3f5f"
            },
            "marker": {
             "line": {
              "color": "#E5ECF6",
              "width": 0.5
             },
             "pattern": {
              "fillmode": "overlay",
              "size": 10,
              "solidity": 0.2
             }
            },
            "type": "bar"
           }
          ],
          "barpolar": [
           {
            "marker": {
             "line": {
              "color": "#E5ECF6",
              "width": 0.5
             },
             "pattern": {
              "fillmode": "overlay",
              "size": 10,
              "solidity": 0.2
             }
            },
            "type": "barpolar"
           }
          ],
          "carpet": [
           {
            "aaxis": {
             "endlinecolor": "#2a3f5f",
             "gridcolor": "white",
             "linecolor": "white",
             "minorgridcolor": "white",
             "startlinecolor": "#2a3f5f"
            },
            "baxis": {
             "endlinecolor": "#2a3f5f",
             "gridcolor": "white",
             "linecolor": "white",
             "minorgridcolor": "white",
             "startlinecolor": "#2a3f5f"
            },
            "type": "carpet"
           }
          ],
          "choropleth": [
           {
            "colorbar": {
             "outlinewidth": 0,
             "ticks": ""
            },
            "type": "choropleth"
           }
          ],
          "contour": [
           {
            "colorbar": {
             "outlinewidth": 0,
             "ticks": ""
            },
            "colorscale": [
             [
              0,
              "#0d0887"
             ],
             [
              0.1111111111111111,
              "#46039f"
             ],
             [
              0.2222222222222222,
              "#7201a8"
             ],
             [
              0.3333333333333333,
              "#9c179e"
             ],
             [
              0.4444444444444444,
              "#bd3786"
             ],
             [
              0.5555555555555556,
              "#d8576b"
             ],
             [
              0.6666666666666666,
              "#ed7953"
             ],
             [
              0.7777777777777778,
              "#fb9f3a"
             ],
             [
              0.8888888888888888,
              "#fdca26"
             ],
             [
              1,
              "#f0f921"
             ]
            ],
            "type": "contour"
           }
          ],
          "contourcarpet": [
           {
            "colorbar": {
             "outlinewidth": 0,
             "ticks": ""
            },
            "type": "contourcarpet"
           }
          ],
          "heatmap": [
           {
            "colorbar": {
             "outlinewidth": 0,
             "ticks": ""
            },
            "colorscale": [
             [
              0,
              "#0d0887"
             ],
             [
              0.1111111111111111,
              "#46039f"
             ],
             [
              0.2222222222222222,
              "#7201a8"
             ],
             [
              0.3333333333333333,
              "#9c179e"
             ],
             [
              0.4444444444444444,
              "#bd3786"
             ],
             [
              0.5555555555555556,
              "#d8576b"
             ],
             [
              0.6666666666666666,
              "#ed7953"
             ],
             [
              0.7777777777777778,
              "#fb9f3a"
             ],
             [
              0.8888888888888888,
              "#fdca26"
             ],
             [
              1,
              "#f0f921"
             ]
            ],
            "type": "heatmap"
           }
          ],
          "heatmapgl": [
           {
            "colorbar": {
             "outlinewidth": 0,
             "ticks": ""
            },
            "colorscale": [
             [
              0,
              "#0d0887"
             ],
             [
              0.1111111111111111,
              "#46039f"
             ],
             [
              0.2222222222222222,
              "#7201a8"
             ],
             [
              0.3333333333333333,
              "#9c179e"
             ],
             [
              0.4444444444444444,
              "#bd3786"
             ],
             [
              0.5555555555555556,
              "#d8576b"
             ],
             [
              0.6666666666666666,
              "#ed7953"
             ],
             [
              0.7777777777777778,
              "#fb9f3a"
             ],
             [
              0.8888888888888888,
              "#fdca26"
             ],
             [
              1,
              "#f0f921"
             ]
            ],
            "type": "heatmapgl"
           }
          ],
          "histogram": [
           {
            "marker": {
             "pattern": {
              "fillmode": "overlay",
              "size": 10,
              "solidity": 0.2
             }
            },
            "type": "histogram"
           }
          ],
          "histogram2d": [
           {
            "colorbar": {
             "outlinewidth": 0,
             "ticks": ""
            },
            "colorscale": [
             [
              0,
              "#0d0887"
             ],
             [
              0.1111111111111111,
              "#46039f"
             ],
             [
              0.2222222222222222,
              "#7201a8"
             ],
             [
              0.3333333333333333,
              "#9c179e"
             ],
             [
              0.4444444444444444,
              "#bd3786"
             ],
             [
              0.5555555555555556,
              "#d8576b"
             ],
             [
              0.6666666666666666,
              "#ed7953"
             ],
             [
              0.7777777777777778,
              "#fb9f3a"
             ],
             [
              0.8888888888888888,
              "#fdca26"
             ],
             [
              1,
              "#f0f921"
             ]
            ],
            "type": "histogram2d"
           }
          ],
          "histogram2dcontour": [
           {
            "colorbar": {
             "outlinewidth": 0,
             "ticks": ""
            },
            "colorscale": [
             [
              0,
              "#0d0887"
             ],
             [
              0.1111111111111111,
              "#46039f"
             ],
             [
              0.2222222222222222,
              "#7201a8"
             ],
             [
              0.3333333333333333,
              "#9c179e"
             ],
             [
              0.4444444444444444,
              "#bd3786"
             ],
             [
              0.5555555555555556,
              "#d8576b"
             ],
             [
              0.6666666666666666,
              "#ed7953"
             ],
             [
              0.7777777777777778,
              "#fb9f3a"
             ],
             [
              0.8888888888888888,
              "#fdca26"
             ],
             [
              1,
              "#f0f921"
             ]
            ],
            "type": "histogram2dcontour"
           }
          ],
          "mesh3d": [
           {
            "colorbar": {
             "outlinewidth": 0,
             "ticks": ""
            },
            "type": "mesh3d"
           }
          ],
          "parcoords": [
           {
            "line": {
             "colorbar": {
              "outlinewidth": 0,
              "ticks": ""
             }
            },
            "type": "parcoords"
           }
          ],
          "pie": [
           {
            "automargin": true,
            "type": "pie"
           }
          ],
          "scatter": [
           {
            "fillpattern": {
             "fillmode": "overlay",
             "size": 10,
             "solidity": 0.2
            },
            "type": "scatter"
           }
          ],
          "scatter3d": [
           {
            "line": {
             "colorbar": {
              "outlinewidth": 0,
              "ticks": ""
             }
            },
            "marker": {
             "colorbar": {
              "outlinewidth": 0,
              "ticks": ""
             }
            },
            "type": "scatter3d"
           }
          ],
          "scattercarpet": [
           {
            "marker": {
             "colorbar": {
              "outlinewidth": 0,
              "ticks": ""
             }
            },
            "type": "scattercarpet"
           }
          ],
          "scattergeo": [
           {
            "marker": {
             "colorbar": {
              "outlinewidth": 0,
              "ticks": ""
             }
            },
            "type": "scattergeo"
           }
          ],
          "scattergl": [
           {
            "marker": {
             "colorbar": {
              "outlinewidth": 0,
              "ticks": ""
             }
            },
            "type": "scattergl"
           }
          ],
          "scattermapbox": [
           {
            "marker": {
             "colorbar": {
              "outlinewidth": 0,
              "ticks": ""
             }
            },
            "type": "scattermapbox"
           }
          ],
          "scatterpolar": [
           {
            "marker": {
             "colorbar": {
              "outlinewidth": 0,
              "ticks": ""
             }
            },
            "type": "scatterpolar"
           }
          ],
          "scatterpolargl": [
           {
            "marker": {
             "colorbar": {
              "outlinewidth": 0,
              "ticks": ""
             }
            },
            "type": "scatterpolargl"
           }
          ],
          "scatterternary": [
           {
            "marker": {
             "colorbar": {
              "outlinewidth": 0,
              "ticks": ""
             }
            },
            "type": "scatterternary"
           }
          ],
          "surface": [
           {
            "colorbar": {
             "outlinewidth": 0,
             "ticks": ""
            },
            "colorscale": [
             [
              0,
              "#0d0887"
             ],
             [
              0.1111111111111111,
              "#46039f"
             ],
             [
              0.2222222222222222,
              "#7201a8"
             ],
             [
              0.3333333333333333,
              "#9c179e"
             ],
             [
              0.4444444444444444,
              "#bd3786"
             ],
             [
              0.5555555555555556,
              "#d8576b"
             ],
             [
              0.6666666666666666,
              "#ed7953"
             ],
             [
              0.7777777777777778,
              "#fb9f3a"
             ],
             [
              0.8888888888888888,
              "#fdca26"
             ],
             [
              1,
              "#f0f921"
             ]
            ],
            "type": "surface"
           }
          ],
          "table": [
           {
            "cells": {
             "fill": {
              "color": "#EBF0F8"
             },
             "line": {
              "color": "white"
             }
            },
            "header": {
             "fill": {
              "color": "#C8D4E3"
             },
             "line": {
              "color": "white"
             }
            },
            "type": "table"
           }
          ]
         },
         "layout": {
          "annotationdefaults": {
           "arrowcolor": "#2a3f5f",
           "arrowhead": 0,
           "arrowwidth": 1
          },
          "autotypenumbers": "strict",
          "coloraxis": {
           "colorbar": {
            "outlinewidth": 0,
            "ticks": ""
           }
          },
          "colorscale": {
           "diverging": [
            [
             0,
             "#8e0152"
            ],
            [
             0.1,
             "#c51b7d"
            ],
            [
             0.2,
             "#de77ae"
            ],
            [
             0.3,
             "#f1b6da"
            ],
            [
             0.4,
             "#fde0ef"
            ],
            [
             0.5,
             "#f7f7f7"
            ],
            [
             0.6,
             "#e6f5d0"
            ],
            [
             0.7,
             "#b8e186"
            ],
            [
             0.8,
             "#7fbc41"
            ],
            [
             0.9,
             "#4d9221"
            ],
            [
             1,
             "#276419"
            ]
           ],
           "sequential": [
            [
             0,
             "#0d0887"
            ],
            [
             0.1111111111111111,
             "#46039f"
            ],
            [
             0.2222222222222222,
             "#7201a8"
            ],
            [
             0.3333333333333333,
             "#9c179e"
            ],
            [
             0.4444444444444444,
             "#bd3786"
            ],
            [
             0.5555555555555556,
             "#d8576b"
            ],
            [
             0.6666666666666666,
             "#ed7953"
            ],
            [
             0.7777777777777778,
             "#fb9f3a"
            ],
            [
             0.8888888888888888,
             "#fdca26"
            ],
            [
             1,
             "#f0f921"
            ]
           ],
           "sequentialminus": [
            [
             0,
             "#0d0887"
            ],
            [
             0.1111111111111111,
             "#46039f"
            ],
            [
             0.2222222222222222,
             "#7201a8"
            ],
            [
             0.3333333333333333,
             "#9c179e"
            ],
            [
             0.4444444444444444,
             "#bd3786"
            ],
            [
             0.5555555555555556,
             "#d8576b"
            ],
            [
             0.6666666666666666,
             "#ed7953"
            ],
            [
             0.7777777777777778,
             "#fb9f3a"
            ],
            [
             0.8888888888888888,
             "#fdca26"
            ],
            [
             1,
             "#f0f921"
            ]
           ]
          },
          "colorway": [
           "#636efa",
           "#EF553B",
           "#00cc96",
           "#ab63fa",
           "#FFA15A",
           "#19d3f3",
           "#FF6692",
           "#B6E880",
           "#FF97FF",
           "#FECB52"
          ],
          "font": {
           "color": "#2a3f5f"
          },
          "geo": {
           "bgcolor": "white",
           "lakecolor": "white",
           "landcolor": "#E5ECF6",
           "showlakes": true,
           "showland": true,
           "subunitcolor": "white"
          },
          "hoverlabel": {
           "align": "left"
          },
          "hovermode": "closest",
          "mapbox": {
           "style": "light"
          },
          "paper_bgcolor": "white",
          "plot_bgcolor": "#E5ECF6",
          "polar": {
           "angularaxis": {
            "gridcolor": "white",
            "linecolor": "white",
            "ticks": ""
           },
           "bgcolor": "#E5ECF6",
           "radialaxis": {
            "gridcolor": "white",
            "linecolor": "white",
            "ticks": ""
           }
          },
          "scene": {
           "xaxis": {
            "backgroundcolor": "#E5ECF6",
            "gridcolor": "white",
            "gridwidth": 2,
            "linecolor": "white",
            "showbackground": true,
            "ticks": "",
            "zerolinecolor": "white"
           },
           "yaxis": {
            "backgroundcolor": "#E5ECF6",
            "gridcolor": "white",
            "gridwidth": 2,
            "linecolor": "white",
            "showbackground": true,
            "ticks": "",
            "zerolinecolor": "white"
           },
           "zaxis": {
            "backgroundcolor": "#E5ECF6",
            "gridcolor": "white",
            "gridwidth": 2,
            "linecolor": "white",
            "showbackground": true,
            "ticks": "",
            "zerolinecolor": "white"
           }
          },
          "shapedefaults": {
           "line": {
            "color": "#2a3f5f"
           }
          },
          "ternary": {
           "aaxis": {
            "gridcolor": "white",
            "linecolor": "white",
            "ticks": ""
           },
           "baxis": {
            "gridcolor": "white",
            "linecolor": "white",
            "ticks": ""
           },
           "bgcolor": "#E5ECF6",
           "caxis": {
            "gridcolor": "white",
            "linecolor": "white",
            "ticks": ""
           }
          },
          "title": {
           "x": 0.05
          },
          "xaxis": {
           "automargin": true,
           "gridcolor": "white",
           "linecolor": "white",
           "ticks": "",
           "title": {
            "standoff": 15
           },
           "zerolinecolor": "white",
           "zerolinewidth": 2
          },
          "yaxis": {
           "automargin": true,
           "gridcolor": "white",
           "linecolor": "white",
           "ticks": "",
           "title": {
            "standoff": 15
           },
           "zerolinecolor": "white",
           "zerolinewidth": 2
          }
         }
        },
        "xaxis": {
         "anchor": "y",
         "domain": [
          0,
          1
         ],
         "title": {
          "text": "GDP per capita"
         },
         "type": "log"
        },
        "yaxis": {
         "anchor": "x",
         "domain": [
          0,
          1
         ],
         "title": {
          "text": "Life Expectancy (years)"
         }
        }
       }
      }
     },
     "metadata": {},
     "output_type": "display_data"
    }
   ],
   "source": [
    "data = px.data.gapminder()\n",
    "df = data[data['year']==2007]\n",
    "df = df.sort_values(['continent', 'country'])\n",
    "\n",
    "df.rename(columns={\"gdpPercap\":'GDP per capita', \"lifeExp\":'Life Expectancy (years)'}, inplace=True)\n",
    "\n",
    "fig=px.scatter(df, \n",
    "               x='GDP per capita',\n",
    "               y='Life Expectancy (years)', \n",
    "               color='continent', \n",
    "               size=np.sqrt(df['pop']),           \n",
    "               # Specifying data to make available to the hovertemplate\n",
    "               # The px custom_data parameter has an underscore, while the analogous graph objects customdata parameter has no underscore.\n",
    "               # The px custom_data parameter is a list of column names in the data frame, while the graph objects customdata parameter expects a data frame or a numpy array.\n",
    "               custom_data=['country', 'continent', 'pop'], \n",
    ")\n",
    "\n",
    "# Plotly express does not have a hovertemplate parameter in the graph creation function, so we apply the template with update_traces\n",
    "fig.update_traces(\n",
    "    hovertemplate = \n",
    "                \"<b>%{customdata[0]}</b><br>\" +\n",
    "                \"<b>%{customdata[1]}</b><br><br>\" +\n",
    "                \"GDP per Capita: %{x:$,.0f}<br>\" +\n",
    "                \"Life Expectation: %{y:.0f}<br>\" +\n",
    "                \"Population: %{customdata[2]:,.0f}\" +\n",
    "                \"<extra></extra>\",\n",
    "    mode='markers',\n",
    "    marker={'sizemode':'area',\n",
    "            'sizeref':10},\n",
    ")\n",
    "\n",
    "fig.update_layout(\n",
    "        xaxis={\n",
    "            'type':'log'},\n",
    "        )\n",
    "\n",
    "fig.show()"
   ]
  },
  {
   "cell_type": "code",
   "execution_count": 5,
   "metadata": {},
   "outputs": [
    {
     "data": {
      "application/vnd.plotly.v1+json": {
       "config": {
        "plotlyServerURL": "https://plot.ly"
       },
       "data": [
        {
         "hovertemplate": "x: %{x}<br>y: %{y}<br>Label: %{hovertext}",
         "hovertext": [
          "Point 1",
          "Point 2",
          "Point 3"
         ],
         "type": "scatter",
         "x": [
          1,
          2,
          3
         ],
         "y": [
          4,
          5,
          6
         ]
        }
       ],
       "layout": {
        "template": {
         "data": {
          "bar": [
           {
            "error_x": {
             "color": "#2a3f5f"
            },
            "error_y": {
             "color": "#2a3f5f"
            },
            "marker": {
             "line": {
              "color": "#E5ECF6",
              "width": 0.5
             },
             "pattern": {
              "fillmode": "overlay",
              "size": 10,
              "solidity": 0.2
             }
            },
            "type": "bar"
           }
          ],
          "barpolar": [
           {
            "marker": {
             "line": {
              "color": "#E5ECF6",
              "width": 0.5
             },
             "pattern": {
              "fillmode": "overlay",
              "size": 10,
              "solidity": 0.2
             }
            },
            "type": "barpolar"
           }
          ],
          "carpet": [
           {
            "aaxis": {
             "endlinecolor": "#2a3f5f",
             "gridcolor": "white",
             "linecolor": "white",
             "minorgridcolor": "white",
             "startlinecolor": "#2a3f5f"
            },
            "baxis": {
             "endlinecolor": "#2a3f5f",
             "gridcolor": "white",
             "linecolor": "white",
             "minorgridcolor": "white",
             "startlinecolor": "#2a3f5f"
            },
            "type": "carpet"
           }
          ],
          "choropleth": [
           {
            "colorbar": {
             "outlinewidth": 0,
             "ticks": ""
            },
            "type": "choropleth"
           }
          ],
          "contour": [
           {
            "colorbar": {
             "outlinewidth": 0,
             "ticks": ""
            },
            "colorscale": [
             [
              0,
              "#0d0887"
             ],
             [
              0.1111111111111111,
              "#46039f"
             ],
             [
              0.2222222222222222,
              "#7201a8"
             ],
             [
              0.3333333333333333,
              "#9c179e"
             ],
             [
              0.4444444444444444,
              "#bd3786"
             ],
             [
              0.5555555555555556,
              "#d8576b"
             ],
             [
              0.6666666666666666,
              "#ed7953"
             ],
             [
              0.7777777777777778,
              "#fb9f3a"
             ],
             [
              0.8888888888888888,
              "#fdca26"
             ],
             [
              1,
              "#f0f921"
             ]
            ],
            "type": "contour"
           }
          ],
          "contourcarpet": [
           {
            "colorbar": {
             "outlinewidth": 0,
             "ticks": ""
            },
            "type": "contourcarpet"
           }
          ],
          "heatmap": [
           {
            "colorbar": {
             "outlinewidth": 0,
             "ticks": ""
            },
            "colorscale": [
             [
              0,
              "#0d0887"
             ],
             [
              0.1111111111111111,
              "#46039f"
             ],
             [
              0.2222222222222222,
              "#7201a8"
             ],
             [
              0.3333333333333333,
              "#9c179e"
             ],
             [
              0.4444444444444444,
              "#bd3786"
             ],
             [
              0.5555555555555556,
              "#d8576b"
             ],
             [
              0.6666666666666666,
              "#ed7953"
             ],
             [
              0.7777777777777778,
              "#fb9f3a"
             ],
             [
              0.8888888888888888,
              "#fdca26"
             ],
             [
              1,
              "#f0f921"
             ]
            ],
            "type": "heatmap"
           }
          ],
          "heatmapgl": [
           {
            "colorbar": {
             "outlinewidth": 0,
             "ticks": ""
            },
            "colorscale": [
             [
              0,
              "#0d0887"
             ],
             [
              0.1111111111111111,
              "#46039f"
             ],
             [
              0.2222222222222222,
              "#7201a8"
             ],
             [
              0.3333333333333333,
              "#9c179e"
             ],
             [
              0.4444444444444444,
              "#bd3786"
             ],
             [
              0.5555555555555556,
              "#d8576b"
             ],
             [
              0.6666666666666666,
              "#ed7953"
             ],
             [
              0.7777777777777778,
              "#fb9f3a"
             ],
             [
              0.8888888888888888,
              "#fdca26"
             ],
             [
              1,
              "#f0f921"
             ]
            ],
            "type": "heatmapgl"
           }
          ],
          "histogram": [
           {
            "marker": {
             "pattern": {
              "fillmode": "overlay",
              "size": 10,
              "solidity": 0.2
             }
            },
            "type": "histogram"
           }
          ],
          "histogram2d": [
           {
            "colorbar": {
             "outlinewidth": 0,
             "ticks": ""
            },
            "colorscale": [
             [
              0,
              "#0d0887"
             ],
             [
              0.1111111111111111,
              "#46039f"
             ],
             [
              0.2222222222222222,
              "#7201a8"
             ],
             [
              0.3333333333333333,
              "#9c179e"
             ],
             [
              0.4444444444444444,
              "#bd3786"
             ],
             [
              0.5555555555555556,
              "#d8576b"
             ],
             [
              0.6666666666666666,
              "#ed7953"
             ],
             [
              0.7777777777777778,
              "#fb9f3a"
             ],
             [
              0.8888888888888888,
              "#fdca26"
             ],
             [
              1,
              "#f0f921"
             ]
            ],
            "type": "histogram2d"
           }
          ],
          "histogram2dcontour": [
           {
            "colorbar": {
             "outlinewidth": 0,
             "ticks": ""
            },
            "colorscale": [
             [
              0,
              "#0d0887"
             ],
             [
              0.1111111111111111,
              "#46039f"
             ],
             [
              0.2222222222222222,
              "#7201a8"
             ],
             [
              0.3333333333333333,
              "#9c179e"
             ],
             [
              0.4444444444444444,
              "#bd3786"
             ],
             [
              0.5555555555555556,
              "#d8576b"
             ],
             [
              0.6666666666666666,
              "#ed7953"
             ],
             [
              0.7777777777777778,
              "#fb9f3a"
             ],
             [
              0.8888888888888888,
              "#fdca26"
             ],
             [
              1,
              "#f0f921"
             ]
            ],
            "type": "histogram2dcontour"
           }
          ],
          "mesh3d": [
           {
            "colorbar": {
             "outlinewidth": 0,
             "ticks": ""
            },
            "type": "mesh3d"
           }
          ],
          "parcoords": [
           {
            "line": {
             "colorbar": {
              "outlinewidth": 0,
              "ticks": ""
             }
            },
            "type": "parcoords"
           }
          ],
          "pie": [
           {
            "automargin": true,
            "type": "pie"
           }
          ],
          "scatter": [
           {
            "fillpattern": {
             "fillmode": "overlay",
             "size": 10,
             "solidity": 0.2
            },
            "type": "scatter"
           }
          ],
          "scatter3d": [
           {
            "line": {
             "colorbar": {
              "outlinewidth": 0,
              "ticks": ""
             }
            },
            "marker": {
             "colorbar": {
              "outlinewidth": 0,
              "ticks": ""
             }
            },
            "type": "scatter3d"
           }
          ],
          "scattercarpet": [
           {
            "marker": {
             "colorbar": {
              "outlinewidth": 0,
              "ticks": ""
             }
            },
            "type": "scattercarpet"
           }
          ],
          "scattergeo": [
           {
            "marker": {
             "colorbar": {
              "outlinewidth": 0,
              "ticks": ""
             }
            },
            "type": "scattergeo"
           }
          ],
          "scattergl": [
           {
            "marker": {
             "colorbar": {
              "outlinewidth": 0,
              "ticks": ""
             }
            },
            "type": "scattergl"
           }
          ],
          "scattermapbox": [
           {
            "marker": {
             "colorbar": {
              "outlinewidth": 0,
              "ticks": ""
             }
            },
            "type": "scattermapbox"
           }
          ],
          "scatterpolar": [
           {
            "marker": {
             "colorbar": {
              "outlinewidth": 0,
              "ticks": ""
             }
            },
            "type": "scatterpolar"
           }
          ],
          "scatterpolargl": [
           {
            "marker": {
             "colorbar": {
              "outlinewidth": 0,
              "ticks": ""
             }
            },
            "type": "scatterpolargl"
           }
          ],
          "scatterternary": [
           {
            "marker": {
             "colorbar": {
              "outlinewidth": 0,
              "ticks": ""
             }
            },
            "type": "scatterternary"
           }
          ],
          "surface": [
           {
            "colorbar": {
             "outlinewidth": 0,
             "ticks": ""
            },
            "colorscale": [
             [
              0,
              "#0d0887"
             ],
             [
              0.1111111111111111,
              "#46039f"
             ],
             [
              0.2222222222222222,
              "#7201a8"
             ],
             [
              0.3333333333333333,
              "#9c179e"
             ],
             [
              0.4444444444444444,
              "#bd3786"
             ],
             [
              0.5555555555555556,
              "#d8576b"
             ],
             [
              0.6666666666666666,
              "#ed7953"
             ],
             [
              0.7777777777777778,
              "#fb9f3a"
             ],
             [
              0.8888888888888888,
              "#fdca26"
             ],
             [
              1,
              "#f0f921"
             ]
            ],
            "type": "surface"
           }
          ],
          "table": [
           {
            "cells": {
             "fill": {
              "color": "#EBF0F8"
             },
             "line": {
              "color": "white"
             }
            },
            "header": {
             "fill": {
              "color": "#C8D4E3"
             },
             "line": {
              "color": "white"
             }
            },
            "type": "table"
           }
          ]
         },
         "layout": {
          "annotationdefaults": {
           "arrowcolor": "#2a3f5f",
           "arrowhead": 0,
           "arrowwidth": 1
          },
          "autotypenumbers": "strict",
          "coloraxis": {
           "colorbar": {
            "outlinewidth": 0,
            "ticks": ""
           }
          },
          "colorscale": {
           "diverging": [
            [
             0,
             "#8e0152"
            ],
            [
             0.1,
             "#c51b7d"
            ],
            [
             0.2,
             "#de77ae"
            ],
            [
             0.3,
             "#f1b6da"
            ],
            [
             0.4,
             "#fde0ef"
            ],
            [
             0.5,
             "#f7f7f7"
            ],
            [
             0.6,
             "#e6f5d0"
            ],
            [
             0.7,
             "#b8e186"
            ],
            [
             0.8,
             "#7fbc41"
            ],
            [
             0.9,
             "#4d9221"
            ],
            [
             1,
             "#276419"
            ]
           ],
           "sequential": [
            [
             0,
             "#0d0887"
            ],
            [
             0.1111111111111111,
             "#46039f"
            ],
            [
             0.2222222222222222,
             "#7201a8"
            ],
            [
             0.3333333333333333,
             "#9c179e"
            ],
            [
             0.4444444444444444,
             "#bd3786"
            ],
            [
             0.5555555555555556,
             "#d8576b"
            ],
            [
             0.6666666666666666,
             "#ed7953"
            ],
            [
             0.7777777777777778,
             "#fb9f3a"
            ],
            [
             0.8888888888888888,
             "#fdca26"
            ],
            [
             1,
             "#f0f921"
            ]
           ],
           "sequentialminus": [
            [
             0,
             "#0d0887"
            ],
            [
             0.1111111111111111,
             "#46039f"
            ],
            [
             0.2222222222222222,
             "#7201a8"
            ],
            [
             0.3333333333333333,
             "#9c179e"
            ],
            [
             0.4444444444444444,
             "#bd3786"
            ],
            [
             0.5555555555555556,
             "#d8576b"
            ],
            [
             0.6666666666666666,
             "#ed7953"
            ],
            [
             0.7777777777777778,
             "#fb9f3a"
            ],
            [
             0.8888888888888888,
             "#fdca26"
            ],
            [
             1,
             "#f0f921"
            ]
           ]
          },
          "colorway": [
           "#636efa",
           "#EF553B",
           "#00cc96",
           "#ab63fa",
           "#FFA15A",
           "#19d3f3",
           "#FF6692",
           "#B6E880",
           "#FF97FF",
           "#FECB52"
          ],
          "font": {
           "color": "#2a3f5f"
          },
          "geo": {
           "bgcolor": "white",
           "lakecolor": "white",
           "landcolor": "#E5ECF6",
           "showlakes": true,
           "showland": true,
           "subunitcolor": "white"
          },
          "hoverlabel": {
           "align": "left"
          },
          "hovermode": "closest",
          "mapbox": {
           "style": "light"
          },
          "paper_bgcolor": "white",
          "plot_bgcolor": "#E5ECF6",
          "polar": {
           "angularaxis": {
            "gridcolor": "white",
            "linecolor": "white",
            "ticks": ""
           },
           "bgcolor": "#E5ECF6",
           "radialaxis": {
            "gridcolor": "white",
            "linecolor": "white",
            "ticks": ""
           }
          },
          "scene": {
           "xaxis": {
            "backgroundcolor": "#E5ECF6",
            "gridcolor": "white",
            "gridwidth": 2,
            "linecolor": "white",
            "showbackground": true,
            "ticks": "",
            "zerolinecolor": "white"
           },
           "yaxis": {
            "backgroundcolor": "#E5ECF6",
            "gridcolor": "white",
            "gridwidth": 2,
            "linecolor": "white",
            "showbackground": true,
            "ticks": "",
            "zerolinecolor": "white"
           },
           "zaxis": {
            "backgroundcolor": "#E5ECF6",
            "gridcolor": "white",
            "gridwidth": 2,
            "linecolor": "white",
            "showbackground": true,
            "ticks": "",
            "zerolinecolor": "white"
           }
          },
          "shapedefaults": {
           "line": {
            "color": "#2a3f5f"
           }
          },
          "ternary": {
           "aaxis": {
            "gridcolor": "white",
            "linecolor": "white",
            "ticks": ""
           },
           "baxis": {
            "gridcolor": "white",
            "linecolor": "white",
            "ticks": ""
           },
           "bgcolor": "#E5ECF6",
           "caxis": {
            "gridcolor": "white",
            "linecolor": "white",
            "ticks": ""
           }
          },
          "title": {
           "x": 0.05
          },
          "xaxis": {
           "automargin": true,
           "gridcolor": "white",
           "linecolor": "white",
           "ticks": "",
           "title": {
            "standoff": 15
           },
           "zerolinecolor": "white",
           "zerolinewidth": 2
          },
          "yaxis": {
           "automargin": true,
           "gridcolor": "white",
           "linecolor": "white",
           "ticks": "",
           "title": {
            "standoff": 15
           },
           "zerolinecolor": "white",
           "zerolinewidth": 2
          }
         }
        }
       }
      }
     },
     "metadata": {},
     "output_type": "display_data"
    }
   ],
   "source": [
    "import plotly.graph_objects as go\n",
    "\n",
    "fig = go.Figure()\n",
    "\n",
    "fig.add_trace(go.Scatter(\n",
    "    x=[1, 2, 3], y=[4, 5, 6],\n",
    "    hovertext=[\"Point 1\", \"Point 2\", \"Point 3\"],\n",
    "    hovertemplate=\"x: %{x}<br>y: %{y}<br>Label: %{hovertext}\"\n",
    "))\n",
    "\n",
    "fig.update_traces()\n",
    "\n",
    "fig.show()"
   ]
  }
 ],
 "metadata": {
  "kernelspec": {
   "display_name": ".pvenv",
   "language": "python",
   "name": "python3"
  },
  "language_info": {
   "codemirror_mode": {
    "name": "ipython",
    "version": 3
   },
   "file_extension": ".py",
   "mimetype": "text/x-python",
   "name": "python",
   "nbconvert_exporter": "python",
   "pygments_lexer": "ipython3",
   "version": "3.11.4"
  }
 },
 "nbformat": 4,
 "nbformat_minor": 2
}
