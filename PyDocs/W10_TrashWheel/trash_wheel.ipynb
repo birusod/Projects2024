{
 "cells": [
  {
   "cell_type": "markdown",
   "metadata": {},
   "source": [
    "# Mr. Trash Wheel Baltimore Healthy Harbor"
   ]
  },
  {
   "cell_type": "markdown",
   "metadata": {},
   "source": [
    "**2024 Tidytuesday  Week 10**"
   ]
  },
  {
   "cell_type": "markdown",
   "metadata": {},
   "source": [
    "## Setup"
   ]
  },
  {
   "cell_type": "markdown",
   "metadata": {},
   "source": [
    "source .pvenv/bin/activate   \n",
    "pip freeze \n",
    "pip install 'lib'"
   ]
  },
  {
   "cell_type": "markdown",
   "metadata": {},
   "source": [
    "### Libraries"
   ]
  },
  {
   "cell_type": "code",
   "execution_count": 1,
   "metadata": {},
   "outputs": [],
   "source": [
    "import numpy as np\n",
    "import pandas as pd"
   ]
  },
  {
   "cell_type": "code",
   "execution_count": 306,
   "metadata": {},
   "outputs": [],
   "source": [
    "from bokeh.models import ColumnDataSource , Label, Title, PrintfTickFormatter, NumeralTickFormatter, CustomJSTickFormatter, FixedTicker\n",
    "from bokeh.palettes import Bright6\n",
    "from bokeh.plotting import figure, show\n",
    "from bokeh.transform import factor_cmap"
   ]
  },
  {
   "cell_type": "code",
   "execution_count": 58,
   "metadata": {},
   "outputs": [
    {
     "data": {
      "text/html": [
       "    <style>\n",
       "        .bk-notebook-logo {\n",
       "            display: block;\n",
       "            width: 20px;\n",
       "            height: 20px;\n",
       "            background-image: url(data:image/png;base64,iVBORw0KGgoAAAANSUhEUgAAABQAAAAUCAYAAACNiR0NAAAABHNCSVQICAgIfAhkiAAAAAlwSFlzAAALEgAACxIB0t1+/AAAABx0RVh0U29mdHdhcmUAQWRvYmUgRmlyZXdvcmtzIENTNui8sowAAAOkSURBVDiNjZRtaJVlGMd/1/08zzln5zjP1LWcU9N0NkN8m2CYjpgQYQXqSs0I84OLIC0hkEKoPtiH3gmKoiJDU7QpLgoLjLIQCpEsNJ1vqUOdO7ppbuec5+V+rj4ctwzd8IIbbi6u+8f1539dt3A78eXC7QizUF7gyV1fD1Yqg4JWz84yffhm0qkFqBogB9rM8tZdtwVsPUhWhGcFJngGeWrPzHm5oaMmkfEg1usvLFyc8jLRqDOMru7AyC8saQr7GG7f5fvDeH7Ej8CM66nIF+8yngt6HWaKh7k49Soy9nXurCi1o3qUbS3zWfrYeQDTB/Qj6kX6Ybhw4B+bOYoLKCC9H3Nu/leUTZ1JdRWkkn2ldcCamzrcf47KKXdAJllSlxAOkRgyHsGC/zRday5Qld9DyoM4/q/rUoy/CXh3jzOu3bHUVZeU+DEn8FInkPBFlu3+nW3Nw0mk6vCDiWg8CeJaxEwuHS3+z5RgY+YBR6V1Z1nxSOfoaPa4LASWxxdNp+VWTk7+4vzaou8v8PN+xo+KY2xsw6une2frhw05CTYOmQvsEhjhWjn0bmXPjpE1+kplmmkP3suftwTubK9Vq22qKmrBhpY4jvd5afdRA3wGjFAgcnTK2s4hY0/GPNIb0nErGMCRxWOOX64Z8RAC4oCXdklmEvcL8o0BfkNK4lUg9HTl+oPlQxdNo3Mg4Nv175e/1LDGzZen30MEjRUtmXSfiTVu1kK8W4txyV6BMKlbgk3lMwYCiusNy9fVfvvwMxv8Ynl6vxoByANLTWplvuj/nF9m2+PDtt1eiHPBr1oIfhCChQMBw6Aw0UulqTKZdfVvfG7VcfIqLG9bcldL/+pdWTLxLUy8Qq38heUIjh4XlzZxzQm19lLFlr8vdQ97rjZVOLf8nclzckbcD4wxXMidpX30sFd37Fv/GtwwhzhxGVAprjbg0gCAEeIgwCZyTV2Z1REEW8O4py0wsjeloKoMr6iCY6dP92H6Vw/oTyICIthibxjm/DfN9lVz8IqtqKYLUXfoKVMVQVVJOElGjrnnUt9T9wbgp8AyYKaGlqingHZU/uG2NTZSVqwHQTWkx9hxjkpWDaCg6Ckj5qebgBVbT3V3NNXMSiWSDdGV3hrtzla7J+duwPOToIg42ChPQOQjspnSlp1V+Gjdged7+8UN5CRAV7a5EdFNwCjEaBR27b3W890TE7g24NAP/mMDXRWrGoFPQI9ls/MWO2dWFAar/xcOIImbbpA3zgAAAABJRU5ErkJggg==);\n",
       "        }\n",
       "    </style>\n",
       "    <div>\n",
       "        <a href=\"https://bokeh.org\" target=\"_blank\" class=\"bk-notebook-logo\"></a>\n",
       "        <span id=\"aa9db8bf-0c59-4bdb-9884-03628afe169f\">Loading BokehJS ...</span>\n",
       "    </div>\n"
      ]
     },
     "metadata": {},
     "output_type": "display_data"
    },
    {
     "data": {
      "application/javascript": "(function(root) {\n  function now() {\n    return new Date();\n  }\n\n  const force = true;\n\n  if (typeof root._bokeh_onload_callbacks === \"undefined\" || force === true) {\n    root._bokeh_onload_callbacks = [];\n    root._bokeh_is_loading = undefined;\n  }\n\nconst JS_MIME_TYPE = 'application/javascript';\n  const HTML_MIME_TYPE = 'text/html';\n  const EXEC_MIME_TYPE = 'application/vnd.bokehjs_exec.v0+json';\n  const CLASS_NAME = 'output_bokeh rendered_html';\n\n  /**\n   * Render data to the DOM node\n   */\n  function render(props, node) {\n    const script = document.createElement(\"script\");\n    node.appendChild(script);\n  }\n\n  /**\n   * Handle when an output is cleared or removed\n   */\n  function handleClearOutput(event, handle) {\n    function drop(id) {\n      const view = Bokeh.index.get_by_id(id)\n      if (view != null) {\n        view.model.document.clear()\n        Bokeh.index.delete(view)\n      }\n    }\n\n    const cell = handle.cell;\n\n    const id = cell.output_area._bokeh_element_id;\n    const server_id = cell.output_area._bokeh_server_id;\n\n    // Clean up Bokeh references\n    if (id != null) {\n      drop(id)\n    }\n\n    if (server_id !== undefined) {\n      // Clean up Bokeh references\n      const cmd_clean = \"from bokeh.io.state import curstate; print(curstate().uuid_to_server['\" + server_id + \"'].get_sessions()[0].document.roots[0]._id)\";\n      cell.notebook.kernel.execute(cmd_clean, {\n        iopub: {\n          output: function(msg) {\n            const id = msg.content.text.trim()\n            drop(id)\n          }\n        }\n      });\n      // Destroy server and session\n      const cmd_destroy = \"import bokeh.io.notebook as ion; ion.destroy_server('\" + server_id + \"')\";\n      cell.notebook.kernel.execute(cmd_destroy);\n    }\n  }\n\n  /**\n   * Handle when a new output is added\n   */\n  function handleAddOutput(event, handle) {\n    const output_area = handle.output_area;\n    const output = handle.output;\n\n    // limit handleAddOutput to display_data with EXEC_MIME_TYPE content only\n    if ((output.output_type != \"display_data\") || (!Object.prototype.hasOwnProperty.call(output.data, EXEC_MIME_TYPE))) {\n      return\n    }\n\n    const toinsert = output_area.element.find(\".\" + CLASS_NAME.split(' ')[0]);\n\n    if (output.metadata[EXEC_MIME_TYPE][\"id\"] !== undefined) {\n      toinsert[toinsert.length - 1].firstChild.textContent = output.data[JS_MIME_TYPE];\n      // store reference to embed id on output_area\n      output_area._bokeh_element_id = output.metadata[EXEC_MIME_TYPE][\"id\"];\n    }\n    if (output.metadata[EXEC_MIME_TYPE][\"server_id\"] !== undefined) {\n      const bk_div = document.createElement(\"div\");\n      bk_div.innerHTML = output.data[HTML_MIME_TYPE];\n      const script_attrs = bk_div.children[0].attributes;\n      for (let i = 0; i < script_attrs.length; i++) {\n        toinsert[toinsert.length - 1].firstChild.setAttribute(script_attrs[i].name, script_attrs[i].value);\n        toinsert[toinsert.length - 1].firstChild.textContent = bk_div.children[0].textContent\n      }\n      // store reference to server id on output_area\n      output_area._bokeh_server_id = output.metadata[EXEC_MIME_TYPE][\"server_id\"];\n    }\n  }\n\n  function register_renderer(events, OutputArea) {\n\n    function append_mime(data, metadata, element) {\n      // create a DOM node to render to\n      const toinsert = this.create_output_subarea(\n        metadata,\n        CLASS_NAME,\n        EXEC_MIME_TYPE\n      );\n      this.keyboard_manager.register_events(toinsert);\n      // Render to node\n      const props = {data: data, metadata: metadata[EXEC_MIME_TYPE]};\n      render(props, toinsert[toinsert.length - 1]);\n      element.append(toinsert);\n      return toinsert\n    }\n\n    /* Handle when an output is cleared or removed */\n    events.on('clear_output.CodeCell', handleClearOutput);\n    events.on('delete.Cell', handleClearOutput);\n\n    /* Handle when a new output is added */\n    events.on('output_added.OutputArea', handleAddOutput);\n\n    /**\n     * Register the mime type and append_mime function with output_area\n     */\n    OutputArea.prototype.register_mime_type(EXEC_MIME_TYPE, append_mime, {\n      /* Is output safe? */\n      safe: true,\n      /* Index of renderer in `output_area.display_order` */\n      index: 0\n    });\n  }\n\n  // register the mime type if in Jupyter Notebook environment and previously unregistered\n  if (root.Jupyter !== undefined) {\n    const events = require('base/js/events');\n    const OutputArea = require('notebook/js/outputarea').OutputArea;\n\n    if (OutputArea.prototype.mime_types().indexOf(EXEC_MIME_TYPE) == -1) {\n      register_renderer(events, OutputArea);\n    }\n  }\n  if (typeof (root._bokeh_timeout) === \"undefined\" || force === true) {\n    root._bokeh_timeout = Date.now() + 5000;\n    root._bokeh_failed_load = false;\n  }\n\n  const NB_LOAD_WARNING = {'data': {'text/html':\n     \"<div style='background-color: #fdd'>\\n\"+\n     \"<p>\\n\"+\n     \"BokehJS does not appear to have successfully loaded. If loading BokehJS from CDN, this \\n\"+\n     \"may be due to a slow or bad network connection. Possible fixes:\\n\"+\n     \"</p>\\n\"+\n     \"<ul>\\n\"+\n     \"<li>re-rerun `output_notebook()` to attempt to load from CDN again, or</li>\\n\"+\n     \"<li>use INLINE resources instead, as so:</li>\\n\"+\n     \"</ul>\\n\"+\n     \"<code>\\n\"+\n     \"from bokeh.resources import INLINE\\n\"+\n     \"output_notebook(resources=INLINE)\\n\"+\n     \"</code>\\n\"+\n     \"</div>\"}};\n\n  function display_loaded() {\n    const el = document.getElementById(\"aa9db8bf-0c59-4bdb-9884-03628afe169f\");\n    if (el != null) {\n      el.textContent = \"BokehJS is loading...\";\n    }\n    if (root.Bokeh !== undefined) {\n      if (el != null) {\n        el.textContent = \"BokehJS \" + root.Bokeh.version + \" successfully loaded.\";\n      }\n    } else if (Date.now() < root._bokeh_timeout) {\n      setTimeout(display_loaded, 100)\n    }\n  }\n\n  function run_callbacks() {\n    try {\n      root._bokeh_onload_callbacks.forEach(function(callback) {\n        if (callback != null)\n          callback();\n      });\n    } finally {\n      delete root._bokeh_onload_callbacks\n    }\n    console.debug(\"Bokeh: all callbacks have finished\");\n  }\n\n  function load_libs(css_urls, js_urls, callback) {\n    if (css_urls == null) css_urls = [];\n    if (js_urls == null) js_urls = [];\n\n    root._bokeh_onload_callbacks.push(callback);\n    if (root._bokeh_is_loading > 0) {\n      console.debug(\"Bokeh: BokehJS is being loaded, scheduling callback at\", now());\n      return null;\n    }\n    if (js_urls == null || js_urls.length === 0) {\n      run_callbacks();\n      return null;\n    }\n    console.debug(\"Bokeh: BokehJS not loaded, scheduling load and callback at\", now());\n    root._bokeh_is_loading = css_urls.length + js_urls.length;\n\n    function on_load() {\n      root._bokeh_is_loading--;\n      if (root._bokeh_is_loading === 0) {\n        console.debug(\"Bokeh: all BokehJS libraries/stylesheets loaded\");\n        run_callbacks()\n      }\n    }\n\n    function on_error(url) {\n      console.error(\"failed to load \" + url);\n    }\n\n    for (let i = 0; i < css_urls.length; i++) {\n      const url = css_urls[i];\n      const element = document.createElement(\"link\");\n      element.onload = on_load;\n      element.onerror = on_error.bind(null, url);\n      element.rel = \"stylesheet\";\n      element.type = \"text/css\";\n      element.href = url;\n      console.debug(\"Bokeh: injecting link tag for BokehJS stylesheet: \", url);\n      document.body.appendChild(element);\n    }\n\n    for (let i = 0; i < js_urls.length; i++) {\n      const url = js_urls[i];\n      const element = document.createElement('script');\n      element.onload = on_load;\n      element.onerror = on_error.bind(null, url);\n      element.async = false;\n      element.src = url;\n      console.debug(\"Bokeh: injecting script tag for BokehJS library: \", url);\n      document.head.appendChild(element);\n    }\n  };\n\n  function inject_raw_css(css) {\n    const element = document.createElement(\"style\");\n    element.appendChild(document.createTextNode(css));\n    document.body.appendChild(element);\n  }\n\n  const js_urls = [\"https://cdn.bokeh.org/bokeh/release/bokeh-3.3.3.min.js\", \"https://cdn.bokeh.org/bokeh/release/bokeh-gl-3.3.3.min.js\", \"https://cdn.bokeh.org/bokeh/release/bokeh-widgets-3.3.3.min.js\", \"https://cdn.bokeh.org/bokeh/release/bokeh-tables-3.3.3.min.js\", \"https://cdn.bokeh.org/bokeh/release/bokeh-mathjax-3.3.3.min.js\"];\n  const css_urls = [];\n\n  const inline_js = [    function(Bokeh) {\n      Bokeh.set_log_level(\"info\");\n    },\nfunction(Bokeh) {\n    }\n  ];\n\n  function run_inline_js() {\n    if (root.Bokeh !== undefined || force === true) {\n          for (let i = 0; i < inline_js.length; i++) {\n      inline_js[i].call(root, root.Bokeh);\n    }\nif (force === true) {\n        display_loaded();\n      }} else if (Date.now() < root._bokeh_timeout) {\n      setTimeout(run_inline_js, 100);\n    } else if (!root._bokeh_failed_load) {\n      console.log(\"Bokeh: BokehJS failed to load within specified timeout.\");\n      root._bokeh_failed_load = true;\n    } else if (force !== true) {\n      const cell = $(document.getElementById(\"aa9db8bf-0c59-4bdb-9884-03628afe169f\")).parents('.cell').data().cell;\n      cell.output_area.append_execute_result(NB_LOAD_WARNING)\n    }\n  }\n\n  if (root._bokeh_is_loading === 0) {\n    console.debug(\"Bokeh: BokehJS loaded, going straight to plotting\");\n    run_inline_js();\n  } else {\n    load_libs(css_urls, js_urls, function() {\n      console.debug(\"Bokeh: BokehJS plotting callback run at\", now());\n      run_inline_js();\n    });\n  }\n}(window));",
      "application/vnd.bokehjs_load.v0+json": ""
     },
     "metadata": {},
     "output_type": "display_data"
    }
   ],
   "source": [
    "from bokeh.io import push_notebook, show, output_notebook\n",
    "from bokeh.layouts import row, gridplot\n",
    "from bokeh.plotting import output_file\n",
    "output_notebook()"
   ]
  },
  {
   "cell_type": "markdown",
   "metadata": {},
   "source": [
    "### Fonts and Params"
   ]
  },
  {
   "cell_type": "code",
   "execution_count": 268,
   "metadata": {},
   "outputs": [],
   "source": [
    "from matplotlib import rcParams\n",
    "from matplotlib import font_manager\n",
    "\n",
    "font_dirs =  ['/Library/Fonts']\n",
    "font_files = font_manager.findSystemFonts(fontpaths=font_dirs)\n",
    "\n",
    "rcParams['font.family'] = 'Roboto'\n",
    "#rcParams['font.size'] = '12'"
   ]
  },
  {
   "cell_type": "markdown",
   "metadata": {},
   "source": [
    "### Data"
   ]
  },
  {
   "cell_type": "code",
   "execution_count": 8,
   "metadata": {},
   "outputs": [],
   "source": [
    "url = 'https://raw.githubusercontent.com/rfordatascience/tidytuesday/master/data/2024/2024-03-05/trashwheel.csv'\n",
    "dfr = pd.read_csv(url)"
   ]
  },
  {
   "cell_type": "markdown",
   "metadata": {},
   "source": [
    "## EDA &  Wrangling"
   ]
  },
  {
   "cell_type": "markdown",
   "metadata": {},
   "source": [
    "### Overview"
   ]
  },
  {
   "cell_type": "code",
   "execution_count": 16,
   "metadata": {},
   "outputs": [
    {
     "data": {
      "text/plain": [
       "(993, 16)"
      ]
     },
     "execution_count": 16,
     "metadata": {},
     "output_type": "execute_result"
    }
   ],
   "source": [
    "dfr.shape"
   ]
  },
  {
   "cell_type": "code",
   "execution_count": 17,
   "metadata": {},
   "outputs": [
    {
     "data": {
      "text/plain": [
       "Index(['ID', 'Name', 'Dumpster', 'Month', 'Year', 'Date', 'Weight', 'Volume',\n",
       "       'PlasticBottles', 'Polystyrene', 'CigaretteButts', 'GlassBottles',\n",
       "       'PlasticBags', 'Wrappers', 'SportsBalls', 'HomesPowered'],\n",
       "      dtype='object')"
      ]
     },
     "execution_count": 17,
     "metadata": {},
     "output_type": "execute_result"
    }
   ],
   "source": [
    "dfr.columns"
   ]
  },
  {
   "cell_type": "code",
   "execution_count": 18,
   "metadata": {},
   "outputs": [
    {
     "data": {
      "text/html": [
       "<div>\n",
       "<style scoped>\n",
       "    .dataframe tbody tr th:only-of-type {\n",
       "        vertical-align: middle;\n",
       "    }\n",
       "\n",
       "    .dataframe tbody tr th {\n",
       "        vertical-align: top;\n",
       "    }\n",
       "\n",
       "    .dataframe thead th {\n",
       "        text-align: right;\n",
       "    }\n",
       "</style>\n",
       "<table border=\"1\" class=\"dataframe\">\n",
       "  <thead>\n",
       "    <tr style=\"text-align: right;\">\n",
       "      <th></th>\n",
       "      <th>Dumpster</th>\n",
       "      <th>Year</th>\n",
       "      <th>Weight</th>\n",
       "      <th>Volume</th>\n",
       "      <th>PlasticBottles</th>\n",
       "      <th>Polystyrene</th>\n",
       "      <th>CigaretteButts</th>\n",
       "      <th>GlassBottles</th>\n",
       "      <th>PlasticBags</th>\n",
       "      <th>Wrappers</th>\n",
       "      <th>SportsBalls</th>\n",
       "      <th>HomesPowered</th>\n",
       "    </tr>\n",
       "  </thead>\n",
       "  <tbody>\n",
       "    <tr>\n",
       "      <th>count</th>\n",
       "      <td>993.000000</td>\n",
       "      <td>993.000000</td>\n",
       "      <td>993.000000</td>\n",
       "      <td>993.000000</td>\n",
       "      <td>992.000000</td>\n",
       "      <td>992.000000</td>\n",
       "      <td>992.000000</td>\n",
       "      <td>742.000000</td>\n",
       "      <td>992.000000</td>\n",
       "      <td>849.000000</td>\n",
       "      <td>629.000000</td>\n",
       "      <td>993.000000</td>\n",
       "    </tr>\n",
       "    <tr>\n",
       "      <th>mean</th>\n",
       "      <td>230.882175</td>\n",
       "      <td>2019.567976</td>\n",
       "      <td>2.966123</td>\n",
       "      <td>14.919436</td>\n",
       "      <td>2219.330645</td>\n",
       "      <td>1436.868952</td>\n",
       "      <td>13728.122984</td>\n",
       "      <td>20.955526</td>\n",
       "      <td>983.998992</td>\n",
       "      <td>2238.764429</td>\n",
       "      <td>13.594595</td>\n",
       "      <td>45.849950</td>\n",
       "    </tr>\n",
       "    <tr>\n",
       "      <th>std</th>\n",
       "      <td>185.819494</td>\n",
       "      <td>2.746270</td>\n",
       "      <td>0.843446</td>\n",
       "      <td>1.609434</td>\n",
       "      <td>1650.449496</td>\n",
       "      <td>1832.434994</td>\n",
       "      <td>24049.613206</td>\n",
       "      <td>15.256844</td>\n",
       "      <td>1412.339981</td>\n",
       "      <td>2712.845792</td>\n",
       "      <td>9.736466</td>\n",
       "      <td>18.225034</td>\n",
       "    </tr>\n",
       "    <tr>\n",
       "      <th>min</th>\n",
       "      <td>1.000000</td>\n",
       "      <td>2014.000000</td>\n",
       "      <td>0.610000</td>\n",
       "      <td>5.000000</td>\n",
       "      <td>0.000000</td>\n",
       "      <td>0.000000</td>\n",
       "      <td>0.000000</td>\n",
       "      <td>0.000000</td>\n",
       "      <td>0.000000</td>\n",
       "      <td>0.000000</td>\n",
       "      <td>0.000000</td>\n",
       "      <td>0.000000</td>\n",
       "    </tr>\n",
       "    <tr>\n",
       "      <th>25%</th>\n",
       "      <td>73.000000</td>\n",
       "      <td>2018.000000</td>\n",
       "      <td>2.450000</td>\n",
       "      <td>15.000000</td>\n",
       "      <td>987.500000</td>\n",
       "      <td>240.000000</td>\n",
       "      <td>2900.000000</td>\n",
       "      <td>10.000000</td>\n",
       "      <td>240.000000</td>\n",
       "      <td>880.000000</td>\n",
       "      <td>6.000000</td>\n",
       "      <td>38.000000</td>\n",
       "    </tr>\n",
       "    <tr>\n",
       "      <th>50%</th>\n",
       "      <td>176.000000</td>\n",
       "      <td>2020.000000</td>\n",
       "      <td>3.040000</td>\n",
       "      <td>15.000000</td>\n",
       "      <td>1900.000000</td>\n",
       "      <td>750.000000</td>\n",
       "      <td>4900.000000</td>\n",
       "      <td>18.000000</td>\n",
       "      <td>540.000000</td>\n",
       "      <td>1400.000000</td>\n",
       "      <td>12.000000</td>\n",
       "      <td>49.000000</td>\n",
       "    </tr>\n",
       "    <tr>\n",
       "      <th>75%</th>\n",
       "      <td>381.000000</td>\n",
       "      <td>2022.000000</td>\n",
       "      <td>3.530000</td>\n",
       "      <td>15.000000</td>\n",
       "      <td>2900.000000</td>\n",
       "      <td>2130.000000</td>\n",
       "      <td>12000.000000</td>\n",
       "      <td>28.000000</td>\n",
       "      <td>1210.000000</td>\n",
       "      <td>2490.000000</td>\n",
       "      <td>20.000000</td>\n",
       "      <td>58.000000</td>\n",
       "    </tr>\n",
       "    <tr>\n",
       "      <th>max</th>\n",
       "      <td>629.000000</td>\n",
       "      <td>2023.000000</td>\n",
       "      <td>5.620000</td>\n",
       "      <td>20.000000</td>\n",
       "      <td>9830.000000</td>\n",
       "      <td>11528.000000</td>\n",
       "      <td>310000.000000</td>\n",
       "      <td>110.000000</td>\n",
       "      <td>13450.000000</td>\n",
       "      <td>20100.000000</td>\n",
       "      <td>56.000000</td>\n",
       "      <td>94.000000</td>\n",
       "    </tr>\n",
       "  </tbody>\n",
       "</table>\n",
       "</div>"
      ],
      "text/plain": [
       "         Dumpster         Year      Weight      Volume  PlasticBottles  \\\n",
       "count  993.000000   993.000000  993.000000  993.000000      992.000000   \n",
       "mean   230.882175  2019.567976    2.966123   14.919436     2219.330645   \n",
       "std    185.819494     2.746270    0.843446    1.609434     1650.449496   \n",
       "min      1.000000  2014.000000    0.610000    5.000000        0.000000   \n",
       "25%     73.000000  2018.000000    2.450000   15.000000      987.500000   \n",
       "50%    176.000000  2020.000000    3.040000   15.000000     1900.000000   \n",
       "75%    381.000000  2022.000000    3.530000   15.000000     2900.000000   \n",
       "max    629.000000  2023.000000    5.620000   20.000000     9830.000000   \n",
       "\n",
       "        Polystyrene  CigaretteButts  GlassBottles   PlasticBags      Wrappers  \\\n",
       "count    992.000000      992.000000    742.000000    992.000000    849.000000   \n",
       "mean    1436.868952    13728.122984     20.955526    983.998992   2238.764429   \n",
       "std     1832.434994    24049.613206     15.256844   1412.339981   2712.845792   \n",
       "min        0.000000        0.000000      0.000000      0.000000      0.000000   \n",
       "25%      240.000000     2900.000000     10.000000    240.000000    880.000000   \n",
       "50%      750.000000     4900.000000     18.000000    540.000000   1400.000000   \n",
       "75%     2130.000000    12000.000000     28.000000   1210.000000   2490.000000   \n",
       "max    11528.000000   310000.000000    110.000000  13450.000000  20100.000000   \n",
       "\n",
       "       SportsBalls  HomesPowered  \n",
       "count   629.000000    993.000000  \n",
       "mean     13.594595     45.849950  \n",
       "std       9.736466     18.225034  \n",
       "min       0.000000      0.000000  \n",
       "25%       6.000000     38.000000  \n",
       "50%      12.000000     49.000000  \n",
       "75%      20.000000     58.000000  \n",
       "max      56.000000     94.000000  "
      ]
     },
     "execution_count": 18,
     "metadata": {},
     "output_type": "execute_result"
    }
   ],
   "source": [
    "dfr.describe()"
   ]
  },
  {
   "cell_type": "code",
   "execution_count": 21,
   "metadata": {},
   "outputs": [
    {
     "data": {
      "text/plain": [
       "ID                 object\n",
       "Name               object\n",
       "Dumpster            int64\n",
       "Month              object\n",
       "Year                int64\n",
       "Date               object\n",
       "Weight            float64\n",
       "Volume              int64\n",
       "PlasticBottles    float64\n",
       "Polystyrene       float64\n",
       "CigaretteButts    float64\n",
       "GlassBottles      float64\n",
       "PlasticBags       float64\n",
       "Wrappers          float64\n",
       "SportsBalls       float64\n",
       "HomesPowered        int64\n",
       "dtype: object"
      ]
     },
     "execution_count": 21,
     "metadata": {},
     "output_type": "execute_result"
    }
   ],
   "source": [
    "dfr.dtypes"
   ]
  },
  {
   "cell_type": "code",
   "execution_count": 22,
   "metadata": {},
   "outputs": [
    {
     "data": {
      "text/html": [
       "<div>\n",
       "<style scoped>\n",
       "    .dataframe tbody tr th:only-of-type {\n",
       "        vertical-align: middle;\n",
       "    }\n",
       "\n",
       "    .dataframe tbody tr th {\n",
       "        vertical-align: top;\n",
       "    }\n",
       "\n",
       "    .dataframe thead th {\n",
       "        text-align: right;\n",
       "    }\n",
       "</style>\n",
       "<table border=\"1\" class=\"dataframe\">\n",
       "  <thead>\n",
       "    <tr style=\"text-align: right;\">\n",
       "      <th></th>\n",
       "      <th>ID</th>\n",
       "      <th>Name</th>\n",
       "      <th>Dumpster</th>\n",
       "      <th>Month</th>\n",
       "      <th>Year</th>\n",
       "      <th>Date</th>\n",
       "      <th>Weight</th>\n",
       "      <th>Volume</th>\n",
       "      <th>PlasticBottles</th>\n",
       "      <th>Polystyrene</th>\n",
       "      <th>CigaretteButts</th>\n",
       "      <th>GlassBottles</th>\n",
       "      <th>PlasticBags</th>\n",
       "      <th>Wrappers</th>\n",
       "      <th>SportsBalls</th>\n",
       "      <th>HomesPowered</th>\n",
       "    </tr>\n",
       "  </thead>\n",
       "  <tbody>\n",
       "    <tr>\n",
       "      <th>0</th>\n",
       "      <td>mister</td>\n",
       "      <td>Mister Trash Wheel</td>\n",
       "      <td>1</td>\n",
       "      <td>May</td>\n",
       "      <td>2014</td>\n",
       "      <td>5/16/2014</td>\n",
       "      <td>4.31</td>\n",
       "      <td>18</td>\n",
       "      <td>1450.0</td>\n",
       "      <td>1820.0</td>\n",
       "      <td>126000.0</td>\n",
       "      <td>72.0</td>\n",
       "      <td>584.0</td>\n",
       "      <td>1162.0</td>\n",
       "      <td>7.0</td>\n",
       "      <td>0</td>\n",
       "    </tr>\n",
       "    <tr>\n",
       "      <th>1</th>\n",
       "      <td>mister</td>\n",
       "      <td>Mister Trash Wheel</td>\n",
       "      <td>2</td>\n",
       "      <td>May</td>\n",
       "      <td>2014</td>\n",
       "      <td>5/16/2014</td>\n",
       "      <td>2.74</td>\n",
       "      <td>13</td>\n",
       "      <td>1120.0</td>\n",
       "      <td>1030.0</td>\n",
       "      <td>91000.0</td>\n",
       "      <td>42.0</td>\n",
       "      <td>496.0</td>\n",
       "      <td>874.0</td>\n",
       "      <td>5.0</td>\n",
       "      <td>0</td>\n",
       "    </tr>\n",
       "    <tr>\n",
       "      <th>2</th>\n",
       "      <td>mister</td>\n",
       "      <td>Mister Trash Wheel</td>\n",
       "      <td>3</td>\n",
       "      <td>May</td>\n",
       "      <td>2014</td>\n",
       "      <td>5/16/2014</td>\n",
       "      <td>3.45</td>\n",
       "      <td>15</td>\n",
       "      <td>2450.0</td>\n",
       "      <td>3100.0</td>\n",
       "      <td>105000.0</td>\n",
       "      <td>50.0</td>\n",
       "      <td>1080.0</td>\n",
       "      <td>2032.0</td>\n",
       "      <td>6.0</td>\n",
       "      <td>0</td>\n",
       "    </tr>\n",
       "    <tr>\n",
       "      <th>3</th>\n",
       "      <td>mister</td>\n",
       "      <td>Mister Trash Wheel</td>\n",
       "      <td>4</td>\n",
       "      <td>May</td>\n",
       "      <td>2014</td>\n",
       "      <td>5/17/2014</td>\n",
       "      <td>3.10</td>\n",
       "      <td>15</td>\n",
       "      <td>2380.0</td>\n",
       "      <td>2730.0</td>\n",
       "      <td>100000.0</td>\n",
       "      <td>52.0</td>\n",
       "      <td>896.0</td>\n",
       "      <td>1971.0</td>\n",
       "      <td>6.0</td>\n",
       "      <td>0</td>\n",
       "    </tr>\n",
       "    <tr>\n",
       "      <th>4</th>\n",
       "      <td>mister</td>\n",
       "      <td>Mister Trash Wheel</td>\n",
       "      <td>5</td>\n",
       "      <td>May</td>\n",
       "      <td>2014</td>\n",
       "      <td>5/17/2014</td>\n",
       "      <td>4.06</td>\n",
       "      <td>18</td>\n",
       "      <td>980.0</td>\n",
       "      <td>870.0</td>\n",
       "      <td>120000.0</td>\n",
       "      <td>72.0</td>\n",
       "      <td>368.0</td>\n",
       "      <td>753.0</td>\n",
       "      <td>7.0</td>\n",
       "      <td>0</td>\n",
       "    </tr>\n",
       "  </tbody>\n",
       "</table>\n",
       "</div>"
      ],
      "text/plain": [
       "       ID                Name  Dumpster Month  Year       Date  Weight  \\\n",
       "0  mister  Mister Trash Wheel         1   May  2014  5/16/2014    4.31   \n",
       "1  mister  Mister Trash Wheel         2   May  2014  5/16/2014    2.74   \n",
       "2  mister  Mister Trash Wheel         3   May  2014  5/16/2014    3.45   \n",
       "3  mister  Mister Trash Wheel         4   May  2014  5/17/2014    3.10   \n",
       "4  mister  Mister Trash Wheel         5   May  2014  5/17/2014    4.06   \n",
       "\n",
       "   Volume  PlasticBottles  Polystyrene  CigaretteButts  GlassBottles  \\\n",
       "0      18          1450.0       1820.0        126000.0          72.0   \n",
       "1      13          1120.0       1030.0         91000.0          42.0   \n",
       "2      15          2450.0       3100.0        105000.0          50.0   \n",
       "3      15          2380.0       2730.0        100000.0          52.0   \n",
       "4      18           980.0        870.0        120000.0          72.0   \n",
       "\n",
       "   PlasticBags  Wrappers  SportsBalls  HomesPowered  \n",
       "0        584.0    1162.0          7.0             0  \n",
       "1        496.0     874.0          5.0             0  \n",
       "2       1080.0    2032.0          6.0             0  \n",
       "3        896.0    1971.0          6.0             0  \n",
       "4        368.0     753.0          7.0             0  "
      ]
     },
     "execution_count": 22,
     "metadata": {},
     "output_type": "execute_result"
    }
   ],
   "source": [
    "dfr.head()"
   ]
  },
  {
   "cell_type": "markdown",
   "metadata": {},
   "source": [
    "### Subset and Renaming columns"
   ]
  },
  {
   "cell_type": "code",
   "execution_count": 55,
   "metadata": {},
   "outputs": [],
   "source": [
    "mcols = ['ID', 'Year', 'PlasticBottles', 'Polystyrene', 'CigaretteButts', 'GlassBottles', 'PlasticBags', 'Wrappers', 'SportsBalls']\n",
    "df = dfr.loc[:, mcols]\n",
    "\n",
    "df_clean = (\n",
    "    df\n",
    "    .rename(\n",
    "        columns = {\n",
    "            'ID' : 'name', 'Year' : 'year', 'PlasticBottles' : 'Plastic bottles', \n",
    "            'CigaretteButts' : 'Cigarette butts', 'GlassBottles' : 'Glass bottles', \n",
    "            'PlasticBags' : 'Plastic bags', 'SportsBalls' : 'Sports balls'})\n",
    "       )\n",
    "\n",
    "df_filtered = df_clean[df_clean['year'] == 2023]\n",
    "\n",
    "df_2023 = df_filtered.drop(['year'], axis=1)\n",
    "df_long = pd.melt(df_2023, id_vars=['name'], var_name='type', value_name='total')"
   ]
  },
  {
   "cell_type": "code",
   "execution_count": 56,
   "metadata": {},
   "outputs": [
    {
     "data": {
      "text/html": [
       "<div>\n",
       "<style scoped>\n",
       "    .dataframe tbody tr th:only-of-type {\n",
       "        vertical-align: middle;\n",
       "    }\n",
       "\n",
       "    .dataframe tbody tr th {\n",
       "        vertical-align: top;\n",
       "    }\n",
       "\n",
       "    .dataframe thead th {\n",
       "        text-align: right;\n",
       "    }\n",
       "</style>\n",
       "<table border=\"1\" class=\"dataframe\">\n",
       "  <thead>\n",
       "    <tr style=\"text-align: right;\">\n",
       "      <th></th>\n",
       "      <th>name</th>\n",
       "      <th>type</th>\n",
       "      <th>total</th>\n",
       "    </tr>\n",
       "  </thead>\n",
       "  <tbody>\n",
       "    <tr>\n",
       "      <th>0</th>\n",
       "      <td>mister</td>\n",
       "      <td>Plastic bottles</td>\n",
       "      <td>1700.0</td>\n",
       "    </tr>\n",
       "    <tr>\n",
       "      <th>1</th>\n",
       "      <td>mister</td>\n",
       "      <td>Plastic bottles</td>\n",
       "      <td>2400.0</td>\n",
       "    </tr>\n",
       "    <tr>\n",
       "      <th>2</th>\n",
       "      <td>mister</td>\n",
       "      <td>Plastic bottles</td>\n",
       "      <td>3600.0</td>\n",
       "    </tr>\n",
       "    <tr>\n",
       "      <th>3</th>\n",
       "      <td>mister</td>\n",
       "      <td>Plastic bottles</td>\n",
       "      <td>2700.0</td>\n",
       "    </tr>\n",
       "    <tr>\n",
       "      <th>4</th>\n",
       "      <td>mister</td>\n",
       "      <td>Plastic bottles</td>\n",
       "      <td>2900.0</td>\n",
       "    </tr>\n",
       "  </tbody>\n",
       "</table>\n",
       "</div>"
      ],
      "text/plain": [
       "     name             type   total\n",
       "0  mister  Plastic bottles  1700.0\n",
       "1  mister  Plastic bottles  2400.0\n",
       "2  mister  Plastic bottles  3600.0\n",
       "3  mister  Plastic bottles  2700.0\n",
       "4  mister  Plastic bottles  2900.0"
      ]
     },
     "execution_count": 56,
     "metadata": {},
     "output_type": "execute_result"
    }
   ],
   "source": [
    "df_long.head()\n"
   ]
  },
  {
   "cell_type": "markdown",
   "metadata": {},
   "source": [
    "### Lumping to other"
   ]
  },
  {
   "cell_type": "code",
   "execution_count": 86,
   "metadata": {},
   "outputs": [],
   "source": [
    "df_long['type'] = np.where(\n",
    "    np.isin(df_long['type'],  ['Sports balls', 'Glass bottles', 'Plastic bags', 'Polystyrene']), \n",
    "    'Other',\n",
    "    df_long['type'] \n",
    ")"
   ]
  },
  {
   "cell_type": "markdown",
   "metadata": {},
   "source": [
    "## Viz with Bokeh"
   ]
  },
  {
   "cell_type": "markdown",
   "metadata": {},
   "source": [
    "### Bar graph"
   ]
  },
  {
   "cell_type": "markdown",
   "metadata": {},
   "source": [
    "#### Vertical Bars"
   ]
  },
  {
   "cell_type": "code",
   "execution_count": 89,
   "metadata": {},
   "outputs": [
    {
     "data": {
      "text/html": [
       "<div>\n",
       "<style scoped>\n",
       "    .dataframe tbody tr th:only-of-type {\n",
       "        vertical-align: middle;\n",
       "    }\n",
       "\n",
       "    .dataframe tbody tr th {\n",
       "        vertical-align: top;\n",
       "    }\n",
       "\n",
       "    .dataframe thead th {\n",
       "        text-align: right;\n",
       "    }\n",
       "</style>\n",
       "<table border=\"1\" class=\"dataframe\">\n",
       "  <thead>\n",
       "    <tr style=\"text-align: right;\">\n",
       "      <th></th>\n",
       "      <th>type</th>\n",
       "      <th>total</th>\n",
       "    </tr>\n",
       "  </thead>\n",
       "  <tbody>\n",
       "    <tr>\n",
       "      <th>1</th>\n",
       "      <td>Other</td>\n",
       "      <td>74227.0</td>\n",
       "    </tr>\n",
       "    <tr>\n",
       "      <th>3</th>\n",
       "      <td>Wrappers</td>\n",
       "      <td>284570.0</td>\n",
       "    </tr>\n",
       "    <tr>\n",
       "      <th>2</th>\n",
       "      <td>Plastic bottles</td>\n",
       "      <td>337980.0</td>\n",
       "    </tr>\n",
       "    <tr>\n",
       "      <th>0</th>\n",
       "      <td>Cigarette butts</td>\n",
       "      <td>496090.0</td>\n",
       "    </tr>\n",
       "  </tbody>\n",
       "</table>\n",
       "</div>"
      ],
      "text/plain": [
       "              type     total\n",
       "1            Other   74227.0\n",
       "3         Wrappers  284570.0\n",
       "2  Plastic bottles  337980.0\n",
       "0  Cigarette butts  496090.0"
      ]
     },
     "execution_count": 89,
     "metadata": {},
     "output_type": "execute_result"
    }
   ],
   "source": [
    "type_df = df_long.groupby('type')['total'].sum().reset_index().sort_values('total')\n",
    "type_df"
   ]
  },
  {
   "cell_type": "code",
   "execution_count": 229,
   "metadata": {},
   "outputs": [
    {
     "data": {
      "text/html": [
       "\n",
       "  <div id=\"e3c55ba4-18b0-4d59-a57b-3d645e05b82b\" data-root-id=\"p7001\" style=\"display: contents;\"></div>\n"
      ]
     },
     "metadata": {},
     "output_type": "display_data"
    },
    {
     "data": {
      "application/javascript": "(function(root) {\n  function embed_document(root) {\n  const docs_json = {\"78326a1b-9ed0-4683-b87c-52bf52840235\":{\"version\":\"3.3.3\",\"title\":\"Bokeh Application\",\"roots\":[{\"type\":\"object\",\"name\":\"Figure\",\"id\":\"p7001\",\"attributes\":{\"height\":350,\"x_range\":{\"type\":\"object\",\"name\":\"FactorRange\",\"id\":\"p7011\",\"attributes\":{\"factors\":[\"Apples\",\"Pears\",\"Nectarines\",\"Plums\",\"Grapes\",\"Strawberries\"]}},\"y_range\":{\"type\":\"object\",\"name\":\"DataRange1d\",\"id\":\"p7003\",\"attributes\":{\"start\":0,\"end\":9}},\"x_scale\":{\"type\":\"object\",\"name\":\"CategoricalScale\",\"id\":\"p7012\"},\"y_scale\":{\"type\":\"object\",\"name\":\"LinearScale\",\"id\":\"p7013\"},\"title\":{\"type\":\"object\",\"name\":\"Title\",\"id\":\"p7004\",\"attributes\":{\"text\":\"Fruit Counts\"}},\"renderers\":[{\"type\":\"object\",\"name\":\"GlyphRenderer\",\"id\":\"p7042\",\"attributes\":{\"data_source\":{\"type\":\"object\",\"name\":\"ColumnDataSource\",\"id\":\"p6998\",\"attributes\":{\"selected\":{\"type\":\"object\",\"name\":\"Selection\",\"id\":\"p6999\",\"attributes\":{\"indices\":[],\"line_indices\":[]}},\"selection_policy\":{\"type\":\"object\",\"name\":\"UnionRenderers\",\"id\":\"p7000\"},\"data\":{\"type\":\"map\",\"entries\":[[\"fruits\",[\"Apples\",\"Pears\",\"Nectarines\",\"Plums\",\"Grapes\",\"Strawberries\"]],[\"counts\",[5,3,4,2,4,6]]]}}},\"view\":{\"type\":\"object\",\"name\":\"CDSView\",\"id\":\"p7043\",\"attributes\":{\"filter\":{\"type\":\"object\",\"name\":\"AllIndices\",\"id\":\"p7044\"}}},\"glyph\":{\"type\":\"object\",\"name\":\"VBar\",\"id\":\"p7039\",\"attributes\":{\"x\":{\"type\":\"field\",\"field\":\"fruits\"},\"width\":{\"type\":\"value\",\"value\":0.9},\"top\":{\"type\":\"field\",\"field\":\"counts\"},\"line_color\":{\"type\":\"value\",\"value\":\"white\"},\"fill_color\":{\"type\":\"field\",\"field\":\"fruits\",\"transform\":{\"type\":\"object\",\"name\":\"CategoricalColorMapper\",\"id\":\"p7035\",\"attributes\":{\"palette\":[\"#4477AA\",\"#EE6677\",\"#228833\",\"#CCBB44\",\"#66CCEE\",\"#AA3377\"],\"factors\":[\"Apples\",\"Pears\",\"Nectarines\",\"Plums\",\"Grapes\",\"Strawberries\"]}}}}},\"nonselection_glyph\":{\"type\":\"object\",\"name\":\"VBar\",\"id\":\"p7040\",\"attributes\":{\"x\":{\"type\":\"field\",\"field\":\"fruits\"},\"width\":{\"type\":\"value\",\"value\":0.9},\"top\":{\"type\":\"field\",\"field\":\"counts\"},\"line_color\":{\"type\":\"value\",\"value\":\"white\"},\"line_alpha\":{\"type\":\"value\",\"value\":0.1},\"fill_color\":{\"type\":\"field\",\"field\":\"fruits\",\"transform\":{\"id\":\"p7035\"}},\"fill_alpha\":{\"type\":\"value\",\"value\":0.1},\"hatch_alpha\":{\"type\":\"value\",\"value\":0.1}}},\"muted_glyph\":{\"type\":\"object\",\"name\":\"VBar\",\"id\":\"p7041\",\"attributes\":{\"x\":{\"type\":\"field\",\"field\":\"fruits\"},\"width\":{\"type\":\"value\",\"value\":0.9},\"top\":{\"type\":\"field\",\"field\":\"counts\"},\"line_color\":{\"type\":\"value\",\"value\":\"white\"},\"line_alpha\":{\"type\":\"value\",\"value\":0.2},\"fill_color\":{\"type\":\"field\",\"field\":\"fruits\",\"transform\":{\"id\":\"p7035\"}},\"fill_alpha\":{\"type\":\"value\",\"value\":0.2},\"hatch_alpha\":{\"type\":\"value\",\"value\":0.2}}}}}],\"toolbar\":{\"type\":\"object\",\"name\":\"Toolbar\",\"id\":\"p7010\",\"attributes\":{\"tools\":[{\"type\":\"object\",\"name\":\"PanTool\",\"id\":\"p7024\"},{\"type\":\"object\",\"name\":\"WheelZoomTool\",\"id\":\"p7025\",\"attributes\":{\"renderers\":\"auto\"}},{\"type\":\"object\",\"name\":\"BoxZoomTool\",\"id\":\"p7026\",\"attributes\":{\"overlay\":{\"type\":\"object\",\"name\":\"BoxAnnotation\",\"id\":\"p7027\",\"attributes\":{\"syncable\":false,\"level\":\"overlay\",\"visible\":false,\"left\":{\"type\":\"number\",\"value\":\"nan\"},\"right\":{\"type\":\"number\",\"value\":\"nan\"},\"top\":{\"type\":\"number\",\"value\":\"nan\"},\"bottom\":{\"type\":\"number\",\"value\":\"nan\"},\"left_units\":\"canvas\",\"right_units\":\"canvas\",\"top_units\":\"canvas\",\"bottom_units\":\"canvas\",\"line_color\":\"black\",\"line_alpha\":1.0,\"line_width\":2,\"line_dash\":[4,4],\"fill_color\":\"lightgrey\",\"fill_alpha\":0.5}}}},{\"type\":\"object\",\"name\":\"SaveTool\",\"id\":\"p7032\"},{\"type\":\"object\",\"name\":\"ResetTool\",\"id\":\"p7033\"},{\"type\":\"object\",\"name\":\"HelpTool\",\"id\":\"p7034\"}]}},\"toolbar_location\":null,\"left\":[{\"type\":\"object\",\"name\":\"LinearAxis\",\"id\":\"p7019\",\"attributes\":{\"ticker\":{\"type\":\"object\",\"name\":\"BasicTicker\",\"id\":\"p7020\",\"attributes\":{\"mantissas\":[1,2,5]}},\"formatter\":{\"type\":\"object\",\"name\":\"BasicTickFormatter\",\"id\":\"p7021\"},\"major_label_policy\":{\"type\":\"object\",\"name\":\"AllLabels\",\"id\":\"p7022\"}}}],\"below\":[{\"type\":\"object\",\"name\":\"CategoricalAxis\",\"id\":\"p7014\",\"attributes\":{\"ticker\":{\"type\":\"object\",\"name\":\"CategoricalTicker\",\"id\":\"p7015\"},\"formatter\":{\"type\":\"object\",\"name\":\"CategoricalTickFormatter\",\"id\":\"p7016\"},\"major_label_policy\":{\"type\":\"object\",\"name\":\"AllLabels\",\"id\":\"p7017\"}}}],\"center\":[{\"type\":\"object\",\"name\":\"Grid\",\"id\":\"p7018\",\"attributes\":{\"axis\":{\"id\":\"p7014\"},\"grid_line_color\":null}},{\"type\":\"object\",\"name\":\"Grid\",\"id\":\"p7023\",\"attributes\":{\"dimension\":1,\"axis\":{\"id\":\"p7019\"}}},{\"type\":\"object\",\"name\":\"Legend\",\"id\":\"p7045\",\"attributes\":{\"location\":\"top_center\",\"orientation\":\"horizontal\",\"items\":[{\"type\":\"object\",\"name\":\"LegendItem\",\"id\":\"p7046\",\"attributes\":{\"label\":{\"type\":\"field\",\"field\":\"fruits\"},\"renderers\":[{\"id\":\"p7042\"}]}}]}}]}}]}};\n  const render_items = [{\"docid\":\"78326a1b-9ed0-4683-b87c-52bf52840235\",\"roots\":{\"p7001\":\"e3c55ba4-18b0-4d59-a57b-3d645e05b82b\"},\"root_ids\":[\"p7001\"]}];\n  root.Bokeh.embed.embed_items_notebook(docs_json, render_items);\n  }\n  if (root.Bokeh !== undefined) {\n    embed_document(root);\n  } else {\n    let attempts = 0;\n    const timer = setInterval(function(root) {\n      if (root.Bokeh !== undefined) {\n        clearInterval(timer);\n        embed_document(root);\n      } else {\n        attempts++;\n        if (attempts > 100) {\n          clearInterval(timer);\n          console.log(\"Bokeh: ERROR: Unable to run BokehJS code because BokehJS library is missing\");\n        }\n      }\n    }, 10, root)\n  }\n})(window);",
      "application/vnd.bokehjs_exec.v0+json": ""
     },
     "metadata": {
      "application/vnd.bokehjs_exec.v0+json": {
       "id": "p7001"
      }
     },
     "output_type": "display_data"
    }
   ],
   "source": [
    "fruits = ['Apples', 'Pears', 'Nectarines', 'Plums', 'Grapes', 'Strawberries']\n",
    "counts = [5, 3, 4, 2, 4, 6]\n",
    "\n",
    "source = ColumnDataSource(data=dict(fruits=fruits, counts=counts))\n",
    "\n",
    "p = figure(x_range=fruits, height=350, toolbar_location=None, title=\"Fruit Counts\")\n",
    "\n",
    "p.vbar(x='fruits', top='counts', width=0.9, source=source, legend_field=\"fruits\",\n",
    "       line_color='white', fill_color=factor_cmap('fruits', palette=Bright6, factors=fruits))\n",
    "\n",
    "p.xgrid.grid_line_color = None\n",
    "p.y_range.start = 0\n",
    "p.y_range.end = 9\n",
    "p.legend.orientation = \"horizontal\"\n",
    "p.legend.location = \"top_center\"\n",
    "\n",
    "show(p)"
   ]
  },
  {
   "cell_type": "code",
   "execution_count": 287,
   "metadata": {},
   "outputs": [
    {
     "data": {
      "text/html": [
       "\n",
       "  <div id=\"d30ac0f0-0966-4625-b0b1-ec827d22239f\" data-root-id=\"p8960\" style=\"display: contents;\"></div>\n"
      ]
     },
     "metadata": {},
     "output_type": "display_data"
    },
    {
     "data": {
      "application/javascript": "(function(root) {\n  function embed_document(root) {\n  const docs_json = {\"ae3669ad-3bfe-4bec-928c-3ae0e3620838\":{\"version\":\"3.3.3\",\"title\":\"Bokeh Application\",\"roots\":[{\"type\":\"object\",\"name\":\"Figure\",\"id\":\"p8960\",\"attributes\":{\"height\":350,\"x_range\":{\"type\":\"object\",\"name\":\"FactorRange\",\"id\":\"p8970\",\"attributes\":{\"factors\":[\"Other\",\"Wrappers\",\"Plastic bottles\",\"Cigarette butts\"]}},\"y_range\":{\"type\":\"object\",\"name\":\"DataRange1d\",\"id\":\"p8962\",\"attributes\":{\"start\":0,\"end\":500000}},\"x_scale\":{\"type\":\"object\",\"name\":\"CategoricalScale\",\"id\":\"p8971\"},\"y_scale\":{\"type\":\"object\",\"name\":\"LinearScale\",\"id\":\"p8972\"},\"title\":{\"type\":\"object\",\"name\":\"Title\",\"id\":\"p8963\",\"attributes\":{\"text\":\"TRASH WHEEL COLLECTION\"}},\"renderers\":[{\"type\":\"object\",\"name\":\"GlyphRenderer\",\"id\":\"p9001\",\"attributes\":{\"data_source\":{\"type\":\"object\",\"name\":\"ColumnDataSource\",\"id\":\"p8957\",\"attributes\":{\"selected\":{\"type\":\"object\",\"name\":\"Selection\",\"id\":\"p8958\",\"attributes\":{\"indices\":[],\"line_indices\":[]}},\"selection_policy\":{\"type\":\"object\",\"name\":\"UnionRenderers\",\"id\":\"p8959\"},\"data\":{\"type\":\"map\",\"entries\":[[\"trash_type\",{\"type\":\"ndarray\",\"array\":[\"Other\",\"Wrappers\",\"Plastic bottles\",\"Cigarette butts\"],\"shape\":[4],\"dtype\":\"object\",\"order\":\"little\"}],[\"total\",{\"type\":\"ndarray\",\"array\":{\"type\":\"bytes\",\"data\":\"AAAAADAf8kAAAAAAaF4RQQAAAADwoBRBAAAAAGhHHkE=\"},\"shape\":[4],\"dtype\":\"float64\",\"order\":\"little\"}]]}}},\"view\":{\"type\":\"object\",\"name\":\"CDSView\",\"id\":\"p9002\",\"attributes\":{\"filter\":{\"type\":\"object\",\"name\":\"AllIndices\",\"id\":\"p9003\"}}},\"glyph\":{\"type\":\"object\",\"name\":\"VBar\",\"id\":\"p8998\",\"attributes\":{\"x\":{\"type\":\"field\",\"field\":\"trash_type\"},\"width\":{\"type\":\"value\",\"value\":0.9},\"top\":{\"type\":\"field\",\"field\":\"total\"},\"line_color\":{\"type\":\"value\",\"value\":\"white\"},\"fill_color\":{\"type\":\"field\",\"field\":\"trash_type\",\"transform\":{\"type\":\"object\",\"name\":\"CategoricalColorMapper\",\"id\":\"p8994\",\"attributes\":{\"palette\":[\"#4477AA\",\"#EE6677\",\"#228833\",\"#CCBB44\",\"#66CCEE\",\"#AA3377\"],\"factors\":{\"type\":\"ndarray\",\"array\":[\"Other\",\"Wrappers\",\"Plastic bottles\",\"Cigarette butts\"],\"shape\":[4],\"dtype\":\"object\",\"order\":\"little\"}}}}}},\"nonselection_glyph\":{\"type\":\"object\",\"name\":\"VBar\",\"id\":\"p8999\",\"attributes\":{\"x\":{\"type\":\"field\",\"field\":\"trash_type\"},\"width\":{\"type\":\"value\",\"value\":0.9},\"top\":{\"type\":\"field\",\"field\":\"total\"},\"line_color\":{\"type\":\"value\",\"value\":\"white\"},\"line_alpha\":{\"type\":\"value\",\"value\":0.1},\"fill_color\":{\"type\":\"field\",\"field\":\"trash_type\",\"transform\":{\"id\":\"p8994\"}},\"fill_alpha\":{\"type\":\"value\",\"value\":0.1},\"hatch_alpha\":{\"type\":\"value\",\"value\":0.1}}},\"muted_glyph\":{\"type\":\"object\",\"name\":\"VBar\",\"id\":\"p9000\",\"attributes\":{\"x\":{\"type\":\"field\",\"field\":\"trash_type\"},\"width\":{\"type\":\"value\",\"value\":0.9},\"top\":{\"type\":\"field\",\"field\":\"total\"},\"line_color\":{\"type\":\"value\",\"value\":\"white\"},\"line_alpha\":{\"type\":\"value\",\"value\":0.2},\"fill_color\":{\"type\":\"field\",\"field\":\"trash_type\",\"transform\":{\"id\":\"p8994\"}},\"fill_alpha\":{\"type\":\"value\",\"value\":0.2},\"hatch_alpha\":{\"type\":\"value\",\"value\":0.2}}}}}],\"toolbar\":{\"type\":\"object\",\"name\":\"Toolbar\",\"id\":\"p8969\",\"attributes\":{\"tools\":[{\"type\":\"object\",\"name\":\"PanTool\",\"id\":\"p8983\"},{\"type\":\"object\",\"name\":\"WheelZoomTool\",\"id\":\"p8984\",\"attributes\":{\"renderers\":\"auto\"}},{\"type\":\"object\",\"name\":\"BoxZoomTool\",\"id\":\"p8985\",\"attributes\":{\"overlay\":{\"type\":\"object\",\"name\":\"BoxAnnotation\",\"id\":\"p8986\",\"attributes\":{\"syncable\":false,\"level\":\"overlay\",\"visible\":false,\"left\":{\"type\":\"number\",\"value\":\"nan\"},\"right\":{\"type\":\"number\",\"value\":\"nan\"},\"top\":{\"type\":\"number\",\"value\":\"nan\"},\"bottom\":{\"type\":\"number\",\"value\":\"nan\"},\"left_units\":\"canvas\",\"right_units\":\"canvas\",\"top_units\":\"canvas\",\"bottom_units\":\"canvas\",\"line_color\":\"black\",\"line_alpha\":1.0,\"line_width\":2,\"line_dash\":[4,4],\"fill_color\":\"lightgrey\",\"fill_alpha\":0.5}}}},{\"type\":\"object\",\"name\":\"SaveTool\",\"id\":\"p8991\"},{\"type\":\"object\",\"name\":\"ResetTool\",\"id\":\"p8992\"},{\"type\":\"object\",\"name\":\"HelpTool\",\"id\":\"p8993\"}]}},\"toolbar_location\":null,\"left\":[{\"type\":\"object\",\"name\":\"LinearAxis\",\"id\":\"p8978\",\"attributes\":{\"ticker\":{\"type\":\"object\",\"name\":\"BasicTicker\",\"id\":\"p8979\",\"attributes\":{\"mantissas\":[1,2,5]}},\"formatter\":{\"type\":\"object\",\"name\":\"BasicTickFormatter\",\"id\":\"p8980\"},\"major_label_policy\":{\"type\":\"object\",\"name\":\"AllLabels\",\"id\":\"p8981\"}}}],\"below\":[{\"type\":\"object\",\"name\":\"CategoricalAxis\",\"id\":\"p8973\",\"attributes\":{\"ticker\":{\"type\":\"object\",\"name\":\"CategoricalTicker\",\"id\":\"p8974\"},\"formatter\":{\"type\":\"object\",\"name\":\"CategoricalTickFormatter\",\"id\":\"p8975\"},\"major_label_policy\":{\"type\":\"object\",\"name\":\"AllLabels\",\"id\":\"p8976\"}}}],\"center\":[{\"type\":\"object\",\"name\":\"Grid\",\"id\":\"p8977\",\"attributes\":{\"axis\":{\"id\":\"p8973\"},\"grid_line_color\":null}},{\"type\":\"object\",\"name\":\"Grid\",\"id\":\"p8982\",\"attributes\":{\"dimension\":1,\"axis\":{\"id\":\"p8978\"}}},{\"type\":\"object\",\"name\":\"Legend\",\"id\":\"p9004\",\"attributes\":{\"location\":\"top_left\",\"items\":[{\"type\":\"object\",\"name\":\"LegendItem\",\"id\":\"p9005\",\"attributes\":{\"label\":{\"type\":\"field\",\"field\":\"trash_type\"},\"renderers\":[{\"id\":\"p9001\"}]}}]}}]}}]}};\n  const render_items = [{\"docid\":\"ae3669ad-3bfe-4bec-928c-3ae0e3620838\",\"roots\":{\"p8960\":\"d30ac0f0-0966-4625-b0b1-ec827d22239f\"},\"root_ids\":[\"p8960\"]}];\n  root.Bokeh.embed.embed_items_notebook(docs_json, render_items);\n  }\n  if (root.Bokeh !== undefined) {\n    embed_document(root);\n  } else {\n    let attempts = 0;\n    const timer = setInterval(function(root) {\n      if (root.Bokeh !== undefined) {\n        clearInterval(timer);\n        embed_document(root);\n      } else {\n        attempts++;\n        if (attempts > 100) {\n          clearInterval(timer);\n          console.log(\"Bokeh: ERROR: Unable to run BokehJS code because BokehJS library is missing\");\n        }\n      }\n    }, 10, root)\n  }\n})(window);",
      "application/vnd.bokehjs_exec.v0+json": ""
     },
     "metadata": {
      "application/vnd.bokehjs_exec.v0+json": {
       "id": "p8960"
      }
     },
     "output_type": "display_data"
    }
   ],
   "source": [
    "trash_type = type_df.type.to_numpy()\n",
    "total = type_df.total.to_numpy()\n",
    "\n",
    "source = ColumnDataSource(data=dict(trash_type=trash_type, total=total))\n",
    "\n",
    "p = figure(\n",
    "    x_range=trash_type, \n",
    "    height=350, toolbar_location=None, \n",
    "    title=\"TRASH WHEEL COLLECTION\")\n",
    "\n",
    "p.vbar(x='trash_type', top='total', width=0.9, source=source, legend_field=\"trash_type\",\n",
    "       line_color='white', fill_color=factor_cmap('trash_type', palette=Bright6, factors=trash_type))\n",
    "\n",
    "p.xgrid.grid_line_color = None\n",
    "p.y_range.start = 0\n",
    "p.y_range.end = 500000\n",
    "p.legend.orientation = \"vertical\"\n",
    "p.legend.location = \"top_left\"\n",
    "\n",
    "show(p)"
   ]
  },
  {
   "cell_type": "code",
   "execution_count": 288,
   "metadata": {},
   "outputs": [
    {
     "data": {
      "text/html": [
       "\n",
       "  <div id=\"e7682d5b-1cad-403e-85d0-130dc643dae6\" data-root-id=\"p9007\" style=\"display: contents;\"></div>\n"
      ]
     },
     "metadata": {},
     "output_type": "display_data"
    },
    {
     "data": {
      "application/javascript": "(function(root) {\n  function embed_document(root) {\n  const docs_json = {\"7a76a41e-515a-43ab-941b-59d80443c638\":{\"version\":\"3.3.3\",\"title\":\"Bokeh Application\",\"roots\":[{\"type\":\"object\",\"name\":\"Figure\",\"id\":\"p9007\",\"attributes\":{\"height\":350,\"x_range\":{\"type\":\"object\",\"name\":\"FactorRange\",\"id\":\"p9017\",\"attributes\":{\"factors\":[\"Other\",\"Wrappers\",\"Plastic bottles\",\"Cigarette butts\"]}},\"y_range\":{\"type\":\"object\",\"name\":\"DataRange1d\",\"id\":\"p9009\",\"attributes\":{\"start\":0,\"end\":500000}},\"x_scale\":{\"type\":\"object\",\"name\":\"CategoricalScale\",\"id\":\"p9018\"},\"y_scale\":{\"type\":\"object\",\"name\":\"LinearScale\",\"id\":\"p9019\"},\"title\":{\"type\":\"object\",\"name\":\"Title\",\"id\":\"p9010\",\"attributes\":{\"text\":\"TRASH WHEEL COLLECTION\"}},\"renderers\":[{\"type\":\"object\",\"name\":\"GlyphRenderer\",\"id\":\"p9047\",\"attributes\":{\"data_source\":{\"type\":\"object\",\"name\":\"ColumnDataSource\",\"id\":\"p9041\",\"attributes\":{\"selected\":{\"type\":\"object\",\"name\":\"Selection\",\"id\":\"p9042\",\"attributes\":{\"indices\":[],\"line_indices\":[]}},\"selection_policy\":{\"type\":\"object\",\"name\":\"UnionRenderers\",\"id\":\"p9043\"},\"data\":{\"type\":\"map\",\"entries\":[[\"x\",{\"type\":\"ndarray\",\"array\":[\"Other\",\"Wrappers\",\"Plastic bottles\",\"Cigarette butts\"],\"shape\":[4],\"dtype\":\"object\",\"order\":\"little\"}],[\"top\",{\"type\":\"ndarray\",\"array\":{\"type\":\"bytes\",\"data\":\"AAAAADAf8kAAAAAAaF4RQQAAAADwoBRBAAAAAGhHHkE=\"},\"shape\":[4],\"dtype\":\"float64\",\"order\":\"little\"}],[\"hatch_color\",[\"#FF5733\",\"#33FF57\",\"#3366FF\",\"#FF33E9\"]],[\"fill_color\",[\"#FF5733\",\"#33FF57\",\"#3366FF\",\"#FF33E9\"]]]}}},\"view\":{\"type\":\"object\",\"name\":\"CDSView\",\"id\":\"p9048\",\"attributes\":{\"filter\":{\"type\":\"object\",\"name\":\"AllIndices\",\"id\":\"p9049\"}}},\"glyph\":{\"type\":\"object\",\"name\":\"VBar\",\"id\":\"p9044\",\"attributes\":{\"x\":{\"type\":\"field\",\"field\":\"x\"},\"width\":{\"type\":\"value\",\"value\":0.9},\"top\":{\"type\":\"field\",\"field\":\"top\"},\"line_color\":{\"type\":\"value\",\"value\":\"white\"},\"fill_color\":{\"type\":\"field\",\"field\":\"fill_color\"},\"hatch_color\":{\"type\":\"field\",\"field\":\"hatch_color\"}}},\"nonselection_glyph\":{\"type\":\"object\",\"name\":\"VBar\",\"id\":\"p9045\",\"attributes\":{\"x\":{\"type\":\"field\",\"field\":\"x\"},\"width\":{\"type\":\"value\",\"value\":0.9},\"top\":{\"type\":\"field\",\"field\":\"top\"},\"line_color\":{\"type\":\"value\",\"value\":\"white\"},\"line_alpha\":{\"type\":\"value\",\"value\":0.1},\"fill_color\":{\"type\":\"field\",\"field\":\"fill_color\"},\"fill_alpha\":{\"type\":\"value\",\"value\":0.1},\"hatch_color\":{\"type\":\"field\",\"field\":\"hatch_color\"},\"hatch_alpha\":{\"type\":\"value\",\"value\":0.1}}},\"muted_glyph\":{\"type\":\"object\",\"name\":\"VBar\",\"id\":\"p9046\",\"attributes\":{\"x\":{\"type\":\"field\",\"field\":\"x\"},\"width\":{\"type\":\"value\",\"value\":0.9},\"top\":{\"type\":\"field\",\"field\":\"top\"},\"line_color\":{\"type\":\"value\",\"value\":\"white\"},\"line_alpha\":{\"type\":\"value\",\"value\":0.2},\"fill_color\":{\"type\":\"field\",\"field\":\"fill_color\"},\"fill_alpha\":{\"type\":\"value\",\"value\":0.2},\"hatch_color\":{\"type\":\"field\",\"field\":\"hatch_color\"},\"hatch_alpha\":{\"type\":\"value\",\"value\":0.2}}}}}],\"toolbar\":{\"type\":\"object\",\"name\":\"Toolbar\",\"id\":\"p9016\",\"attributes\":{\"tools\":[{\"type\":\"object\",\"name\":\"PanTool\",\"id\":\"p9030\"},{\"type\":\"object\",\"name\":\"WheelZoomTool\",\"id\":\"p9031\",\"attributes\":{\"renderers\":\"auto\"}},{\"type\":\"object\",\"name\":\"BoxZoomTool\",\"id\":\"p9032\",\"attributes\":{\"overlay\":{\"type\":\"object\",\"name\":\"BoxAnnotation\",\"id\":\"p9033\",\"attributes\":{\"syncable\":false,\"level\":\"overlay\",\"visible\":false,\"left\":{\"type\":\"number\",\"value\":\"nan\"},\"right\":{\"type\":\"number\",\"value\":\"nan\"},\"top\":{\"type\":\"number\",\"value\":\"nan\"},\"bottom\":{\"type\":\"number\",\"value\":\"nan\"},\"left_units\":\"canvas\",\"right_units\":\"canvas\",\"top_units\":\"canvas\",\"bottom_units\":\"canvas\",\"line_color\":\"black\",\"line_alpha\":1.0,\"line_width\":2,\"line_dash\":[4,4],\"fill_color\":\"lightgrey\",\"fill_alpha\":0.5}}}},{\"type\":\"object\",\"name\":\"SaveTool\",\"id\":\"p9038\"},{\"type\":\"object\",\"name\":\"ResetTool\",\"id\":\"p9039\"},{\"type\":\"object\",\"name\":\"HelpTool\",\"id\":\"p9040\"}]}},\"toolbar_location\":null,\"left\":[{\"type\":\"object\",\"name\":\"LinearAxis\",\"id\":\"p9025\",\"attributes\":{\"ticker\":{\"type\":\"object\",\"name\":\"BasicTicker\",\"id\":\"p9026\",\"attributes\":{\"mantissas\":[1,2,5]}},\"formatter\":{\"type\":\"object\",\"name\":\"BasicTickFormatter\",\"id\":\"p9027\"},\"major_label_policy\":{\"type\":\"object\",\"name\":\"AllLabels\",\"id\":\"p9028\"}}}],\"below\":[{\"type\":\"object\",\"name\":\"CategoricalAxis\",\"id\":\"p9020\",\"attributes\":{\"ticker\":{\"type\":\"object\",\"name\":\"CategoricalTicker\",\"id\":\"p9021\"},\"formatter\":{\"type\":\"object\",\"name\":\"CategoricalTickFormatter\",\"id\":\"p9022\"},\"major_label_policy\":{\"type\":\"object\",\"name\":\"AllLabels\",\"id\":\"p9023\"}}}],\"center\":[{\"type\":\"object\",\"name\":\"Grid\",\"id\":\"p9024\",\"attributes\":{\"axis\":{\"id\":\"p9020\"},\"grid_line_color\":null}},{\"type\":\"object\",\"name\":\"Grid\",\"id\":\"p9029\",\"attributes\":{\"dimension\":1,\"axis\":{\"id\":\"p9025\"},\"grid_line_color\":\"#cccccc\",\"grid_line_alpha\":0.8,\"grid_line_dash\":[2,4]}}]}}]}};\n  const render_items = [{\"docid\":\"7a76a41e-515a-43ab-941b-59d80443c638\",\"roots\":{\"p9007\":\"e7682d5b-1cad-403e-85d0-130dc643dae6\"},\"root_ids\":[\"p9007\"]}];\n  root.Bokeh.embed.embed_items_notebook(docs_json, render_items);\n  }\n  if (root.Bokeh !== undefined) {\n    embed_document(root);\n  } else {\n    let attempts = 0;\n    const timer = setInterval(function(root) {\n      if (root.Bokeh !== undefined) {\n        clearInterval(timer);\n        embed_document(root);\n      } else {\n        attempts++;\n        if (attempts > 100) {\n          clearInterval(timer);\n          console.log(\"Bokeh: ERROR: Unable to run BokehJS code because BokehJS library is missing\");\n        }\n      }\n    }, 10, root)\n  }\n})(window);",
      "application/vnd.bokehjs_exec.v0+json": ""
     },
     "metadata": {
      "application/vnd.bokehjs_exec.v0+json": {
       "id": "p9007"
      }
     },
     "output_type": "display_data"
    }
   ],
   "source": [
    "xvals = type_df.type.to_numpy()\n",
    "yvals = type_df.total.to_numpy()\n",
    "mcols = ['#FF5733', '#33FF57', '#3366FF', '#FF33E9']\n",
    "\n",
    "p = figure(\n",
    "    x_range = xvals,\n",
    "    height=350, toolbar_location=None,\n",
    "    title=\"TRASH WHEEL COLLECTION\")\n",
    "\n",
    "p.vbar(\n",
    "    x = xvals,\n",
    "    top=yvals,\n",
    "    width=0.9, \n",
    "    #legend_field= xvals,\n",
    "    line_color='white', \n",
    "    color  = mcols,\n",
    "    #fill_color=factor_cmap(xvals, palette=Bright6, factors=xvals,)\n",
    "    )\n",
    "p.xgrid.grid_line_color = None\n",
    "p.ygrid.grid_line_color = '#cccccc'\n",
    "p.ygrid.grid_line_alpha = 0.8\n",
    "p.ygrid.grid_line_dash = [2, 4]\n",
    "p.y_range.start = 0\n",
    "p.y_range.end = 500000\n",
    "#p.legend.orientation = \"horizontal\"\n",
    "#p.legend.location = \"top_center\"\n",
    "\n",
    "show(p)"
   ]
  },
  {
   "cell_type": "code",
   "execution_count": 74,
   "metadata": {},
   "outputs": [
    {
     "data": {
      "text/plain": [
       "array([  1242.,   1701.,  33089.,  38195., 284570., 337980., 496090.])"
      ]
     },
     "execution_count": 74,
     "metadata": {},
     "output_type": "execute_result"
    }
   ],
   "source": [
    "type_df.total.to_numpy()"
   ]
  },
  {
   "cell_type": "code",
   "execution_count": 289,
   "metadata": {},
   "outputs": [
    {
     "data": {
      "text/html": [
       "\n",
       "  <div id=\"ab54ecc0-7343-4cb7-a0cb-63eabeb6004a\" data-root-id=\"p9051\" style=\"display: contents;\"></div>\n"
      ]
     },
     "metadata": {},
     "output_type": "display_data"
    },
    {
     "data": {
      "application/javascript": "(function(root) {\n  function embed_document(root) {\n  const docs_json = {\"07a91aea-504d-4445-b38b-10f976251485\":{\"version\":\"3.3.3\",\"title\":\"Bokeh Application\",\"roots\":[{\"type\":\"object\",\"name\":\"Figure\",\"id\":\"p9051\",\"attributes\":{\"height\":300,\"x_range\":{\"type\":\"object\",\"name\":\"FactorRange\",\"id\":\"p9061\",\"attributes\":{\"factors\":[\"Other\",\"Wrappers\",\"Plastic bottles\",\"Cigarette butts\"]}},\"y_range\":{\"type\":\"object\",\"name\":\"DataRange1d\",\"id\":\"p9053\"},\"x_scale\":{\"type\":\"object\",\"name\":\"CategoricalScale\",\"id\":\"p9062\"},\"y_scale\":{\"type\":\"object\",\"name\":\"LinearScale\",\"id\":\"p9063\"},\"title\":{\"type\":\"object\",\"name\":\"Title\",\"id\":\"p9054\",\"attributes\":{\"text\":\"TRASH WHEEL COLLECTION\"}},\"renderers\":[{\"type\":\"object\",\"name\":\"GlyphRenderer\",\"id\":\"p9091\",\"attributes\":{\"data_source\":{\"type\":\"object\",\"name\":\"ColumnDataSource\",\"id\":\"p9085\",\"attributes\":{\"selected\":{\"type\":\"object\",\"name\":\"Selection\",\"id\":\"p9086\",\"attributes\":{\"indices\":[],\"line_indices\":[]}},\"selection_policy\":{\"type\":\"object\",\"name\":\"UnionRenderers\",\"id\":\"p9087\"},\"data\":{\"type\":\"map\",\"entries\":[[\"x\",{\"type\":\"ndarray\",\"array\":[\"Other\",\"Wrappers\",\"Plastic bottles\",\"Cigarette butts\"],\"shape\":[4],\"dtype\":\"object\",\"order\":\"little\"}],[\"top\",{\"type\":\"ndarray\",\"array\":{\"type\":\"bytes\",\"data\":\"AAAAADAf8kAAAAAAaF4RQQAAAADwoBRBAAAAAGhHHkE=\"},\"shape\":[4],\"dtype\":\"float64\",\"order\":\"little\"}]]}}},\"view\":{\"type\":\"object\",\"name\":\"CDSView\",\"id\":\"p9092\",\"attributes\":{\"filter\":{\"type\":\"object\",\"name\":\"AllIndices\",\"id\":\"p9093\"}}},\"glyph\":{\"type\":\"object\",\"name\":\"VBar\",\"id\":\"p9088\",\"attributes\":{\"x\":{\"type\":\"field\",\"field\":\"x\"},\"width\":{\"type\":\"value\",\"value\":0.8},\"top\":{\"type\":\"field\",\"field\":\"top\"},\"line_color\":{\"type\":\"value\",\"value\":\"darkcyan\"},\"fill_color\":{\"type\":\"value\",\"value\":\"darkcyan\"},\"hatch_color\":{\"type\":\"value\",\"value\":\"darkcyan\"}}},\"nonselection_glyph\":{\"type\":\"object\",\"name\":\"VBar\",\"id\":\"p9089\",\"attributes\":{\"x\":{\"type\":\"field\",\"field\":\"x\"},\"width\":{\"type\":\"value\",\"value\":0.8},\"top\":{\"type\":\"field\",\"field\":\"top\"},\"line_color\":{\"type\":\"value\",\"value\":\"darkcyan\"},\"line_alpha\":{\"type\":\"value\",\"value\":0.1},\"fill_color\":{\"type\":\"value\",\"value\":\"darkcyan\"},\"fill_alpha\":{\"type\":\"value\",\"value\":0.1},\"hatch_color\":{\"type\":\"value\",\"value\":\"darkcyan\"},\"hatch_alpha\":{\"type\":\"value\",\"value\":0.1}}},\"muted_glyph\":{\"type\":\"object\",\"name\":\"VBar\",\"id\":\"p9090\",\"attributes\":{\"x\":{\"type\":\"field\",\"field\":\"x\"},\"width\":{\"type\":\"value\",\"value\":0.8},\"top\":{\"type\":\"field\",\"field\":\"top\"},\"line_color\":{\"type\":\"value\",\"value\":\"darkcyan\"},\"line_alpha\":{\"type\":\"value\",\"value\":0.2},\"fill_color\":{\"type\":\"value\",\"value\":\"darkcyan\"},\"fill_alpha\":{\"type\":\"value\",\"value\":0.2},\"hatch_color\":{\"type\":\"value\",\"value\":\"darkcyan\"},\"hatch_alpha\":{\"type\":\"value\",\"value\":0.2}}}}}],\"toolbar\":{\"type\":\"object\",\"name\":\"Toolbar\",\"id\":\"p9060\",\"attributes\":{\"tools\":[{\"type\":\"object\",\"name\":\"PanTool\",\"id\":\"p9074\"},{\"type\":\"object\",\"name\":\"WheelZoomTool\",\"id\":\"p9075\",\"attributes\":{\"renderers\":\"auto\"}},{\"type\":\"object\",\"name\":\"BoxZoomTool\",\"id\":\"p9076\",\"attributes\":{\"overlay\":{\"type\":\"object\",\"name\":\"BoxAnnotation\",\"id\":\"p9077\",\"attributes\":{\"syncable\":false,\"level\":\"overlay\",\"visible\":false,\"left\":{\"type\":\"number\",\"value\":\"nan\"},\"right\":{\"type\":\"number\",\"value\":\"nan\"},\"top\":{\"type\":\"number\",\"value\":\"nan\"},\"bottom\":{\"type\":\"number\",\"value\":\"nan\"},\"left_units\":\"canvas\",\"right_units\":\"canvas\",\"top_units\":\"canvas\",\"bottom_units\":\"canvas\",\"line_color\":\"black\",\"line_alpha\":1.0,\"line_width\":2,\"line_dash\":[4,4],\"fill_color\":\"lightgrey\",\"fill_alpha\":0.5}}}},{\"type\":\"object\",\"name\":\"SaveTool\",\"id\":\"p9082\"},{\"type\":\"object\",\"name\":\"ResetTool\",\"id\":\"p9083\"},{\"type\":\"object\",\"name\":\"HelpTool\",\"id\":\"p9084\"}]}},\"left\":[{\"type\":\"object\",\"name\":\"LinearAxis\",\"id\":\"p9069\",\"attributes\":{\"ticker\":{\"type\":\"object\",\"name\":\"BasicTicker\",\"id\":\"p9070\",\"attributes\":{\"mantissas\":[1,2,5]}},\"formatter\":{\"type\":\"object\",\"name\":\"BasicTickFormatter\",\"id\":\"p9071\"},\"major_label_policy\":{\"type\":\"object\",\"name\":\"AllLabels\",\"id\":\"p9072\"}}}],\"below\":[{\"type\":\"object\",\"name\":\"CategoricalAxis\",\"id\":\"p9064\",\"attributes\":{\"ticker\":{\"type\":\"object\",\"name\":\"CategoricalTicker\",\"id\":\"p9065\"},\"formatter\":{\"type\":\"object\",\"name\":\"CategoricalTickFormatter\",\"id\":\"p9066\"},\"major_label_orientation\":1.5707963267948966,\"major_label_policy\":{\"type\":\"object\",\"name\":\"AllLabels\",\"id\":\"p9067\"}}}],\"center\":[{\"type\":\"object\",\"name\":\"Grid\",\"id\":\"p9068\",\"attributes\":{\"axis\":{\"id\":\"p9064\"}}},{\"type\":\"object\",\"name\":\"Grid\",\"id\":\"p9073\",\"attributes\":{\"dimension\":1,\"axis\":{\"id\":\"p9069\"}}}]}}]}};\n  const render_items = [{\"docid\":\"07a91aea-504d-4445-b38b-10f976251485\",\"roots\":{\"p9051\":\"ab54ecc0-7343-4cb7-a0cb-63eabeb6004a\"},\"root_ids\":[\"p9051\"]}];\n  root.Bokeh.embed.embed_items_notebook(docs_json, render_items);\n  }\n  if (root.Bokeh !== undefined) {\n    embed_document(root);\n  } else {\n    let attempts = 0;\n    const timer = setInterval(function(root) {\n      if (root.Bokeh !== undefined) {\n        clearInterval(timer);\n        embed_document(root);\n      } else {\n        attempts++;\n        if (attempts > 100) {\n          clearInterval(timer);\n          console.log(\"Bokeh: ERROR: Unable to run BokehJS code because BokehJS library is missing\");\n        }\n      }\n    }, 10, root)\n  }\n})(window);",
      "application/vnd.bokehjs_exec.v0+json": ""
     },
     "metadata": {
      "application/vnd.bokehjs_exec.v0+json": {
       "id": "p9051"
      }
     },
     "output_type": "display_data"
    }
   ],
   "source": [
    "bp = figure(\n",
    "    x_range=type_df[\"type\"],  \n",
    "    title=\"TRASH WHEEL COLLECTION\",\n",
    "    height=300, width=600,)\n",
    "bp.vbar(\n",
    "    x=type_df[\"type\"],\n",
    "    top=type_df[\"total\"],\n",
    "    width=0.8,\n",
    "    color= \"darkcyan\")\n",
    "bp.xaxis.major_label_orientation = np.pi /2# rotate labels by roughly \n",
    "\n",
    "show(bp)"
   ]
  },
  {
   "cell_type": "markdown",
   "metadata": {},
   "source": [
    "#### H bars"
   ]
  },
  {
   "cell_type": "code",
   "execution_count": 286,
   "metadata": {},
   "outputs": [
    {
     "data": {
      "text/html": [
       "\n",
       "  <div id=\"f7f20d01-20e1-4b1a-896d-4fc03c71ca31\" data-root-id=\"p8923\" style=\"display: contents;\"></div>\n"
      ]
     },
     "metadata": {},
     "output_type": "display_data"
    },
    {
     "data": {
      "application/javascript": "(function(root) {\n  function embed_document(root) {\n  const docs_json = {\"43f81f2c-3d3f-4ae1-9c3f-b8612684ed63\":{\"version\":\"3.3.3\",\"title\":\"Bokeh Application\",\"roots\":[{\"type\":\"object\",\"name\":\"Figure\",\"id\":\"p8923\",\"attributes\":{\"height\":400,\"x_range\":{\"type\":\"object\",\"name\":\"DataRange1d\",\"id\":\"p8925\",\"attributes\":{\"start\":0}},\"y_range\":{\"type\":\"object\",\"name\":\"FactorRange\",\"id\":\"p8933\",\"attributes\":{\"factors\":[\"A\",\"B\",\"C\",\"D\"]}},\"x_scale\":{\"type\":\"object\",\"name\":\"LinearScale\",\"id\":\"p8934\"},\"y_scale\":{\"type\":\"object\",\"name\":\"CategoricalScale\",\"id\":\"p8935\"},\"title\":{\"type\":\"object\",\"name\":\"Title\",\"id\":\"p8926\",\"attributes\":{\"text\":\"Horizontal Bar Plot\",\"text_font_size\":\"16pt\"}},\"renderers\":[{\"type\":\"object\",\"name\":\"GlyphRenderer\",\"id\":\"p8952\",\"attributes\":{\"data_source\":{\"type\":\"object\",\"name\":\"ColumnDataSource\",\"id\":\"p8920\",\"attributes\":{\"selected\":{\"type\":\"object\",\"name\":\"Selection\",\"id\":\"p8921\",\"attributes\":{\"indices\":[],\"line_indices\":[]}},\"selection_policy\":{\"type\":\"object\",\"name\":\"UnionRenderers\",\"id\":\"p8922\"},\"data\":{\"type\":\"map\",\"entries\":[[\"categories\",[\"A\",\"B\",\"C\",\"D\"]],[\"values\",[4,7,5,2]]]}}},\"view\":{\"type\":\"object\",\"name\":\"CDSView\",\"id\":\"p8953\",\"attributes\":{\"filter\":{\"type\":\"object\",\"name\":\"AllIndices\",\"id\":\"p8954\"}}},\"glyph\":{\"type\":\"object\",\"name\":\"HBar\",\"id\":\"p8949\",\"attributes\":{\"y\":{\"type\":\"field\",\"field\":\"categories\"},\"height\":{\"type\":\"value\",\"value\":0.8},\"right\":{\"type\":\"field\",\"field\":\"values\"},\"line_color\":{\"type\":\"value\",\"value\":\"navy\"},\"fill_color\":{\"type\":\"value\",\"value\":\"navy\"},\"hatch_color\":{\"type\":\"value\",\"value\":\"navy\"}}},\"nonselection_glyph\":{\"type\":\"object\",\"name\":\"HBar\",\"id\":\"p8950\",\"attributes\":{\"y\":{\"type\":\"field\",\"field\":\"categories\"},\"height\":{\"type\":\"value\",\"value\":0.8},\"right\":{\"type\":\"field\",\"field\":\"values\"},\"line_color\":{\"type\":\"value\",\"value\":\"navy\"},\"line_alpha\":{\"type\":\"value\",\"value\":0.1},\"fill_color\":{\"type\":\"value\",\"value\":\"navy\"},\"fill_alpha\":{\"type\":\"value\",\"value\":0.1},\"hatch_color\":{\"type\":\"value\",\"value\":\"navy\"},\"hatch_alpha\":{\"type\":\"value\",\"value\":0.1}}},\"muted_glyph\":{\"type\":\"object\",\"name\":\"HBar\",\"id\":\"p8951\",\"attributes\":{\"y\":{\"type\":\"field\",\"field\":\"categories\"},\"height\":{\"type\":\"value\",\"value\":0.8},\"right\":{\"type\":\"field\",\"field\":\"values\"},\"line_color\":{\"type\":\"value\",\"value\":\"navy\"},\"line_alpha\":{\"type\":\"value\",\"value\":0.2},\"fill_color\":{\"type\":\"value\",\"value\":\"navy\"},\"fill_alpha\":{\"type\":\"value\",\"value\":0.2},\"hatch_color\":{\"type\":\"value\",\"value\":\"navy\"},\"hatch_alpha\":{\"type\":\"value\",\"value\":0.2}}}}}],\"toolbar\":{\"type\":\"object\",\"name\":\"Toolbar\",\"id\":\"p8932\"},\"toolbar_location\":null,\"left\":[{\"type\":\"object\",\"name\":\"CategoricalAxis\",\"id\":\"p8941\",\"attributes\":{\"ticker\":{\"type\":\"object\",\"name\":\"CategoricalTicker\",\"id\":\"p8942\"},\"formatter\":{\"type\":\"object\",\"name\":\"CategoricalTickFormatter\",\"id\":\"p8943\"},\"axis_label\":\"Categories\",\"major_label_policy\":{\"type\":\"object\",\"name\":\"AllLabels\",\"id\":\"p8944\"},\"major_label_text_font_size\":\"12pt\"}}],\"below\":[{\"type\":\"object\",\"name\":\"LinearAxis\",\"id\":\"p8936\",\"attributes\":{\"ticker\":{\"type\":\"object\",\"name\":\"BasicTicker\",\"id\":\"p8937\",\"attributes\":{\"mantissas\":[1,2,5]}},\"formatter\":{\"type\":\"object\",\"name\":\"BasicTickFormatter\",\"id\":\"p8938\"},\"axis_label\":\"Values\",\"major_label_policy\":{\"type\":\"object\",\"name\":\"AllLabels\",\"id\":\"p8939\"},\"major_label_text_font_size\":\"12pt\"}}],\"center\":[{\"type\":\"object\",\"name\":\"Grid\",\"id\":\"p8940\",\"attributes\":{\"axis\":{\"id\":\"p8936\"}}},{\"type\":\"object\",\"name\":\"Grid\",\"id\":\"p8945\",\"attributes\":{\"dimension\":1,\"axis\":{\"id\":\"p8941\"},\"grid_line_color\":null}},{\"type\":\"object\",\"name\":\"Legend\",\"id\":\"p8955\",\"attributes\":{\"items\":[{\"type\":\"object\",\"name\":\"LegendItem\",\"id\":\"p8956\",\"attributes\":{\"label\":{\"type\":\"field\",\"field\":\"categories\"},\"renderers\":[{\"id\":\"p8952\"}]}}]}}]}}]}};\n  const render_items = [{\"docid\":\"43f81f2c-3d3f-4ae1-9c3f-b8612684ed63\",\"roots\":{\"p8923\":\"f7f20d01-20e1-4b1a-896d-4fc03c71ca31\"},\"root_ids\":[\"p8923\"]}];\n  root.Bokeh.embed.embed_items_notebook(docs_json, render_items);\n  }\n  if (root.Bokeh !== undefined) {\n    embed_document(root);\n  } else {\n    let attempts = 0;\n    const timer = setInterval(function(root) {\n      if (root.Bokeh !== undefined) {\n        clearInterval(timer);\n        embed_document(root);\n      } else {\n        attempts++;\n        if (attempts > 100) {\n          clearInterval(timer);\n          console.log(\"Bokeh: ERROR: Unable to run BokehJS code because BokehJS library is missing\");\n        }\n      }\n    }, 10, root)\n  }\n})(window);",
      "application/vnd.bokehjs_exec.v0+json": ""
     },
     "metadata": {
      "application/vnd.bokehjs_exec.v0+json": {
       "id": "p8923"
      }
     },
     "output_type": "display_data"
    }
   ],
   "source": [
    "categories = ['A', 'B', 'C', 'D']\n",
    "values = [4, 7, 5, 2]\n",
    "\n",
    "source = ColumnDataSource(data=dict(categories=categories, values=values))\n",
    "\n",
    "p = figure(y_range=categories, width=600, height=400, title=\"Horizontal Bar Plot\",\n",
    "           toolbar_location=None, tools=\"\")\n",
    "\n",
    "p.hbar(y='categories', right='values', height=0.8, color='navy', legend_field=\"categories\", source=source)\n",
    "\n",
    "p.ygrid.grid_line_color = None\n",
    "p.x_range.start = 0\n",
    "p.xaxis.axis_label = \"Values\"\n",
    "p.yaxis.axis_label = \"Categories\"\n",
    "p.title.text_font_size = '16pt'\n",
    "p.xaxis.major_label_text_font_size = '12pt'\n",
    "p.yaxis.major_label_text_font_size = '12pt'\n",
    "\n",
    "show(p)"
   ]
  },
  {
   "cell_type": "code",
   "execution_count": 290,
   "metadata": {},
   "outputs": [
    {
     "data": {
      "text/html": [
       "\n",
       "  <div id=\"d447188b-6a0a-4c92-a417-c4406907b913\" data-root-id=\"p9098\" style=\"display: contents;\"></div>\n"
      ]
     },
     "metadata": {},
     "output_type": "display_data"
    },
    {
     "data": {
      "application/javascript": "(function(root) {\n  function embed_document(root) {\n  const docs_json = {\"8d918815-2561-4308-9c40-d186f3ee14f9\":{\"version\":\"3.3.3\",\"title\":\"Bokeh Application\",\"roots\":[{\"type\":\"object\",\"name\":\"Figure\",\"id\":\"p9098\",\"attributes\":{\"height\":300,\"x_range\":{\"type\":\"object\",\"name\":\"DataRange1d\",\"id\":\"p9100\",\"attributes\":{\"start\":0}},\"y_range\":{\"type\":\"object\",\"name\":\"FactorRange\",\"id\":\"p9108\",\"attributes\":{\"factors\":[\"Other\",\"Wrappers\",\"Plastic bottles\",\"Cigarette butts\"]}},\"x_scale\":{\"type\":\"object\",\"name\":\"LinearScale\",\"id\":\"p9109\"},\"y_scale\":{\"type\":\"object\",\"name\":\"CategoricalScale\",\"id\":\"p9110\"},\"title\":{\"type\":\"object\",\"name\":\"Title\",\"id\":\"p9101\",\"attributes\":{\"text\":\"TRASH WHEEL COLLECTION\",\"text_color\":\"dodgerblue\",\"text_font\":\"Roboto\",\"text_font_size\":\"16pt\",\"align\":\"center\"}},\"renderers\":[{\"type\":\"object\",\"name\":\"GlyphRenderer\",\"id\":\"p9127\",\"attributes\":{\"data_source\":{\"type\":\"object\",\"name\":\"ColumnDataSource\",\"id\":\"p9095\",\"attributes\":{\"selected\":{\"type\":\"object\",\"name\":\"Selection\",\"id\":\"p9096\",\"attributes\":{\"indices\":[],\"line_indices\":[]}},\"selection_policy\":{\"type\":\"object\",\"name\":\"UnionRenderers\",\"id\":\"p9097\"},\"data\":{\"type\":\"map\",\"entries\":[[\"categories\",{\"type\":\"ndarray\",\"array\":[\"Other\",\"Wrappers\",\"Plastic bottles\",\"Cigarette butts\"],\"shape\":[4],\"dtype\":\"object\",\"order\":\"little\"}],[\"values\",{\"type\":\"ndarray\",\"array\":{\"type\":\"bytes\",\"data\":\"AAAAADAf8kAAAAAAaF4RQQAAAADwoBRBAAAAAGhHHkE=\"},\"shape\":[4],\"dtype\":\"float64\",\"order\":\"little\"}],[\"hcols\",[\"#4477AA\",\"#EE6677\",\"#228833\",\"#CCBB44\"]]]}}},\"view\":{\"type\":\"object\",\"name\":\"CDSView\",\"id\":\"p9128\",\"attributes\":{\"filter\":{\"type\":\"object\",\"name\":\"AllIndices\",\"id\":\"p9129\"}}},\"glyph\":{\"type\":\"object\",\"name\":\"HBar\",\"id\":\"p9124\",\"attributes\":{\"y\":{\"type\":\"field\",\"field\":\"categories\"},\"height\":{\"type\":\"value\",\"value\":0.7},\"right\":{\"type\":\"field\",\"field\":\"values\"},\"line_color\":{\"type\":\"field\",\"field\":\"hcols\"},\"fill_color\":{\"type\":\"field\",\"field\":\"hcols\"},\"hatch_color\":{\"type\":\"field\",\"field\":\"hcols\"}}},\"nonselection_glyph\":{\"type\":\"object\",\"name\":\"HBar\",\"id\":\"p9125\",\"attributes\":{\"y\":{\"type\":\"field\",\"field\":\"categories\"},\"height\":{\"type\":\"value\",\"value\":0.7},\"right\":{\"type\":\"field\",\"field\":\"values\"},\"line_color\":{\"type\":\"field\",\"field\":\"hcols\"},\"line_alpha\":{\"type\":\"value\",\"value\":0.1},\"fill_color\":{\"type\":\"field\",\"field\":\"hcols\"},\"fill_alpha\":{\"type\":\"value\",\"value\":0.1},\"hatch_color\":{\"type\":\"field\",\"field\":\"hcols\"},\"hatch_alpha\":{\"type\":\"value\",\"value\":0.1}}},\"muted_glyph\":{\"type\":\"object\",\"name\":\"HBar\",\"id\":\"p9126\",\"attributes\":{\"y\":{\"type\":\"field\",\"field\":\"categories\"},\"height\":{\"type\":\"value\",\"value\":0.7},\"right\":{\"type\":\"field\",\"field\":\"values\"},\"line_color\":{\"type\":\"field\",\"field\":\"hcols\"},\"line_alpha\":{\"type\":\"value\",\"value\":0.2},\"fill_color\":{\"type\":\"field\",\"field\":\"hcols\"},\"fill_alpha\":{\"type\":\"value\",\"value\":0.2},\"hatch_color\":{\"type\":\"field\",\"field\":\"hcols\"},\"hatch_alpha\":{\"type\":\"value\",\"value\":0.2}}}}}],\"toolbar\":{\"type\":\"object\",\"name\":\"Toolbar\",\"id\":\"p9107\"},\"toolbar_location\":null,\"left\":[{\"type\":\"object\",\"name\":\"CategoricalAxis\",\"id\":\"p9116\",\"attributes\":{\"ticker\":{\"type\":\"object\",\"name\":\"CategoricalTicker\",\"id\":\"p9117\"},\"formatter\":{\"type\":\"object\",\"name\":\"CategoricalTickFormatter\",\"id\":\"p9118\"},\"major_label_policy\":{\"type\":\"object\",\"name\":\"AllLabels\",\"id\":\"p9119\"},\"major_label_text_font_size\":\"10pt\"}}],\"above\":[{\"type\":\"object\",\"name\":\"Title\",\"id\":\"p9131\",\"attributes\":{\"text\":\"Total number of trash items collected by category in 2023\\n\",\"align\":\"center\"}}],\"below\":[{\"type\":\"object\",\"name\":\"LinearAxis\",\"id\":\"p9111\",\"attributes\":{\"ticker\":{\"type\":\"object\",\"name\":\"BasicTicker\",\"id\":\"p9112\",\"attributes\":{\"mantissas\":[1,2,5]}},\"formatter\":{\"type\":\"object\",\"name\":\"NumeralTickFormatter\",\"id\":\"p9130\"},\"axis_label\":\"Total collected\",\"major_label_policy\":{\"type\":\"object\",\"name\":\"AllLabels\",\"id\":\"p9114\"},\"major_label_text_font_size\":\"10pt\"}}],\"center\":[{\"type\":\"object\",\"name\":\"Grid\",\"id\":\"p9115\",\"attributes\":{\"axis\":{\"id\":\"p9111\"}}},{\"type\":\"object\",\"name\":\"Grid\",\"id\":\"p9120\",\"attributes\":{\"dimension\":1,\"axis\":{\"id\":\"p9116\"},\"grid_line_color\":null}}]}}]}};\n  const render_items = [{\"docid\":\"8d918815-2561-4308-9c40-d186f3ee14f9\",\"roots\":{\"p9098\":\"d447188b-6a0a-4c92-a417-c4406907b913\"},\"root_ids\":[\"p9098\"]}];\n  root.Bokeh.embed.embed_items_notebook(docs_json, render_items);\n  }\n  if (root.Bokeh !== undefined) {\n    embed_document(root);\n  } else {\n    let attempts = 0;\n    const timer = setInterval(function(root) {\n      if (root.Bokeh !== undefined) {\n        clearInterval(timer);\n        embed_document(root);\n      } else {\n        attempts++;\n        if (attempts > 100) {\n          clearInterval(timer);\n          console.log(\"Bokeh: ERROR: Unable to run BokehJS code because BokehJS library is missing\");\n        }\n      }\n    }, 10, root)\n  }\n})(window);",
      "application/vnd.bokehjs_exec.v0+json": ""
     },
     "metadata": {
      "application/vnd.bokehjs_exec.v0+json": {
       "id": "p9098"
      }
     },
     "output_type": "display_data"
    }
   ],
   "source": [
    "categories = type_df['type'].to_numpy()\n",
    "values = type_df['total'].to_numpy()\n",
    "hcols = ['#4477AA', '#EE6677', '#228833', '#CCBB44']\n",
    "\n",
    "source = ColumnDataSource(data=dict(categories=categories, values=values, hcols = hcols))\n",
    "\n",
    "p = figure(y_range=categories, width=600, height=300, title=\"TRASH WHEEL COLLECTION\",\n",
    "           toolbar_location=None, tools=\"\")\n",
    "\n",
    "p.hbar(\n",
    "    source=source,\n",
    "    y='categories', right='values', height=0.7, color='hcols',)\n",
    "\n",
    "p.ygrid.grid_line_color = None\n",
    "p.x_range.start = 0\n",
    "p.xaxis.axis_label = \"Total collected\"\n",
    "#p.yaxis.axis_label = \"Categories\"\n",
    "p.title.text_font_size = '16pt'\n",
    "p.title.text_color = 'dodgerblue'\n",
    "p.title.align = \"center\"\n",
    "p.title.text_font = \"Roboto\"  # times new roman\n",
    "p.title.text_font_style=\"bold\" # italic\n",
    "p.xaxis.major_label_text_font_size = '10pt'\n",
    "p.yaxis.major_label_text_font_size = '10pt'\n",
    "\n",
    "#axis formatting\n",
    "#p.yaxis[0].formatter = NumeralTickFormatter(format=\"$0.00\")\n",
    "#p.xaxis[0].formatter = NumeralTickFormatter(format=\"0.0%\")\n",
    "p.xaxis[0].formatter = NumeralTickFormatter(format=\"0,0\")\n",
    "\n",
    "# Add subtitle\n",
    "#subtitle = Label(text=\"This is a subtitle\", x=300, y=5, text_font_size='12pt', text_color='gray')\n",
    "#p.add_layout(subtitle)\n",
    "\n",
    "#p.add_layout(Title(text=\"Sub-Title\", text_font_style=\"italic\"), 'above')\n",
    "#p.add_layout(Title(text=\"Title\", text_font_size=\"16pt\"), 'above')\n",
    "p.add_layout(Title(text=\"Total number of trash items collected by category in 2023\\n\", align=\"center\"), \"above\")\n",
    "show(p)\n"
   ]
  },
  {
   "cell_type": "markdown",
   "metadata": {},
   "source": [
    "### Annotations"
   ]
  },
  {
   "cell_type": "code",
   "execution_count": 307,
   "metadata": {},
   "outputs": [
    {
     "data": {
      "text/html": [
       "\n",
       "  <div id=\"d2234ed3-9ce4-47d4-aa79-adc27be9bd25\" data-root-id=\"p9644\" style=\"display: contents;\"></div>\n"
      ]
     },
     "metadata": {},
     "output_type": "display_data"
    },
    {
     "data": {
      "application/javascript": "(function(root) {\n  function embed_document(root) {\n  const docs_json = {\"8d1223a7-2195-4bf6-b3b0-a8d91c9ecf74\":{\"version\":\"3.3.3\",\"title\":\"Bokeh Application\",\"roots\":[{\"type\":\"object\",\"name\":\"Figure\",\"id\":\"p9644\",\"attributes\":{\"height\":300,\"x_range\":{\"type\":\"object\",\"name\":\"DataRange1d\",\"id\":\"p9646\",\"attributes\":{\"start\":0}},\"y_range\":{\"type\":\"object\",\"name\":\"FactorRange\",\"id\":\"p9654\",\"attributes\":{\"factors\":[\"Other\",\"Wrappers\",\"Plastic bottles\",\"Cigarette butts\"]}},\"x_scale\":{\"type\":\"object\",\"name\":\"LinearScale\",\"id\":\"p9655\"},\"y_scale\":{\"type\":\"object\",\"name\":\"CategoricalScale\",\"id\":\"p9656\"},\"title\":{\"type\":\"object\",\"name\":\"Title\",\"id\":\"p9647\",\"attributes\":{\"text\":\"TRASH WHEEL COLLECTION\",\"text_color\":\"dodgerblue\",\"text_font\":\"Roboto\",\"text_font_size\":\"16pt\",\"align\":\"center\"}},\"renderers\":[{\"type\":\"object\",\"name\":\"GlyphRenderer\",\"id\":\"p9673\",\"attributes\":{\"data_source\":{\"type\":\"object\",\"name\":\"ColumnDataSource\",\"id\":\"p9641\",\"attributes\":{\"selected\":{\"type\":\"object\",\"name\":\"Selection\",\"id\":\"p9642\",\"attributes\":{\"indices\":[],\"line_indices\":[]}},\"selection_policy\":{\"type\":\"object\",\"name\":\"UnionRenderers\",\"id\":\"p9643\"},\"data\":{\"type\":\"map\",\"entries\":[[\"categories\",{\"type\":\"ndarray\",\"array\":[\"Other\",\"Wrappers\",\"Plastic bottles\",\"Cigarette butts\"],\"shape\":[4],\"dtype\":\"object\",\"order\":\"little\"}],[\"values\",{\"type\":\"ndarray\",\"array\":{\"type\":\"bytes\",\"data\":\"AAAAADAf8kAAAAAAaF4RQQAAAADwoBRBAAAAAGhHHkE=\"},\"shape\":[4],\"dtype\":\"float64\",\"order\":\"little\"}],[\"hcols\",[\"#4477AA\",\"#EE6677\",\"#228833\",\"#CCBB44\"]]]}}},\"view\":{\"type\":\"object\",\"name\":\"CDSView\",\"id\":\"p9674\",\"attributes\":{\"filter\":{\"type\":\"object\",\"name\":\"AllIndices\",\"id\":\"p9675\"}}},\"glyph\":{\"type\":\"object\",\"name\":\"HBar\",\"id\":\"p9670\",\"attributes\":{\"y\":{\"type\":\"field\",\"field\":\"categories\"},\"height\":{\"type\":\"value\",\"value\":0.7},\"right\":{\"type\":\"field\",\"field\":\"values\"},\"line_color\":{\"type\":\"field\",\"field\":\"hcols\"},\"fill_color\":{\"type\":\"field\",\"field\":\"hcols\"},\"hatch_color\":{\"type\":\"field\",\"field\":\"hcols\"}}},\"nonselection_glyph\":{\"type\":\"object\",\"name\":\"HBar\",\"id\":\"p9671\",\"attributes\":{\"y\":{\"type\":\"field\",\"field\":\"categories\"},\"height\":{\"type\":\"value\",\"value\":0.7},\"right\":{\"type\":\"field\",\"field\":\"values\"},\"line_color\":{\"type\":\"field\",\"field\":\"hcols\"},\"line_alpha\":{\"type\":\"value\",\"value\":0.1},\"fill_color\":{\"type\":\"field\",\"field\":\"hcols\"},\"fill_alpha\":{\"type\":\"value\",\"value\":0.1},\"hatch_color\":{\"type\":\"field\",\"field\":\"hcols\"},\"hatch_alpha\":{\"type\":\"value\",\"value\":0.1}}},\"muted_glyph\":{\"type\":\"object\",\"name\":\"HBar\",\"id\":\"p9672\",\"attributes\":{\"y\":{\"type\":\"field\",\"field\":\"categories\"},\"height\":{\"type\":\"value\",\"value\":0.7},\"right\":{\"type\":\"field\",\"field\":\"values\"},\"line_color\":{\"type\":\"field\",\"field\":\"hcols\"},\"line_alpha\":{\"type\":\"value\",\"value\":0.2},\"fill_color\":{\"type\":\"field\",\"field\":\"hcols\"},\"fill_alpha\":{\"type\":\"value\",\"value\":0.2},\"hatch_color\":{\"type\":\"field\",\"field\":\"hcols\"},\"hatch_alpha\":{\"type\":\"value\",\"value\":0.2}}}}}],\"toolbar\":{\"type\":\"object\",\"name\":\"Toolbar\",\"id\":\"p9653\"},\"toolbar_location\":null,\"left\":[{\"type\":\"object\",\"name\":\"CategoricalAxis\",\"id\":\"p9662\",\"attributes\":{\"ticker\":{\"type\":\"object\",\"name\":\"CategoricalTicker\",\"id\":\"p9663\"},\"formatter\":{\"type\":\"object\",\"name\":\"CategoricalTickFormatter\",\"id\":\"p9664\"},\"major_label_policy\":{\"type\":\"object\",\"name\":\"AllLabels\",\"id\":\"p9665\"},\"major_label_text_font_size\":\"10pt\",\"major_tick_line_color\":null}}],\"above\":[{\"type\":\"object\",\"name\":\"Title\",\"id\":\"p9677\",\"attributes\":{\"text\":\"Total number collected by category in 2023\\n\",\"text_color\":\"gray\",\"text_font_size\":\"14pt\",\"text_font_style\":\"italic\",\"align\":\"center\"}}],\"below\":[{\"type\":\"object\",\"name\":\"LinearAxis\",\"id\":\"p9657\",\"attributes\":{\"ticker\":{\"type\":\"object\",\"name\":\"FixedTicker\",\"id\":\"p9678\",\"attributes\":{\"ticks\":[100000,200000,300000,400000,500000],\"minor_ticks\":[]}},\"formatter\":{\"type\":\"object\",\"name\":\"CustomJSTickFormatter\",\"id\":\"p9679\",\"attributes\":{\"code\":\"\\n    var mapping = {100000 : \\\"100 K\\\", 200000 : \\\"200 K\\\", 300000 : \\\"300 K\\\", \\n                                      400000 : \\\"400 K\\\", 500000 : \\\"500 K\\\"};\\n    return mapping[tick];\\n\"}},\"axis_label\":\"Total collected\",\"major_label_policy\":{\"type\":\"object\",\"name\":\"AllLabels\",\"id\":\"p9660\"},\"major_label_text_font_size\":\"10pt\",\"major_tick_line_color\":\"#cccccc\",\"minor_tick_line_color\":null}}],\"center\":[{\"type\":\"object\",\"name\":\"Grid\",\"id\":\"p9661\",\"attributes\":{\"axis\":{\"id\":\"p9657\"}}},{\"type\":\"object\",\"name\":\"Grid\",\"id\":\"p9666\",\"attributes\":{\"dimension\":1,\"axis\":{\"id\":\"p9662\"},\"grid_line_color\":null}}]}}]}};\n  const render_items = [{\"docid\":\"8d1223a7-2195-4bf6-b3b0-a8d91c9ecf74\",\"roots\":{\"p9644\":\"d2234ed3-9ce4-47d4-aa79-adc27be9bd25\"},\"root_ids\":[\"p9644\"]}];\n  root.Bokeh.embed.embed_items_notebook(docs_json, render_items);\n  }\n  if (root.Bokeh !== undefined) {\n    embed_document(root);\n  } else {\n    let attempts = 0;\n    const timer = setInterval(function(root) {\n      if (root.Bokeh !== undefined) {\n        clearInterval(timer);\n        embed_document(root);\n      } else {\n        attempts++;\n        if (attempts > 100) {\n          clearInterval(timer);\n          console.log(\"Bokeh: ERROR: Unable to run BokehJS code because BokehJS library is missing\");\n        }\n      }\n    }, 10, root)\n  }\n})(window);",
      "application/vnd.bokehjs_exec.v0+json": ""
     },
     "metadata": {
      "application/vnd.bokehjs_exec.v0+json": {
       "id": "p9644"
      }
     },
     "output_type": "display_data"
    }
   ],
   "source": [
    "categories = type_df['type'].to_numpy()\n",
    "values = type_df['total'].to_numpy()\n",
    "hcols = ['#4477AA', '#EE6677', '#228833', '#CCBB44']\n",
    "\n",
    "source = ColumnDataSource(data=dict(categories=categories, values=values, hcols = hcols))\n",
    "\n",
    "p = figure(y_range=categories, width=600, height=300, title=\"TRASH WHEEL COLLECTION\",\n",
    "           toolbar_location=None, tools=\"\")\n",
    "\n",
    "p.hbar(\n",
    "    source=source,\n",
    "    y='categories', right='values', height=0.7, color='hcols',)\n",
    "\n",
    "p.ygrid.grid_line_color = None\n",
    "p.x_range.start = 0\n",
    "p.xaxis.axis_label = \"Total collected\"\n",
    "p.title.text_font_size = '16pt'\n",
    "p.title.text_color = 'dodgerblue'\n",
    "p.title.align = \"center\"\n",
    "p.title.text_font = \"Roboto\"  # times new roman\n",
    "p.title.text_font_style=\"bold\" # italic\n",
    "p.xaxis.major_label_text_font_size = '10pt'\n",
    "p.yaxis.major_label_text_font_size = '10pt'\n",
    "p.xaxis[0].formatter = NumeralTickFormatter(format=\"0,0\")\n",
    "p.xaxis.minor_tick_line_color = None\n",
    "p.xaxis.major_tick_line_color = \"#cccccc\"\n",
    "p.yaxis.major_tick_line_color = None\n",
    "\n",
    "p.add_layout(\n",
    "    Title(\n",
    "        text=\"Total number collected by category in 2023\\n\", \n",
    "        text_font_size='14pt', text_color='gray', text_font_style=\"italic\",\n",
    "        align=\"center\"), \n",
    "    \"above\")\n",
    "\n",
    "p.xaxis.ticker=FixedTicker(ticks=[100000, 200000, 300000, 400000, 500000])\n",
    "p.xaxis.formatter = CustomJSTickFormatter(code=\"\"\"\n",
    "    var mapping = {100000 : \"100 K\", 200000 : \"200 K\", 300000 : \"300 K\", \n",
    "                                      400000 : \"400 K\", 500000 : \"500 K\"};\n",
    "    return mapping[tick];\n",
    "\"\"\")\n",
    "\n",
    "show(p)"
   ]
  }
 ],
 "metadata": {
  "kernelspec": {
   "display_name": "base",
   "language": "python",
   "name": "python3"
  },
  "language_info": {
   "codemirror_mode": {
    "name": "ipython",
    "version": 3
   },
   "file_extension": ".py",
   "mimetype": "text/x-python",
   "name": "python",
   "nbconvert_exporter": "python",
   "pygments_lexer": "ipython3",
   "version": "3.11.4"
  }
 },
 "nbformat": 4,
 "nbformat_minor": 2
}
