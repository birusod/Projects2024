{
 "cells": [
  {
   "cell_type": "markdown",
   "metadata": {},
   "source": [
    "# FISCAL SPONSOR\n",
    "**2024 Tidytuesday  Week 11**"
   ]
  },
  {
   "cell_type": "markdown",
   "metadata": {},
   "source": [
    "## Setup"
   ]
  },
  {
   "cell_type": "markdown",
   "metadata": {},
   "source": [
    "### Libraries"
   ]
  },
  {
   "cell_type": "code",
   "execution_count": 2,
   "metadata": {},
   "outputs": [],
   "source": [
    "import numpy as np\n",
    "import pandas as pd\n",
    "import matplotlib.pyplot as plt\n",
    "import seaborn as sns"
   ]
  },
  {
   "cell_type": "markdown",
   "metadata": {},
   "source": [
    "### Fonts and Params"
   ]
  },
  {
   "cell_type": "code",
   "execution_count": 18,
   "metadata": {},
   "outputs": [],
   "source": [
    "from matplotlib import rcParams\n",
    "from matplotlib import font_manager\n",
    "\n",
    "font_dirs =  ['/Library/Fonts']\n",
    "font_files = font_manager.findSystemFonts(fontpaths=font_dirs)\n",
    "\n",
    "for font_file in font_files:\n",
    "    font_manager.fontManager.addfont(font_file)\n",
    "\n",
    "rcParams['font.family'] = 'Roboto'\n",
    "#rcParams['font.size'] = '12'"
   ]
  },
  {
   "cell_type": "markdown",
   "metadata": {},
   "source": [
    "###  Data"
   ]
  },
  {
   "cell_type": "code",
   "execution_count": 5,
   "metadata": {},
   "outputs": [],
   "source": [
    "import os\n",
    "#os.getcwd()"
   ]
  },
  {
   "cell_type": "code",
   "execution_count": 7,
   "metadata": {},
   "outputs": [
    {
     "data": {
      "text/html": [
       "<div>\n",
       "<style scoped>\n",
       "    .dataframe tbody tr th:only-of-type {\n",
       "        vertical-align: middle;\n",
       "    }\n",
       "\n",
       "    .dataframe tbody tr th {\n",
       "        vertical-align: top;\n",
       "    }\n",
       "\n",
       "    .dataframe thead th {\n",
       "        text-align: right;\n",
       "    }\n",
       "</style>\n",
       "<table border=\"1\" class=\"dataframe\">\n",
       "  <thead>\n",
       "    <tr style=\"text-align: right;\">\n",
       "      <th></th>\n",
       "      <th>name</th>\n",
       "      <th>created</th>\n",
       "      <th>acted</th>\n",
       "      <th>total</th>\n",
       "      <th>fee</th>\n",
       "      <th>percent</th>\n",
       "      <th>project</th>\n",
       "      <th>services</th>\n",
       "      <th>model</th>\n",
       "      <th>defintion</th>\n",
       "    </tr>\n",
       "  </thead>\n",
       "  <tbody>\n",
       "    <tr>\n",
       "      <th>0</th>\n",
       "      <td>1st Note Music Foundation</td>\n",
       "      <td>2012</td>\n",
       "      <td>2012</td>\n",
       "      <td>2</td>\n",
       "      <td>We charge a 7% administrative fee for most gra...</td>\n",
       "      <td>7.00</td>\n",
       "      <td>Arts and culture</td>\n",
       "      <td>Auditing</td>\n",
       "      <td>Model C</td>\n",
       "      <td>Preapproved Grant Relationship</td>\n",
       "    </tr>\n",
       "    <tr>\n",
       "      <th>1</th>\n",
       "      <td>50CAN, Inc.</td>\n",
       "      <td>2011</td>\n",
       "      <td>2016</td>\n",
       "      <td>10</td>\n",
       "      <td>Between 7.5% and 15%</td>\n",
       "      <td>11.25</td>\n",
       "      <td>Education</td>\n",
       "      <td>Auditing</td>\n",
       "      <td>Model A</td>\n",
       "      <td>Direct Project</td>\n",
       "    </tr>\n",
       "    <tr>\n",
       "      <th>2</th>\n",
       "      <td>50CAN, Inc.</td>\n",
       "      <td>2011</td>\n",
       "      <td>2016</td>\n",
       "      <td>10</td>\n",
       "      <td>Between 7.5% and 15%</td>\n",
       "      <td>11.25</td>\n",
       "      <td>Education</td>\n",
       "      <td>Auditing</td>\n",
       "      <td>Model B</td>\n",
       "      <td>Independent Contractor Project</td>\n",
       "    </tr>\n",
       "    <tr>\n",
       "      <th>3</th>\n",
       "      <td>50CAN, Inc.</td>\n",
       "      <td>2011</td>\n",
       "      <td>2016</td>\n",
       "      <td>10</td>\n",
       "      <td>Between 7.5% and 15%</td>\n",
       "      <td>11.25</td>\n",
       "      <td>Education</td>\n",
       "      <td>Auditing</td>\n",
       "      <td>Model C</td>\n",
       "      <td>Preapproved Grant Relationship</td>\n",
       "    </tr>\n",
       "    <tr>\n",
       "      <th>4</th>\n",
       "      <td>50CAN, Inc.</td>\n",
       "      <td>2011</td>\n",
       "      <td>2016</td>\n",
       "      <td>10</td>\n",
       "      <td>Between 7.5% and 15%</td>\n",
       "      <td>11.25</td>\n",
       "      <td>Education</td>\n",
       "      <td>Bill paying</td>\n",
       "      <td>Model A</td>\n",
       "      <td>Direct Project</td>\n",
       "    </tr>\n",
       "  </tbody>\n",
       "</table>\n",
       "</div>"
      ],
      "text/plain": [
       "                        name  created  acted  total  \\\n",
       "0  1st Note Music Foundation     2012   2012      2   \n",
       "1                50CAN, Inc.     2011   2016     10   \n",
       "2                50CAN, Inc.     2011   2016     10   \n",
       "3                50CAN, Inc.     2011   2016     10   \n",
       "4                50CAN, Inc.     2011   2016     10   \n",
       "\n",
       "                                                 fee  percent  \\\n",
       "0  We charge a 7% administrative fee for most gra...     7.00   \n",
       "1                               Between 7.5% and 15%    11.25   \n",
       "2                               Between 7.5% and 15%    11.25   \n",
       "3                               Between 7.5% and 15%    11.25   \n",
       "4                               Between 7.5% and 15%    11.25   \n",
       "\n",
       "            project     services    model                       defintion  \n",
       "0  Arts and culture     Auditing  Model C  Preapproved Grant Relationship  \n",
       "1         Education     Auditing  Model A                  Direct Project  \n",
       "2         Education     Auditing  Model B  Independent Contractor Project  \n",
       "3         Education     Auditing  Model C  Preapproved Grant Relationship  \n",
       "4         Education  Bill paying  Model A                  Direct Project  "
      ]
     },
     "execution_count": 7,
     "metadata": {},
     "output_type": "execute_result"
    }
   ],
   "source": [
    "dfr = pd.read_csv('fiscal_data_w10.csv')\n",
    "dfr.head()"
   ]
  },
  {
   "cell_type": "markdown",
   "metadata": {},
   "source": [
    "## Data Wrangling"
   ]
  },
  {
   "cell_type": "markdown",
   "metadata": {},
   "source": [
    "Most wranlging done with  R before data  import !!!"
   ]
  },
  {
   "cell_type": "code",
   "execution_count": 24,
   "metadata": {},
   "outputs": [
    {
     "data": {
      "text/html": [
       "<div>\n",
       "<style scoped>\n",
       "    .dataframe tbody tr th:only-of-type {\n",
       "        vertical-align: middle;\n",
       "    }\n",
       "\n",
       "    .dataframe tbody tr th {\n",
       "        vertical-align: top;\n",
       "    }\n",
       "\n",
       "    .dataframe thead th {\n",
       "        text-align: right;\n",
       "    }\n",
       "</style>\n",
       "<table border=\"1\" class=\"dataframe\">\n",
       "  <thead>\n",
       "    <tr style=\"text-align: right;\">\n",
       "      <th></th>\n",
       "      <th>services</th>\n",
       "      <th>count</th>\n",
       "    </tr>\n",
       "  </thead>\n",
       "  <tbody>\n",
       "    <tr>\n",
       "      <th>0</th>\n",
       "      <td>Org/Prog Development</td>\n",
       "      <td>4671</td>\n",
       "    </tr>\n",
       "    <tr>\n",
       "      <th>1</th>\n",
       "      <td>Bookkeeping</td>\n",
       "      <td>4572</td>\n",
       "    </tr>\n",
       "    <tr>\n",
       "      <th>2</th>\n",
       "      <td>Bill paying</td>\n",
       "      <td>3961</td>\n",
       "    </tr>\n",
       "  </tbody>\n",
       "</table>\n",
       "</div>"
      ],
      "text/plain": [
       "               services  count\n",
       "0  Org/Prog Development   4671\n",
       "1           Bookkeeping   4572\n",
       "2           Bill paying   3961"
      ]
     },
     "execution_count": 24,
     "metadata": {},
     "output_type": "execute_result"
    }
   ],
   "source": [
    "by_services = dfr['services'].value_counts()\n",
    "by_services_sorted = dfr['services'].value_counts().reset_index().sort_values('count', ascending=False)\n",
    "by_services_sorted.head(3)"
   ]
  },
  {
   "cell_type": "markdown",
   "metadata": {},
   "source": [
    "## Data Viz"
   ]
  },
  {
   "cell_type": "code",
   "execution_count": 20,
   "metadata": {},
   "outputs": [
    {
     "data": {
      "text/plain": [
       "<Axes: ylabel='services'>"
      ]
     },
     "execution_count": 20,
     "metadata": {},
     "output_type": "execute_result"
    },
    {
     "data": {
      "image/png": "[encoded data removed]",
      "text/plain": [
       "<Figure size 640x480 with 1 Axes>"
      ]
     },
     "metadata": {},
     "output_type": "display_data"
    }
   ],
   "source": [
    "by_services.plot(kind  = 'barh')"
   ]
  }
 ],
 "metadata": {
  "kernelspec": {
   "display_name": ".pvenv",
   "language": "python",
   "name": "python3"
  },
  "language_info": {
   "codemirror_mode": {
    "name": "ipython",
    "version": 3
   },
   "file_extension": ".py",
   "mimetype": "text/x-python",
   "name": "python",
   "nbconvert_exporter": "python",
   "pygments_lexer": "ipython3",
   "version": "3.11.4"
  }
 },
 "nbformat": 4,
 "nbformat_minor": 2
}
