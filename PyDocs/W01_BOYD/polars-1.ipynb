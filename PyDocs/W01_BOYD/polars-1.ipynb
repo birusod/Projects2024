{
 "cells": [
  {
   "cell_type": "markdown",
   "metadata": {},
   "source": [
    "# Getting Started with Polars\n",
    "[polars](https://www.youtube.com/watch?v=CJ0f45evuME&t=11s)"
   ]
  },
  {
   "cell_type": "code",
   "execution_count": 1,
   "metadata": {},
   "outputs": [],
   "source": [
    "import numpy as np\n",
    "import pandas as pd\n",
    "import polars as pl\n",
    "import seaborn as sns\n",
    "import plotly.express as px \n",
    "import pyarrow"
   ]
  },
  {
   "cell_type": "code",
   "execution_count": 2,
   "metadata": {},
   "outputs": [
    {
     "data": {
      "text/plain": [
       "'0.20.3'"
      ]
     },
     "execution_count": 2,
     "metadata": {},
     "output_type": "execute_result"
    }
   ],
   "source": [
    "pl.__version__"
   ]
  },
  {
   "cell_type": "code",
   "execution_count": 10,
   "metadata": {},
   "outputs": [
    {
     "name": "stdout",
     "output_type": "stream",
     "text": [
      "['Array', 'ArrowError', 'Binary', 'Boolean', 'Categorical', 'CategoricalRemappingWarning', 'ChronoFormatWarning', 'ColumnNotFoundError', 'ComputeError', 'Config', 'DATETIME_DTYPES', 'DURATION_DTYPES', 'DataFrame', 'DataType', 'Date', 'Datetime', 'Decimal', 'DuplicateError', 'Duration', 'Enum', 'Expr', 'FLOAT_DTYPES', 'Field', 'Float32', 'Float64', 'INTEGER_DTYPES', 'InProcessQuery', 'Int16', 'Int32', 'Int64', 'Int8', 'InvalidOperationError', 'LazyFrame', 'List', 'NESTED_DTYPES', 'NUMERIC_DTYPES', 'NoDataError', 'Null', 'Object', 'OutOfBoundsError', 'PolarsDataType', 'PolarsPanicError', 'SQLContext', 'SchemaError', 'SchemaFieldNotFoundError', 'Series', 'ShapeError', 'String', 'StringCache', 'Struct', 'StructFieldNotFoundError', 'TEMPORAL_DTYPES', 'Time', 'UInt16', 'UInt32', 'UInt64', 'UInt8', 'Unknown', 'Utf8', '__all__', '__annotations__', '__builtins__', '__cached__', '__doc__', '__file__', '__loader__', '__name__', '__package__', '__path__', '__register_startup_deps', '__spec__', '__version__', '_cpu_check', '_reexport', 'align_frames', 'all', 'all_horizontal', 'any', 'any_horizontal', 'api', 'apply', 'approx_n_unique', 'arange', 'arctan2', 'arctan2d', 'arg_sort_by', 'arg_where', 'build_info', 'coalesce', 'col', 'collect_all', 'collect_all_async', 'concat', 'concat_list', 'concat_str', 'config', 'contextlib', 'convert', 'corr', 'count', 'cov', 'cum_fold', 'cum_reduce', 'cum_sum', 'cum_sum_horizontal', 'cumfold', 'cumreduce', 'cumsum', 'cumsum_horizontal', 'dataframe', 'datatypes', 'date', 'date_range', 'date_ranges', 'datetime', 'datetime_range', 'datetime_ranges', 'dependencies', 'disable_string_cache', 'duration', 'element', 'enable_string_cache', 'exceptions', 'exclude', 'expr', 'first', 'fold', 'format', 'from_arrow', 'from_dataframe', 'from_dict', 'from_dicts', 'from_epoch', 'from_numpy', 'from_pandas', 'from_records', 'from_repr', 'functions', 'get_index_type', 'groups', 'head', 'implode', 'int_range', 'int_ranges', 'io', 'last', 'lazyframe', 'lit', 'map', 'map_batches', 'map_groups', 'max', 'max_horizontal', 'mean', 'median', 'min', 'min_horizontal', 'n_unique', 'ones', 'os', 'polars', 'quantile', 'read_avro', 'read_csv', 'read_csv_batched', 'read_database', 'read_database_uri', 'read_delta', 'read_excel', 'read_ipc', 'read_ipc_schema', 'read_ipc_stream', 'read_json', 'read_ndjson', 'read_ods', 'read_parquet', 'read_parquet_schema', 'reduce', 'repeat', 'rolling_corr', 'rolling_cov', 'scan_csv', 'scan_delta', 'scan_iceberg', 'scan_ipc', 'scan_ndjson', 'scan_parquet', 'scan_pyarrow_dataset', 'select', 'selectors', 'series', 'set_random_seed', 'show_versions', 'slice', 'sql', 'sql_expr', 'std', 'string_cache', 'struct', 'sum', 'sum_horizontal', 'tail', 'threadpool_size', 'time', 'time_range', 'time_ranges', 'type_aliases', 'using_string_cache', 'utils', 'var', 'when', 'wrap_df', 'wrap_s', 'zeros']\n"
     ]
    }
   ],
   "source": [
    "print(dir(pl))"
   ]
  },
  {
   "cell_type": "code",
   "execution_count": 6,
   "metadata": {},
   "outputs": [
    {
     "data": {
      "text/html": [
       "<div>\n",
       "<style scoped>\n",
       "    .dataframe tbody tr th:only-of-type {\n",
       "        vertical-align: middle;\n",
       "    }\n",
       "\n",
       "    .dataframe tbody tr th {\n",
       "        vertical-align: top;\n",
       "    }\n",
       "\n",
       "    .dataframe thead th {\n",
       "        text-align: right;\n",
       "    }\n",
       "</style>\n",
       "<table border=\"1\" class=\"dataframe\">\n",
       "  <thead>\n",
       "    <tr style=\"text-align: right;\">\n",
       "      <th></th>\n",
       "      <th>foo</th>\n",
       "      <th>bar</th>\n",
       "      <th>ham</th>\n",
       "    </tr>\n",
       "  </thead>\n",
       "  <tbody>\n",
       "    <tr>\n",
       "      <th>0</th>\n",
       "      <td>1</td>\n",
       "      <td>6</td>\n",
       "      <td>a</td>\n",
       "    </tr>\n",
       "    <tr>\n",
       "      <th>1</th>\n",
       "      <td>2</td>\n",
       "      <td>7</td>\n",
       "      <td>b</td>\n",
       "    </tr>\n",
       "    <tr>\n",
       "      <th>2</th>\n",
       "      <td>3</td>\n",
       "      <td>8</td>\n",
       "      <td>c</td>\n",
       "    </tr>\n",
       "  </tbody>\n",
       "</table>\n",
       "</div>"
      ],
      "text/plain": [
       "   foo  bar ham\n",
       "0    1    6   a\n",
       "1    2    7   b\n",
       "2    3    8   c"
      ]
     },
     "execution_count": 6,
     "metadata": {},
     "output_type": "execute_result"
    }
   ],
   "source": [
    "pl_df = pl.DataFrame(\n",
    "    {\n",
    "        \"foo\": [1, 2, 3],\n",
    "        \"bar\": [6, 7, 8],\n",
    "        \"ham\": [\"a\", \"b\", \"c\"],\n",
    "    }\n",
    ")\n",
    "pd_df = pl_df.to_pandas()\n",
    "pd_df"
   ]
  },
  {
   "cell_type": "code",
   "execution_count": 7,
   "metadata": {},
   "outputs": [
    {
     "data": {
      "text/html": [
       "<div><style>\n",
       ".dataframe > thead > tr,\n",
       ".dataframe > tbody > tr {\n",
       "  text-align: right;\n",
       "  white-space: pre-wrap;\n",
       "}\n",
       "</style>\n",
       "<small>shape: (3, 3)</small><table border=\"1\" class=\"dataframe\"><thead><tr><th>foo</th><th>bar</th><th>ham</th></tr><tr><td>i64</td><td>i64</td><td>str</td></tr></thead><tbody><tr><td>1</td><td>6</td><td>&quot;a&quot;</td></tr><tr><td>2</td><td>7</td><td>&quot;b&quot;</td></tr><tr><td>3</td><td>8</td><td>&quot;c&quot;</td></tr></tbody></table></div>"
      ],
      "text/plain": [
       "shape: (3, 3)\n",
       "┌─────┬─────┬─────┐\n",
       "│ foo ┆ bar ┆ ham │\n",
       "│ --- ┆ --- ┆ --- │\n",
       "│ i64 ┆ i64 ┆ str │\n",
       "╞═════╪═════╪═════╡\n",
       "│ 1   ┆ 6   ┆ a   │\n",
       "│ 2   ┆ 7   ┆ b   │\n",
       "│ 3   ┆ 8   ┆ c   │\n",
       "└─────┴─────┴─────┘"
      ]
     },
     "execution_count": 7,
     "metadata": {},
     "output_type": "execute_result"
    }
   ],
   "source": [
    "pl_df2 = pl.from_dataframe(pd_df)\n",
    "pl_df2"
   ]
  },
  {
   "cell_type": "markdown",
   "metadata": {},
   "source": [
    "## Loading data"
   ]
  },
  {
   "cell_type": "code",
   "execution_count": 3,
   "metadata": {},
   "outputs": [
    {
     "name": "stdout",
     "output_type": "stream",
     "text": [
      "mypl.ipynb       pl2023_2024.csv  polars-1.ipynb\n"
     ]
    }
   ],
   "source": [
    "ls"
   ]
  },
  {
   "cell_type": "code",
   "execution_count": 4,
   "metadata": {},
   "outputs": [
    {
     "name": "stdout",
     "output_type": "stream",
     "text": [
      "total 136\n",
      "-rw-r--r--@ 1 birusod  staff  59063 Jan  3 22:19 mypl.ipynb\n",
      "-rw-r--r--@ 1 birusod  staff    773 Jan  1 23:23 pl2023_2024.csv\n",
      "-rw-r--r--@ 1 birusod  staff    582 Jan  3 23:06 polars-1.ipynb\n"
     ]
    }
   ],
   "source": [
    "ls -l"
   ]
  },
  {
   "cell_type": "markdown",
   "metadata": {},
   "source": [
    "pl.Categorical, pl.Float32, pl.Utf8,  pl.Int64, pl.Date, pl.String"
   ]
  },
  {
   "cell_type": "code",
   "execution_count": 2,
   "metadata": {},
   "outputs": [],
   "source": [
    "url = 'https://raw.githubusercontent.com/cengel/R-data-wrangling/master/data/MS_trafficstops_bw_age.csv'\n",
    "df = pl.read_csv(\n",
    "    url,\n",
    "    dtypes=[pl.String, pl.Date, pl.String, pl.String, pl.String, pl.String, pl.Date, pl.String, pl.String, pl.Int64, pl.String],\n",
    "    infer_schema_length=10000,\n",
    "    ignore_errors = True,\n",
    "    null_values = list(['NA', '']))"
   ]
  },
  {
   "cell_type": "code",
   "execution_count": 23,
   "metadata": {},
   "outputs": [
    {
     "data": {
      "text/html": [
       "<div><style>\n",
       ".dataframe > thead > tr,\n",
       ".dataframe > tbody > tr {\n",
       "  text-align: right;\n",
       "  white-space: pre-wrap;\n",
       "}\n",
       "</style>\n",
       "<small>shape: (4, 11)</small><table border=\"1\" class=\"dataframe\"><thead><tr><th>id</th><th>stop_date</th><th>county_name</th><th>county_fips</th><th>police_department</th><th>driver_gender</th><th>driver_birthdate</th><th>driver_race</th><th>officer_id</th><th>driver_age</th><th>violation</th></tr><tr><td>str</td><td>date</td><td>str</td><td>str</td><td>str</td><td>str</td><td>date</td><td>str</td><td>str</td><td>i64</td><td>str</td></tr></thead><tbody><tr><td>&quot;MS-2013-00001&quot;</td><td>2013-01-01</td><td>&quot;Jones&quot;</td><td>&quot;28067&quot;</td><td>&quot;Mississippi Hi…</td><td>&quot;male&quot;</td><td>1950-06-14</td><td>&quot;Black&quot;</td><td>&quot;J042&quot;</td><td>63</td><td>&quot;Seat belt&quot;</td></tr><tr><td>&quot;MS-2013-00002&quot;</td><td>2013-01-01</td><td>&quot;Lauderdale&quot;</td><td>&quot;28075&quot;</td><td>&quot;Mississippi Hi…</td><td>&quot;male&quot;</td><td>1967-04-06</td><td>&quot;Black&quot;</td><td>&quot;B026&quot;</td><td>46</td><td>&quot;Careless drivi…</td></tr><tr><td>&quot;MS-2013-00003&quot;</td><td>2013-01-01</td><td>&quot;Pike&quot;</td><td>&quot;28113&quot;</td><td>&quot;Mississippi Hi…</td><td>&quot;male&quot;</td><td>1974-04-15</td><td>&quot;Black&quot;</td><td>&quot;M009&quot;</td><td>39</td><td>&quot;Speeding&quot;</td></tr><tr><td>&quot;MS-2013-00004&quot;</td><td>2013-01-01</td><td>&quot;Hancock&quot;</td><td>&quot;28045&quot;</td><td>&quot;Mississippi Hi…</td><td>&quot;male&quot;</td><td>1981-03-23</td><td>&quot;White&quot;</td><td>&quot;K035&quot;</td><td>32</td><td>&quot;Speeding&quot;</td></tr></tbody></table></div>"
      ],
      "text/plain": [
       "shape: (4, 11)\n",
       "┌───────────┬───────────┬───────────┬───────────┬───┬───────────┬───────────┬───────────┬──────────┐\n",
       "│ id        ┆ stop_date ┆ county_na ┆ county_fi ┆ … ┆ driver_ra ┆ officer_i ┆ driver_ag ┆ violatio │\n",
       "│ ---       ┆ ---       ┆ me        ┆ ps        ┆   ┆ ce        ┆ d         ┆ e         ┆ n        │\n",
       "│ str       ┆ date      ┆ ---       ┆ ---       ┆   ┆ ---       ┆ ---       ┆ ---       ┆ ---      │\n",
       "│           ┆           ┆ str       ┆ str       ┆   ┆ str       ┆ str       ┆ i64       ┆ str      │\n",
       "╞═══════════╪═══════════╪═══════════╪═══════════╪═══╪═══════════╪═══════════╪═══════════╪══════════╡\n",
       "│ MS-2013-0 ┆ 2013-01-0 ┆ Jones     ┆ 28067     ┆ … ┆ Black     ┆ J042      ┆ 63        ┆ Seat     │\n",
       "│ 0001      ┆ 1         ┆           ┆           ┆   ┆           ┆           ┆           ┆ belt     │\n",
       "│ MS-2013-0 ┆ 2013-01-0 ┆ Lauderdal ┆ 28075     ┆ … ┆ Black     ┆ B026      ┆ 46        ┆ Careless │\n",
       "│ 0002      ┆ 1         ┆ e         ┆           ┆   ┆           ┆           ┆           ┆ driving  │\n",
       "│ MS-2013-0 ┆ 2013-01-0 ┆ Pike      ┆ 28113     ┆ … ┆ Black     ┆ M009      ┆ 39        ┆ Speeding │\n",
       "│ 0003      ┆ 1         ┆           ┆           ┆   ┆           ┆           ┆           ┆          │\n",
       "│ MS-2013-0 ┆ 2013-01-0 ┆ Hancock   ┆ 28045     ┆ … ┆ White     ┆ K035      ┆ 32        ┆ Speeding │\n",
       "│ 0004      ┆ 1         ┆           ┆           ┆   ┆           ┆           ┆           ┆          │\n",
       "└───────────┴───────────┴───────────┴───────────┴───┴───────────┴───────────┴───────────┴──────────┘"
      ]
     },
     "execution_count": 23,
     "metadata": {},
     "output_type": "execute_result"
    }
   ],
   "source": [
    "df.head(4)"
   ]
  },
  {
   "cell_type": "code",
   "execution_count": 24,
   "metadata": {},
   "outputs": [
    {
     "data": {
      "text/plain": [
       "(211211, 11)"
      ]
     },
     "execution_count": 24,
     "metadata": {},
     "output_type": "execute_result"
    }
   ],
   "source": [
    "df.shape"
   ]
  },
  {
   "cell_type": "code",
   "execution_count": 25,
   "metadata": {},
   "outputs": [
    {
     "data": {
      "text/plain": [
       "['id',\n",
       " 'stop_date',\n",
       " 'county_name',\n",
       " 'county_fips',\n",
       " 'police_department',\n",
       " 'driver_gender',\n",
       " 'driver_birthdate',\n",
       " 'driver_race',\n",
       " 'officer_id',\n",
       " 'driver_age',\n",
       " 'violation']"
      ]
     },
     "execution_count": 25,
     "metadata": {},
     "output_type": "execute_result"
    }
   ],
   "source": [
    "df.columns"
   ]
  },
  {
   "cell_type": "markdown",
   "metadata": {},
   "source": [
    "## EDA"
   ]
  },
  {
   "cell_type": "code",
   "execution_count": 26,
   "metadata": {},
   "outputs": [
    {
     "data": {
      "text/html": [
       "<div><style>\n",
       ".dataframe > thead > tr,\n",
       ".dataframe > tbody > tr {\n",
       "  text-align: right;\n",
       "  white-space: pre-wrap;\n",
       "}\n",
       "</style>\n",
       "<small>shape: (11, 5)</small><table border=\"1\" class=\"dataframe\"><thead><tr><th>column_0</th><th>column_1</th><th>column_2</th><th>column_3</th><th>column_4</th></tr><tr><td>str</td><td>str</td><td>str</td><td>str</td><td>str</td></tr></thead><tbody><tr><td>&quot;MS-2015-41113&quot;</td><td>&quot;MS-2015-32025&quot;</td><td>&quot;MS-2015-08128&quot;</td><td>&quot;MS-2014-17788&quot;</td><td>&quot;MS-2015-14894&quot;</td></tr><tr><td>&quot;2015-09-05&quot;</td><td>&quot;2015-07-29&quot;</td><td>&quot;2015-03-07&quot;</td><td>&quot;2014-04-09&quot;</td><td>&quot;2015-04-22&quot;</td></tr><tr><td>&quot;Hinds&quot;</td><td>&quot;Bolivar&quot;</td><td>&quot;Humphreys&quot;</td><td>&quot;Perry&quot;</td><td>&quot;Jasper&quot;</td></tr><tr><td>&quot;28049&quot;</td><td>&quot;28011&quot;</td><td>&quot;28053&quot;</td><td>&quot;28111&quot;</td><td>&quot;28061&quot;</td></tr><tr><td>&quot;Mississippi Hi…</td><td>&quot;Mississippi Hi…</td><td>&quot;Mississippi Hi…</td><td>&quot;Mississippi Hi…</td><td>&quot;Mississippi Hi…</td></tr><tr><td>&quot;female&quot;</td><td>&quot;male&quot;</td><td>&quot;male&quot;</td><td>&quot;female&quot;</td><td>&quot;male&quot;</td></tr><tr><td>&quot;1985-02-08&quot;</td><td>&quot;1972-05-02&quot;</td><td>&quot;1981-01-08&quot;</td><td>&quot;1994-05-23&quot;</td><td>&quot;1993-04-26&quot;</td></tr><tr><td>&quot;Black&quot;</td><td>&quot;Black&quot;</td><td>&quot;Black&quot;</td><td>&quot;White&quot;</td><td>&quot;Black&quot;</td></tr><tr><td>&quot;C056&quot;</td><td>&quot;D025&quot;</td><td>&quot;B033&quot;</td><td>&quot;J042&quot;</td><td>&quot;H018&quot;</td></tr><tr><td>&quot;31&quot;</td><td>&quot;43&quot;</td><td>&quot;34&quot;</td><td>&quot;20&quot;</td><td>&quot;22&quot;</td></tr><tr><td>&quot;Seat belt&quot;</td><td>&quot;Speeding&quot;</td><td>&quot;Speeding&quot;</td><td>&quot;Speeding&quot;</td><td>&quot;License-Permit…</td></tr></tbody></table></div>"
      ],
      "text/plain": [
       "shape: (11, 5)\n",
       "┌───────────────┬───────────────┬───────────────┬───────────────┬──────────────────────────┐\n",
       "│ column_0      ┆ column_1      ┆ column_2      ┆ column_3      ┆ column_4                 │\n",
       "│ ---           ┆ ---           ┆ ---           ┆ ---           ┆ ---                      │\n",
       "│ str           ┆ str           ┆ str           ┆ str           ┆ str                      │\n",
       "╞═══════════════╪═══════════════╪═══════════════╪═══════════════╪══════════════════════════╡\n",
       "│ MS-2015-41113 ┆ MS-2015-32025 ┆ MS-2015-08128 ┆ MS-2014-17788 ┆ MS-2015-14894            │\n",
       "│ 2015-09-05    ┆ 2015-07-29    ┆ 2015-03-07    ┆ 2014-04-09    ┆ 2015-04-22               │\n",
       "│ Hinds         ┆ Bolivar       ┆ Humphreys     ┆ Perry         ┆ Jasper                   │\n",
       "│ 28049         ┆ 28011         ┆ 28053         ┆ 28111         ┆ 28061                    │\n",
       "│ …             ┆ …             ┆ …             ┆ …             ┆ …                        │\n",
       "│ Black         ┆ Black         ┆ Black         ┆ White         ┆ Black                    │\n",
       "│ C056          ┆ D025          ┆ B033          ┆ J042          ┆ H018                     │\n",
       "│ 31            ┆ 43            ┆ 34            ┆ 20            ┆ 22                       │\n",
       "│ Seat belt     ┆ Speeding      ┆ Speeding      ┆ Speeding      ┆ License-Permit-Insurance │\n",
       "└───────────────┴───────────────┴───────────────┴───────────────┴──────────────────────────┘"
      ]
     },
     "execution_count": 26,
     "metadata": {},
     "output_type": "execute_result"
    }
   ],
   "source": [
    "df.sample(5).transpose()"
   ]
  },
  {
   "cell_type": "code",
   "execution_count": 27,
   "metadata": {},
   "outputs": [
    {
     "data": {
      "text/plain": [
       "[String,\n",
       " Date,\n",
       " String,\n",
       " String,\n",
       " String,\n",
       " String,\n",
       " Date,\n",
       " String,\n",
       " String,\n",
       " Int64,\n",
       " String]"
      ]
     },
     "execution_count": 27,
     "metadata": {},
     "output_type": "execute_result"
    }
   ],
   "source": [
    "df.dtypes"
   ]
  },
  {
   "cell_type": "code",
   "execution_count": 90,
   "metadata": {},
   "outputs": [
    {
     "data": {
      "text/html": [
       "<div><style>\n",
       ".dataframe > thead > tr,\n",
       ".dataframe > tbody > tr {\n",
       "  text-align: right;\n",
       "  white-space: pre-wrap;\n",
       "}\n",
       "</style>\n",
       "<small>shape: (9, 12)</small><table border=\"1\" class=\"dataframe\"><thead><tr><th>describe</th><th>id</th><th>stop_date</th><th>county_name</th><th>county_fips</th><th>police_department</th><th>driver_gender</th><th>driver_birthdate</th><th>driver_race</th><th>officer_id</th><th>driver_age</th><th>violation</th></tr><tr><td>str</td><td>str</td><td>str</td><td>str</td><td>str</td><td>str</td><td>str</td><td>str</td><td>str</td><td>str</td><td>f64</td><td>str</td></tr></thead><tbody><tr><td>&quot;count&quot;</td><td>&quot;211211&quot;</td><td>&quot;211211&quot;</td><td>&quot;211211&quot;</td><td>&quot;211211&quot;</td><td>&quot;211211&quot;</td><td>&quot;211183&quot;</td><td>&quot;211102&quot;</td><td>&quot;211183&quot;</td><td>&quot;211205&quot;</td><td>211102.0</td><td>&quot;211211&quot;</td></tr><tr><td>&quot;null_count&quot;</td><td>&quot;0&quot;</td><td>&quot;0&quot;</td><td>&quot;0&quot;</td><td>&quot;0&quot;</td><td>&quot;0&quot;</td><td>&quot;28&quot;</td><td>&quot;109&quot;</td><td>&quot;28&quot;</td><td>&quot;6&quot;</td><td>109.0</td><td>&quot;0&quot;</td></tr><tr><td>&quot;mean&quot;</td><td>null</td><td>null</td><td>null</td><td>null</td><td>null</td><td>null</td><td>null</td><td>null</td><td>null</td><td>35.295516</td><td>null</td></tr><tr><td>&quot;std&quot;</td><td>null</td><td>null</td><td>null</td><td>null</td><td>null</td><td>null</td><td>null</td><td>null</td><td>null</td><td>13.580219</td><td>null</td></tr><tr><td>&quot;min&quot;</td><td>&quot;MS-2013-00001&quot;</td><td>&quot;2013-01-01&quot;</td><td>&quot;Adams&quot;</td><td>&quot;28001&quot;</td><td>&quot;Mississippi Hi…</td><td>&quot;female&quot;</td><td>&quot;1930-01-11&quot;</td><td>&quot;Black&quot;</td><td>&quot;A003&quot;</td><td>7.0</td><td>&quot;Breaks-Lights-…</td></tr><tr><td>&quot;25%&quot;</td><td>null</td><td>null</td><td>null</td><td>null</td><td>null</td><td>null</td><td>null</td><td>null</td><td>null</td><td>24.0</td><td>null</td></tr><tr><td>&quot;50%&quot;</td><td>null</td><td>null</td><td>null</td><td>null</td><td>null</td><td>null</td><td>null</td><td>null</td><td>null</td><td>32.0</td><td>null</td></tr><tr><td>&quot;75%&quot;</td><td>null</td><td>null</td><td>null</td><td>null</td><td>null</td><td>null</td><td>null</td><td>null</td><td>null</td><td>44.0</td><td>null</td></tr><tr><td>&quot;max&quot;</td><td>&quot;MS-2016-24297&quot;</td><td>&quot;2016-07-14&quot;</td><td>&quot;Yazoo&quot;</td><td>&quot;28163&quot;</td><td>&quot;Mississippi Hi…</td><td>&quot;male&quot;</td><td>&quot;2007-10-21&quot;</td><td>&quot;White&quot;</td><td>&quot;W300&quot;</td><td>86.0</td><td>&quot;Speeding&quot;</td></tr></tbody></table></div>"
      ],
      "text/plain": [
       "shape: (9, 12)\n",
       "┌───────────┬───────────┬───────────┬───────────┬───┬───────────┬───────────┬───────────┬──────────┐\n",
       "│ describe  ┆ id        ┆ stop_date ┆ county_na ┆ … ┆ driver_ra ┆ officer_i ┆ driver_ag ┆ violatio │\n",
       "│ ---       ┆ ---       ┆ ---       ┆ me        ┆   ┆ ce        ┆ d         ┆ e         ┆ n        │\n",
       "│ str       ┆ str       ┆ str       ┆ ---       ┆   ┆ ---       ┆ ---       ┆ ---       ┆ ---      │\n",
       "│           ┆           ┆           ┆ str       ┆   ┆ str       ┆ str       ┆ f64       ┆ str      │\n",
       "╞═══════════╪═══════════╪═══════════╪═══════════╪═══╪═══════════╪═══════════╪═══════════╪══════════╡\n",
       "│ count     ┆ 211211    ┆ 211211    ┆ 211211    ┆ … ┆ 211183    ┆ 211205    ┆ 211102.0  ┆ 211211   │\n",
       "│ null_coun ┆ 0         ┆ 0         ┆ 0         ┆ … ┆ 28        ┆ 6         ┆ 109.0     ┆ 0        │\n",
       "│ t         ┆           ┆           ┆           ┆   ┆           ┆           ┆           ┆          │\n",
       "│ mean      ┆ null      ┆ null      ┆ null      ┆ … ┆ null      ┆ null      ┆ 35.295516 ┆ null     │\n",
       "│ std       ┆ null      ┆ null      ┆ null      ┆ … ┆ null      ┆ null      ┆ 13.580219 ┆ null     │\n",
       "│ min       ┆ MS-2013-0 ┆ 2013-01-0 ┆ Adams     ┆ … ┆ Black     ┆ A003      ┆ 7.0       ┆ Breaks-L │\n",
       "│           ┆ 0001      ┆ 1         ┆           ┆   ┆           ┆           ┆           ┆ ights-et │\n",
       "│           ┆           ┆           ┆           ┆   ┆           ┆           ┆           ┆ c        │\n",
       "│ 25%       ┆ null      ┆ null      ┆ null      ┆ … ┆ null      ┆ null      ┆ 24.0      ┆ null     │\n",
       "│ 50%       ┆ null      ┆ null      ┆ null      ┆ … ┆ null      ┆ null      ┆ 32.0      ┆ null     │\n",
       "│ 75%       ┆ null      ┆ null      ┆ null      ┆ … ┆ null      ┆ null      ┆ 44.0      ┆ null     │\n",
       "│ max       ┆ MS-2016-2 ┆ 2016-07-1 ┆ Yazoo     ┆ … ┆ White     ┆ W300      ┆ 86.0      ┆ Speeding │\n",
       "│           ┆ 4297      ┆ 4         ┆           ┆   ┆           ┆           ┆           ┆          │\n",
       "└───────────┴───────────┴───────────┴───────────┴───┴───────────┴───────────┴───────────┴──────────┘"
      ]
     },
     "execution_count": 90,
     "metadata": {},
     "output_type": "execute_result"
    }
   ],
   "source": [
    "df.describe()"
   ]
  },
  {
   "cell_type": "code",
   "execution_count": null,
   "metadata": {},
   "outputs": [],
   "source": []
  },
  {
   "cell_type": "code",
   "execution_count": 3,
   "metadata": {},
   "outputs": [
    {
     "data": {
      "text/html": [
       "<div><style>\n",
       ".dataframe > thead > tr,\n",
       ".dataframe > tbody > tr {\n",
       "  text-align: right;\n",
       "  white-space: pre-wrap;\n",
       "}\n",
       "</style>\n",
       "<small>shape: (9, 12)</small><table border=\"1\" class=\"dataframe\"><thead><tr><th>describe</th><th>id</th><th>stop_date</th><th>county_name</th><th>county_fips</th><th>police_department</th><th>driver_gender</th><th>driver_birthdate</th><th>driver_race</th><th>officer_id</th><th>driver_age</th><th>violation</th></tr><tr><td>str</td><td>str</td><td>str</td><td>str</td><td>str</td><td>str</td><td>str</td><td>str</td><td>str</td><td>str</td><td>f64</td><td>str</td></tr></thead><tbody><tr><td>&quot;count&quot;</td><td>&quot;211211&quot;</td><td>&quot;211211&quot;</td><td>&quot;211211&quot;</td><td>&quot;211211&quot;</td><td>&quot;211211&quot;</td><td>&quot;211183&quot;</td><td>&quot;211102&quot;</td><td>&quot;211183&quot;</td><td>&quot;211205&quot;</td><td>211102.0</td><td>&quot;211211&quot;</td></tr><tr><td>&quot;null_count&quot;</td><td>&quot;0&quot;</td><td>&quot;0&quot;</td><td>&quot;0&quot;</td><td>&quot;0&quot;</td><td>&quot;0&quot;</td><td>&quot;28&quot;</td><td>&quot;109&quot;</td><td>&quot;28&quot;</td><td>&quot;6&quot;</td><td>109.0</td><td>&quot;0&quot;</td></tr><tr><td>&quot;mean&quot;</td><td>null</td><td>null</td><td>null</td><td>null</td><td>null</td><td>null</td><td>null</td><td>null</td><td>null</td><td>35.295516</td><td>null</td></tr><tr><td>&quot;std&quot;</td><td>null</td><td>null</td><td>null</td><td>null</td><td>null</td><td>null</td><td>null</td><td>null</td><td>null</td><td>13.580219</td><td>null</td></tr><tr><td>&quot;min&quot;</td><td>&quot;MS-2013-00001&quot;</td><td>&quot;2013-01-01&quot;</td><td>&quot;Adams&quot;</td><td>&quot;28001&quot;</td><td>&quot;Mississippi Hi…</td><td>&quot;female&quot;</td><td>&quot;1930-01-11&quot;</td><td>&quot;Black&quot;</td><td>&quot;A003&quot;</td><td>7.0</td><td>&quot;Breaks-Lights-…</td></tr><tr><td>&quot;25%&quot;</td><td>null</td><td>null</td><td>null</td><td>null</td><td>null</td><td>null</td><td>null</td><td>null</td><td>null</td><td>24.0</td><td>null</td></tr><tr><td>&quot;50%&quot;</td><td>null</td><td>null</td><td>null</td><td>null</td><td>null</td><td>null</td><td>null</td><td>null</td><td>null</td><td>32.0</td><td>null</td></tr><tr><td>&quot;75%&quot;</td><td>null</td><td>null</td><td>null</td><td>null</td><td>null</td><td>null</td><td>null</td><td>null</td><td>null</td><td>44.0</td><td>null</td></tr><tr><td>&quot;max&quot;</td><td>&quot;MS-2016-24297&quot;</td><td>&quot;2016-07-14&quot;</td><td>&quot;Yazoo&quot;</td><td>&quot;28163&quot;</td><td>&quot;Mississippi Hi…</td><td>&quot;male&quot;</td><td>&quot;2007-10-21&quot;</td><td>&quot;White&quot;</td><td>&quot;W300&quot;</td><td>86.0</td><td>&quot;Speeding&quot;</td></tr></tbody></table></div>"
      ],
      "text/plain": [
       "shape: (9, 12)\n",
       "┌───────────┬───────────┬───────────┬───────────┬───┬───────────┬───────────┬───────────┬──────────┐\n",
       "│ describe  ┆ id        ┆ stop_date ┆ county_na ┆ … ┆ driver_ra ┆ officer_i ┆ driver_ag ┆ violatio │\n",
       "│ ---       ┆ ---       ┆ ---       ┆ me        ┆   ┆ ce        ┆ d         ┆ e         ┆ n        │\n",
       "│ str       ┆ str       ┆ str       ┆ ---       ┆   ┆ ---       ┆ ---       ┆ ---       ┆ ---      │\n",
       "│           ┆           ┆           ┆ str       ┆   ┆ str       ┆ str       ┆ f64       ┆ str      │\n",
       "╞═══════════╪═══════════╪═══════════╪═══════════╪═══╪═══════════╪═══════════╪═══════════╪══════════╡\n",
       "│ count     ┆ 211211    ┆ 211211    ┆ 211211    ┆ … ┆ 211183    ┆ 211205    ┆ 211102.0  ┆ 211211   │\n",
       "│ null_coun ┆ 0         ┆ 0         ┆ 0         ┆ … ┆ 28        ┆ 6         ┆ 109.0     ┆ 0        │\n",
       "│ t         ┆           ┆           ┆           ┆   ┆           ┆           ┆           ┆          │\n",
       "│ mean      ┆ null      ┆ null      ┆ null      ┆ … ┆ null      ┆ null      ┆ 35.295516 ┆ null     │\n",
       "│ std       ┆ null      ┆ null      ┆ null      ┆ … ┆ null      ┆ null      ┆ 13.580219 ┆ null     │\n",
       "│ min       ┆ MS-2013-0 ┆ 2013-01-0 ┆ Adams     ┆ … ┆ Black     ┆ A003      ┆ 7.0       ┆ Breaks-L │\n",
       "│           ┆ 0001      ┆ 1         ┆           ┆   ┆           ┆           ┆           ┆ ights-et │\n",
       "│           ┆           ┆           ┆           ┆   ┆           ┆           ┆           ┆ c        │\n",
       "│ 25%       ┆ null      ┆ null      ┆ null      ┆ … ┆ null      ┆ null      ┆ 24.0      ┆ null     │\n",
       "│ 50%       ┆ null      ┆ null      ┆ null      ┆ … ┆ null      ┆ null      ┆ 32.0      ┆ null     │\n",
       "│ 75%       ┆ null      ┆ null      ┆ null      ┆ … ┆ null      ┆ null      ┆ 44.0      ┆ null     │\n",
       "│ max       ┆ MS-2016-2 ┆ 2016-07-1 ┆ Yazoo     ┆ … ┆ White     ┆ W300      ┆ 86.0      ┆ Speeding │\n",
       "│           ┆ 4297      ┆ 4         ┆           ┆   ┆           ┆           ┆           ┆          │\n",
       "└───────────┴───────────┴───────────┴───────────┴───┴───────────┴───────────┴───────────┴──────────┘"
      ]
     },
     "execution_count": 3,
     "metadata": {},
     "output_type": "execute_result"
    }
   ],
   "source": [
    "df.select(pl.all().drop_nans()).describe()"
   ]
  },
  {
   "cell_type": "markdown",
   "metadata": {},
   "source": [
    "### Selecting columns"
   ]
  },
  {
   "cell_type": "code",
   "execution_count": 35,
   "metadata": {},
   "outputs": [
    {
     "data": {
      "text/html": [
       "<div><style>\n",
       ".dataframe > thead > tr,\n",
       ".dataframe > tbody > tr {\n",
       "  text-align: right;\n",
       "  white-space: pre-wrap;\n",
       "}\n",
       "</style>\n",
       "<small>shape: (9, 2)</small><table border=\"1\" class=\"dataframe\"><thead><tr><th>describe</th><th>driver_age</th></tr><tr><td>str</td><td>f64</td></tr></thead><tbody><tr><td>&quot;count&quot;</td><td>211102.0</td></tr><tr><td>&quot;null_count&quot;</td><td>109.0</td></tr><tr><td>&quot;mean&quot;</td><td>35.295516</td></tr><tr><td>&quot;std&quot;</td><td>13.580219</td></tr><tr><td>&quot;min&quot;</td><td>7.0</td></tr><tr><td>&quot;25%&quot;</td><td>24.0</td></tr><tr><td>&quot;50%&quot;</td><td>32.0</td></tr><tr><td>&quot;75%&quot;</td><td>44.0</td></tr><tr><td>&quot;max&quot;</td><td>86.0</td></tr></tbody></table></div>"
      ],
      "text/plain": [
       "shape: (9, 2)\n",
       "┌────────────┬────────────┐\n",
       "│ describe   ┆ driver_age │\n",
       "│ ---        ┆ ---        │\n",
       "│ str        ┆ f64        │\n",
       "╞════════════╪════════════╡\n",
       "│ count      ┆ 211102.0   │\n",
       "│ null_count ┆ 109.0      │\n",
       "│ mean       ┆ 35.295516  │\n",
       "│ std        ┆ 13.580219  │\n",
       "│ min        ┆ 7.0        │\n",
       "│ 25%        ┆ 24.0       │\n",
       "│ 50%        ┆ 32.0       │\n",
       "│ 75%        ┆ 44.0       │\n",
       "│ max        ┆ 86.0       │\n",
       "└────────────┴────────────┘"
      ]
     },
     "execution_count": 35,
     "metadata": {},
     "output_type": "execute_result"
    }
   ],
   "source": [
    "df.select(pl.col(pl.Int64)).describe()"
   ]
  },
  {
   "cell_type": "code",
   "execution_count": 40,
   "metadata": {},
   "outputs": [
    {
     "data": {
      "text/html": [
       "<div><style>\n",
       ".dataframe > thead > tr,\n",
       ".dataframe > tbody > tr {\n",
       "  text-align: right;\n",
       "  white-space: pre-wrap;\n",
       "}\n",
       "</style>\n",
       "<small>shape: (3, 5)</small><table border=\"1\" class=\"dataframe\"><thead><tr><th>id</th><th>stop_date</th><th>driver_birthdate</th><th>driver_race</th><th>driver_age</th></tr><tr><td>str</td><td>date</td><td>date</td><td>str</td><td>i64</td></tr></thead><tbody><tr><td>&quot;MS-2013-00001&quot;</td><td>2013-01-01</td><td>1950-06-14</td><td>&quot;Black&quot;</td><td>63</td></tr><tr><td>&quot;MS-2013-00002&quot;</td><td>2013-01-01</td><td>1967-04-06</td><td>&quot;Black&quot;</td><td>46</td></tr><tr><td>&quot;MS-2013-00003&quot;</td><td>2013-01-01</td><td>1974-04-15</td><td>&quot;Black&quot;</td><td>39</td></tr></tbody></table></div>"
      ],
      "text/plain": [
       "shape: (3, 5)\n",
       "┌───────────────┬────────────┬──────────────────┬─────────────┬────────────┐\n",
       "│ id            ┆ stop_date  ┆ driver_birthdate ┆ driver_race ┆ driver_age │\n",
       "│ ---           ┆ ---        ┆ ---              ┆ ---         ┆ ---        │\n",
       "│ str           ┆ date       ┆ date             ┆ str         ┆ i64        │\n",
       "╞═══════════════╪════════════╪══════════════════╪═════════════╪════════════╡\n",
       "│ MS-2013-00001 ┆ 2013-01-01 ┆ 1950-06-14       ┆ Black       ┆ 63         │\n",
       "│ MS-2013-00002 ┆ 2013-01-01 ┆ 1967-04-06       ┆ Black       ┆ 46         │\n",
       "│ MS-2013-00003 ┆ 2013-01-01 ┆ 1974-04-15       ┆ Black       ┆ 39         │\n",
       "└───────────────┴────────────┴──────────────────┴─────────────┴────────────┘"
      ]
     },
     "execution_count": 40,
     "metadata": {},
     "output_type": "execute_result"
    }
   ],
   "source": [
    "df.select('id', pl.col(pl.Date), 'driver_race', 'driver_age').head(3)"
   ]
  },
  {
   "cell_type": "code",
   "execution_count": 43,
   "metadata": {},
   "outputs": [
    {
     "data": {
      "text/html": [
       "<div><style>\n",
       ".dataframe > thead > tr,\n",
       ".dataframe > tbody > tr {\n",
       "  text-align: right;\n",
       "  white-space: pre-wrap;\n",
       "}\n",
       "</style>\n",
       "<small>shape: (3, 2)</small><table border=\"1\" class=\"dataframe\"><thead><tr><th>stop_date</th><th>driver_birthdate</th></tr><tr><td>date</td><td>date</td></tr></thead><tbody><tr><td>2013-01-01</td><td>1950-06-14</td></tr><tr><td>2013-01-01</td><td>1967-04-06</td></tr><tr><td>2013-01-01</td><td>1974-04-15</td></tr></tbody></table></div>"
      ],
      "text/plain": [
       "shape: (3, 2)\n",
       "┌────────────┬──────────────────┐\n",
       "│ stop_date  ┆ driver_birthdate │\n",
       "│ ---        ┆ ---              │\n",
       "│ date       ┆ date             │\n",
       "╞════════════╪══════════════════╡\n",
       "│ 2013-01-01 ┆ 1950-06-14       │\n",
       "│ 2013-01-01 ┆ 1967-04-06       │\n",
       "│ 2013-01-01 ┆ 1974-04-15       │\n",
       "└────────────┴──────────────────┘"
      ]
     },
     "execution_count": 43,
     "metadata": {},
     "output_type": "execute_result"
    }
   ],
   "source": [
    "df.select(pl.selectors.date()).head(3)"
   ]
  },
  {
   "cell_type": "code",
   "execution_count": 58,
   "metadata": {},
   "outputs": [
    {
     "data": {
      "text/html": [
       "<div><style>\n",
       ".dataframe > thead > tr,\n",
       ".dataframe > tbody > tr {\n",
       "  text-align: right;\n",
       "  white-space: pre-wrap;\n",
       "}\n",
       "</style>\n",
       "<small>shape: (3, 4)</small><table border=\"1\" class=\"dataframe\"><thead><tr><th>stop_date</th><th>driver_birthdate</th><th>driver_age</th><th>driver_race</th></tr><tr><td>date</td><td>date</td><td>i64</td><td>str</td></tr></thead><tbody><tr><td>2013-01-01</td><td>1950-06-14</td><td>63</td><td>&quot;Black&quot;</td></tr><tr><td>2013-01-01</td><td>1967-04-06</td><td>46</td><td>&quot;Black&quot;</td></tr><tr><td>2013-01-01</td><td>1974-04-15</td><td>39</td><td>&quot;Black&quot;</td></tr></tbody></table></div>"
      ],
      "text/plain": [
       "shape: (3, 4)\n",
       "┌────────────┬──────────────────┬────────────┬─────────────┐\n",
       "│ stop_date  ┆ driver_birthdate ┆ driver_age ┆ driver_race │\n",
       "│ ---        ┆ ---              ┆ ---        ┆ ---         │\n",
       "│ date       ┆ date             ┆ i64        ┆ str         │\n",
       "╞════════════╪══════════════════╪════════════╪═════════════╡\n",
       "│ 2013-01-01 ┆ 1950-06-14       ┆ 63         ┆ Black       │\n",
       "│ 2013-01-01 ┆ 1967-04-06       ┆ 46         ┆ Black       │\n",
       "│ 2013-01-01 ┆ 1974-04-15       ┆ 39         ┆ Black       │\n",
       "└────────────┴──────────────────┴────────────┴─────────────┘"
      ]
     },
     "execution_count": 58,
     "metadata": {},
     "output_type": "execute_result"
    }
   ],
   "source": [
    "df.select(pl.selectors.matches('date'), (pl.selectors.contains('age') | pl.selectors.contains('race'))).head(3)"
   ]
  },
  {
   "cell_type": "code",
   "execution_count": 60,
   "metadata": {},
   "outputs": [
    {
     "data": {
      "text/html": [
       "<div><style>\n",
       ".dataframe > thead > tr,\n",
       ".dataframe > tbody > tr {\n",
       "  text-align: right;\n",
       "  white-space: pre-wrap;\n",
       "}\n",
       "</style>\n",
       "<small>shape: (3, 4)</small><table border=\"1\" class=\"dataframe\"><thead><tr><th>driver_gender</th><th>driver_birthdate</th><th>driver_race</th><th>driver_age</th></tr><tr><td>str</td><td>date</td><td>str</td><td>i64</td></tr></thead><tbody><tr><td>&quot;male&quot;</td><td>1950-06-14</td><td>&quot;Black&quot;</td><td>63</td></tr><tr><td>&quot;male&quot;</td><td>1967-04-06</td><td>&quot;Black&quot;</td><td>46</td></tr><tr><td>&quot;male&quot;</td><td>1974-04-15</td><td>&quot;Black&quot;</td><td>39</td></tr></tbody></table></div>"
      ],
      "text/plain": [
       "shape: (3, 4)\n",
       "┌───────────────┬──────────────────┬─────────────┬────────────┐\n",
       "│ driver_gender ┆ driver_birthdate ┆ driver_race ┆ driver_age │\n",
       "│ ---           ┆ ---              ┆ ---         ┆ ---        │\n",
       "│ str           ┆ date             ┆ str         ┆ i64        │\n",
       "╞═══════════════╪══════════════════╪═════════════╪════════════╡\n",
       "│ male          ┆ 1950-06-14       ┆ Black       ┆ 63         │\n",
       "│ male          ┆ 1967-04-06       ┆ Black       ┆ 46         │\n",
       "│ male          ┆ 1974-04-15       ┆ Black       ┆ 39         │\n",
       "└───────────────┴──────────────────┴─────────────┴────────────┘"
      ]
     },
     "execution_count": 60,
     "metadata": {},
     "output_type": "execute_result"
    }
   ],
   "source": [
    "df.select(pl.selectors.starts_with('driver')).head(3)"
   ]
  },
  {
   "cell_type": "markdown",
   "metadata": {},
   "source": [
    "### Converting Dtypes"
   ]
  },
  {
   "cell_type": "code",
   "execution_count": 4,
   "metadata": {},
   "outputs": [
    {
     "data": {
      "text/html": [
       "<div><style>\n",
       ".dataframe > thead > tr,\n",
       ".dataframe > tbody > tr {\n",
       "  text-align: right;\n",
       "  white-space: pre-wrap;\n",
       "}\n",
       "</style>\n",
       "<small>shape: (2, 6)</small><table border=\"1\" class=\"dataframe\"><thead><tr><th>driver_gender</th><th>driver_birthdate</th><th>driver_race</th><th>driver_age</th><th>county_fips</th><th>police_department</th></tr><tr><td>str</td><td>date</td><td>str</td><td>i64</td><td>str</td><td>str</td></tr></thead><tbody><tr><td>&quot;male&quot;</td><td>1950-06-14</td><td>&quot;Black&quot;</td><td>63</td><td>&quot;28067&quot;</td><td>&quot;Mississippi Hi…</td></tr><tr><td>&quot;male&quot;</td><td>1967-04-06</td><td>&quot;Black&quot;</td><td>46</td><td>&quot;28075&quot;</td><td>&quot;Mississippi Hi…</td></tr></tbody></table></div>"
      ],
      "text/plain": [
       "shape: (2, 6)\n",
       "┌───────────────┬──────────────────┬─────────────┬────────────┬─────────────┬──────────────────────┐\n",
       "│ driver_gender ┆ driver_birthdate ┆ driver_race ┆ driver_age ┆ county_fips ┆ police_department    │\n",
       "│ ---           ┆ ---              ┆ ---         ┆ ---        ┆ ---         ┆ ---                  │\n",
       "│ str           ┆ date             ┆ str         ┆ i64        ┆ str         ┆ str                  │\n",
       "╞═══════════════╪══════════════════╪═════════════╪════════════╪═════════════╪══════════════════════╡\n",
       "│ male          ┆ 1950-06-14       ┆ Black       ┆ 63         ┆ 28067       ┆ Mississippi Highway  │\n",
       "│               ┆                  ┆             ┆            ┆             ┆ Patrol               │\n",
       "│ male          ┆ 1967-04-06       ┆ Black       ┆ 46         ┆ 28075       ┆ Mississippi Highway  │\n",
       "│               ┆                  ┆             ┆            ┆             ┆ Patrol               │\n",
       "└───────────────┴──────────────────┴─────────────┴────────────┴─────────────┴──────────────────────┘"
      ]
     },
     "execution_count": 4,
     "metadata": {},
     "output_type": "execute_result"
    }
   ],
   "source": [
    "drivers_df = df.select(pl.selectors.starts_with('driver'), 'county_fips', 'police_department')\n",
    "drivers_df.head(2)"
   ]
  },
  {
   "cell_type": "code",
   "execution_count": 64,
   "metadata": {},
   "outputs": [
    {
     "data": {
      "text/html": [
       "<div><style>\n",
       ".dataframe > thead > tr,\n",
       ".dataframe > tbody > tr {\n",
       "  text-align: right;\n",
       "  white-space: pre-wrap;\n",
       "}\n",
       "</style>\n",
       "<small>shape: (3, 1)</small><table border=\"1\" class=\"dataframe\"><thead><tr><th>driver_age</th></tr><tr><td>f64</td></tr></thead><tbody><tr><td>63.0</td></tr><tr><td>46.0</td></tr><tr><td>39.0</td></tr></tbody></table></div>"
      ],
      "text/plain": [
       "shape: (3, 1)\n",
       "┌────────────┐\n",
       "│ driver_age │\n",
       "│ ---        │\n",
       "│ f64        │\n",
       "╞════════════╡\n",
       "│ 63.0       │\n",
       "│ 46.0       │\n",
       "│ 39.0       │\n",
       "└────────────┘"
      ]
     },
     "execution_count": 64,
     "metadata": {},
     "output_type": "execute_result"
    }
   ],
   "source": [
    "drivers_df.select(pl.col('driver_age').cast(pl.Float64)).head(3)"
   ]
  },
  {
   "cell_type": "code",
   "execution_count": 71,
   "metadata": {},
   "outputs": [
    {
     "data": {
      "text/html": [
       "<div><style>\n",
       ".dataframe > thead > tr,\n",
       ".dataframe > tbody > tr {\n",
       "  text-align: right;\n",
       "  white-space: pre-wrap;\n",
       "}\n",
       "</style>\n",
       "<small>shape: (3, 5)</small><table border=\"1\" class=\"dataframe\"><thead><tr><th>driver_gender</th><th>driver_birthdate</th><th>driver_race</th><th>driver_age</th><th>county_fips</th></tr><tr><td>str</td><td>date</td><td>str</td><td>i64</td><td>i64</td></tr></thead><tbody><tr><td>&quot;male&quot;</td><td>1950-06-14</td><td>&quot;Black&quot;</td><td>63</td><td>28067</td></tr><tr><td>&quot;male&quot;</td><td>1967-04-06</td><td>&quot;Black&quot;</td><td>46</td><td>28075</td></tr><tr><td>&quot;male&quot;</td><td>1974-04-15</td><td>&quot;Black&quot;</td><td>39</td><td>28113</td></tr></tbody></table></div>"
      ],
      "text/plain": [
       "shape: (3, 5)\n",
       "┌───────────────┬──────────────────┬─────────────┬────────────┬─────────────┐\n",
       "│ driver_gender ┆ driver_birthdate ┆ driver_race ┆ driver_age ┆ county_fips │\n",
       "│ ---           ┆ ---              ┆ ---         ┆ ---        ┆ ---         │\n",
       "│ str           ┆ date             ┆ str         ┆ i64        ┆ i64         │\n",
       "╞═══════════════╪══════════════════╪═════════════╪════════════╪═════════════╡\n",
       "│ male          ┆ 1950-06-14       ┆ Black       ┆ 63         ┆ 28067       │\n",
       "│ male          ┆ 1967-04-06       ┆ Black       ┆ 46         ┆ 28075       │\n",
       "│ male          ┆ 1974-04-15       ┆ Black       ┆ 39         ┆ 28113       │\n",
       "└───────────────┴──────────────────┴─────────────┴────────────┴─────────────┘"
      ]
     },
     "execution_count": 71,
     "metadata": {},
     "output_type": "execute_result"
    }
   ],
   "source": [
    "(drivers_df\n",
    "    .with_columns(pl.col('county_fips')\n",
    "    .cast(pl.Int64)\n",
    "    )\n",
    ".head(3)\n",
    ")"
   ]
  },
  {
   "cell_type": "code",
   "execution_count": 73,
   "metadata": {},
   "outputs": [
    {
     "data": {
      "text/html": [
       "<div><style>\n",
       ".dataframe > thead > tr,\n",
       ".dataframe > tbody > tr {\n",
       "  text-align: right;\n",
       "  white-space: pre-wrap;\n",
       "}\n",
       "</style>\n",
       "<small>shape: (3, 5)</small><table border=\"1\" class=\"dataframe\"><thead><tr><th>driver_gender</th><th>driver_birthdate</th><th>driver_race</th><th>driver_age</th><th>county_fips</th></tr><tr><td>str</td><td>date</td><td>str</td><td>f64</td><td>f64</td></tr></thead><tbody><tr><td>&quot;male&quot;</td><td>1950-06-14</td><td>&quot;Black&quot;</td><td>63.0</td><td>28067.0</td></tr><tr><td>&quot;male&quot;</td><td>1967-04-06</td><td>&quot;Black&quot;</td><td>46.0</td><td>28075.0</td></tr><tr><td>&quot;male&quot;</td><td>1974-04-15</td><td>&quot;Black&quot;</td><td>39.0</td><td>28113.0</td></tr></tbody></table></div>"
      ],
      "text/plain": [
       "shape: (3, 5)\n",
       "┌───────────────┬──────────────────┬─────────────┬────────────┬─────────────┐\n",
       "│ driver_gender ┆ driver_birthdate ┆ driver_race ┆ driver_age ┆ county_fips │\n",
       "│ ---           ┆ ---              ┆ ---         ┆ ---        ┆ ---         │\n",
       "│ str           ┆ date             ┆ str         ┆ f64        ┆ f64         │\n",
       "╞═══════════════╪══════════════════╪═════════════╪════════════╪═════════════╡\n",
       "│ male          ┆ 1950-06-14       ┆ Black       ┆ 63.0       ┆ 28067.0     │\n",
       "│ male          ┆ 1967-04-06       ┆ Black       ┆ 46.0       ┆ 28075.0     │\n",
       "│ male          ┆ 1974-04-15       ┆ Black       ┆ 39.0       ┆ 28113.0     │\n",
       "└───────────────┴──────────────────┴─────────────┴────────────┴─────────────┘"
      ]
     },
     "execution_count": 73,
     "metadata": {},
     "output_type": "execute_result"
    }
   ],
   "source": [
    "(drivers_df\n",
    "    .with_columns(pl.col(['county_fips', 'driver_age'])\n",
    "    .cast(pl.Float64)\n",
    "    )\n",
    ".head(3)\n",
    ")"
   ]
  },
  {
   "cell_type": "code",
   "execution_count": 74,
   "metadata": {},
   "outputs": [
    {
     "data": {
      "text/html": [
       "<div><style>\n",
       ".dataframe > thead > tr,\n",
       ".dataframe > tbody > tr {\n",
       "  text-align: right;\n",
       "  white-space: pre-wrap;\n",
       "}\n",
       "</style>\n",
       "<small>shape: (3, 5)</small><table border=\"1\" class=\"dataframe\"><thead><tr><th>driver_gender</th><th>driver_birthdate</th><th>driver_race</th><th>driver_age</th><th>county_fips</th></tr><tr><td>str</td><td>date</td><td>str</td><td>f64</td><td>i64</td></tr></thead><tbody><tr><td>&quot;male&quot;</td><td>1950-06-14</td><td>&quot;Black&quot;</td><td>63.0</td><td>28067</td></tr><tr><td>&quot;male&quot;</td><td>1967-04-06</td><td>&quot;Black&quot;</td><td>46.0</td><td>28075</td></tr><tr><td>&quot;male&quot;</td><td>1974-04-15</td><td>&quot;Black&quot;</td><td>39.0</td><td>28113</td></tr></tbody></table></div>"
      ],
      "text/plain": [
       "shape: (3, 5)\n",
       "┌───────────────┬──────────────────┬─────────────┬────────────┬─────────────┐\n",
       "│ driver_gender ┆ driver_birthdate ┆ driver_race ┆ driver_age ┆ county_fips │\n",
       "│ ---           ┆ ---              ┆ ---         ┆ ---        ┆ ---         │\n",
       "│ str           ┆ date             ┆ str         ┆ f64        ┆ i64         │\n",
       "╞═══════════════╪══════════════════╪═════════════╪════════════╪═════════════╡\n",
       "│ male          ┆ 1950-06-14       ┆ Black       ┆ 63.0       ┆ 28067       │\n",
       "│ male          ┆ 1967-04-06       ┆ Black       ┆ 46.0       ┆ 28075       │\n",
       "│ male          ┆ 1974-04-15       ┆ Black       ┆ 39.0       ┆ 28113       │\n",
       "└───────────────┴──────────────────┴─────────────┴────────────┴─────────────┘"
      ]
     },
     "execution_count": 74,
     "metadata": {},
     "output_type": "execute_result"
    }
   ],
   "source": [
    "(drivers_df\n",
    "    .with_columns([\n",
    "        pl.col('county_fips').cast(pl.Int64),\n",
    "        pl.col('driver_age').cast(pl.Float64)\n",
    "    ])\n",
    ".head(3)\n",
    ")"
   ]
  },
  {
   "cell_type": "markdown",
   "metadata": {},
   "source": [
    "### Dropping columns"
   ]
  },
  {
   "cell_type": "code",
   "execution_count": 77,
   "metadata": {},
   "outputs": [
    {
     "data": {
      "text/html": [
       "<div><style>\n",
       ".dataframe > thead > tr,\n",
       ".dataframe > tbody > tr {\n",
       "  text-align: right;\n",
       "  white-space: pre-wrap;\n",
       "}\n",
       "</style>\n",
       "<small>shape: (3, 4)</small><table border=\"1\" class=\"dataframe\"><thead><tr><th>driver_gender</th><th>driver_birthdate</th><th>driver_race</th><th>driver_age</th></tr><tr><td>str</td><td>date</td><td>str</td><td>f64</td></tr></thead><tbody><tr><td>&quot;male&quot;</td><td>1950-06-14</td><td>&quot;Black&quot;</td><td>63.0</td></tr><tr><td>&quot;male&quot;</td><td>1967-04-06</td><td>&quot;Black&quot;</td><td>46.0</td></tr><tr><td>&quot;male&quot;</td><td>1974-04-15</td><td>&quot;Black&quot;</td><td>39.0</td></tr></tbody></table></div>"
      ],
      "text/plain": [
       "shape: (3, 4)\n",
       "┌───────────────┬──────────────────┬─────────────┬────────────┐\n",
       "│ driver_gender ┆ driver_birthdate ┆ driver_race ┆ driver_age │\n",
       "│ ---           ┆ ---              ┆ ---         ┆ ---        │\n",
       "│ str           ┆ date             ┆ str         ┆ f64        │\n",
       "╞═══════════════╪══════════════════╪═════════════╪════════════╡\n",
       "│ male          ┆ 1950-06-14       ┆ Black       ┆ 63.0       │\n",
       "│ male          ┆ 1967-04-06       ┆ Black       ┆ 46.0       │\n",
       "│ male          ┆ 1974-04-15       ┆ Black       ┆ 39.0       │\n",
       "└───────────────┴──────────────────┴─────────────┴────────────┘"
      ]
     },
     "execution_count": 77,
     "metadata": {},
     "output_type": "execute_result"
    }
   ],
   "source": [
    "(drivers_df\n",
    "    .with_columns(pl.col('driver_age').cast(pl.Float64))\n",
    "    .drop('county_fips')\n",
    ".head(3)\n",
    ")"
   ]
  },
  {
   "cell_type": "code",
   "execution_count": 78,
   "metadata": {},
   "outputs": [
    {
     "data": {
      "text/html": [
       "<div><style>\n",
       ".dataframe > thead > tr,\n",
       ".dataframe > tbody > tr {\n",
       "  text-align: right;\n",
       "  white-space: pre-wrap;\n",
       "}\n",
       "</style>\n",
       "<small>shape: (3, 3)</small><table border=\"1\" class=\"dataframe\"><thead><tr><th>driver_gender</th><th>driver_birthdate</th><th>driver_age</th></tr><tr><td>str</td><td>date</td><td>f64</td></tr></thead><tbody><tr><td>&quot;male&quot;</td><td>1950-06-14</td><td>63.0</td></tr><tr><td>&quot;male&quot;</td><td>1967-04-06</td><td>46.0</td></tr><tr><td>&quot;male&quot;</td><td>1974-04-15</td><td>39.0</td></tr></tbody></table></div>"
      ],
      "text/plain": [
       "shape: (3, 3)\n",
       "┌───────────────┬──────────────────┬────────────┐\n",
       "│ driver_gender ┆ driver_birthdate ┆ driver_age │\n",
       "│ ---           ┆ ---              ┆ ---        │\n",
       "│ str           ┆ date             ┆ f64        │\n",
       "╞═══════════════╪══════════════════╪════════════╡\n",
       "│ male          ┆ 1950-06-14       ┆ 63.0       │\n",
       "│ male          ┆ 1967-04-06       ┆ 46.0       │\n",
       "│ male          ┆ 1974-04-15       ┆ 39.0       │\n",
       "└───────────────┴──────────────────┴────────────┘"
      ]
     },
     "execution_count": 78,
     "metadata": {},
     "output_type": "execute_result"
    }
   ],
   "source": [
    "(drivers_df\n",
    "    .with_columns(pl.col('driver_age').cast(pl.Float64))\n",
    "    .drop(['county_fips', 'driver_race'])\n",
    ".head(3)\n",
    ")"
   ]
  },
  {
   "cell_type": "markdown",
   "metadata": {},
   "source": [
    "### Renaming columns"
   ]
  },
  {
   "cell_type": "code",
   "execution_count": 85,
   "metadata": {},
   "outputs": [
    {
     "data": {
      "text/html": [
       "<div><style>\n",
       ".dataframe > thead > tr,\n",
       ".dataframe > tbody > tr {\n",
       "  text-align: right;\n",
       "  white-space: pre-wrap;\n",
       "}\n",
       "</style>\n",
       "<small>shape: (3, 5)</small><table border=\"1\" class=\"dataframe\"><thead><tr><th>driver_gender</th><th>driver_birthdate</th><th>driver_race</th><th>age</th><th>county_fips</th></tr><tr><td>str</td><td>date</td><td>str</td><td>i64</td><td>str</td></tr></thead><tbody><tr><td>&quot;male&quot;</td><td>1950-06-14</td><td>&quot;Black&quot;</td><td>63</td><td>&quot;28067&quot;</td></tr><tr><td>&quot;male&quot;</td><td>1967-04-06</td><td>&quot;Black&quot;</td><td>46</td><td>&quot;28075&quot;</td></tr><tr><td>&quot;male&quot;</td><td>1974-04-15</td><td>&quot;Black&quot;</td><td>39</td><td>&quot;28113&quot;</td></tr></tbody></table></div>"
      ],
      "text/plain": [
       "shape: (3, 5)\n",
       "┌───────────────┬──────────────────┬─────────────┬─────┬─────────────┐\n",
       "│ driver_gender ┆ driver_birthdate ┆ driver_race ┆ age ┆ county_fips │\n",
       "│ ---           ┆ ---              ┆ ---         ┆ --- ┆ ---         │\n",
       "│ str           ┆ date             ┆ str         ┆ i64 ┆ str         │\n",
       "╞═══════════════╪══════════════════╪═════════════╪═════╪═════════════╡\n",
       "│ male          ┆ 1950-06-14       ┆ Black       ┆ 63  ┆ 28067       │\n",
       "│ male          ┆ 1967-04-06       ┆ Black       ┆ 46  ┆ 28075       │\n",
       "│ male          ┆ 1974-04-15       ┆ Black       ┆ 39  ┆ 28113       │\n",
       "└───────────────┴──────────────────┴─────────────┴─────┴─────────────┘"
      ]
     },
     "execution_count": 85,
     "metadata": {},
     "output_type": "execute_result"
    }
   ],
   "source": [
    "drivers_df.rename({\"driver_age\": \"age\"}).head(3)"
   ]
  },
  {
   "cell_type": "code",
   "execution_count": 86,
   "metadata": {},
   "outputs": [
    {
     "data": {
      "text/html": [
       "<div><style>\n",
       ".dataframe > thead > tr,\n",
       ".dataframe > tbody > tr {\n",
       "  text-align: right;\n",
       "  white-space: pre-wrap;\n",
       "}\n",
       "</style>\n",
       "<small>shape: (3, 5)</small><table border=\"1\" class=\"dataframe\"><thead><tr><th>driver_gender</th><th>driver_birthdate</th><th>driver_race</th><th>age</th><th>fips</th></tr><tr><td>str</td><td>date</td><td>str</td><td>i64</td><td>str</td></tr></thead><tbody><tr><td>&quot;male&quot;</td><td>1950-06-14</td><td>&quot;Black&quot;</td><td>63</td><td>&quot;28067&quot;</td></tr><tr><td>&quot;male&quot;</td><td>1967-04-06</td><td>&quot;Black&quot;</td><td>46</td><td>&quot;28075&quot;</td></tr><tr><td>&quot;male&quot;</td><td>1974-04-15</td><td>&quot;Black&quot;</td><td>39</td><td>&quot;28113&quot;</td></tr></tbody></table></div>"
      ],
      "text/plain": [
       "shape: (3, 5)\n",
       "┌───────────────┬──────────────────┬─────────────┬─────┬───────┐\n",
       "│ driver_gender ┆ driver_birthdate ┆ driver_race ┆ age ┆ fips  │\n",
       "│ ---           ┆ ---              ┆ ---         ┆ --- ┆ ---   │\n",
       "│ str           ┆ date             ┆ str         ┆ i64 ┆ str   │\n",
       "╞═══════════════╪══════════════════╪═════════════╪═════╪═══════╡\n",
       "│ male          ┆ 1950-06-14       ┆ Black       ┆ 63  ┆ 28067 │\n",
       "│ male          ┆ 1967-04-06       ┆ Black       ┆ 46  ┆ 28075 │\n",
       "│ male          ┆ 1974-04-15       ┆ Black       ┆ 39  ┆ 28113 │\n",
       "└───────────────┴──────────────────┴─────────────┴─────┴───────┘"
      ]
     },
     "execution_count": 86,
     "metadata": {},
     "output_type": "execute_result"
    }
   ],
   "source": [
    "(\n",
    "    drivers_df\n",
    "        .rename({\n",
    "            \"driver_age\": \"age\", \n",
    "            \"county_fips\": \"fips\"})\n",
    "        .head(3)\n",
    ")"
   ]
  },
  {
   "cell_type": "code",
   "execution_count": 84,
   "metadata": {},
   "outputs": [
    {
     "data": {
      "text/html": [
       "<div><style>\n",
       ".dataframe > thead > tr,\n",
       ".dataframe > tbody > tr {\n",
       "  text-align: right;\n",
       "  white-space: pre-wrap;\n",
       "}\n",
       "</style>\n",
       "<small>shape: (3, 5)</small><table border=\"1\" class=\"dataframe\"><thead><tr><th>GENDER</th><th>BIRTHDATE</th><th>RACE</th><th>AGE</th><th>COUNTY_FIPS</th></tr><tr><td>str</td><td>date</td><td>str</td><td>i64</td><td>str</td></tr></thead><tbody><tr><td>&quot;male&quot;</td><td>1950-06-14</td><td>&quot;Black&quot;</td><td>63</td><td>&quot;28067&quot;</td></tr><tr><td>&quot;male&quot;</td><td>1967-04-06</td><td>&quot;Black&quot;</td><td>46</td><td>&quot;28075&quot;</td></tr><tr><td>&quot;male&quot;</td><td>1974-04-15</td><td>&quot;Black&quot;</td><td>39</td><td>&quot;28113&quot;</td></tr></tbody></table></div>"
      ],
      "text/plain": [
       "shape: (3, 5)\n",
       "┌────────┬────────────┬───────┬─────┬─────────────┐\n",
       "│ GENDER ┆ BIRTHDATE  ┆ RACE  ┆ AGE ┆ COUNTY_FIPS │\n",
       "│ ---    ┆ ---        ┆ ---   ┆ --- ┆ ---         │\n",
       "│ str    ┆ date       ┆ str   ┆ i64 ┆ str         │\n",
       "╞════════╪════════════╪═══════╪═════╪═════════════╡\n",
       "│ male   ┆ 1950-06-14 ┆ Black ┆ 63  ┆ 28067       │\n",
       "│ male   ┆ 1967-04-06 ┆ Black ┆ 46  ┆ 28075       │\n",
       "│ male   ┆ 1974-04-15 ┆ Black ┆ 39  ┆ 28113       │\n",
       "└────────┴────────────┴───────┴─────┴─────────────┘"
      ]
     },
     "execution_count": 84,
     "metadata": {},
     "output_type": "execute_result"
    }
   ],
   "source": [
    "(\n",
    "    drivers_df\n",
    "        .select(\n",
    "            pl.all().name.map(lambda name: name.upper().replace('DRIVER_', ''))\n",
    "        )\n",
    "        .head(3)\n",
    ")"
   ]
  },
  {
   "cell_type": "code",
   "execution_count": 29,
   "metadata": {},
   "outputs": [
    {
     "data": {
      "text/html": [
       "<div><style>\n",
       ".dataframe > thead > tr,\n",
       ".dataframe > tbody > tr {\n",
       "  text-align: right;\n",
       "  white-space: pre-wrap;\n",
       "}\n",
       "</style>\n",
       "<small>shape: (4, 6)</small><table border=\"1\" class=\"dataframe\"><thead><tr><th>GENDER</th><th>BIRTHDATE</th><th>RACE</th><th>AGE</th><th>COUNTY_FIPS</th><th>POLICE_DEPARTMENT</th></tr><tr><td>str</td><td>date</td><td>str</td><td>f64</td><td>str</td><td>str</td></tr></thead><tbody><tr><td>&quot;male&quot;</td><td>1950-06-14</td><td>&quot;Black&quot;</td><td>63.0</td><td>&quot;28067&quot;</td><td>&quot;Mississippi Hi…</td></tr><tr><td>&quot;male&quot;</td><td>1967-04-06</td><td>&quot;Black&quot;</td><td>46.0</td><td>&quot;28075&quot;</td><td>&quot;Mississippi Hi…</td></tr><tr><td>&quot;male&quot;</td><td>1974-04-15</td><td>&quot;Black&quot;</td><td>39.0</td><td>&quot;28113&quot;</td><td>&quot;Mississippi Hi…</td></tr><tr><td>&quot;male&quot;</td><td>1981-03-23</td><td>&quot;White&quot;</td><td>32.0</td><td>&quot;28045&quot;</td><td>&quot;Mississippi Hi…</td></tr></tbody></table></div>"
      ],
      "text/plain": [
       "shape: (4, 6)\n",
       "┌────────┬────────────┬───────┬──────┬─────────────┬────────────────────────────┐\n",
       "│ GENDER ┆ BIRTHDATE  ┆ RACE  ┆ AGE  ┆ COUNTY_FIPS ┆ POLICE_DEPARTMENT          │\n",
       "│ ---    ┆ ---        ┆ ---   ┆ ---  ┆ ---         ┆ ---                        │\n",
       "│ str    ┆ date       ┆ str   ┆ f64  ┆ str         ┆ str                        │\n",
       "╞════════╪════════════╪═══════╪══════╪═════════════╪════════════════════════════╡\n",
       "│ male   ┆ 1950-06-14 ┆ Black ┆ 63.0 ┆ 28067       ┆ Mississippi Highway Patrol │\n",
       "│ male   ┆ 1967-04-06 ┆ Black ┆ 46.0 ┆ 28075       ┆ Mississippi Highway Patrol │\n",
       "│ male   ┆ 1974-04-15 ┆ Black ┆ 39.0 ┆ 28113       ┆ Mississippi Highway Patrol │\n",
       "│ male   ┆ 1981-03-23 ┆ White ┆ 32.0 ┆ 28045       ┆ Mississippi Highway Patrol │\n",
       "└────────┴────────────┴───────┴──────┴─────────────┴────────────────────────────┘"
      ]
     },
     "execution_count": 29,
     "metadata": {},
     "output_type": "execute_result"
    }
   ],
   "source": [
    "(\n",
    "    drivers_df\n",
    "        .with_columns(pl.col('driver_age').cast(pl.Float64))\n",
    "        .pipe(\n",
    "            lambda d: d.rename({ col: col.replace('driver_', '').upper() for col in d.columns })\n",
    "            )\n",
    "        .head(4)\n",
    ")"
   ]
  },
  {
   "cell_type": "markdown",
   "metadata": {},
   "source": [
    "### Splitting column"
   ]
  },
  {
   "cell_type": "code",
   "execution_count": 10,
   "metadata": {},
   "outputs": [
    {
     "data": {
      "text/plain": [
       "'Mississippi Highway Patrol'"
      ]
     },
     "execution_count": 10,
     "metadata": {},
     "output_type": "execute_result"
    }
   ],
   "source": [
    "drivers_df['police_department'][0]"
   ]
  },
  {
   "cell_type": "code",
   "execution_count": 15,
   "metadata": {},
   "outputs": [
    {
     "data": {
      "text/html": [
       "<div><style>\n",
       ".dataframe > thead > tr,\n",
       ".dataframe > tbody > tr {\n",
       "  text-align: right;\n",
       "  white-space: pre-wrap;\n",
       "}\n",
       "</style>\n",
       "<small>shape: (3,)</small><table border=\"1\" class=\"dataframe\"><thead><tr><th>police_department</th></tr><tr><td>list[str]</td></tr></thead><tbody><tr><td>[&quot;Mississippi&quot;, &quot;Highway&quot;, &quot;Patrol&quot;]</td></tr><tr><td>[&quot;Mississippi&quot;, &quot;Highway&quot;, &quot;Patrol&quot;]</td></tr><tr><td>[&quot;Mississippi&quot;, &quot;Highway&quot;, &quot;Patrol&quot;]</td></tr></tbody></table></div>"
      ],
      "text/plain": [
       "shape: (3,)\n",
       "Series: 'police_department' [list[str]]\n",
       "[\n",
       "\t[\"Mississippi\", \"Highway\", \"Patrol\"]\n",
       "\t[\"Mississippi\", \"Highway\", \"Patrol\"]\n",
       "\t[\"Mississippi\", \"Highway\", \"Patrol\"]\n",
       "]"
      ]
     },
     "execution_count": 15,
     "metadata": {},
     "output_type": "execute_result"
    }
   ],
   "source": [
    "drivers_df['police_department'].str.split(' ').head(3)"
   ]
  },
  {
   "cell_type": "code",
   "execution_count": 20,
   "metadata": {},
   "outputs": [
    {
     "data": {
      "text/html": [
       "<div><style>\n",
       ".dataframe > thead > tr,\n",
       ".dataframe > tbody > tr {\n",
       "  text-align: right;\n",
       "  white-space: pre-wrap;\n",
       "}\n",
       "</style>\n",
       "<small>shape: (3,)</small><table border=\"1\" class=\"dataframe\"><thead><tr><th></th></tr><tr><td>str</td></tr></thead><tbody><tr><td>&quot;Mississippi&quot;</td></tr><tr><td>&quot;Highway&quot;</td></tr><tr><td>&quot;Patrol&quot;</td></tr></tbody></table></div>"
      ],
      "text/plain": [
       "shape: (3,)\n",
       "Series: '' [str]\n",
       "[\n",
       "\t\"Mississippi\"\n",
       "\t\"Highway\"\n",
       "\t\"Patrol\"\n",
       "]"
      ]
     },
     "execution_count": 20,
     "metadata": {},
     "output_type": "execute_result"
    }
   ],
   "source": [
    "drivers_df.state1 = drivers_df['police_department'].str.split(' ')[0]\n",
    "drivers_df.state1\n"
   ]
  },
  {
   "cell_type": "code",
   "execution_count": 5,
   "metadata": {},
   "outputs": [
    {
     "data": {
      "text/plain": [
       "polars.series.series.Series"
      ]
     },
     "execution_count": 5,
     "metadata": {},
     "output_type": "execute_result"
    }
   ],
   "source": [
    "drivers_df.state2 = drivers_df['police_department'].str.split(' ').map_elements(lambda vals: vals[0])\n",
    "type(drivers_df.state2 )"
   ]
  },
  {
   "cell_type": "code",
   "execution_count": 6,
   "metadata": {},
   "outputs": [
    {
     "data": {
      "text/html": [
       "<div><style>\n",
       ".dataframe > thead > tr,\n",
       ".dataframe > tbody > tr {\n",
       "  text-align: right;\n",
       "  white-space: pre-wrap;\n",
       "}\n",
       "</style>\n",
       "<small>shape: (4, 7)</small><table border=\"1\" class=\"dataframe\"><thead><tr><th>driver_gender</th><th>driver_birthdate</th><th>driver_race</th><th>driver_age</th><th>county_fips</th><th>police_department</th><th>state</th></tr><tr><td>str</td><td>date</td><td>str</td><td>i64</td><td>str</td><td>str</td><td>str</td></tr></thead><tbody><tr><td>&quot;male&quot;</td><td>1950-06-14</td><td>&quot;Black&quot;</td><td>63</td><td>&quot;28067&quot;</td><td>&quot;Mississippi Hi…</td><td>&quot;Mississippi&quot;</td></tr><tr><td>&quot;male&quot;</td><td>1967-04-06</td><td>&quot;Black&quot;</td><td>46</td><td>&quot;28075&quot;</td><td>&quot;Mississippi Hi…</td><td>&quot;Mississippi&quot;</td></tr><tr><td>&quot;male&quot;</td><td>1974-04-15</td><td>&quot;Black&quot;</td><td>39</td><td>&quot;28113&quot;</td><td>&quot;Mississippi Hi…</td><td>&quot;Mississippi&quot;</td></tr><tr><td>&quot;male&quot;</td><td>1981-03-23</td><td>&quot;White&quot;</td><td>32</td><td>&quot;28045&quot;</td><td>&quot;Mississippi Hi…</td><td>&quot;Mississippi&quot;</td></tr></tbody></table></div>"
      ],
      "text/plain": [
       "shape: (4, 7)\n",
       "┌──────────────┬──────────────┬─────────────┬────────────┬─────────────┬─────────────┬─────────────┐\n",
       "│ driver_gende ┆ driver_birth ┆ driver_race ┆ driver_age ┆ county_fips ┆ police_depa ┆ state       │\n",
       "│ r            ┆ date         ┆ ---         ┆ ---        ┆ ---         ┆ rtment      ┆ ---         │\n",
       "│ ---          ┆ ---          ┆ str         ┆ i64        ┆ str         ┆ ---         ┆ str         │\n",
       "│ str          ┆ date         ┆             ┆            ┆             ┆ str         ┆             │\n",
       "╞══════════════╪══════════════╪═════════════╪════════════╪═════════════╪═════════════╪═════════════╡\n",
       "│ male         ┆ 1950-06-14   ┆ Black       ┆ 63         ┆ 28067       ┆ Mississippi ┆ Mississippi │\n",
       "│              ┆              ┆             ┆            ┆             ┆ Highway     ┆             │\n",
       "│              ┆              ┆             ┆            ┆             ┆ Patrol      ┆             │\n",
       "│ male         ┆ 1967-04-06   ┆ Black       ┆ 46         ┆ 28075       ┆ Mississippi ┆ Mississippi │\n",
       "│              ┆              ┆             ┆            ┆             ┆ Highway     ┆             │\n",
       "│              ┆              ┆             ┆            ┆             ┆ Patrol      ┆             │\n",
       "│ male         ┆ 1974-04-15   ┆ Black       ┆ 39         ┆ 28113       ┆ Mississippi ┆ Mississippi │\n",
       "│              ┆              ┆             ┆            ┆             ┆ Highway     ┆             │\n",
       "│              ┆              ┆             ┆            ┆             ┆ Patrol      ┆             │\n",
       "│ male         ┆ 1981-03-23   ┆ White       ┆ 32         ┆ 28045       ┆ Mississippi ┆ Mississippi │\n",
       "│              ┆              ┆             ┆            ┆             ┆ Highway     ┆             │\n",
       "│              ┆              ┆             ┆            ┆             ┆ Patrol      ┆             │\n",
       "└──────────────┴──────────────┴─────────────┴────────────┴─────────────┴─────────────┴─────────────┘"
      ]
     },
     "execution_count": 6,
     "metadata": {},
     "output_type": "execute_result"
    }
   ],
   "source": [
    "state_df = drivers_df.with_columns(\n",
    "    state = pl.col('police_department').str.split(' ').map_elements(lambda vals: vals[0])\n",
    ")\n",
    "state_df.head(4)"
   ]
  },
  {
   "cell_type": "markdown",
   "metadata": {},
   "source": [
    "### Working with  Dates: Year - Month - Day"
   ]
  },
  {
   "cell_type": "code",
   "execution_count": 92,
   "metadata": {},
   "outputs": [
    {
     "data": {
      "text/html": [
       "<div><style>\n",
       ".dataframe > thead > tr,\n",
       ".dataframe > tbody > tr {\n",
       "  text-align: right;\n",
       "  white-space: pre-wrap;\n",
       "}\n",
       "</style>\n",
       "<small>shape: (4, 10)</small><table border=\"1\" class=\"dataframe\"><thead><tr><th>driver_gender</th><th>driver_birthdate</th><th>driver_race</th><th>driver_age</th><th>police_department</th><th>month</th><th>year</th><th>day</th><th>month_abbr</th><th>day_abbr</th></tr><tr><td>str</td><td>date</td><td>str</td><td>i64</td><td>str</td><td>i8</td><td>i32</td><td>i8</td><td>str</td><td>str</td></tr></thead><tbody><tr><td>&quot;male&quot;</td><td>1950-06-14</td><td>&quot;Black&quot;</td><td>63</td><td>&quot;Mississippi Hi…</td><td>6</td><td>1950</td><td>14</td><td>&quot;Jun&quot;</td><td>&quot;Wed&quot;</td></tr><tr><td>&quot;male&quot;</td><td>1967-04-06</td><td>&quot;Black&quot;</td><td>46</td><td>&quot;Mississippi Hi…</td><td>4</td><td>1967</td><td>6</td><td>&quot;Apr&quot;</td><td>&quot;Thu&quot;</td></tr><tr><td>&quot;male&quot;</td><td>1974-04-15</td><td>&quot;Black&quot;</td><td>39</td><td>&quot;Mississippi Hi…</td><td>4</td><td>1974</td><td>15</td><td>&quot;Apr&quot;</td><td>&quot;Mon&quot;</td></tr><tr><td>&quot;male&quot;</td><td>1981-03-23</td><td>&quot;White&quot;</td><td>32</td><td>&quot;Mississippi Hi…</td><td>3</td><td>1981</td><td>23</td><td>&quot;Mar&quot;</td><td>&quot;Mon&quot;</td></tr></tbody></table></div>"
      ],
      "text/plain": [
       "shape: (4, 10)\n",
       "┌───────────────┬──────────────┬─────────────┬────────────┬───┬──────┬─────┬────────────┬──────────┐\n",
       "│ driver_gender ┆ driver_birth ┆ driver_race ┆ driver_age ┆ … ┆ year ┆ day ┆ month_abbr ┆ day_abbr │\n",
       "│ ---           ┆ date         ┆ ---         ┆ ---        ┆   ┆ ---  ┆ --- ┆ ---        ┆ ---      │\n",
       "│ str           ┆ ---          ┆ str         ┆ i64        ┆   ┆ i32  ┆ i8  ┆ str        ┆ str      │\n",
       "│               ┆ date         ┆             ┆            ┆   ┆      ┆     ┆            ┆          │\n",
       "╞═══════════════╪══════════════╪═════════════╪════════════╪═══╪══════╪═════╪════════════╪══════════╡\n",
       "│ male          ┆ 1950-06-14   ┆ Black       ┆ 63         ┆ … ┆ 1950 ┆ 14  ┆ Jun        ┆ Wed      │\n",
       "│ male          ┆ 1967-04-06   ┆ Black       ┆ 46         ┆ … ┆ 1967 ┆ 6   ┆ Apr        ┆ Thu      │\n",
       "│ male          ┆ 1974-04-15   ┆ Black       ┆ 39         ┆ … ┆ 1974 ┆ 15  ┆ Apr        ┆ Mon      │\n",
       "│ male          ┆ 1981-03-23   ┆ White       ┆ 32         ┆ … ┆ 1981 ┆ 23  ┆ Mar        ┆ Mon      │\n",
       "└───────────────┴──────────────┴─────────────┴────────────┴───┴──────┴─────┴────────────┴──────────┘"
      ]
     },
     "execution_count": 92,
     "metadata": {},
     "output_type": "execute_result"
    }
   ],
   "source": [
    " (df\n",
    "  .select(pl.selectors.starts_with('driver'), pl.selectors.contains('police'))\n",
    "  .with_columns(pl.col('driver_birthdate').dt.month().alias('month'))\n",
    "  .with_columns(pl.col('driver_birthdate').dt.year().alias('year'))\n",
    "  .with_columns(pl.col('driver_birthdate').dt.day().alias('day'))\n",
    "  .with_columns(pl.col('driver_birthdate').dt.strftime('%b').alias('month_abbr'))\n",
    "  .with_columns(pl.col('driver_birthdate').dt.strftime('%a').alias('day_abbr'))\n",
    "  .head(4)\n",
    " )"
   ]
  },
  {
   "cell_type": "code",
   "execution_count": 5,
   "metadata": {},
   "outputs": [
    {
     "data": {
      "text/html": [
       "<div><style>\n",
       ".dataframe > thead > tr,\n",
       ".dataframe > tbody > tr {\n",
       "  text-align: right;\n",
       "  white-space: pre-wrap;\n",
       "}\n",
       "</style>\n",
       "<small>shape: (4, 9)</small><table border=\"1\" class=\"dataframe\"><thead><tr><th>driver_gender</th><th>driver_birthdate</th><th>driver_race</th><th>driver_age</th><th>police_department</th><th>year</th><th>monthname</th><th>dayname</th><th>gender</th></tr><tr><td>str</td><td>date</td><td>str</td><td>i64</td><td>str</td><td>i32</td><td>str</td><td>str</td><td>cat</td></tr></thead><tbody><tr><td>&quot;male&quot;</td><td>1950-06-14</td><td>&quot;Black&quot;</td><td>63</td><td>&quot;Mississippi Hi…</td><td>1950</td><td>&quot;June&quot;</td><td>&quot;Wednesday&quot;</td><td>&quot;male&quot;</td></tr><tr><td>&quot;male&quot;</td><td>1967-04-06</td><td>&quot;Black&quot;</td><td>46</td><td>&quot;Mississippi Hi…</td><td>1967</td><td>&quot;April&quot;</td><td>&quot;Thursday&quot;</td><td>&quot;male&quot;</td></tr><tr><td>&quot;male&quot;</td><td>1974-04-15</td><td>&quot;Black&quot;</td><td>39</td><td>&quot;Mississippi Hi…</td><td>1974</td><td>&quot;April&quot;</td><td>&quot;Monday&quot;</td><td>&quot;male&quot;</td></tr><tr><td>&quot;male&quot;</td><td>1981-03-23</td><td>&quot;White&quot;</td><td>32</td><td>&quot;Mississippi Hi…</td><td>1981</td><td>&quot;March&quot;</td><td>&quot;Monday&quot;</td><td>&quot;male&quot;</td></tr></tbody></table></div>"
      ],
      "text/plain": [
       "shape: (4, 9)\n",
       "┌─────────────┬─────────────┬─────────────┬────────────┬───┬──────┬───────────┬───────────┬────────┐\n",
       "│ driver_gend ┆ driver_birt ┆ driver_race ┆ driver_age ┆ … ┆ year ┆ monthname ┆ dayname   ┆ gender │\n",
       "│ er          ┆ hdate       ┆ ---         ┆ ---        ┆   ┆ ---  ┆ ---       ┆ ---       ┆ ---    │\n",
       "│ ---         ┆ ---         ┆ str         ┆ i64        ┆   ┆ i32  ┆ str       ┆ str       ┆ cat    │\n",
       "│ str         ┆ date        ┆             ┆            ┆   ┆      ┆           ┆           ┆        │\n",
       "╞═════════════╪═════════════╪═════════════╪════════════╪═══╪══════╪═══════════╪═══════════╪════════╡\n",
       "│ male        ┆ 1950-06-14  ┆ Black       ┆ 63         ┆ … ┆ 1950 ┆ June      ┆ Wednesday ┆ male   │\n",
       "│ male        ┆ 1967-04-06  ┆ Black       ┆ 46         ┆ … ┆ 1967 ┆ April     ┆ Thursday  ┆ male   │\n",
       "│ male        ┆ 1974-04-15  ┆ Black       ┆ 39         ┆ … ┆ 1974 ┆ April     ┆ Monday    ┆ male   │\n",
       "│ male        ┆ 1981-03-23  ┆ White       ┆ 32         ┆ … ┆ 1981 ┆ March     ┆ Monday    ┆ male   │\n",
       "└─────────────┴─────────────┴─────────────┴────────────┴───┴──────┴───────────┴───────────┴────────┘"
      ]
     },
     "execution_count": 5,
     "metadata": {},
     "output_type": "execute_result"
    }
   ],
   "source": [
    "month_df =  (df\n",
    "  .select(pl.selectors.starts_with('driver'), pl.selectors.contains('police'))\n",
    "  .with_columns(\n",
    "    pl.col('driver_birthdate').dt.year().alias('year'), \n",
    "    pl.col('driver_birthdate').dt.strftime('%B').alias('monthname'),\n",
    "    pl.col('driver_birthdate').dt.strftime('%A').alias('dayname'),\n",
    "    pl.col('driver_gender').cast(pl.Categorical).alias('gender'))\n",
    ")\n",
    "month_df.head(4)"
   ]
  },
  {
   "cell_type": "markdown",
   "metadata": {},
   "source": [
    "### Categoricals: ordering"
   ]
  },
  {
   "cell_type": "code",
   "execution_count": 8,
   "metadata": {},
   "outputs": [
    {
     "data": {
      "text/plain": [
       "['Monday', 'Tuesday', 'Wednesday', 'Thursday', 'Friday', 'Saturday', 'Sunday']"
      ]
     },
     "execution_count": 8,
     "metadata": {},
     "output_type": "execute_result"
    }
   ],
   "source": [
    "import calendar\n",
    "days = list(calendar.day_name)\n",
    "days\n"
   ]
  },
  {
   "cell_type": "code",
   "execution_count": 11,
   "metadata": {},
   "outputs": [],
   "source": [
    "custom_order = [\"male\", \"female\"]"
   ]
  },
  {
   "cell_type": "code",
   "execution_count": 12,
   "metadata": {},
   "outputs": [],
   "source": [
    "with pl.StringCache():\n",
    "    pl.Series(custom_order).cast(pl.Categorical)\n",
    "    month_df2 = month_df.with_columns(pl.col('gender').cast(pl.Categorical))"
   ]
  },
  {
   "cell_type": "code",
   "execution_count": 10,
   "metadata": {},
   "outputs": [],
   "source": [
    "with pl.StringCache():\n",
    "    pl.Series(days).cast(pl.Categorical)\n",
    "    month_df2 = month_df.with_columns(pl.col('dayname').cast(pl.Categorical('physical')))"
   ]
  },
  {
   "cell_type": "code",
   "execution_count": 13,
   "metadata": {},
   "outputs": [
    {
     "data": {
      "text/html": [
       "<div><style>\n",
       ".dataframe > thead > tr,\n",
       ".dataframe > tbody > tr {\n",
       "  text-align: right;\n",
       "  white-space: pre-wrap;\n",
       "}\n",
       "</style>\n",
       "<small>shape: (4, 9)</small><table border=\"1\" class=\"dataframe\"><thead><tr><th>driver_gender</th><th>driver_birthdate</th><th>driver_race</th><th>driver_age</th><th>police_department</th><th>year</th><th>monthname</th><th>dayname</th><th>gender</th></tr><tr><td>str</td><td>date</td><td>str</td><td>i64</td><td>str</td><td>i32</td><td>str</td><td>str</td><td>cat</td></tr></thead><tbody><tr><td>&quot;male&quot;</td><td>1950-06-14</td><td>&quot;Black&quot;</td><td>63</td><td>&quot;Mississippi Hi…</td><td>1950</td><td>&quot;June&quot;</td><td>&quot;Wednesday&quot;</td><td>&quot;male&quot;</td></tr><tr><td>&quot;male&quot;</td><td>1967-04-06</td><td>&quot;Black&quot;</td><td>46</td><td>&quot;Mississippi Hi…</td><td>1967</td><td>&quot;April&quot;</td><td>&quot;Thursday&quot;</td><td>&quot;male&quot;</td></tr><tr><td>&quot;male&quot;</td><td>1974-04-15</td><td>&quot;Black&quot;</td><td>39</td><td>&quot;Mississippi Hi…</td><td>1974</td><td>&quot;April&quot;</td><td>&quot;Monday&quot;</td><td>&quot;male&quot;</td></tr><tr><td>&quot;male&quot;</td><td>1981-03-23</td><td>&quot;White&quot;</td><td>32</td><td>&quot;Mississippi Hi…</td><td>1981</td><td>&quot;March&quot;</td><td>&quot;Monday&quot;</td><td>&quot;male&quot;</td></tr></tbody></table></div>"
      ],
      "text/plain": [
       "shape: (4, 9)\n",
       "┌─────────────┬─────────────┬─────────────┬────────────┬───┬──────┬───────────┬───────────┬────────┐\n",
       "│ driver_gend ┆ driver_birt ┆ driver_race ┆ driver_age ┆ … ┆ year ┆ monthname ┆ dayname   ┆ gender │\n",
       "│ er          ┆ hdate       ┆ ---         ┆ ---        ┆   ┆ ---  ┆ ---       ┆ ---       ┆ ---    │\n",
       "│ ---         ┆ ---         ┆ str         ┆ i64        ┆   ┆ i32  ┆ str       ┆ str       ┆ cat    │\n",
       "│ str         ┆ date        ┆             ┆            ┆   ┆      ┆           ┆           ┆        │\n",
       "╞═════════════╪═════════════╪═════════════╪════════════╪═══╪══════╪═══════════╪═══════════╪════════╡\n",
       "│ male        ┆ 1950-06-14  ┆ Black       ┆ 63         ┆ … ┆ 1950 ┆ June      ┆ Wednesday ┆ male   │\n",
       "│ male        ┆ 1967-04-06  ┆ Black       ┆ 46         ┆ … ┆ 1967 ┆ April     ┆ Thursday  ┆ male   │\n",
       "│ male        ┆ 1974-04-15  ┆ Black       ┆ 39         ┆ … ┆ 1974 ┆ April     ┆ Monday    ┆ male   │\n",
       "│ male        ┆ 1981-03-23  ┆ White       ┆ 32         ┆ … ┆ 1981 ┆ March     ┆ Monday    ┆ male   │\n",
       "└─────────────┴─────────────┴─────────────┴────────────┴───┴──────┴───────────┴───────────┴────────┘"
      ]
     },
     "execution_count": 13,
     "metadata": {},
     "output_type": "execute_result"
    }
   ],
   "source": [
    "month_df2.head(4)"
   ]
  },
  {
   "cell_type": "code",
   "execution_count": null,
   "metadata": {},
   "outputs": [],
   "source": [
    "# df.to_pandas()\n",
    "# column_values_with_custom_order = [\"B\", \"A\", \"C\"] \n",
    "# df[\"Column\"] = pd.Categorical(df.Column, categories=column_values_with_custom_order, ordered=True)\n",
    "# pl.from_pandas(df)"
   ]
  },
  {
   "cell_type": "markdown",
   "metadata": {},
   "source": [
    "##  Wrangling verbs"
   ]
  },
  {
   "cell_type": "markdown",
   "metadata": {},
   "source": [
    "### Select"
   ]
  },
  {
   "cell_type": "code",
   "execution_count": 34,
   "metadata": {},
   "outputs": [
    {
     "data": {
      "text/html": [
       "<div><style>\n",
       ".dataframe > thead > tr,\n",
       ".dataframe > tbody > tr {\n",
       "  text-align: right;\n",
       "  white-space: pre-wrap;\n",
       "}\n",
       "</style>\n",
       "<small>shape: (3, 3)</small><table border=\"1\" class=\"dataframe\"><thead><tr><th>driver_gender</th><th>driver_birthdate</th><th>driver_race</th></tr><tr><td>str</td><td>date</td><td>str</td></tr></thead><tbody><tr><td>&quot;male&quot;</td><td>1950-06-14</td><td>&quot;Black&quot;</td></tr><tr><td>&quot;male&quot;</td><td>1967-04-06</td><td>&quot;Black&quot;</td></tr><tr><td>&quot;male&quot;</td><td>1974-04-15</td><td>&quot;Black&quot;</td></tr></tbody></table></div>"
      ],
      "text/plain": [
       "shape: (3, 3)\n",
       "┌───────────────┬──────────────────┬─────────────┐\n",
       "│ driver_gender ┆ driver_birthdate ┆ driver_race │\n",
       "│ ---           ┆ ---              ┆ ---         │\n",
       "│ str           ┆ date             ┆ str         │\n",
       "╞═══════════════╪══════════════════╪═════════════╡\n",
       "│ male          ┆ 1950-06-14       ┆ Black       │\n",
       "│ male          ┆ 1967-04-06       ┆ Black       │\n",
       "│ male          ┆ 1974-04-15       ┆ Black       │\n",
       "└───────────────┴──────────────────┴─────────────┘"
      ]
     },
     "execution_count": 34,
     "metadata": {},
     "output_type": "execute_result"
    }
   ],
   "source": [
    "month_df[0:3, 0:3]"
   ]
  },
  {
   "cell_type": "code",
   "execution_count": 35,
   "metadata": {},
   "outputs": [
    {
     "data": {
      "text/html": [
       "<div><style>\n",
       ".dataframe > thead > tr,\n",
       ".dataframe > tbody > tr {\n",
       "  text-align: right;\n",
       "  white-space: pre-wrap;\n",
       "}\n",
       "</style>\n",
       "<small>shape: (3, 3)</small><table border=\"1\" class=\"dataframe\"><thead><tr><th>driver_gender</th><th>driver_birthdate</th><th>driver_race</th></tr><tr><td>str</td><td>date</td><td>str</td></tr></thead><tbody><tr><td>&quot;male&quot;</td><td>1950-06-14</td><td>&quot;Black&quot;</td></tr><tr><td>&quot;male&quot;</td><td>1967-04-06</td><td>&quot;Black&quot;</td></tr><tr><td>&quot;male&quot;</td><td>1974-04-15</td><td>&quot;Black&quot;</td></tr></tbody></table></div>"
      ],
      "text/plain": [
       "shape: (3, 3)\n",
       "┌───────────────┬──────────────────┬─────────────┐\n",
       "│ driver_gender ┆ driver_birthdate ┆ driver_race │\n",
       "│ ---           ┆ ---              ┆ ---         │\n",
       "│ str           ┆ date             ┆ str         │\n",
       "╞═══════════════╪══════════════════╪═════════════╡\n",
       "│ male          ┆ 1950-06-14       ┆ Black       │\n",
       "│ male          ┆ 1967-04-06       ┆ Black       │\n",
       "│ male          ┆ 1974-04-15       ┆ Black       │\n",
       "└───────────────┴──────────────────┴─────────────┘"
      ]
     },
     "execution_count": 35,
     "metadata": {},
     "output_type": "execute_result"
    }
   ],
   "source": [
    "month_df[0:3, 'driver_gender':'driver_race']"
   ]
  },
  {
   "cell_type": "code",
   "execution_count": 37,
   "metadata": {},
   "outputs": [
    {
     "data": {
      "text/html": [
       "<div><style>\n",
       ".dataframe > thead > tr,\n",
       ".dataframe > tbody > tr {\n",
       "  text-align: right;\n",
       "  white-space: pre-wrap;\n",
       "}\n",
       "</style>\n",
       "<small>shape: (3, 4)</small><table border=\"1\" class=\"dataframe\"><thead><tr><th>driver_gender</th><th>driver_race</th><th>driver_age</th><th>driver_birthdate</th></tr><tr><td>str</td><td>str</td><td>i64</td><td>date</td></tr></thead><tbody><tr><td>&quot;male&quot;</td><td>&quot;Black&quot;</td><td>63</td><td>1950-06-14</td></tr><tr><td>&quot;male&quot;</td><td>&quot;Black&quot;</td><td>46</td><td>1967-04-06</td></tr><tr><td>&quot;male&quot;</td><td>&quot;Black&quot;</td><td>39</td><td>1974-04-15</td></tr></tbody></table></div>"
      ],
      "text/plain": [
       "shape: (3, 4)\n",
       "┌───────────────┬─────────────┬────────────┬──────────────────┐\n",
       "│ driver_gender ┆ driver_race ┆ driver_age ┆ driver_birthdate │\n",
       "│ ---           ┆ ---         ┆ ---        ┆ ---              │\n",
       "│ str           ┆ str         ┆ i64        ┆ date             │\n",
       "╞═══════════════╪═════════════╪════════════╪══════════════════╡\n",
       "│ male          ┆ Black       ┆ 63         ┆ 1950-06-14       │\n",
       "│ male          ┆ Black       ┆ 46         ┆ 1967-04-06       │\n",
       "│ male          ┆ Black       ┆ 39         ┆ 1974-04-15       │\n",
       "└───────────────┴─────────────┴────────────┴──────────────────┘"
      ]
     },
     "execution_count": 37,
     "metadata": {},
     "output_type": "execute_result"
    }
   ],
   "source": [
    "month_df[0:3, ['driver_gender', 'driver_race', 'driver_age', 'driver_birthdate']]"
   ]
  },
  {
   "cell_type": "code",
   "execution_count": 49,
   "metadata": {},
   "outputs": [
    {
     "data": {
      "text/html": [
       "<div><style>\n",
       ".dataframe > thead > tr,\n",
       ".dataframe > tbody > tr {\n",
       "  text-align: right;\n",
       "  white-space: pre-wrap;\n",
       "}\n",
       "</style>\n",
       "<small>shape: (5, 2)</small><table border=\"1\" class=\"dataframe\"><thead><tr><th>gender</th><th>driver_birthdate</th></tr><tr><td>cat</td><td>date</td></tr></thead><tbody><tr><td>&quot;male&quot;</td><td>1950-06-14</td></tr><tr><td>&quot;male&quot;</td><td>1967-04-06</td></tr><tr><td>&quot;male&quot;</td><td>1974-04-15</td></tr><tr><td>&quot;male&quot;</td><td>1981-03-23</td></tr><tr><td>&quot;male&quot;</td><td>1992-08-03</td></tr></tbody></table></div>"
      ],
      "text/plain": [
       "shape: (5, 2)\n",
       "┌────────┬──────────────────┐\n",
       "│ gender ┆ driver_birthdate │\n",
       "│ ---    ┆ ---              │\n",
       "│ cat    ┆ date             │\n",
       "╞════════╪══════════════════╡\n",
       "│ male   ┆ 1950-06-14       │\n",
       "│ male   ┆ 1967-04-06       │\n",
       "│ male   ┆ 1974-04-15       │\n",
       "│ male   ┆ 1981-03-23       │\n",
       "│ male   ┆ 1992-08-03       │\n",
       "└────────┴──────────────────┘"
      ]
     },
     "execution_count": 49,
     "metadata": {},
     "output_type": "execute_result"
    }
   ],
   "source": [
    "month_df.select(pl.selectors.categorical(), pl.selectors.date()).head()"
   ]
  },
  {
   "cell_type": "code",
   "execution_count": 50,
   "metadata": {},
   "outputs": [
    {
     "data": {
      "text/html": [
       "<div><style>\n",
       ".dataframe > thead > tr,\n",
       ".dataframe > tbody > tr {\n",
       "  text-align: right;\n",
       "  white-space: pre-wrap;\n",
       "}\n",
       "</style>\n",
       "<small>shape: (4, 2)</small><table border=\"1\" class=\"dataframe\"><thead><tr><th>driver_gender</th><th>gender</th></tr><tr><td>str</td><td>cat</td></tr></thead><tbody><tr><td>&quot;male&quot;</td><td>&quot;male&quot;</td></tr><tr><td>&quot;male&quot;</td><td>&quot;male&quot;</td></tr><tr><td>&quot;male&quot;</td><td>&quot;male&quot;</td></tr><tr><td>&quot;male&quot;</td><td>&quot;male&quot;</td></tr></tbody></table></div>"
      ],
      "text/plain": [
       "shape: (4, 2)\n",
       "┌───────────────┬────────┐\n",
       "│ driver_gender ┆ gender │\n",
       "│ ---           ┆ ---    │\n",
       "│ str           ┆ cat    │\n",
       "╞═══════════════╪════════╡\n",
       "│ male          ┆ male   │\n",
       "│ male          ┆ male   │\n",
       "│ male          ┆ male   │\n",
       "│ male          ┆ male   │\n",
       "└───────────────┴────────┘"
      ]
     },
     "execution_count": 50,
     "metadata": {},
     "output_type": "execute_result"
    }
   ],
   "source": [
    "month_df.select(pl.selectors.contains(\"gender\")).head(4)"
   ]
  },
  {
   "cell_type": "code",
   "execution_count": 51,
   "metadata": {},
   "outputs": [
    {
     "data": {
      "text/html": [
       "<div><style>\n",
       ".dataframe > thead > tr,\n",
       ".dataframe > tbody > tr {\n",
       "  text-align: right;\n",
       "  white-space: pre-wrap;\n",
       "}\n",
       "</style>\n",
       "<small>shape: (4, 7)</small><table border=\"1\" class=\"dataframe\"><thead><tr><th>driver_birthdate</th><th>driver_race</th><th>driver_age</th><th>police_department</th><th>year</th><th>monthname</th><th>dayname</th></tr><tr><td>date</td><td>str</td><td>i64</td><td>str</td><td>i32</td><td>str</td><td>str</td></tr></thead><tbody><tr><td>1950-06-14</td><td>&quot;Black&quot;</td><td>63</td><td>&quot;Mississippi Hi…</td><td>1950</td><td>&quot;June&quot;</td><td>&quot;Wednesday&quot;</td></tr><tr><td>1967-04-06</td><td>&quot;Black&quot;</td><td>46</td><td>&quot;Mississippi Hi…</td><td>1967</td><td>&quot;April&quot;</td><td>&quot;Thursday&quot;</td></tr><tr><td>1974-04-15</td><td>&quot;Black&quot;</td><td>39</td><td>&quot;Mississippi Hi…</td><td>1974</td><td>&quot;April&quot;</td><td>&quot;Monday&quot;</td></tr><tr><td>1981-03-23</td><td>&quot;White&quot;</td><td>32</td><td>&quot;Mississippi Hi…</td><td>1981</td><td>&quot;March&quot;</td><td>&quot;Monday&quot;</td></tr></tbody></table></div>"
      ],
      "text/plain": [
       "shape: (4, 7)\n",
       "┌──────────────────┬─────────────┬────────────┬─────────────────────┬──────┬───────────┬───────────┐\n",
       "│ driver_birthdate ┆ driver_race ┆ driver_age ┆ police_department   ┆ year ┆ monthname ┆ dayname   │\n",
       "│ ---              ┆ ---         ┆ ---        ┆ ---                 ┆ ---  ┆ ---       ┆ ---       │\n",
       "│ date             ┆ str         ┆ i64        ┆ str                 ┆ i32  ┆ str       ┆ str       │\n",
       "╞══════════════════╪═════════════╪════════════╪═════════════════════╪══════╪═══════════╪═══════════╡\n",
       "│ 1950-06-14       ┆ Black       ┆ 63         ┆ Mississippi Highway ┆ 1950 ┆ June      ┆ Wednesday │\n",
       "│                  ┆             ┆            ┆ Patrol              ┆      ┆           ┆           │\n",
       "│ 1967-04-06       ┆ Black       ┆ 46         ┆ Mississippi Highway ┆ 1967 ┆ April     ┆ Thursday  │\n",
       "│                  ┆             ┆            ┆ Patrol              ┆      ┆           ┆           │\n",
       "│ 1974-04-15       ┆ Black       ┆ 39         ┆ Mississippi Highway ┆ 1974 ┆ April     ┆ Monday    │\n",
       "│                  ┆             ┆            ┆ Patrol              ┆      ┆           ┆           │\n",
       "│ 1981-03-23       ┆ White       ┆ 32         ┆ Mississippi Highway ┆ 1981 ┆ March     ┆ Monday    │\n",
       "│                  ┆             ┆            ┆ Patrol              ┆      ┆           ┆           │\n",
       "└──────────────────┴─────────────┴────────────┴─────────────────────┴──────┴───────────┴───────────┘"
      ]
     },
     "execution_count": 51,
     "metadata": {},
     "output_type": "execute_result"
    }
   ],
   "source": [
    "month_df.select(~pl.selectors.contains(\"gender\")).head(4)"
   ]
  },
  {
   "cell_type": "code",
   "execution_count": 52,
   "metadata": {},
   "outputs": [
    {
     "data": {
      "text/html": [
       "<div><style>\n",
       ".dataframe > thead > tr,\n",
       ".dataframe > tbody > tr {\n",
       "  text-align: right;\n",
       "  white-space: pre-wrap;\n",
       "}\n",
       "</style>\n",
       "<small>shape: (4, 5)</small><table border=\"1\" class=\"dataframe\"><thead><tr><th>police_department</th><th>year</th><th>monthname</th><th>dayname</th><th>gender</th></tr><tr><td>str</td><td>i32</td><td>str</td><td>str</td><td>cat</td></tr></thead><tbody><tr><td>&quot;Mississippi Hi…</td><td>1950</td><td>&quot;June&quot;</td><td>&quot;Wednesday&quot;</td><td>&quot;male&quot;</td></tr><tr><td>&quot;Mississippi Hi…</td><td>1967</td><td>&quot;April&quot;</td><td>&quot;Thursday&quot;</td><td>&quot;male&quot;</td></tr><tr><td>&quot;Mississippi Hi…</td><td>1974</td><td>&quot;April&quot;</td><td>&quot;Monday&quot;</td><td>&quot;male&quot;</td></tr><tr><td>&quot;Mississippi Hi…</td><td>1981</td><td>&quot;March&quot;</td><td>&quot;Monday&quot;</td><td>&quot;male&quot;</td></tr></tbody></table></div>"
      ],
      "text/plain": [
       "shape: (4, 5)\n",
       "┌────────────────────────────┬──────┬───────────┬───────────┬────────┐\n",
       "│ police_department          ┆ year ┆ monthname ┆ dayname   ┆ gender │\n",
       "│ ---                        ┆ ---  ┆ ---       ┆ ---       ┆ ---    │\n",
       "│ str                        ┆ i32  ┆ str       ┆ str       ┆ cat    │\n",
       "╞════════════════════════════╪══════╪═══════════╪═══════════╪════════╡\n",
       "│ Mississippi Highway Patrol ┆ 1950 ┆ June      ┆ Wednesday ┆ male   │\n",
       "│ Mississippi Highway Patrol ┆ 1967 ┆ April     ┆ Thursday  ┆ male   │\n",
       "│ Mississippi Highway Patrol ┆ 1974 ┆ April     ┆ Monday    ┆ male   │\n",
       "│ Mississippi Highway Patrol ┆ 1981 ┆ March     ┆ Monday    ┆ male   │\n",
       "└────────────────────────────┴──────┴───────────┴───────────┴────────┘"
      ]
     },
     "execution_count": 52,
     "metadata": {},
     "output_type": "execute_result"
    }
   ],
   "source": [
    "month_df.select(~pl.selectors.starts_with(\"driver\")).head(4)"
   ]
  },
  {
   "cell_type": "code",
   "execution_count": 59,
   "metadata": {},
   "outputs": [
    {
     "data": {
      "text/html": [
       "<div><style>\n",
       ".dataframe > thead > tr,\n",
       ".dataframe > tbody > tr {\n",
       "  text-align: right;\n",
       "  white-space: pre-wrap;\n",
       "}\n",
       "</style>\n",
       "<small>shape: (4, 3)</small><table border=\"1\" class=\"dataframe\"><thead><tr><th>monthname</th><th>dayname</th><th>police_department</th></tr><tr><td>str</td><td>str</td><td>str</td></tr></thead><tbody><tr><td>&quot;June&quot;</td><td>&quot;Wednesday&quot;</td><td>&quot;Mississippi Hi…</td></tr><tr><td>&quot;April&quot;</td><td>&quot;Thursday&quot;</td><td>&quot;Mississippi Hi…</td></tr><tr><td>&quot;April&quot;</td><td>&quot;Monday&quot;</td><td>&quot;Mississippi Hi…</td></tr><tr><td>&quot;March&quot;</td><td>&quot;Monday&quot;</td><td>&quot;Mississippi Hi…</td></tr></tbody></table></div>"
      ],
      "text/plain": [
       "shape: (4, 3)\n",
       "┌───────────┬───────────┬────────────────────────────┐\n",
       "│ monthname ┆ dayname   ┆ police_department          │\n",
       "│ ---       ┆ ---       ┆ ---                        │\n",
       "│ str       ┆ str       ┆ str                        │\n",
       "╞═══════════╪═══════════╪════════════════════════════╡\n",
       "│ June      ┆ Wednesday ┆ Mississippi Highway Patrol │\n",
       "│ April     ┆ Thursday  ┆ Mississippi Highway Patrol │\n",
       "│ April     ┆ Monday    ┆ Mississippi Highway Patrol │\n",
       "│ March     ┆ Monday    ┆ Mississippi Highway Patrol │\n",
       "└───────────┴───────────┴────────────────────────────┘"
      ]
     },
     "execution_count": 59,
     "metadata": {},
     "output_type": "execute_result"
    }
   ],
   "source": [
    "month_df.select(pl.selectors.ends_with(\"name\") | pl.selectors.starts_with(\"police\")).head(4)"
   ]
  },
  {
   "cell_type": "code",
   "execution_count": 71,
   "metadata": {},
   "outputs": [
    {
     "data": {
      "text/html": [
       "<div><style>\n",
       ".dataframe > thead > tr,\n",
       ".dataframe > tbody > tr {\n",
       "  text-align: right;\n",
       "  white-space: pre-wrap;\n",
       "}\n",
       "</style>\n",
       "<small>shape: (4, 7)</small><table border=\"1\" class=\"dataframe\"><thead><tr><th>driver_gender</th><th>driver_birthdate</th><th>driver_race</th><th>driver_age</th><th>police_department</th><th>monthname</th><th>dayname</th></tr><tr><td>str</td><td>date</td><td>str</td><td>i64</td><td>str</td><td>str</td><td>str</td></tr></thead><tbody><tr><td>&quot;male&quot;</td><td>1950-06-14</td><td>&quot;Black&quot;</td><td>63</td><td>&quot;Mississippi Hi…</td><td>&quot;June&quot;</td><td>&quot;Wednesday&quot;</td></tr><tr><td>&quot;male&quot;</td><td>1967-04-06</td><td>&quot;Black&quot;</td><td>46</td><td>&quot;Mississippi Hi…</td><td>&quot;April&quot;</td><td>&quot;Thursday&quot;</td></tr><tr><td>&quot;male&quot;</td><td>1974-04-15</td><td>&quot;Black&quot;</td><td>39</td><td>&quot;Mississippi Hi…</td><td>&quot;April&quot;</td><td>&quot;Monday&quot;</td></tr><tr><td>&quot;male&quot;</td><td>1981-03-23</td><td>&quot;White&quot;</td><td>32</td><td>&quot;Mississippi Hi…</td><td>&quot;March&quot;</td><td>&quot;Monday&quot;</td></tr></tbody></table></div>"
      ],
      "text/plain": [
       "shape: (4, 7)\n",
       "┌───────────────┬───────────────┬─────────────┬────────────┬───────────────┬───────────┬───────────┐\n",
       "│ driver_gender ┆ driver_birthd ┆ driver_race ┆ driver_age ┆ police_depart ┆ monthname ┆ dayname   │\n",
       "│ ---           ┆ ate           ┆ ---         ┆ ---        ┆ ment          ┆ ---       ┆ ---       │\n",
       "│ str           ┆ ---           ┆ str         ┆ i64        ┆ ---           ┆ str       ┆ str       │\n",
       "│               ┆ date          ┆             ┆            ┆ str           ┆           ┆           │\n",
       "╞═══════════════╪═══════════════╪═════════════╪════════════╪═══════════════╪═══════════╪═══════════╡\n",
       "│ male          ┆ 1950-06-14    ┆ Black       ┆ 63         ┆ Mississippi   ┆ June      ┆ Wednesday │\n",
       "│               ┆               ┆             ┆            ┆ Highway       ┆           ┆           │\n",
       "│               ┆               ┆             ┆            ┆ Patrol        ┆           ┆           │\n",
       "│ male          ┆ 1967-04-06    ┆ Black       ┆ 46         ┆ Mississippi   ┆ April     ┆ Thursday  │\n",
       "│               ┆               ┆             ┆            ┆ Highway       ┆           ┆           │\n",
       "│               ┆               ┆             ┆            ┆ Patrol        ┆           ┆           │\n",
       "│ male          ┆ 1974-04-15    ┆ Black       ┆ 39         ┆ Mississippi   ┆ April     ┆ Monday    │\n",
       "│               ┆               ┆             ┆            ┆ Highway       ┆           ┆           │\n",
       "│               ┆               ┆             ┆            ┆ Patrol        ┆           ┆           │\n",
       "│ male          ┆ 1981-03-23    ┆ White       ┆ 32         ┆ Mississippi   ┆ March     ┆ Monday    │\n",
       "│               ┆               ┆             ┆            ┆ Highway       ┆           ┆           │\n",
       "│               ┆               ┆             ┆            ┆ Patrol        ┆           ┆           │\n",
       "└───────────────┴───────────────┴─────────────┴────────────┴───────────────┴───────────┴───────────┘"
      ]
     },
     "execution_count": 71,
     "metadata": {},
     "output_type": "execute_result"
    }
   ],
   "source": [
    "month_df.select(pl.selectors.starts_with(\"driver\") | pl.selectors.string()).head(4)"
   ]
  },
  {
   "cell_type": "code",
   "execution_count": 72,
   "metadata": {},
   "outputs": [
    {
     "data": {
      "text/html": [
       "<div><style>\n",
       ".dataframe > thead > tr,\n",
       ".dataframe > tbody > tr {\n",
       "  text-align: right;\n",
       "  white-space: pre-wrap;\n",
       "}\n",
       "</style>\n",
       "<small>shape: (4, 5)</small><table border=\"1\" class=\"dataframe\"><thead><tr><th>driver_gender</th><th>driver_birthdate</th><th>driver_race</th><th>driver_age</th><th>gender</th></tr><tr><td>str</td><td>date</td><td>str</td><td>i64</td><td>cat</td></tr></thead><tbody><tr><td>&quot;male&quot;</td><td>1950-06-14</td><td>&quot;Black&quot;</td><td>63</td><td>&quot;male&quot;</td></tr><tr><td>&quot;male&quot;</td><td>1967-04-06</td><td>&quot;Black&quot;</td><td>46</td><td>&quot;male&quot;</td></tr><tr><td>&quot;male&quot;</td><td>1974-04-15</td><td>&quot;Black&quot;</td><td>39</td><td>&quot;male&quot;</td></tr><tr><td>&quot;male&quot;</td><td>1981-03-23</td><td>&quot;White&quot;</td><td>32</td><td>&quot;male&quot;</td></tr></tbody></table></div>"
      ],
      "text/plain": [
       "shape: (4, 5)\n",
       "┌───────────────┬──────────────────┬─────────────┬────────────┬────────┐\n",
       "│ driver_gender ┆ driver_birthdate ┆ driver_race ┆ driver_age ┆ gender │\n",
       "│ ---           ┆ ---              ┆ ---         ┆ ---        ┆ ---    │\n",
       "│ str           ┆ date             ┆ str         ┆ i64        ┆ cat    │\n",
       "╞═══════════════╪══════════════════╪═════════════╪════════════╪════════╡\n",
       "│ male          ┆ 1950-06-14       ┆ Black       ┆ 63         ┆ male   │\n",
       "│ male          ┆ 1967-04-06       ┆ Black       ┆ 46         ┆ male   │\n",
       "│ male          ┆ 1974-04-15       ┆ Black       ┆ 39         ┆ male   │\n",
       "│ male          ┆ 1981-03-23       ┆ White       ┆ 32         ┆ male   │\n",
       "└───────────────┴──────────────────┴─────────────┴────────────┴────────┘"
      ]
     },
     "execution_count": 72,
     "metadata": {},
     "output_type": "execute_result"
    }
   ],
   "source": [
    "month_df.select(pl.selectors.starts_with(\"driver\") , pl.selectors.categorical()).head(4)"
   ]
  },
  {
   "cell_type": "code",
   "execution_count": 69,
   "metadata": {},
   "outputs": [
    {
     "data": {
      "text/html": [
       "<div><style>\n",
       ".dataframe > thead > tr,\n",
       ".dataframe > tbody > tr {\n",
       "  text-align: right;\n",
       "  white-space: pre-wrap;\n",
       "}\n",
       "</style>\n",
       "<small>shape: (4, 2)</small><table border=\"1\" class=\"dataframe\"><thead><tr><th>driver_gender</th><th>driver_race</th></tr><tr><td>str</td><td>str</td></tr></thead><tbody><tr><td>&quot;male&quot;</td><td>&quot;Black&quot;</td></tr><tr><td>&quot;male&quot;</td><td>&quot;Black&quot;</td></tr><tr><td>&quot;male&quot;</td><td>&quot;Black&quot;</td></tr><tr><td>&quot;male&quot;</td><td>&quot;White&quot;</td></tr></tbody></table></div>"
      ],
      "text/plain": [
       "shape: (4, 2)\n",
       "┌───────────────┬─────────────┐\n",
       "│ driver_gender ┆ driver_race │\n",
       "│ ---           ┆ ---         │\n",
       "│ str           ┆ str         │\n",
       "╞═══════════════╪═════════════╡\n",
       "│ male          ┆ Black       │\n",
       "│ male          ┆ Black       │\n",
       "│ male          ┆ Black       │\n",
       "│ male          ┆ White       │\n",
       "└───────────────┴─────────────┘"
      ]
     },
     "execution_count": 69,
     "metadata": {},
     "output_type": "execute_result"
    }
   ],
   "source": [
    "month_df.select(pl.selectors.starts_with(\"driver\") & pl.selectors.string()).head(4)"
   ]
  },
  {
   "cell_type": "code",
   "execution_count": 39,
   "metadata": {},
   "outputs": [
    {
     "data": {
      "text/html": [
       "<div><style>\n",
       ".dataframe > thead > tr,\n",
       ".dataframe > tbody > tr {\n",
       "  text-align: right;\n",
       "  white-space: pre-wrap;\n",
       "}\n",
       "</style>\n",
       "<small>shape: (3, 4)</small><table border=\"1\" class=\"dataframe\"><thead><tr><th>driver_gender</th><th>driver_race</th><th>driver_age</th><th>driver_birthdate</th></tr><tr><td>str</td><td>str</td><td>i64</td><td>date</td></tr></thead><tbody><tr><td>&quot;male&quot;</td><td>&quot;Black&quot;</td><td>63</td><td>1950-06-14</td></tr><tr><td>&quot;male&quot;</td><td>&quot;Black&quot;</td><td>46</td><td>1967-04-06</td></tr><tr><td>&quot;male&quot;</td><td>&quot;Black&quot;</td><td>39</td><td>1974-04-15</td></tr></tbody></table></div>"
      ],
      "text/plain": [
       "shape: (3, 4)\n",
       "┌───────────────┬─────────────┬────────────┬──────────────────┐\n",
       "│ driver_gender ┆ driver_race ┆ driver_age ┆ driver_birthdate │\n",
       "│ ---           ┆ ---         ┆ ---        ┆ ---              │\n",
       "│ str           ┆ str         ┆ i64        ┆ date             │\n",
       "╞═══════════════╪═════════════╪════════════╪══════════════════╡\n",
       "│ male          ┆ Black       ┆ 63         ┆ 1950-06-14       │\n",
       "│ male          ┆ Black       ┆ 46         ┆ 1967-04-06       │\n",
       "│ male          ┆ Black       ┆ 39         ┆ 1974-04-15       │\n",
       "└───────────────┴─────────────┴────────────┴──────────────────┘"
      ]
     },
     "execution_count": 39,
     "metadata": {},
     "output_type": "execute_result"
    }
   ],
   "source": [
    "month_df.select('driver_gender', 'driver_race', 'driver_age', 'driver_birthdate').head(3)"
   ]
  },
  {
   "cell_type": "markdown",
   "metadata": {},
   "source": [
    "### Filter"
   ]
  },
  {
   "cell_type": "code",
   "execution_count": 74,
   "metadata": {},
   "outputs": [
    {
     "data": {
      "text/html": [
       "<div><style>\n",
       ".dataframe > thead > tr,\n",
       ".dataframe > tbody > tr {\n",
       "  text-align: right;\n",
       "  white-space: pre-wrap;\n",
       "}\n",
       "</style>\n",
       "<small>shape: (4, 9)</small><table border=\"1\" class=\"dataframe\"><thead><tr><th>driver_gender</th><th>driver_birthdate</th><th>driver_race</th><th>driver_age</th><th>police_department</th><th>year</th><th>monthname</th><th>dayname</th><th>gender</th></tr><tr><td>str</td><td>date</td><td>str</td><td>i64</td><td>str</td><td>i32</td><td>str</td><td>str</td><td>cat</td></tr></thead><tbody><tr><td>&quot;male&quot;</td><td>1950-06-14</td><td>&quot;Black&quot;</td><td>63</td><td>&quot;Mississippi Hi…</td><td>1950</td><td>&quot;June&quot;</td><td>&quot;Wednesday&quot;</td><td>&quot;male&quot;</td></tr><tr><td>&quot;male&quot;</td><td>1967-04-06</td><td>&quot;Black&quot;</td><td>46</td><td>&quot;Mississippi Hi…</td><td>1967</td><td>&quot;April&quot;</td><td>&quot;Thursday&quot;</td><td>&quot;male&quot;</td></tr><tr><td>&quot;male&quot;</td><td>1974-04-15</td><td>&quot;Black&quot;</td><td>39</td><td>&quot;Mississippi Hi…</td><td>1974</td><td>&quot;April&quot;</td><td>&quot;Monday&quot;</td><td>&quot;male&quot;</td></tr><tr><td>&quot;male&quot;</td><td>1981-03-23</td><td>&quot;White&quot;</td><td>32</td><td>&quot;Mississippi Hi…</td><td>1981</td><td>&quot;March&quot;</td><td>&quot;Monday&quot;</td><td>&quot;male&quot;</td></tr></tbody></table></div>"
      ],
      "text/plain": [
       "shape: (4, 9)\n",
       "┌─────────────┬─────────────┬─────────────┬────────────┬───┬──────┬───────────┬───────────┬────────┐\n",
       "│ driver_gend ┆ driver_birt ┆ driver_race ┆ driver_age ┆ … ┆ year ┆ monthname ┆ dayname   ┆ gender │\n",
       "│ er          ┆ hdate       ┆ ---         ┆ ---        ┆   ┆ ---  ┆ ---       ┆ ---       ┆ ---    │\n",
       "│ ---         ┆ ---         ┆ str         ┆ i64        ┆   ┆ i32  ┆ str       ┆ str       ┆ cat    │\n",
       "│ str         ┆ date        ┆             ┆            ┆   ┆      ┆           ┆           ┆        │\n",
       "╞═════════════╪═════════════╪═════════════╪════════════╪═══╪══════╪═══════════╪═══════════╪════════╡\n",
       "│ male        ┆ 1950-06-14  ┆ Black       ┆ 63         ┆ … ┆ 1950 ┆ June      ┆ Wednesday ┆ male   │\n",
       "│ male        ┆ 1967-04-06  ┆ Black       ┆ 46         ┆ … ┆ 1967 ┆ April     ┆ Thursday  ┆ male   │\n",
       "│ male        ┆ 1974-04-15  ┆ Black       ┆ 39         ┆ … ┆ 1974 ┆ April     ┆ Monday    ┆ male   │\n",
       "│ male        ┆ 1981-03-23  ┆ White       ┆ 32         ┆ … ┆ 1981 ┆ March     ┆ Monday    ┆ male   │\n",
       "└─────────────┴─────────────┴─────────────┴────────────┴───┴──────┴───────────┴───────────┴────────┘"
      ]
     },
     "execution_count": 74,
     "metadata": {},
     "output_type": "execute_result"
    }
   ],
   "source": [
    "month_df.filter(gender = 'male').head(4)"
   ]
  },
  {
   "cell_type": "code",
   "execution_count": 75,
   "metadata": {},
   "outputs": [
    {
     "data": {
      "text/html": [
       "<div><style>\n",
       ".dataframe > thead > tr,\n",
       ".dataframe > tbody > tr {\n",
       "  text-align: right;\n",
       "  white-space: pre-wrap;\n",
       "}\n",
       "</style>\n",
       "<small>shape: (4, 9)</small><table border=\"1\" class=\"dataframe\"><thead><tr><th>driver_gender</th><th>driver_birthdate</th><th>driver_race</th><th>driver_age</th><th>police_department</th><th>year</th><th>monthname</th><th>dayname</th><th>gender</th></tr><tr><td>str</td><td>date</td><td>str</td><td>i64</td><td>str</td><td>i32</td><td>str</td><td>str</td><td>cat</td></tr></thead><tbody><tr><td>&quot;male&quot;</td><td>1974-04-15</td><td>&quot;Black&quot;</td><td>39</td><td>&quot;Mississippi Hi…</td><td>1974</td><td>&quot;April&quot;</td><td>&quot;Monday&quot;</td><td>&quot;male&quot;</td></tr><tr><td>&quot;male&quot;</td><td>1981-03-23</td><td>&quot;White&quot;</td><td>32</td><td>&quot;Mississippi Hi…</td><td>1981</td><td>&quot;March&quot;</td><td>&quot;Monday&quot;</td><td>&quot;male&quot;</td></tr><tr><td>&quot;male&quot;</td><td>1992-08-03</td><td>&quot;White&quot;</td><td>20</td><td>&quot;Mississippi Hi…</td><td>1992</td><td>&quot;August&quot;</td><td>&quot;Monday&quot;</td><td>&quot;male&quot;</td></tr><tr><td>&quot;male&quot;</td><td>1966-09-19</td><td>&quot;White&quot;</td><td>46</td><td>&quot;Mississippi Hi…</td><td>1966</td><td>&quot;September&quot;</td><td>&quot;Monday&quot;</td><td>&quot;male&quot;</td></tr></tbody></table></div>"
      ],
      "text/plain": [
       "shape: (4, 9)\n",
       "┌──────────────┬──────────────┬─────────────┬────────────┬───┬──────┬───────────┬─────────┬────────┐\n",
       "│ driver_gende ┆ driver_birth ┆ driver_race ┆ driver_age ┆ … ┆ year ┆ monthname ┆ dayname ┆ gender │\n",
       "│ r            ┆ date         ┆ ---         ┆ ---        ┆   ┆ ---  ┆ ---       ┆ ---     ┆ ---    │\n",
       "│ ---          ┆ ---          ┆ str         ┆ i64        ┆   ┆ i32  ┆ str       ┆ str     ┆ cat    │\n",
       "│ str          ┆ date         ┆             ┆            ┆   ┆      ┆           ┆         ┆        │\n",
       "╞══════════════╪══════════════╪═════════════╪════════════╪═══╪══════╪═══════════╪═════════╪════════╡\n",
       "│ male         ┆ 1974-04-15   ┆ Black       ┆ 39         ┆ … ┆ 1974 ┆ April     ┆ Monday  ┆ male   │\n",
       "│ male         ┆ 1981-03-23   ┆ White       ┆ 32         ┆ … ┆ 1981 ┆ March     ┆ Monday  ┆ male   │\n",
       "│ male         ┆ 1992-08-03   ┆ White       ┆ 20         ┆ … ┆ 1992 ┆ August    ┆ Monday  ┆ male   │\n",
       "│ male         ┆ 1966-09-19   ┆ White       ┆ 46         ┆ … ┆ 1966 ┆ September ┆ Monday  ┆ male   │\n",
       "└──────────────┴──────────────┴─────────────┴────────────┴───┴──────┴───────────┴─────────┴────────┘"
      ]
     },
     "execution_count": 75,
     "metadata": {},
     "output_type": "execute_result"
    }
   ],
   "source": [
    "month_df.filter(gender = 'male', dayname = 'Monday').head(4)"
   ]
  },
  {
   "cell_type": "code",
   "execution_count": 118,
   "metadata": {},
   "outputs": [
    {
     "data": {
      "text/html": [
       "<div><style>\n",
       ".dataframe > thead > tr,\n",
       ".dataframe > tbody > tr {\n",
       "  text-align: right;\n",
       "  white-space: pre-wrap;\n",
       "}\n",
       "</style>\n",
       "<small>shape: (4, 9)</small><table border=\"1\" class=\"dataframe\"><thead><tr><th>driver_gender</th><th>driver_birthdate</th><th>driver_race</th><th>driver_age</th><th>police_department</th><th>year</th><th>monthname</th><th>dayname</th><th>gender</th></tr><tr><td>str</td><td>date</td><td>str</td><td>i64</td><td>str</td><td>i32</td><td>str</td><td>str</td><td>cat</td></tr></thead><tbody><tr><td>&quot;male&quot;</td><td>1978-10-27</td><td>&quot;White&quot;</td><td>34</td><td>&quot;Mississippi Hi…</td><td>1978</td><td>&quot;October&quot;</td><td>&quot;Friday&quot;</td><td>&quot;male&quot;</td></tr><tr><td>&quot;male&quot;</td><td>1978-10-27</td><td>&quot;White&quot;</td><td>34</td><td>&quot;Mississippi Hi…</td><td>1978</td><td>&quot;October&quot;</td><td>&quot;Friday&quot;</td><td>&quot;male&quot;</td></tr><tr><td>&quot;male&quot;</td><td>1942-02-22</td><td>&quot;Black&quot;</td><td>71</td><td>&quot;Mississippi Hi…</td><td>1942</td><td>&quot;February&quot;</td><td>&quot;Sunday&quot;</td><td>&quot;male&quot;</td></tr><tr><td>&quot;male&quot;</td><td>1958-09-21</td><td>&quot;White&quot;</td><td>54</td><td>&quot;Mississippi Hi…</td><td>1958</td><td>&quot;September&quot;</td><td>&quot;Sunday&quot;</td><td>&quot;male&quot;</td></tr></tbody></table></div>"
      ],
      "text/plain": [
       "shape: (4, 9)\n",
       "┌──────────────┬──────────────┬─────────────┬────────────┬───┬──────┬───────────┬─────────┬────────┐\n",
       "│ driver_gende ┆ driver_birth ┆ driver_race ┆ driver_age ┆ … ┆ year ┆ monthname ┆ dayname ┆ gender │\n",
       "│ r            ┆ date         ┆ ---         ┆ ---        ┆   ┆ ---  ┆ ---       ┆ ---     ┆ ---    │\n",
       "│ ---          ┆ ---          ┆ str         ┆ i64        ┆   ┆ i32  ┆ str       ┆ str     ┆ cat    │\n",
       "│ str          ┆ date         ┆             ┆            ┆   ┆      ┆           ┆         ┆        │\n",
       "╞══════════════╪══════════════╪═════════════╪════════════╪═══╪══════╪═══════════╪═════════╪════════╡\n",
       "│ male         ┆ 1978-10-27   ┆ White       ┆ 34         ┆ … ┆ 1978 ┆ October   ┆ Friday  ┆ male   │\n",
       "│ male         ┆ 1978-10-27   ┆ White       ┆ 34         ┆ … ┆ 1978 ┆ October   ┆ Friday  ┆ male   │\n",
       "│ male         ┆ 1942-02-22   ┆ Black       ┆ 71         ┆ … ┆ 1942 ┆ February  ┆ Sunday  ┆ male   │\n",
       "│ male         ┆ 1958-09-21   ┆ White       ┆ 54         ┆ … ┆ 1958 ┆ September ┆ Sunday  ┆ male   │\n",
       "└──────────────┴──────────────┴─────────────┴────────────┴───┴──────┴───────────┴─────────┴────────┘"
      ]
     },
     "execution_count": 118,
     "metadata": {},
     "output_type": "execute_result"
    }
   ],
   "source": [
    "month_df.filter(pl.col('dayname').is_in(['Friday', 'Sunday'])).head(4)"
   ]
  },
  {
   "cell_type": "code",
   "execution_count": 119,
   "metadata": {},
   "outputs": [
    {
     "data": {
      "text/html": [
       "<div><style>\n",
       ".dataframe > thead > tr,\n",
       ".dataframe > tbody > tr {\n",
       "  text-align: right;\n",
       "  white-space: pre-wrap;\n",
       "}\n",
       "</style>\n",
       "<small>shape: (4, 9)</small><table border=\"1\" class=\"dataframe\"><thead><tr><th>driver_gender</th><th>driver_birthdate</th><th>driver_race</th><th>driver_age</th><th>police_department</th><th>year</th><th>monthname</th><th>dayname</th><th>gender</th></tr><tr><td>str</td><td>date</td><td>str</td><td>i64</td><td>str</td><td>i32</td><td>str</td><td>str</td><td>cat</td></tr></thead><tbody><tr><td>&quot;male&quot;</td><td>1950-06-14</td><td>&quot;Black&quot;</td><td>63</td><td>&quot;Mississippi Hi…</td><td>1950</td><td>&quot;June&quot;</td><td>&quot;Wednesday&quot;</td><td>&quot;male&quot;</td></tr><tr><td>&quot;male&quot;</td><td>1967-04-06</td><td>&quot;Black&quot;</td><td>46</td><td>&quot;Mississippi Hi…</td><td>1967</td><td>&quot;April&quot;</td><td>&quot;Thursday&quot;</td><td>&quot;male&quot;</td></tr><tr><td>&quot;male&quot;</td><td>1974-04-15</td><td>&quot;Black&quot;</td><td>39</td><td>&quot;Mississippi Hi…</td><td>1974</td><td>&quot;April&quot;</td><td>&quot;Monday&quot;</td><td>&quot;male&quot;</td></tr><tr><td>&quot;male&quot;</td><td>1981-03-23</td><td>&quot;White&quot;</td><td>32</td><td>&quot;Mississippi Hi…</td><td>1981</td><td>&quot;March&quot;</td><td>&quot;Monday&quot;</td><td>&quot;male&quot;</td></tr></tbody></table></div>"
      ],
      "text/plain": [
       "shape: (4, 9)\n",
       "┌─────────────┬─────────────┬─────────────┬────────────┬───┬──────┬───────────┬───────────┬────────┐\n",
       "│ driver_gend ┆ driver_birt ┆ driver_race ┆ driver_age ┆ … ┆ year ┆ monthname ┆ dayname   ┆ gender │\n",
       "│ er          ┆ hdate       ┆ ---         ┆ ---        ┆   ┆ ---  ┆ ---       ┆ ---       ┆ ---    │\n",
       "│ ---         ┆ ---         ┆ str         ┆ i64        ┆   ┆ i32  ┆ str       ┆ str       ┆ cat    │\n",
       "│ str         ┆ date        ┆             ┆            ┆   ┆      ┆           ┆           ┆        │\n",
       "╞═════════════╪═════════════╪═════════════╪════════════╪═══╪══════╪═══════════╪═══════════╪════════╡\n",
       "│ male        ┆ 1950-06-14  ┆ Black       ┆ 63         ┆ … ┆ 1950 ┆ June      ┆ Wednesday ┆ male   │\n",
       "│ male        ┆ 1967-04-06  ┆ Black       ┆ 46         ┆ … ┆ 1967 ┆ April     ┆ Thursday  ┆ male   │\n",
       "│ male        ┆ 1974-04-15  ┆ Black       ┆ 39         ┆ … ┆ 1974 ┆ April     ┆ Monday    ┆ male   │\n",
       "│ male        ┆ 1981-03-23  ┆ White       ┆ 32         ┆ … ┆ 1981 ┆ March     ┆ Monday    ┆ male   │\n",
       "└─────────────┴─────────────┴─────────────┴────────────┴───┴──────┴───────────┴───────────┴────────┘"
      ]
     },
     "execution_count": 119,
     "metadata": {},
     "output_type": "execute_result"
    }
   ],
   "source": [
    "month_df.filter(~pl.col('dayname').is_in(['Friday', 'Sunday'])).head(4)"
   ]
  },
  {
   "cell_type": "code",
   "execution_count": 80,
   "metadata": {},
   "outputs": [
    {
     "data": {
      "text/html": [
       "<div><style>\n",
       ".dataframe > thead > tr,\n",
       ".dataframe > tbody > tr {\n",
       "  text-align: right;\n",
       "  white-space: pre-wrap;\n",
       "}\n",
       "</style>\n",
       "<small>shape: (4, 9)</small><table border=\"1\" class=\"dataframe\"><thead><tr><th>driver_gender</th><th>driver_birthdate</th><th>driver_race</th><th>driver_age</th><th>police_department</th><th>year</th><th>monthname</th><th>dayname</th><th>gender</th></tr><tr><td>str</td><td>date</td><td>str</td><td>i64</td><td>str</td><td>i32</td><td>str</td><td>str</td><td>cat</td></tr></thead><tbody><tr><td>&quot;male&quot;</td><td>1974-04-15</td><td>&quot;Black&quot;</td><td>39</td><td>&quot;Mississippi Hi…</td><td>1974</td><td>&quot;April&quot;</td><td>&quot;Monday&quot;</td><td>&quot;male&quot;</td></tr><tr><td>&quot;male&quot;</td><td>1981-03-23</td><td>&quot;White&quot;</td><td>32</td><td>&quot;Mississippi Hi…</td><td>1981</td><td>&quot;March&quot;</td><td>&quot;Monday&quot;</td><td>&quot;male&quot;</td></tr><tr><td>&quot;male&quot;</td><td>1992-08-03</td><td>&quot;White&quot;</td><td>20</td><td>&quot;Mississippi Hi…</td><td>1992</td><td>&quot;August&quot;</td><td>&quot;Monday&quot;</td><td>&quot;male&quot;</td></tr><tr><td>&quot;male&quot;</td><td>1966-09-19</td><td>&quot;White&quot;</td><td>46</td><td>&quot;Mississippi Hi…</td><td>1966</td><td>&quot;September&quot;</td><td>&quot;Monday&quot;</td><td>&quot;male&quot;</td></tr></tbody></table></div>"
      ],
      "text/plain": [
       "shape: (4, 9)\n",
       "┌──────────────┬──────────────┬─────────────┬────────────┬───┬──────┬───────────┬─────────┬────────┐\n",
       "│ driver_gende ┆ driver_birth ┆ driver_race ┆ driver_age ┆ … ┆ year ┆ monthname ┆ dayname ┆ gender │\n",
       "│ r            ┆ date         ┆ ---         ┆ ---        ┆   ┆ ---  ┆ ---       ┆ ---     ┆ ---    │\n",
       "│ ---          ┆ ---          ┆ str         ┆ i64        ┆   ┆ i32  ┆ str       ┆ str     ┆ cat    │\n",
       "│ str          ┆ date         ┆             ┆            ┆   ┆      ┆           ┆         ┆        │\n",
       "╞══════════════╪══════════════╪═════════════╪════════════╪═══╪══════╪═══════════╪═════════╪════════╡\n",
       "│ male         ┆ 1974-04-15   ┆ Black       ┆ 39         ┆ … ┆ 1974 ┆ April     ┆ Monday  ┆ male   │\n",
       "│ male         ┆ 1981-03-23   ┆ White       ┆ 32         ┆ … ┆ 1981 ┆ March     ┆ Monday  ┆ male   │\n",
       "│ male         ┆ 1992-08-03   ┆ White       ┆ 20         ┆ … ┆ 1992 ┆ August    ┆ Monday  ┆ male   │\n",
       "│ male         ┆ 1966-09-19   ┆ White       ┆ 46         ┆ … ┆ 1966 ┆ September ┆ Monday  ┆ male   │\n",
       "└──────────────┴──────────────┴─────────────┴────────────┴───┴──────┴───────────┴─────────┴────────┘"
      ]
     },
     "execution_count": 80,
     "metadata": {},
     "output_type": "execute_result"
    }
   ],
   "source": [
    "month_df.filter(pl.col('gender') == 'male', dayname = 'Monday').head(4)"
   ]
  },
  {
   "cell_type": "code",
   "execution_count": 91,
   "metadata": {},
   "outputs": [
    {
     "data": {
      "text/html": [
       "<div><style>\n",
       ".dataframe > thead > tr,\n",
       ".dataframe > tbody > tr {\n",
       "  text-align: right;\n",
       "  white-space: pre-wrap;\n",
       "}\n",
       "</style>\n",
       "<small>shape: (4, 9)</small><table border=\"1\" class=\"dataframe\"><thead><tr><th>driver_gender</th><th>driver_birthdate</th><th>driver_race</th><th>driver_age</th><th>police_department</th><th>year</th><th>monthname</th><th>dayname</th><th>gender</th></tr><tr><td>str</td><td>date</td><td>str</td><td>i64</td><td>str</td><td>i32</td><td>str</td><td>str</td><td>cat</td></tr></thead><tbody><tr><td>&quot;male&quot;</td><td>1950-08-21</td><td>&quot;White&quot;</td><td>62</td><td>&quot;Mississippi Hi…</td><td>1950</td><td>&quot;August&quot;</td><td>&quot;Monday&quot;</td><td>&quot;male&quot;</td></tr><tr><td>&quot;male&quot;</td><td>1950-03-06</td><td>&quot;White&quot;</td><td>63</td><td>&quot;Mississippi Hi…</td><td>1950</td><td>&quot;March&quot;</td><td>&quot;Monday&quot;</td><td>&quot;male&quot;</td></tr><tr><td>&quot;male&quot;</td><td>1950-08-14</td><td>&quot;White&quot;</td><td>63</td><td>&quot;Mississippi Hi…</td><td>1950</td><td>&quot;August&quot;</td><td>&quot;Monday&quot;</td><td>&quot;male&quot;</td></tr><tr><td>&quot;male&quot;</td><td>1950-04-17</td><td>&quot;White&quot;</td><td>63</td><td>&quot;Mississippi Hi…</td><td>1950</td><td>&quot;April&quot;</td><td>&quot;Monday&quot;</td><td>&quot;male&quot;</td></tr></tbody></table></div>"
      ],
      "text/plain": [
       "shape: (4, 9)\n",
       "┌──────────────┬──────────────┬─────────────┬────────────┬───┬──────┬───────────┬─────────┬────────┐\n",
       "│ driver_gende ┆ driver_birth ┆ driver_race ┆ driver_age ┆ … ┆ year ┆ monthname ┆ dayname ┆ gender │\n",
       "│ r            ┆ date         ┆ ---         ┆ ---        ┆   ┆ ---  ┆ ---       ┆ ---     ┆ ---    │\n",
       "│ ---          ┆ ---          ┆ str         ┆ i64        ┆   ┆ i32  ┆ str       ┆ str     ┆ cat    │\n",
       "│ str          ┆ date         ┆             ┆            ┆   ┆      ┆           ┆         ┆        │\n",
       "╞══════════════╪══════════════╪═════════════╪════════════╪═══╪══════╪═══════════╪═════════╪════════╡\n",
       "│ male         ┆ 1950-08-21   ┆ White       ┆ 62         ┆ … ┆ 1950 ┆ August    ┆ Monday  ┆ male   │\n",
       "│ male         ┆ 1950-03-06   ┆ White       ┆ 63         ┆ … ┆ 1950 ┆ March     ┆ Monday  ┆ male   │\n",
       "│ male         ┆ 1950-08-14   ┆ White       ┆ 63         ┆ … ┆ 1950 ┆ August    ┆ Monday  ┆ male   │\n",
       "│ male         ┆ 1950-04-17   ┆ White       ┆ 63         ┆ … ┆ 1950 ┆ April     ┆ Monday  ┆ male   │\n",
       "└──────────────┴──────────────┴─────────────┴────────────┴───┴──────┴───────────┴─────────┴────────┘"
      ]
     },
     "execution_count": 91,
     "metadata": {},
     "output_type": "execute_result"
    }
   ],
   "source": [
    "month_df.filter(gender = 'male', dayname = 'Monday', year = 1950).head(4)"
   ]
  },
  {
   "cell_type": "code",
   "execution_count": 93,
   "metadata": {},
   "outputs": [
    {
     "data": {
      "text/html": [
       "<div><style>\n",
       ".dataframe > thead > tr,\n",
       ".dataframe > tbody > tr {\n",
       "  text-align: right;\n",
       "  white-space: pre-wrap;\n",
       "}\n",
       "</style>\n",
       "<small>shape: (4, 9)</small><table border=\"1\" class=\"dataframe\"><thead><tr><th>driver_gender</th><th>driver_birthdate</th><th>driver_race</th><th>driver_age</th><th>police_department</th><th>year</th><th>monthname</th><th>dayname</th><th>gender</th></tr><tr><td>str</td><td>date</td><td>str</td><td>i64</td><td>str</td><td>i32</td><td>str</td><td>str</td><td>cat</td></tr></thead><tbody><tr><td>&quot;male&quot;</td><td>1950-06-14</td><td>&quot;Black&quot;</td><td>63</td><td>&quot;Mississippi Hi…</td><td>1950</td><td>&quot;June&quot;</td><td>&quot;Wednesday&quot;</td><td>&quot;male&quot;</td></tr><tr><td>&quot;male&quot;</td><td>1967-04-06</td><td>&quot;Black&quot;</td><td>46</td><td>&quot;Mississippi Hi…</td><td>1967</td><td>&quot;April&quot;</td><td>&quot;Thursday&quot;</td><td>&quot;male&quot;</td></tr><tr><td>&quot;male&quot;</td><td>1974-04-15</td><td>&quot;Black&quot;</td><td>39</td><td>&quot;Mississippi Hi…</td><td>1974</td><td>&quot;April&quot;</td><td>&quot;Monday&quot;</td><td>&quot;male&quot;</td></tr><tr><td>&quot;male&quot;</td><td>1981-03-23</td><td>&quot;White&quot;</td><td>32</td><td>&quot;Mississippi Hi…</td><td>1981</td><td>&quot;March&quot;</td><td>&quot;Monday&quot;</td><td>&quot;male&quot;</td></tr></tbody></table></div>"
      ],
      "text/plain": [
       "shape: (4, 9)\n",
       "┌─────────────┬─────────────┬─────────────┬────────────┬───┬──────┬───────────┬───────────┬────────┐\n",
       "│ driver_gend ┆ driver_birt ┆ driver_race ┆ driver_age ┆ … ┆ year ┆ monthname ┆ dayname   ┆ gender │\n",
       "│ er          ┆ hdate       ┆ ---         ┆ ---        ┆   ┆ ---  ┆ ---       ┆ ---       ┆ ---    │\n",
       "│ ---         ┆ ---         ┆ str         ┆ i64        ┆   ┆ i32  ┆ str       ┆ str       ┆ cat    │\n",
       "│ str         ┆ date        ┆             ┆            ┆   ┆      ┆           ┆           ┆        │\n",
       "╞═════════════╪═════════════╪═════════════╪════════════╪═══╪══════╪═══════════╪═══════════╪════════╡\n",
       "│ male        ┆ 1950-06-14  ┆ Black       ┆ 63         ┆ … ┆ 1950 ┆ June      ┆ Wednesday ┆ male   │\n",
       "│ male        ┆ 1967-04-06  ┆ Black       ┆ 46         ┆ … ┆ 1967 ┆ April     ┆ Thursday  ┆ male   │\n",
       "│ male        ┆ 1974-04-15  ┆ Black       ┆ 39         ┆ … ┆ 1974 ┆ April     ┆ Monday    ┆ male   │\n",
       "│ male        ┆ 1981-03-23  ┆ White       ┆ 32         ┆ … ┆ 1981 ┆ March     ┆ Monday    ┆ male   │\n",
       "└─────────────┴─────────────┴─────────────┴────────────┴───┴──────┴───────────┴───────────┴────────┘"
      ]
     },
     "execution_count": 93,
     "metadata": {},
     "output_type": "execute_result"
    }
   ],
   "source": [
    "month_df.filter((pl.col('driver_race') == 'Black') | (pl.col('dayname') == 'Monday')).head(4)"
   ]
  },
  {
   "cell_type": "code",
   "execution_count": 94,
   "metadata": {},
   "outputs": [
    {
     "data": {
      "text/html": [
       "<div><style>\n",
       ".dataframe > thead > tr,\n",
       ".dataframe > tbody > tr {\n",
       "  text-align: right;\n",
       "  white-space: pre-wrap;\n",
       "}\n",
       "</style>\n",
       "<small>shape: (4, 9)</small><table border=\"1\" class=\"dataframe\"><thead><tr><th>driver_gender</th><th>driver_birthdate</th><th>driver_race</th><th>driver_age</th><th>police_department</th><th>year</th><th>monthname</th><th>dayname</th><th>gender</th></tr><tr><td>str</td><td>date</td><td>str</td><td>i64</td><td>str</td><td>i32</td><td>str</td><td>str</td><td>cat</td></tr></thead><tbody><tr><td>&quot;male&quot;</td><td>1974-04-15</td><td>&quot;Black&quot;</td><td>39</td><td>&quot;Mississippi Hi…</td><td>1974</td><td>&quot;April&quot;</td><td>&quot;Monday&quot;</td><td>&quot;male&quot;</td></tr><tr><td>&quot;female&quot;</td><td>1974-05-13</td><td>&quot;Black&quot;</td><td>39</td><td>&quot;Mississippi Hi…</td><td>1974</td><td>&quot;May&quot;</td><td>&quot;Monday&quot;</td><td>&quot;female&quot;</td></tr><tr><td>&quot;male&quot;</td><td>1981-02-02</td><td>&quot;Black&quot;</td><td>32</td><td>&quot;Mississippi Hi…</td><td>1981</td><td>&quot;February&quot;</td><td>&quot;Monday&quot;</td><td>&quot;male&quot;</td></tr><tr><td>&quot;female&quot;</td><td>1970-09-14</td><td>&quot;Black&quot;</td><td>42</td><td>&quot;Mississippi Hi…</td><td>1970</td><td>&quot;September&quot;</td><td>&quot;Monday&quot;</td><td>&quot;female&quot;</td></tr></tbody></table></div>"
      ],
      "text/plain": [
       "shape: (4, 9)\n",
       "┌──────────────┬──────────────┬─────────────┬────────────┬───┬──────┬───────────┬─────────┬────────┐\n",
       "│ driver_gende ┆ driver_birth ┆ driver_race ┆ driver_age ┆ … ┆ year ┆ monthname ┆ dayname ┆ gender │\n",
       "│ r            ┆ date         ┆ ---         ┆ ---        ┆   ┆ ---  ┆ ---       ┆ ---     ┆ ---    │\n",
       "│ ---          ┆ ---          ┆ str         ┆ i64        ┆   ┆ i32  ┆ str       ┆ str     ┆ cat    │\n",
       "│ str          ┆ date         ┆             ┆            ┆   ┆      ┆           ┆         ┆        │\n",
       "╞══════════════╪══════════════╪═════════════╪════════════╪═══╪══════╪═══════════╪═════════╪════════╡\n",
       "│ male         ┆ 1974-04-15   ┆ Black       ┆ 39         ┆ … ┆ 1974 ┆ April     ┆ Monday  ┆ male   │\n",
       "│ female       ┆ 1974-05-13   ┆ Black       ┆ 39         ┆ … ┆ 1974 ┆ May       ┆ Monday  ┆ female │\n",
       "│ male         ┆ 1981-02-02   ┆ Black       ┆ 32         ┆ … ┆ 1981 ┆ February  ┆ Monday  ┆ male   │\n",
       "│ female       ┆ 1970-09-14   ┆ Black       ┆ 42         ┆ … ┆ 1970 ┆ September ┆ Monday  ┆ female │\n",
       "└──────────────┴──────────────┴─────────────┴────────────┴───┴──────┴───────────┴─────────┴────────┘"
      ]
     },
     "execution_count": 94,
     "metadata": {},
     "output_type": "execute_result"
    }
   ],
   "source": [
    "month_df.filter((pl.col('driver_race') == 'Black') , (pl.col('dayname') == 'Monday')).head(4)"
   ]
  },
  {
   "cell_type": "code",
   "execution_count": 95,
   "metadata": {},
   "outputs": [
    {
     "data": {
      "text/html": [
       "<div><style>\n",
       ".dataframe > thead > tr,\n",
       ".dataframe > tbody > tr {\n",
       "  text-align: right;\n",
       "  white-space: pre-wrap;\n",
       "}\n",
       "</style>\n",
       "<small>shape: (4, 9)</small><table border=\"1\" class=\"dataframe\"><thead><tr><th>driver_gender</th><th>driver_birthdate</th><th>driver_race</th><th>driver_age</th><th>police_department</th><th>year</th><th>monthname</th><th>dayname</th><th>gender</th></tr><tr><td>str</td><td>date</td><td>str</td><td>i64</td><td>str</td><td>i32</td><td>str</td><td>str</td><td>cat</td></tr></thead><tbody><tr><td>&quot;male&quot;</td><td>1974-04-15</td><td>&quot;Black&quot;</td><td>39</td><td>&quot;Mississippi Hi…</td><td>1974</td><td>&quot;April&quot;</td><td>&quot;Monday&quot;</td><td>&quot;male&quot;</td></tr><tr><td>&quot;female&quot;</td><td>1974-05-13</td><td>&quot;Black&quot;</td><td>39</td><td>&quot;Mississippi Hi…</td><td>1974</td><td>&quot;May&quot;</td><td>&quot;Monday&quot;</td><td>&quot;female&quot;</td></tr><tr><td>&quot;male&quot;</td><td>1981-02-02</td><td>&quot;Black&quot;</td><td>32</td><td>&quot;Mississippi Hi…</td><td>1981</td><td>&quot;February&quot;</td><td>&quot;Monday&quot;</td><td>&quot;male&quot;</td></tr><tr><td>&quot;female&quot;</td><td>1970-09-14</td><td>&quot;Black&quot;</td><td>42</td><td>&quot;Mississippi Hi…</td><td>1970</td><td>&quot;September&quot;</td><td>&quot;Monday&quot;</td><td>&quot;female&quot;</td></tr></tbody></table></div>"
      ],
      "text/plain": [
       "shape: (4, 9)\n",
       "┌──────────────┬──────────────┬─────────────┬────────────┬───┬──────┬───────────┬─────────┬────────┐\n",
       "│ driver_gende ┆ driver_birth ┆ driver_race ┆ driver_age ┆ … ┆ year ┆ monthname ┆ dayname ┆ gender │\n",
       "│ r            ┆ date         ┆ ---         ┆ ---        ┆   ┆ ---  ┆ ---       ┆ ---     ┆ ---    │\n",
       "│ ---          ┆ ---          ┆ str         ┆ i64        ┆   ┆ i32  ┆ str       ┆ str     ┆ cat    │\n",
       "│ str          ┆ date         ┆             ┆            ┆   ┆      ┆           ┆         ┆        │\n",
       "╞══════════════╪══════════════╪═════════════╪════════════╪═══╪══════╪═══════════╪═════════╪════════╡\n",
       "│ male         ┆ 1974-04-15   ┆ Black       ┆ 39         ┆ … ┆ 1974 ┆ April     ┆ Monday  ┆ male   │\n",
       "│ female       ┆ 1974-05-13   ┆ Black       ┆ 39         ┆ … ┆ 1974 ┆ May       ┆ Monday  ┆ female │\n",
       "│ male         ┆ 1981-02-02   ┆ Black       ┆ 32         ┆ … ┆ 1981 ┆ February  ┆ Monday  ┆ male   │\n",
       "│ female       ┆ 1970-09-14   ┆ Black       ┆ 42         ┆ … ┆ 1970 ┆ September ┆ Monday  ┆ female │\n",
       "└──────────────┴──────────────┴─────────────┴────────────┴───┴──────┴───────────┴─────────┴────────┘"
      ]
     },
     "execution_count": 95,
     "metadata": {},
     "output_type": "execute_result"
    }
   ],
   "source": [
    "month_df.filter((pl.col('driver_race') == 'Black') & (pl.col('dayname') == 'Monday')).head(4)"
   ]
  },
  {
   "cell_type": "code",
   "execution_count": 97,
   "metadata": {},
   "outputs": [
    {
     "data": {
      "text/html": [
       "<div><style>\n",
       ".dataframe > thead > tr,\n",
       ".dataframe > tbody > tr {\n",
       "  text-align: right;\n",
       "  white-space: pre-wrap;\n",
       "}\n",
       "</style>\n",
       "<small>shape: (4, 9)</small><table border=\"1\" class=\"dataframe\"><thead><tr><th>driver_gender</th><th>driver_birthdate</th><th>driver_race</th><th>driver_age</th><th>police_department</th><th>year</th><th>monthname</th><th>dayname</th><th>gender</th></tr><tr><td>str</td><td>date</td><td>str</td><td>i64</td><td>str</td><td>i32</td><td>str</td><td>str</td><td>cat</td></tr></thead><tbody><tr><td>&quot;male&quot;</td><td>1974-04-15</td><td>&quot;Black&quot;</td><td>39</td><td>&quot;Mississippi Hi…</td><td>1974</td><td>&quot;April&quot;</td><td>&quot;Monday&quot;</td><td>&quot;male&quot;</td></tr><tr><td>&quot;male&quot;</td><td>1942-02-22</td><td>&quot;Black&quot;</td><td>71</td><td>&quot;Mississippi Hi…</td><td>1942</td><td>&quot;February&quot;</td><td>&quot;Sunday&quot;</td><td>&quot;male&quot;</td></tr><tr><td>&quot;female&quot;</td><td>1974-05-13</td><td>&quot;Black&quot;</td><td>39</td><td>&quot;Mississippi Hi…</td><td>1974</td><td>&quot;May&quot;</td><td>&quot;Monday&quot;</td><td>&quot;female&quot;</td></tr><tr><td>&quot;male&quot;</td><td>1981-02-02</td><td>&quot;Black&quot;</td><td>32</td><td>&quot;Mississippi Hi…</td><td>1981</td><td>&quot;February&quot;</td><td>&quot;Monday&quot;</td><td>&quot;male&quot;</td></tr></tbody></table></div>"
      ],
      "text/plain": [
       "shape: (4, 9)\n",
       "┌──────────────┬──────────────┬─────────────┬────────────┬───┬──────┬───────────┬─────────┬────────┐\n",
       "│ driver_gende ┆ driver_birth ┆ driver_race ┆ driver_age ┆ … ┆ year ┆ monthname ┆ dayname ┆ gender │\n",
       "│ r            ┆ date         ┆ ---         ┆ ---        ┆   ┆ ---  ┆ ---       ┆ ---     ┆ ---    │\n",
       "│ ---          ┆ ---          ┆ str         ┆ i64        ┆   ┆ i32  ┆ str       ┆ str     ┆ cat    │\n",
       "│ str          ┆ date         ┆             ┆            ┆   ┆      ┆           ┆         ┆        │\n",
       "╞══════════════╪══════════════╪═════════════╪════════════╪═══╪══════╪═══════════╪═════════╪════════╡\n",
       "│ male         ┆ 1974-04-15   ┆ Black       ┆ 39         ┆ … ┆ 1974 ┆ April     ┆ Monday  ┆ male   │\n",
       "│ male         ┆ 1942-02-22   ┆ Black       ┆ 71         ┆ … ┆ 1942 ┆ February  ┆ Sunday  ┆ male   │\n",
       "│ female       ┆ 1974-05-13   ┆ Black       ┆ 39         ┆ … ┆ 1974 ┆ May       ┆ Monday  ┆ female │\n",
       "│ male         ┆ 1981-02-02   ┆ Black       ┆ 32         ┆ … ┆ 1981 ┆ February  ┆ Monday  ┆ male   │\n",
       "└──────────────┴──────────────┴─────────────┴────────────┴───┴──────┴───────────┴─────────┴────────┘"
      ]
     },
     "execution_count": 97,
     "metadata": {},
     "output_type": "execute_result"
    }
   ],
   "source": [
    "month_df.filter(\n",
    "    (pl.col('driver_race') == 'Black') & \n",
    "    (pl.col('dayname').is_in( ['Monday' ,'Sunday']))\n",
    "    ).head(4)"
   ]
  },
  {
   "cell_type": "markdown",
   "metadata": {},
   "source": [
    "### Compute   with select"
   ]
  },
  {
   "cell_type": "code",
   "execution_count": 112,
   "metadata": {},
   "outputs": [
    {
     "data": {
      "text/html": [
       "<div><style>\n",
       ".dataframe > thead > tr,\n",
       ".dataframe > tbody > tr {\n",
       "  text-align: right;\n",
       "  white-space: pre-wrap;\n",
       "}\n",
       "</style>\n",
       "<small>shape: (1, 5)</small><table border=\"1\" class=\"dataframe\"><thead><tr><th>min_age</th><th>med_age</th><th>mean_age</th><th>std_age</th><th>max_age</th></tr><tr><td>i64</td><td>f64</td><td>f64</td><td>f64</td><td>i64</td></tr></thead><tbody><tr><td>7</td><td>32.0</td><td>35.296</td><td>13.6</td><td>86</td></tr></tbody></table></div>"
      ],
      "text/plain": [
       "shape: (1, 5)\n",
       "┌─────────┬─────────┬──────────┬─────────┬─────────┐\n",
       "│ min_age ┆ med_age ┆ mean_age ┆ std_age ┆ max_age │\n",
       "│ ---     ┆ ---     ┆ ---      ┆ ---     ┆ ---     │\n",
       "│ i64     ┆ f64     ┆ f64      ┆ f64     ┆ i64     │\n",
       "╞═════════╪═════════╪══════════╪═════════╪═════════╡\n",
       "│ 7       ┆ 32.0    ┆ 35.296   ┆ 13.6    ┆ 86      │\n",
       "└─────────┴─────────┴──────────┴─────────┴─────────┘"
      ]
     },
     "execution_count": 112,
     "metadata": {},
     "output_type": "execute_result"
    }
   ],
   "source": [
    "month_df.select([\n",
    "    pl.col('driver_age').min().alias('min_age'),\n",
    "    pl.col('driver_age').median().round().alias('med_age'),\n",
    "    pl.col('driver_age').mean().round(3).alias('mean_age'),\n",
    "    pl.col('driver_age').std().round(1).alias('std_age'),\n",
    "    pl.col('driver_age').max().alias('max_age')\n",
    "])"
   ]
  },
  {
   "cell_type": "code",
   "execution_count": 122,
   "metadata": {},
   "outputs": [
    {
     "data": {
      "text/html": [
       "<div><style>\n",
       ".dataframe > thead > tr,\n",
       ".dataframe > tbody > tr {\n",
       "  text-align: right;\n",
       "  white-space: pre-wrap;\n",
       "}\n",
       "</style>\n",
       "<small>shape: (9, 2)</small><table border=\"1\" class=\"dataframe\"><thead><tr><th>describe</th><th>driver_age</th></tr><tr><td>str</td><td>f64</td></tr></thead><tbody><tr><td>&quot;count&quot;</td><td>211102.0</td></tr><tr><td>&quot;null_count&quot;</td><td>109.0</td></tr><tr><td>&quot;mean&quot;</td><td>35.295516</td></tr><tr><td>&quot;std&quot;</td><td>13.580219</td></tr><tr><td>&quot;min&quot;</td><td>7.0</td></tr><tr><td>&quot;25%&quot;</td><td>24.0</td></tr><tr><td>&quot;50%&quot;</td><td>32.0</td></tr><tr><td>&quot;75%&quot;</td><td>44.0</td></tr><tr><td>&quot;max&quot;</td><td>86.0</td></tr></tbody></table></div>"
      ],
      "text/plain": [
       "shape: (9, 2)\n",
       "┌────────────┬────────────┐\n",
       "│ describe   ┆ driver_age │\n",
       "│ ---        ┆ ---        │\n",
       "│ str        ┆ f64        │\n",
       "╞════════════╪════════════╡\n",
       "│ count      ┆ 211102.0   │\n",
       "│ null_count ┆ 109.0      │\n",
       "│ mean       ┆ 35.295516  │\n",
       "│ std        ┆ 13.580219  │\n",
       "│ min        ┆ 7.0        │\n",
       "│ 25%        ┆ 24.0       │\n",
       "│ 50%        ┆ 32.0       │\n",
       "│ 75%        ┆ 44.0       │\n",
       "│ max        ┆ 86.0       │\n",
       "└────────────┴────────────┘"
      ]
     },
     "execution_count": 122,
     "metadata": {},
     "output_type": "execute_result"
    }
   ],
   "source": [
    "month_df.select('driver_age').describe()"
   ]
  },
  {
   "cell_type": "code",
   "execution_count": 14,
   "metadata": {},
   "outputs": [
    {
     "data": {
      "text/plain": [
       "array([[<Axes: title={'center': 'driver_age'}>]], dtype=object)"
      ]
     },
     "execution_count": 14,
     "metadata": {},
     "output_type": "execute_result"
    },
    {
     "data": {
      "image/png": "[encoded data removed]",
      "text/plain": [
       "<Figure size 640x480 with 1 Axes>"
      ]
     },
     "metadata": {},
     "output_type": "display_data"
    }
   ],
   "source": [
    "month_df.select('driver_age').to_pandas().hist()"
   ]
  },
  {
   "cell_type": "code",
   "execution_count": 15,
   "metadata": {},
   "outputs": [
    {
     "data": {
      "text/plain": [
       "<Axes: xlabel='driver_age', ylabel='Count'>"
      ]
     },
     "execution_count": 15,
     "metadata": {},
     "output_type": "execute_result"
    },
    {
     "data": {
      "image/png": "[encoded data removed]",
      "text/plain": [
       "<Figure size 640x480 with 1 Axes>"
      ]
     },
     "metadata": {},
     "output_type": "display_data"
    }
   ],
   "source": [
    "sns.histplot(data=month_df, x=\"driver_age\")"
   ]
  },
  {
   "cell_type": "code",
   "execution_count": 18,
   "metadata": {},
   "outputs": [
    {
     "data": {
      "text/plain": [
       "<seaborn.axisgrid.FacetGrid at 0x12f512cd0>"
      ]
     },
     "execution_count": 18,
     "metadata": {},
     "output_type": "execute_result"
    },
    {
     "data": {
      "image/png": "[encoded data removed]",
      "text/plain": [
       "<Figure size 251.111x400 with 1 Axes>"
      ]
     },
     "metadata": {},
     "output_type": "display_data"
    }
   ],
   "source": [
    "sns.catplot(\n",
    "    data=month_df, x=\"gender\",\n",
    "    kind=\"bar\", height=4, aspect=.6,\n",
    ")"
   ]
  },
  {
   "cell_type": "code",
   "execution_count": 44,
   "metadata": {},
   "outputs": [
    {
     "data": {
      "text/plain": [
       "<Axes: xlabel='dayname', ylabel='count'>"
      ]
     },
     "execution_count": 44,
     "metadata": {},
     "output_type": "execute_result"
    },
    {
     "data": {
      "image/png": "[encoded data removed]",
      "text/plain": [
       "<Figure size 640x480 with 1 Axes>"
      ]
     },
     "metadata": {},
     "output_type": "display_data"
    }
   ],
   "source": [
    "sns.countplot(month_df2, x=\"dayname\", hue=\"gender\")"
   ]
  },
  {
   "cell_type": "markdown",
   "metadata": {},
   "source": [
    "### Mutate"
   ]
  },
  {
   "cell_type": "code",
   "execution_count": 47,
   "metadata": {},
   "outputs": [
    {
     "data": {
      "text/html": [
       "<div><style>\n",
       ".dataframe > thead > tr,\n",
       ".dataframe > tbody > tr {\n",
       "  text-align: right;\n",
       "  white-space: pre-wrap;\n",
       "}\n",
       "</style>\n",
       "<small>shape: (4, 10)</small><table border=\"1\" class=\"dataframe\"><thead><tr><th>driver_gender</th><th>driver_birthdate</th><th>driver_race</th><th>driver_age</th><th>police_department</th><th>year</th><th>monthname</th><th>dayname</th><th>gender</th><th>age_in_months</th></tr><tr><td>str</td><td>date</td><td>str</td><td>i64</td><td>str</td><td>i32</td><td>str</td><td>cat</td><td>cat</td><td>i64</td></tr></thead><tbody><tr><td>&quot;male&quot;</td><td>1950-06-14</td><td>&quot;Black&quot;</td><td>63</td><td>&quot;Mississippi Hi…</td><td>1950</td><td>&quot;June&quot;</td><td>&quot;Wednesday&quot;</td><td>&quot;male&quot;</td><td>756</td></tr><tr><td>&quot;male&quot;</td><td>1967-04-06</td><td>&quot;Black&quot;</td><td>46</td><td>&quot;Mississippi Hi…</td><td>1967</td><td>&quot;April&quot;</td><td>&quot;Thursday&quot;</td><td>&quot;male&quot;</td><td>552</td></tr><tr><td>&quot;male&quot;</td><td>1974-04-15</td><td>&quot;Black&quot;</td><td>39</td><td>&quot;Mississippi Hi…</td><td>1974</td><td>&quot;April&quot;</td><td>&quot;Monday&quot;</td><td>&quot;male&quot;</td><td>468</td></tr><tr><td>&quot;male&quot;</td><td>1981-03-23</td><td>&quot;White&quot;</td><td>32</td><td>&quot;Mississippi Hi…</td><td>1981</td><td>&quot;March&quot;</td><td>&quot;Monday&quot;</td><td>&quot;male&quot;</td><td>384</td></tr></tbody></table></div>"
      ],
      "text/plain": [
       "shape: (4, 10)\n",
       "┌────────────┬────────────┬───────────┬───────────┬───┬───────────┬───────────┬────────┬───────────┐\n",
       "│ driver_gen ┆ driver_bir ┆ driver_ra ┆ driver_ag ┆ … ┆ monthname ┆ dayname   ┆ gender ┆ age_in_mo │\n",
       "│ der        ┆ thdate     ┆ ce        ┆ e         ┆   ┆ ---       ┆ ---       ┆ ---    ┆ nths      │\n",
       "│ ---        ┆ ---        ┆ ---       ┆ ---       ┆   ┆ str       ┆ cat       ┆ cat    ┆ ---       │\n",
       "│ str        ┆ date       ┆ str       ┆ i64       ┆   ┆           ┆           ┆        ┆ i64       │\n",
       "╞════════════╪════════════╪═══════════╪═══════════╪═══╪═══════════╪═══════════╪════════╪═══════════╡\n",
       "│ male       ┆ 1950-06-14 ┆ Black     ┆ 63        ┆ … ┆ June      ┆ Wednesday ┆ male   ┆ 756       │\n",
       "│ male       ┆ 1967-04-06 ┆ Black     ┆ 46        ┆ … ┆ April     ┆ Thursday  ┆ male   ┆ 552       │\n",
       "│ male       ┆ 1974-04-15 ┆ Black     ┆ 39        ┆ … ┆ April     ┆ Monday    ┆ male   ┆ 468       │\n",
       "│ male       ┆ 1981-03-23 ┆ White     ┆ 32        ┆ … ┆ March     ┆ Monday    ┆ male   ┆ 384       │\n",
       "└────────────┴────────────┴───────────┴───────────┴───┴───────────┴───────────┴────────┴───────────┘"
      ]
     },
     "execution_count": 47,
     "metadata": {},
     "output_type": "execute_result"
    }
   ],
   "source": [
    "month_df2.with_columns(\n",
    "    (pl.col('driver_age') * 12).alias('age_in_months')\n",
    ").head(4)"
   ]
  },
  {
   "cell_type": "code",
   "execution_count": 53,
   "metadata": {},
   "outputs": [
    {
     "data": {
      "text/html": [
       "<div><style>\n",
       ".dataframe > thead > tr,\n",
       ".dataframe > tbody > tr {\n",
       "  text-align: right;\n",
       "  white-space: pre-wrap;\n",
       "}\n",
       "</style>\n",
       "<small>shape: (4, 10)</small><table border=\"1\" class=\"dataframe\"><thead><tr><th>driver_gender</th><th>driver_birthdate</th><th>driver_race</th><th>driver_age</th><th>police_department</th><th>year</th><th>monthname</th><th>dayname</th><th>gender</th><th>race</th></tr><tr><td>str</td><td>date</td><td>str</td><td>i64</td><td>str</td><td>i32</td><td>str</td><td>cat</td><td>cat</td><td>str</td></tr></thead><tbody><tr><td>&quot;male&quot;</td><td>1950-06-14</td><td>&quot;Black&quot;</td><td>63</td><td>&quot;Mississippi Hi…</td><td>1950</td><td>&quot;June&quot;</td><td>&quot;Wednesday&quot;</td><td>&quot;male&quot;</td><td>&quot;race_Black&quot;</td></tr><tr><td>&quot;male&quot;</td><td>1967-04-06</td><td>&quot;Black&quot;</td><td>46</td><td>&quot;Mississippi Hi…</td><td>1967</td><td>&quot;April&quot;</td><td>&quot;Thursday&quot;</td><td>&quot;male&quot;</td><td>&quot;race_Black&quot;</td></tr><tr><td>&quot;male&quot;</td><td>1974-04-15</td><td>&quot;Black&quot;</td><td>39</td><td>&quot;Mississippi Hi…</td><td>1974</td><td>&quot;April&quot;</td><td>&quot;Monday&quot;</td><td>&quot;male&quot;</td><td>&quot;race_Black&quot;</td></tr><tr><td>&quot;male&quot;</td><td>1981-03-23</td><td>&quot;White&quot;</td><td>32</td><td>&quot;Mississippi Hi…</td><td>1981</td><td>&quot;March&quot;</td><td>&quot;Monday&quot;</td><td>&quot;male&quot;</td><td>&quot;race_White&quot;</td></tr></tbody></table></div>"
      ],
      "text/plain": [
       "shape: (4, 10)\n",
       "┌────────────┬────────────┬───────────┬───────────┬───┬───────────┬───────────┬────────┬───────────┐\n",
       "│ driver_gen ┆ driver_bir ┆ driver_ra ┆ driver_ag ┆ … ┆ monthname ┆ dayname   ┆ gender ┆ race      │\n",
       "│ der        ┆ thdate     ┆ ce        ┆ e         ┆   ┆ ---       ┆ ---       ┆ ---    ┆ ---       │\n",
       "│ ---        ┆ ---        ┆ ---       ┆ ---       ┆   ┆ str       ┆ cat       ┆ cat    ┆ str       │\n",
       "│ str        ┆ date       ┆ str       ┆ i64       ┆   ┆           ┆           ┆        ┆           │\n",
       "╞════════════╪════════════╪═══════════╪═══════════╪═══╪═══════════╪═══════════╪════════╪═══════════╡\n",
       "│ male       ┆ 1950-06-14 ┆ Black     ┆ 63        ┆ … ┆ June      ┆ Wednesday ┆ male   ┆ race_Blac │\n",
       "│            ┆            ┆           ┆           ┆   ┆           ┆           ┆        ┆ k         │\n",
       "│ male       ┆ 1967-04-06 ┆ Black     ┆ 46        ┆ … ┆ April     ┆ Thursday  ┆ male   ┆ race_Blac │\n",
       "│            ┆            ┆           ┆           ┆   ┆           ┆           ┆        ┆ k         │\n",
       "│ male       ┆ 1974-04-15 ┆ Black     ┆ 39        ┆ … ┆ April     ┆ Monday    ┆ male   ┆ race_Blac │\n",
       "│            ┆            ┆           ┆           ┆   ┆           ┆           ┆        ┆ k         │\n",
       "│ male       ┆ 1981-03-23 ┆ White     ┆ 32        ┆ … ┆ March     ┆ Monday    ┆ male   ┆ race_Whit │\n",
       "│            ┆            ┆           ┆           ┆   ┆           ┆           ┆        ┆ e         │\n",
       "└────────────┴────────────┴───────────┴───────────┴───┴───────────┴───────────┴────────┴───────────┘"
      ]
     },
     "execution_count": 53,
     "metadata": {},
     "output_type": "execute_result"
    }
   ],
   "source": [
    "month_df2.with_columns(\n",
    "    ('race_' + pl.col('driver_race')).alias('race')\n",
    ").head(4)"
   ]
  },
  {
   "cell_type": "code",
   "execution_count": 58,
   "metadata": {},
   "outputs": [
    {
     "data": {
      "text/html": [
       "<div><style>\n",
       ".dataframe > thead > tr,\n",
       ".dataframe > tbody > tr {\n",
       "  text-align: right;\n",
       "  white-space: pre-wrap;\n",
       "}\n",
       "</style>\n",
       "<small>shape: (4, 11)</small><table border=\"1\" class=\"dataframe\"><thead><tr><th>driver_gender</th><th>driver_birthdate</th><th>driver_race</th><th>driver_age</th><th>police_department</th><th>year</th><th>monthname</th><th>dayname</th><th>gender</th><th>month</th><th>day</th></tr><tr><td>str</td><td>date</td><td>str</td><td>i64</td><td>str</td><td>i32</td><td>str</td><td>cat</td><td>cat</td><td>str</td><td>str</td></tr></thead><tbody><tr><td>&quot;male&quot;</td><td>1950-06-14</td><td>&quot;Black&quot;</td><td>63</td><td>&quot;Mississippi Hi…</td><td>1950</td><td>&quot;June&quot;</td><td>&quot;Wednesday&quot;</td><td>&quot;male&quot;</td><td>&quot;Jun&quot;</td><td>&quot;14&quot;</td></tr><tr><td>&quot;male&quot;</td><td>1967-04-06</td><td>&quot;Black&quot;</td><td>46</td><td>&quot;Mississippi Hi…</td><td>1967</td><td>&quot;April&quot;</td><td>&quot;Thursday&quot;</td><td>&quot;male&quot;</td><td>&quot;Apr&quot;</td><td>&quot;6&quot;</td></tr><tr><td>&quot;male&quot;</td><td>1974-04-15</td><td>&quot;Black&quot;</td><td>39</td><td>&quot;Mississippi Hi…</td><td>1974</td><td>&quot;April&quot;</td><td>&quot;Monday&quot;</td><td>&quot;male&quot;</td><td>&quot;Apr&quot;</td><td>&quot;15&quot;</td></tr><tr><td>&quot;male&quot;</td><td>1981-03-23</td><td>&quot;White&quot;</td><td>32</td><td>&quot;Mississippi Hi…</td><td>1981</td><td>&quot;March&quot;</td><td>&quot;Monday&quot;</td><td>&quot;male&quot;</td><td>&quot;Mar&quot;</td><td>&quot;23&quot;</td></tr></tbody></table></div>"
      ],
      "text/plain": [
       "shape: (4, 11)\n",
       "┌───────────────┬────────────────┬─────────────┬────────────┬───┬───────────┬────────┬───────┬─────┐\n",
       "│ driver_gender ┆ driver_birthda ┆ driver_race ┆ driver_age ┆ … ┆ dayname   ┆ gender ┆ month ┆ day │\n",
       "│ ---           ┆ te             ┆ ---         ┆ ---        ┆   ┆ ---       ┆ ---    ┆ ---   ┆ --- │\n",
       "│ str           ┆ ---            ┆ str         ┆ i64        ┆   ┆ cat       ┆ cat    ┆ str   ┆ str │\n",
       "│               ┆ date           ┆             ┆            ┆   ┆           ┆        ┆       ┆     │\n",
       "╞═══════════════╪════════════════╪═════════════╪════════════╪═══╪═══════════╪════════╪═══════╪═════╡\n",
       "│ male          ┆ 1950-06-14     ┆ Black       ┆ 63         ┆ … ┆ Wednesday ┆ male   ┆ Jun   ┆ 14  │\n",
       "│ male          ┆ 1967-04-06     ┆ Black       ┆ 46         ┆ … ┆ Thursday  ┆ male   ┆ Apr   ┆ 6   │\n",
       "│ male          ┆ 1974-04-15     ┆ Black       ┆ 39         ┆ … ┆ Monday    ┆ male   ┆ Apr   ┆ 15  │\n",
       "│ male          ┆ 1981-03-23     ┆ White       ┆ 32         ┆ … ┆ Monday    ┆ male   ┆ Mar   ┆ 23  │\n",
       "└───────────────┴────────────────┴─────────────┴────────────┴───┴───────────┴────────┴───────┴─────┘"
      ]
     },
     "execution_count": 58,
     "metadata": {},
     "output_type": "execute_result"
    }
   ],
   "source": [
    "\n",
    "month_df2.with_columns(\n",
    "    pl.col('driver_birthdate').dt.strftime('%b').alias('month'),\n",
    "    pl.col('driver_birthdate').dt.day().cast(pl.String()).alias('day')\n",
    ").head(4)"
   ]
  },
  {
   "cell_type": "code",
   "execution_count": 68,
   "metadata": {},
   "outputs": [
    {
     "data": {
      "text/html": [
       "<div><style>\n",
       ".dataframe > thead > tr,\n",
       ".dataframe > tbody > tr {\n",
       "  text-align: right;\n",
       "  white-space: pre-wrap;\n",
       "}\n",
       "</style>\n",
       "<small>shape: (4, 10)</small><table border=\"1\" class=\"dataframe\"><thead><tr><th>driver_gender</th><th>driver_birthdate</th><th>driver_race</th><th>driver_age</th><th>police_department</th><th>year</th><th>monthname</th><th>dayname</th><th>gender</th><th>m-day</th></tr><tr><td>str</td><td>date</td><td>str</td><td>i64</td><td>str</td><td>i32</td><td>str</td><td>cat</td><td>cat</td><td>str</td></tr></thead><tbody><tr><td>&quot;male&quot;</td><td>1950-06-14</td><td>&quot;Black&quot;</td><td>63</td><td>&quot;Mississippi Hi…</td><td>1950</td><td>&quot;June&quot;</td><td>&quot;Wednesday&quot;</td><td>&quot;male&quot;</td><td>&quot;Jun-14&quot;</td></tr><tr><td>&quot;male&quot;</td><td>1967-04-06</td><td>&quot;Black&quot;</td><td>46</td><td>&quot;Mississippi Hi…</td><td>1967</td><td>&quot;April&quot;</td><td>&quot;Thursday&quot;</td><td>&quot;male&quot;</td><td>&quot;Apr-06&quot;</td></tr><tr><td>&quot;male&quot;</td><td>1974-04-15</td><td>&quot;Black&quot;</td><td>39</td><td>&quot;Mississippi Hi…</td><td>1974</td><td>&quot;April&quot;</td><td>&quot;Monday&quot;</td><td>&quot;male&quot;</td><td>&quot;Apr-15&quot;</td></tr><tr><td>&quot;male&quot;</td><td>1981-03-23</td><td>&quot;White&quot;</td><td>32</td><td>&quot;Mississippi Hi…</td><td>1981</td><td>&quot;March&quot;</td><td>&quot;Monday&quot;</td><td>&quot;male&quot;</td><td>&quot;Mar-23&quot;</td></tr></tbody></table></div>"
      ],
      "text/plain": [
       "shape: (4, 10)\n",
       "┌─────────────┬────────────┬────────────┬────────────┬───┬───────────┬───────────┬────────┬────────┐\n",
       "│ driver_gend ┆ driver_bir ┆ driver_rac ┆ driver_age ┆ … ┆ monthname ┆ dayname   ┆ gender ┆ m-day  │\n",
       "│ er          ┆ thdate     ┆ e          ┆ ---        ┆   ┆ ---       ┆ ---       ┆ ---    ┆ ---    │\n",
       "│ ---         ┆ ---        ┆ ---        ┆ i64        ┆   ┆ str       ┆ cat       ┆ cat    ┆ str    │\n",
       "│ str         ┆ date       ┆ str        ┆            ┆   ┆           ┆           ┆        ┆        │\n",
       "╞═════════════╪════════════╪════════════╪════════════╪═══╪═══════════╪═══════════╪════════╪════════╡\n",
       "│ male        ┆ 1950-06-14 ┆ Black      ┆ 63         ┆ … ┆ June      ┆ Wednesday ┆ male   ┆ Jun-14 │\n",
       "│ male        ┆ 1967-04-06 ┆ Black      ┆ 46         ┆ … ┆ April     ┆ Thursday  ┆ male   ┆ Apr-06 │\n",
       "│ male        ┆ 1974-04-15 ┆ Black      ┆ 39         ┆ … ┆ April     ┆ Monday    ┆ male   ┆ Apr-15 │\n",
       "│ male        ┆ 1981-03-23 ┆ White      ┆ 32         ┆ … ┆ March     ┆ Monday    ┆ male   ┆ Mar-23 │\n",
       "└─────────────┴────────────┴────────────┴────────────┴───┴───────────┴───────────┴────────┴────────┘"
      ]
     },
     "execution_count": 68,
     "metadata": {},
     "output_type": "execute_result"
    }
   ],
   "source": [
    "month_df2.with_columns(\n",
    "    pl.col('driver_birthdate').dt.strftime('%b-%d').alias('m-day')\n",
    "    ).head(4)"
   ]
  },
  {
   "cell_type": "code",
   "execution_count": 67,
   "metadata": {},
   "outputs": [
    {
     "data": {
      "text/html": [
       "<div><style>\n",
       ".dataframe > thead > tr,\n",
       ".dataframe > tbody > tr {\n",
       "  text-align: right;\n",
       "  white-space: pre-wrap;\n",
       "}\n",
       "</style>\n",
       "<small>shape: (4, 10)</small><table border=\"1\" class=\"dataframe\"><thead><tr><th>driver_gender</th><th>driver_birthdate</th><th>driver_race</th><th>driver_age</th><th>police_department</th><th>year</th><th>monthname</th><th>dayname</th><th>gender</th><th>m_day</th></tr><tr><td>str</td><td>date</td><td>str</td><td>i64</td><td>str</td><td>i32</td><td>str</td><td>cat</td><td>cat</td><td>str</td></tr></thead><tbody><tr><td>&quot;male&quot;</td><td>1950-06-14</td><td>&quot;Black&quot;</td><td>63</td><td>&quot;Mississippi Hi…</td><td>1950</td><td>&quot;June&quot;</td><td>&quot;Wednesday&quot;</td><td>&quot;male&quot;</td><td>&quot;Jun_14&quot;</td></tr><tr><td>&quot;male&quot;</td><td>1967-04-06</td><td>&quot;Black&quot;</td><td>46</td><td>&quot;Mississippi Hi…</td><td>1967</td><td>&quot;April&quot;</td><td>&quot;Thursday&quot;</td><td>&quot;male&quot;</td><td>&quot;Apr_6&quot;</td></tr><tr><td>&quot;male&quot;</td><td>1974-04-15</td><td>&quot;Black&quot;</td><td>39</td><td>&quot;Mississippi Hi…</td><td>1974</td><td>&quot;April&quot;</td><td>&quot;Monday&quot;</td><td>&quot;male&quot;</td><td>&quot;Apr_15&quot;</td></tr><tr><td>&quot;male&quot;</td><td>1981-03-23</td><td>&quot;White&quot;</td><td>32</td><td>&quot;Mississippi Hi…</td><td>1981</td><td>&quot;March&quot;</td><td>&quot;Monday&quot;</td><td>&quot;male&quot;</td><td>&quot;Mar_23&quot;</td></tr></tbody></table></div>"
      ],
      "text/plain": [
       "shape: (4, 10)\n",
       "┌─────────────┬────────────┬────────────┬────────────┬───┬───────────┬───────────┬────────┬────────┐\n",
       "│ driver_gend ┆ driver_bir ┆ driver_rac ┆ driver_age ┆ … ┆ monthname ┆ dayname   ┆ gender ┆ m_day  │\n",
       "│ er          ┆ thdate     ┆ e          ┆ ---        ┆   ┆ ---       ┆ ---       ┆ ---    ┆ ---    │\n",
       "│ ---         ┆ ---        ┆ ---        ┆ i64        ┆   ┆ str       ┆ cat       ┆ cat    ┆ str    │\n",
       "│ str         ┆ date       ┆ str        ┆            ┆   ┆           ┆           ┆        ┆        │\n",
       "╞═════════════╪════════════╪════════════╪════════════╪═══╪═══════════╪═══════════╪════════╪════════╡\n",
       "│ male        ┆ 1950-06-14 ┆ Black      ┆ 63         ┆ … ┆ June      ┆ Wednesday ┆ male   ┆ Jun_14 │\n",
       "│ male        ┆ 1967-04-06 ┆ Black      ┆ 46         ┆ … ┆ April     ┆ Thursday  ┆ male   ┆ Apr_6  │\n",
       "│ male        ┆ 1974-04-15 ┆ Black      ┆ 39         ┆ … ┆ April     ┆ Monday    ┆ male   ┆ Apr_15 │\n",
       "│ male        ┆ 1981-03-23 ┆ White      ┆ 32         ┆ … ┆ March     ┆ Monday    ┆ male   ┆ Mar_23 │\n",
       "└─────────────┴────────────┴────────────┴────────────┴───┴───────────┴───────────┴────────┴────────┘"
      ]
     },
     "execution_count": 67,
     "metadata": {},
     "output_type": "execute_result"
    }
   ],
   "source": [
    "month_df2.with_columns(\n",
    "    (pl.col('driver_birthdate').dt.strftime('%b') + '_' + \n",
    "    pl.col('driver_birthdate').dt.day().cast(pl.String())).alias('m_day')\n",
    ").head(4)"
   ]
  },
  {
   "cell_type": "code",
   "execution_count": 81,
   "metadata": {},
   "outputs": [
    {
     "data": {
      "text/html": [
       "<div><style>\n",
       ".dataframe > thead > tr,\n",
       ".dataframe > tbody > tr {\n",
       "  text-align: right;\n",
       "  white-space: pre-wrap;\n",
       "}\n",
       "</style>\n",
       "<small>shape: (4, 10)</small><table border=\"1\" class=\"dataframe\"><thead><tr><th>driver_gender</th><th>driver_birthdate</th><th>driver_race</th><th>driver_age</th><th>police_department</th><th>year</th><th>monthname</th><th>dayname</th><th>gender</th><th>mean_age</th></tr><tr><td>str</td><td>date</td><td>str</td><td>i64</td><td>str</td><td>i32</td><td>str</td><td>str</td><td>cat</td><td>f64</td></tr></thead><tbody><tr><td>&quot;male&quot;</td><td>1950-06-14</td><td>&quot;Black&quot;</td><td>63</td><td>&quot;Mississippi Hi…</td><td>1950</td><td>&quot;June&quot;</td><td>&quot;Wednesday&quot;</td><td>&quot;male&quot;</td><td>34.248504</td></tr><tr><td>&quot;male&quot;</td><td>1967-04-06</td><td>&quot;Black&quot;</td><td>46</td><td>&quot;Mississippi Hi…</td><td>1967</td><td>&quot;April&quot;</td><td>&quot;Thursday&quot;</td><td>&quot;male&quot;</td><td>34.248504</td></tr><tr><td>&quot;male&quot;</td><td>1974-04-15</td><td>&quot;Black&quot;</td><td>39</td><td>&quot;Mississippi Hi…</td><td>1974</td><td>&quot;April&quot;</td><td>&quot;Monday&quot;</td><td>&quot;male&quot;</td><td>34.248504</td></tr><tr><td>&quot;male&quot;</td><td>1981-03-23</td><td>&quot;White&quot;</td><td>32</td><td>&quot;Mississippi Hi…</td><td>1981</td><td>&quot;March&quot;</td><td>&quot;Monday&quot;</td><td>&quot;male&quot;</td><td>36.213997</td></tr></tbody></table></div>"
      ],
      "text/plain": [
       "shape: (4, 10)\n",
       "┌────────────┬────────────┬───────────┬───────────┬───┬───────────┬───────────┬────────┬───────────┐\n",
       "│ driver_gen ┆ driver_bir ┆ driver_ra ┆ driver_ag ┆ … ┆ monthname ┆ dayname   ┆ gender ┆ mean_age  │\n",
       "│ der        ┆ thdate     ┆ ce        ┆ e         ┆   ┆ ---       ┆ ---       ┆ ---    ┆ ---       │\n",
       "│ ---        ┆ ---        ┆ ---       ┆ ---       ┆   ┆ str       ┆ str       ┆ cat    ┆ f64       │\n",
       "│ str        ┆ date       ┆ str       ┆ i64       ┆   ┆           ┆           ┆        ┆           │\n",
       "╞════════════╪════════════╪═══════════╪═══════════╪═══╪═══════════╪═══════════╪════════╪═══════════╡\n",
       "│ male       ┆ 1950-06-14 ┆ Black     ┆ 63        ┆ … ┆ June      ┆ Wednesday ┆ male   ┆ 34.248504 │\n",
       "│ male       ┆ 1967-04-06 ┆ Black     ┆ 46        ┆ … ┆ April     ┆ Thursday  ┆ male   ┆ 34.248504 │\n",
       "│ male       ┆ 1974-04-15 ┆ Black     ┆ 39        ┆ … ┆ April     ┆ Monday    ┆ male   ┆ 34.248504 │\n",
       "│ male       ┆ 1981-03-23 ┆ White     ┆ 32        ┆ … ┆ March     ┆ Monday    ┆ male   ┆ 36.213997 │\n",
       "└────────────┴────────────┴───────────┴───────────┴───┴───────────┴───────────┴────────┴───────────┘"
      ]
     },
     "execution_count": 81,
     "metadata": {},
     "output_type": "execute_result"
    }
   ],
   "source": [
    "(month_df\n",
    "    .with_columns(pl.col(\"driver_age\").mean().over('driver_race').alias('mean_age'))\n",
    "    .head(4)\n",
    ")"
   ]
  },
  {
   "cell_type": "markdown",
   "metadata": {},
   "source": [
    "### Grouping: count"
   ]
  },
  {
   "cell_type": "markdown",
   "metadata": {},
   "source": []
  },
  {
   "cell_type": "code",
   "execution_count": 14,
   "metadata": {},
   "outputs": [],
   "source": [
    "mdf = month_df.filter(\n",
    "    ~pl.col('driver_race').is_in(['NA']),\n",
    "    ~pl.col('driver_gender').is_in(['NA'])\n",
    "    )"
   ]
  },
  {
   "cell_type": "code",
   "execution_count": 15,
   "metadata": {},
   "outputs": [
    {
     "data": {
      "text/html": [
       "<div><style>\n",
       ".dataframe > thead > tr,\n",
       ".dataframe > tbody > tr {\n",
       "  text-align: right;\n",
       "  white-space: pre-wrap;\n",
       "}\n",
       "</style>\n",
       "<small>shape: (2, 2)</small><table border=\"1\" class=\"dataframe\"><thead><tr><th>driver_race</th><th>count</th></tr><tr><td>str</td><td>u32</td></tr></thead><tbody><tr><td>&quot;White&quot;</td><td>112522</td></tr><tr><td>&quot;Black&quot;</td><td>98661</td></tr></tbody></table></div>"
      ],
      "text/plain": [
       "shape: (2, 2)\n",
       "┌─────────────┬────────┐\n",
       "│ driver_race ┆ count  │\n",
       "│ ---         ┆ ---    │\n",
       "│ str         ┆ u32    │\n",
       "╞═════════════╪════════╡\n",
       "│ White       ┆ 112522 │\n",
       "│ Black       ┆ 98661  │\n",
       "└─────────────┴────────┘"
      ]
     },
     "execution_count": 15,
     "metadata": {},
     "output_type": "execute_result"
    }
   ],
   "source": [
    "mdf.group_by('driver_race').agg(pl.count())"
   ]
  },
  {
   "cell_type": "code",
   "execution_count": 16,
   "metadata": {},
   "outputs": [
    {
     "data": {
      "text/html": [
       "<div><style>\n",
       ".dataframe > thead > tr,\n",
       ".dataframe > tbody > tr {\n",
       "  text-align: right;\n",
       "  white-space: pre-wrap;\n",
       "}\n",
       "</style>\n",
       "<small>shape: (2, 2)</small><table border=\"1\" class=\"dataframe\"><thead><tr><th>gender</th><th>count</th></tr><tr><td>cat</td><td>u32</td></tr></thead><tbody><tr><td>&quot;male&quot;</td><td>122743</td></tr><tr><td>&quot;female&quot;</td><td>88440</td></tr></tbody></table></div>"
      ],
      "text/plain": [
       "shape: (2, 2)\n",
       "┌────────┬────────┐\n",
       "│ gender ┆ count  │\n",
       "│ ---    ┆ ---    │\n",
       "│ cat    ┆ u32    │\n",
       "╞════════╪════════╡\n",
       "│ male   ┆ 122743 │\n",
       "│ female ┆ 88440  │\n",
       "└────────┴────────┘"
      ]
     },
     "execution_count": 16,
     "metadata": {},
     "output_type": "execute_result"
    }
   ],
   "source": [
    "mdf.group_by('gender').agg(pl.count())"
   ]
  },
  {
   "cell_type": "code",
   "execution_count": 124,
   "metadata": {},
   "outputs": [
    {
     "data": {
      "text/html": [
       "<div>\n",
       "<style scoped>\n",
       "    .dataframe tbody tr th:only-of-type {\n",
       "        vertical-align: middle;\n",
       "    }\n",
       "\n",
       "    .dataframe tbody tr th {\n",
       "        vertical-align: top;\n",
       "    }\n",
       "\n",
       "    .dataframe thead th {\n",
       "        text-align: right;\n",
       "    }\n",
       "</style>\n",
       "<table border=\"1\" class=\"dataframe\">\n",
       "  <thead>\n",
       "    <tr style=\"text-align: right;\">\n",
       "      <th></th>\n",
       "      <th>gender</th>\n",
       "      <th>count</th>\n",
       "    </tr>\n",
       "  </thead>\n",
       "  <tbody>\n",
       "    <tr>\n",
       "      <th>0</th>\n",
       "      <td>female</td>\n",
       "      <td>88440</td>\n",
       "    </tr>\n",
       "    <tr>\n",
       "      <th>1</th>\n",
       "      <td>male</td>\n",
       "      <td>122743</td>\n",
       "    </tr>\n",
       "  </tbody>\n",
       "</table>\n",
       "</div>"
      ],
      "text/plain": [
       "   gender   count\n",
       "0  female   88440\n",
       "1    male  122743"
      ]
     },
     "execution_count": 124,
     "metadata": {},
     "output_type": "execute_result"
    }
   ],
   "source": [
    "mdf.group_by('gender').agg(pl.count()).to_pandas()"
   ]
  },
  {
   "cell_type": "code",
   "execution_count": 19,
   "metadata": {},
   "outputs": [
    {
     "data": {
      "text/plain": [
       "<Axes: xlabel='driver_gender', ylabel='count'>"
      ]
     },
     "execution_count": 19,
     "metadata": {},
     "output_type": "execute_result"
    },
    {
     "data": {
      "image/png": "[encoded data removed]",
      "text/plain": [
       "<Figure size 640x480 with 1 Axes>"
      ]
     },
     "metadata": {},
     "output_type": "display_data"
    }
   ],
   "source": [
    "sns.barplot(\n",
    "    data = mdf.group_by('driver_gender').agg(pl.count()).to_pandas(),\n",
    "    x = 'driver_gender', hue = 'driver_gender',\n",
    "    y = 'count')"
   ]
  },
  {
   "cell_type": "code",
   "execution_count": 20,
   "metadata": {},
   "outputs": [
    {
     "data": {
      "text/plain": [
       "<Axes: xlabel='gender', ylabel='count'>"
      ]
     },
     "execution_count": 20,
     "metadata": {},
     "output_type": "execute_result"
    },
    {
     "data": {
      "image/png": "[encoded data removed]",
      "text/plain": [
       "<Figure size 640x480 with 1 Axes>"
      ]
     },
     "metadata": {},
     "output_type": "display_data"
    }
   ],
   "source": [
    "sns.barplot(\n",
    "    data = mdf.group_by('gender').agg(pl.count()).to_pandas(),\n",
    "    x = 'gender', hue = 'gender',\n",
    "    y = 'count')"
   ]
  },
  {
   "cell_type": "code",
   "execution_count": 21,
   "metadata": {},
   "outputs": [
    {
     "data": {
      "text/plain": [
       "<Axes: xlabel='driver_gender', ylabel='count'>"
      ]
     },
     "execution_count": 21,
     "metadata": {},
     "output_type": "execute_result"
    },
    {
     "data": {
      "image/png": "[encoded data removed]",
      "text/plain": [
       "<Figure size 640x480 with 1 Axes>"
      ]
     },
     "metadata": {},
     "output_type": "display_data"
    }
   ],
   "source": [
    "sns.barplot(\n",
    "    data = mdf.group_by('driver_gender').agg(pl.count()),\n",
    "    x = 'driver_gender', hue = 'driver_gender',\n",
    "    y = 'count')"
   ]
  },
  {
   "cell_type": "code",
   "execution_count": 22,
   "metadata": {},
   "outputs": [
    {
     "data": {
      "text/plain": [
       "<Axes: xlabel='gender', ylabel='count'>"
      ]
     },
     "execution_count": 22,
     "metadata": {},
     "output_type": "execute_result"
    },
    {
     "data": {
      "image/png": "[encoded data removed]",
      "text/plain": [
       "<Figure size 640x480 with 1 Axes>"
      ]
     },
     "metadata": {},
     "output_type": "display_data"
    }
   ],
   "source": [
    "sns.barplot(\n",
    "    data = mdf.group_by('gender').agg(pl.count()),\n",
    "    x = 'gender', hue = 'gender',\n",
    "    y = 'count')"
   ]
  },
  {
   "cell_type": "code",
   "execution_count": 23,
   "metadata": {},
   "outputs": [
    {
     "data": {
      "text/plain": [
       "<Axes: xlabel='gender', ylabel='count'>"
      ]
     },
     "execution_count": 23,
     "metadata": {},
     "output_type": "execute_result"
    },
    {
     "data": {
      "image/png": "[encoded data removed]",
      "text/plain": [
       "<Figure size 640x480 with 1 Axes>"
      ]
     },
     "metadata": {},
     "output_type": "display_data"
    }
   ],
   "source": [
    "sns.countplot(\n",
    "    month_df, x = 'gender', hue = 'gender',\n",
    ")"
   ]
  },
  {
   "cell_type": "code",
   "execution_count": 24,
   "metadata": {},
   "outputs": [
    {
     "data": {
      "text/plain": [
       "[Text(0.5, 0, 'Total'), Text(0, 0.5, ''), Text(0.5, 1.0, 'Violation Types')]"
      ]
     },
     "execution_count": 24,
     "metadata": {},
     "output_type": "execute_result"
    },
    {
     "data": {
      "image/png": "[encoded data removed]",
      "text/plain": [
       "<Figure size 640x480 with 1 Axes>"
      ]
     },
     "metadata": {},
     "output_type": "display_data"
    }
   ],
   "source": [
    "vdf = df.group_by('violation').agg(pl.count()).to_pandas().sort_values('count', ascending=False)\n",
    "ax = sns.barplot(vdf, x = 'count', y = 'violation', hue = 'violation')\n",
    "ax.set(\n",
    "    xlabel='Total',\n",
    "    ylabel='',\n",
    "    title='Violation Types')\n",
    "#plt.show()"
   ]
  },
  {
   "cell_type": "code",
   "execution_count": 25,
   "metadata": {},
   "outputs": [
    {
     "data": {
      "text/plain": [
       "[Text(0.5, 1.0, 'Violation Types  Relative Frequency'),\n",
       " Text(0.5, 0, 'Percentage'),\n",
       " Text(0, 0.5, '')]"
      ]
     },
     "execution_count": 25,
     "metadata": {},
     "output_type": "execute_result"
    },
    {
     "data": {
      "image/png": "[encoded data removed]",
      "text/plain": [
       "<Figure size 640x480 with 1 Axes>"
      ]
     },
     "metadata": {},
     "output_type": "display_data"
    }
   ],
   "source": [
    "vpct = (df\n",
    " .group_by('violation')\n",
    " .agg([pl.count()])\n",
    " .sort('count', descending=True)\n",
    " .with_columns(\n",
    "     (pl.col('count') * 100  /  pl.col('count').sum()).round(2).alias('pct'))\n",
    " )\n",
    "\n",
    "ax = sns.barplot(vpct, x = 'pct', y  = 'violation', hue = 'violation')\n",
    "ax.set(title='Violation Types  Relative Frequency', xlabel='Percentage', ylabel='')"
   ]
  },
  {
   "cell_type": "code",
   "execution_count": 211,
   "metadata": {},
   "outputs": [
    {
     "data": {
      "text/plain": [
       "[Text(0.5, 1.0, 'Violation By Gender')]"
      ]
     },
     "execution_count": 211,
     "metadata": {},
     "output_type": "execute_result"
    },
    {
     "data": {
      "image/png": "[encoded data removed]",
      "text/plain": [
       "<Figure size 640x480 with 1 Axes>"
      ]
     },
     "metadata": {},
     "output_type": "display_data"
    }
   ],
   "source": [
    "gv = (df\n",
    "   .drop_nulls()\n",
    "    .group_by(['violation', 'driver_gender'])\n",
    "    .agg(pl.count())\n",
    "    .sort('count', descending=True)\n",
    "    )\n",
    "ax = sns.barplot(gv, x = 'count', y = 'violation', hue = 'driver_gender')\n",
    "ax.set(title='Violation By Gender')"
   ]
  },
  {
   "cell_type": "markdown",
   "metadata": {},
   "source": [
    "### Grouping: Summarise"
   ]
  },
  {
   "cell_type": "code",
   "execution_count": 26,
   "metadata": {},
   "outputs": [
    {
     "data": {
      "application/vnd.plotly.v1+json": {
       "config": {
        "plotlyServerURL": "https://plot.ly"
       },
       "data": [
        {
         "alignmentgroup": "True",
         "hovertemplate": "avg_age=%{x}<br>violation=%{y}<extra></extra>",
         "legendgroup": "",
         "marker": {
          "color": "#636efa",
          "pattern": {
           "shape": ""
          }
         },
         "name": "",
         "offsetgroup": "",
         "orientation": "h",
         "showlegend": false,
         "textposition": "auto",
         "type": "bar",
         "x": [
          36.94,
          35.79,
          35.42,
          34.17,
          33.05,
          32.96
         ],
         "xaxis": "x",
         "y": [
          "Seat belt",
          "Speeding",
          "Careless driving",
          "Other or unknown",
          "License-Permit-Insurance",
          "Breaks-Lights-etc"
         ],
         "yaxis": "y"
        }
       ],
       "layout": {
        "barmode": "relative",
        "legend": {
         "tracegroupgap": 0
        },
        "margin": {
         "t": 60
        },
        "template": {
         "data": {
          "bar": [
           {
            "error_x": {
             "color": "#2a3f5f"
            },
            "error_y": {
             "color": "#2a3f5f"
            },
            "marker": {
             "line": {
              "color": "#E5ECF6",
              "width": 0.5
             },
             "pattern": {
              "fillmode": "overlay",
              "size": 10,
              "solidity": 0.2
             }
            },
            "type": "bar"
           }
          ],
          "barpolar": [
           {
            "marker": {
             "line": {
              "color": "#E5ECF6",
              "width": 0.5
             },
             "pattern": {
              "fillmode": "overlay",
              "size": 10,
              "solidity": 0.2
             }
            },
            "type": "barpolar"
           }
          ],
          "carpet": [
           {
            "aaxis": {
             "endlinecolor": "#2a3f5f",
             "gridcolor": "white",
             "linecolor": "white",
             "minorgridcolor": "white",
             "startlinecolor": "#2a3f5f"
            },
            "baxis": {
             "endlinecolor": "#2a3f5f",
             "gridcolor": "white",
             "linecolor": "white",
             "minorgridcolor": "white",
             "startlinecolor": "#2a3f5f"
            },
            "type": "carpet"
           }
          ],
          "choropleth": [
           {
            "colorbar": {
             "outlinewidth": 0,
             "ticks": ""
            },
            "type": "choropleth"
           }
          ],
          "contour": [
           {
            "colorbar": {
             "outlinewidth": 0,
             "ticks": ""
            },
            "colorscale": [
             [
              0,
              "#0d0887"
             ],
             [
              0.1111111111111111,
              "#46039f"
             ],
             [
              0.2222222222222222,
              "#7201a8"
             ],
             [
              0.3333333333333333,
              "#9c179e"
             ],
             [
              0.4444444444444444,
              "#bd3786"
             ],
             [
              0.5555555555555556,
              "#d8576b"
             ],
             [
              0.6666666666666666,
              "#ed7953"
             ],
             [
              0.7777777777777778,
              "#fb9f3a"
             ],
             [
              0.8888888888888888,
              "#fdca26"
             ],
             [
              1,
              "#f0f921"
             ]
            ],
            "type": "contour"
           }
          ],
          "contourcarpet": [
           {
            "colorbar": {
             "outlinewidth": 0,
             "ticks": ""
            },
            "type": "contourcarpet"
           }
          ],
          "heatmap": [
           {
            "colorbar": {
             "outlinewidth": 0,
             "ticks": ""
            },
            "colorscale": [
             [
              0,
              "#0d0887"
             ],
             [
              0.1111111111111111,
              "#46039f"
             ],
             [
              0.2222222222222222,
              "#7201a8"
             ],
             [
              0.3333333333333333,
              "#9c179e"
             ],
             [
              0.4444444444444444,
              "#bd3786"
             ],
             [
              0.5555555555555556,
              "#d8576b"
             ],
             [
              0.6666666666666666,
              "#ed7953"
             ],
             [
              0.7777777777777778,
              "#fb9f3a"
             ],
             [
              0.8888888888888888,
              "#fdca26"
             ],
             [
              1,
              "#f0f921"
             ]
            ],
            "type": "heatmap"
           }
          ],
          "heatmapgl": [
           {
            "colorbar": {
             "outlinewidth": 0,
             "ticks": ""
            },
            "colorscale": [
             [
              0,
              "#0d0887"
             ],
             [
              0.1111111111111111,
              "#46039f"
             ],
             [
              0.2222222222222222,
              "#7201a8"
             ],
             [
              0.3333333333333333,
              "#9c179e"
             ],
             [
              0.4444444444444444,
              "#bd3786"
             ],
             [
              0.5555555555555556,
              "#d8576b"
             ],
             [
              0.6666666666666666,
              "#ed7953"
             ],
             [
              0.7777777777777778,
              "#fb9f3a"
             ],
             [
              0.8888888888888888,
              "#fdca26"
             ],
             [
              1,
              "#f0f921"
             ]
            ],
            "type": "heatmapgl"
           }
          ],
          "histogram": [
           {
            "marker": {
             "pattern": {
              "fillmode": "overlay",
              "size": 10,
              "solidity": 0.2
             }
            },
            "type": "histogram"
           }
          ],
          "histogram2d": [
           {
            "colorbar": {
             "outlinewidth": 0,
             "ticks": ""
            },
            "colorscale": [
             [
              0,
              "#0d0887"
             ],
             [
              0.1111111111111111,
              "#46039f"
             ],
             [
              0.2222222222222222,
              "#7201a8"
             ],
             [
              0.3333333333333333,
              "#9c179e"
             ],
             [
              0.4444444444444444,
              "#bd3786"
             ],
             [
              0.5555555555555556,
              "#d8576b"
             ],
             [
              0.6666666666666666,
              "#ed7953"
             ],
             [
              0.7777777777777778,
              "#fb9f3a"
             ],
             [
              0.8888888888888888,
              "#fdca26"
             ],
             [
              1,
              "#f0f921"
             ]
            ],
            "type": "histogram2d"
           }
          ],
          "histogram2dcontour": [
           {
            "colorbar": {
             "outlinewidth": 0,
             "ticks": ""
            },
            "colorscale": [
             [
              0,
              "#0d0887"
             ],
             [
              0.1111111111111111,
              "#46039f"
             ],
             [
              0.2222222222222222,
              "#7201a8"
             ],
             [
              0.3333333333333333,
              "#9c179e"
             ],
             [
              0.4444444444444444,
              "#bd3786"
             ],
             [
              0.5555555555555556,
              "#d8576b"
             ],
             [
              0.6666666666666666,
              "#ed7953"
             ],
             [
              0.7777777777777778,
              "#fb9f3a"
             ],
             [
              0.8888888888888888,
              "#fdca26"
             ],
             [
              1,
              "#f0f921"
             ]
            ],
            "type": "histogram2dcontour"
           }
          ],
          "mesh3d": [
           {
            "colorbar": {
             "outlinewidth": 0,
             "ticks": ""
            },
            "type": "mesh3d"
           }
          ],
          "parcoords": [
           {
            "line": {
             "colorbar": {
              "outlinewidth": 0,
              "ticks": ""
             }
            },
            "type": "parcoords"
           }
          ],
          "pie": [
           {
            "automargin": true,
            "type": "pie"
           }
          ],
          "scatter": [
           {
            "fillpattern": {
             "fillmode": "overlay",
             "size": 10,
             "solidity": 0.2
            },
            "type": "scatter"
           }
          ],
          "scatter3d": [
           {
            "line": {
             "colorbar": {
              "outlinewidth": 0,
              "ticks": ""
             }
            },
            "marker": {
             "colorbar": {
              "outlinewidth": 0,
              "ticks": ""
             }
            },
            "type": "scatter3d"
           }
          ],
          "scattercarpet": [
           {
            "marker": {
             "colorbar": {
              "outlinewidth": 0,
              "ticks": ""
             }
            },
            "type": "scattercarpet"
           }
          ],
          "scattergeo": [
           {
            "marker": {
             "colorbar": {
              "outlinewidth": 0,
              "ticks": ""
             }
            },
            "type": "scattergeo"
           }
          ],
          "scattergl": [
           {
            "marker": {
             "colorbar": {
              "outlinewidth": 0,
              "ticks": ""
             }
            },
            "type": "scattergl"
           }
          ],
          "scattermapbox": [
           {
            "marker": {
             "colorbar": {
              "outlinewidth": 0,
              "ticks": ""
             }
            },
            "type": "scattermapbox"
           }
          ],
          "scatterpolar": [
           {
            "marker": {
             "colorbar": {
              "outlinewidth": 0,
              "ticks": ""
             }
            },
            "type": "scatterpolar"
           }
          ],
          "scatterpolargl": [
           {
            "marker": {
             "colorbar": {
              "outlinewidth": 0,
              "ticks": ""
             }
            },
            "type": "scatterpolargl"
           }
          ],
          "scatterternary": [
           {
            "marker": {
             "colorbar": {
              "outlinewidth": 0,
              "ticks": ""
             }
            },
            "type": "scatterternary"
           }
          ],
          "surface": [
           {
            "colorbar": {
             "outlinewidth": 0,
             "ticks": ""
            },
            "colorscale": [
             [
              0,
              "#0d0887"
             ],
             [
              0.1111111111111111,
              "#46039f"
             ],
             [
              0.2222222222222222,
              "#7201a8"
             ],
             [
              0.3333333333333333,
              "#9c179e"
             ],
             [
              0.4444444444444444,
              "#bd3786"
             ],
             [
              0.5555555555555556,
              "#d8576b"
             ],
             [
              0.6666666666666666,
              "#ed7953"
             ],
             [
              0.7777777777777778,
              "#fb9f3a"
             ],
             [
              0.8888888888888888,
              "#fdca26"
             ],
             [
              1,
              "#f0f921"
             ]
            ],
            "type": "surface"
           }
          ],
          "table": [
           {
            "cells": {
             "fill": {
              "color": "#EBF0F8"
             },
             "line": {
              "color": "white"
             }
            },
            "header": {
             "fill": {
              "color": "#C8D4E3"
             },
             "line": {
              "color": "white"
             }
            },
            "type": "table"
           }
          ]
         },
         "layout": {
          "annotationdefaults": {
           "arrowcolor": "#2a3f5f",
           "arrowhead": 0,
           "arrowwidth": 1
          },
          "autotypenumbers": "strict",
          "coloraxis": {
           "colorbar": {
            "outlinewidth": 0,
            "ticks": ""
           }
          },
          "colorscale": {
           "diverging": [
            [
             0,
             "#8e0152"
            ],
            [
             0.1,
             "#c51b7d"
            ],
            [
             0.2,
             "#de77ae"
            ],
            [
             0.3,
             "#f1b6da"
            ],
            [
             0.4,
             "#fde0ef"
            ],
            [
             0.5,
             "#f7f7f7"
            ],
            [
             0.6,
             "#e6f5d0"
            ],
            [
             0.7,
             "#b8e186"
            ],
            [
             0.8,
             "#7fbc41"
            ],
            [
             0.9,
             "#4d9221"
            ],
            [
             1,
             "#276419"
            ]
           ],
           "sequential": [
            [
             0,
             "#0d0887"
            ],
            [
             0.1111111111111111,
             "#46039f"
            ],
            [
             0.2222222222222222,
             "#7201a8"
            ],
            [
             0.3333333333333333,
             "#9c179e"
            ],
            [
             0.4444444444444444,
             "#bd3786"
            ],
            [
             0.5555555555555556,
             "#d8576b"
            ],
            [
             0.6666666666666666,
             "#ed7953"
            ],
            [
             0.7777777777777778,
             "#fb9f3a"
            ],
            [
             0.8888888888888888,
             "#fdca26"
            ],
            [
             1,
             "#f0f921"
            ]
           ],
           "sequentialminus": [
            [
             0,
             "#0d0887"
            ],
            [
             0.1111111111111111,
             "#46039f"
            ],
            [
             0.2222222222222222,
             "#7201a8"
            ],
            [
             0.3333333333333333,
             "#9c179e"
            ],
            [
             0.4444444444444444,
             "#bd3786"
            ],
            [
             0.5555555555555556,
             "#d8576b"
            ],
            [
             0.6666666666666666,
             "#ed7953"
            ],
            [
             0.7777777777777778,
             "#fb9f3a"
            ],
            [
             0.8888888888888888,
             "#fdca26"
            ],
            [
             1,
             "#f0f921"
            ]
           ]
          },
          "colorway": [
           "#636efa",
           "#EF553B",
           "#00cc96",
           "#ab63fa",
           "#FFA15A",
           "#19d3f3",
           "#FF6692",
           "#B6E880",
           "#FF97FF",
           "#FECB52"
          ],
          "font": {
           "color": "#2a3f5f"
          },
          "geo": {
           "bgcolor": "white",
           "lakecolor": "white",
           "landcolor": "#E5ECF6",
           "showlakes": true,
           "showland": true,
           "subunitcolor": "white"
          },
          "hoverlabel": {
           "align": "left"
          },
          "hovermode": "closest",
          "mapbox": {
           "style": "light"
          },
          "paper_bgcolor": "white",
          "plot_bgcolor": "#E5ECF6",
          "polar": {
           "angularaxis": {
            "gridcolor": "white",
            "linecolor": "white",
            "ticks": ""
           },
           "bgcolor": "#E5ECF6",
           "radialaxis": {
            "gridcolor": "white",
            "linecolor": "white",
            "ticks": ""
           }
          },
          "scene": {
           "xaxis": {
            "backgroundcolor": "#E5ECF6",
            "gridcolor": "white",
            "gridwidth": 2,
            "linecolor": "white",
            "showbackground": true,
            "ticks": "",
            "zerolinecolor": "white"
           },
           "yaxis": {
            "backgroundcolor": "#E5ECF6",
            "gridcolor": "white",
            "gridwidth": 2,
            "linecolor": "white",
            "showbackground": true,
            "ticks": "",
            "zerolinecolor": "white"
           },
           "zaxis": {
            "backgroundcolor": "#E5ECF6",
            "gridcolor": "white",
            "gridwidth": 2,
            "linecolor": "white",
            "showbackground": true,
            "ticks": "",
            "zerolinecolor": "white"
           }
          },
          "shapedefaults": {
           "line": {
            "color": "#2a3f5f"
           }
          },
          "ternary": {
           "aaxis": {
            "gridcolor": "white",
            "linecolor": "white",
            "ticks": ""
           },
           "baxis": {
            "gridcolor": "white",
            "linecolor": "white",
            "ticks": ""
           },
           "bgcolor": "#E5ECF6",
           "caxis": {
            "gridcolor": "white",
            "linecolor": "white",
            "ticks": ""
           }
          },
          "title": {
           "x": 0.05
          },
          "xaxis": {
           "automargin": true,
           "gridcolor": "white",
           "linecolor": "white",
           "ticks": "",
           "title": {
            "standoff": 15
           },
           "zerolinecolor": "white",
           "zerolinewidth": 2
          },
          "yaxis": {
           "automargin": true,
           "gridcolor": "white",
           "linecolor": "white",
           "ticks": "",
           "title": {
            "standoff": 15
           },
           "zerolinecolor": "white",
           "zerolinewidth": 2
          }
         }
        },
        "xaxis": {
         "anchor": "y",
         "domain": [
          0,
          1
         ],
         "title": {
          "text": "avg_age"
         }
        },
        "yaxis": {
         "anchor": "x",
         "domain": [
          0,
          1
         ],
         "title": {
          "text": "violation"
         }
        }
       }
      }
     },
     "metadata": {},
     "output_type": "display_data"
    }
   ],
   "source": [
    "from polars import col\n",
    "avg  = (df\n",
    " .filter(col('driver_gender').is_in(['male', 'female']))\n",
    " .group_by('violation')\n",
    " .agg(col('driver_age').mean().round(2).alias('avg_age'))\n",
    " .sort('avg_age', descending=True)\n",
    " )\n",
    "\n",
    "fig = px.bar(avg, x='avg_age', y='violation')\n",
    "fig.show()"
   ]
  },
  {
   "cell_type": "code",
   "execution_count": 37,
   "metadata": {},
   "outputs": [
    {
     "data": {
      "text/html": [
       "<div><style>\n",
       ".dataframe > thead > tr,\n",
       ".dataframe > tbody > tr {\n",
       "  text-align: right;\n",
       "  white-space: pre-wrap;\n",
       "}\n",
       "</style>\n",
       "<small>shape: (2, 2)</small><table border=\"1\" class=\"dataframe\"><thead><tr><th>driver_gender</th><th>driver_age</th></tr><tr><td>str</td><td>f64</td></tr></thead><tbody><tr><td>&quot;male&quot;</td><td>35.95</td></tr><tr><td>&quot;female&quot;</td><td>34.39</td></tr></tbody></table></div>"
      ],
      "text/plain": [
       "shape: (2, 2)\n",
       "┌───────────────┬────────────┐\n",
       "│ driver_gender ┆ driver_age │\n",
       "│ ---           ┆ ---        │\n",
       "│ str           ┆ f64        │\n",
       "╞═══════════════╪════════════╡\n",
       "│ male          ┆ 35.95      │\n",
       "│ female        ┆ 34.39      │\n",
       "└───────────────┴────────────┘"
      ]
     },
     "execution_count": 37,
     "metadata": {},
     "output_type": "execute_result"
    }
   ],
   "source": [
    "#df.group_by(cs.string()).agg(cs.integer().sum())\n",
    "(\n",
    "    month_df\n",
    "        .filter(col('driver_gender').is_in(['male', 'female']))\n",
    "        .group_by('driver_gender')\n",
    "        .agg(col('driver_age').mean().round(2))\n",
    ")"
   ]
  },
  {
   "cell_type": "code",
   "execution_count": 39,
   "metadata": {},
   "outputs": [
    {
     "data": {
      "text/html": [
       "<div><style>\n",
       ".dataframe > thead > tr,\n",
       ".dataframe > tbody > tr {\n",
       "  text-align: right;\n",
       "  white-space: pre-wrap;\n",
       "}\n",
       "</style>\n",
       "<small>shape: (2, 2)</small><table border=\"1\" class=\"dataframe\"><thead><tr><th>driver_race</th><th>driver_age</th></tr><tr><td>str</td><td>f64</td></tr></thead><tbody><tr><td>&quot;White&quot;</td><td>36.21</td></tr><tr><td>&quot;Black&quot;</td><td>34.25</td></tr></tbody></table></div>"
      ],
      "text/plain": [
       "shape: (2, 2)\n",
       "┌─────────────┬────────────┐\n",
       "│ driver_race ┆ driver_age │\n",
       "│ ---         ┆ ---        │\n",
       "│ str         ┆ f64        │\n",
       "╞═════════════╪════════════╡\n",
       "│ White       ┆ 36.21      │\n",
       "│ Black       ┆ 34.25      │\n",
       "└─────────────┴────────────┘"
      ]
     },
     "execution_count": 39,
     "metadata": {},
     "output_type": "execute_result"
    }
   ],
   "source": [
    "(\n",
    "    month_df\n",
    "        .filter(col('driver_race').is_in(['Black', 'White']))\n",
    "        .group_by('driver_race')\n",
    "        .agg(col('driver_age').mean().round(2))\n",
    ")"
   ]
  },
  {
   "cell_type": "code",
   "execution_count": null,
   "metadata": {},
   "outputs": [],
   "source": []
  },
  {
   "cell_type": "markdown",
   "metadata": {},
   "source": []
  },
  {
   "cell_type": "code",
   "execution_count": 195,
   "metadata": {},
   "outputs": [
    {
     "data": {
      "text/html": [
       "<div><style>\n",
       ".dataframe > thead > tr,\n",
       ".dataframe > tbody > tr {\n",
       "  text-align: right;\n",
       "  white-space: pre-wrap;\n",
       "}\n",
       "</style>\n",
       "<small>shape: (211_211, 11)</small><table border=\"1\" class=\"dataframe\"><thead><tr><th>id</th><th>stop_date</th><th>county_name</th><th>county_fips</th><th>police_department</th><th>driver_gender</th><th>driver_birthdate</th><th>driver_race</th><th>officer_id</th><th>driver_age</th><th>violation</th></tr><tr><td>str</td><td>date</td><td>str</td><td>str</td><td>str</td><td>str</td><td>date</td><td>str</td><td>str</td><td>i64</td><td>str</td></tr></thead><tbody><tr><td>&quot;MS-2013-00001&quot;</td><td>2013-01-01</td><td>&quot;Jones&quot;</td><td>&quot;28067&quot;</td><td>&quot;Mississippi Hi…</td><td>&quot;male&quot;</td><td>1950-06-14</td><td>&quot;Black&quot;</td><td>&quot;J042&quot;</td><td>63</td><td>&quot;Seat belt&quot;</td></tr><tr><td>&quot;MS-2013-00002&quot;</td><td>2013-01-01</td><td>&quot;Lauderdale&quot;</td><td>&quot;28075&quot;</td><td>&quot;Mississippi Hi…</td><td>&quot;male&quot;</td><td>1967-04-06</td><td>&quot;Black&quot;</td><td>&quot;B026&quot;</td><td>46</td><td>&quot;Careless drivi…</td></tr><tr><td>&quot;MS-2013-00003&quot;</td><td>2013-01-01</td><td>&quot;Pike&quot;</td><td>&quot;28113&quot;</td><td>&quot;Mississippi Hi…</td><td>&quot;male&quot;</td><td>1974-04-15</td><td>&quot;Black&quot;</td><td>&quot;M009&quot;</td><td>39</td><td>&quot;Speeding&quot;</td></tr><tr><td>&quot;MS-2013-00004&quot;</td><td>2013-01-01</td><td>&quot;Hancock&quot;</td><td>&quot;28045&quot;</td><td>&quot;Mississippi Hi…</td><td>&quot;male&quot;</td><td>1981-03-23</td><td>&quot;White&quot;</td><td>&quot;K035&quot;</td><td>32</td><td>&quot;Speeding&quot;</td></tr><tr><td>&quot;MS-2013-00005&quot;</td><td>2013-01-01</td><td>&quot;Holmes&quot;</td><td>&quot;28051&quot;</td><td>&quot;Mississippi Hi…</td><td>&quot;male&quot;</td><td>1992-08-03</td><td>&quot;White&quot;</td><td>&quot;D028&quot;</td><td>20</td><td>&quot;Speeding&quot;</td></tr><tr><td>&quot;MS-2013-00006&quot;</td><td>2013-01-01</td><td>&quot;Jackson&quot;</td><td>&quot;28059&quot;</td><td>&quot;Mississippi Hi…</td><td>&quot;female&quot;</td><td>1960-05-02</td><td>&quot;White&quot;</td><td>&quot;K023&quot;</td><td>53</td><td>&quot;Speeding&quot;</td></tr><tr><td>&quot;MS-2013-00007&quot;</td><td>2013-01-01</td><td>&quot;Jackson&quot;</td><td>&quot;28059&quot;</td><td>&quot;Mississippi Hi…</td><td>&quot;female&quot;</td><td>1953-03-16</td><td>&quot;White&quot;</td><td>&quot;K032&quot;</td><td>60</td><td>&quot;Speeding&quot;</td></tr><tr><td>&quot;MS-2013-00008&quot;</td><td>2013-01-01</td><td>&quot;Grenada&quot;</td><td>&quot;28043&quot;</td><td>&quot;Mississippi Hi…</td><td>&quot;female&quot;</td><td>1993-06-14</td><td>&quot;White&quot;</td><td>&quot;D021&quot;</td><td>20</td><td>&quot;Speeding&quot;</td></tr><tr><td>&quot;MS-2013-00009&quot;</td><td>2013-01-01</td><td>&quot;Holmes&quot;</td><td>&quot;28051&quot;</td><td>&quot;Mississippi Hi…</td><td>&quot;male&quot;</td><td>1947-12-11</td><td>&quot;White&quot;</td><td>&quot;R021&quot;</td><td>65</td><td>&quot;Speeding&quot;</td></tr><tr><td>&quot;MS-2013-00010&quot;</td><td>2013-01-01</td><td>&quot;Holmes&quot;</td><td>&quot;28051&quot;</td><td>&quot;Mississippi Hi…</td><td>&quot;male&quot;</td><td>1984-07-14</td><td>&quot;White&quot;</td><td>&quot;R021&quot;</td><td>28</td><td>&quot;Speeding&quot;</td></tr><tr><td>&quot;MS-2013-00011&quot;</td><td>2013-01-01</td><td>&quot;Scott&quot;</td><td>&quot;28123&quot;</td><td>&quot;Mississippi Hi…</td><td>&quot;male&quot;</td><td>1978-10-27</td><td>&quot;White&quot;</td><td>&quot;H028&quot;</td><td>34</td><td>&quot;Speeding&quot;</td></tr><tr><td>&quot;MS-2013-00012&quot;</td><td>2013-01-01</td><td>&quot;Scott&quot;</td><td>&quot;28123&quot;</td><td>&quot;Mississippi Hi…</td><td>&quot;male&quot;</td><td>1978-10-27</td><td>&quot;White&quot;</td><td>&quot;H028&quot;</td><td>34</td><td>&quot;Other or unkno…</td></tr><tr><td>&hellip;</td><td>&hellip;</td><td>&hellip;</td><td>&hellip;</td><td>&hellip;</td><td>&hellip;</td><td>&hellip;</td><td>&hellip;</td><td>&hellip;</td><td>&hellip;</td><td>&hellip;</td></tr><tr><td>&quot;MS-2016-24286&quot;</td><td>2016-07-05</td><td>&quot;Jackson&quot;</td><td>&quot;28059&quot;</td><td>&quot;Mississippi Hi…</td><td>&quot;male&quot;</td><td>1972-09-10</td><td>&quot;Black&quot;</td><td>&quot;K036&quot;</td><td>44</td><td>&quot;Careless drivi…</td></tr><tr><td>&quot;MS-2016-24287&quot;</td><td>2016-07-05</td><td>&quot;Jackson&quot;</td><td>&quot;28059&quot;</td><td>&quot;Mississippi Hi…</td><td>&quot;male&quot;</td><td>1972-09-10</td><td>&quot;Black&quot;</td><td>&quot;K036&quot;</td><td>44</td><td>&quot;Speeding&quot;</td></tr><tr><td>&quot;MS-2016-24288&quot;</td><td>2016-07-05</td><td>&quot;Grenada&quot;</td><td>&quot;28043&quot;</td><td>&quot;Mississippi Hi…</td><td>&quot;female&quot;</td><td>1998-07-09</td><td>&quot;White&quot;</td><td>&quot;D011&quot;</td><td>18</td><td>&quot;Seat belt&quot;</td></tr><tr><td>&quot;MS-2016-24289&quot;</td><td>2016-07-06</td><td>&quot;Washington&quot;</td><td>&quot;28151&quot;</td><td>&quot;Mississippi Hi…</td><td>&quot;female&quot;</td><td>1962-08-07</td><td>&quot;Black&quot;</td><td>&quot;D018&quot;</td><td>54</td><td>&quot;Speeding&quot;</td></tr><tr><td>&quot;MS-2016-24290&quot;</td><td>2016-07-06</td><td>&quot;Copiah&quot;</td><td>&quot;28029&quot;</td><td>&quot;Mississippi Hi…</td><td>&quot;male&quot;</td><td>1986-09-17</td><td>&quot;White&quot;</td><td>&quot;C015&quot;</td><td>30</td><td>&quot;Seat belt&quot;</td></tr><tr><td>&quot;MS-2016-24291&quot;</td><td>2016-07-06</td><td>&quot;Lee&quot;</td><td>&quot;28081&quot;</td><td>&quot;Mississippi Hi…</td><td>&quot;female&quot;</td><td>1955-07-29</td><td>&quot;White&quot;</td><td>&quot;F016&quot;</td><td>61</td><td>&quot;Speeding&quot;</td></tr><tr><td>&quot;MS-2016-24292&quot;</td><td>2016-07-07</td><td>&quot;Simpson&quot;</td><td>&quot;28127&quot;</td><td>&quot;Mississippi Hi…</td><td>&quot;male&quot;</td><td>1996-10-03</td><td>&quot;White&quot;</td><td>&quot;C034&quot;</td><td>20</td><td>&quot;Speeding&quot;</td></tr><tr><td>&quot;MS-2016-24293&quot;</td><td>2016-07-09</td><td>&quot;George&quot;</td><td>&quot;28039&quot;</td><td>&quot;Mississippi Hi…</td><td>&quot;male&quot;</td><td>1992-07-14</td><td>&quot;White&quot;</td><td>&quot;K025&quot;</td><td>24</td><td>&quot;Speeding&quot;</td></tr><tr><td>&quot;MS-2016-24294&quot;</td><td>2016-07-10</td><td>&quot;Copiah&quot;</td><td>&quot;28029&quot;</td><td>&quot;Mississippi Hi…</td><td>&quot;male&quot;</td><td>1975-12-23</td><td>&quot;Black&quot;</td><td>&quot;C033&quot;</td><td>41</td><td>&quot;Speeding&quot;</td></tr><tr><td>&quot;MS-2016-24295&quot;</td><td>2016-07-11</td><td>&quot;Grenada&quot;</td><td>&quot;28043&quot;</td><td>&quot;Mississippi Hi…</td><td>&quot;male&quot;</td><td>1998-02-02</td><td>&quot;White&quot;</td><td>&quot;D014&quot;</td><td>18</td><td>&quot;Seat belt&quot;</td></tr><tr><td>&quot;MS-2016-24296&quot;</td><td>2016-07-14</td><td>&quot;Copiah&quot;</td><td>&quot;28029&quot;</td><td>&quot;Mississippi Hi…</td><td>&quot;female&quot;</td><td>1970-06-14</td><td>&quot;White&quot;</td><td>&quot;C015&quot;</td><td>46</td><td>&quot;License-Permit…</td></tr><tr><td>&quot;MS-2016-24297&quot;</td><td>2016-07-14</td><td>&quot;Copiah&quot;</td><td>&quot;28029&quot;</td><td>&quot;Mississippi Hi…</td><td>&quot;male&quot;</td><td>1948-03-11</td><td>&quot;White&quot;</td><td>&quot;C015&quot;</td><td>68</td><td>&quot;Seat belt&quot;</td></tr></tbody></table></div>"
      ],
      "text/plain": [
       "shape: (211_211, 11)\n",
       "┌───────────┬───────────┬───────────┬───────────┬───┬───────────┬───────────┬───────────┬──────────┐\n",
       "│ id        ┆ stop_date ┆ county_na ┆ county_fi ┆ … ┆ driver_ra ┆ officer_i ┆ driver_ag ┆ violatio │\n",
       "│ ---       ┆ ---       ┆ me        ┆ ps        ┆   ┆ ce        ┆ d         ┆ e         ┆ n        │\n",
       "│ str       ┆ date      ┆ ---       ┆ ---       ┆   ┆ ---       ┆ ---       ┆ ---       ┆ ---      │\n",
       "│           ┆           ┆ str       ┆ str       ┆   ┆ str       ┆ str       ┆ i64       ┆ str      │\n",
       "╞═══════════╪═══════════╪═══════════╪═══════════╪═══╪═══════════╪═══════════╪═══════════╪══════════╡\n",
       "│ MS-2013-0 ┆ 2013-01-0 ┆ Jones     ┆ 28067     ┆ … ┆ Black     ┆ J042      ┆ 63        ┆ Seat     │\n",
       "│ 0001      ┆ 1         ┆           ┆           ┆   ┆           ┆           ┆           ┆ belt     │\n",
       "│ MS-2013-0 ┆ 2013-01-0 ┆ Lauderdal ┆ 28075     ┆ … ┆ Black     ┆ B026      ┆ 46        ┆ Careless │\n",
       "│ 0002      ┆ 1         ┆ e         ┆           ┆   ┆           ┆           ┆           ┆ driving  │\n",
       "│ MS-2013-0 ┆ 2013-01-0 ┆ Pike      ┆ 28113     ┆ … ┆ Black     ┆ M009      ┆ 39        ┆ Speeding │\n",
       "│ 0003      ┆ 1         ┆           ┆           ┆   ┆           ┆           ┆           ┆          │\n",
       "│ MS-2013-0 ┆ 2013-01-0 ┆ Hancock   ┆ 28045     ┆ … ┆ White     ┆ K035      ┆ 32        ┆ Speeding │\n",
       "│ 0004      ┆ 1         ┆           ┆           ┆   ┆           ┆           ┆           ┆          │\n",
       "│ …         ┆ …         ┆ …         ┆ …         ┆ … ┆ …         ┆ …         ┆ …         ┆ …        │\n",
       "│ MS-2016-2 ┆ 2016-07-1 ┆ Copiah    ┆ 28029     ┆ … ┆ Black     ┆ C033      ┆ 41        ┆ Speeding │\n",
       "│ 4294      ┆ 0         ┆           ┆           ┆   ┆           ┆           ┆           ┆          │\n",
       "│ MS-2016-2 ┆ 2016-07-1 ┆ Grenada   ┆ 28043     ┆ … ┆ White     ┆ D014      ┆ 18        ┆ Seat     │\n",
       "│ 4295      ┆ 1         ┆           ┆           ┆   ┆           ┆           ┆           ┆ belt     │\n",
       "│ MS-2016-2 ┆ 2016-07-1 ┆ Copiah    ┆ 28029     ┆ … ┆ White     ┆ C015      ┆ 46        ┆ License- │\n",
       "│ 4296      ┆ 4         ┆           ┆           ┆   ┆           ┆           ┆           ┆ Permit-I │\n",
       "│           ┆           ┆           ┆           ┆   ┆           ┆           ┆           ┆ nsurance │\n",
       "│ MS-2016-2 ┆ 2016-07-1 ┆ Copiah    ┆ 28029     ┆ … ┆ White     ┆ C015      ┆ 68        ┆ Seat     │\n",
       "│ 4297      ┆ 4         ┆           ┆           ┆   ┆           ┆           ┆           ┆ belt     │\n",
       "└───────────┴───────────┴───────────┴───────────┴───┴───────────┴───────────┴───────────┴──────────┘"
      ]
     },
     "execution_count": 195,
     "metadata": {},
     "output_type": "execute_result"
    }
   ],
   "source": [
    "df"
   ]
  }
 ],
 "metadata": {
  "kernelspec": {
   "display_name": "Python 3",
   "language": "python",
   "name": "python3"
  },
  "language_info": {
   "codemirror_mode": {
    "name": "ipython",
    "version": 3
   },
   "file_extension": ".py",
   "mimetype": "text/x-python",
   "name": "python",
   "nbconvert_exporter": "python",
   "pygments_lexer": "ipython3",
   "version": "3.11.4"
  }
 },
 "nbformat": 4,
 "nbformat_minor": 2
}
