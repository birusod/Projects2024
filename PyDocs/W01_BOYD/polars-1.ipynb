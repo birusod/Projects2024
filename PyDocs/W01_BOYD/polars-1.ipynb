{
 "cells": [
  {
   "cell_type": "markdown",
   "metadata": {},
   "source": [
    "# Getting Started with Polars\n",
    "[polars](https://www.youtube.com/watch?v=CJ0f45evuME&t=11s)"
   ]
  },
  {
   "cell_type": "code",
   "execution_count": 1,
   "metadata": {},
   "outputs": [],
   "source": [
    "import numpy as np\n",
    "import polars as pl"
   ]
  },
  {
   "cell_type": "code",
   "execution_count": 2,
   "metadata": {},
   "outputs": [
    {
     "data": {
      "text/plain": [
       "'0.20.3'"
      ]
     },
     "execution_count": 2,
     "metadata": {},
     "output_type": "execute_result"
    }
   ],
   "source": [
    "pl.__version__"
   ]
  },
  {
   "cell_type": "code",
   "execution_count": 10,
   "metadata": {},
   "outputs": [
    {
     "name": "stdout",
     "output_type": "stream",
     "text": [
      "['Array', 'ArrowError', 'Binary', 'Boolean', 'Categorical', 'CategoricalRemappingWarning', 'ChronoFormatWarning', 'ColumnNotFoundError', 'ComputeError', 'Config', 'DATETIME_DTYPES', 'DURATION_DTYPES', 'DataFrame', 'DataType', 'Date', 'Datetime', 'Decimal', 'DuplicateError', 'Duration', 'Enum', 'Expr', 'FLOAT_DTYPES', 'Field', 'Float32', 'Float64', 'INTEGER_DTYPES', 'InProcessQuery', 'Int16', 'Int32', 'Int64', 'Int8', 'InvalidOperationError', 'LazyFrame', 'List', 'NESTED_DTYPES', 'NUMERIC_DTYPES', 'NoDataError', 'Null', 'Object', 'OutOfBoundsError', 'PolarsDataType', 'PolarsPanicError', 'SQLContext', 'SchemaError', 'SchemaFieldNotFoundError', 'Series', 'ShapeError', 'String', 'StringCache', 'Struct', 'StructFieldNotFoundError', 'TEMPORAL_DTYPES', 'Time', 'UInt16', 'UInt32', 'UInt64', 'UInt8', 'Unknown', 'Utf8', '__all__', '__annotations__', '__builtins__', '__cached__', '__doc__', '__file__', '__loader__', '__name__', '__package__', '__path__', '__register_startup_deps', '__spec__', '__version__', '_cpu_check', '_reexport', 'align_frames', 'all', 'all_horizontal', 'any', 'any_horizontal', 'api', 'apply', 'approx_n_unique', 'arange', 'arctan2', 'arctan2d', 'arg_sort_by', 'arg_where', 'build_info', 'coalesce', 'col', 'collect_all', 'collect_all_async', 'concat', 'concat_list', 'concat_str', 'config', 'contextlib', 'convert', 'corr', 'count', 'cov', 'cum_fold', 'cum_reduce', 'cum_sum', 'cum_sum_horizontal', 'cumfold', 'cumreduce', 'cumsum', 'cumsum_horizontal', 'dataframe', 'datatypes', 'date', 'date_range', 'date_ranges', 'datetime', 'datetime_range', 'datetime_ranges', 'dependencies', 'disable_string_cache', 'duration', 'element', 'enable_string_cache', 'exceptions', 'exclude', 'expr', 'first', 'fold', 'format', 'from_arrow', 'from_dataframe', 'from_dict', 'from_dicts', 'from_epoch', 'from_numpy', 'from_pandas', 'from_records', 'from_repr', 'functions', 'get_index_type', 'groups', 'head', 'implode', 'int_range', 'int_ranges', 'io', 'last', 'lazyframe', 'lit', 'map', 'map_batches', 'map_groups', 'max', 'max_horizontal', 'mean', 'median', 'min', 'min_horizontal', 'n_unique', 'ones', 'os', 'polars', 'quantile', 'read_avro', 'read_csv', 'read_csv_batched', 'read_database', 'read_database_uri', 'read_delta', 'read_excel', 'read_ipc', 'read_ipc_schema', 'read_ipc_stream', 'read_json', 'read_ndjson', 'read_ods', 'read_parquet', 'read_parquet_schema', 'reduce', 'repeat', 'rolling_corr', 'rolling_cov', 'scan_csv', 'scan_delta', 'scan_iceberg', 'scan_ipc', 'scan_ndjson', 'scan_parquet', 'scan_pyarrow_dataset', 'select', 'selectors', 'series', 'set_random_seed', 'show_versions', 'slice', 'sql', 'sql_expr', 'std', 'string_cache', 'struct', 'sum', 'sum_horizontal', 'tail', 'threadpool_size', 'time', 'time_range', 'time_ranges', 'type_aliases', 'using_string_cache', 'utils', 'var', 'when', 'wrap_df', 'wrap_s', 'zeros']\n"
     ]
    }
   ],
   "source": [
    "print(dir(pl))"
   ]
  },
  {
   "cell_type": "markdown",
   "metadata": {},
   "source": [
    "## Loading data"
   ]
  },
  {
   "cell_type": "code",
   "execution_count": 3,
   "metadata": {},
   "outputs": [
    {
     "name": "stdout",
     "output_type": "stream",
     "text": [
      "mypl.ipynb       pl2023_2024.csv  polars-1.ipynb\n"
     ]
    }
   ],
   "source": [
    "ls"
   ]
  },
  {
   "cell_type": "code",
   "execution_count": 4,
   "metadata": {},
   "outputs": [
    {
     "name": "stdout",
     "output_type": "stream",
     "text": [
      "total 136\n",
      "-rw-r--r--@ 1 birusod  staff  59063 Jan  3 22:19 mypl.ipynb\n",
      "-rw-r--r--@ 1 birusod  staff    773 Jan  1 23:23 pl2023_2024.csv\n",
      "-rw-r--r--@ 1 birusod  staff    582 Jan  3 23:06 polars-1.ipynb\n"
     ]
    }
   ],
   "source": [
    "ls -l"
   ]
  },
  {
   "cell_type": "markdown",
   "metadata": {},
   "source": [
    "pl.Categorical, pl.Float32, pl.Utf8,  pl.Int64, pl.Date, pl.String"
   ]
  },
  {
   "cell_type": "code",
   "execution_count": 22,
   "metadata": {},
   "outputs": [],
   "source": [
    "url = 'https://raw.githubusercontent.com/cengel/R-data-wrangling/master/data/MS_trafficstops_bw_age.csv'\n",
    "df = pl.read_csv(\n",
    "    url,\n",
    "    dtypes=[pl.String, pl.Date, pl.String, pl.String, pl.String, pl.String, pl.Date, pl.String, pl.String, pl.Int64, pl.String],\n",
    "    infer_schema_length=10000,\n",
    "    ignore_errors = True,\n",
    "    null_values = list('NA'))"
   ]
  },
  {
   "cell_type": "code",
   "execution_count": 23,
   "metadata": {},
   "outputs": [
    {
     "data": {
      "text/html": [
       "<div><style>\n",
       ".dataframe > thead > tr,\n",
       ".dataframe > tbody > tr {\n",
       "  text-align: right;\n",
       "  white-space: pre-wrap;\n",
       "}\n",
       "</style>\n",
       "<small>shape: (4, 11)</small><table border=\"1\" class=\"dataframe\"><thead><tr><th>id</th><th>stop_date</th><th>county_name</th><th>county_fips</th><th>police_department</th><th>driver_gender</th><th>driver_birthdate</th><th>driver_race</th><th>officer_id</th><th>driver_age</th><th>violation</th></tr><tr><td>str</td><td>date</td><td>str</td><td>str</td><td>str</td><td>str</td><td>date</td><td>str</td><td>str</td><td>i64</td><td>str</td></tr></thead><tbody><tr><td>&quot;MS-2013-00001&quot;</td><td>2013-01-01</td><td>&quot;Jones&quot;</td><td>&quot;28067&quot;</td><td>&quot;Mississippi Hi…</td><td>&quot;male&quot;</td><td>1950-06-14</td><td>&quot;Black&quot;</td><td>&quot;J042&quot;</td><td>63</td><td>&quot;Seat belt&quot;</td></tr><tr><td>&quot;MS-2013-00002&quot;</td><td>2013-01-01</td><td>&quot;Lauderdale&quot;</td><td>&quot;28075&quot;</td><td>&quot;Mississippi Hi…</td><td>&quot;male&quot;</td><td>1967-04-06</td><td>&quot;Black&quot;</td><td>&quot;B026&quot;</td><td>46</td><td>&quot;Careless drivi…</td></tr><tr><td>&quot;MS-2013-00003&quot;</td><td>2013-01-01</td><td>&quot;Pike&quot;</td><td>&quot;28113&quot;</td><td>&quot;Mississippi Hi…</td><td>&quot;male&quot;</td><td>1974-04-15</td><td>&quot;Black&quot;</td><td>&quot;M009&quot;</td><td>39</td><td>&quot;Speeding&quot;</td></tr><tr><td>&quot;MS-2013-00004&quot;</td><td>2013-01-01</td><td>&quot;Hancock&quot;</td><td>&quot;28045&quot;</td><td>&quot;Mississippi Hi…</td><td>&quot;male&quot;</td><td>1981-03-23</td><td>&quot;White&quot;</td><td>&quot;K035&quot;</td><td>32</td><td>&quot;Speeding&quot;</td></tr></tbody></table></div>"
      ],
      "text/plain": [
       "shape: (4, 11)\n",
       "┌───────────┬───────────┬───────────┬───────────┬───┬───────────┬───────────┬───────────┬──────────┐\n",
       "│ id        ┆ stop_date ┆ county_na ┆ county_fi ┆ … ┆ driver_ra ┆ officer_i ┆ driver_ag ┆ violatio │\n",
       "│ ---       ┆ ---       ┆ me        ┆ ps        ┆   ┆ ce        ┆ d         ┆ e         ┆ n        │\n",
       "│ str       ┆ date      ┆ ---       ┆ ---       ┆   ┆ ---       ┆ ---       ┆ ---       ┆ ---      │\n",
       "│           ┆           ┆ str       ┆ str       ┆   ┆ str       ┆ str       ┆ i64       ┆ str      │\n",
       "╞═══════════╪═══════════╪═══════════╪═══════════╪═══╪═══════════╪═══════════╪═══════════╪══════════╡\n",
       "│ MS-2013-0 ┆ 2013-01-0 ┆ Jones     ┆ 28067     ┆ … ┆ Black     ┆ J042      ┆ 63        ┆ Seat     │\n",
       "│ 0001      ┆ 1         ┆           ┆           ┆   ┆           ┆           ┆           ┆ belt     │\n",
       "│ MS-2013-0 ┆ 2013-01-0 ┆ Lauderdal ┆ 28075     ┆ … ┆ Black     ┆ B026      ┆ 46        ┆ Careless │\n",
       "│ 0002      ┆ 1         ┆ e         ┆           ┆   ┆           ┆           ┆           ┆ driving  │\n",
       "│ MS-2013-0 ┆ 2013-01-0 ┆ Pike      ┆ 28113     ┆ … ┆ Black     ┆ M009      ┆ 39        ┆ Speeding │\n",
       "│ 0003      ┆ 1         ┆           ┆           ┆   ┆           ┆           ┆           ┆          │\n",
       "│ MS-2013-0 ┆ 2013-01-0 ┆ Hancock   ┆ 28045     ┆ … ┆ White     ┆ K035      ┆ 32        ┆ Speeding │\n",
       "│ 0004      ┆ 1         ┆           ┆           ┆   ┆           ┆           ┆           ┆          │\n",
       "└───────────┴───────────┴───────────┴───────────┴───┴───────────┴───────────┴───────────┴──────────┘"
      ]
     },
     "execution_count": 23,
     "metadata": {},
     "output_type": "execute_result"
    }
   ],
   "source": [
    "df.head(4)"
   ]
  },
  {
   "cell_type": "code",
   "execution_count": 24,
   "metadata": {},
   "outputs": [
    {
     "data": {
      "text/plain": [
       "(211211, 11)"
      ]
     },
     "execution_count": 24,
     "metadata": {},
     "output_type": "execute_result"
    }
   ],
   "source": [
    "df.shape"
   ]
  },
  {
   "cell_type": "code",
   "execution_count": 25,
   "metadata": {},
   "outputs": [
    {
     "data": {
      "text/plain": [
       "['id',\n",
       " 'stop_date',\n",
       " 'county_name',\n",
       " 'county_fips',\n",
       " 'police_department',\n",
       " 'driver_gender',\n",
       " 'driver_birthdate',\n",
       " 'driver_race',\n",
       " 'officer_id',\n",
       " 'driver_age',\n",
       " 'violation']"
      ]
     },
     "execution_count": 25,
     "metadata": {},
     "output_type": "execute_result"
    }
   ],
   "source": [
    "df.columns"
   ]
  },
  {
   "cell_type": "markdown",
   "metadata": {},
   "source": [
    "## EDA"
   ]
  },
  {
   "cell_type": "code",
   "execution_count": 26,
   "metadata": {},
   "outputs": [
    {
     "data": {
      "text/html": [
       "<div><style>\n",
       ".dataframe > thead > tr,\n",
       ".dataframe > tbody > tr {\n",
       "  text-align: right;\n",
       "  white-space: pre-wrap;\n",
       "}\n",
       "</style>\n",
       "<small>shape: (11, 5)</small><table border=\"1\" class=\"dataframe\"><thead><tr><th>column_0</th><th>column_1</th><th>column_2</th><th>column_3</th><th>column_4</th></tr><tr><td>str</td><td>str</td><td>str</td><td>str</td><td>str</td></tr></thead><tbody><tr><td>&quot;MS-2015-41113&quot;</td><td>&quot;MS-2015-32025&quot;</td><td>&quot;MS-2015-08128&quot;</td><td>&quot;MS-2014-17788&quot;</td><td>&quot;MS-2015-14894&quot;</td></tr><tr><td>&quot;2015-09-05&quot;</td><td>&quot;2015-07-29&quot;</td><td>&quot;2015-03-07&quot;</td><td>&quot;2014-04-09&quot;</td><td>&quot;2015-04-22&quot;</td></tr><tr><td>&quot;Hinds&quot;</td><td>&quot;Bolivar&quot;</td><td>&quot;Humphreys&quot;</td><td>&quot;Perry&quot;</td><td>&quot;Jasper&quot;</td></tr><tr><td>&quot;28049&quot;</td><td>&quot;28011&quot;</td><td>&quot;28053&quot;</td><td>&quot;28111&quot;</td><td>&quot;28061&quot;</td></tr><tr><td>&quot;Mississippi Hi…</td><td>&quot;Mississippi Hi…</td><td>&quot;Mississippi Hi…</td><td>&quot;Mississippi Hi…</td><td>&quot;Mississippi Hi…</td></tr><tr><td>&quot;female&quot;</td><td>&quot;male&quot;</td><td>&quot;male&quot;</td><td>&quot;female&quot;</td><td>&quot;male&quot;</td></tr><tr><td>&quot;1985-02-08&quot;</td><td>&quot;1972-05-02&quot;</td><td>&quot;1981-01-08&quot;</td><td>&quot;1994-05-23&quot;</td><td>&quot;1993-04-26&quot;</td></tr><tr><td>&quot;Black&quot;</td><td>&quot;Black&quot;</td><td>&quot;Black&quot;</td><td>&quot;White&quot;</td><td>&quot;Black&quot;</td></tr><tr><td>&quot;C056&quot;</td><td>&quot;D025&quot;</td><td>&quot;B033&quot;</td><td>&quot;J042&quot;</td><td>&quot;H018&quot;</td></tr><tr><td>&quot;31&quot;</td><td>&quot;43&quot;</td><td>&quot;34&quot;</td><td>&quot;20&quot;</td><td>&quot;22&quot;</td></tr><tr><td>&quot;Seat belt&quot;</td><td>&quot;Speeding&quot;</td><td>&quot;Speeding&quot;</td><td>&quot;Speeding&quot;</td><td>&quot;License-Permit…</td></tr></tbody></table></div>"
      ],
      "text/plain": [
       "shape: (11, 5)\n",
       "┌───────────────┬───────────────┬───────────────┬───────────────┬──────────────────────────┐\n",
       "│ column_0      ┆ column_1      ┆ column_2      ┆ column_3      ┆ column_4                 │\n",
       "│ ---           ┆ ---           ┆ ---           ┆ ---           ┆ ---                      │\n",
       "│ str           ┆ str           ┆ str           ┆ str           ┆ str                      │\n",
       "╞═══════════════╪═══════════════╪═══════════════╪═══════════════╪══════════════════════════╡\n",
       "│ MS-2015-41113 ┆ MS-2015-32025 ┆ MS-2015-08128 ┆ MS-2014-17788 ┆ MS-2015-14894            │\n",
       "│ 2015-09-05    ┆ 2015-07-29    ┆ 2015-03-07    ┆ 2014-04-09    ┆ 2015-04-22               │\n",
       "│ Hinds         ┆ Bolivar       ┆ Humphreys     ┆ Perry         ┆ Jasper                   │\n",
       "│ 28049         ┆ 28011         ┆ 28053         ┆ 28111         ┆ 28061                    │\n",
       "│ …             ┆ …             ┆ …             ┆ …             ┆ …                        │\n",
       "│ Black         ┆ Black         ┆ Black         ┆ White         ┆ Black                    │\n",
       "│ C056          ┆ D025          ┆ B033          ┆ J042          ┆ H018                     │\n",
       "│ 31            ┆ 43            ┆ 34            ┆ 20            ┆ 22                       │\n",
       "│ Seat belt     ┆ Speeding      ┆ Speeding      ┆ Speeding      ┆ License-Permit-Insurance │\n",
       "└───────────────┴───────────────┴───────────────┴───────────────┴──────────────────────────┘"
      ]
     },
     "execution_count": 26,
     "metadata": {},
     "output_type": "execute_result"
    }
   ],
   "source": [
    "df.sample(5).transpose()"
   ]
  },
  {
   "cell_type": "code",
   "execution_count": 27,
   "metadata": {},
   "outputs": [
    {
     "data": {
      "text/plain": [
       "[String,\n",
       " Date,\n",
       " String,\n",
       " String,\n",
       " String,\n",
       " String,\n",
       " Date,\n",
       " String,\n",
       " String,\n",
       " Int64,\n",
       " String]"
      ]
     },
     "execution_count": 27,
     "metadata": {},
     "output_type": "execute_result"
    }
   ],
   "source": [
    "df.dtypes"
   ]
  },
  {
   "cell_type": "code",
   "execution_count": 28,
   "metadata": {},
   "outputs": [
    {
     "data": {
      "text/html": [
       "<div><style>\n",
       ".dataframe > thead > tr,\n",
       ".dataframe > tbody > tr {\n",
       "  text-align: right;\n",
       "  white-space: pre-wrap;\n",
       "}\n",
       "</style>\n",
       "<small>shape: (9, 12)</small><table border=\"1\" class=\"dataframe\"><thead><tr><th>describe</th><th>id</th><th>stop_date</th><th>county_name</th><th>county_fips</th><th>police_department</th><th>driver_gender</th><th>driver_birthdate</th><th>driver_race</th><th>officer_id</th><th>driver_age</th><th>violation</th></tr><tr><td>str</td><td>str</td><td>str</td><td>str</td><td>str</td><td>str</td><td>str</td><td>str</td><td>str</td><td>str</td><td>f64</td><td>str</td></tr></thead><tbody><tr><td>&quot;count&quot;</td><td>&quot;211211&quot;</td><td>&quot;211211&quot;</td><td>&quot;211211&quot;</td><td>&quot;211211&quot;</td><td>&quot;211211&quot;</td><td>&quot;211211&quot;</td><td>&quot;211102&quot;</td><td>&quot;211211&quot;</td><td>&quot;211211&quot;</td><td>211102.0</td><td>&quot;211211&quot;</td></tr><tr><td>&quot;null_count&quot;</td><td>&quot;0&quot;</td><td>&quot;0&quot;</td><td>&quot;0&quot;</td><td>&quot;0&quot;</td><td>&quot;0&quot;</td><td>&quot;0&quot;</td><td>&quot;109&quot;</td><td>&quot;0&quot;</td><td>&quot;0&quot;</td><td>109.0</td><td>&quot;0&quot;</td></tr><tr><td>&quot;mean&quot;</td><td>null</td><td>null</td><td>null</td><td>null</td><td>null</td><td>null</td><td>null</td><td>null</td><td>null</td><td>35.295516</td><td>null</td></tr><tr><td>&quot;std&quot;</td><td>null</td><td>null</td><td>null</td><td>null</td><td>null</td><td>null</td><td>null</td><td>null</td><td>null</td><td>13.580219</td><td>null</td></tr><tr><td>&quot;min&quot;</td><td>&quot;MS-2013-00001&quot;</td><td>&quot;2013-01-01&quot;</td><td>&quot;Adams&quot;</td><td>&quot;28001&quot;</td><td>&quot;Mississippi Hi…</td><td>&quot;NA&quot;</td><td>&quot;1930-01-11&quot;</td><td>&quot;Black&quot;</td><td>&quot;A003&quot;</td><td>7.0</td><td>&quot;Breaks-Lights-…</td></tr><tr><td>&quot;25%&quot;</td><td>null</td><td>null</td><td>null</td><td>null</td><td>null</td><td>null</td><td>null</td><td>null</td><td>null</td><td>24.0</td><td>null</td></tr><tr><td>&quot;50%&quot;</td><td>null</td><td>null</td><td>null</td><td>null</td><td>null</td><td>null</td><td>null</td><td>null</td><td>null</td><td>32.0</td><td>null</td></tr><tr><td>&quot;75%&quot;</td><td>null</td><td>null</td><td>null</td><td>null</td><td>null</td><td>null</td><td>null</td><td>null</td><td>null</td><td>44.0</td><td>null</td></tr><tr><td>&quot;max&quot;</td><td>&quot;MS-2016-24297&quot;</td><td>&quot;2016-07-14&quot;</td><td>&quot;Yazoo&quot;</td><td>&quot;28163&quot;</td><td>&quot;Mississippi Hi…</td><td>&quot;male&quot;</td><td>&quot;2007-10-21&quot;</td><td>&quot;White&quot;</td><td>&quot;W300&quot;</td><td>86.0</td><td>&quot;Speeding&quot;</td></tr></tbody></table></div>"
      ],
      "text/plain": [
       "shape: (9, 12)\n",
       "┌───────────┬───────────┬───────────┬───────────┬───┬───────────┬───────────┬───────────┬──────────┐\n",
       "│ describe  ┆ id        ┆ stop_date ┆ county_na ┆ … ┆ driver_ra ┆ officer_i ┆ driver_ag ┆ violatio │\n",
       "│ ---       ┆ ---       ┆ ---       ┆ me        ┆   ┆ ce        ┆ d         ┆ e         ┆ n        │\n",
       "│ str       ┆ str       ┆ str       ┆ ---       ┆   ┆ ---       ┆ ---       ┆ ---       ┆ ---      │\n",
       "│           ┆           ┆           ┆ str       ┆   ┆ str       ┆ str       ┆ f64       ┆ str      │\n",
       "╞═══════════╪═══════════╪═══════════╪═══════════╪═══╪═══════════╪═══════════╪═══════════╪══════════╡\n",
       "│ count     ┆ 211211    ┆ 211211    ┆ 211211    ┆ … ┆ 211211    ┆ 211211    ┆ 211102.0  ┆ 211211   │\n",
       "│ null_coun ┆ 0         ┆ 0         ┆ 0         ┆ … ┆ 0         ┆ 0         ┆ 109.0     ┆ 0        │\n",
       "│ t         ┆           ┆           ┆           ┆   ┆           ┆           ┆           ┆          │\n",
       "│ mean      ┆ null      ┆ null      ┆ null      ┆ … ┆ null      ┆ null      ┆ 35.295516 ┆ null     │\n",
       "│ std       ┆ null      ┆ null      ┆ null      ┆ … ┆ null      ┆ null      ┆ 13.580219 ┆ null     │\n",
       "│ min       ┆ MS-2013-0 ┆ 2013-01-0 ┆ Adams     ┆ … ┆ Black     ┆ A003      ┆ 7.0       ┆ Breaks-L │\n",
       "│           ┆ 0001      ┆ 1         ┆           ┆   ┆           ┆           ┆           ┆ ights-et │\n",
       "│           ┆           ┆           ┆           ┆   ┆           ┆           ┆           ┆ c        │\n",
       "│ 25%       ┆ null      ┆ null      ┆ null      ┆ … ┆ null      ┆ null      ┆ 24.0      ┆ null     │\n",
       "│ 50%       ┆ null      ┆ null      ┆ null      ┆ … ┆ null      ┆ null      ┆ 32.0      ┆ null     │\n",
       "│ 75%       ┆ null      ┆ null      ┆ null      ┆ … ┆ null      ┆ null      ┆ 44.0      ┆ null     │\n",
       "│ max       ┆ MS-2016-2 ┆ 2016-07-1 ┆ Yazoo     ┆ … ┆ White     ┆ W300      ┆ 86.0      ┆ Speeding │\n",
       "│           ┆ 4297      ┆ 4         ┆           ┆   ┆           ┆           ┆           ┆          │\n",
       "└───────────┴───────────┴───────────┴───────────┴───┴───────────┴───────────┴───────────┴──────────┘"
      ]
     },
     "execution_count": 28,
     "metadata": {},
     "output_type": "execute_result"
    }
   ],
   "source": [
    "df.describe()"
   ]
  },
  {
   "cell_type": "markdown",
   "metadata": {},
   "source": [
    "### Selecting columns"
   ]
  },
  {
   "cell_type": "code",
   "execution_count": 35,
   "metadata": {},
   "outputs": [
    {
     "data": {
      "text/html": [
       "<div><style>\n",
       ".dataframe > thead > tr,\n",
       ".dataframe > tbody > tr {\n",
       "  text-align: right;\n",
       "  white-space: pre-wrap;\n",
       "}\n",
       "</style>\n",
       "<small>shape: (9, 2)</small><table border=\"1\" class=\"dataframe\"><thead><tr><th>describe</th><th>driver_age</th></tr><tr><td>str</td><td>f64</td></tr></thead><tbody><tr><td>&quot;count&quot;</td><td>211102.0</td></tr><tr><td>&quot;null_count&quot;</td><td>109.0</td></tr><tr><td>&quot;mean&quot;</td><td>35.295516</td></tr><tr><td>&quot;std&quot;</td><td>13.580219</td></tr><tr><td>&quot;min&quot;</td><td>7.0</td></tr><tr><td>&quot;25%&quot;</td><td>24.0</td></tr><tr><td>&quot;50%&quot;</td><td>32.0</td></tr><tr><td>&quot;75%&quot;</td><td>44.0</td></tr><tr><td>&quot;max&quot;</td><td>86.0</td></tr></tbody></table></div>"
      ],
      "text/plain": [
       "shape: (9, 2)\n",
       "┌────────────┬────────────┐\n",
       "│ describe   ┆ driver_age │\n",
       "│ ---        ┆ ---        │\n",
       "│ str        ┆ f64        │\n",
       "╞════════════╪════════════╡\n",
       "│ count      ┆ 211102.0   │\n",
       "│ null_count ┆ 109.0      │\n",
       "│ mean       ┆ 35.295516  │\n",
       "│ std        ┆ 13.580219  │\n",
       "│ min        ┆ 7.0        │\n",
       "│ 25%        ┆ 24.0       │\n",
       "│ 50%        ┆ 32.0       │\n",
       "│ 75%        ┆ 44.0       │\n",
       "│ max        ┆ 86.0       │\n",
       "└────────────┴────────────┘"
      ]
     },
     "execution_count": 35,
     "metadata": {},
     "output_type": "execute_result"
    }
   ],
   "source": [
    "df.select(pl.col(pl.Int64)).describe()"
   ]
  },
  {
   "cell_type": "code",
   "execution_count": 40,
   "metadata": {},
   "outputs": [
    {
     "data": {
      "text/html": [
       "<div><style>\n",
       ".dataframe > thead > tr,\n",
       ".dataframe > tbody > tr {\n",
       "  text-align: right;\n",
       "  white-space: pre-wrap;\n",
       "}\n",
       "</style>\n",
       "<small>shape: (3, 5)</small><table border=\"1\" class=\"dataframe\"><thead><tr><th>id</th><th>stop_date</th><th>driver_birthdate</th><th>driver_race</th><th>driver_age</th></tr><tr><td>str</td><td>date</td><td>date</td><td>str</td><td>i64</td></tr></thead><tbody><tr><td>&quot;MS-2013-00001&quot;</td><td>2013-01-01</td><td>1950-06-14</td><td>&quot;Black&quot;</td><td>63</td></tr><tr><td>&quot;MS-2013-00002&quot;</td><td>2013-01-01</td><td>1967-04-06</td><td>&quot;Black&quot;</td><td>46</td></tr><tr><td>&quot;MS-2013-00003&quot;</td><td>2013-01-01</td><td>1974-04-15</td><td>&quot;Black&quot;</td><td>39</td></tr></tbody></table></div>"
      ],
      "text/plain": [
       "shape: (3, 5)\n",
       "┌───────────────┬────────────┬──────────────────┬─────────────┬────────────┐\n",
       "│ id            ┆ stop_date  ┆ driver_birthdate ┆ driver_race ┆ driver_age │\n",
       "│ ---           ┆ ---        ┆ ---              ┆ ---         ┆ ---        │\n",
       "│ str           ┆ date       ┆ date             ┆ str         ┆ i64        │\n",
       "╞═══════════════╪════════════╪══════════════════╪═════════════╪════════════╡\n",
       "│ MS-2013-00001 ┆ 2013-01-01 ┆ 1950-06-14       ┆ Black       ┆ 63         │\n",
       "│ MS-2013-00002 ┆ 2013-01-01 ┆ 1967-04-06       ┆ Black       ┆ 46         │\n",
       "│ MS-2013-00003 ┆ 2013-01-01 ┆ 1974-04-15       ┆ Black       ┆ 39         │\n",
       "└───────────────┴────────────┴──────────────────┴─────────────┴────────────┘"
      ]
     },
     "execution_count": 40,
     "metadata": {},
     "output_type": "execute_result"
    }
   ],
   "source": [
    "df.select('id', pl.col(pl.Date), 'driver_race', 'driver_age').head(3)"
   ]
  },
  {
   "cell_type": "code",
   "execution_count": 43,
   "metadata": {},
   "outputs": [
    {
     "data": {
      "text/html": [
       "<div><style>\n",
       ".dataframe > thead > tr,\n",
       ".dataframe > tbody > tr {\n",
       "  text-align: right;\n",
       "  white-space: pre-wrap;\n",
       "}\n",
       "</style>\n",
       "<small>shape: (3, 2)</small><table border=\"1\" class=\"dataframe\"><thead><tr><th>stop_date</th><th>driver_birthdate</th></tr><tr><td>date</td><td>date</td></tr></thead><tbody><tr><td>2013-01-01</td><td>1950-06-14</td></tr><tr><td>2013-01-01</td><td>1967-04-06</td></tr><tr><td>2013-01-01</td><td>1974-04-15</td></tr></tbody></table></div>"
      ],
      "text/plain": [
       "shape: (3, 2)\n",
       "┌────────────┬──────────────────┐\n",
       "│ stop_date  ┆ driver_birthdate │\n",
       "│ ---        ┆ ---              │\n",
       "│ date       ┆ date             │\n",
       "╞════════════╪══════════════════╡\n",
       "│ 2013-01-01 ┆ 1950-06-14       │\n",
       "│ 2013-01-01 ┆ 1967-04-06       │\n",
       "│ 2013-01-01 ┆ 1974-04-15       │\n",
       "└────────────┴──────────────────┘"
      ]
     },
     "execution_count": 43,
     "metadata": {},
     "output_type": "execute_result"
    }
   ],
   "source": [
    "df.select(pl.selectors.date()).head(3)"
   ]
  },
  {
   "cell_type": "code",
   "execution_count": 58,
   "metadata": {},
   "outputs": [
    {
     "data": {
      "text/html": [
       "<div><style>\n",
       ".dataframe > thead > tr,\n",
       ".dataframe > tbody > tr {\n",
       "  text-align: right;\n",
       "  white-space: pre-wrap;\n",
       "}\n",
       "</style>\n",
       "<small>shape: (3, 4)</small><table border=\"1\" class=\"dataframe\"><thead><tr><th>stop_date</th><th>driver_birthdate</th><th>driver_age</th><th>driver_race</th></tr><tr><td>date</td><td>date</td><td>i64</td><td>str</td></tr></thead><tbody><tr><td>2013-01-01</td><td>1950-06-14</td><td>63</td><td>&quot;Black&quot;</td></tr><tr><td>2013-01-01</td><td>1967-04-06</td><td>46</td><td>&quot;Black&quot;</td></tr><tr><td>2013-01-01</td><td>1974-04-15</td><td>39</td><td>&quot;Black&quot;</td></tr></tbody></table></div>"
      ],
      "text/plain": [
       "shape: (3, 4)\n",
       "┌────────────┬──────────────────┬────────────┬─────────────┐\n",
       "│ stop_date  ┆ driver_birthdate ┆ driver_age ┆ driver_race │\n",
       "│ ---        ┆ ---              ┆ ---        ┆ ---         │\n",
       "│ date       ┆ date             ┆ i64        ┆ str         │\n",
       "╞════════════╪══════════════════╪════════════╪═════════════╡\n",
       "│ 2013-01-01 ┆ 1950-06-14       ┆ 63         ┆ Black       │\n",
       "│ 2013-01-01 ┆ 1967-04-06       ┆ 46         ┆ Black       │\n",
       "│ 2013-01-01 ┆ 1974-04-15       ┆ 39         ┆ Black       │\n",
       "└────────────┴──────────────────┴────────────┴─────────────┘"
      ]
     },
     "execution_count": 58,
     "metadata": {},
     "output_type": "execute_result"
    }
   ],
   "source": [
    "df.select(pl.selectors.matches('date'), (pl.selectors.contains('age') | pl.selectors.contains('race'))).head(3)"
   ]
  },
  {
   "cell_type": "code",
   "execution_count": 60,
   "metadata": {},
   "outputs": [
    {
     "data": {
      "text/html": [
       "<div><style>\n",
       ".dataframe > thead > tr,\n",
       ".dataframe > tbody > tr {\n",
       "  text-align: right;\n",
       "  white-space: pre-wrap;\n",
       "}\n",
       "</style>\n",
       "<small>shape: (3, 4)</small><table border=\"1\" class=\"dataframe\"><thead><tr><th>driver_gender</th><th>driver_birthdate</th><th>driver_race</th><th>driver_age</th></tr><tr><td>str</td><td>date</td><td>str</td><td>i64</td></tr></thead><tbody><tr><td>&quot;male&quot;</td><td>1950-06-14</td><td>&quot;Black&quot;</td><td>63</td></tr><tr><td>&quot;male&quot;</td><td>1967-04-06</td><td>&quot;Black&quot;</td><td>46</td></tr><tr><td>&quot;male&quot;</td><td>1974-04-15</td><td>&quot;Black&quot;</td><td>39</td></tr></tbody></table></div>"
      ],
      "text/plain": [
       "shape: (3, 4)\n",
       "┌───────────────┬──────────────────┬─────────────┬────────────┐\n",
       "│ driver_gender ┆ driver_birthdate ┆ driver_race ┆ driver_age │\n",
       "│ ---           ┆ ---              ┆ ---         ┆ ---        │\n",
       "│ str           ┆ date             ┆ str         ┆ i64        │\n",
       "╞═══════════════╪══════════════════╪═════════════╪════════════╡\n",
       "│ male          ┆ 1950-06-14       ┆ Black       ┆ 63         │\n",
       "│ male          ┆ 1967-04-06       ┆ Black       ┆ 46         │\n",
       "│ male          ┆ 1974-04-15       ┆ Black       ┆ 39         │\n",
       "└───────────────┴──────────────────┴─────────────┴────────────┘"
      ]
     },
     "execution_count": 60,
     "metadata": {},
     "output_type": "execute_result"
    }
   ],
   "source": [
    "df.select(pl.selectors.starts_with('driver')).head(3)"
   ]
  },
  {
   "cell_type": "markdown",
   "metadata": {},
   "source": [
    "### Converting Dtypes"
   ]
  },
  {
   "cell_type": "code",
   "execution_count": 66,
   "metadata": {},
   "outputs": [
    {
     "data": {
      "text/html": [
       "<div><style>\n",
       ".dataframe > thead > tr,\n",
       ".dataframe > tbody > tr {\n",
       "  text-align: right;\n",
       "  white-space: pre-wrap;\n",
       "}\n",
       "</style>\n",
       "<small>shape: (2, 5)</small><table border=\"1\" class=\"dataframe\"><thead><tr><th>driver_gender</th><th>driver_birthdate</th><th>driver_race</th><th>driver_age</th><th>county_fips</th></tr><tr><td>str</td><td>date</td><td>str</td><td>i64</td><td>str</td></tr></thead><tbody><tr><td>&quot;male&quot;</td><td>1950-06-14</td><td>&quot;Black&quot;</td><td>63</td><td>&quot;28067&quot;</td></tr><tr><td>&quot;male&quot;</td><td>1967-04-06</td><td>&quot;Black&quot;</td><td>46</td><td>&quot;28075&quot;</td></tr></tbody></table></div>"
      ],
      "text/plain": [
       "shape: (2, 5)\n",
       "┌───────────────┬──────────────────┬─────────────┬────────────┬─────────────┐\n",
       "│ driver_gender ┆ driver_birthdate ┆ driver_race ┆ driver_age ┆ county_fips │\n",
       "│ ---           ┆ ---              ┆ ---         ┆ ---        ┆ ---         │\n",
       "│ str           ┆ date             ┆ str         ┆ i64        ┆ str         │\n",
       "╞═══════════════╪══════════════════╪═════════════╪════════════╪═════════════╡\n",
       "│ male          ┆ 1950-06-14       ┆ Black       ┆ 63         ┆ 28067       │\n",
       "│ male          ┆ 1967-04-06       ┆ Black       ┆ 46         ┆ 28075       │\n",
       "└───────────────┴──────────────────┴─────────────┴────────────┴─────────────┘"
      ]
     },
     "execution_count": 66,
     "metadata": {},
     "output_type": "execute_result"
    }
   ],
   "source": [
    "drivers_df = df.select(pl.selectors.starts_with('driver'), 'county_fips')\n",
    "drivers_df.head(2)"
   ]
  },
  {
   "cell_type": "code",
   "execution_count": 64,
   "metadata": {},
   "outputs": [
    {
     "data": {
      "text/html": [
       "<div><style>\n",
       ".dataframe > thead > tr,\n",
       ".dataframe > tbody > tr {\n",
       "  text-align: right;\n",
       "  white-space: pre-wrap;\n",
       "}\n",
       "</style>\n",
       "<small>shape: (3, 1)</small><table border=\"1\" class=\"dataframe\"><thead><tr><th>driver_age</th></tr><tr><td>f64</td></tr></thead><tbody><tr><td>63.0</td></tr><tr><td>46.0</td></tr><tr><td>39.0</td></tr></tbody></table></div>"
      ],
      "text/plain": [
       "shape: (3, 1)\n",
       "┌────────────┐\n",
       "│ driver_age │\n",
       "│ ---        │\n",
       "│ f64        │\n",
       "╞════════════╡\n",
       "│ 63.0       │\n",
       "│ 46.0       │\n",
       "│ 39.0       │\n",
       "└────────────┘"
      ]
     },
     "execution_count": 64,
     "metadata": {},
     "output_type": "execute_result"
    }
   ],
   "source": [
    "drivers_df.select(pl.col('driver_age').cast(pl.Float64)).head(3)"
   ]
  },
  {
   "cell_type": "code",
   "execution_count": 71,
   "metadata": {},
   "outputs": [
    {
     "data": {
      "text/html": [
       "<div><style>\n",
       ".dataframe > thead > tr,\n",
       ".dataframe > tbody > tr {\n",
       "  text-align: right;\n",
       "  white-space: pre-wrap;\n",
       "}\n",
       "</style>\n",
       "<small>shape: (3, 5)</small><table border=\"1\" class=\"dataframe\"><thead><tr><th>driver_gender</th><th>driver_birthdate</th><th>driver_race</th><th>driver_age</th><th>county_fips</th></tr><tr><td>str</td><td>date</td><td>str</td><td>i64</td><td>i64</td></tr></thead><tbody><tr><td>&quot;male&quot;</td><td>1950-06-14</td><td>&quot;Black&quot;</td><td>63</td><td>28067</td></tr><tr><td>&quot;male&quot;</td><td>1967-04-06</td><td>&quot;Black&quot;</td><td>46</td><td>28075</td></tr><tr><td>&quot;male&quot;</td><td>1974-04-15</td><td>&quot;Black&quot;</td><td>39</td><td>28113</td></tr></tbody></table></div>"
      ],
      "text/plain": [
       "shape: (3, 5)\n",
       "┌───────────────┬──────────────────┬─────────────┬────────────┬─────────────┐\n",
       "│ driver_gender ┆ driver_birthdate ┆ driver_race ┆ driver_age ┆ county_fips │\n",
       "│ ---           ┆ ---              ┆ ---         ┆ ---        ┆ ---         │\n",
       "│ str           ┆ date             ┆ str         ┆ i64        ┆ i64         │\n",
       "╞═══════════════╪══════════════════╪═════════════╪════════════╪═════════════╡\n",
       "│ male          ┆ 1950-06-14       ┆ Black       ┆ 63         ┆ 28067       │\n",
       "│ male          ┆ 1967-04-06       ┆ Black       ┆ 46         ┆ 28075       │\n",
       "│ male          ┆ 1974-04-15       ┆ Black       ┆ 39         ┆ 28113       │\n",
       "└───────────────┴──────────────────┴─────────────┴────────────┴─────────────┘"
      ]
     },
     "execution_count": 71,
     "metadata": {},
     "output_type": "execute_result"
    }
   ],
   "source": [
    "(drivers_df\n",
    "    .with_columns(pl.col('county_fips')\n",
    "    .cast(pl.Int64)\n",
    "    )\n",
    ".head(3)\n",
    ")"
   ]
  },
  {
   "cell_type": "code",
   "execution_count": 73,
   "metadata": {},
   "outputs": [
    {
     "data": {
      "text/html": [
       "<div><style>\n",
       ".dataframe > thead > tr,\n",
       ".dataframe > tbody > tr {\n",
       "  text-align: right;\n",
       "  white-space: pre-wrap;\n",
       "}\n",
       "</style>\n",
       "<small>shape: (3, 5)</small><table border=\"1\" class=\"dataframe\"><thead><tr><th>driver_gender</th><th>driver_birthdate</th><th>driver_race</th><th>driver_age</th><th>county_fips</th></tr><tr><td>str</td><td>date</td><td>str</td><td>f64</td><td>f64</td></tr></thead><tbody><tr><td>&quot;male&quot;</td><td>1950-06-14</td><td>&quot;Black&quot;</td><td>63.0</td><td>28067.0</td></tr><tr><td>&quot;male&quot;</td><td>1967-04-06</td><td>&quot;Black&quot;</td><td>46.0</td><td>28075.0</td></tr><tr><td>&quot;male&quot;</td><td>1974-04-15</td><td>&quot;Black&quot;</td><td>39.0</td><td>28113.0</td></tr></tbody></table></div>"
      ],
      "text/plain": [
       "shape: (3, 5)\n",
       "┌───────────────┬──────────────────┬─────────────┬────────────┬─────────────┐\n",
       "│ driver_gender ┆ driver_birthdate ┆ driver_race ┆ driver_age ┆ county_fips │\n",
       "│ ---           ┆ ---              ┆ ---         ┆ ---        ┆ ---         │\n",
       "│ str           ┆ date             ┆ str         ┆ f64        ┆ f64         │\n",
       "╞═══════════════╪══════════════════╪═════════════╪════════════╪═════════════╡\n",
       "│ male          ┆ 1950-06-14       ┆ Black       ┆ 63.0       ┆ 28067.0     │\n",
       "│ male          ┆ 1967-04-06       ┆ Black       ┆ 46.0       ┆ 28075.0     │\n",
       "│ male          ┆ 1974-04-15       ┆ Black       ┆ 39.0       ┆ 28113.0     │\n",
       "└───────────────┴──────────────────┴─────────────┴────────────┴─────────────┘"
      ]
     },
     "execution_count": 73,
     "metadata": {},
     "output_type": "execute_result"
    }
   ],
   "source": [
    "(drivers_df\n",
    "    .with_columns(pl.col(['county_fips', 'driver_age'])\n",
    "    .cast(pl.Float64)\n",
    "    )\n",
    ".head(3)\n",
    ")"
   ]
  },
  {
   "cell_type": "code",
   "execution_count": 74,
   "metadata": {},
   "outputs": [
    {
     "data": {
      "text/html": [
       "<div><style>\n",
       ".dataframe > thead > tr,\n",
       ".dataframe > tbody > tr {\n",
       "  text-align: right;\n",
       "  white-space: pre-wrap;\n",
       "}\n",
       "</style>\n",
       "<small>shape: (3, 5)</small><table border=\"1\" class=\"dataframe\"><thead><tr><th>driver_gender</th><th>driver_birthdate</th><th>driver_race</th><th>driver_age</th><th>county_fips</th></tr><tr><td>str</td><td>date</td><td>str</td><td>f64</td><td>i64</td></tr></thead><tbody><tr><td>&quot;male&quot;</td><td>1950-06-14</td><td>&quot;Black&quot;</td><td>63.0</td><td>28067</td></tr><tr><td>&quot;male&quot;</td><td>1967-04-06</td><td>&quot;Black&quot;</td><td>46.0</td><td>28075</td></tr><tr><td>&quot;male&quot;</td><td>1974-04-15</td><td>&quot;Black&quot;</td><td>39.0</td><td>28113</td></tr></tbody></table></div>"
      ],
      "text/plain": [
       "shape: (3, 5)\n",
       "┌───────────────┬──────────────────┬─────────────┬────────────┬─────────────┐\n",
       "│ driver_gender ┆ driver_birthdate ┆ driver_race ┆ driver_age ┆ county_fips │\n",
       "│ ---           ┆ ---              ┆ ---         ┆ ---        ┆ ---         │\n",
       "│ str           ┆ date             ┆ str         ┆ f64        ┆ i64         │\n",
       "╞═══════════════╪══════════════════╪═════════════╪════════════╪═════════════╡\n",
       "│ male          ┆ 1950-06-14       ┆ Black       ┆ 63.0       ┆ 28067       │\n",
       "│ male          ┆ 1967-04-06       ┆ Black       ┆ 46.0       ┆ 28075       │\n",
       "│ male          ┆ 1974-04-15       ┆ Black       ┆ 39.0       ┆ 28113       │\n",
       "└───────────────┴──────────────────┴─────────────┴────────────┴─────────────┘"
      ]
     },
     "execution_count": 74,
     "metadata": {},
     "output_type": "execute_result"
    }
   ],
   "source": [
    "(drivers_df\n",
    "    .with_columns([\n",
    "        pl.col('county_fips').cast(pl.Int64),\n",
    "        pl.col('driver_age').cast(pl.Float64)\n",
    "    ])\n",
    ".head(3)\n",
    ")"
   ]
  },
  {
   "cell_type": "markdown",
   "metadata": {},
   "source": [
    "### Dropping columns"
   ]
  },
  {
   "cell_type": "code",
   "execution_count": 77,
   "metadata": {},
   "outputs": [
    {
     "data": {
      "text/html": [
       "<div><style>\n",
       ".dataframe > thead > tr,\n",
       ".dataframe > tbody > tr {\n",
       "  text-align: right;\n",
       "  white-space: pre-wrap;\n",
       "}\n",
       "</style>\n",
       "<small>shape: (3, 4)</small><table border=\"1\" class=\"dataframe\"><thead><tr><th>driver_gender</th><th>driver_birthdate</th><th>driver_race</th><th>driver_age</th></tr><tr><td>str</td><td>date</td><td>str</td><td>f64</td></tr></thead><tbody><tr><td>&quot;male&quot;</td><td>1950-06-14</td><td>&quot;Black&quot;</td><td>63.0</td></tr><tr><td>&quot;male&quot;</td><td>1967-04-06</td><td>&quot;Black&quot;</td><td>46.0</td></tr><tr><td>&quot;male&quot;</td><td>1974-04-15</td><td>&quot;Black&quot;</td><td>39.0</td></tr></tbody></table></div>"
      ],
      "text/plain": [
       "shape: (3, 4)\n",
       "┌───────────────┬──────────────────┬─────────────┬────────────┐\n",
       "│ driver_gender ┆ driver_birthdate ┆ driver_race ┆ driver_age │\n",
       "│ ---           ┆ ---              ┆ ---         ┆ ---        │\n",
       "│ str           ┆ date             ┆ str         ┆ f64        │\n",
       "╞═══════════════╪══════════════════╪═════════════╪════════════╡\n",
       "│ male          ┆ 1950-06-14       ┆ Black       ┆ 63.0       │\n",
       "│ male          ┆ 1967-04-06       ┆ Black       ┆ 46.0       │\n",
       "│ male          ┆ 1974-04-15       ┆ Black       ┆ 39.0       │\n",
       "└───────────────┴──────────────────┴─────────────┴────────────┘"
      ]
     },
     "execution_count": 77,
     "metadata": {},
     "output_type": "execute_result"
    }
   ],
   "source": [
    "(drivers_df\n",
    "    .with_columns(pl.col('driver_age').cast(pl.Float64))\n",
    "    .drop('county_fips')\n",
    ".head(3)\n",
    ")"
   ]
  },
  {
   "cell_type": "code",
   "execution_count": 78,
   "metadata": {},
   "outputs": [
    {
     "data": {
      "text/html": [
       "<div><style>\n",
       ".dataframe > thead > tr,\n",
       ".dataframe > tbody > tr {\n",
       "  text-align: right;\n",
       "  white-space: pre-wrap;\n",
       "}\n",
       "</style>\n",
       "<small>shape: (3, 3)</small><table border=\"1\" class=\"dataframe\"><thead><tr><th>driver_gender</th><th>driver_birthdate</th><th>driver_age</th></tr><tr><td>str</td><td>date</td><td>f64</td></tr></thead><tbody><tr><td>&quot;male&quot;</td><td>1950-06-14</td><td>63.0</td></tr><tr><td>&quot;male&quot;</td><td>1967-04-06</td><td>46.0</td></tr><tr><td>&quot;male&quot;</td><td>1974-04-15</td><td>39.0</td></tr></tbody></table></div>"
      ],
      "text/plain": [
       "shape: (3, 3)\n",
       "┌───────────────┬──────────────────┬────────────┐\n",
       "│ driver_gender ┆ driver_birthdate ┆ driver_age │\n",
       "│ ---           ┆ ---              ┆ ---        │\n",
       "│ str           ┆ date             ┆ f64        │\n",
       "╞═══════════════╪══════════════════╪════════════╡\n",
       "│ male          ┆ 1950-06-14       ┆ 63.0       │\n",
       "│ male          ┆ 1967-04-06       ┆ 46.0       │\n",
       "│ male          ┆ 1974-04-15       ┆ 39.0       │\n",
       "└───────────────┴──────────────────┴────────────┘"
      ]
     },
     "execution_count": 78,
     "metadata": {},
     "output_type": "execute_result"
    }
   ],
   "source": [
    "(drivers_df\n",
    "    .with_columns(pl.col('driver_age').cast(pl.Float64))\n",
    "    .drop(['county_fips', 'driver_race'])\n",
    ".head(3)\n",
    ")"
   ]
  },
  {
   "cell_type": "markdown",
   "metadata": {},
   "source": [
    "### Renaming columns"
   ]
  },
  {
   "cell_type": "code",
   "execution_count": 85,
   "metadata": {},
   "outputs": [
    {
     "data": {
      "text/html": [
       "<div><style>\n",
       ".dataframe > thead > tr,\n",
       ".dataframe > tbody > tr {\n",
       "  text-align: right;\n",
       "  white-space: pre-wrap;\n",
       "}\n",
       "</style>\n",
       "<small>shape: (3, 5)</small><table border=\"1\" class=\"dataframe\"><thead><tr><th>driver_gender</th><th>driver_birthdate</th><th>driver_race</th><th>age</th><th>county_fips</th></tr><tr><td>str</td><td>date</td><td>str</td><td>i64</td><td>str</td></tr></thead><tbody><tr><td>&quot;male&quot;</td><td>1950-06-14</td><td>&quot;Black&quot;</td><td>63</td><td>&quot;28067&quot;</td></tr><tr><td>&quot;male&quot;</td><td>1967-04-06</td><td>&quot;Black&quot;</td><td>46</td><td>&quot;28075&quot;</td></tr><tr><td>&quot;male&quot;</td><td>1974-04-15</td><td>&quot;Black&quot;</td><td>39</td><td>&quot;28113&quot;</td></tr></tbody></table></div>"
      ],
      "text/plain": [
       "shape: (3, 5)\n",
       "┌───────────────┬──────────────────┬─────────────┬─────┬─────────────┐\n",
       "│ driver_gender ┆ driver_birthdate ┆ driver_race ┆ age ┆ county_fips │\n",
       "│ ---           ┆ ---              ┆ ---         ┆ --- ┆ ---         │\n",
       "│ str           ┆ date             ┆ str         ┆ i64 ┆ str         │\n",
       "╞═══════════════╪══════════════════╪═════════════╪═════╪═════════════╡\n",
       "│ male          ┆ 1950-06-14       ┆ Black       ┆ 63  ┆ 28067       │\n",
       "│ male          ┆ 1967-04-06       ┆ Black       ┆ 46  ┆ 28075       │\n",
       "│ male          ┆ 1974-04-15       ┆ Black       ┆ 39  ┆ 28113       │\n",
       "└───────────────┴──────────────────┴─────────────┴─────┴─────────────┘"
      ]
     },
     "execution_count": 85,
     "metadata": {},
     "output_type": "execute_result"
    }
   ],
   "source": [
    "drivers_df.rename({\"driver_age\": \"age\"}).head(3)"
   ]
  },
  {
   "cell_type": "code",
   "execution_count": 86,
   "metadata": {},
   "outputs": [
    {
     "data": {
      "text/html": [
       "<div><style>\n",
       ".dataframe > thead > tr,\n",
       ".dataframe > tbody > tr {\n",
       "  text-align: right;\n",
       "  white-space: pre-wrap;\n",
       "}\n",
       "</style>\n",
       "<small>shape: (3, 5)</small><table border=\"1\" class=\"dataframe\"><thead><tr><th>driver_gender</th><th>driver_birthdate</th><th>driver_race</th><th>age</th><th>fips</th></tr><tr><td>str</td><td>date</td><td>str</td><td>i64</td><td>str</td></tr></thead><tbody><tr><td>&quot;male&quot;</td><td>1950-06-14</td><td>&quot;Black&quot;</td><td>63</td><td>&quot;28067&quot;</td></tr><tr><td>&quot;male&quot;</td><td>1967-04-06</td><td>&quot;Black&quot;</td><td>46</td><td>&quot;28075&quot;</td></tr><tr><td>&quot;male&quot;</td><td>1974-04-15</td><td>&quot;Black&quot;</td><td>39</td><td>&quot;28113&quot;</td></tr></tbody></table></div>"
      ],
      "text/plain": [
       "shape: (3, 5)\n",
       "┌───────────────┬──────────────────┬─────────────┬─────┬───────┐\n",
       "│ driver_gender ┆ driver_birthdate ┆ driver_race ┆ age ┆ fips  │\n",
       "│ ---           ┆ ---              ┆ ---         ┆ --- ┆ ---   │\n",
       "│ str           ┆ date             ┆ str         ┆ i64 ┆ str   │\n",
       "╞═══════════════╪══════════════════╪═════════════╪═════╪═══════╡\n",
       "│ male          ┆ 1950-06-14       ┆ Black       ┆ 63  ┆ 28067 │\n",
       "│ male          ┆ 1967-04-06       ┆ Black       ┆ 46  ┆ 28075 │\n",
       "│ male          ┆ 1974-04-15       ┆ Black       ┆ 39  ┆ 28113 │\n",
       "└───────────────┴──────────────────┴─────────────┴─────┴───────┘"
      ]
     },
     "execution_count": 86,
     "metadata": {},
     "output_type": "execute_result"
    }
   ],
   "source": [
    "(\n",
    "    drivers_df\n",
    "        .rename({\n",
    "            \"driver_age\": \"age\", \n",
    "            \"county_fips\": \"fips\"})\n",
    "        .head(3)\n",
    ")"
   ]
  },
  {
   "cell_type": "code",
   "execution_count": 84,
   "metadata": {},
   "outputs": [
    {
     "data": {
      "text/html": [
       "<div><style>\n",
       ".dataframe > thead > tr,\n",
       ".dataframe > tbody > tr {\n",
       "  text-align: right;\n",
       "  white-space: pre-wrap;\n",
       "}\n",
       "</style>\n",
       "<small>shape: (3, 5)</small><table border=\"1\" class=\"dataframe\"><thead><tr><th>GENDER</th><th>BIRTHDATE</th><th>RACE</th><th>AGE</th><th>COUNTY_FIPS</th></tr><tr><td>str</td><td>date</td><td>str</td><td>i64</td><td>str</td></tr></thead><tbody><tr><td>&quot;male&quot;</td><td>1950-06-14</td><td>&quot;Black&quot;</td><td>63</td><td>&quot;28067&quot;</td></tr><tr><td>&quot;male&quot;</td><td>1967-04-06</td><td>&quot;Black&quot;</td><td>46</td><td>&quot;28075&quot;</td></tr><tr><td>&quot;male&quot;</td><td>1974-04-15</td><td>&quot;Black&quot;</td><td>39</td><td>&quot;28113&quot;</td></tr></tbody></table></div>"
      ],
      "text/plain": [
       "shape: (3, 5)\n",
       "┌────────┬────────────┬───────┬─────┬─────────────┐\n",
       "│ GENDER ┆ BIRTHDATE  ┆ RACE  ┆ AGE ┆ COUNTY_FIPS │\n",
       "│ ---    ┆ ---        ┆ ---   ┆ --- ┆ ---         │\n",
       "│ str    ┆ date       ┆ str   ┆ i64 ┆ str         │\n",
       "╞════════╪════════════╪═══════╪═════╪═════════════╡\n",
       "│ male   ┆ 1950-06-14 ┆ Black ┆ 63  ┆ 28067       │\n",
       "│ male   ┆ 1967-04-06 ┆ Black ┆ 46  ┆ 28075       │\n",
       "│ male   ┆ 1974-04-15 ┆ Black ┆ 39  ┆ 28113       │\n",
       "└────────┴────────────┴───────┴─────┴─────────────┘"
      ]
     },
     "execution_count": 84,
     "metadata": {},
     "output_type": "execute_result"
    }
   ],
   "source": [
    "(\n",
    "    drivers_df\n",
    "        .select(\n",
    "            pl.all().name.map(lambda name: name.upper().replace('DRIVER_', ''))\n",
    "        )\n",
    "        .head(3)\n",
    ")"
   ]
  },
  {
   "cell_type": "code",
   "execution_count": 82,
   "metadata": {},
   "outputs": [
    {
     "data": {
      "text/html": [
       "<div><style>\n",
       ".dataframe > thead > tr,\n",
       ".dataframe > tbody > tr {\n",
       "  text-align: right;\n",
       "  white-space: pre-wrap;\n",
       "}\n",
       "</style>\n",
       "<small>shape: (211_211, 5)</small><table border=\"1\" class=\"dataframe\"><thead><tr><th>GENDER</th><th>BIRTHDATE</th><th>RACE</th><th>AGE</th><th>COUNTY_FIPS</th></tr><tr><td>str</td><td>date</td><td>str</td><td>f64</td><td>str</td></tr></thead><tbody><tr><td>&quot;male&quot;</td><td>1950-06-14</td><td>&quot;Black&quot;</td><td>63.0</td><td>&quot;28067&quot;</td></tr><tr><td>&quot;male&quot;</td><td>1967-04-06</td><td>&quot;Black&quot;</td><td>46.0</td><td>&quot;28075&quot;</td></tr><tr><td>&quot;male&quot;</td><td>1974-04-15</td><td>&quot;Black&quot;</td><td>39.0</td><td>&quot;28113&quot;</td></tr><tr><td>&quot;male&quot;</td><td>1981-03-23</td><td>&quot;White&quot;</td><td>32.0</td><td>&quot;28045&quot;</td></tr><tr><td>&quot;male&quot;</td><td>1992-08-03</td><td>&quot;White&quot;</td><td>20.0</td><td>&quot;28051&quot;</td></tr><tr><td>&quot;female&quot;</td><td>1960-05-02</td><td>&quot;White&quot;</td><td>53.0</td><td>&quot;28059&quot;</td></tr><tr><td>&quot;female&quot;</td><td>1953-03-16</td><td>&quot;White&quot;</td><td>60.0</td><td>&quot;28059&quot;</td></tr><tr><td>&quot;female&quot;</td><td>1993-06-14</td><td>&quot;White&quot;</td><td>20.0</td><td>&quot;28043&quot;</td></tr><tr><td>&quot;male&quot;</td><td>1947-12-11</td><td>&quot;White&quot;</td><td>65.0</td><td>&quot;28051&quot;</td></tr><tr><td>&quot;male&quot;</td><td>1984-07-14</td><td>&quot;White&quot;</td><td>28.0</td><td>&quot;28051&quot;</td></tr><tr><td>&quot;male&quot;</td><td>1978-10-27</td><td>&quot;White&quot;</td><td>34.0</td><td>&quot;28123&quot;</td></tr><tr><td>&quot;male&quot;</td><td>1978-10-27</td><td>&quot;White&quot;</td><td>34.0</td><td>&quot;28123&quot;</td></tr><tr><td>&hellip;</td><td>&hellip;</td><td>&hellip;</td><td>&hellip;</td><td>&hellip;</td></tr><tr><td>&quot;male&quot;</td><td>1972-09-10</td><td>&quot;Black&quot;</td><td>44.0</td><td>&quot;28059&quot;</td></tr><tr><td>&quot;male&quot;</td><td>1972-09-10</td><td>&quot;Black&quot;</td><td>44.0</td><td>&quot;28059&quot;</td></tr><tr><td>&quot;female&quot;</td><td>1998-07-09</td><td>&quot;White&quot;</td><td>18.0</td><td>&quot;28043&quot;</td></tr><tr><td>&quot;female&quot;</td><td>1962-08-07</td><td>&quot;Black&quot;</td><td>54.0</td><td>&quot;28151&quot;</td></tr><tr><td>&quot;male&quot;</td><td>1986-09-17</td><td>&quot;White&quot;</td><td>30.0</td><td>&quot;28029&quot;</td></tr><tr><td>&quot;female&quot;</td><td>1955-07-29</td><td>&quot;White&quot;</td><td>61.0</td><td>&quot;28081&quot;</td></tr><tr><td>&quot;male&quot;</td><td>1996-10-03</td><td>&quot;White&quot;</td><td>20.0</td><td>&quot;28127&quot;</td></tr><tr><td>&quot;male&quot;</td><td>1992-07-14</td><td>&quot;White&quot;</td><td>24.0</td><td>&quot;28039&quot;</td></tr><tr><td>&quot;male&quot;</td><td>1975-12-23</td><td>&quot;Black&quot;</td><td>41.0</td><td>&quot;28029&quot;</td></tr><tr><td>&quot;male&quot;</td><td>1998-02-02</td><td>&quot;White&quot;</td><td>18.0</td><td>&quot;28043&quot;</td></tr><tr><td>&quot;female&quot;</td><td>1970-06-14</td><td>&quot;White&quot;</td><td>46.0</td><td>&quot;28029&quot;</td></tr><tr><td>&quot;male&quot;</td><td>1948-03-11</td><td>&quot;White&quot;</td><td>68.0</td><td>&quot;28029&quot;</td></tr></tbody></table></div>"
      ],
      "text/plain": [
       "shape: (211_211, 5)\n",
       "┌────────┬────────────┬───────┬──────┬─────────────┐\n",
       "│ GENDER ┆ BIRTHDATE  ┆ RACE  ┆ AGE  ┆ COUNTY_FIPS │\n",
       "│ ---    ┆ ---        ┆ ---   ┆ ---  ┆ ---         │\n",
       "│ str    ┆ date       ┆ str   ┆ f64  ┆ str         │\n",
       "╞════════╪════════════╪═══════╪══════╪═════════════╡\n",
       "│ male   ┆ 1950-06-14 ┆ Black ┆ 63.0 ┆ 28067       │\n",
       "│ male   ┆ 1967-04-06 ┆ Black ┆ 46.0 ┆ 28075       │\n",
       "│ male   ┆ 1974-04-15 ┆ Black ┆ 39.0 ┆ 28113       │\n",
       "│ male   ┆ 1981-03-23 ┆ White ┆ 32.0 ┆ 28045       │\n",
       "│ …      ┆ …          ┆ …     ┆ …    ┆ …           │\n",
       "│ male   ┆ 1975-12-23 ┆ Black ┆ 41.0 ┆ 28029       │\n",
       "│ male   ┆ 1998-02-02 ┆ White ┆ 18.0 ┆ 28043       │\n",
       "│ female ┆ 1970-06-14 ┆ White ┆ 46.0 ┆ 28029       │\n",
       "│ male   ┆ 1948-03-11 ┆ White ┆ 68.0 ┆ 28029       │\n",
       "└────────┴────────────┴───────┴──────┴─────────────┘"
      ]
     },
     "execution_count": 82,
     "metadata": {},
     "output_type": "execute_result"
    }
   ],
   "source": [
    "(\n",
    "    drivers_df\n",
    "        .with_columns(pl.col('driver_age').cast(pl.Float64))\n",
    "        .pipe(\n",
    "            lambda d: d.rename({ col: col.replace('driver_', '').upper() for col in d.columns })\n",
    "            )\n",
    ")"
   ]
  }
 ],
 "metadata": {
  "kernelspec": {
   "display_name": "Python 3",
   "language": "python",
   "name": "python3"
  },
  "language_info": {
   "codemirror_mode": {
    "name": "ipython",
    "version": 3
   },
   "file_extension": ".py",
   "mimetype": "text/x-python",
   "name": "python",
   "nbconvert_exporter": "python",
   "pygments_lexer": "ipython3",
   "version": "3.11.4"
  }
 },
 "nbformat": 4,
 "nbformat_minor": 2
}
