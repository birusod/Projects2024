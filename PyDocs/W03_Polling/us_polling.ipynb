{
 "cells": [
  {
   "cell_type": "markdown",
   "metadata": {},
   "source": [
    "# US Polling Places 2012-2020"
   ]
  },
  {
   "cell_type": "markdown",
   "metadata": {},
   "source": [
    "## Librarires"
   ]
  },
  {
   "cell_type": "code",
   "execution_count": 1,
   "metadata": {},
   "outputs": [],
   "source": [
    "import ibis\n",
    "import ibis.selectors as s\n",
    "from ibis import _"
   ]
  },
  {
   "cell_type": "markdown",
   "metadata": {},
   "source": [
    "## Load data"
   ]
  },
  {
   "cell_type": "code",
   "execution_count": 2,
   "metadata": {},
   "outputs": [],
   "source": [
    "dfr = ibis.read_csv(\"https://raw.githubusercontent.com/rfordatascience/tidytuesday/master/data/2024/2024-01-16/polling_places.csv\")"
   ]
  },
  {
   "cell_type": "code",
   "execution_count": 3,
   "metadata": {},
   "outputs": [
    {
     "data": {
      "text/html": [
       "<pre style=\"white-space:pre;overflow-x:auto;line-height:normal;font-family:Menlo,'DejaVu Sans Mono',consolas,'Courier New',monospace\">r0 := DatabaseTable: ibis_read_csv_ivxomjxqn5dfdgqu4zv3wm2nue\n",
       "  election_date     date\n",
       "  state             string\n",
       "  county_name       string\n",
       "  jurisdiction      string\n",
       "  jurisdiction_type string\n",
       "  precinct_id       string\n",
       "  precinct_name     string\n",
       "  polling_place_id  string\n",
       "  location_type     string\n",
       "  name              string\n",
       "  address           string\n",
       "  notes             string\n",
       "  source            string\n",
       "  source_date       date\n",
       "  source_notes      string\n",
       "\n",
       "Limit[r0, n=3]\n",
       "</pre>\n"
      ],
      "text/plain": [
       "r0 := DatabaseTable: ibis_read_csv_ivxomjxqn5dfdgqu4zv3wm2nue\n",
       "  election_date     date\n",
       "  state             string\n",
       "  county_name       string\n",
       "  jurisdiction      string\n",
       "  jurisdiction_type string\n",
       "  precinct_id       string\n",
       "  precinct_name     string\n",
       "  polling_place_id  string\n",
       "  location_type     string\n",
       "  name              string\n",
       "  address           string\n",
       "  notes             string\n",
       "  source            string\n",
       "  source_date       date\n",
       "  source_notes      string\n",
       "\n",
       "Limit[r0, n=3]"
      ]
     },
     "execution_count": 3,
     "metadata": {},
     "output_type": "execute_result"
    }
   ],
   "source": [
    "dfr.head(3)"
   ]
  },
  {
   "cell_type": "markdown",
   "metadata": {},
   "source": [
    "**The interactive option give  a nice printing/view**"
   ]
  },
  {
   "cell_type": "code",
   "execution_count": 4,
   "metadata": {},
   "outputs": [],
   "source": [
    "ibis.options.interactive = True"
   ]
  },
  {
   "cell_type": "code",
   "execution_count": 5,
   "metadata": {},
   "outputs": [
    {
     "data": {
      "text/html": [
       "<pre style=\"white-space:pre;overflow-x:auto;line-height:normal;font-family:Menlo,'DejaVu Sans Mono',consolas,'Courier New',monospace\">┏━━━━━━━━━━━━━━━┳━━━━━━━━┳━━━━━━━━━━━━━┳━━━━━━━━━━━━━━┳━━━━━━━━━━━━━━━━━━━┳━━━━━━━━━━━━━┳━━━━━━━━━━━━━━━━━━━━━━━━━━━━━━┳━━━━━━━━━━━━━━━━━━┳━━━━━━━━━━━━━━━┳━━━━━━━━━━━━━━━━━━━━━━━━━━━━━━┳━━━━━━━━━━━━━━━━━━━━━━━━━━━━━━━━━━━━━━━━━━━┳━━━━━━━━┳━━━━━━━━┳━━━━━━━━━━━━━┳━━━━━━━━━━━━━━┓\n",
       "┃<span style=\"font-weight: bold\"> election_date </span>┃<span style=\"font-weight: bold\"> state  </span>┃<span style=\"font-weight: bold\"> county_name </span>┃<span style=\"font-weight: bold\"> jurisdiction </span>┃<span style=\"font-weight: bold\"> jurisdiction_type </span>┃<span style=\"font-weight: bold\"> precinct_id </span>┃<span style=\"font-weight: bold\"> precinct_name                </span>┃<span style=\"font-weight: bold\"> polling_place_id </span>┃<span style=\"font-weight: bold\"> location_type </span>┃<span style=\"font-weight: bold\"> name                         </span>┃<span style=\"font-weight: bold\"> address                                   </span>┃<span style=\"font-weight: bold\"> notes  </span>┃<span style=\"font-weight: bold\"> source </span>┃<span style=\"font-weight: bold\"> source_date </span>┃<span style=\"font-weight: bold\"> source_notes </span>┃\n",
       "┡━━━━━━━━━━━━━━━╇━━━━━━━━╇━━━━━━━━━━━━━╇━━━━━━━━━━━━━━╇━━━━━━━━━━━━━━━━━━━╇━━━━━━━━━━━━━╇━━━━━━━━━━━━━━━━━━━━━━━━━━━━━━╇━━━━━━━━━━━━━━━━━━╇━━━━━━━━━━━━━━━╇━━━━━━━━━━━━━━━━━━━━━━━━━━━━━━╇━━━━━━━━━━━━━━━━━━━━━━━━━━━━━━━━━━━━━━━━━━━╇━━━━━━━━╇━━━━━━━━╇━━━━━━━━━━━━━╇━━━━━━━━━━━━━━┩\n",
       "│ <span style=\"color: #7f7f7f; text-decoration-color: #7f7f7f\">date</span>          │ <span style=\"color: #7f7f7f; text-decoration-color: #7f7f7f\">string</span> │ <span style=\"color: #7f7f7f; text-decoration-color: #7f7f7f\">string</span>      │ <span style=\"color: #7f7f7f; text-decoration-color: #7f7f7f\">string</span>       │ <span style=\"color: #7f7f7f; text-decoration-color: #7f7f7f\">string</span>            │ <span style=\"color: #7f7f7f; text-decoration-color: #7f7f7f\">string</span>      │ <span style=\"color: #7f7f7f; text-decoration-color: #7f7f7f\">string</span>                       │ <span style=\"color: #7f7f7f; text-decoration-color: #7f7f7f\">string</span>           │ <span style=\"color: #7f7f7f; text-decoration-color: #7f7f7f\">string</span>        │ <span style=\"color: #7f7f7f; text-decoration-color: #7f7f7f\">string</span>                       │ <span style=\"color: #7f7f7f; text-decoration-color: #7f7f7f\">string</span>                                    │ <span style=\"color: #7f7f7f; text-decoration-color: #7f7f7f\">string</span> │ <span style=\"color: #7f7f7f; text-decoration-color: #7f7f7f\">string</span> │ <span style=\"color: #7f7f7f; text-decoration-color: #7f7f7f\">date</span>        │ <span style=\"color: #7f7f7f; text-decoration-color: #7f7f7f\">string</span>       │\n",
       "├───────────────┼────────┼─────────────┼──────────────┼───────────────────┼─────────────┼──────────────────────────────┼──────────────────┼───────────────┼──────────────────────────────┼───────────────────────────────────────────┼────────┼────────┼─────────────┼──────────────┤\n",
       "│ <span style=\"color: #800080; text-decoration-color: #800080\">2020-11-03</span>    │ <span style=\"color: #008000; text-decoration-color: #008000\">AL    </span> │ <span style=\"color: #008000; text-decoration-color: #008000\">AUTAUGA    </span> │ <span style=\"color: #008000; text-decoration-color: #008000\">AUTAUGA     </span> │ <span style=\"color: #008000; text-decoration-color: #008000\">county           </span> │ <span style=\"color: #008000; text-decoration-color: #008000\">NA         </span> │ <span style=\"color: #008000; text-decoration-color: #008000\">AUTAUGAVILLE VOL FIRE DEPT  </span> │ <span style=\"color: #008000; text-decoration-color: #008000\">NA              </span> │ <span style=\"color: #008000; text-decoration-color: #008000\">election_day </span> │ <span style=\"color: #008000; text-decoration-color: #008000\">AUTAUGAVILLE VOL FIRE DEPT  </span> │ <span style=\"color: #008000; text-decoration-color: #008000\">2610 HIGHWAY 14 W, AUTAUGAVILLE, AL 36003</span> │ <span style=\"color: #008000; text-decoration-color: #008000\">NA    </span> │ <span style=\"color: #008000; text-decoration-color: #008000\">ORR   </span> │ <span style=\"color: #800080; text-decoration-color: #800080\">2020-10-21</span>  │ <span style=\"color: #008000; text-decoration-color: #008000\">NA          </span> │\n",
       "│ <span style=\"color: #800080; text-decoration-color: #800080\">2020-11-03</span>    │ <span style=\"color: #008000; text-decoration-color: #008000\">AL    </span> │ <span style=\"color: #008000; text-decoration-color: #008000\">AUTAUGA    </span> │ <span style=\"color: #008000; text-decoration-color: #008000\">AUTAUGA     </span> │ <span style=\"color: #008000; text-decoration-color: #008000\">county           </span> │ <span style=\"color: #008000; text-decoration-color: #008000\">NA         </span> │ <span style=\"color: #008000; text-decoration-color: #008000\">BILLINGSLEY COMMUNITY CENTER</span> │ <span style=\"color: #008000; text-decoration-color: #008000\">NA              </span> │ <span style=\"color: #008000; text-decoration-color: #008000\">election_day </span> │ <span style=\"color: #008000; text-decoration-color: #008000\">BILLINGSLEY COMMUNITY CENTER</span> │ <span style=\"color: #008000; text-decoration-color: #008000\">2159 COUNTY RD 37, BILLINGSLEY, AL 36006 </span> │ <span style=\"color: #008000; text-decoration-color: #008000\">NA    </span> │ <span style=\"color: #008000; text-decoration-color: #008000\">ORR   </span> │ <span style=\"color: #800080; text-decoration-color: #800080\">2020-10-21</span>  │ <span style=\"color: #008000; text-decoration-color: #008000\">NA          </span> │\n",
       "│ <span style=\"color: #800080; text-decoration-color: #800080\">2020-11-03</span>    │ <span style=\"color: #008000; text-decoration-color: #008000\">AL    </span> │ <span style=\"color: #008000; text-decoration-color: #008000\">AUTAUGA    </span> │ <span style=\"color: #008000; text-decoration-color: #008000\">AUTAUGA     </span> │ <span style=\"color: #008000; text-decoration-color: #008000\">county           </span> │ <span style=\"color: #008000; text-decoration-color: #008000\">NA         </span> │ <span style=\"color: #008000; text-decoration-color: #008000\">BOONE'S CHAPEL              </span> │ <span style=\"color: #008000; text-decoration-color: #008000\">NA              </span> │ <span style=\"color: #008000; text-decoration-color: #008000\">election_day </span> │ <span style=\"color: #008000; text-decoration-color: #008000\">BOONE'S CHAPEL              </span> │ <span style=\"color: #008000; text-decoration-color: #008000\">2301 COUNTY RD 66, PRATTVILLE, AL 36067  </span> │ <span style=\"color: #008000; text-decoration-color: #008000\">NA    </span> │ <span style=\"color: #008000; text-decoration-color: #008000\">ORR   </span> │ <span style=\"color: #800080; text-decoration-color: #800080\">2020-10-21</span>  │ <span style=\"color: #008000; text-decoration-color: #008000\">NA          </span> │\n",
       "└───────────────┴────────┴─────────────┴──────────────┴───────────────────┴─────────────┴──────────────────────────────┴──────────────────┴───────────────┴──────────────────────────────┴───────────────────────────────────────────┴────────┴────────┴─────────────┴──────────────┘\n",
       "</pre>\n"
      ],
      "text/plain": [
       "┏━━━━━━━━━━━━━━━┳━━━━━━━━┳━━━━━━━━━━━━━┳━━━━━━━━━━━━━━┳━━━━━━━━━━━━━━━━━━━┳━━━━━━━━━━━━━┳━━━━━━━━━━━━━━━━━━━━━━━━━━━━━━┳━━━━━━━━━━━━━━━━━━┳━━━━━━━━━━━━━━━┳━━━━━━━━━━━━━━━━━━━━━━━━━━━━━━┳━━━━━━━━━━━━━━━━━━━━━━━━━━━━━━━━━━━━━━━━━━━┳━━━━━━━━┳━━━━━━━━┳━━━━━━━━━━━━━┳━━━━━━━━━━━━━━┓\n",
       "┃\u001b[1m \u001b[0m\u001b[1melection_date\u001b[0m\u001b[1m \u001b[0m┃\u001b[1m \u001b[0m\u001b[1mstate\u001b[0m\u001b[1m \u001b[0m\u001b[1m \u001b[0m┃\u001b[1m \u001b[0m\u001b[1mcounty_name\u001b[0m\u001b[1m \u001b[0m┃\u001b[1m \u001b[0m\u001b[1mjurisdiction\u001b[0m\u001b[1m \u001b[0m┃\u001b[1m \u001b[0m\u001b[1mjurisdiction_type\u001b[0m\u001b[1m \u001b[0m┃\u001b[1m \u001b[0m\u001b[1mprecinct_id\u001b[0m\u001b[1m \u001b[0m┃\u001b[1m \u001b[0m\u001b[1mprecinct_name\u001b[0m\u001b[1m               \u001b[0m\u001b[1m \u001b[0m┃\u001b[1m \u001b[0m\u001b[1mpolling_place_id\u001b[0m\u001b[1m \u001b[0m┃\u001b[1m \u001b[0m\u001b[1mlocation_type\u001b[0m\u001b[1m \u001b[0m┃\u001b[1m \u001b[0m\u001b[1mname\u001b[0m\u001b[1m                        \u001b[0m\u001b[1m \u001b[0m┃\u001b[1m \u001b[0m\u001b[1maddress\u001b[0m\u001b[1m                                  \u001b[0m\u001b[1m \u001b[0m┃\u001b[1m \u001b[0m\u001b[1mnotes\u001b[0m\u001b[1m \u001b[0m\u001b[1m \u001b[0m┃\u001b[1m \u001b[0m\u001b[1msource\u001b[0m\u001b[1m \u001b[0m┃\u001b[1m \u001b[0m\u001b[1msource_date\u001b[0m\u001b[1m \u001b[0m┃\u001b[1m \u001b[0m\u001b[1msource_notes\u001b[0m\u001b[1m \u001b[0m┃\n",
       "┡━━━━━━━━━━━━━━━╇━━━━━━━━╇━━━━━━━━━━━━━╇━━━━━━━━━━━━━━╇━━━━━━━━━━━━━━━━━━━╇━━━━━━━━━━━━━╇━━━━━━━━━━━━━━━━━━━━━━━━━━━━━━╇━━━━━━━━━━━━━━━━━━╇━━━━━━━━━━━━━━━╇━━━━━━━━━━━━━━━━━━━━━━━━━━━━━━╇━━━━━━━━━━━━━━━━━━━━━━━━━━━━━━━━━━━━━━━━━━━╇━━━━━━━━╇━━━━━━━━╇━━━━━━━━━━━━━╇━━━━━━━━━━━━━━┩\n",
       "│ \u001b[2mdate\u001b[0m          │ \u001b[2mstring\u001b[0m │ \u001b[2mstring\u001b[0m      │ \u001b[2mstring\u001b[0m       │ \u001b[2mstring\u001b[0m            │ \u001b[2mstring\u001b[0m      │ \u001b[2mstring\u001b[0m                       │ \u001b[2mstring\u001b[0m           │ \u001b[2mstring\u001b[0m        │ \u001b[2mstring\u001b[0m                       │ \u001b[2mstring\u001b[0m                                    │ \u001b[2mstring\u001b[0m │ \u001b[2mstring\u001b[0m │ \u001b[2mdate\u001b[0m        │ \u001b[2mstring\u001b[0m       │\n",
       "├───────────────┼────────┼─────────────┼──────────────┼───────────────────┼─────────────┼──────────────────────────────┼──────────────────┼───────────────┼──────────────────────────────┼───────────────────────────────────────────┼────────┼────────┼─────────────┼──────────────┤\n",
       "│ \u001b[35m2020-11-03\u001b[0m    │ \u001b[32mAL    \u001b[0m │ \u001b[32mAUTAUGA    \u001b[0m │ \u001b[32mAUTAUGA     \u001b[0m │ \u001b[32mcounty           \u001b[0m │ \u001b[32mNA         \u001b[0m │ \u001b[32mAUTAUGAVILLE VOL FIRE DEPT  \u001b[0m │ \u001b[32mNA              \u001b[0m │ \u001b[32melection_day \u001b[0m │ \u001b[32mAUTAUGAVILLE VOL FIRE DEPT  \u001b[0m │ \u001b[32m2610 HIGHWAY 14 W, AUTAUGAVILLE, AL 36003\u001b[0m │ \u001b[32mNA    \u001b[0m │ \u001b[32mORR   \u001b[0m │ \u001b[35m2020-10-21\u001b[0m  │ \u001b[32mNA          \u001b[0m │\n",
       "│ \u001b[35m2020-11-03\u001b[0m    │ \u001b[32mAL    \u001b[0m │ \u001b[32mAUTAUGA    \u001b[0m │ \u001b[32mAUTAUGA     \u001b[0m │ \u001b[32mcounty           \u001b[0m │ \u001b[32mNA         \u001b[0m │ \u001b[32mBILLINGSLEY COMMUNITY CENTER\u001b[0m │ \u001b[32mNA              \u001b[0m │ \u001b[32melection_day \u001b[0m │ \u001b[32mBILLINGSLEY COMMUNITY CENTER\u001b[0m │ \u001b[32m2159 COUNTY RD 37, BILLINGSLEY, AL 36006 \u001b[0m │ \u001b[32mNA    \u001b[0m │ \u001b[32mORR   \u001b[0m │ \u001b[35m2020-10-21\u001b[0m  │ \u001b[32mNA          \u001b[0m │\n",
       "│ \u001b[35m2020-11-03\u001b[0m    │ \u001b[32mAL    \u001b[0m │ \u001b[32mAUTAUGA    \u001b[0m │ \u001b[32mAUTAUGA     \u001b[0m │ \u001b[32mcounty           \u001b[0m │ \u001b[32mNA         \u001b[0m │ \u001b[32mBOONE'S CHAPEL              \u001b[0m │ \u001b[32mNA              \u001b[0m │ \u001b[32melection_day \u001b[0m │ \u001b[32mBOONE'S CHAPEL              \u001b[0m │ \u001b[32m2301 COUNTY RD 66, PRATTVILLE, AL 36067  \u001b[0m │ \u001b[32mNA    \u001b[0m │ \u001b[32mORR   \u001b[0m │ \u001b[35m2020-10-21\u001b[0m  │ \u001b[32mNA          \u001b[0m │\n",
       "└───────────────┴────────┴─────────────┴──────────────┴───────────────────┴─────────────┴──────────────────────────────┴──────────────────┴───────────────┴──────────────────────────────┴───────────────────────────────────────────┴────────┴────────┴─────────────┴──────────────┘"
      ]
     },
     "execution_count": 5,
     "metadata": {},
     "output_type": "execute_result"
    }
   ],
   "source": [
    "dfr.head(3)"
   ]
  },
  {
   "cell_type": "code",
   "execution_count": 8,
   "metadata": {},
   "outputs": [
    {
     "data": {
      "text/plain": [
       "ibis.Schema {\n",
       "  election_date      date\n",
       "  state              string\n",
       "  county_name        string\n",
       "  jurisdiction       string\n",
       "  jurisdiction_type  string\n",
       "  precinct_id        string\n",
       "  precinct_name      string\n",
       "  polling_place_id   string\n",
       "  location_type      string\n",
       "  name               string\n",
       "  address            string\n",
       "  notes              string\n",
       "  source             string\n",
       "  source_date        date\n",
       "  source_notes       string\n",
       "}"
      ]
     },
     "execution_count": 8,
     "metadata": {},
     "output_type": "execute_result"
    }
   ],
   "source": [
    "dfr.schema() #dtypes"
   ]
  },
  {
   "cell_type": "code",
   "execution_count": 9,
   "metadata": {},
   "outputs": [
    {
     "data": {
      "text/html": [
       "<pre style=\"white-space:pre;overflow-x:auto;line-height:normal;font-family:Menlo,'DejaVu Sans Mono',consolas,'Courier New',monospace\"></pre>\n"
      ],
      "text/plain": []
     },
     "metadata": {},
     "output_type": "display_data"
    },
    {
     "data": {
      "text/plain": [
       "\u001b[1;36m461445\u001b[0m"
      ]
     },
     "execution_count": 9,
     "metadata": {},
     "output_type": "execute_result"
    }
   ],
   "source": [
    "dfr.count()"
   ]
  },
  {
   "cell_type": "code",
   "execution_count": 10,
   "metadata": {},
   "outputs": [
    {
     "data": {
      "text/plain": [
       "15"
      ]
     },
     "execution_count": 10,
     "metadata": {},
     "output_type": "execute_result"
    }
   ],
   "source": [
    "len(dfr.schema())"
   ]
  },
  {
   "cell_type": "markdown",
   "metadata": {},
   "source": [
    "## Wrangling"
   ]
  },
  {
   "cell_type": "code",
   "execution_count": 11,
   "metadata": {},
   "outputs": [
    {
     "data": {
      "text/html": [
       "<pre style=\"white-space:pre;overflow-x:auto;line-height:normal;font-family:Menlo,'DejaVu Sans Mono',consolas,'Courier New',monospace\">┏━━━━━━━━━━━━━━━━━━━━━┳━━━━━━━━━━━━━━━━━━━━━━━━━┓\n",
       "┃<span style=\"font-weight: bold\"> jurisdiction_type   </span>┃<span style=\"font-weight: bold\"> jurisdiction_type_count </span>┃\n",
       "┡━━━━━━━━━━━━━━━━━━━━━╇━━━━━━━━━━━━━━━━━━━━━━━━━┩\n",
       "│ <span style=\"color: #7f7f7f; text-decoration-color: #7f7f7f\">string</span>              │ <span style=\"color: #7f7f7f; text-decoration-color: #7f7f7f\">int64</span>                   │\n",
       "├─────────────────────┼─────────────────────────┤\n",
       "│ <span style=\"color: #008000; text-decoration-color: #008000\">parish             </span> │                   <span style=\"color: #008080; text-decoration-color: #008080; font-weight: bold\">20039</span> │\n",
       "│ <span style=\"color: #008000; text-decoration-color: #008000\">town               </span> │                    <span style=\"color: #008080; text-decoration-color: #008080; font-weight: bold\">3135</span> │\n",
       "│ <span style=\"color: #008000; text-decoration-color: #008000\">city               </span> │                   <span style=\"color: #008080; text-decoration-color: #008080; font-weight: bold\">13499</span> │\n",
       "│ <span style=\"color: #008000; text-decoration-color: #008000\">county_municipality</span> │                   <span style=\"color: #008080; text-decoration-color: #008080; font-weight: bold\">27152</span> │\n",
       "│ <span style=\"color: #008000; text-decoration-color: #008000\">borough            </span> │                    <span style=\"color: #008080; text-decoration-color: #008080; font-weight: bold\">2025</span> │\n",
       "│ <span style=\"color: #008000; text-decoration-color: #008000\">NA                 </span> │                      <span style=\"color: #008080; text-decoration-color: #008080; font-weight: bold\">60</span> │\n",
       "│ <span style=\"color: #008000; text-decoration-color: #008000\">municipality       </span> │                   <span style=\"color: #008080; text-decoration-color: #008080; font-weight: bold\">44829</span> │\n",
       "│ <span style=\"color: #008000; text-decoration-color: #008000\">county             </span> │                  <span style=\"color: #008080; text-decoration-color: #008080; font-weight: bold\">350706</span> │\n",
       "└─────────────────────┴─────────────────────────┘\n",
       "</pre>\n"
      ],
      "text/plain": [
       "┏━━━━━━━━━━━━━━━━━━━━━┳━━━━━━━━━━━━━━━━━━━━━━━━━┓\n",
       "┃\u001b[1m \u001b[0m\u001b[1mjurisdiction_type\u001b[0m\u001b[1m  \u001b[0m\u001b[1m \u001b[0m┃\u001b[1m \u001b[0m\u001b[1mjurisdiction_type_count\u001b[0m\u001b[1m \u001b[0m┃\n",
       "┡━━━━━━━━━━━━━━━━━━━━━╇━━━━━━━━━━━━━━━━━━━━━━━━━┩\n",
       "│ \u001b[2mstring\u001b[0m              │ \u001b[2mint64\u001b[0m                   │\n",
       "├─────────────────────┼─────────────────────────┤\n",
       "│ \u001b[32mparish             \u001b[0m │                   \u001b[1;36m20039\u001b[0m │\n",
       "│ \u001b[32mtown               \u001b[0m │                    \u001b[1;36m3135\u001b[0m │\n",
       "│ \u001b[32mcity               \u001b[0m │                   \u001b[1;36m13499\u001b[0m │\n",
       "│ \u001b[32mcounty_municipality\u001b[0m │                   \u001b[1;36m27152\u001b[0m │\n",
       "│ \u001b[32mborough            \u001b[0m │                    \u001b[1;36m2025\u001b[0m │\n",
       "│ \u001b[32mNA                 \u001b[0m │                      \u001b[1;36m60\u001b[0m │\n",
       "│ \u001b[32mmunicipality       \u001b[0m │                   \u001b[1;36m44829\u001b[0m │\n",
       "│ \u001b[32mcounty             \u001b[0m │                  \u001b[1;36m350706\u001b[0m │\n",
       "└─────────────────────┴─────────────────────────┘"
      ]
     },
     "execution_count": 11,
     "metadata": {},
     "output_type": "execute_result"
    }
   ],
   "source": [
    "dfr.jurisdiction_type.value_counts()"
   ]
  },
  {
   "cell_type": "code",
   "execution_count": 12,
   "metadata": {},
   "outputs": [
    {
     "data": {
      "text/html": [
       "<pre style=\"white-space:pre;overflow-x:auto;line-height:normal;font-family:Menlo,'DejaVu Sans Mono',consolas,'Courier New',monospace\">┏━━━━━━━━━━━━━━━━━━┳━━━━━━━━━━━━━━━━━━━━━┓\n",
       "┃<span style=\"font-weight: bold\"> location_type    </span>┃<span style=\"font-weight: bold\"> location_type_count </span>┃\n",
       "┡━━━━━━━━━━━━━━━━━━╇━━━━━━━━━━━━━━━━━━━━━┩\n",
       "│ <span style=\"color: #7f7f7f; text-decoration-color: #7f7f7f\">string</span>           │ <span style=\"color: #7f7f7f; text-decoration-color: #7f7f7f\">int64</span>               │\n",
       "├──────────────────┼─────────────────────┤\n",
       "│ <span style=\"color: #008000; text-decoration-color: #008000\">early_vote_site </span> │                <span style=\"color: #008080; text-decoration-color: #008080; font-weight: bold\">1778</span> │\n",
       "│ <span style=\"color: #008000; text-decoration-color: #008000\">vote_center     </span> │                <span style=\"color: #008080; text-decoration-color: #008080; font-weight: bold\">5566</span> │\n",
       "│ <span style=\"color: #008000; text-decoration-color: #008000\">polling_location</span> │              <span style=\"color: #008080; text-decoration-color: #008080; font-weight: bold\">100833</span> │\n",
       "│ <span style=\"color: #008000; text-decoration-color: #008000\">early_vote      </span> │                <span style=\"color: #008080; text-decoration-color: #008080; font-weight: bold\">1291</span> │\n",
       "│ <span style=\"color: #008000; text-decoration-color: #008000\">polling_place   </span> │              <span style=\"color: #008080; text-decoration-color: #008080; font-weight: bold\">103737</span> │\n",
       "│ <span style=\"color: #008000; text-decoration-color: #008000\">NA              </span> │              <span style=\"color: #008080; text-decoration-color: #008080; font-weight: bold\">192830</span> │\n",
       "│ <span style=\"color: #008000; text-decoration-color: #008000\">election_day    </span> │               <span style=\"color: #008080; text-decoration-color: #008080; font-weight: bold\">55410</span> │\n",
       "└──────────────────┴─────────────────────┘\n",
       "</pre>\n"
      ],
      "text/plain": [
       "┏━━━━━━━━━━━━━━━━━━┳━━━━━━━━━━━━━━━━━━━━━┓\n",
       "┃\u001b[1m \u001b[0m\u001b[1mlocation_type\u001b[0m\u001b[1m   \u001b[0m\u001b[1m \u001b[0m┃\u001b[1m \u001b[0m\u001b[1mlocation_type_count\u001b[0m\u001b[1m \u001b[0m┃\n",
       "┡━━━━━━━━━━━━━━━━━━╇━━━━━━━━━━━━━━━━━━━━━┩\n",
       "│ \u001b[2mstring\u001b[0m           │ \u001b[2mint64\u001b[0m               │\n",
       "├──────────────────┼─────────────────────┤\n",
       "│ \u001b[32mearly_vote_site \u001b[0m │                \u001b[1;36m1778\u001b[0m │\n",
       "│ \u001b[32mvote_center     \u001b[0m │                \u001b[1;36m5566\u001b[0m │\n",
       "│ \u001b[32mpolling_location\u001b[0m │              \u001b[1;36m100833\u001b[0m │\n",
       "│ \u001b[32mearly_vote      \u001b[0m │                \u001b[1;36m1291\u001b[0m │\n",
       "│ \u001b[32mpolling_place   \u001b[0m │              \u001b[1;36m103737\u001b[0m │\n",
       "│ \u001b[32mNA              \u001b[0m │              \u001b[1;36m192830\u001b[0m │\n",
       "│ \u001b[32melection_day    \u001b[0m │               \u001b[1;36m55410\u001b[0m │\n",
       "└──────────────────┴─────────────────────┘"
      ]
     },
     "execution_count": 12,
     "metadata": {},
     "output_type": "execute_result"
    }
   ],
   "source": [
    "dfr.location_type.value_counts()"
   ]
  },
  {
   "cell_type": "code",
   "execution_count": 22,
   "metadata": {},
   "outputs": [],
   "source": [
    "df = dfr.filter(\n",
    "    [_.jurisdiction_type != 'NA', _.location_type != \"NA\"]\n",
    ").select(\n",
    "    _.state,  \"jurisdiction\", s.endswith(\"type\"),  s.contains(\"date\")\n",
    ").rename(\n",
    "    type = \"jurisdiction_type\",\n",
    "    location = \"location_type\",\n",
    "    date = \"source_date\",\n",
    "    election = \"election_date\"\n",
    ")"
   ]
  },
  {
   "cell_type": "code",
   "execution_count": 23,
   "metadata": {},
   "outputs": [
    {
     "data": {
      "text/html": [
       "<pre style=\"white-space:pre;overflow-x:auto;line-height:normal;font-family:Menlo,'DejaVu Sans Mono',consolas,'Courier New',monospace\">┏━━━━━━━━┳━━━━━━━━━━━━━━┳━━━━━━━━┳━━━━━━━━━━━━━━┳━━━━━━━━━━━━┳━━━━━━━━━━━━┓\n",
       "┃<span style=\"font-weight: bold\"> state  </span>┃<span style=\"font-weight: bold\"> jurisdiction </span>┃<span style=\"font-weight: bold\"> type   </span>┃<span style=\"font-weight: bold\"> location     </span>┃<span style=\"font-weight: bold\"> election   </span>┃<span style=\"font-weight: bold\"> date       </span>┃\n",
       "┡━━━━━━━━╇━━━━━━━━━━━━━━╇━━━━━━━━╇━━━━━━━━━━━━━━╇━━━━━━━━━━━━╇━━━━━━━━━━━━┩\n",
       "│ <span style=\"color: #7f7f7f; text-decoration-color: #7f7f7f\">string</span> │ <span style=\"color: #7f7f7f; text-decoration-color: #7f7f7f\">string</span>       │ <span style=\"color: #7f7f7f; text-decoration-color: #7f7f7f\">string</span> │ <span style=\"color: #7f7f7f; text-decoration-color: #7f7f7f\">string</span>       │ <span style=\"color: #7f7f7f; text-decoration-color: #7f7f7f\">date</span>       │ <span style=\"color: #7f7f7f; text-decoration-color: #7f7f7f\">date</span>       │\n",
       "├────────┼──────────────┼────────┼──────────────┼────────────┼────────────┤\n",
       "│ <span style=\"color: #008000; text-decoration-color: #008000\">AL    </span> │ <span style=\"color: #008000; text-decoration-color: #008000\">AUTAUGA     </span> │ <span style=\"color: #008000; text-decoration-color: #008000\">county</span> │ <span style=\"color: #008000; text-decoration-color: #008000\">election_day</span> │ <span style=\"color: #800080; text-decoration-color: #800080\">2020-11-03</span> │ <span style=\"color: #800080; text-decoration-color: #800080\">2020-10-21</span> │\n",
       "│ <span style=\"color: #008000; text-decoration-color: #008000\">AL    </span> │ <span style=\"color: #008000; text-decoration-color: #008000\">AUTAUGA     </span> │ <span style=\"color: #008000; text-decoration-color: #008000\">county</span> │ <span style=\"color: #008000; text-decoration-color: #008000\">election_day</span> │ <span style=\"color: #800080; text-decoration-color: #800080\">2020-11-03</span> │ <span style=\"color: #800080; text-decoration-color: #800080\">2020-10-21</span> │\n",
       "│ <span style=\"color: #008000; text-decoration-color: #008000\">AL    </span> │ <span style=\"color: #008000; text-decoration-color: #008000\">AUTAUGA     </span> │ <span style=\"color: #008000; text-decoration-color: #008000\">county</span> │ <span style=\"color: #008000; text-decoration-color: #008000\">election_day</span> │ <span style=\"color: #800080; text-decoration-color: #800080\">2020-11-03</span> │ <span style=\"color: #800080; text-decoration-color: #800080\">2020-10-21</span> │\n",
       "│ <span style=\"color: #008000; text-decoration-color: #008000\">AL    </span> │ <span style=\"color: #008000; text-decoration-color: #008000\">AUTAUGA     </span> │ <span style=\"color: #008000; text-decoration-color: #008000\">county</span> │ <span style=\"color: #008000; text-decoration-color: #008000\">election_day</span> │ <span style=\"color: #800080; text-decoration-color: #800080\">2020-11-03</span> │ <span style=\"color: #800080; text-decoration-color: #800080\">2020-10-21</span> │\n",
       "└────────┴──────────────┴────────┴──────────────┴────────────┴────────────┘\n",
       "</pre>\n"
      ],
      "text/plain": [
       "┏━━━━━━━━┳━━━━━━━━━━━━━━┳━━━━━━━━┳━━━━━━━━━━━━━━┳━━━━━━━━━━━━┳━━━━━━━━━━━━┓\n",
       "┃\u001b[1m \u001b[0m\u001b[1mstate\u001b[0m\u001b[1m \u001b[0m\u001b[1m \u001b[0m┃\u001b[1m \u001b[0m\u001b[1mjurisdiction\u001b[0m\u001b[1m \u001b[0m┃\u001b[1m \u001b[0m\u001b[1mtype\u001b[0m\u001b[1m  \u001b[0m\u001b[1m \u001b[0m┃\u001b[1m \u001b[0m\u001b[1mlocation\u001b[0m\u001b[1m    \u001b[0m\u001b[1m \u001b[0m┃\u001b[1m \u001b[0m\u001b[1melection\u001b[0m\u001b[1m  \u001b[0m\u001b[1m \u001b[0m┃\u001b[1m \u001b[0m\u001b[1mdate\u001b[0m\u001b[1m      \u001b[0m\u001b[1m \u001b[0m┃\n",
       "┡━━━━━━━━╇━━━━━━━━━━━━━━╇━━━━━━━━╇━━━━━━━━━━━━━━╇━━━━━━━━━━━━╇━━━━━━━━━━━━┩\n",
       "│ \u001b[2mstring\u001b[0m │ \u001b[2mstring\u001b[0m       │ \u001b[2mstring\u001b[0m │ \u001b[2mstring\u001b[0m       │ \u001b[2mdate\u001b[0m       │ \u001b[2mdate\u001b[0m       │\n",
       "├────────┼──────────────┼────────┼──────────────┼────────────┼────────────┤\n",
       "│ \u001b[32mAL    \u001b[0m │ \u001b[32mAUTAUGA     \u001b[0m │ \u001b[32mcounty\u001b[0m │ \u001b[32melection_day\u001b[0m │ \u001b[35m2020-11-03\u001b[0m │ \u001b[35m2020-10-21\u001b[0m │\n",
       "│ \u001b[32mAL    \u001b[0m │ \u001b[32mAUTAUGA     \u001b[0m │ \u001b[32mcounty\u001b[0m │ \u001b[32melection_day\u001b[0m │ \u001b[35m2020-11-03\u001b[0m │ \u001b[35m2020-10-21\u001b[0m │\n",
       "│ \u001b[32mAL    \u001b[0m │ \u001b[32mAUTAUGA     \u001b[0m │ \u001b[32mcounty\u001b[0m │ \u001b[32melection_day\u001b[0m │ \u001b[35m2020-11-03\u001b[0m │ \u001b[35m2020-10-21\u001b[0m │\n",
       "│ \u001b[32mAL    \u001b[0m │ \u001b[32mAUTAUGA     \u001b[0m │ \u001b[32mcounty\u001b[0m │ \u001b[32melection_day\u001b[0m │ \u001b[35m2020-11-03\u001b[0m │ \u001b[35m2020-10-21\u001b[0m │\n",
       "└────────┴──────────────┴────────┴──────────────┴────────────┴────────────┘"
      ]
     },
     "execution_count": 23,
     "metadata": {},
     "output_type": "execute_result"
    }
   ],
   "source": [
    "df.limit(4)"
   ]
  },
  {
   "cell_type": "code",
   "execution_count": 37,
   "metadata": {},
   "outputs": [
    {
     "data": {
      "text/html": [
       "<pre style=\"white-space:pre;overflow-x:auto;line-height:normal;font-family:Menlo,'DejaVu Sans Mono',consolas,'Courier New',monospace\">┏━━━━━━━━━━━━━━━━━━┳━━━━━━━━┓\n",
       "┃<span style=\"font-weight: bold\"> location         </span>┃<span style=\"font-weight: bold\"> total  </span>┃\n",
       "┡━━━━━━━━━━━━━━━━━━╇━━━━━━━━┩\n",
       "│ <span style=\"color: #7f7f7f; text-decoration-color: #7f7f7f\">string</span>           │ <span style=\"color: #7f7f7f; text-decoration-color: #7f7f7f\">int64</span>  │\n",
       "├──────────────────┼────────┤\n",
       "│ <span style=\"color: #008000; text-decoration-color: #008000\">early_vote      </span> │   <span style=\"color: #008080; text-decoration-color: #008080; font-weight: bold\">1291</span> │\n",
       "│ <span style=\"color: #008000; text-decoration-color: #008000\">early_vote_site </span> │   <span style=\"color: #008080; text-decoration-color: #008080; font-weight: bold\">1778</span> │\n",
       "│ <span style=\"color: #008000; text-decoration-color: #008000\">vote_center     </span> │   <span style=\"color: #008080; text-decoration-color: #008080; font-weight: bold\">5566</span> │\n",
       "│ <span style=\"color: #008000; text-decoration-color: #008000\">election_day    </span> │  <span style=\"color: #008080; text-decoration-color: #008080; font-weight: bold\">55410</span> │\n",
       "│ <span style=\"color: #008000; text-decoration-color: #008000\">polling_location</span> │ <span style=\"color: #008080; text-decoration-color: #008080; font-weight: bold\">100833</span> │\n",
       "│ <span style=\"color: #008000; text-decoration-color: #008000\">polling_place   </span> │ <span style=\"color: #008080; text-decoration-color: #008080; font-weight: bold\">103737</span> │\n",
       "└──────────────────┴────────┘\n",
       "</pre>\n"
      ],
      "text/plain": [
       "┏━━━━━━━━━━━━━━━━━━┳━━━━━━━━┓\n",
       "┃\u001b[1m \u001b[0m\u001b[1mlocation\u001b[0m\u001b[1m        \u001b[0m\u001b[1m \u001b[0m┃\u001b[1m \u001b[0m\u001b[1mtotal\u001b[0m\u001b[1m \u001b[0m\u001b[1m \u001b[0m┃\n",
       "┡━━━━━━━━━━━━━━━━━━╇━━━━━━━━┩\n",
       "│ \u001b[2mstring\u001b[0m           │ \u001b[2mint64\u001b[0m  │\n",
       "├──────────────────┼────────┤\n",
       "│ \u001b[32mearly_vote      \u001b[0m │   \u001b[1;36m1291\u001b[0m │\n",
       "│ \u001b[32mearly_vote_site \u001b[0m │   \u001b[1;36m1778\u001b[0m │\n",
       "│ \u001b[32mvote_center     \u001b[0m │   \u001b[1;36m5566\u001b[0m │\n",
       "│ \u001b[32melection_day    \u001b[0m │  \u001b[1;36m55410\u001b[0m │\n",
       "│ \u001b[32mpolling_location\u001b[0m │ \u001b[1;36m100833\u001b[0m │\n",
       "│ \u001b[32mpolling_place   \u001b[0m │ \u001b[1;36m103737\u001b[0m │\n",
       "└──────────────────┴────────┘"
      ]
     },
     "execution_count": 37,
     "metadata": {},
     "output_type": "execute_result"
    }
   ],
   "source": [
    "byloc = df.location.value_counts().order_by(_.location_count).rename(total = \"location_count\")\n",
    "byloc"
   ]
  },
  {
   "cell_type": "code",
   "execution_count": 33,
   "metadata": {},
   "outputs": [
    {
     "data": {
      "text/html": [
       "<pre style=\"white-space:pre;overflow-x:auto;line-height:normal;font-family:Menlo,'DejaVu Sans Mono',consolas,'Courier New',monospace\">┏━━━━━━━━━━━━━━┳━━━━━━━━┓\n",
       "┃<span style=\"font-weight: bold\"> type         </span>┃<span style=\"font-weight: bold\"> total  </span>┃\n",
       "┡━━━━━━━━━━━━━━╇━━━━━━━━┩\n",
       "│ <span style=\"color: #7f7f7f; text-decoration-color: #7f7f7f\">string</span>       │ <span style=\"color: #7f7f7f; text-decoration-color: #7f7f7f\">int64</span>  │\n",
       "├──────────────┼────────┤\n",
       "│ <span style=\"color: #008000; text-decoration-color: #008000\">county      </span> │ <span style=\"color: #008080; text-decoration-color: #008080; font-weight: bold\">207112</span> │\n",
       "│ <span style=\"color: #008000; text-decoration-color: #008000\">municipality</span> │  <span style=\"color: #008080; text-decoration-color: #008080; font-weight: bold\">22805</span> │\n",
       "│ <span style=\"color: #008000; text-decoration-color: #008000\">parish      </span> │  <span style=\"color: #008080; text-decoration-color: #008080; font-weight: bold\">20039</span> │\n",
       "│ <span style=\"color: #008000; text-decoration-color: #008000\">city        </span> │  <span style=\"color: #008080; text-decoration-color: #008080; font-weight: bold\">13499</span> │\n",
       "│ <span style=\"color: #008000; text-decoration-color: #008000\">town        </span> │   <span style=\"color: #008080; text-decoration-color: #008080; font-weight: bold\">3135</span> │\n",
       "│ <span style=\"color: #008000; text-decoration-color: #008000\">borough     </span> │   <span style=\"color: #008080; text-decoration-color: #008080; font-weight: bold\">2025</span> │\n",
       "└──────────────┴────────┘\n",
       "</pre>\n"
      ],
      "text/plain": [
       "┏━━━━━━━━━━━━━━┳━━━━━━━━┓\n",
       "┃\u001b[1m \u001b[0m\u001b[1mtype\u001b[0m\u001b[1m        \u001b[0m\u001b[1m \u001b[0m┃\u001b[1m \u001b[0m\u001b[1mtotal\u001b[0m\u001b[1m \u001b[0m\u001b[1m \u001b[0m┃\n",
       "┡━━━━━━━━━━━━━━╇━━━━━━━━┩\n",
       "│ \u001b[2mstring\u001b[0m       │ \u001b[2mint64\u001b[0m  │\n",
       "├──────────────┼────────┤\n",
       "│ \u001b[32mcounty      \u001b[0m │ \u001b[1;36m207112\u001b[0m │\n",
       "│ \u001b[32mmunicipality\u001b[0m │  \u001b[1;36m22805\u001b[0m │\n",
       "│ \u001b[32mparish      \u001b[0m │  \u001b[1;36m20039\u001b[0m │\n",
       "│ \u001b[32mcity        \u001b[0m │  \u001b[1;36m13499\u001b[0m │\n",
       "│ \u001b[32mtown        \u001b[0m │   \u001b[1;36m3135\u001b[0m │\n",
       "│ \u001b[32mborough     \u001b[0m │   \u001b[1;36m2025\u001b[0m │\n",
       "└──────────────┴────────┘"
      ]
     },
     "execution_count": 33,
     "metadata": {},
     "output_type": "execute_result"
    }
   ],
   "source": [
    "#bytype = df.type.value_counts().order_by(_.type_count).rename(total = \"type_count\")\n",
    "bytype = (\n",
    "    df.group_by(\"type\")\n",
    "    .aggregate(total=ibis._.count())\n",
    "    .order_by(ibis.desc(\"total\"))\n",
    ")\n",
    "bytype"
   ]
  },
  {
   "cell_type": "markdown",
   "metadata": {},
   "source": [
    "## Plotting"
   ]
  },
  {
   "cell_type": "code",
   "execution_count": 40,
   "metadata": {},
   "outputs": [],
   "source": [
    "width = 640\n",
    "height = 480"
   ]
  },
  {
   "cell_type": "markdown",
   "metadata": {},
   "source": [
    "### Altair"
   ]
  },
  {
   "cell_type": "code",
   "execution_count": 32,
   "metadata": {},
   "outputs": [],
   "source": [
    "import altair as alt"
   ]
  },
  {
   "cell_type": "code",
   "execution_count": 45,
   "metadata": {},
   "outputs": [
    {
     "data": {
      "text/html": [
       "\n",
       "<style>\n",
       "  #altair-viz-965e8910e3d04faa9180e0f713c59a1d.vega-embed {\n",
       "    width: 100%;\n",
       "    display: flex;\n",
       "  }\n",
       "\n",
       "  #altair-viz-965e8910e3d04faa9180e0f713c59a1d.vega-embed details,\n",
       "  #altair-viz-965e8910e3d04faa9180e0f713c59a1d.vega-embed details summary {\n",
       "    position: relative;\n",
       "  }\n",
       "</style>\n",
       "<div id=\"altair-viz-965e8910e3d04faa9180e0f713c59a1d\"></div>\n",
       "<script type=\"text/javascript\">\n",
       "  var VEGA_DEBUG = (typeof VEGA_DEBUG == \"undefined\") ? {} : VEGA_DEBUG;\n",
       "  (function(spec, embedOpt){\n",
       "    let outputDiv = document.currentScript.previousElementSibling;\n",
       "    if (outputDiv.id !== \"altair-viz-965e8910e3d04faa9180e0f713c59a1d\") {\n",
       "      outputDiv = document.getElementById(\"altair-viz-965e8910e3d04faa9180e0f713c59a1d\");\n",
       "    }\n",
       "    const paths = {\n",
       "      \"vega\": \"https://cdn.jsdelivr.net/npm/vega@5?noext\",\n",
       "      \"vega-lib\": \"https://cdn.jsdelivr.net/npm/vega-lib?noext\",\n",
       "      \"vega-lite\": \"https://cdn.jsdelivr.net/npm/vega-lite@5.16.3?noext\",\n",
       "      \"vega-embed\": \"https://cdn.jsdelivr.net/npm/vega-embed@6?noext\",\n",
       "    };\n",
       "\n",
       "    function maybeLoadScript(lib, version) {\n",
       "      var key = `${lib.replace(\"-\", \"\")}_version`;\n",
       "      return (VEGA_DEBUG[key] == version) ?\n",
       "        Promise.resolve(paths[lib]) :\n",
       "        new Promise(function(resolve, reject) {\n",
       "          var s = document.createElement('script');\n",
       "          document.getElementsByTagName(\"head\")[0].appendChild(s);\n",
       "          s.async = true;\n",
       "          s.onload = () => {\n",
       "            VEGA_DEBUG[key] = version;\n",
       "            return resolve(paths[lib]);\n",
       "          };\n",
       "          s.onerror = () => reject(`Error loading script: ${paths[lib]}`);\n",
       "          s.src = paths[lib];\n",
       "        });\n",
       "    }\n",
       "\n",
       "    function showError(err) {\n",
       "      outputDiv.innerHTML = `<div class=\"error\" style=\"color:red;\">${err}</div>`;\n",
       "      throw err;\n",
       "    }\n",
       "\n",
       "    function displayChart(vegaEmbed) {\n",
       "      vegaEmbed(outputDiv, spec, embedOpt)\n",
       "        .catch(err => showError(`Javascript Error: ${err.message}<br>This usually means there's a typo in your chart specification. See the javascript console for the full traceback.`));\n",
       "    }\n",
       "\n",
       "    if(typeof define === \"function\" && define.amd) {\n",
       "      requirejs.config({paths});\n",
       "      require([\"vega-embed\"], displayChart, err => showError(`Error loading script: ${err.message}`));\n",
       "    } else {\n",
       "      maybeLoadScript(\"vega\", \"5\")\n",
       "        .then(() => maybeLoadScript(\"vega-lite\", \"5.16.3\"))\n",
       "        .then(() => maybeLoadScript(\"vega-embed\", \"6\"))\n",
       "        .catch(showError)\n",
       "        .then(() => displayChart(vegaEmbed));\n",
       "    }\n",
       "  })({\"config\": {\"view\": {\"continuousWidth\": 300, \"continuousHeight\": 300}}, \"data\": {\"name\": \"data-5b65669b4df384367da07bed31d212a6\"}, \"mark\": {\"type\": \"bar\"}, \"encoding\": {\"tooltip\": [{\"field\": \"location\", \"type\": \"nominal\"}, {\"field\": \"total\", \"type\": \"quantitative\"}], \"x\": {\"axis\": {\"title\": \"Location\"}, \"field\": \"location\", \"type\": \"nominal\"}, \"y\": {\"field\": \"total\", \"type\": \"quantitative\"}}, \"height\": 480, \"params\": [{\"name\": \"param_3\", \"select\": {\"type\": \"interval\", \"encodings\": [\"x\", \"y\"]}, \"bind\": \"scales\"}], \"title\": {\"text\": \"US POLLING DISTRIBUTION\", \"subtitle\": \"By Locatation Type\"}, \"width\": 640, \"$schema\": \"https://vega.github.io/schema/vega-lite/v5.16.3.json\", \"datasets\": {\"data-5b65669b4df384367da07bed31d212a6\": [{\"location\": \"early_vote\", \"total\": 1291}, {\"location\": \"early_vote_site\", \"total\": 1778}, {\"location\": \"vote_center\", \"total\": 5566}, {\"location\": \"election_day\", \"total\": 55410}, {\"location\": \"polling_location\", \"total\": 100833}, {\"location\": \"polling_place\", \"total\": 103737}]}}, {\"mode\": \"vega-lite\"});\n",
       "</script>"
      ],
      "text/plain": [
       "alt.Chart(...)"
      ]
     },
     "execution_count": 45,
     "metadata": {},
     "output_type": "execute_result"
    }
   ],
   "source": [
    "chart = (\n",
    "    alt.Chart(\n",
    "        byloc.to_pandas(),\n",
    "        title=alt.Title(\n",
    "       \"US POLLING DISTRIBUTION\",\n",
    "       subtitle=\"By Locatation Type\"))\n",
    "    .mark_bar()\n",
    "    .encode(\n",
    "        alt.X(\"location\").axis(title=\"Location\"),\n",
    "        y=\"total\",\n",
    "        tooltip=[\"location\", \"total\"],\n",
    "    )\n",
    "    .properties(width=width, height=height)\n",
    "    .interactive()\n",
    ")\n",
    "chart"
   ]
  },
  {
   "cell_type": "code",
   "execution_count": null,
   "metadata": {},
   "outputs": [],
   "source": []
  },
  {
   "cell_type": "markdown",
   "metadata": {},
   "source": [
    "### Seaborn"
   ]
  },
  {
   "cell_type": "code",
   "execution_count": 38,
   "metadata": {},
   "outputs": [],
   "source": [
    "import seaborn as sns"
   ]
  },
  {
   "cell_type": "code",
   "execution_count": 48,
   "metadata": {},
   "outputs": [
    {
     "data": {
      "text/plain": [
       "Text(0, 0.5, 'Frequency')"
      ]
     },
     "execution_count": 48,
     "metadata": {},
     "output_type": "execute_result"
    },
    {
     "data": {
      "image/png": "[encoded data removed]",
      "text/plain": [
       "<Figure size 640x480 with 1 Axes>"
      ]
     },
     "metadata": {},
     "output_type": "display_data"
    }
   ],
   "source": [
    "chart = sns.barplot(\n",
    "    data=bytype.to_pandas(),\n",
    "    x=\"type\",\n",
    "    y=\"total\",\n",
    "    hue=\"type\"\n",
    ")\n",
    "chart.figure.set_size_inches(width / 100, height / 100)\n",
    "chart.set_title(\"US POLLING JURISDICTION\")\n",
    "chart.set_xlabel('Jurisdiction Types')\n",
    "chart.set_ylabel('Frequency')"
   ]
  }
 ],
 "metadata": {
  "kernelspec": {
   "display_name": ".pvenv",
   "language": "python",
   "name": "python3"
  },
  "language_info": {
   "codemirror_mode": {
    "name": "ipython",
    "version": 3
   },
   "file_extension": ".py",
   "mimetype": "text/x-python",
   "name": "python",
   "nbconvert_exporter": "python",
   "pygments_lexer": "ipython3",
   "version": "3.11.4"
  }
 },
 "nbformat": 4,
 "nbformat_minor": 2
}
