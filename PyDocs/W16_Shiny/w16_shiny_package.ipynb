{
 "cells": [
  {
   "cell_type": "markdown",
   "metadata": {},
   "source": [
    "#  <span style=\"color:firebrick\">SHINY R PACKAGES</span>\n",
    "<span style=\"color:orchid\">**2024 Tidytuesday  Week 16** </span>"
   ]
  },
  {
   "cell_type": "markdown",
   "metadata": {},
   "source": [
    "## Setup"
   ]
  },
  {
   "cell_type": "markdown",
   "metadata": {},
   "source": [
    "### Libraries"
   ]
  },
  {
   "cell_type": "code",
   "execution_count": 12,
   "metadata": {},
   "outputs": [],
   "source": [
    "import numpy as   np\n",
    "import pandas as pd\n",
    "import matplotlib.pyplot as plt\n",
    "import seaborn as sns\n",
    "import re"
   ]
  },
  {
   "cell_type": "code",
   "execution_count": 2,
   "metadata": {},
   "outputs": [
    {
     "data": {
      "text/plain": [
       "['/Library/Fonts/Roboto-Italic.ttf',\n",
       " '/Library/Fonts/Boska-Italic.otf',\n",
       " '/Library/Fonts/JuliaMono-BoldItalic.ttf',\n",
       " '/Library/Fonts/Pally-Regular.otf',\n",
       " '/Library/Fonts/JuliaMono-MediumItalic.ttf',\n",
       " '/Library/Fonts/Pally-Bold.otf',\n",
       " '/Library/Fonts/Kalam-Regular.ttf',\n",
       " '/Library/Fonts/FiraCode-Light.ttf',\n",
       " '/Library/Fonts/Pacifico-Regular.ttf',\n",
       " '/Library/Fonts/Tabular-Regular.otf',\n",
       " '/Library/Fonts/Aclonica-Regular.ttf',\n",
       " '/Library/Fonts/Festive-Regular.ttf',\n",
       " '/Library/Fonts/InputMonoCondensed-Regular.ttf',\n",
       " '/Library/Fonts/Boska-Light.otf',\n",
       " '/Library/Fonts/RobotoCondensed-Italic.ttf',\n",
       " '/Library/Fonts/JuliaMono-Light.ttf',\n",
       " '/Library/Fonts/Jersey10-Regular.ttf',\n",
       " '/Library/Fonts/JuliaMono-RegularItalic.ttf',\n",
       " '/Library/Fonts/InputMonoCondensed-Bold.ttf',\n",
       " '/Library/Fonts/Roboto-BoldItalic.ttf',\n",
       " '/Library/Fonts/Roboto-MediumItalic.ttf',\n",
       " '/Library/Fonts/FiraCode-Bold.ttf',\n",
       " '/Library/Fonts/GrenzeGotisch-ExtraBold.ttf',\n",
       " '/Library/Fonts/JuliaMono-LightItalic.ttf',\n",
       " '/Library/Fonts/FiraCode-Medium.ttf',\n",
       " '/Library/Fonts/UnifrakturCook-Bold.ttf',\n",
       " '/Library/Fonts/mononoki-Italic.otf',\n",
       " '/Library/Fonts/GrenzeGotisch-Black.ttf',\n",
       " '/Library/Fonts/Iosevka-SemiBold.ttc',\n",
       " '/Library/Fonts/Pally-Medium.otf',\n",
       " '/Library/Fonts/PinyonScript-Regular.ttf',\n",
       " '/Library/Fonts/Boska-BlackItalic.otf',\n",
       " '/Library/Fonts/CabinetGrotesk-Bold.ttf',\n",
       " '/Library/Fonts/Roboto-Light.ttf',\n",
       " '/Library/Fonts/BebasNeue-Regular.ttf',\n",
       " '/Library/Fonts/Iosevka-Light.ttc',\n",
       " '/Library/Fonts/Font Awesome 6 Brands-Regular-400.otf',\n",
       " '/Library/Fonts/Roboto-Bold.ttf',\n",
       " '/Library/Fonts/Boska-Bold.otf',\n",
       " '/Library/Fonts/GreatVibes-Regular.ttf',\n",
       " '/Library/Fonts/CabinetGrotesk-Regular.ttf',\n",
       " '/Library/Fonts/GrenzeGotisch-Bold.ttf',\n",
       " '/Library/Fonts/InputMonoCondensed-Italic.ttf',\n",
       " '/Library/Fonts/JuliaMono-SemiBoldItalic.ttf',\n",
       " '/Library/Fonts/Tabular-BoldItalic.otf',\n",
       " '/Library/Fonts/Tabular-Medium.otf',\n",
       " '/Library/Fonts/RobotoCondensed-BoldItalic.ttf',\n",
       " '/Library/Fonts/Ultra-Regular.ttf',\n",
       " '/Library/Fonts/FiraCode-VF.ttf',\n",
       " '/Library/Fonts/Iosevka-Thin.ttc',\n",
       " '/Library/Fonts/Iosevka-ExtraBold.ttc',\n",
       " '/Library/Fonts/Boska-LightItalic.otf',\n",
       " '/Library/Fonts/CabinetGrotesk-Extrabold.ttf',\n",
       " '/Library/Fonts/Machine Gunk.ttf',\n",
       " '/Library/Fonts/PressStart2P-Regular.ttf',\n",
       " '/Library/Fonts/GrenzeGotisch-ExtraLight.ttf',\n",
       " '/Library/Fonts/Amiko-SemiBold.ttf',\n",
       " '/Library/Fonts/Tabular-Bold.otf',\n",
       " '/Library/Fonts/Boska-ExtralightItalic.otf',\n",
       " '/Library/Fonts/Roboto-LightItalic.ttf',\n",
       " '/Library/Fonts/Font Awesome 6 Free-Regular-400.otf',\n",
       " '/Library/Fonts/Iosevka-Regular.ttc',\n",
       " '/Library/Fonts/Iosevka-Heavy.ttc',\n",
       " '/Library/Fonts/RobotoCondensed-Light.ttf',\n",
       " '/Library/Fonts/mononoki-BoldItalic.otf',\n",
       " '/Library/Fonts/JuliaMono-ExtraBoldItalic.ttf',\n",
       " '/Library/Fonts/Boska-Black.ttf',\n",
       " '/Library/Fonts/RobotoCondensed-Bold.ttf',\n",
       " '/Library/Fonts/Tabular-SemiboldItalic.otf',\n",
       " '/Library/Fonts/JuliaMono-BlackItalic.ttf',\n",
       " '/Library/Fonts/Roboto-ThinItalic.ttf',\n",
       " '/Library/Fonts/Kalam-Bold.ttf',\n",
       " '/Library/Fonts/RobotoCondensed-LightItalic.ttf',\n",
       " '/Library/Fonts/CabinetGrotesk-Black.ttf',\n",
       " '/Library/Fonts/mononoki-Regular.otf',\n",
       " '/Library/Fonts/Boska-Extralight.otf',\n",
       " '/Library/Fonts/JuliaMono-Black.ttf',\n",
       " '/Library/Fonts/Amiko-Bold.ttf',\n",
       " '/Library/Fonts/Roboto-Medium.ttf',\n",
       " '/Library/Fonts/FiraCode-Regular.ttf',\n",
       " '/Library/Fonts/FiraCode-SemiBold.ttf',\n",
       " '/Library/Fonts/GrenzeGotisch-Medium.ttf',\n",
       " '/Library/Fonts/JuliaMono-ExtraBold.ttf',\n",
       " '/Library/Fonts/Tabular-Light.otf',\n",
       " '/Library/Fonts/Font Awesome 6 Free-Solid-900.otf',\n",
       " '/Library/Fonts/RobotoCondensed-Regular.ttf',\n",
       " '/Library/Fonts/Tabular-Italic.otf',\n",
       " '/Library/Fonts/GrenzeGotisch-Light.ttf',\n",
       " '/Library/Fonts/Boska-Black.otf',\n",
       " '/Library/Fonts/Boska-Regular.otf',\n",
       " '/Library/Fonts/Boska-Medium.otf',\n",
       " '/Library/Fonts/JuliaMono-RegularLatin.ttf',\n",
       " '/Library/Fonts/Arial Unicode.ttf',\n",
       " '/Library/Fonts/Tabular-MediumItalic.otf',\n",
       " '/Library/Fonts/JuliaMono-Regular.ttf',\n",
       " '/Library/Fonts/Amiko-Regular.ttf',\n",
       " '/Library/Fonts/JuliaMono-SemiBold.ttf',\n",
       " '/Library/Fonts/GrenzeGotisch-SemiBold.ttf',\n",
       " '/Library/Fonts/Roboto-Regular.ttf',\n",
       " '/Library/Fonts/mononoki-Regular.ttf',\n",
       " '/Library/Fonts/JuliaMono-Medium.ttf',\n",
       " '/Library/Fonts/Roboto-BlackItalic.ttf',\n",
       " '/Library/Fonts/Boska-BoldItalic.otf',\n",
       " '/Library/Fonts/Roboto-Thin.ttf',\n",
       " '/Library/Fonts/mononoki-Italic.ttf',\n",
       " '/Library/Fonts/Iosevka-ExtraLight.ttc',\n",
       " '/Library/Fonts/Iosevka-Bold.ttc',\n",
       " '/Library/Fonts/mononoki-Bold.ttf',\n",
       " '/Library/Fonts/mononoki-Bold.otf',\n",
       " '/Library/Fonts/Roboto-Black.ttf',\n",
       " '/Library/Fonts/Boska-MediumItalic.otf',\n",
       " '/Library/Fonts/mononoki-BoldItalic.ttf',\n",
       " '/Library/Fonts/Tabular-LightItalic.otf',\n",
       " '/Library/Fonts/JuliaMono-BoldLatin.ttf',\n",
       " '/Library/Fonts/GrenzeGotisch-Thin.ttf',\n",
       " '/Library/Fonts/GrenzeGotisch-Regular.ttf',\n",
       " '/Library/Fonts/JuliaMono-Bold.ttf',\n",
       " '/Library/Fonts/Boska-BlackItalic.ttf',\n",
       " '/Library/Fonts/Tabular-Semibold.otf',\n",
       " '/Library/Fonts/Iosevka-Medium.ttc',\n",
       " '/Library/Fonts/FiraCode-Retina.ttf',\n",
       " '/Library/Fonts/Kalam-Light.ttf']"
      ]
     },
     "execution_count": 2,
     "metadata": {},
     "output_type": "execute_result"
    }
   ],
   "source": [
    "from matplotlib import rcParams\n",
    "from matplotlib import font_manager\n",
    "\n",
    "font_dirs =  ['/Library/Fonts']\n",
    "font_files = font_manager.findSystemFonts(fontpaths=font_dirs)\n",
    "font_files\n"
   ]
  },
  {
   "cell_type": "code",
   "execution_count": 24,
   "metadata": {},
   "outputs": [],
   "source": [
    "for font_file in font_files:\n",
    "    font_manager.fontManager.addfont(font_file)\n",
    "\n",
    "#rcParams['font.family'] = \"sans-serif\"\n",
    "#rcParams['font.family'] = \"Helvetica\"\n",
    "#rcParams['font.sans-serif'] = \"Comic Sans MS\"\n",
    "\n",
    "rcParams['font.family'] = 'Jersey 10'\n",
    "rcParams['font.family'] = 'Press Start 2P'\n",
    "rcParams['font.family'] = 'Roboto'\n",
    "\n",
    "\n",
    "#rcParams['font.size'] = '12'"
   ]
  },
  {
   "cell_type": "markdown",
   "metadata": {},
   "source": [
    "### Data"
   ]
  },
  {
   "cell_type": "code",
   "execution_count": 3,
   "metadata": {},
   "outputs": [
    {
     "name": "stderr",
     "output_type": "stream",
     "text": [
      "/var/folders/9w/v257qsg5293f6s1lh74pbb6m0000gn/T/ipykernel_1099/97187436.py:2: DtypeWarning: Columns (10,26,27,28,42,53,56) have mixed types. Specify dtype option on import or set low_memory=False.\n",
      "  dd =  pd.read_csv(data_url)\n"
     ]
    }
   ],
   "source": [
    "data_url=\"https://raw.githubusercontent.com/rfordatascience/tidytuesday/master/data/2024/2024-04-16/package_details.csv\"\n",
    "dd =  pd.read_csv(data_url)"
   ]
  },
  {
   "cell_type": "markdown",
   "metadata": {},
   "source": [
    "## Data Wrangling"
   ]
  },
  {
   "cell_type": "markdown",
   "metadata": {},
   "source": [
    "### Overview"
   ]
  },
  {
   "cell_type": "code",
   "execution_count": 5,
   "metadata": {},
   "outputs": [
    {
     "data": {
      "text/html": [
       "<div>\n",
       "<style scoped>\n",
       "    .dataframe tbody tr th:only-of-type {\n",
       "        vertical-align: middle;\n",
       "    }\n",
       "\n",
       "    .dataframe tbody tr th {\n",
       "        vertical-align: top;\n",
       "    }\n",
       "\n",
       "    .dataframe thead th {\n",
       "        text-align: right;\n",
       "    }\n",
       "</style>\n",
       "<table border=\"1\" class=\"dataframe\">\n",
       "  <thead>\n",
       "    <tr style=\"text-align: right;\">\n",
       "      <th></th>\n",
       "      <th>Package</th>\n",
       "      <th>Version</th>\n",
       "      <th>Priority</th>\n",
       "      <th>Depends</th>\n",
       "      <th>Imports</th>\n",
       "      <th>LinkingTo</th>\n",
       "      <th>Suggests</th>\n",
       "      <th>Enhances</th>\n",
       "      <th>License</th>\n",
       "      <th>License_is_FOSS</th>\n",
       "      <th>...</th>\n",
       "      <th>UseLTO</th>\n",
       "      <th>VignetteBuilder</th>\n",
       "      <th>ZipData</th>\n",
       "      <th>X-CRAN-Comment</th>\n",
       "      <th>Published</th>\n",
       "      <th>Reverse depends</th>\n",
       "      <th>Reverse imports</th>\n",
       "      <th>Reverse linking to</th>\n",
       "      <th>Reverse suggests</th>\n",
       "      <th>Reverse enhances</th>\n",
       "    </tr>\n",
       "  </thead>\n",
       "  <tbody>\n",
       "    <tr>\n",
       "      <th>0</th>\n",
       "      <td>A3</td>\n",
       "      <td>1.0.0</td>\n",
       "      <td>NaN</td>\n",
       "      <td>R (&gt;= 2.15.0), xtable, pbapply</td>\n",
       "      <td>NaN</td>\n",
       "      <td>NaN</td>\n",
       "      <td>randomForest, e1071</td>\n",
       "      <td>NaN</td>\n",
       "      <td>GPL (&gt;= 2)</td>\n",
       "      <td>NaN</td>\n",
       "      <td>...</td>\n",
       "      <td>NaN</td>\n",
       "      <td>NaN</td>\n",
       "      <td>NaN</td>\n",
       "      <td>NaN</td>\n",
       "      <td>2015-08-16</td>\n",
       "      <td>NaN</td>\n",
       "      <td>NaN</td>\n",
       "      <td>NaN</td>\n",
       "      <td>NaN</td>\n",
       "      <td>NaN</td>\n",
       "    </tr>\n",
       "    <tr>\n",
       "      <th>1</th>\n",
       "      <td>AalenJohansen</td>\n",
       "      <td>1.0</td>\n",
       "      <td>NaN</td>\n",
       "      <td>NaN</td>\n",
       "      <td>NaN</td>\n",
       "      <td>NaN</td>\n",
       "      <td>knitr, rmarkdown</td>\n",
       "      <td>NaN</td>\n",
       "      <td>GPL (&gt;= 2)</td>\n",
       "      <td>NaN</td>\n",
       "      <td>...</td>\n",
       "      <td>NaN</td>\n",
       "      <td>knitr</td>\n",
       "      <td>NaN</td>\n",
       "      <td>NaN</td>\n",
       "      <td>2023-03-01</td>\n",
       "      <td>NaN</td>\n",
       "      <td>NaN</td>\n",
       "      <td>NaN</td>\n",
       "      <td>NaN</td>\n",
       "      <td>NaN</td>\n",
       "    </tr>\n",
       "  </tbody>\n",
       "</table>\n",
       "<p>2 rows × 63 columns</p>\n",
       "</div>"
      ],
      "text/plain": [
       "         Package Version Priority                         Depends Imports  \\\n",
       "0             A3   1.0.0      NaN  R (>= 2.15.0), xtable, pbapply     NaN   \n",
       "1  AalenJohansen     1.0      NaN                             NaN     NaN   \n",
       "\n",
       "  LinkingTo             Suggests Enhances     License License_is_FOSS  ...  \\\n",
       "0       NaN  randomForest, e1071      NaN  GPL (>= 2)             NaN  ...   \n",
       "1       NaN     knitr, rmarkdown      NaN  GPL (>= 2)             NaN  ...   \n",
       "\n",
       "  UseLTO VignetteBuilder ZipData X-CRAN-Comment   Published Reverse depends  \\\n",
       "0    NaN             NaN     NaN            NaN  2015-08-16             NaN   \n",
       "1    NaN           knitr     NaN            NaN  2023-03-01             NaN   \n",
       "\n",
       "  Reverse imports Reverse linking to Reverse suggests Reverse enhances  \n",
       "0             NaN                NaN              NaN              NaN  \n",
       "1             NaN                NaN              NaN              NaN  \n",
       "\n",
       "[2 rows x 63 columns]"
      ]
     },
     "execution_count": 5,
     "metadata": {},
     "output_type": "execute_result"
    }
   ],
   "source": [
    "dd.head(2)"
   ]
  },
  {
   "cell_type": "code",
   "execution_count": 7,
   "metadata": {},
   "outputs": [
    {
     "data": {
      "text/plain": [
       "Index(['Package', 'Version', 'Priority', 'Depends', 'Imports', 'LinkingTo',\n",
       "       'Suggests', 'Enhances', 'License', 'License_is_FOSS',\n",
       "       'License_restricts_use', 'OS_type', 'Archs', 'MD5sum',\n",
       "       'NeedsCompilation', 'Additional_repositories', 'Author', 'Authors@R',\n",
       "       'Biarch', 'BugReports', 'BuildKeepEmpty', 'BuildManual',\n",
       "       'BuildResaveData', 'BuildVignettes', 'ByteCompile',\n",
       "       'Classification/ACM', 'Classification/ACM-2012', 'Classification/JEL',\n",
       "       'Classification/MSC', 'Classification/MSC-2010', 'Collate', 'Contact',\n",
       "       'Copyright', 'Date', 'Date/Publication', 'Description', 'Encoding',\n",
       "       'KeepSource', 'Language', 'LazyData', 'LazyDataCompression', 'LazyLoad',\n",
       "       'MailingList', 'Maintainer', 'Note', 'Packaged', 'RdMacros',\n",
       "       'StagedInstall', 'SysDataCompression', 'SystemRequirements', 'Title',\n",
       "       'Type', 'URL', 'UseLTO', 'VignetteBuilder', 'ZipData', 'X-CRAN-Comment',\n",
       "       'Published', 'Reverse depends', 'Reverse imports', 'Reverse linking to',\n",
       "       'Reverse suggests', 'Reverse enhances'],\n",
       "      dtype='object')"
      ]
     },
     "execution_count": 7,
     "metadata": {},
     "output_type": "execute_result"
    }
   ],
   "source": [
    "dd.columns"
   ]
  },
  {
   "cell_type": "markdown",
   "metadata": {},
   "source": [
    "### Cleaning Author column"
   ]
  },
  {
   "cell_type": "code",
   "execution_count": 8,
   "metadata": {},
   "outputs": [
    {
     "data": {
      "text/html": [
       "<div>\n",
       "<style scoped>\n",
       "    .dataframe tbody tr th:only-of-type {\n",
       "        vertical-align: middle;\n",
       "    }\n",
       "\n",
       "    .dataframe tbody tr th {\n",
       "        vertical-align: top;\n",
       "    }\n",
       "\n",
       "    .dataframe thead th {\n",
       "        text-align: right;\n",
       "    }\n",
       "</style>\n",
       "<table border=\"1\" class=\"dataframe\">\n",
       "  <thead>\n",
       "    <tr style=\"text-align: right;\">\n",
       "      <th></th>\n",
       "      <th>Package</th>\n",
       "      <th>Author</th>\n",
       "    </tr>\n",
       "  </thead>\n",
       "  <tbody>\n",
       "    <tr>\n",
       "      <th>0</th>\n",
       "      <td>A3</td>\n",
       "      <td>Scott Fortmann-Roe</td>\n",
       "    </tr>\n",
       "    <tr>\n",
       "      <th>1</th>\n",
       "      <td>AalenJohansen</td>\n",
       "      <td>Martin Bladt [aut, cre],\\n  Christian Furrer [...</td>\n",
       "    </tr>\n",
       "    <tr>\n",
       "      <th>2</th>\n",
       "      <td>AATtools</td>\n",
       "      <td>Sercan Kahveci [aut, cre]</td>\n",
       "    </tr>\n",
       "    <tr>\n",
       "      <th>3</th>\n",
       "      <td>ABACUS</td>\n",
       "      <td>Mintu Nath [aut, cre]</td>\n",
       "    </tr>\n",
       "    <tr>\n",
       "      <th>4</th>\n",
       "      <td>abbreviate</td>\n",
       "      <td>Sigbert Klinke [aut, cre]</td>\n",
       "    </tr>\n",
       "    <tr>\n",
       "      <th>5</th>\n",
       "      <td>abc</td>\n",
       "      <td>Csillery Katalin [aut],\\n  Lemaire Louisiane [...</td>\n",
       "    </tr>\n",
       "  </tbody>\n",
       "</table>\n",
       "</div>"
      ],
      "text/plain": [
       "         Package                                             Author\n",
       "0             A3                                 Scott Fortmann-Roe\n",
       "1  AalenJohansen  Martin Bladt [aut, cre],\\n  Christian Furrer [...\n",
       "2       AATtools                          Sercan Kahveci [aut, cre]\n",
       "3         ABACUS                              Mintu Nath [aut, cre]\n",
       "4     abbreviate                          Sigbert Klinke [aut, cre]\n",
       "5            abc  Csillery Katalin [aut],\\n  Lemaire Louisiane [..."
      ]
     },
     "execution_count": 8,
     "metadata": {},
     "output_type": "execute_result"
    }
   ],
   "source": [
    "authors_df = dd[['Package', 'Author']]\n",
    "authors_df.head(6)"
   ]
  },
  {
   "cell_type": "code",
   "execution_count": 9,
   "metadata": {},
   "outputs": [],
   "source": [
    "#authors_df['Author'].map(lambda x: x.lstrip('+-').rstrip('aAbBcC'))\n"
   ]
  },
  {
   "cell_type": "code",
   "execution_count": 10,
   "metadata": {},
   "outputs": [
    {
     "data": {
      "text/html": [
       "<div>\n",
       "<style scoped>\n",
       "    .dataframe tbody tr th:only-of-type {\n",
       "        vertical-align: middle;\n",
       "    }\n",
       "\n",
       "    .dataframe tbody tr th {\n",
       "        vertical-align: top;\n",
       "    }\n",
       "\n",
       "    .dataframe thead th {\n",
       "        text-align: right;\n",
       "    }\n",
       "</style>\n",
       "<table border=\"1\" class=\"dataframe\">\n",
       "  <thead>\n",
       "    <tr style=\"text-align: right;\">\n",
       "      <th></th>\n",
       "      <th>Package</th>\n",
       "      <th>Author</th>\n",
       "    </tr>\n",
       "  </thead>\n",
       "  <tbody>\n",
       "    <tr>\n",
       "      <th>0</th>\n",
       "      <td>A3</td>\n",
       "      <td>Scott Fortmann-Roe</td>\n",
       "    </tr>\n",
       "    <tr>\n",
       "      <th>1</th>\n",
       "      <td>AalenJohansen</td>\n",
       "      <td>Martin Bladt ,\\n  Christian Furrer</td>\n",
       "    </tr>\n",
       "    <tr>\n",
       "      <th>2</th>\n",
       "      <td>AATtools</td>\n",
       "      <td>Sercan Kahveci</td>\n",
       "    </tr>\n",
       "    <tr>\n",
       "      <th>3</th>\n",
       "      <td>ABACUS</td>\n",
       "      <td>Mintu Nath</td>\n",
       "    </tr>\n",
       "    <tr>\n",
       "      <th>4</th>\n",
       "      <td>abbreviate</td>\n",
       "      <td>Sigbert Klinke</td>\n",
       "    </tr>\n",
       "  </tbody>\n",
       "</table>\n",
       "</div>"
      ],
      "text/plain": [
       "         Package                               Author\n",
       "0             A3                   Scott Fortmann-Roe\n",
       "1  AalenJohansen  Martin Bladt ,\\n  Christian Furrer \n",
       "2       AATtools                      Sercan Kahveci \n",
       "3         ABACUS                          Mintu Nath \n",
       "4     abbreviate                      Sigbert Klinke "
      ]
     },
     "execution_count": 10,
     "metadata": {},
     "output_type": "execute_result"
    }
   ],
   "source": [
    "#authors_df2 = authors_df.assign(Author = authors_df['Author'].str.replace(r'(\\\\[.+\\\\])', '', regex=True))\n",
    "authors_df2 = authors_df.assign(Author = authors_df['Author'].str.replace('[aut, cre]', ''))\n",
    "\n",
    "authors_df2['Author'] = authors_df2['Author'].str.replace('[aut]', '')\n",
    "authors_df2['Author'] = authors_df2['Author'].str.replace('[aut, cph, cre]', '')\n",
    "\n",
    "authors_df2.head(5)"
   ]
  },
  {
   "cell_type": "code",
   "execution_count": null,
   "metadata": {},
   "outputs": [],
   "source": [
    "authors_df2"
   ]
  },
  {
   "cell_type": "code",
   "execution_count": null,
   "metadata": {},
   "outputs": [],
   "source": [
    "dd['Author'].str.split(',' ,expand=True)"
   ]
  },
  {
   "cell_type": "markdown",
   "metadata": {},
   "source": [
    "**Using Regex**"
   ]
  },
  {
   "cell_type": "code",
   "execution_count": 13,
   "metadata": {},
   "outputs": [
    {
     "data": {
      "text/html": [
       "<div>\n",
       "<style scoped>\n",
       "    .dataframe tbody tr th:only-of-type {\n",
       "        vertical-align: middle;\n",
       "    }\n",
       "\n",
       "    .dataframe tbody tr th {\n",
       "        vertical-align: top;\n",
       "    }\n",
       "\n",
       "    .dataframe thead th {\n",
       "        text-align: right;\n",
       "    }\n",
       "</style>\n",
       "<table border=\"1\" class=\"dataframe\">\n",
       "  <thead>\n",
       "    <tr style=\"text-align: right;\">\n",
       "      <th></th>\n",
       "      <th>Package</th>\n",
       "      <th>Author</th>\n",
       "    </tr>\n",
       "  </thead>\n",
       "  <tbody>\n",
       "    <tr>\n",
       "      <th>0</th>\n",
       "      <td>A3</td>\n",
       "      <td>Scott Fortmann-Roe</td>\n",
       "    </tr>\n",
       "    <tr>\n",
       "      <th>1</th>\n",
       "      <td>AalenJohansen</td>\n",
       "      <td>Martin Bladt ,\\n  Christian Furrer</td>\n",
       "    </tr>\n",
       "    <tr>\n",
       "      <th>2</th>\n",
       "      <td>AATtools</td>\n",
       "      <td>Sercan Kahveci</td>\n",
       "    </tr>\n",
       "    <tr>\n",
       "      <th>3</th>\n",
       "      <td>ABACUS</td>\n",
       "      <td>Mintu Nath</td>\n",
       "    </tr>\n",
       "    <tr>\n",
       "      <th>4</th>\n",
       "      <td>abbreviate</td>\n",
       "      <td>Sigbert Klinke</td>\n",
       "    </tr>\n",
       "    <tr>\n",
       "      <th>...</th>\n",
       "      <td>...</td>\n",
       "      <td>...</td>\n",
       "    </tr>\n",
       "    <tr>\n",
       "      <th>18469</th>\n",
       "      <td>zTree</td>\n",
       "      <td>Oliver Kirchkamp</td>\n",
       "    </tr>\n",
       "    <tr>\n",
       "      <th>18470</th>\n",
       "      <td>ztype</td>\n",
       "      <td>Vincent Guyader</td>\n",
       "    </tr>\n",
       "    <tr>\n",
       "      <th>18471</th>\n",
       "      <td>ZVCV</td>\n",
       "      <td>Leah F. South</td>\n",
       "    </tr>\n",
       "    <tr>\n",
       "      <th>18472</th>\n",
       "      <td>zyp</td>\n",
       "      <td>David Bronaugh ,\\n  Arelia Schoeneberg ,\\n  Le...</td>\n",
       "    </tr>\n",
       "    <tr>\n",
       "      <th>18473</th>\n",
       "      <td>zzlite</td>\n",
       "      <td>Frederik Kok Hansen</td>\n",
       "    </tr>\n",
       "  </tbody>\n",
       "</table>\n",
       "<p>18474 rows × 2 columns</p>\n",
       "</div>"
      ],
      "text/plain": [
       "             Package                                             Author\n",
       "0                 A3                                 Scott Fortmann-Roe\n",
       "1      AalenJohansen                Martin Bladt ,\\n  Christian Furrer \n",
       "2           AATtools                                    Sercan Kahveci \n",
       "3             ABACUS                                        Mintu Nath \n",
       "4         abbreviate                                    Sigbert Klinke \n",
       "...              ...                                                ...\n",
       "18469          zTree                                   Oliver Kirchkamp\n",
       "18470          ztype                                    Vincent Guyader\n",
       "18471           ZVCV                                    Leah F. South  \n",
       "18472            zyp  David Bronaugh ,\\n  Arelia Schoeneberg ,\\n  Le...\n",
       "18473         zzlite                                Frederik Kok Hansen\n",
       "\n",
       "[18474 rows x 2 columns]"
      ]
     },
     "execution_count": 13,
     "metadata": {},
     "output_type": "execute_result"
    }
   ],
   "source": [
    "authors_df3 = authors_df.assign(Author = authors_df['Author'].map(lambda x: re.sub(\"[\\(\\[].*?[\\)\\]]\", \"\", x)))\n",
    "authors_df3['Author'] = authors_df3['Author'].str.replace(' and ', ' ')\n",
    "authors_df3['Author'] = authors_df3['Author'].str.replace('author of ada-url :', '')\n",
    "authors_df3['Author'] = authors_df3['Author'].str.replace('Original author of monoSpl.c .', '')\n",
    "authors_df3['Author'] = authors_df3['Author'].str.replace(')', '')\n",
    "authors_df3['Author'] = authors_df3['Author'].str.replace('(', '')\n",
    "authors_df3['Author'] = authors_df3['Author'].str.replace(r'\\<.*>', '', regex=True)\n",
    "authors_df3"
   ]
  },
  {
   "cell_type": "code",
   "execution_count": 14,
   "metadata": {},
   "outputs": [
    {
     "name": "stdout",
     "output_type": "stream",
     "text": [
      "Jan Meis  ,\n",
      "  Martin Maechler  ,\n",
      "    \n"
     ]
    }
   ],
   "source": [
    "print(authors_df3.loc[152, 'Author'])"
   ]
  },
  {
   "cell_type": "code",
   "execution_count": null,
   "metadata": {},
   "outputs": [],
   "source": []
  },
  {
   "cell_type": "markdown",
   "metadata": {},
   "source": [
    "### Separating Author column"
   ]
  },
  {
   "cell_type": "code",
   "execution_count": 15,
   "metadata": {},
   "outputs": [
    {
     "data": {
      "text/html": [
       "<div>\n",
       "<style scoped>\n",
       "    .dataframe tbody tr th:only-of-type {\n",
       "        vertical-align: middle;\n",
       "    }\n",
       "\n",
       "    .dataframe tbody tr th {\n",
       "        vertical-align: top;\n",
       "    }\n",
       "\n",
       "    .dataframe thead th {\n",
       "        text-align: right;\n",
       "    }\n",
       "</style>\n",
       "<table border=\"1\" class=\"dataframe\">\n",
       "  <thead>\n",
       "    <tr style=\"text-align: right;\">\n",
       "      <th></th>\n",
       "      <th>Package</th>\n",
       "      <th>Author</th>\n",
       "    </tr>\n",
       "  </thead>\n",
       "  <tbody>\n",
       "    <tr>\n",
       "      <th>0</th>\n",
       "      <td>A3</td>\n",
       "      <td>Scott Fortmann-Roe</td>\n",
       "    </tr>\n",
       "    <tr>\n",
       "      <th>1</th>\n",
       "      <td>AalenJohansen</td>\n",
       "      <td>Martin Bladt</td>\n",
       "    </tr>\n",
       "    <tr>\n",
       "      <th>2</th>\n",
       "      <td>AalenJohansen</td>\n",
       "      <td>\\n  Christian Furrer</td>\n",
       "    </tr>\n",
       "    <tr>\n",
       "      <th>3</th>\n",
       "      <td>AATtools</td>\n",
       "      <td>Sercan Kahveci</td>\n",
       "    </tr>\n",
       "    <tr>\n",
       "      <th>4</th>\n",
       "      <td>ABACUS</td>\n",
       "      <td>Mintu Nath</td>\n",
       "    </tr>\n",
       "  </tbody>\n",
       "</table>\n",
       "</div>"
      ],
      "text/plain": [
       "         Package                 Author\n",
       "0             A3     Scott Fortmann-Roe\n",
       "1  AalenJohansen          Martin Bladt \n",
       "2  AalenJohansen  \\n  Christian Furrer \n",
       "3       AATtools        Sercan Kahveci \n",
       "4         ABACUS            Mintu Nath "
      ]
     },
     "execution_count": 15,
     "metadata": {},
     "output_type": "execute_result"
    }
   ],
   "source": [
    "#authors_df3['Author'].str.split(',', expand=False)\n",
    "#authors_df4 = authors_df3.explode('Author')\n",
    "authors_df4 = authors_df3.set_index('Package')\n",
    "authors_df4 = authors_df4.apply(lambda x: x.str.split(',').explode()).reset_index()\n",
    "authors_df4.head()"
   ]
  },
  {
   "cell_type": "markdown",
   "metadata": {},
   "source": [
    "### Remove blank spaces"
   ]
  },
  {
   "cell_type": "code",
   "execution_count": 16,
   "metadata": {},
   "outputs": [
    {
     "data": {
      "text/html": [
       "<div>\n",
       "<style scoped>\n",
       "    .dataframe tbody tr th:only-of-type {\n",
       "        vertical-align: middle;\n",
       "    }\n",
       "\n",
       "    .dataframe tbody tr th {\n",
       "        vertical-align: top;\n",
       "    }\n",
       "\n",
       "    .dataframe thead th {\n",
       "        text-align: right;\n",
       "    }\n",
       "</style>\n",
       "<table border=\"1\" class=\"dataframe\">\n",
       "  <thead>\n",
       "    <tr style=\"text-align: right;\">\n",
       "      <th></th>\n",
       "      <th>Package</th>\n",
       "      <th>Author</th>\n",
       "    </tr>\n",
       "  </thead>\n",
       "  <tbody>\n",
       "    <tr>\n",
       "      <th>0</th>\n",
       "      <td>A3</td>\n",
       "      <td>Scott Fortmann-Roe</td>\n",
       "    </tr>\n",
       "    <tr>\n",
       "      <th>1</th>\n",
       "      <td>AalenJohansen</td>\n",
       "      <td>Martin Bladt</td>\n",
       "    </tr>\n",
       "    <tr>\n",
       "      <th>2</th>\n",
       "      <td>AalenJohansen</td>\n",
       "      <td>Christian Furrer</td>\n",
       "    </tr>\n",
       "    <tr>\n",
       "      <th>3</th>\n",
       "      <td>AATtools</td>\n",
       "      <td>Sercan Kahveci</td>\n",
       "    </tr>\n",
       "    <tr>\n",
       "      <th>4</th>\n",
       "      <td>ABACUS</td>\n",
       "      <td>Mintu Nath</td>\n",
       "    </tr>\n",
       "    <tr>\n",
       "      <th>...</th>\n",
       "      <td>...</td>\n",
       "      <td>...</td>\n",
       "    </tr>\n",
       "    <tr>\n",
       "      <th>52961</th>\n",
       "      <td>ZVCV</td>\n",
       "      <td>Leah F. South</td>\n",
       "    </tr>\n",
       "    <tr>\n",
       "      <th>52962</th>\n",
       "      <td>zyp</td>\n",
       "      <td>David Bronaugh</td>\n",
       "    </tr>\n",
       "    <tr>\n",
       "      <th>52963</th>\n",
       "      <td>zyp</td>\n",
       "      <td>Arelia Schoeneberg</td>\n",
       "    </tr>\n",
       "    <tr>\n",
       "      <th>52964</th>\n",
       "      <td>zyp</td>\n",
       "      <td>Lee Zeman</td>\n",
       "    </tr>\n",
       "    <tr>\n",
       "      <th>52965</th>\n",
       "      <td>zzlite</td>\n",
       "      <td>Frederik Kok Hansen</td>\n",
       "    </tr>\n",
       "  </tbody>\n",
       "</table>\n",
       "<p>52966 rows × 2 columns</p>\n",
       "</div>"
      ],
      "text/plain": [
       "             Package               Author\n",
       "0                 A3   Scott Fortmann-Roe\n",
       "1      AalenJohansen         Martin Bladt\n",
       "2      AalenJohansen     Christian Furrer\n",
       "3           AATtools       Sercan Kahveci\n",
       "4             ABACUS           Mintu Nath\n",
       "...              ...                  ...\n",
       "52961           ZVCV        Leah F. South\n",
       "52962            zyp       David Bronaugh\n",
       "52963            zyp   Arelia Schoeneberg\n",
       "52964            zyp            Lee Zeman\n",
       "52965         zzlite  Frederik Kok Hansen\n",
       "\n",
       "[52966 rows x 2 columns]"
      ]
     },
     "execution_count": 16,
     "metadata": {},
     "output_type": "execute_result"
    }
   ],
   "source": [
    "authors_df4['Author'] = authors_df4['Author'].apply(lambda x: x.strip())\n",
    "authors_df4"
   ]
  },
  {
   "cell_type": "markdown",
   "metadata": {},
   "source": [
    "### Counting Authors: "
   ]
  },
  {
   "cell_type": "markdown",
   "metadata": {},
   "source": [
    "- Remove organisation listed as author:\n",
    "- Count the number of package where indivividual is listed as  author\n",
    "- Select top 20 authors"
   ]
  },
  {
   "cell_type": "code",
   "execution_count": 17,
   "metadata": {},
   "outputs": [
    {
     "data": {
      "text/html": [
       "<div>\n",
       "<style scoped>\n",
       "    .dataframe tbody tr th:only-of-type {\n",
       "        vertical-align: middle;\n",
       "    }\n",
       "\n",
       "    .dataframe tbody tr th {\n",
       "        vertical-align: top;\n",
       "    }\n",
       "\n",
       "    .dataframe thead th {\n",
       "        text-align: right;\n",
       "    }\n",
       "</style>\n",
       "<table border=\"1\" class=\"dataframe\">\n",
       "  <thead>\n",
       "    <tr style=\"text-align: right;\">\n",
       "      <th></th>\n",
       "      <th>Package</th>\n",
       "      <th>Author</th>\n",
       "    </tr>\n",
       "  </thead>\n",
       "  <tbody>\n",
       "    <tr>\n",
       "      <th>0</th>\n",
       "      <td>A3</td>\n",
       "      <td>Scott Fortmann-Roe</td>\n",
       "    </tr>\n",
       "    <tr>\n",
       "      <th>1</th>\n",
       "      <td>AalenJohansen</td>\n",
       "      <td>Martin Bladt</td>\n",
       "    </tr>\n",
       "    <tr>\n",
       "      <th>2</th>\n",
       "      <td>AalenJohansen</td>\n",
       "      <td>Christian Furrer</td>\n",
       "    </tr>\n",
       "    <tr>\n",
       "      <th>3</th>\n",
       "      <td>AATtools</td>\n",
       "      <td>Sercan Kahveci</td>\n",
       "    </tr>\n",
       "    <tr>\n",
       "      <th>4</th>\n",
       "      <td>ABACUS</td>\n",
       "      <td>Mintu Nath</td>\n",
       "    </tr>\n",
       "    <tr>\n",
       "      <th>...</th>\n",
       "      <td>...</td>\n",
       "      <td>...</td>\n",
       "    </tr>\n",
       "    <tr>\n",
       "      <th>52961</th>\n",
       "      <td>ZVCV</td>\n",
       "      <td>Leah F. South</td>\n",
       "    </tr>\n",
       "    <tr>\n",
       "      <th>52962</th>\n",
       "      <td>zyp</td>\n",
       "      <td>David Bronaugh</td>\n",
       "    </tr>\n",
       "    <tr>\n",
       "      <th>52963</th>\n",
       "      <td>zyp</td>\n",
       "      <td>Arelia Schoeneberg</td>\n",
       "    </tr>\n",
       "    <tr>\n",
       "      <th>52964</th>\n",
       "      <td>zyp</td>\n",
       "      <td>Lee Zeman</td>\n",
       "    </tr>\n",
       "    <tr>\n",
       "      <th>52965</th>\n",
       "      <td>zzlite</td>\n",
       "      <td>Frederik Kok Hansen</td>\n",
       "    </tr>\n",
       "  </tbody>\n",
       "</table>\n",
       "<p>52318 rows × 2 columns</p>\n",
       "</div>"
      ],
      "text/plain": [
       "             Package               Author\n",
       "0                 A3   Scott Fortmann-Roe\n",
       "1      AalenJohansen         Martin Bladt\n",
       "2      AalenJohansen     Christian Furrer\n",
       "3           AATtools       Sercan Kahveci\n",
       "4             ABACUS           Mintu Nath\n",
       "...              ...                  ...\n",
       "52961           ZVCV        Leah F. South\n",
       "52962            zyp       David Bronaugh\n",
       "52963            zyp   Arelia Schoeneberg\n",
       "52964            zyp            Lee Zeman\n",
       "52965         zzlite  Frederik Kok Hansen\n",
       "\n",
       "[52318 rows x 2 columns]"
      ]
     },
     "execution_count": 17,
     "metadata": {},
     "output_type": "execute_result"
    }
   ],
   "source": [
    "org_corp = ['PBC', 'Posit Software', 'RStudio', 'Inc.', 'Windsor.ai',  'F. Hoffmann-La Roche AG', 'Posit', 'R Core Team', 'Robin K. S. Hankin']\n",
    "authors_df5 = authors_df4[~authors_df4.Author.isin(org_corp)]\n",
    "authors_df5"
   ]
  },
  {
   "cell_type": "code",
   "execution_count": 29,
   "metadata": {},
   "outputs": [
    {
     "data": {
      "text/html": [
       "<div>\n",
       "<style scoped>\n",
       "    .dataframe tbody tr th:only-of-type {\n",
       "        vertical-align: middle;\n",
       "    }\n",
       "\n",
       "    .dataframe tbody tr th {\n",
       "        vertical-align: top;\n",
       "    }\n",
       "\n",
       "    .dataframe thead th {\n",
       "        text-align: right;\n",
       "    }\n",
       "</style>\n",
       "<table border=\"1\" class=\"dataframe\">\n",
       "  <thead>\n",
       "    <tr style=\"text-align: right;\">\n",
       "      <th></th>\n",
       "      <th>Author</th>\n",
       "      <th>count</th>\n",
       "    </tr>\n",
       "  </thead>\n",
       "  <tbody>\n",
       "    <tr>\n",
       "      <th>0</th>\n",
       "      <td>Hadley Wickham</td>\n",
       "      <td>157</td>\n",
       "    </tr>\n",
       "    <tr>\n",
       "      <th>2</th>\n",
       "      <td>Jeroen Ooms</td>\n",
       "      <td>85</td>\n",
       "    </tr>\n",
       "    <tr>\n",
       "      <th>3</th>\n",
       "      <td>Scott Chamberlain</td>\n",
       "      <td>73</td>\n",
       "    </tr>\n",
       "    <tr>\n",
       "      <th>4</th>\n",
       "      <td>Stéphane Laurent</td>\n",
       "      <td>73</td>\n",
       "    </tr>\n",
       "    <tr>\n",
       "      <th>5</th>\n",
       "      <td>Dirk Eddelbuettel</td>\n",
       "      <td>66</td>\n",
       "    </tr>\n",
       "    <tr>\n",
       "      <th>6</th>\n",
       "      <td>Gábor Csárdi</td>\n",
       "      <td>66</td>\n",
       "    </tr>\n",
       "    <tr>\n",
       "      <th>7</th>\n",
       "      <td>Achim Zeileis</td>\n",
       "      <td>58</td>\n",
       "    </tr>\n",
       "    <tr>\n",
       "      <th>8</th>\n",
       "      <td>Kurt Hornik</td>\n",
       "      <td>56</td>\n",
       "    </tr>\n",
       "    <tr>\n",
       "      <th>9</th>\n",
       "      <td>Kirill Müller</td>\n",
       "      <td>56</td>\n",
       "    </tr>\n",
       "    <tr>\n",
       "      <th>10</th>\n",
       "      <td>Martin Maechler</td>\n",
       "      <td>52</td>\n",
       "    </tr>\n",
       "    <tr>\n",
       "      <th>11</th>\n",
       "      <td>Max Kuhn</td>\n",
       "      <td>50</td>\n",
       "    </tr>\n",
       "    <tr>\n",
       "      <th>12</th>\n",
       "      <td>Winston Chang</td>\n",
       "      <td>47</td>\n",
       "    </tr>\n",
       "    <tr>\n",
       "      <th>13</th>\n",
       "      <td>John Muschelli</td>\n",
       "      <td>46</td>\n",
       "    </tr>\n",
       "    <tr>\n",
       "      <th>14</th>\n",
       "      <td>Jim Hester</td>\n",
       "      <td>44</td>\n",
       "    </tr>\n",
       "    <tr>\n",
       "      <th>15</th>\n",
       "      <td>Yihui Xie</td>\n",
       "      <td>44</td>\n",
       "    </tr>\n",
       "    <tr>\n",
       "      <th>16</th>\n",
       "      <td>Henrik Bengtsson</td>\n",
       "      <td>40</td>\n",
       "    </tr>\n",
       "    <tr>\n",
       "      <th>17</th>\n",
       "      <td>Michel Lang</td>\n",
       "      <td>39</td>\n",
       "    </tr>\n",
       "    <tr>\n",
       "      <th>18</th>\n",
       "      <td>JJ Allaire</td>\n",
       "      <td>39</td>\n",
       "    </tr>\n",
       "    <tr>\n",
       "      <th>19</th>\n",
       "      <td>Bob Rudis</td>\n",
       "      <td>39</td>\n",
       "    </tr>\n",
       "    <tr>\n",
       "      <th>20</th>\n",
       "      <td>Torsten Hothorn</td>\n",
       "      <td>37</td>\n",
       "    </tr>\n",
       "  </tbody>\n",
       "</table>\n",
       "</div>"
      ],
      "text/plain": [
       "               Author  count\n",
       "0      Hadley Wickham    157\n",
       "2         Jeroen Ooms     85\n",
       "3   Scott Chamberlain     73\n",
       "4    Stéphane Laurent     73\n",
       "5   Dirk Eddelbuettel     66\n",
       "6        Gábor Csárdi     66\n",
       "7       Achim Zeileis     58\n",
       "8         Kurt Hornik     56\n",
       "9       Kirill Müller     56\n",
       "10    Martin Maechler     52\n",
       "11           Max Kuhn     50\n",
       "12      Winston Chang     47\n",
       "13     John Muschelli     46\n",
       "14         Jim Hester     44\n",
       "15          Yihui Xie     44\n",
       "16   Henrik Bengtsson     40\n",
       "17        Michel Lang     39\n",
       "18         JJ Allaire     39\n",
       "19          Bob Rudis     39\n",
       "20    Torsten Hothorn     37"
      ]
     },
     "execution_count": 29,
     "metadata": {},
     "output_type": "execute_result"
    }
   ],
   "source": [
    "df = authors_df5.value_counts('Author').reset_index()\n",
    "dff = df[df.Author != \"\"].head(20)\n",
    "dff"
   ]
  },
  {
   "cell_type": "markdown",
   "metadata": {},
   "source": [
    "## Viz"
   ]
  },
  {
   "cell_type": "code",
   "execution_count": 20,
   "metadata": {},
   "outputs": [],
   "source": [
    "rcParams['font.family'] = 'Roboto'\n"
   ]
  },
  {
   "cell_type": "markdown",
   "metadata": {},
   "source": [
    "### Pandas bar plot"
   ]
  },
  {
   "cell_type": "code",
   "execution_count": 25,
   "metadata": {},
   "outputs": [
    {
     "data": {
      "text/plain": [
       "<Axes: title={'center': 'R PACKAGES AUTHORS\\nTop 20 authors as of April 2024'}>"
      ]
     },
     "execution_count": 25,
     "metadata": {},
     "output_type": "execute_result"
    },
    {
     "data": {
      "image/png": "[encoded data removed]",
      "text/plain": [
       "<Figure size 640x480 with 1 Axes>"
      ]
     },
     "metadata": {},
     "output_type": "display_data"
    }
   ],
   "source": [
    "dff1 = dff[['Author', 'count']]\n",
    "\n",
    "dff1.set_index('Author').sort_values('count').plot(\n",
    "    kind='barh',\n",
    "    title = 'R PACKAGES AUTHORS\\nTop 20 authors as of April 2024',\n",
    "    ylabel='',\n",
    "    legend=False\n",
    "    )"
   ]
  },
  {
   "cell_type": "code",
   "execution_count": 35,
   "metadata": {},
   "outputs": [
    {
     "data": {
      "text/html": [
       "<div>\n",
       "<style scoped>\n",
       "    .dataframe tbody tr th:only-of-type {\n",
       "        vertical-align: middle;\n",
       "    }\n",
       "\n",
       "    .dataframe tbody tr th {\n",
       "        vertical-align: top;\n",
       "    }\n",
       "\n",
       "    .dataframe thead th {\n",
       "        text-align: right;\n",
       "    }\n",
       "</style>\n",
       "<table border=\"1\" class=\"dataframe\">\n",
       "  <thead>\n",
       "    <tr style=\"text-align: right;\">\n",
       "      <th></th>\n",
       "      <th>Author</th>\n",
       "      <th>count</th>\n",
       "      <th>row</th>\n",
       "    </tr>\n",
       "  </thead>\n",
       "  <tbody>\n",
       "    <tr>\n",
       "      <th>0</th>\n",
       "      <td>Hadley Wickham</td>\n",
       "      <td>157</td>\n",
       "      <td>0</td>\n",
       "    </tr>\n",
       "    <tr>\n",
       "      <th>2</th>\n",
       "      <td>Jeroen Ooms</td>\n",
       "      <td>85</td>\n",
       "      <td>1</td>\n",
       "    </tr>\n",
       "  </tbody>\n",
       "</table>\n",
       "</div>"
      ],
      "text/plain": [
       "           Author  count  row\n",
       "0  Hadley Wickham    157    0\n",
       "2     Jeroen Ooms     85    1"
      ]
     },
     "execution_count": 35,
     "metadata": {},
     "output_type": "execute_result"
    }
   ],
   "source": [
    "dff['row'] = np.linspace(0,19,20).astype('int')\n",
    "dff.head(2)"
   ]
  },
  {
   "cell_type": "markdown",
   "metadata": {},
   "source": [
    "### Seaborn bar plot"
   ]
  },
  {
   "cell_type": "code",
   "execution_count": 36,
   "metadata": {},
   "outputs": [
    {
     "data": {
      "text/html": [
       "<div>\n",
       "<style scoped>\n",
       "    .dataframe tbody tr th:only-of-type {\n",
       "        vertical-align: middle;\n",
       "    }\n",
       "\n",
       "    .dataframe tbody tr th {\n",
       "        vertical-align: top;\n",
       "    }\n",
       "\n",
       "    .dataframe thead th {\n",
       "        text-align: right;\n",
       "    }\n",
       "</style>\n",
       "<table border=\"1\" class=\"dataframe\">\n",
       "  <thead>\n",
       "    <tr style=\"text-align: right;\">\n",
       "      <th></th>\n",
       "      <th>Author</th>\n",
       "      <th>count</th>\n",
       "      <th>row</th>\n",
       "    </tr>\n",
       "  </thead>\n",
       "  <tbody>\n",
       "    <tr>\n",
       "      <th>0</th>\n",
       "      <td>Hadley Wickham</td>\n",
       "      <td>157</td>\n",
       "      <td>0</td>\n",
       "    </tr>\n",
       "    <tr>\n",
       "      <th>2</th>\n",
       "      <td>Jeroen Ooms</td>\n",
       "      <td>85</td>\n",
       "      <td>1</td>\n",
       "    </tr>\n",
       "    <tr>\n",
       "      <th>3</th>\n",
       "      <td>Scott Chamberlain</td>\n",
       "      <td>73</td>\n",
       "      <td>2</td>\n",
       "    </tr>\n",
       "    <tr>\n",
       "      <th>4</th>\n",
       "      <td>Stéphane Laurent</td>\n",
       "      <td>73</td>\n",
       "      <td>3</td>\n",
       "    </tr>\n",
       "    <tr>\n",
       "      <th>5</th>\n",
       "      <td>Dirk Eddelbuettel</td>\n",
       "      <td>66</td>\n",
       "      <td>4</td>\n",
       "    </tr>\n",
       "  </tbody>\n",
       "</table>\n",
       "</div>"
      ],
      "text/plain": [
       "              Author  count  row\n",
       "0     Hadley Wickham    157    0\n",
       "2        Jeroen Ooms     85    1\n",
       "3  Scott Chamberlain     73    2\n",
       "4   Stéphane Laurent     73    3\n",
       "5  Dirk Eddelbuettel     66    4"
      ]
     },
     "execution_count": 36,
     "metadata": {},
     "output_type": "execute_result"
    }
   ],
   "source": [
    "dff.head()"
   ]
  },
  {
   "cell_type": "code",
   "execution_count": 37,
   "metadata": {},
   "outputs": [],
   "source": [
    "rcParams['font.family'] = 'Roboto'"
   ]
  },
  {
   "cell_type": "code",
   "execution_count": 39,
   "metadata": {},
   "outputs": [
    {
     "data": {
      "image/png": "[encoded data removed]",
      "text/plain": [
       "<Figure size 800x700 with 1 Axes>"
      ]
     },
     "metadata": {},
     "output_type": "display_data"
    }
   ],
   "source": [
    "fig, ax = plt.subplots(figsize=(8, 7))\n",
    "\n",
    "ax = sns.scatterplot(\n",
    "    x = 'count', y = 'row', data = dff,\n",
    "    s=200, color=\"red\")\n",
    "ax = sns.barplot(\n",
    "    x = 'count', y = 'Author', data = dff,\n",
    "    width = 0.2)"
   ]
  },
  {
   "cell_type": "code",
   "execution_count": 47,
   "metadata": {},
   "outputs": [
    {
     "data": {
      "image/png": "[encoded data removed]",
      "text/plain": [
       "<Figure size 900x800 with 1 Axes>"
      ]
     },
     "metadata": {},
     "output_type": "display_data"
    }
   ],
   "source": [
    "fig, ax = plt.subplots(figsize=(9, 8), facecolor='black')\n",
    "mid = (fig.subplotpars.right + fig.subplotpars.left)/2\n",
    "\n",
    "ax = sns.scatterplot(\n",
    "    x = 'count', y = 'row', data = dff,\n",
    "    s=500, color=\"#24aafe\")\n",
    "ax = sns.barplot(\n",
    "    x = 'count', y = 'Author', data = dff,\n",
    "    color = '#24aafe',\n",
    "    width = 0.2\n",
    "    )\n",
    "\n",
    "ax.set(frame_on=False)\n",
    "ax.set_xlabel('')\n",
    "ax.set_ylabel('')\n",
    "#ax.spines['left'].set_visible(False)\n",
    "ax.tick_params(left=False, bottom=False, labelbottom = False, labelleft = False)\n",
    "\n",
    "for p in ax.patches:\n",
    "    width = p.get_width() \n",
    "    ax.text(width,       \n",
    "            p.get_y() + .1, \n",
    "            '{:1.0f}'.format(width),\n",
    "            ha = 'center',   va = 'center',  color= 'crimson', weight='bold', \n",
    "            )  \n",
    "    \n",
    "for i, (val, name) in enumerate(zip(dff['count'], dff['Author'])):\n",
    "    ax.text(x=0, y=i - .4, s=f' {name}',\n",
    "            ha='left', va='center', fontsize=12, color= '#24aafe')\n",
    "    \n",
    "fig.suptitle(\"R PACKAGES AUTHORS\", size=30, x=mid, color = 'white', weight='bold', family = 'Jersey 10')\n",
    "ax.set_title(\n",
    "    'Top 20 authors as of April 2024',\n",
    "    size=12, x=.5, color = 'gold', weight='bold', pad=20, family  = 'Press Start 2P')\n",
    "\n",
    "plt.show()"
   ]
  }
 ],
 "metadata": {
  "kernelspec": {
   "display_name": ".pvenv",
   "language": "python",
   "name": "python3"
  },
  "language_info": {
   "codemirror_mode": {
    "name": "ipython",
    "version": 3
   },
   "file_extension": ".py",
   "mimetype": "text/x-python",
   "name": "python",
   "nbconvert_exporter": "python",
   "pygments_lexer": "ipython3",
   "version": "3.11.4"
  }
 },
 "nbformat": 4,
 "nbformat_minor": 2
}
