{
 "cells": [
  {
   "cell_type": "markdown",
   "metadata": {},
   "source": [
    "# Groundhog Day 2024"
   ]
  },
  {
   "cell_type": "markdown",
   "metadata": {},
   "source": [
    "## Setup: Libraries"
   ]
  },
  {
   "cell_type": "code",
   "execution_count": 3,
   "metadata": {},
   "outputs": [],
   "source": [
    "import pandas as  pd\n",
    "import numpy as np\n",
    "import matplotlib.pyplot as plt\n",
    "import seaborn as sns"
   ]
  },
  {
   "cell_type": "markdown",
   "metadata": {},
   "source": [
    "## Data"
   ]
  },
  {
   "cell_type": "code",
   "execution_count": 4,
   "metadata": {},
   "outputs": [
    {
     "data": {
      "text/html": [
       "<div>\n",
       "<style scoped>\n",
       "    .dataframe tbody tr th:only-of-type {\n",
       "        vertical-align: middle;\n",
       "    }\n",
       "\n",
       "    .dataframe tbody tr th {\n",
       "        vertical-align: top;\n",
       "    }\n",
       "\n",
       "    .dataframe thead th {\n",
       "        text-align: right;\n",
       "    }\n",
       "</style>\n",
       "<table border=\"1\" class=\"dataframe\">\n",
       "  <thead>\n",
       "    <tr style=\"text-align: right;\">\n",
       "      <th></th>\n",
       "      <th>id</th>\n",
       "      <th>slug</th>\n",
       "      <th>shortname</th>\n",
       "      <th>name</th>\n",
       "      <th>city</th>\n",
       "      <th>region</th>\n",
       "      <th>country</th>\n",
       "      <th>latitude</th>\n",
       "      <th>longitude</th>\n",
       "      <th>source</th>\n",
       "      <th>current_prediction</th>\n",
       "      <th>is_groundhog</th>\n",
       "      <th>type</th>\n",
       "      <th>active</th>\n",
       "      <th>description</th>\n",
       "      <th>image</th>\n",
       "      <th>predictions_count</th>\n",
       "    </tr>\n",
       "  </thead>\n",
       "  <tbody>\n",
       "    <tr>\n",
       "      <th>0</th>\n",
       "      <td>1</td>\n",
       "      <td>punxsutawney-phil</td>\n",
       "      <td>Phil</td>\n",
       "      <td>Punxsutawney Phil</td>\n",
       "      <td>Punxsutawney</td>\n",
       "      <td>Pennsylvania</td>\n",
       "      <td>USA</td>\n",
       "      <td>40.931199</td>\n",
       "      <td>-78.962248</td>\n",
       "      <td>https://www.groundhog.org/history-past-predict...</td>\n",
       "      <td>https://www.cbsnews.com/news/groundhog-day-202...</td>\n",
       "      <td>True</td>\n",
       "      <td>Groundhog</td>\n",
       "      <td>True</td>\n",
       "      <td>Punxsutawney Phil is a superstar prognosticati...</td>\n",
       "      <td>https://groundhog-day.com/images/ghogs/punxsut...</td>\n",
       "      <td>128</td>\n",
       "    </tr>\n",
       "    <tr>\n",
       "      <th>1</th>\n",
       "      <td>2</td>\n",
       "      <td>octoraro-orphie</td>\n",
       "      <td>Orphie</td>\n",
       "      <td>Octoraro Orphie</td>\n",
       "      <td>Quarryville</td>\n",
       "      <td>Pennsylvania</td>\n",
       "      <td>USA</td>\n",
       "      <td>39.825541</td>\n",
       "      <td>-76.091957</td>\n",
       "      <td>http://home.ptd.net/\\%7Emsvitale/index.html</td>\n",
       "      <td>https://lancasteronline.com/news/local/groundh...</td>\n",
       "      <td>False</td>\n",
       "      <td>Taxidermied groundhog</td>\n",
       "      <td>True</td>\n",
       "      <td>Octoraro Orphie, from Quarryville Pennsylvania...</td>\n",
       "      <td>https://groundhog-day.com/images/ghogs/octorar...</td>\n",
       "      <td>91</td>\n",
       "    </tr>\n",
       "    <tr>\n",
       "      <th>2</th>\n",
       "      <td>3</td>\n",
       "      <td>wiarton-willie</td>\n",
       "      <td>Willie</td>\n",
       "      <td>Wiarton Willie</td>\n",
       "      <td>Wiarton</td>\n",
       "      <td>Ontario</td>\n",
       "      <td>Canada</td>\n",
       "      <td>44.743869</td>\n",
       "      <td>-81.138684</td>\n",
       "      <td>https://www.southbrucepeninsula.com/en/explore...</td>\n",
       "      <td>https://twitter.com/WiartonWillie/status/16211...</td>\n",
       "      <td>True</td>\n",
       "      <td>Groundhog</td>\n",
       "      <td>True</td>\n",
       "      <td>Wiarton Wille is Canada’s most famous prognost...</td>\n",
       "      <td>https://groundhog-day.com/images/ghogs/wiarton...</td>\n",
       "      <td>60</td>\n",
       "    </tr>\n",
       "  </tbody>\n",
       "</table>\n",
       "</div>"
      ],
      "text/plain": [
       "   id               slug shortname               name          city  \\\n",
       "0   1  punxsutawney-phil      Phil  Punxsutawney Phil  Punxsutawney   \n",
       "1   2    octoraro-orphie    Orphie    Octoraro Orphie   Quarryville   \n",
       "2   3     wiarton-willie    Willie     Wiarton Willie       Wiarton   \n",
       "\n",
       "         region country   latitude  longitude  \\\n",
       "0  Pennsylvania     USA  40.931199 -78.962248   \n",
       "1  Pennsylvania     USA  39.825541 -76.091957   \n",
       "2       Ontario  Canada  44.743869 -81.138684   \n",
       "\n",
       "                                              source  \\\n",
       "0  https://www.groundhog.org/history-past-predict...   \n",
       "1        http://home.ptd.net/\\%7Emsvitale/index.html   \n",
       "2  https://www.southbrucepeninsula.com/en/explore...   \n",
       "\n",
       "                                  current_prediction  is_groundhog  \\\n",
       "0  https://www.cbsnews.com/news/groundhog-day-202...          True   \n",
       "1  https://lancasteronline.com/news/local/groundh...         False   \n",
       "2  https://twitter.com/WiartonWillie/status/16211...          True   \n",
       "\n",
       "                    type  active  \\\n",
       "0              Groundhog    True   \n",
       "1  Taxidermied groundhog    True   \n",
       "2              Groundhog    True   \n",
       "\n",
       "                                         description  \\\n",
       "0  Punxsutawney Phil is a superstar prognosticati...   \n",
       "1  Octoraro Orphie, from Quarryville Pennsylvania...   \n",
       "2  Wiarton Wille is Canada’s most famous prognost...   \n",
       "\n",
       "                                               image  predictions_count  \n",
       "0  https://groundhog-day.com/images/ghogs/punxsut...                128  \n",
       "1  https://groundhog-day.com/images/ghogs/octorar...                 91  \n",
       "2  https://groundhog-day.com/images/ghogs/wiarton...                 60  "
      ]
     },
     "execution_count": 4,
     "metadata": {},
     "output_type": "execute_result"
    }
   ],
   "source": [
    "url = 'https://raw.githubusercontent.com/rfordatascience/tidytuesday/master/data/2024/2024-01-30/groundhogs.csv'\n",
    "\n",
    "draw =  pd.read_csv(url)\n",
    "draw.head(3)"
   ]
  },
  {
   "cell_type": "code",
   "execution_count": 5,
   "metadata": {},
   "outputs": [
    {
     "data": {
      "text/plain": [
       "Index(['id', 'slug', 'shortname', 'name', 'city', 'region', 'country',\n",
       "       'latitude', 'longitude', 'source', 'current_prediction', 'is_groundhog',\n",
       "       'type', 'active', 'description', 'image', 'predictions_count'],\n",
       "      dtype='object')"
      ]
     },
     "execution_count": 5,
     "metadata": {},
     "output_type": "execute_result"
    }
   ],
   "source": [
    "draw.columns"
   ]
  },
  {
   "cell_type": "code",
   "execution_count": 18,
   "metadata": {},
   "outputs": [
    {
     "data": {
      "text/html": [
       "<div>\n",
       "<style scoped>\n",
       "    .dataframe tbody tr th:only-of-type {\n",
       "        vertical-align: middle;\n",
       "    }\n",
       "\n",
       "    .dataframe tbody tr th {\n",
       "        vertical-align: top;\n",
       "    }\n",
       "\n",
       "    .dataframe thead th {\n",
       "        text-align: right;\n",
       "    }\n",
       "</style>\n",
       "<table border=\"1\" class=\"dataframe\">\n",
       "  <thead>\n",
       "    <tr style=\"text-align: right;\">\n",
       "      <th></th>\n",
       "      <th>region</th>\n",
       "      <th>country</th>\n",
       "      <th>is_groundhog</th>\n",
       "      <th>type</th>\n",
       "      <th>active</th>\n",
       "      <th>predictions_count</th>\n",
       "    </tr>\n",
       "  </thead>\n",
       "  <tbody>\n",
       "    <tr>\n",
       "      <th>0</th>\n",
       "      <td>Pennsylvania</td>\n",
       "      <td>USA</td>\n",
       "      <td>True</td>\n",
       "      <td>Groundhog</td>\n",
       "      <td>True</td>\n",
       "      <td>128</td>\n",
       "    </tr>\n",
       "    <tr>\n",
       "      <th>1</th>\n",
       "      <td>Pennsylvania</td>\n",
       "      <td>USA</td>\n",
       "      <td>False</td>\n",
       "      <td>Taxidermied groundhog</td>\n",
       "      <td>True</td>\n",
       "      <td>91</td>\n",
       "    </tr>\n",
       "    <tr>\n",
       "      <th>2</th>\n",
       "      <td>Ontario</td>\n",
       "      <td>Canada</td>\n",
       "      <td>True</td>\n",
       "      <td>Groundhog</td>\n",
       "      <td>True</td>\n",
       "      <td>60</td>\n",
       "    </tr>\n",
       "  </tbody>\n",
       "</table>\n",
       "</div>"
      ],
      "text/plain": [
       "         region country  is_groundhog                   type  active  \\\n",
       "0  Pennsylvania     USA          True              Groundhog    True   \n",
       "1  Pennsylvania     USA         False  Taxidermied groundhog    True   \n",
       "2       Ontario  Canada          True              Groundhog    True   \n",
       "\n",
       "   predictions_count  \n",
       "0                128  \n",
       "1                 91  \n",
       "2                 60  "
      ]
     },
     "execution_count": 18,
     "metadata": {},
     "output_type": "execute_result"
    }
   ],
   "source": [
    "draw[['region', 'country', 'is_groundhog',  'type', 'active', 'predictions_count']].head(3)"
   ]
  },
  {
   "cell_type": "code",
   "execution_count": 91,
   "metadata": {},
   "outputs": [
    {
     "name": "stdout",
     "output_type": "stream",
     "text": [
      "<class 'pandas.core.frame.DataFrame'>\n",
      "RangeIndex: 75 entries, 0 to 74\n",
      "Data columns (total 6 columns):\n",
      " #   Column     Non-Null Count  Dtype \n",
      "---  ------     --------------  ----- \n",
      " 0   region     75 non-null     object\n",
      " 1   country    75 non-null     object\n",
      " 2   groundhog  75 non-null     bool  \n",
      " 3   type       75 non-null     object\n",
      " 4   active     75 non-null     bool  \n",
      " 5   predcount  75 non-null     int64 \n",
      "dtypes: bool(2), int64(1), object(3)\n",
      "memory usage: 2.6+ KB\n"
     ]
    }
   ],
   "source": [
    "df = (\n",
    "    draw.loc[:, ('region', 'country', 'is_groundhog',  'type', 'active', 'predictions_count')]\n",
    "    .rename(columns  = {'is_groundhog': 'groundhog', 'predictions_count': 'predcount'})\n",
    ")\n",
    "df.info()"
   ]
  },
  {
   "cell_type": "markdown",
   "metadata": {},
   "source": [
    "## EDA"
   ]
  },
  {
   "cell_type": "markdown",
   "metadata": {},
   "source": [
    "###  Region / States"
   ]
  },
  {
   "cell_type": "code",
   "execution_count": 42,
   "metadata": {},
   "outputs": [
    {
     "data": {
      "text/html": [
       "<div>\n",
       "<style scoped>\n",
       "    .dataframe tbody tr th:only-of-type {\n",
       "        vertical-align: middle;\n",
       "    }\n",
       "\n",
       "    .dataframe tbody tr th {\n",
       "        vertical-align: top;\n",
       "    }\n",
       "\n",
       "    .dataframe thead th {\n",
       "        text-align: right;\n",
       "    }\n",
       "</style>\n",
       "<table border=\"1\" class=\"dataframe\">\n",
       "  <thead>\n",
       "    <tr style=\"text-align: right;\">\n",
       "      <th></th>\n",
       "      <th>region</th>\n",
       "      <th>count</th>\n",
       "    </tr>\n",
       "  </thead>\n",
       "  <tbody>\n",
       "    <tr>\n",
       "      <th>0</th>\n",
       "      <td>Pennsylvania</td>\n",
       "      <td>15</td>\n",
       "    </tr>\n",
       "    <tr>\n",
       "      <th>1</th>\n",
       "      <td>New York</td>\n",
       "      <td>6</td>\n",
       "    </tr>\n",
       "    <tr>\n",
       "      <th>2</th>\n",
       "      <td>Ontario</td>\n",
       "      <td>6</td>\n",
       "    </tr>\n",
       "    <tr>\n",
       "      <th>3</th>\n",
       "      <td>Ohio</td>\n",
       "      <td>4</td>\n",
       "    </tr>\n",
       "    <tr>\n",
       "      <th>4</th>\n",
       "      <td>North Carolina</td>\n",
       "      <td>3</td>\n",
       "    </tr>\n",
       "    <tr>\n",
       "      <th>5</th>\n",
       "      <td>Nova Scotia</td>\n",
       "      <td>3</td>\n",
       "    </tr>\n",
       "    <tr>\n",
       "      <th>6</th>\n",
       "      <td>Connecticut</td>\n",
       "      <td>3</td>\n",
       "    </tr>\n",
       "  </tbody>\n",
       "</table>\n",
       "</div>"
      ],
      "text/plain": [
       "           region  count\n",
       "0    Pennsylvania     15\n",
       "1        New York      6\n",
       "2         Ontario      6\n",
       "3            Ohio      4\n",
       "4  North Carolina      3\n",
       "5     Nova Scotia      3\n",
       "6     Connecticut      3"
      ]
     },
     "execution_count": 42,
     "metadata": {},
     "output_type": "execute_result"
    }
   ],
   "source": [
    "region_df  = df['region'].value_counts().reset_index()\n",
    "region_df[(region_df['count'] >= 3)]"
   ]
  },
  {
   "cell_type": "code",
   "execution_count": 49,
   "metadata": {},
   "outputs": [
    {
     "data": {
      "text/html": [
       "<div>\n",
       "<style scoped>\n",
       "    .dataframe tbody tr th:only-of-type {\n",
       "        vertical-align: middle;\n",
       "    }\n",
       "\n",
       "    .dataframe tbody tr th {\n",
       "        vertical-align: top;\n",
       "    }\n",
       "\n",
       "    .dataframe thead th {\n",
       "        text-align: right;\n",
       "    }\n",
       "</style>\n",
       "<table border=\"1\" class=\"dataframe\">\n",
       "  <thead>\n",
       "    <tr style=\"text-align: right;\">\n",
       "      <th></th>\n",
       "      <th>region</th>\n",
       "      <th>count</th>\n",
       "    </tr>\n",
       "  </thead>\n",
       "  <tbody>\n",
       "    <tr>\n",
       "      <th>6</th>\n",
       "      <td>Other</td>\n",
       "      <td>35</td>\n",
       "    </tr>\n",
       "    <tr>\n",
       "      <th>7</th>\n",
       "      <td>Pennsylvania</td>\n",
       "      <td>15</td>\n",
       "    </tr>\n",
       "    <tr>\n",
       "      <th>1</th>\n",
       "      <td>New York</td>\n",
       "      <td>6</td>\n",
       "    </tr>\n",
       "    <tr>\n",
       "      <th>5</th>\n",
       "      <td>Ontario</td>\n",
       "      <td>6</td>\n",
       "    </tr>\n",
       "    <tr>\n",
       "      <th>4</th>\n",
       "      <td>Ohio</td>\n",
       "      <td>4</td>\n",
       "    </tr>\n",
       "    <tr>\n",
       "      <th>0</th>\n",
       "      <td>Connecticut</td>\n",
       "      <td>3</td>\n",
       "    </tr>\n",
       "    <tr>\n",
       "      <th>2</th>\n",
       "      <td>North Carolina</td>\n",
       "      <td>3</td>\n",
       "    </tr>\n",
       "    <tr>\n",
       "      <th>3</th>\n",
       "      <td>Nova Scotia</td>\n",
       "      <td>3</td>\n",
       "    </tr>\n",
       "  </tbody>\n",
       "</table>\n",
       "</div>"
      ],
      "text/plain": [
       "           region  count\n",
       "6           Other     35\n",
       "7    Pennsylvania     15\n",
       "1        New York      6\n",
       "5         Ontario      6\n",
       "4            Ohio      4\n",
       "0     Connecticut      3\n",
       "2  North Carolina      3\n",
       "3     Nova Scotia      3"
      ]
     },
     "execution_count": 49,
     "metadata": {},
     "output_type": "execute_result"
    }
   ],
   "source": [
    "region_df.loc[(region_df['count'] < 3), 'region'] = 'Other'\n",
    "rgn_df = region_df.groupby('region')['count'].sum().reset_index().sort_values('count', ascending = False)\n",
    "rgn_df"
   ]
  },
  {
   "cell_type": "code",
   "execution_count": 68,
   "metadata": {},
   "outputs": [
    {
     "data": {
      "image/png": "[encoded data removed]",
      "text/plain": [
       "<Figure size 640x480 with 1 Axes>"
      ]
     },
     "metadata": {},
     "output_type": "display_data"
    }
   ],
   "source": [
    "g = sns.barplot(\n",
    "    rgn_df, x=\"count\", y=\"region\", hue=\"region\", \n",
    "    legend=False)\n",
    "g.set(xlabel=\"Count (Millions)\", ylabel=\"\")\n",
    "g.set_title(\"Groundhog Events By  State\")\n",
    "#g.xaxis.set_major_formatter('{x:.0f}Mlns')\n",
    "#g.xaxis.set_major_formatter('${x:.0f}')\n",
    "plt.show()"
   ]
  },
  {
   "cell_type": "markdown",
   "metadata": {},
   "source": [
    "###   Groundhog: Type and active"
   ]
  },
  {
   "cell_type": "code",
   "execution_count": 73,
   "metadata": {},
   "outputs": [
    {
     "data": {
      "text/html": [
       "<div>\n",
       "<style scoped>\n",
       "    .dataframe tbody tr th:only-of-type {\n",
       "        vertical-align: middle;\n",
       "    }\n",
       "\n",
       "    .dataframe tbody tr th {\n",
       "        vertical-align: top;\n",
       "    }\n",
       "\n",
       "    .dataframe thead th {\n",
       "        text-align: right;\n",
       "    }\n",
       "</style>\n",
       "<table border=\"1\" class=\"dataframe\">\n",
       "  <thead>\n",
       "    <tr style=\"text-align: right;\">\n",
       "      <th></th>\n",
       "      <th>groundhog</th>\n",
       "      <th>active</th>\n",
       "      <th>count</th>\n",
       "    </tr>\n",
       "  </thead>\n",
       "  <tbody>\n",
       "    <tr>\n",
       "      <th>0</th>\n",
       "      <td>False</td>\n",
       "      <td>True</td>\n",
       "      <td>43</td>\n",
       "    </tr>\n",
       "    <tr>\n",
       "      <th>1</th>\n",
       "      <td>True</td>\n",
       "      <td>True</td>\n",
       "      <td>29</td>\n",
       "    </tr>\n",
       "    <tr>\n",
       "      <th>2</th>\n",
       "      <td>True</td>\n",
       "      <td>False</td>\n",
       "      <td>3</td>\n",
       "    </tr>\n",
       "  </tbody>\n",
       "</table>\n",
       "</div>"
      ],
      "text/plain": [
       "   groundhog  active  count\n",
       "0      False    True     43\n",
       "1       True    True     29\n",
       "2       True   False      3"
      ]
     },
     "execution_count": 73,
     "metadata": {},
     "output_type": "execute_result"
    }
   ],
   "source": [
    "df.groupby(['groundhog'])['active'].value_counts().reset_index()"
   ]
  },
  {
   "cell_type": "code",
   "execution_count": 95,
   "metadata": {},
   "outputs": [
    {
     "data": {
      "text/html": [
       "<div>\n",
       "<style scoped>\n",
       "    .dataframe tbody tr th:only-of-type {\n",
       "        vertical-align: middle;\n",
       "    }\n",
       "\n",
       "    .dataframe tbody tr th {\n",
       "        vertical-align: top;\n",
       "    }\n",
       "\n",
       "    .dataframe thead th {\n",
       "        text-align: right;\n",
       "    }\n",
       "</style>\n",
       "<table border=\"1\" class=\"dataframe\">\n",
       "  <thead>\n",
       "    <tr style=\"text-align: right;\">\n",
       "      <th></th>\n",
       "      <th>type</th>\n",
       "      <th>count</th>\n",
       "    </tr>\n",
       "  </thead>\n",
       "  <tbody>\n",
       "    <tr>\n",
       "      <th>0</th>\n",
       "      <td>Groundhog</td>\n",
       "      <td>32</td>\n",
       "    </tr>\n",
       "    <tr>\n",
       "      <th>1</th>\n",
       "      <td>Taxidermied groundhog</td>\n",
       "      <td>7</td>\n",
       "    </tr>\n",
       "    <tr>\n",
       "      <th>2</th>\n",
       "      <td>Person in a groundhog suit</td>\n",
       "      <td>6</td>\n",
       "    </tr>\n",
       "    <tr>\n",
       "      <th>3</th>\n",
       "      <td>Plush groundhog</td>\n",
       "      <td>4</td>\n",
       "    </tr>\n",
       "    <tr>\n",
       "      <th>4</th>\n",
       "      <td>Plush yellow-bellied marmot</td>\n",
       "      <td>2</td>\n",
       "    </tr>\n",
       "  </tbody>\n",
       "</table>\n",
       "</div>"
      ],
      "text/plain": [
       "                          type  count\n",
       "0                    Groundhog     32\n",
       "1        Taxidermied groundhog      7\n",
       "2   Person in a groundhog suit      6\n",
       "3              Plush groundhog      4\n",
       "4  Plush yellow-bellied marmot      2"
      ]
     },
     "execution_count": 95,
     "metadata": {},
     "output_type": "execute_result"
    }
   ],
   "source": [
    "df['type'].value_counts().reset_index().sort_values('count', ascending = False).head(5)\n"
   ]
  },
  {
   "cell_type": "code",
   "execution_count": 108,
   "metadata": {},
   "outputs": [],
   "source": [
    "ghog = df.loc[:, ('type', 'active', 'predcount')]\n",
    "ghog.loc[(ghog.type != 'Groundhog'), 'type']  = 'Other'"
   ]
  },
  {
   "cell_type": "code",
   "execution_count": 109,
   "metadata": {},
   "outputs": [
    {
     "data": {
      "text/html": [
       "<div>\n",
       "<style scoped>\n",
       "    .dataframe tbody tr th:only-of-type {\n",
       "        vertical-align: middle;\n",
       "    }\n",
       "\n",
       "    .dataframe tbody tr th {\n",
       "        vertical-align: top;\n",
       "    }\n",
       "\n",
       "    .dataframe thead th {\n",
       "        text-align: right;\n",
       "    }\n",
       "</style>\n",
       "<table border=\"1\" class=\"dataframe\">\n",
       "  <thead>\n",
       "    <tr style=\"text-align: right;\">\n",
       "      <th></th>\n",
       "      <th>type</th>\n",
       "      <th>predcount</th>\n",
       "    </tr>\n",
       "  </thead>\n",
       "  <tbody>\n",
       "    <tr>\n",
       "      <th>0</th>\n",
       "      <td>Groundhog</td>\n",
       "      <td>742</td>\n",
       "    </tr>\n",
       "    <tr>\n",
       "      <th>1</th>\n",
       "      <td>Other</td>\n",
       "      <td>575</td>\n",
       "    </tr>\n",
       "  </tbody>\n",
       "</table>\n",
       "</div>"
      ],
      "text/plain": [
       "        type  predcount\n",
       "0  Groundhog        742\n",
       "1      Other        575"
      ]
     },
     "execution_count": 109,
     "metadata": {},
     "output_type": "execute_result"
    }
   ],
   "source": [
    "hog_df = ghog.groupby('type')['predcount'].sum().reset_index()\n",
    "hog_df"
   ]
  },
  {
   "cell_type": "code",
   "execution_count": 111,
   "metadata": {},
   "outputs": [
    {
     "data": {
      "text/plain": [
       "Text(0.5, 1.0, 'Comparing Groundhog and  Non-Groundhog\\nTotal Number  Of Predictions')"
      ]
     },
     "execution_count": 111,
     "metadata": {},
     "output_type": "execute_result"
    },
    {
     "data": {
      "image/png": "[encoded data removed]",
      "text/plain": [
       "<Figure size 640x480 with 1 Axes>"
      ]
     },
     "metadata": {},
     "output_type": "display_data"
    }
   ],
   "source": [
    "h = sns.barplot(hog_df, x = 'type', y = 'predcount', hue = 'type')\n",
    "h.set_title('Comparing Groundhog and  Non-Groundhog\\nTotal Number  Of Predictions')"
   ]
  },
  {
   "cell_type": "code",
   "execution_count": 93,
   "metadata": {},
   "outputs": [
    {
     "data": {
      "text/html": [
       "<div>\n",
       "<style scoped>\n",
       "    .dataframe tbody tr th:only-of-type {\n",
       "        vertical-align: middle;\n",
       "    }\n",
       "\n",
       "    .dataframe tbody tr th {\n",
       "        vertical-align: top;\n",
       "    }\n",
       "\n",
       "    .dataframe thead th {\n",
       "        text-align: right;\n",
       "    }\n",
       "</style>\n",
       "<table border=\"1\" class=\"dataframe\">\n",
       "  <thead>\n",
       "    <tr style=\"text-align: right;\">\n",
       "      <th></th>\n",
       "      <th>region</th>\n",
       "      <th>country</th>\n",
       "      <th>groundhog</th>\n",
       "      <th>type</th>\n",
       "      <th>active</th>\n",
       "      <th>predcount</th>\n",
       "    </tr>\n",
       "  </thead>\n",
       "  <tbody>\n",
       "    <tr>\n",
       "      <th>70</th>\n",
       "      <td>New Jersey</td>\n",
       "      <td>USA</td>\n",
       "      <td>True</td>\n",
       "      <td>Groundhog</td>\n",
       "      <td>True</td>\n",
       "      <td>2</td>\n",
       "    </tr>\n",
       "    <tr>\n",
       "      <th>71</th>\n",
       "      <td>British Columbia</td>\n",
       "      <td>Canada</td>\n",
       "      <td>False</td>\n",
       "      <td>Plush yellow-bellied marmot</td>\n",
       "      <td>True</td>\n",
       "      <td>2</td>\n",
       "    </tr>\n",
       "    <tr>\n",
       "      <th>72</th>\n",
       "      <td>North Carolina</td>\n",
       "      <td>USA</td>\n",
       "      <td>False</td>\n",
       "      <td>Tree squirrel</td>\n",
       "      <td>True</td>\n",
       "      <td>2</td>\n",
       "    </tr>\n",
       "    <tr>\n",
       "      <th>73</th>\n",
       "      <td>Maryland</td>\n",
       "      <td>USA</td>\n",
       "      <td>False</td>\n",
       "      <td>Person in a groundhog suit</td>\n",
       "      <td>True</td>\n",
       "      <td>2</td>\n",
       "    </tr>\n",
       "    <tr>\n",
       "      <th>74</th>\n",
       "      <td>Nebraska</td>\n",
       "      <td>USA</td>\n",
       "      <td>False</td>\n",
       "      <td>Taxidermied groundhog</td>\n",
       "      <td>True</td>\n",
       "      <td>2</td>\n",
       "    </tr>\n",
       "  </tbody>\n",
       "</table>\n",
       "</div>"
      ],
      "text/plain": [
       "              region country  groundhog                         type  active  \\\n",
       "70        New Jersey     USA       True                    Groundhog    True   \n",
       "71  British Columbia  Canada      False  Plush yellow-bellied marmot    True   \n",
       "72    North Carolina     USA      False                Tree squirrel    True   \n",
       "73          Maryland     USA      False   Person in a groundhog suit    True   \n",
       "74          Nebraska     USA      False        Taxidermied groundhog    True   \n",
       "\n",
       "    predcount  \n",
       "70          2  \n",
       "71          2  \n",
       "72          2  \n",
       "73          2  \n",
       "74          2  "
      ]
     },
     "execution_count": 93,
     "metadata": {},
     "output_type": "execute_result"
    }
   ],
   "source": [
    "df.tail()"
   ]
  },
  {
   "cell_type": "code",
   "execution_count": 92,
   "metadata": {},
   "outputs": [
    {
     "data": {
      "text/html": [
       "<div>\n",
       "<style scoped>\n",
       "    .dataframe tbody tr th:only-of-type {\n",
       "        vertical-align: middle;\n",
       "    }\n",
       "\n",
       "    .dataframe tbody tr th {\n",
       "        vertical-align: top;\n",
       "    }\n",
       "\n",
       "    .dataframe thead th {\n",
       "        text-align: right;\n",
       "    }\n",
       "</style>\n",
       "<table border=\"1\" class=\"dataframe\">\n",
       "  <thead>\n",
       "    <tr style=\"text-align: right;\">\n",
       "      <th></th>\n",
       "      <th>region</th>\n",
       "      <th>country</th>\n",
       "      <th>groundhog</th>\n",
       "      <th>type</th>\n",
       "      <th>active</th>\n",
       "      <th>predcount</th>\n",
       "    </tr>\n",
       "  </thead>\n",
       "  <tbody>\n",
       "    <tr>\n",
       "      <th>0</th>\n",
       "      <td>Pennsylvania</td>\n",
       "      <td>USA</td>\n",
       "      <td>True</td>\n",
       "      <td>Groundhog</td>\n",
       "      <td>True</td>\n",
       "      <td>128</td>\n",
       "    </tr>\n",
       "    <tr>\n",
       "      <th>1</th>\n",
       "      <td>Pennsylvania</td>\n",
       "      <td>USA</td>\n",
       "      <td>False</td>\n",
       "      <td>Taxidermied groundhog</td>\n",
       "      <td>True</td>\n",
       "      <td>91</td>\n",
       "    </tr>\n",
       "    <tr>\n",
       "      <th>2</th>\n",
       "      <td>Ontario</td>\n",
       "      <td>Canada</td>\n",
       "      <td>True</td>\n",
       "      <td>Groundhog</td>\n",
       "      <td>True</td>\n",
       "      <td>60</td>\n",
       "    </tr>\n",
       "  </tbody>\n",
       "</table>\n",
       "</div>"
      ],
      "text/plain": [
       "         region country  groundhog                   type  active  predcount\n",
       "0  Pennsylvania     USA       True              Groundhog    True        128\n",
       "1  Pennsylvania     USA      False  Taxidermied groundhog    True         91\n",
       "2       Ontario  Canada       True              Groundhog    True         60"
      ]
     },
     "execution_count": 92,
     "metadata": {},
     "output_type": "execute_result"
    }
   ],
   "source": [
    "df.head(3)"
   ]
  },
  {
   "cell_type": "markdown",
   "metadata": {},
   "source": [
    "###  Prediction counts"
   ]
  },
  {
   "cell_type": "code",
   "execution_count": 126,
   "metadata": {},
   "outputs": [
    {
     "data": {
      "text/html": [
       "<div>\n",
       "<style scoped>\n",
       "    .dataframe tbody tr th:only-of-type {\n",
       "        vertical-align: middle;\n",
       "    }\n",
       "\n",
       "    .dataframe tbody tr th {\n",
       "        vertical-align: top;\n",
       "    }\n",
       "\n",
       "    .dataframe thead th {\n",
       "        text-align: right;\n",
       "    }\n",
       "</style>\n",
       "<table border=\"1\" class=\"dataframe\">\n",
       "  <thead>\n",
       "    <tr style=\"text-align: right;\">\n",
       "      <th></th>\n",
       "      <th>region</th>\n",
       "      <th>predcount</th>\n",
       "    </tr>\n",
       "  </thead>\n",
       "  <tbody>\n",
       "    <tr>\n",
       "      <th>0</th>\n",
       "      <td>Pennsylvania</td>\n",
       "      <td>370</td>\n",
       "    </tr>\n",
       "    <tr>\n",
       "      <th>1</th>\n",
       "      <td>New York</td>\n",
       "      <td>125</td>\n",
       "    </tr>\n",
       "  </tbody>\n",
       "</table>\n",
       "</div>"
      ],
      "text/plain": [
       "         region  predcount\n",
       "0  Pennsylvania        370\n",
       "1      New York        125"
      ]
     },
     "execution_count": 126,
     "metadata": {},
     "output_type": "execute_result"
    }
   ],
   "source": [
    "topregion  = df.groupby('region')['predcount'].sum().sort_values(ascending = False).reset_index().head(10)\n",
    "topregion.head(2)"
   ]
  },
  {
   "cell_type": "code",
   "execution_count": 130,
   "metadata": {},
   "outputs": [
    {
     "data": {
      "text/plain": [
       "Text(0.5, 1.0, 'Total Predictions Of Groudhog Day Events\\nTop 10 States')"
      ]
     },
     "execution_count": 130,
     "metadata": {},
     "output_type": "execute_result"
    },
    {
     "data": {
      "image/png": "[encoded data removed]",
      "text/plain": [
       "<Figure size 640x480 with 1 Axes>"
      ]
     },
     "metadata": {},
     "output_type": "display_data"
    }
   ],
   "source": [
    "p = sns.barplot(topregion, x = 'predcount', y = 'region', color='brown')\n",
    "p.set_title('Total Predictions Of Groudhog Day Events\\nTop 10 States')"
   ]
  }
 ],
 "metadata": {
  "kernelspec": {
   "display_name": ".pvenv",
   "language": "python",
   "name": "python3"
  },
  "language_info": {
   "codemirror_mode": {
    "name": "ipython",
    "version": 3
   },
   "file_extension": ".py",
   "mimetype": "text/x-python",
   "name": "python",
   "nbconvert_exporter": "python",
   "pygments_lexer": "ipython3",
   "version": "3.11.4"
  }
 },
 "nbformat": 4,
 "nbformat_minor": 2
}
