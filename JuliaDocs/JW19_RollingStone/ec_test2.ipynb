{
 "cells": [
  {
   "cell_type": "code",
   "execution_count": 1,
   "metadata": {},
   "outputs": [
    {
     "data": {
      "text/plain": [
       "\"/Users/birusod/Documents/DataScienceDocs/GitProjects/Projects2024/JuliaDocs/JW19_RollingStone\""
      ]
     },
     "execution_count": 1,
     "metadata": {},
     "output_type": "execute_result"
    }
   ],
   "source": [
    "pwd()"
   ]
  },
  {
   "cell_type": "code",
   "execution_count": 2,
   "metadata": {},
   "outputs": [
    {
     "name": "stdout",
     "output_type": "stream",
     "text": [
      "\u001b[32m\u001b[1mStatus\u001b[22m\u001b[39m `~/Documents/DataScienceDocs/GitProjects/Projects2024/Project.toml`\n",
      "  \u001b[90m[f9630f5b] \u001b[39mECharts v0.6.0\n",
      "  \u001b[90m[7073ff75] \u001b[39mIJulia v1.24.2\n",
      "  \u001b[90m[91a5bcdd] \u001b[39mPlots v1.40.4\n",
      "  \u001b[90m[0f1e0344] \u001b[39mWebIO v0.8.21\n"
     ]
    }
   ],
   "source": [
    "using Pkg\n",
    "Pkg.status()"
   ]
  },
  {
   "cell_type": "code",
   "execution_count": 3,
   "metadata": {},
   "outputs": [
    {
     "data": {
      "application/vnd.webio.node+json": {
       "children": [],
       "instanceArgs": {
        "namespace": "html",
        "tag": "div"
       },
       "nodeType": "DOM",
       "props": {},
       "type": "node"
      },
      "text/html": [
       "<div style=\"padding: 1em; background-color: #f8d6da; border: 1px solid #f5c6cb; font-weight: bold;\">\n",
       "<p>The WebIO Jupyter extension was not detected. See the\n",
       "<a href=\"https://juliagizmos.github.io/WebIO.jl/latest/providers/ijulia/\" target=\"_blank\">\n",
       "    WebIO Jupyter integration documentation\n",
       "</a>\n",
       "for more information.\n",
       "</div>\n"
      ],
      "text/plain": [
       "WebIO._IJuliaInit()"
      ]
     },
     "metadata": {
      "@webio": {
       "kernelId": "2caaef2e-8c20-49fe-aeae-537bcf6f4227"
      }
     },
     "output_type": "display_data"
    }
   ],
   "source": [
    "using ECharts\n",
    "#using WebIO\n",
    "#using IJulia"
   ]
  },
  {
   "cell_type": "code",
   "execution_count": 4,
   "metadata": {},
   "outputs": [
    {
     "data": {
      "text/html": [
       "<div\n",
       "    class=\"webio-mountpoint\"\n",
       "    data-webio-mountpoint=\"17722757879869857377\"\n",
       ">\n",
       "    <script>\n",
       "    (function(){\n",
       "    // Some integrations (namely, IJulia/Jupyter) use an alternate render pathway than\n",
       "    // just putting the html on the page. If WebIO isn't defined, then it's pretty likely\n",
       "    // that we're in one of those situations and the integration just isn't installed\n",
       "    // correctly.\n",
       "    if (typeof window.WebIO === \"undefined\") {\n",
       "        document\n",
       "            .querySelector('[data-webio-mountpoint=\"17722757879869857377\"]')\n",
       "            .innerHTML = (\n",
       "                '<div style=\"padding: 1em; background-color: #f8d6da; border: 1px solid #f5c6cb; font-weight: bold;\">' +\n",
       "                '<p><strong>WebIO not detected.</strong></p>' +\n",
       "                '<p>Please read ' +\n",
       "                '<a href=\"https://juliagizmos.github.io/WebIO.jl/latest/troubleshooting/not-detected/\" target=\"_blank\">the troubleshooting guide</a> ' +\n",
       "                'for more information on how to resolve this issue.</p>' +\n",
       "                '<p><a href=\"https://juliagizmos.github.io/WebIO.jl/latest/troubleshooting/not-detected/\" target=\"_blank\">https://juliagizmos.github.io/WebIO.jl/latest/troubleshooting/not-detected/</a></p>' +\n",
       "                '</div>'\n",
       "            );\n",
       "        return;\n",
       "    }\n",
       "    WebIO.mount(\n",
       "        document.querySelector('[data-webio-mountpoint=\"17722757879869857377\"]'),\n",
       "        {\"props\":{},\"nodeType\":\"Scope\",\"type\":\"node\",\"instanceArgs\":{\"imports\":{\"data\":[{\"name\":\"echarts\",\"type\":\"js\",\"url\":\"\\/assetserver\\/f1d6793c792298d474fac6efae738e9d20ff48f2-echarts.min.js\"}],\"type\":\"async_block\"},\"id\":\"11583351301825579384\",\"handlers\":{},\"systemjs_options\":null,\"mount_callbacks\":[\"function () {\\n    var handler = ((function (echarts){var myChart=echarts.init(this.dom.querySelector(\\\"#myplot\\\"),{\\\"geo\\\":{\\\"label\\\":{\\\"normal\\\":{\\\"textStyle\\\":{\\\"color\\\":\\\"#000000\\\"}},\\\"emphasis\\\":{\\\"textStyle\\\":{\\\"color\\\":\\\"rgb(100,0,0)\\\"}}},\\\"itemStyle\\\":{\\\"normal\\\":{\\\"borderColor\\\":\\\"#444444\\\",\\\"borderWidth\\\":0.5,\\\"areaColor\\\":\\\"#eeeeee\\\"},\\\"emphasis\\\":{\\\"borderColor\\\":\\\"#444444\\\",\\\"borderWidth\\\":1,\\\"areaColor\\\":\\\"rgba(255,215,0,0.8)\\\"}}},\\\"parallel\\\":{\\\"itemStyle\\\":{\\\"normal\\\":{\\\"borderWidth\\\":0,\\\"borderColor\\\":\\\"#ccc\\\"},\\\"emphasis\\\":{\\\"borderWidth\\\":0,\\\"borderColor\\\":\\\"#ccc\\\"}}},\\\"markPoint\\\":{\\\"label\\\":{\\\"normal\\\":{\\\"textStyle\\\":{\\\"color\\\":\\\"#eeeeee\\\"}},\\\"emphasis\\\":{\\\"textStyle\\\":{\\\"color\\\":\\\"#eeeeee\\\"}}}},\\\"visualMap\\\":{\\\"color\\\":[\\\"#e01f54\\\",\\\"#e7dbc3\\\"]},\\\"funnel\\\":{\\\"itemStyle\\\":{\\\"normal\\\":{\\\"borderWidth\\\":0,\\\"borderColor\\\":\\\"#ccc\\\"},\\\"emphasis\\\":{\\\"borderWidth\\\":0,\\\"borderColor\\\":\\\"#ccc\\\"}}},\\\"bar\\\":{\\\"itemStyle\\\":{\\\"normal\\\":{\\\"barBorderColor\\\":\\\"#ccc\\\",\\\"barBorderWidth\\\":0},\\\"emphasis\\\":{\\\"barBorderColor\\\":\\\"#ccc\\\",\\\"barBorderWidth\\\":0}}},\\\"map\\\":{\\\"label\\\":{\\\"normal\\\":{\\\"textStyle\\\":{\\\"color\\\":\\\"#000000\\\"}},\\\"emphasis\\\":{\\\"textStyle\\\":{\\\"color\\\":\\\"rgb(100,0,0)\\\"}}},\\\"itemStyle\\\":{\\\"normal\\\":{\\\"borderColor\\\":\\\"#444444\\\",\\\"borderWidth\\\":0.5,\\\"areaColor\\\":\\\"#eeeeee\\\"},\\\"emphasis\\\":{\\\"borderColor\\\":\\\"#444444\\\",\\\"borderWidth\\\":1,\\\"areaColor\\\":\\\"rgba(255,215,0,0.8)\\\"}}},\\\"scatter\\\":{\\\"itemStyle\\\":{\\\"normal\\\":{\\\"borderWidth\\\":0,\\\"borderColor\\\":\\\"#ccc\\\"},\\\"emphasis\\\":{\\\"borderWidth\\\":0,\\\"borderColor\\\":\\\"#ccc\\\"}}},\\\"pie\\\":{\\\"itemStyle\\\":{\\\"normal\\\":{\\\"borderWidth\\\":0,\\\"borderColor\\\":\\\"#ccc\\\"},\\\"emphasis\\\":{\\\"borderWidth\\\":0,\\\"borderColor\\\":\\\"#ccc\\\"}}},\\\"graph\\\":{\\\"label\\\":{\\\"normal\\\":{\\\"textStyle\\\":{\\\"color\\\":\\\"#eeeeee\\\"}}},\\\"symbolSize\\\":4,\\\"itemStyle\\\":{\\\"normal\\\":{\\\"borderWidth\\\":0,\\\"borderColor\\\":\\\"#ccc\\\"}},\\\"smooth\\\":false,\\\"symbol\\\":\\\"emptyCircle\\\",\\\"color\\\":[\\\"#e01f54\\\",\\\"#001852\\\",\\\"#f5e8c8\\\",\\\"#b8d2c7\\\",\\\"#c6b38e\\\",\\\"#a4d8c2\\\",\\\"#f3d999\\\",\\\"#d3758f\\\",\\\"#dcc392\\\",\\\"#2e4783\\\",\\\"#82b6e9\\\",\\\"#ff6347\\\",\\\"#a092f1\\\",\\\"#0a915d\\\",\\\"#eaf889\\\",\\\"#6699FF\\\",\\\"#ff6666\\\",\\\"#3cb371\\\",\\\"#d5b158\\\",\\\"#38b6b6\\\"],\\\"lineStyle\\\":{\\\"normal\\\":{\\\"color\\\":\\\"#aaaaaa\\\",\\\"width\\\":1}}},\\\"backgroundColor\\\":\\\"rgba(0,0,0,0)\\\",\\\"line\\\":{\\\"symbolSize\\\":4,\\\"itemStyle\\\":{\\\"normal\\\":{\\\"borderWidth\\\":1}},\\\"smooth\\\":false,\\\"symbol\\\":\\\"emptyCircle\\\",\\\"lineStyle\\\":{\\\"normal\\\":{\\\"width\\\":2}}},\\\"candlestick\\\":{\\\"itemStyle\\\":{\\\"normal\\\":{\\\"borderColor0\\\":\\\"#b8d2c7\\\",\\\"color\\\":\\\"#e01f54\\\",\\\"borderColor\\\":\\\"#f5e8c8\\\",\\\"borderWidth\\\":1,\\\"color0\\\":\\\"#001852\\\"}}},\\\"sankey\\\":{\\\"itemStyle\\\":{\\\"normal\\\":{\\\"borderWidth\\\":0,\\\"borderColor\\\":\\\"#ccc\\\"},\\\"emphasis\\\":{\\\"borderWidth\\\":0,\\\"borderColor\\\":\\\"#ccc\\\"}}},\\\"valueAxis\\\":{\\\"axisLine\\\":{\\\"show\\\":true,\\\"lineStyle\\\":{\\\"color\\\":\\\"#333\\\"}},\\\"axisLabel\\\":{\\\"textStyle\\\":{\\\"color\\\":\\\"#333\\\"},\\\"show\\\":true},\\\"splitLine\\\":{\\\"show\\\":true,\\\"lineStyle\\\":{\\\"color\\\":[\\\"#ccc\\\"]}},\\\"splitArea\\\":{\\\"areaStyle\\\":{\\\"color\\\":[\\\"rgba(250,250,250,0.3)\\\",\\\"rgba(200,200,200,0.3)\\\"]},\\\"show\\\":false},\\\"axisTick\\\":{\\\"show\\\":true,\\\"lineStyle\\\":{\\\"color\\\":\\\"#333\\\"}}},\\\"toolbox\\\":{\\\"iconStyle\\\":{\\\"normal\\\":{\\\"borderColor\\\":\\\"#999999\\\"},\\\"emphasis\\\":{\\\"borderColor\\\":\\\"#666666\\\"}}},\\\"categoryAxis\\\":{\\\"axisLine\\\":{\\\"show\\\":true,\\\"lineStyle\\\":{\\\"color\\\":\\\"#333\\\"}},\\\"axisLabel\\\":{\\\"textStyle\\\":{\\\"color\\\":\\\"#333\\\"},\\\"show\\\":true},\\\"splitLine\\\":{\\\"show\\\":false,\\\"lineStyle\\\":{\\\"color\\\":[\\\"#ccc\\\"]}},\\\"splitArea\\\":{\\\"areaStyle\\\":{\\\"color\\\":[\\\"rgba(250,250,250,0.3)\\\",\\\"rgba(200,200,200,0.3)\\\"]},\\\"show\\\":false},\\\"axisTick\\\":{\\\"show\\\":true,\\\"lineStyle\\\":{\\\"color\\\":\\\"#333\\\"}}},\\\"tooltip\\\":{\\\"axisPointer\\\":{\\\"crossStyle\\\":{\\\"color\\\":\\\"#cccccc\\\",\\\"width\\\":1},\\\"lineStyle\\\":{\\\"color\\\":\\\"#cccccc\\\",\\\"width\\\":1}}},\\\"timeline\\\":{\\\"label\\\":{\\\"normal\\\":{\\\"textStyle\\\":{\\\"color\\\":\\\"#293c55\\\"}},\\\"emphasis\\\":{\\\"textStyle\\\":{\\\"color\\\":\\\"#293c55\\\"}}},\\\"controlStyle\\\":{\\\"normal\\\":{\\\"color\\\":\\\"#293c55\\\",\\\"borderColor\\\":\\\"#293c55\\\",\\\"borderWidth\\\":0.5},\\\"emphasis\\\":{\\\"color\\\":\\\"#293c55\\\",\\\"borderColor\\\":\\\"#293c55\\\",\\\"borderWidth\\\":0.5}},\\\"checkpointStyle\\\":{\\\"color\\\":\\\"#e43c59\\\",\\\"borderColor\\\":\\\"rgba(194,53,49,0.5)\\\"},\\\"itemStyle\\\":{\\\"normal\\\":{\\\"color\\\":\\\"#293c55\\\",\\\"borderWidth\\\":1},\\\"emphasis\\\":{\\\"color\\\":\\\"#a9334c\\\"}},\\\"lineStyle\\\":{\\\"color\\\":\\\"#293c55\\\",\\\"width\\\":1}},\\\"radar\\\":{\\\"symbolSize\\\":4,\\\"itemStyle\\\":{\\\"normal\\\":{\\\"borderWidth\\\":1}},\\\"smooth\\\":false,\\\"symbol\\\":\\\"emptyCircle\\\",\\\"lineStyle\\\":{\\\"normal\\\":{\\\"width\\\":2}}},\\\"logAxis\\\":{\\\"axisLine\\\":{\\\"show\\\":true,\\\"lineStyle\\\":{\\\"color\\\":\\\"#333\\\"}},\\\"axisLabel\\\":{\\\"textStyle\\\":{\\\"color\\\":\\\"#333\\\"},\\\"show\\\":true},\\\"splitLine\\\":{\\\"show\\\":true,\\\"lineStyle\\\":{\\\"color\\\":[\\\"#ccc\\\"]}},\\\"splitArea\\\":{\\\"areaStyle\\\":{\\\"color\\\":[\\\"rgba(250,250,250,0.3)\\\",\\\"rgba(200,200,200,0.3)\\\"]},\\\"show\\\":false},\\\"axisTick\\\":{\\\"show\\\":true,\\\"lineStyle\\\":{\\\"color\\\":\\\"#333\\\"}}},\\\"textStyle\\\":{},\\\"gauge\\\":{\\\"itemStyle\\\":{\\\"normal\\\":{\\\"borderWidth\\\":0,\\\"borderColor\\\":\\\"#ccc\\\"},\\\"emphasis\\\":{\\\"borderWidth\\\":0,\\\"borderColor\\\":\\\"#ccc\\\"}}},\\\"boxplot\\\":{\\\"itemStyle\\\":{\\\"normal\\\":{\\\"borderWidth\\\":0,\\\"borderColor\\\":\\\"#ccc\\\"},\\\"emphasis\\\":{\\\"borderWidth\\\":0,\\\"borderColor\\\":\\\"#ccc\\\"}}},\\\"color\\\":[\\\"#e01f54\\\",\\\"#001852\\\",\\\"#f5e8c8\\\",\\\"#b8d2c7\\\",\\\"#c6b38e\\\",\\\"#a4d8c2\\\",\\\"#f3d999\\\",\\\"#d3758f\\\",\\\"#dcc392\\\",\\\"#2e4783\\\",\\\"#82b6e9\\\",\\\"#ff6347\\\",\\\"#a092f1\\\",\\\"#0a915d\\\",\\\"#eaf889\\\",\\\"#6699FF\\\",\\\"#ff6666\\\",\\\"#3cb371\\\",\\\"#d5b158\\\",\\\"#38b6b6\\\"],\\\"title\\\":{\\\"textStyle\\\":{\\\"color\\\":\\\"#333333\\\"},\\\"subtextStyle\\\":{\\\"color\\\":\\\"#aaaaaa\\\"}},\\\"dataZoom\\\":{\\\"dataBackgroundColor\\\":\\\"rgba(47,69,84,0.3)\\\",\\\"textStyle\\\":{\\\"color\\\":\\\"#333333\\\"},\\\"handleSize\\\":\\\"100%\\\",\\\"handleColor\\\":\\\"#a7b7cc\\\",\\\"fillerColor\\\":\\\"rgba(167,183,204,0.4)\\\",\\\"backgroundColor\\\":\\\"rgba(47,69,84,0)\\\"},\\\"timeAxis\\\":{\\\"axisLine\\\":{\\\"show\\\":true,\\\"lineStyle\\\":{\\\"color\\\":\\\"#333\\\"}},\\\"axisLabel\\\":{\\\"textStyle\\\":{\\\"color\\\":\\\"#333\\\"},\\\"show\\\":true},\\\"splitLine\\\":{\\\"show\\\":true,\\\"lineStyle\\\":{\\\"color\\\":[\\\"#ccc\\\"]}},\\\"splitArea\\\":{\\\"areaStyle\\\":{\\\"color\\\":[\\\"rgba(250,250,250,0.3)\\\",\\\"rgba(200,200,200,0.3)\\\"]},\\\"show\\\":false},\\\"axisTick\\\":{\\\"show\\\":true,\\\"lineStyle\\\":{\\\"color\\\":\\\"#333\\\"}}},\\\"legend\\\":{\\\"textStyle\\\":{\\\"color\\\":\\\"#333333\\\"}}},{\\\"renderer\\\":\\\"canvas\\\"}); myChart.setOption({\\\"xAxis\\\":[{\\\"splitNumber\\\":5,\\\"axisLabel\\\":{\\\"show\\\":true,\\\"interval\\\":\\\"auto\\\",\\\"rotate\\\":0,\\\"inside\\\":false,\\\"formatter\\\":\\\"{value}\\\",\\\"margin\\\":8},\\\"data\\\":[\\\"Monday\\\",\\\"Tuesday\\\",\\\"Wednesday\\\",\\\"Thursday\\\",\\\"Friday\\\",\\\"Saturday\\\",\\\"Sunday\\\"],\\\"scale\\\":false,\\\"gridIndex\\\":0,\\\"minInterval\\\":0,\\\"zlevel\\\":0,\\\"triggerEvent\\\":false,\\\"z\\\":0,\\\"inverse\\\":false,\\\"nameLocation\\\":\\\"middle\\\",\\\"nameGap\\\":30,\\\"silent\\\":true,\\\"type\\\":\\\"category\\\"}],\\\"ec_charttype\\\":\\\"xy plot\\\",\\\"series\\\":[{\\\"name\\\":\\\"Series 1\\\",\\\"yAxisIndex\\\":0,\\\"xAxisIndex\\\":0,\\\"smooth\\\":false,\\\"data\\\":[11,11,15,13,12,13,10],\\\"markLine\\\":{\\\"data\\\":[],\\\"lineStyle\\\":{}},\\\"type\\\":\\\"bar\\\"}],\\\"theme\\\":{\\\"geo\\\":{\\\"label\\\":{\\\"normal\\\":{\\\"textStyle\\\":{\\\"color\\\":\\\"#000000\\\"}},\\\"emphasis\\\":{\\\"textStyle\\\":{\\\"color\\\":\\\"rgb(100,0,0)\\\"}}},\\\"itemStyle\\\":{\\\"normal\\\":{\\\"borderColor\\\":\\\"#444444\\\",\\\"borderWidth\\\":0.5,\\\"areaColor\\\":\\\"#eeeeee\\\"},\\\"emphasis\\\":{\\\"borderColor\\\":\\\"#444444\\\",\\\"borderWidth\\\":1,\\\"areaColor\\\":\\\"rgba(255,215,0,0.8)\\\"}}},\\\"parallel\\\":{\\\"itemStyle\\\":{\\\"normal\\\":{\\\"borderWidth\\\":0,\\\"borderColor\\\":\\\"#ccc\\\"},\\\"emphasis\\\":{\\\"borderWidth\\\":0,\\\"borderColor\\\":\\\"#ccc\\\"}}},\\\"markPoint\\\":{\\\"label\\\":{\\\"normal\\\":{\\\"textStyle\\\":{\\\"color\\\":\\\"#eeeeee\\\"}},\\\"emphasis\\\":{\\\"textStyle\\\":{\\\"color\\\":\\\"#eeeeee\\\"}}}},\\\"visualMap\\\":{\\\"color\\\":[\\\"#e01f54\\\",\\\"#e7dbc3\\\"]},\\\"funnel\\\":{\\\"itemStyle\\\":{\\\"normal\\\":{\\\"borderWidth\\\":0,\\\"borderColor\\\":\\\"#ccc\\\"},\\\"emphasis\\\":{\\\"borderWidth\\\":0,\\\"borderColor\\\":\\\"#ccc\\\"}}},\\\"bar\\\":{\\\"itemStyle\\\":{\\\"normal\\\":{\\\"barBorderColor\\\":\\\"#ccc\\\",\\\"barBorderWidth\\\":0},\\\"emphasis\\\":{\\\"barBorderColor\\\":\\\"#ccc\\\",\\\"barBorderWidth\\\":0}}},\\\"map\\\":{\\\"label\\\":{\\\"normal\\\":{\\\"textStyle\\\":{\\\"color\\\":\\\"#000000\\\"}},\\\"emphasis\\\":{\\\"textStyle\\\":{\\\"color\\\":\\\"rgb(100,0,0)\\\"}}},\\\"itemStyle\\\":{\\\"normal\\\":{\\\"borderColor\\\":\\\"#444444\\\",\\\"borderWidth\\\":0.5,\\\"areaColor\\\":\\\"#eeeeee\\\"},\\\"emphasis\\\":{\\\"borderColor\\\":\\\"#444444\\\",\\\"borderWidth\\\":1,\\\"areaColor\\\":\\\"rgba(255,215,0,0.8)\\\"}}},\\\"scatter\\\":{\\\"itemStyle\\\":{\\\"normal\\\":{\\\"borderWidth\\\":0,\\\"borderColor\\\":\\\"#ccc\\\"},\\\"emphasis\\\":{\\\"borderWidth\\\":0,\\\"borderColor\\\":\\\"#ccc\\\"}}},\\\"pie\\\":{\\\"itemStyle\\\":{\\\"normal\\\":{\\\"borderWidth\\\":0,\\\"borderColor\\\":\\\"#ccc\\\"},\\\"emphasis\\\":{\\\"borderWidth\\\":0,\\\"borderColor\\\":\\\"#ccc\\\"}}},\\\"graph\\\":{\\\"label\\\":{\\\"normal\\\":{\\\"textStyle\\\":{\\\"color\\\":\\\"#eeeeee\\\"}}},\\\"symbolSize\\\":4,\\\"itemStyle\\\":{\\\"normal\\\":{\\\"borderWidth\\\":0,\\\"borderColor\\\":\\\"#ccc\\\"}},\\\"smooth\\\":false,\\\"symbol\\\":\\\"emptyCircle\\\",\\\"color\\\":[\\\"#e01f54\\\",\\\"#001852\\\",\\\"#f5e8c8\\\",\\\"#b8d2c7\\\",\\\"#c6b38e\\\",\\\"#a4d8c2\\\",\\\"#f3d999\\\",\\\"#d3758f\\\",\\\"#dcc392\\\",\\\"#2e4783\\\",\\\"#82b6e9\\\",\\\"#ff6347\\\",\\\"#a092f1\\\",\\\"#0a915d\\\",\\\"#eaf889\\\",\\\"#6699FF\\\",\\\"#ff6666\\\",\\\"#3cb371\\\",\\\"#d5b158\\\",\\\"#38b6b6\\\"],\\\"lineStyle\\\":{\\\"normal\\\":{\\\"color\\\":\\\"#aaaaaa\\\",\\\"width\\\":1}}},\\\"backgroundColor\\\":\\\"rgba(0,0,0,0)\\\",\\\"line\\\":{\\\"symbolSize\\\":4,\\\"itemStyle\\\":{\\\"normal\\\":{\\\"borderWidth\\\":1}},\\\"smooth\\\":false,\\\"symbol\\\":\\\"emptyCircle\\\",\\\"lineStyle\\\":{\\\"normal\\\":{\\\"width\\\":2}}},\\\"candlestick\\\":{\\\"itemStyle\\\":{\\\"normal\\\":{\\\"borderColor0\\\":\\\"#b8d2c7\\\",\\\"color\\\":\\\"#e01f54\\\",\\\"borderColor\\\":\\\"#f5e8c8\\\",\\\"borderWidth\\\":1,\\\"color0\\\":\\\"#001852\\\"}}},\\\"sankey\\\":{\\\"itemStyle\\\":{\\\"normal\\\":{\\\"borderWidth\\\":0,\\\"borderColor\\\":\\\"#ccc\\\"},\\\"emphasis\\\":{\\\"borderWidth\\\":0,\\\"borderColor\\\":\\\"#ccc\\\"}}},\\\"valueAxis\\\":{\\\"axisLine\\\":{\\\"show\\\":true,\\\"lineStyle\\\":{\\\"color\\\":\\\"#333\\\"}},\\\"axisLabel\\\":{\\\"textStyle\\\":{\\\"color\\\":\\\"#333\\\"},\\\"show\\\":true},\\\"splitLine\\\":{\\\"show\\\":true,\\\"lineStyle\\\":{\\\"color\\\":[\\\"#ccc\\\"]}},\\\"splitArea\\\":{\\\"areaStyle\\\":{\\\"color\\\":[\\\"rgba(250,250,250,0.3)\\\",\\\"rgba(200,200,200,0.3)\\\"]},\\\"show\\\":false},\\\"axisTick\\\":{\\\"show\\\":true,\\\"lineStyle\\\":{\\\"color\\\":\\\"#333\\\"}}},\\\"toolbox\\\":{\\\"iconStyle\\\":{\\\"normal\\\":{\\\"borderColor\\\":\\\"#999999\\\"},\\\"emphasis\\\":{\\\"borderColor\\\":\\\"#666666\\\"}}},\\\"categoryAxis\\\":{\\\"axisLine\\\":{\\\"show\\\":true,\\\"lineStyle\\\":{\\\"color\\\":\\\"#333\\\"}},\\\"axisLabel\\\":{\\\"textStyle\\\":{\\\"color\\\":\\\"#333\\\"},\\\"show\\\":true},\\\"splitLine\\\":{\\\"show\\\":false,\\\"lineStyle\\\":{\\\"color\\\":[\\\"#ccc\\\"]}},\\\"splitArea\\\":{\\\"areaStyle\\\":{\\\"color\\\":[\\\"rgba(250,250,250,0.3)\\\",\\\"rgba(200,200,200,0.3)\\\"]},\\\"show\\\":false},\\\"axisTick\\\":{\\\"show\\\":true,\\\"lineStyle\\\":{\\\"color\\\":\\\"#333\\\"}}},\\\"tooltip\\\":{\\\"axisPointer\\\":{\\\"crossStyle\\\":{\\\"color\\\":\\\"#cccccc\\\",\\\"width\\\":1},\\\"lineStyle\\\":{\\\"color\\\":\\\"#cccccc\\\",\\\"width\\\":1}}},\\\"timeline\\\":{\\\"label\\\":{\\\"normal\\\":{\\\"textStyle\\\":{\\\"color\\\":\\\"#293c55\\\"}},\\\"emphasis\\\":{\\\"textStyle\\\":{\\\"color\\\":\\\"#293c55\\\"}}},\\\"controlStyle\\\":{\\\"normal\\\":{\\\"color\\\":\\\"#293c55\\\",\\\"borderColor\\\":\\\"#293c55\\\",\\\"borderWidth\\\":0.5},\\\"emphasis\\\":{\\\"color\\\":\\\"#293c55\\\",\\\"borderColor\\\":\\\"#293c55\\\",\\\"borderWidth\\\":0.5}},\\\"checkpointStyle\\\":{\\\"color\\\":\\\"#e43c59\\\",\\\"borderColor\\\":\\\"rgba(194,53,49,0.5)\\\"},\\\"itemStyle\\\":{\\\"normal\\\":{\\\"color\\\":\\\"#293c55\\\",\\\"borderWidth\\\":1},\\\"emphasis\\\":{\\\"color\\\":\\\"#a9334c\\\"}},\\\"lineStyle\\\":{\\\"color\\\":\\\"#293c55\\\",\\\"width\\\":1}},\\\"radar\\\":{\\\"symbolSize\\\":4,\\\"itemStyle\\\":{\\\"normal\\\":{\\\"borderWidth\\\":1}},\\\"smooth\\\":false,\\\"symbol\\\":\\\"emptyCircle\\\",\\\"lineStyle\\\":{\\\"normal\\\":{\\\"width\\\":2}}},\\\"logAxis\\\":{\\\"axisLine\\\":{\\\"show\\\":true,\\\"lineStyle\\\":{\\\"color\\\":\\\"#333\\\"}},\\\"axisLabel\\\":{\\\"textStyle\\\":{\\\"color\\\":\\\"#333\\\"},\\\"show\\\":true},\\\"splitLine\\\":{\\\"show\\\":true,\\\"lineStyle\\\":{\\\"color\\\":[\\\"#ccc\\\"]}},\\\"splitArea\\\":{\\\"areaStyle\\\":{\\\"color\\\":[\\\"rgba(250,250,250,0.3)\\\",\\\"rgba(200,200,200,0.3)\\\"]},\\\"show\\\":false},\\\"axisTick\\\":{\\\"show\\\":true,\\\"lineStyle\\\":{\\\"color\\\":\\\"#333\\\"}}},\\\"textStyle\\\":{},\\\"gauge\\\":{\\\"itemStyle\\\":{\\\"normal\\\":{\\\"borderWidth\\\":0,\\\"borderColor\\\":\\\"#ccc\\\"},\\\"emphasis\\\":{\\\"borderWidth\\\":0,\\\"borderColor\\\":\\\"#ccc\\\"}}},\\\"boxplot\\\":{\\\"itemStyle\\\":{\\\"normal\\\":{\\\"borderWidth\\\":0,\\\"borderColor\\\":\\\"#ccc\\\"},\\\"emphasis\\\":{\\\"borderWidth\\\":0,\\\"borderColor\\\":\\\"#ccc\\\"}}},\\\"color\\\":[\\\"#e01f54\\\",\\\"#001852\\\",\\\"#f5e8c8\\\",\\\"#b8d2c7\\\",\\\"#c6b38e\\\",\\\"#a4d8c2\\\",\\\"#f3d999\\\",\\\"#d3758f\\\",\\\"#dcc392\\\",\\\"#2e4783\\\",\\\"#82b6e9\\\",\\\"#ff6347\\\",\\\"#a092f1\\\",\\\"#0a915d\\\",\\\"#eaf889\\\",\\\"#6699FF\\\",\\\"#ff6666\\\",\\\"#3cb371\\\",\\\"#d5b158\\\",\\\"#38b6b6\\\"],\\\"title\\\":{\\\"textStyle\\\":{\\\"color\\\":\\\"#333333\\\"},\\\"subtextStyle\\\":{\\\"color\\\":\\\"#aaaaaa\\\"}},\\\"dataZoom\\\":{\\\"dataBackgroundColor\\\":\\\"rgba(47,69,84,0.3)\\\",\\\"textStyle\\\":{\\\"color\\\":\\\"#333333\\\"},\\\"handleSize\\\":\\\"100%\\\",\\\"handleColor\\\":\\\"#a7b7cc\\\",\\\"fillerColor\\\":\\\"rgba(167,183,204,0.4)\\\",\\\"backgroundColor\\\":\\\"rgba(47,69,84,0)\\\"},\\\"timeAxis\\\":{\\\"axisLine\\\":{\\\"show\\\":true,\\\"lineStyle\\\":{\\\"color\\\":\\\"#333\\\"}},\\\"axisLabel\\\":{\\\"textStyle\\\":{\\\"color\\\":\\\"#333\\\"},\\\"show\\\":true},\\\"splitLine\\\":{\\\"show\\\":true,\\\"lineStyle\\\":{\\\"color\\\":[\\\"#ccc\\\"]}},\\\"splitArea\\\":{\\\"areaStyle\\\":{\\\"color\\\":[\\\"rgba(250,250,250,0.3)\\\",\\\"rgba(200,200,200,0.3)\\\"]},\\\"show\\\":false},\\\"axisTick\\\":{\\\"show\\\":true,\\\"lineStyle\\\":{\\\"color\\\":\\\"#333\\\"}}},\\\"legend\\\":{\\\"textStyle\\\":{\\\"color\\\":\\\"#333333\\\"}}},\\\"yAxis\\\":[{\\\"splitNumber\\\":5,\\\"axisLabel\\\":{\\\"show\\\":true,\\\"interval\\\":\\\"auto\\\",\\\"rotate\\\":0,\\\"inside\\\":false,\\\"formatter\\\":\\\"{value}\\\",\\\"margin\\\":8},\\\"scale\\\":false,\\\"gridIndex\\\":0,\\\"minInterval\\\":0,\\\"zlevel\\\":0,\\\"triggerEvent\\\":false,\\\"z\\\":0,\\\"inverse\\\":false,\\\"nameLocation\\\":\\\"middle\\\",\\\"nameGap\\\":50,\\\"silent\\\":true,\\\"type\\\":\\\"value\\\"}],\\\"toolbox\\\":{\\\"feature\\\":{},\\\"orient\\\":\\\"vertical\\\",\\\"itemSize\\\":15,\\\"height\\\":\\\"auto\\\",\\\"zlevel\\\":0,\\\"z\\\":2,\\\"itemGap\\\":20,\\\"right\\\":\\\"auto\\\",\\\"top\\\":\\\"center\\\",\\\"width\\\":\\\"auto\\\",\\\"show\\\":false,\\\"showTitle\\\":true},\\\"ec_width\\\":800,\\\"ec_height\\\":400,\\\"tooltip\\\":{\\\"triggerOn\\\":\\\"mousemove\\\",\\\"enterable\\\":true,\\\"borderColor\\\":\\\"#333\\\",\\\"transitionDuration\\\":0.4,\\\"hideDelay\\\":100,\\\"padding\\\":5,\\\"showDelay\\\":0,\\\"borderWidth\\\":0,\\\"showContent\\\":true,\\\"backgroundColor\\\":\\\"rgba(50,50,50,0.7)\\\",\\\"trigger\\\":\\\"item\\\",\\\"alwaysShowContent\\\":false,\\\"confine\\\":false,\\\"show\\\":true},\\\"grid\\\":[{\\\"height\\\":\\\"auto\\\",\\\"show\\\":false,\\\"width\\\":\\\"auto\\\",\\\"backgroundColor\\\":\\\"transparent\\\"}],\\\"aria\\\":{\\\"show\\\":true},\\\"title\\\":[{\\\"left\\\":\\\"left\\\",\\\"borderColor\\\":\\\"transparent\\\",\\\"bottom\\\":\\\"auto\\\",\\\"padding\\\":5,\\\"zlevel\\\":0,\\\"borderWidth\\\":1,\\\"target\\\":\\\"blank\\\",\\\"z\\\":2,\\\"itemGap\\\":5,\\\"shadowOffsetY\\\":0,\\\"shadowOffsetX\\\":0,\\\"right\\\":\\\"auto\\\",\\\"top\\\":\\\"auto\\\",\\\"subtarget\\\":\\\"blank\\\",\\\"show\\\":true}],\\\"ec_renderer\\\":\\\"canvas\\\"}); return window.onresize=(function (){return myChart.resize()})}));\\n    (WebIO.importBlock({\\\"data\\\":[{\\\"name\\\":\\\"echarts\\\",\\\"type\\\":\\\"js\\\",\\\"url\\\":\\\"\\/assetserver\\/f1d6793c792298d474fac6efae738e9d20ff48f2-echarts.min.js\\\"}],\\\"type\\\":\\\"async_block\\\"})).then((imports) => handler.apply(this, imports));\\n}\\n\"],\"observables\":{}},\"children\":[{\"props\":{\"id\":\"myplot\",\"style\":{\"height\":\"400px\",\"width\":\"800px\"}},\"nodeType\":\"DOM\",\"type\":\"node\",\"instanceArgs\":{\"namespace\":\"html\",\"tag\":\"div\"},\"children\":[]}]},\n",
       "        window,\n",
       "    );\n",
       "    })()\n",
       "    </script>\n",
       "</div>\n"
      ],
      "text/plain": [
       "EChart\n",
       "  ec_width: Int64 800\n",
       "  ec_height: Int64 400\n",
       "  ec_renderer: String \"canvas\"\n",
       "  ec_charttype: String \"xy plot\"\n",
       "  theme: Theme\n",
       "  title: Array{Title}((1,))\n",
       "  legend: Nothing nothing\n",
       "  grid: Array{Grid}((1,))\n",
       "  xAxis: Array{Axis}((1,))\n",
       "  yAxis: Array{Axis}((1,))\n",
       "  polar: Nothing nothing\n",
       "  radiusAxis: Nothing nothing\n",
       "  angleAxis: Nothing nothing\n",
       "  radar: Nothing nothing\n",
       "  dataZoom: Nothing nothing\n",
       "  visualMap: Nothing nothing\n",
       "  tooltip: Tooltip\n",
       "  axisPointer: Nothing nothing\n",
       "  toolbox: Toolbox\n",
       "  brush: Nothing nothing\n",
       "  geo: Nothing nothing\n",
       "  parallel: Nothing nothing\n",
       "  parallelAxis: Nothing nothing\n",
       "  singleAxis: Nothing nothing\n",
       "  timeline: Nothing nothing\n",
       "  graphic: Nothing nothing\n",
       "  calendar: Nothing nothing\n",
       "  dataset: Nothing nothing\n",
       "  aria: ECharts.Aria\n",
       "  series: Array{XYSeries}((1,))\n",
       "  color: Nothing nothing\n",
       "  backgroundColor: Nothing nothing\n",
       "  textStyle: Nothing nothing\n",
       "  animation: Nothing nothing\n",
       "  animationThreshold: Nothing nothing\n",
       "  animationDuration: Nothing nothing\n",
       "  animationEasing: Nothing nothing\n",
       "  animationDelay: Nothing nothing\n",
       "  animationDurationUpdate: Nothing nothing\n",
       "  animationEasingUpdate: Nothing nothing\n",
       "  animationDelayUpdate: Nothing nothing\n",
       "  progressive: Nothing nothing\n",
       "  progressiveThreshold: Nothing nothing\n",
       "  blendMode: Nothing nothing\n",
       "  hoverLayerThreshold: Nothing nothing\n",
       "  useUTC: Nothing nothing\n"
      ]
     },
     "execution_count": 4,
     "metadata": {},
     "output_type": "execute_result"
    }
   ],
   "source": [
    "x1 = [\"Monday\",\"Tuesday\",\"Wednesday\",\"Thursday\",\"Friday\",\"Saturday\",\"Sunday\"]\n",
    "x2 = [11, 11, 15, 13, 12, 13, 10]\n",
    "b = bar(x1, x2)"
   ]
  },
  {
   "cell_type": "code",
   "execution_count": 5,
   "metadata": {},
   "outputs": [
    {
     "data": {
      "text/html": [
       "<div\n",
       "    class=\"webio-mountpoint\"\n",
       "    data-webio-mountpoint=\"13834350951349568753\"\n",
       ">\n",
       "    <script>\n",
       "    (function(){\n",
       "    // Some integrations (namely, IJulia/Jupyter) use an alternate render pathway than\n",
       "    // just putting the html on the page. If WebIO isn't defined, then it's pretty likely\n",
       "    // that we're in one of those situations and the integration just isn't installed\n",
       "    // correctly.\n",
       "    if (typeof window.WebIO === \"undefined\") {\n",
       "        document\n",
       "            .querySelector('[data-webio-mountpoint=\"13834350951349568753\"]')\n",
       "            .innerHTML = (\n",
       "                '<div style=\"padding: 1em; background-color: #f8d6da; border: 1px solid #f5c6cb; font-weight: bold;\">' +\n",
       "                '<p><strong>WebIO not detected.</strong></p>' +\n",
       "                '<p>Please read ' +\n",
       "                '<a href=\"https://juliagizmos.github.io/WebIO.jl/latest/troubleshooting/not-detected/\" target=\"_blank\">the troubleshooting guide</a> ' +\n",
       "                'for more information on how to resolve this issue.</p>' +\n",
       "                '<p><a href=\"https://juliagizmos.github.io/WebIO.jl/latest/troubleshooting/not-detected/\" target=\"_blank\">https://juliagizmos.github.io/WebIO.jl/latest/troubleshooting/not-detected/</a></p>' +\n",
       "                '</div>'\n",
       "            );\n",
       "        return;\n",
       "    }\n",
       "    WebIO.mount(\n",
       "        document.querySelector('[data-webio-mountpoint=\"13834350951349568753\"]'),\n",
       "        {\"props\":{},\"nodeType\":\"Scope\",\"type\":\"node\",\"instanceArgs\":{\"imports\":{\"data\":[{\"name\":\"echarts\",\"type\":\"js\",\"url\":\"\\/assetserver\\/f1d6793c792298d474fac6efae738e9d20ff48f2-echarts.min.js\"}],\"type\":\"async_block\"},\"id\":\"5005720975884004780\",\"handlers\":{},\"systemjs_options\":null,\"mount_callbacks\":[\"function () {\\n    var handler = ((function (echarts){var myChart=echarts.init(this.dom.querySelector(\\\"#myplot\\\"),{\\\"geo\\\":{\\\"label\\\":{\\\"normal\\\":{\\\"textStyle\\\":{\\\"color\\\":\\\"#000000\\\"}},\\\"emphasis\\\":{\\\"textStyle\\\":{\\\"color\\\":\\\"rgb(100,0,0)\\\"}}},\\\"itemStyle\\\":{\\\"normal\\\":{\\\"borderColor\\\":\\\"#444444\\\",\\\"borderWidth\\\":0.5,\\\"areaColor\\\":\\\"#eeeeee\\\"},\\\"emphasis\\\":{\\\"borderColor\\\":\\\"#444444\\\",\\\"borderWidth\\\":1,\\\"areaColor\\\":\\\"rgba(255,215,0,0.8)\\\"}}},\\\"parallel\\\":{\\\"itemStyle\\\":{\\\"normal\\\":{\\\"borderWidth\\\":0,\\\"borderColor\\\":\\\"#ccc\\\"},\\\"emphasis\\\":{\\\"borderWidth\\\":0,\\\"borderColor\\\":\\\"#ccc\\\"}}},\\\"markPoint\\\":{\\\"label\\\":{\\\"normal\\\":{\\\"textStyle\\\":{\\\"color\\\":\\\"#eeeeee\\\"}},\\\"emphasis\\\":{\\\"textStyle\\\":{\\\"color\\\":\\\"#eeeeee\\\"}}}},\\\"visualMap\\\":{\\\"color\\\":[\\\"#e01f54\\\",\\\"#e7dbc3\\\"]},\\\"funnel\\\":{\\\"itemStyle\\\":{\\\"normal\\\":{\\\"borderWidth\\\":0,\\\"borderColor\\\":\\\"#ccc\\\"},\\\"emphasis\\\":{\\\"borderWidth\\\":0,\\\"borderColor\\\":\\\"#ccc\\\"}}},\\\"bar\\\":{\\\"itemStyle\\\":{\\\"normal\\\":{\\\"barBorderColor\\\":\\\"#ccc\\\",\\\"barBorderWidth\\\":0},\\\"emphasis\\\":{\\\"barBorderColor\\\":\\\"#ccc\\\",\\\"barBorderWidth\\\":0}}},\\\"map\\\":{\\\"label\\\":{\\\"normal\\\":{\\\"textStyle\\\":{\\\"color\\\":\\\"#000000\\\"}},\\\"emphasis\\\":{\\\"textStyle\\\":{\\\"color\\\":\\\"rgb(100,0,0)\\\"}}},\\\"itemStyle\\\":{\\\"normal\\\":{\\\"borderColor\\\":\\\"#444444\\\",\\\"borderWidth\\\":0.5,\\\"areaColor\\\":\\\"#eeeeee\\\"},\\\"emphasis\\\":{\\\"borderColor\\\":\\\"#444444\\\",\\\"borderWidth\\\":1,\\\"areaColor\\\":\\\"rgba(255,215,0,0.8)\\\"}}},\\\"scatter\\\":{\\\"itemStyle\\\":{\\\"normal\\\":{\\\"borderWidth\\\":0,\\\"borderColor\\\":\\\"#ccc\\\"},\\\"emphasis\\\":{\\\"borderWidth\\\":0,\\\"borderColor\\\":\\\"#ccc\\\"}}},\\\"pie\\\":{\\\"itemStyle\\\":{\\\"normal\\\":{\\\"borderWidth\\\":0,\\\"borderColor\\\":\\\"#ccc\\\"},\\\"emphasis\\\":{\\\"borderWidth\\\":0,\\\"borderColor\\\":\\\"#ccc\\\"}}},\\\"graph\\\":{\\\"label\\\":{\\\"normal\\\":{\\\"textStyle\\\":{\\\"color\\\":\\\"#eeeeee\\\"}}},\\\"symbolSize\\\":4,\\\"itemStyle\\\":{\\\"normal\\\":{\\\"borderWidth\\\":0,\\\"borderColor\\\":\\\"#ccc\\\"}},\\\"smooth\\\":false,\\\"symbol\\\":\\\"emptyCircle\\\",\\\"color\\\":[\\\"#e01f54\\\",\\\"#001852\\\",\\\"#f5e8c8\\\",\\\"#b8d2c7\\\",\\\"#c6b38e\\\",\\\"#a4d8c2\\\",\\\"#f3d999\\\",\\\"#d3758f\\\",\\\"#dcc392\\\",\\\"#2e4783\\\",\\\"#82b6e9\\\",\\\"#ff6347\\\",\\\"#a092f1\\\",\\\"#0a915d\\\",\\\"#eaf889\\\",\\\"#6699FF\\\",\\\"#ff6666\\\",\\\"#3cb371\\\",\\\"#d5b158\\\",\\\"#38b6b6\\\"],\\\"lineStyle\\\":{\\\"normal\\\":{\\\"color\\\":\\\"#aaaaaa\\\",\\\"width\\\":1}}},\\\"backgroundColor\\\":\\\"rgba(0,0,0,0)\\\",\\\"line\\\":{\\\"symbolSize\\\":4,\\\"itemStyle\\\":{\\\"normal\\\":{\\\"borderWidth\\\":1}},\\\"smooth\\\":false,\\\"symbol\\\":\\\"emptyCircle\\\",\\\"lineStyle\\\":{\\\"normal\\\":{\\\"width\\\":2}}},\\\"candlestick\\\":{\\\"itemStyle\\\":{\\\"normal\\\":{\\\"borderColor0\\\":\\\"#b8d2c7\\\",\\\"color\\\":\\\"#e01f54\\\",\\\"borderColor\\\":\\\"#f5e8c8\\\",\\\"borderWidth\\\":1,\\\"color0\\\":\\\"#001852\\\"}}},\\\"sankey\\\":{\\\"itemStyle\\\":{\\\"normal\\\":{\\\"borderWidth\\\":0,\\\"borderColor\\\":\\\"#ccc\\\"},\\\"emphasis\\\":{\\\"borderWidth\\\":0,\\\"borderColor\\\":\\\"#ccc\\\"}}},\\\"valueAxis\\\":{\\\"axisLine\\\":{\\\"show\\\":true,\\\"lineStyle\\\":{\\\"color\\\":\\\"#333\\\"}},\\\"axisLabel\\\":{\\\"textStyle\\\":{\\\"color\\\":\\\"#333\\\"},\\\"show\\\":true},\\\"splitLine\\\":{\\\"show\\\":true,\\\"lineStyle\\\":{\\\"color\\\":[\\\"#ccc\\\"]}},\\\"splitArea\\\":{\\\"areaStyle\\\":{\\\"color\\\":[\\\"rgba(250,250,250,0.3)\\\",\\\"rgba(200,200,200,0.3)\\\"]},\\\"show\\\":false},\\\"axisTick\\\":{\\\"show\\\":true,\\\"lineStyle\\\":{\\\"color\\\":\\\"#333\\\"}}},\\\"toolbox\\\":{\\\"iconStyle\\\":{\\\"normal\\\":{\\\"borderColor\\\":\\\"#999999\\\"},\\\"emphasis\\\":{\\\"borderColor\\\":\\\"#666666\\\"}}},\\\"categoryAxis\\\":{\\\"axisLine\\\":{\\\"show\\\":true,\\\"lineStyle\\\":{\\\"color\\\":\\\"#333\\\"}},\\\"axisLabel\\\":{\\\"textStyle\\\":{\\\"color\\\":\\\"#333\\\"},\\\"show\\\":true},\\\"splitLine\\\":{\\\"show\\\":false,\\\"lineStyle\\\":{\\\"color\\\":[\\\"#ccc\\\"]}},\\\"splitArea\\\":{\\\"areaStyle\\\":{\\\"color\\\":[\\\"rgba(250,250,250,0.3)\\\",\\\"rgba(200,200,200,0.3)\\\"]},\\\"show\\\":false},\\\"axisTick\\\":{\\\"show\\\":true,\\\"lineStyle\\\":{\\\"color\\\":\\\"#333\\\"}}},\\\"tooltip\\\":{\\\"axisPointer\\\":{\\\"crossStyle\\\":{\\\"color\\\":\\\"#cccccc\\\",\\\"width\\\":1},\\\"lineStyle\\\":{\\\"color\\\":\\\"#cccccc\\\",\\\"width\\\":1}}},\\\"timeline\\\":{\\\"label\\\":{\\\"normal\\\":{\\\"textStyle\\\":{\\\"color\\\":\\\"#293c55\\\"}},\\\"emphasis\\\":{\\\"textStyle\\\":{\\\"color\\\":\\\"#293c55\\\"}}},\\\"controlStyle\\\":{\\\"normal\\\":{\\\"color\\\":\\\"#293c55\\\",\\\"borderColor\\\":\\\"#293c55\\\",\\\"borderWidth\\\":0.5},\\\"emphasis\\\":{\\\"color\\\":\\\"#293c55\\\",\\\"borderColor\\\":\\\"#293c55\\\",\\\"borderWidth\\\":0.5}},\\\"checkpointStyle\\\":{\\\"color\\\":\\\"#e43c59\\\",\\\"borderColor\\\":\\\"rgba(194,53,49,0.5)\\\"},\\\"itemStyle\\\":{\\\"normal\\\":{\\\"color\\\":\\\"#293c55\\\",\\\"borderWidth\\\":1},\\\"emphasis\\\":{\\\"color\\\":\\\"#a9334c\\\"}},\\\"lineStyle\\\":{\\\"color\\\":\\\"#293c55\\\",\\\"width\\\":1}},\\\"radar\\\":{\\\"symbolSize\\\":4,\\\"itemStyle\\\":{\\\"normal\\\":{\\\"borderWidth\\\":1}},\\\"smooth\\\":false,\\\"symbol\\\":\\\"emptyCircle\\\",\\\"lineStyle\\\":{\\\"normal\\\":{\\\"width\\\":2}}},\\\"logAxis\\\":{\\\"axisLine\\\":{\\\"show\\\":true,\\\"lineStyle\\\":{\\\"color\\\":\\\"#333\\\"}},\\\"axisLabel\\\":{\\\"textStyle\\\":{\\\"color\\\":\\\"#333\\\"},\\\"show\\\":true},\\\"splitLine\\\":{\\\"show\\\":true,\\\"lineStyle\\\":{\\\"color\\\":[\\\"#ccc\\\"]}},\\\"splitArea\\\":{\\\"areaStyle\\\":{\\\"color\\\":[\\\"rgba(250,250,250,0.3)\\\",\\\"rgba(200,200,200,0.3)\\\"]},\\\"show\\\":false},\\\"axisTick\\\":{\\\"show\\\":true,\\\"lineStyle\\\":{\\\"color\\\":\\\"#333\\\"}}},\\\"textStyle\\\":{},\\\"gauge\\\":{\\\"itemStyle\\\":{\\\"normal\\\":{\\\"borderWidth\\\":0,\\\"borderColor\\\":\\\"#ccc\\\"},\\\"emphasis\\\":{\\\"borderWidth\\\":0,\\\"borderColor\\\":\\\"#ccc\\\"}}},\\\"boxplot\\\":{\\\"itemStyle\\\":{\\\"normal\\\":{\\\"borderWidth\\\":0,\\\"borderColor\\\":\\\"#ccc\\\"},\\\"emphasis\\\":{\\\"borderWidth\\\":0,\\\"borderColor\\\":\\\"#ccc\\\"}}},\\\"color\\\":[\\\"#e01f54\\\",\\\"#001852\\\",\\\"#f5e8c8\\\",\\\"#b8d2c7\\\",\\\"#c6b38e\\\",\\\"#a4d8c2\\\",\\\"#f3d999\\\",\\\"#d3758f\\\",\\\"#dcc392\\\",\\\"#2e4783\\\",\\\"#82b6e9\\\",\\\"#ff6347\\\",\\\"#a092f1\\\",\\\"#0a915d\\\",\\\"#eaf889\\\",\\\"#6699FF\\\",\\\"#ff6666\\\",\\\"#3cb371\\\",\\\"#d5b158\\\",\\\"#38b6b6\\\"],\\\"title\\\":{\\\"textStyle\\\":{\\\"color\\\":\\\"#333333\\\"},\\\"subtextStyle\\\":{\\\"color\\\":\\\"#aaaaaa\\\"}},\\\"dataZoom\\\":{\\\"dataBackgroundColor\\\":\\\"rgba(47,69,84,0.3)\\\",\\\"textStyle\\\":{\\\"color\\\":\\\"#333333\\\"},\\\"handleSize\\\":\\\"100%\\\",\\\"handleColor\\\":\\\"#a7b7cc\\\",\\\"fillerColor\\\":\\\"rgba(167,183,204,0.4)\\\",\\\"backgroundColor\\\":\\\"rgba(47,69,84,0)\\\"},\\\"timeAxis\\\":{\\\"axisLine\\\":{\\\"show\\\":true,\\\"lineStyle\\\":{\\\"color\\\":\\\"#333\\\"}},\\\"axisLabel\\\":{\\\"textStyle\\\":{\\\"color\\\":\\\"#333\\\"},\\\"show\\\":true},\\\"splitLine\\\":{\\\"show\\\":true,\\\"lineStyle\\\":{\\\"color\\\":[\\\"#ccc\\\"]}},\\\"splitArea\\\":{\\\"areaStyle\\\":{\\\"color\\\":[\\\"rgba(250,250,250,0.3)\\\",\\\"rgba(200,200,200,0.3)\\\"]},\\\"show\\\":false},\\\"axisTick\\\":{\\\"show\\\":true,\\\"lineStyle\\\":{\\\"color\\\":\\\"#333\\\"}}},\\\"legend\\\":{\\\"textStyle\\\":{\\\"color\\\":\\\"#333333\\\"}}},{\\\"renderer\\\":\\\"canvas\\\"}); myChart.setOption({\\\"xAxis\\\":[{\\\"splitNumber\\\":5,\\\"axisLabel\\\":{\\\"show\\\":true,\\\"interval\\\":\\\"auto\\\",\\\"rotate\\\":0,\\\"inside\\\":false,\\\"formatter\\\":\\\"{value}\\\",\\\"margin\\\":8},\\\"scale\\\":false,\\\"gridIndex\\\":0,\\\"minInterval\\\":0,\\\"zlevel\\\":0,\\\"triggerEvent\\\":false,\\\"z\\\":0,\\\"inverse\\\":false,\\\"nameLocation\\\":\\\"middle\\\",\\\"nameGap\\\":50,\\\"silent\\\":true,\\\"type\\\":\\\"value\\\"}],\\\"ec_charttype\\\":\\\"xy plot\\\",\\\"series\\\":[{\\\"name\\\":\\\"Series 1\\\",\\\"yAxisIndex\\\":0,\\\"xAxisIndex\\\":0,\\\"smooth\\\":false,\\\"data\\\":[11,11,15,13,12,13,10],\\\"markLine\\\":{\\\"data\\\":[],\\\"lineStyle\\\":{}},\\\"type\\\":\\\"bar\\\"}],\\\"theme\\\":{\\\"geo\\\":{\\\"label\\\":{\\\"normal\\\":{\\\"textStyle\\\":{\\\"color\\\":\\\"#000000\\\"}},\\\"emphasis\\\":{\\\"textStyle\\\":{\\\"color\\\":\\\"rgb(100,0,0)\\\"}}},\\\"itemStyle\\\":{\\\"normal\\\":{\\\"borderColor\\\":\\\"#444444\\\",\\\"borderWidth\\\":0.5,\\\"areaColor\\\":\\\"#eeeeee\\\"},\\\"emphasis\\\":{\\\"borderColor\\\":\\\"#444444\\\",\\\"borderWidth\\\":1,\\\"areaColor\\\":\\\"rgba(255,215,0,0.8)\\\"}}},\\\"parallel\\\":{\\\"itemStyle\\\":{\\\"normal\\\":{\\\"borderWidth\\\":0,\\\"borderColor\\\":\\\"#ccc\\\"},\\\"emphasis\\\":{\\\"borderWidth\\\":0,\\\"borderColor\\\":\\\"#ccc\\\"}}},\\\"markPoint\\\":{\\\"label\\\":{\\\"normal\\\":{\\\"textStyle\\\":{\\\"color\\\":\\\"#eeeeee\\\"}},\\\"emphasis\\\":{\\\"textStyle\\\":{\\\"color\\\":\\\"#eeeeee\\\"}}}},\\\"visualMap\\\":{\\\"color\\\":[\\\"#e01f54\\\",\\\"#e7dbc3\\\"]},\\\"funnel\\\":{\\\"itemStyle\\\":{\\\"normal\\\":{\\\"borderWidth\\\":0,\\\"borderColor\\\":\\\"#ccc\\\"},\\\"emphasis\\\":{\\\"borderWidth\\\":0,\\\"borderColor\\\":\\\"#ccc\\\"}}},\\\"bar\\\":{\\\"itemStyle\\\":{\\\"normal\\\":{\\\"barBorderColor\\\":\\\"#ccc\\\",\\\"barBorderWidth\\\":0},\\\"emphasis\\\":{\\\"barBorderColor\\\":\\\"#ccc\\\",\\\"barBorderWidth\\\":0}}},\\\"map\\\":{\\\"label\\\":{\\\"normal\\\":{\\\"textStyle\\\":{\\\"color\\\":\\\"#000000\\\"}},\\\"emphasis\\\":{\\\"textStyle\\\":{\\\"color\\\":\\\"rgb(100,0,0)\\\"}}},\\\"itemStyle\\\":{\\\"normal\\\":{\\\"borderColor\\\":\\\"#444444\\\",\\\"borderWidth\\\":0.5,\\\"areaColor\\\":\\\"#eeeeee\\\"},\\\"emphasis\\\":{\\\"borderColor\\\":\\\"#444444\\\",\\\"borderWidth\\\":1,\\\"areaColor\\\":\\\"rgba(255,215,0,0.8)\\\"}}},\\\"scatter\\\":{\\\"itemStyle\\\":{\\\"normal\\\":{\\\"borderWidth\\\":0,\\\"borderColor\\\":\\\"#ccc\\\"},\\\"emphasis\\\":{\\\"borderWidth\\\":0,\\\"borderColor\\\":\\\"#ccc\\\"}}},\\\"pie\\\":{\\\"itemStyle\\\":{\\\"normal\\\":{\\\"borderWidth\\\":0,\\\"borderColor\\\":\\\"#ccc\\\"},\\\"emphasis\\\":{\\\"borderWidth\\\":0,\\\"borderColor\\\":\\\"#ccc\\\"}}},\\\"graph\\\":{\\\"label\\\":{\\\"normal\\\":{\\\"textStyle\\\":{\\\"color\\\":\\\"#eeeeee\\\"}}},\\\"symbolSize\\\":4,\\\"itemStyle\\\":{\\\"normal\\\":{\\\"borderWidth\\\":0,\\\"borderColor\\\":\\\"#ccc\\\"}},\\\"smooth\\\":false,\\\"symbol\\\":\\\"emptyCircle\\\",\\\"color\\\":[\\\"#e01f54\\\",\\\"#001852\\\",\\\"#f5e8c8\\\",\\\"#b8d2c7\\\",\\\"#c6b38e\\\",\\\"#a4d8c2\\\",\\\"#f3d999\\\",\\\"#d3758f\\\",\\\"#dcc392\\\",\\\"#2e4783\\\",\\\"#82b6e9\\\",\\\"#ff6347\\\",\\\"#a092f1\\\",\\\"#0a915d\\\",\\\"#eaf889\\\",\\\"#6699FF\\\",\\\"#ff6666\\\",\\\"#3cb371\\\",\\\"#d5b158\\\",\\\"#38b6b6\\\"],\\\"lineStyle\\\":{\\\"normal\\\":{\\\"color\\\":\\\"#aaaaaa\\\",\\\"width\\\":1}}},\\\"backgroundColor\\\":\\\"rgba(0,0,0,0)\\\",\\\"line\\\":{\\\"symbolSize\\\":4,\\\"itemStyle\\\":{\\\"normal\\\":{\\\"borderWidth\\\":1}},\\\"smooth\\\":false,\\\"symbol\\\":\\\"emptyCircle\\\",\\\"lineStyle\\\":{\\\"normal\\\":{\\\"width\\\":2}}},\\\"candlestick\\\":{\\\"itemStyle\\\":{\\\"normal\\\":{\\\"borderColor0\\\":\\\"#b8d2c7\\\",\\\"color\\\":\\\"#e01f54\\\",\\\"borderColor\\\":\\\"#f5e8c8\\\",\\\"borderWidth\\\":1,\\\"color0\\\":\\\"#001852\\\"}}},\\\"sankey\\\":{\\\"itemStyle\\\":{\\\"normal\\\":{\\\"borderWidth\\\":0,\\\"borderColor\\\":\\\"#ccc\\\"},\\\"emphasis\\\":{\\\"borderWidth\\\":0,\\\"borderColor\\\":\\\"#ccc\\\"}}},\\\"valueAxis\\\":{\\\"axisLine\\\":{\\\"show\\\":true,\\\"lineStyle\\\":{\\\"color\\\":\\\"#333\\\"}},\\\"axisLabel\\\":{\\\"textStyle\\\":{\\\"color\\\":\\\"#333\\\"},\\\"show\\\":true},\\\"splitLine\\\":{\\\"show\\\":true,\\\"lineStyle\\\":{\\\"color\\\":[\\\"#ccc\\\"]}},\\\"splitArea\\\":{\\\"areaStyle\\\":{\\\"color\\\":[\\\"rgba(250,250,250,0.3)\\\",\\\"rgba(200,200,200,0.3)\\\"]},\\\"show\\\":false},\\\"axisTick\\\":{\\\"show\\\":true,\\\"lineStyle\\\":{\\\"color\\\":\\\"#333\\\"}}},\\\"toolbox\\\":{\\\"iconStyle\\\":{\\\"normal\\\":{\\\"borderColor\\\":\\\"#999999\\\"},\\\"emphasis\\\":{\\\"borderColor\\\":\\\"#666666\\\"}}},\\\"categoryAxis\\\":{\\\"axisLine\\\":{\\\"show\\\":true,\\\"lineStyle\\\":{\\\"color\\\":\\\"#333\\\"}},\\\"axisLabel\\\":{\\\"textStyle\\\":{\\\"color\\\":\\\"#333\\\"},\\\"show\\\":true},\\\"splitLine\\\":{\\\"show\\\":false,\\\"lineStyle\\\":{\\\"color\\\":[\\\"#ccc\\\"]}},\\\"splitArea\\\":{\\\"areaStyle\\\":{\\\"color\\\":[\\\"rgba(250,250,250,0.3)\\\",\\\"rgba(200,200,200,0.3)\\\"]},\\\"show\\\":false},\\\"axisTick\\\":{\\\"show\\\":true,\\\"lineStyle\\\":{\\\"color\\\":\\\"#333\\\"}}},\\\"tooltip\\\":{\\\"axisPointer\\\":{\\\"crossStyle\\\":{\\\"color\\\":\\\"#cccccc\\\",\\\"width\\\":1},\\\"lineStyle\\\":{\\\"color\\\":\\\"#cccccc\\\",\\\"width\\\":1}}},\\\"timeline\\\":{\\\"label\\\":{\\\"normal\\\":{\\\"textStyle\\\":{\\\"color\\\":\\\"#293c55\\\"}},\\\"emphasis\\\":{\\\"textStyle\\\":{\\\"color\\\":\\\"#293c55\\\"}}},\\\"controlStyle\\\":{\\\"normal\\\":{\\\"color\\\":\\\"#293c55\\\",\\\"borderColor\\\":\\\"#293c55\\\",\\\"borderWidth\\\":0.5},\\\"emphasis\\\":{\\\"color\\\":\\\"#293c55\\\",\\\"borderColor\\\":\\\"#293c55\\\",\\\"borderWidth\\\":0.5}},\\\"checkpointStyle\\\":{\\\"color\\\":\\\"#e43c59\\\",\\\"borderColor\\\":\\\"rgba(194,53,49,0.5)\\\"},\\\"itemStyle\\\":{\\\"normal\\\":{\\\"color\\\":\\\"#293c55\\\",\\\"borderWidth\\\":1},\\\"emphasis\\\":{\\\"color\\\":\\\"#a9334c\\\"}},\\\"lineStyle\\\":{\\\"color\\\":\\\"#293c55\\\",\\\"width\\\":1}},\\\"radar\\\":{\\\"symbolSize\\\":4,\\\"itemStyle\\\":{\\\"normal\\\":{\\\"borderWidth\\\":1}},\\\"smooth\\\":false,\\\"symbol\\\":\\\"emptyCircle\\\",\\\"lineStyle\\\":{\\\"normal\\\":{\\\"width\\\":2}}},\\\"logAxis\\\":{\\\"axisLine\\\":{\\\"show\\\":true,\\\"lineStyle\\\":{\\\"color\\\":\\\"#333\\\"}},\\\"axisLabel\\\":{\\\"textStyle\\\":{\\\"color\\\":\\\"#333\\\"},\\\"show\\\":true},\\\"splitLine\\\":{\\\"show\\\":true,\\\"lineStyle\\\":{\\\"color\\\":[\\\"#ccc\\\"]}},\\\"splitArea\\\":{\\\"areaStyle\\\":{\\\"color\\\":[\\\"rgba(250,250,250,0.3)\\\",\\\"rgba(200,200,200,0.3)\\\"]},\\\"show\\\":false},\\\"axisTick\\\":{\\\"show\\\":true,\\\"lineStyle\\\":{\\\"color\\\":\\\"#333\\\"}}},\\\"textStyle\\\":{},\\\"gauge\\\":{\\\"itemStyle\\\":{\\\"normal\\\":{\\\"borderWidth\\\":0,\\\"borderColor\\\":\\\"#ccc\\\"},\\\"emphasis\\\":{\\\"borderWidth\\\":0,\\\"borderColor\\\":\\\"#ccc\\\"}}},\\\"boxplot\\\":{\\\"itemStyle\\\":{\\\"normal\\\":{\\\"borderWidth\\\":0,\\\"borderColor\\\":\\\"#ccc\\\"},\\\"emphasis\\\":{\\\"borderWidth\\\":0,\\\"borderColor\\\":\\\"#ccc\\\"}}},\\\"color\\\":[\\\"#e01f54\\\",\\\"#001852\\\",\\\"#f5e8c8\\\",\\\"#b8d2c7\\\",\\\"#c6b38e\\\",\\\"#a4d8c2\\\",\\\"#f3d999\\\",\\\"#d3758f\\\",\\\"#dcc392\\\",\\\"#2e4783\\\",\\\"#82b6e9\\\",\\\"#ff6347\\\",\\\"#a092f1\\\",\\\"#0a915d\\\",\\\"#eaf889\\\",\\\"#6699FF\\\",\\\"#ff6666\\\",\\\"#3cb371\\\",\\\"#d5b158\\\",\\\"#38b6b6\\\"],\\\"title\\\":{\\\"textStyle\\\":{\\\"color\\\":\\\"#333333\\\"},\\\"subtextStyle\\\":{\\\"color\\\":\\\"#aaaaaa\\\"}},\\\"dataZoom\\\":{\\\"dataBackgroundColor\\\":\\\"rgba(47,69,84,0.3)\\\",\\\"textStyle\\\":{\\\"color\\\":\\\"#333333\\\"},\\\"handleSize\\\":\\\"100%\\\",\\\"handleColor\\\":\\\"#a7b7cc\\\",\\\"fillerColor\\\":\\\"rgba(167,183,204,0.4)\\\",\\\"backgroundColor\\\":\\\"rgba(47,69,84,0)\\\"},\\\"timeAxis\\\":{\\\"axisLine\\\":{\\\"show\\\":true,\\\"lineStyle\\\":{\\\"color\\\":\\\"#333\\\"}},\\\"axisLabel\\\":{\\\"textStyle\\\":{\\\"color\\\":\\\"#333\\\"},\\\"show\\\":true},\\\"splitLine\\\":{\\\"show\\\":true,\\\"lineStyle\\\":{\\\"color\\\":[\\\"#ccc\\\"]}},\\\"splitArea\\\":{\\\"areaStyle\\\":{\\\"color\\\":[\\\"rgba(250,250,250,0.3)\\\",\\\"rgba(200,200,200,0.3)\\\"]},\\\"show\\\":false},\\\"axisTick\\\":{\\\"show\\\":true,\\\"lineStyle\\\":{\\\"color\\\":\\\"#333\\\"}}},\\\"legend\\\":{\\\"textStyle\\\":{\\\"color\\\":\\\"#333333\\\"}}},\\\"yAxis\\\":[{\\\"splitNumber\\\":5,\\\"axisLabel\\\":{\\\"show\\\":true,\\\"interval\\\":\\\"auto\\\",\\\"rotate\\\":0,\\\"inside\\\":false,\\\"formatter\\\":\\\"{value}\\\",\\\"margin\\\":8},\\\"data\\\":[\\\"Monday\\\",\\\"Tuesday\\\",\\\"Wednesday\\\",\\\"Thursday\\\",\\\"Friday\\\",\\\"Saturday\\\",\\\"Sunday\\\"],\\\"scale\\\":false,\\\"gridIndex\\\":0,\\\"minInterval\\\":0,\\\"zlevel\\\":0,\\\"triggerEvent\\\":false,\\\"z\\\":0,\\\"inverse\\\":false,\\\"nameLocation\\\":\\\"middle\\\",\\\"nameGap\\\":30,\\\"silent\\\":true,\\\"type\\\":\\\"category\\\"}],\\\"toolbox\\\":{\\\"feature\\\":{},\\\"orient\\\":\\\"vertical\\\",\\\"itemSize\\\":15,\\\"height\\\":\\\"auto\\\",\\\"zlevel\\\":0,\\\"z\\\":2,\\\"itemGap\\\":20,\\\"right\\\":\\\"auto\\\",\\\"top\\\":\\\"center\\\",\\\"width\\\":\\\"auto\\\",\\\"show\\\":false,\\\"showTitle\\\":true},\\\"ec_width\\\":800,\\\"ec_height\\\":400,\\\"tooltip\\\":{\\\"triggerOn\\\":\\\"mousemove\\\",\\\"enterable\\\":true,\\\"borderColor\\\":\\\"#333\\\",\\\"transitionDuration\\\":0.4,\\\"hideDelay\\\":100,\\\"padding\\\":5,\\\"showDelay\\\":0,\\\"borderWidth\\\":0,\\\"showContent\\\":true,\\\"backgroundColor\\\":\\\"rgba(50,50,50,0.7)\\\",\\\"trigger\\\":\\\"item\\\",\\\"alwaysShowContent\\\":false,\\\"confine\\\":false,\\\"show\\\":true},\\\"grid\\\":[{\\\"height\\\":\\\"auto\\\",\\\"show\\\":false,\\\"width\\\":\\\"auto\\\",\\\"backgroundColor\\\":\\\"transparent\\\"}],\\\"aria\\\":{\\\"show\\\":true},\\\"color\\\":[\\\"lightgray\\\"],\\\"title\\\":[{\\\"left\\\":\\\"left\\\",\\\"borderColor\\\":\\\"transparent\\\",\\\"bottom\\\":\\\"auto\\\",\\\"padding\\\":5,\\\"zlevel\\\":0,\\\"borderWidth\\\":1,\\\"target\\\":\\\"blank\\\",\\\"z\\\":2,\\\"itemGap\\\":5,\\\"shadowOffsetY\\\":0,\\\"shadowOffsetX\\\":0,\\\"right\\\":\\\"auto\\\",\\\"top\\\":\\\"auto\\\",\\\"subtarget\\\":\\\"blank\\\",\\\"show\\\":true}],\\\"ec_renderer\\\":\\\"canvas\\\"}); return window.onresize=(function (){return myChart.resize()})}));\\n    (WebIO.importBlock({\\\"data\\\":[{\\\"name\\\":\\\"echarts\\\",\\\"type\\\":\\\"js\\\",\\\"url\\\":\\\"\\/assetserver\\/f1d6793c792298d474fac6efae738e9d20ff48f2-echarts.min.js\\\"}],\\\"type\\\":\\\"async_block\\\"})).then((imports) => handler.apply(this, imports));\\n}\\n\"],\"observables\":{}},\"children\":[{\"props\":{\"id\":\"myplot\",\"style\":{\"height\":\"400px\",\"width\":\"800px\"}},\"nodeType\":\"DOM\",\"type\":\"node\",\"instanceArgs\":{\"namespace\":\"html\",\"tag\":\"div\"},\"children\":[]}]},\n",
       "        window,\n",
       "    );\n",
       "    })()\n",
       "    </script>\n",
       "</div>\n"
      ],
      "text/plain": [
       "EChart\n",
       "  ec_width: Int64 800\n",
       "  ec_height: Int64 400\n",
       "  ec_renderer: String \"canvas\"\n",
       "  ec_charttype: String \"xy plot\"\n",
       "  theme: Theme\n",
       "  title: Array{Title}((1,))\n",
       "  legend: Nothing nothing\n",
       "  grid: Array{Grid}((1,))\n",
       "  xAxis: Array{Axis}((1,))\n",
       "  yAxis: Array{Axis}((1,))\n",
       "  polar: Nothing nothing\n",
       "  radiusAxis: Nothing nothing\n",
       "  angleAxis: Nothing nothing\n",
       "  radar: Nothing nothing\n",
       "  dataZoom: Nothing nothing\n",
       "  visualMap: Nothing nothing\n",
       "  tooltip: Tooltip\n",
       "  axisPointer: Nothing nothing\n",
       "  toolbox: Toolbox\n",
       "  brush: Nothing nothing\n",
       "  geo: Nothing nothing\n",
       "  parallel: Nothing nothing\n",
       "  parallelAxis: Nothing nothing\n",
       "  singleAxis: Nothing nothing\n",
       "  timeline: Nothing nothing\n",
       "  graphic: Nothing nothing\n",
       "  calendar: Nothing nothing\n",
       "  dataset: Nothing nothing\n",
       "  aria: ECharts.Aria\n",
       "  series: Array{XYSeries}((1,))\n",
       "  color: Array{String}((1,))\n",
       "  backgroundColor: Nothing nothing\n",
       "  textStyle: Nothing nothing\n",
       "  animation: Nothing nothing\n",
       "  animationThreshold: Nothing nothing\n",
       "  animationDuration: Nothing nothing\n",
       "  animationEasing: Nothing nothing\n",
       "  animationDelay: Nothing nothing\n",
       "  animationDurationUpdate: Nothing nothing\n",
       "  animationEasingUpdate: Nothing nothing\n",
       "  animationDelayUpdate: Nothing nothing\n",
       "  progressive: Nothing nothing\n",
       "  progressiveThreshold: Nothing nothing\n",
       "  blendMode: Nothing nothing\n",
       "  hoverLayerThreshold: Nothing nothing\n",
       "  useUTC: Nothing nothing\n"
      ]
     },
     "execution_count": 5,
     "metadata": {},
     "output_type": "execute_result"
    }
   ],
   "source": [
    "x = [\"Monday\",\"Tuesday\",\"Wednesday\",\"Thursday\",\"Friday\",\"Saturday\",\"Sunday\"]\n",
    "y = [11, 11, 15, 13, 12, 13, 10]\n",
    "bch = bar(x, y, color = \"lightgray\", horizontal = true)"
   ]
  },
  {
   "cell_type": "code",
   "execution_count": null,
   "metadata": {},
   "outputs": [],
   "source": []
  }
 ],
 "metadata": {
  "kernelspec": {
   "display_name": "Julia 1.10.3",
   "language": "julia",
   "name": "julia-1.10"
  },
  "language_info": {
   "file_extension": ".jl",
   "mimetype": "application/julia",
   "name": "julia",
   "version": "1.10.3"
  }
 },
 "nbformat": 4,
 "nbformat_minor": 4
}
